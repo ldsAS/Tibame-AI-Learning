{
  "nbformat": 4,
  "nbformat_minor": 0,
  "metadata": {
    "colab": {
      "provenance": [],
      "include_colab_link": true
    },
    "kernelspec": {
      "name": "python3",
      "display_name": "Python 3"
    },
    "language_info": {
      "name": "python"
    }
  },
  "cells": [
    {
      "cell_type": "markdown",
      "metadata": {
        "id": "view-in-github",
        "colab_type": "text"
      },
      "source": [
        "<a href=\"https://colab.research.google.com/github/ldsAS/Tibame-AI-Learning/blob/main/Tibame20250620_BigQuery.ipynb\" target=\"_parent\"><img src=\"https://colab.research.google.com/assets/colab-badge.svg\" alt=\"Open In Colab\"/></a>"
      ]
    },
    {
      "cell_type": "markdown",
      "source": [
        "### Python基本操作\n",
        "\n",
        "參考資料：https://hackmd.io/@OscarTAI/ryJFSbEuR"
      ],
      "metadata": {
        "id": "O9QBzg-RlzXa"
      }
    },
    {
      "cell_type": "code",
      "execution_count": null,
      "metadata": {
        "id": "mNWxIPPuPZTf"
      },
      "outputs": [],
      "source": [
        "!pip install google-cloud-bigquery"
      ]
    },
    {
      "cell_type": "code",
      "source": [
        "import os\n",
        "from google.cloud import bigquery\n",
        "\n",
        "# 設置 Google Cloud 認證\n",
        "os.environ['GOOGLE_APPLICATION_CREDENTIALS']=r\"/content/tibame-gad251-31-0613-c339499c7e0e.json\"\n",
        "\n",
        "\n",
        "# 初始化 BigQuery 客戶端\n",
        "client = bigquery.Client()\n",
        "print('connection done')\n"
      ],
      "metadata": {
        "colab": {
          "base_uri": "https://localhost:8080/"
        },
        "id": "eKuq9GXPRqTi",
        "outputId": "b85643bd-9be5-420a-b494-fcc57e527537"
      },
      "execution_count": 6,
      "outputs": [
        {
          "output_type": "stream",
          "name": "stdout",
          "text": [
            "connection done\n"
          ]
        }
      ]
    },
    {
      "cell_type": "code",
      "source": [
        "#定義變數\n",
        "dataset_id = 'tibame_gad251_31_dataset_py'  # 替換為想要建立的資料集名稱\n",
        "project_id = 'tibame-gad251-31-0613'  # 替換為 Google Cloud 專案 ID\n",
        "table_id = 'age_table'"
      ],
      "metadata": {
        "id": "V-BUyBqVBkCX"
      },
      "execution_count": null,
      "outputs": []
    },
    {
      "cell_type": "code",
      "source": [
        "# 定義資料集參數\n",
        "\n",
        "dataset_ref = client.dataset(dataset_id)\n",
        "\n",
        "\n",
        "# 設定資料集的描述和其他選項\n",
        "dataset = bigquery.Dataset(dataset_ref)\n",
        "dataset.description = 'This is a new dataset created from Python.'\n",
        "dataset.location = 'US'  # 設定資料集的地區位置\n",
        "\n",
        "# 建立資料集\n",
        "dataset = client.create_dataset(dataset, timeout=30)  # 可設定超時時間\n",
        "print(f\"dataset: {dataset.dataset_id} ,created\")\n"
      ],
      "metadata": {
        "id": "2AgzsTY7SlGN"
      },
      "execution_count": null,
      "outputs": []
    },
    {
      "cell_type": "code",
      "source": [
        "# 定義資料集和資料表\n",
        "table_id = 'age_table'\n",
        "schema = [\n",
        "    bigquery.SchemaField(\"name\", \"STRING\"),\n",
        "    bigquery.SchemaField(\"age\", \"INTEGER\"),\n",
        "]\n",
        "\n",
        "# 定義表格參數\n",
        "table_ref = client.dataset(dataset_id).table(table_id)\n",
        "table = bigquery.Table(table_ref, schema=schema)\n",
        "\n",
        "# 建立資料表\n",
        "table = client.create_table(table)\n",
        "print(f\"table: {table.table_id} ,created\")\n"
      ],
      "metadata": {
        "colab": {
          "base_uri": "https://localhost:8080/"
        },
        "id": "BTRKq-ZJT-47",
        "outputId": "b918518b-a4db-4e5d-9e32-71b70bbd8140"
      },
      "execution_count": null,
      "outputs": [
        {
          "output_type": "stream",
          "name": "stdout",
          "text": [
            "table: age_table ,created\n"
          ]
        }
      ]
    },
    {
      "cell_type": "code",
      "source": [
        "# 定義資料集和表資料表名稱\n",
        "#dataset_id = '資料集ID'\n",
        "#table_id = 'age_table'\n",
        "\n",
        "# 定義資料\n",
        "rows_to_insert = [\n",
        "    {\"name\": \"Alice\", \"age\": 25},\n",
        "    {\"name\": \"Bob\", \"age\": 35},\n",
        "    {\"name\":\"Oscar\",\"age\": 29}\n",
        "]\n",
        "\n",
        "# 插入資料\n",
        "errors = client.insert_rows_json(f\"{dataset_id}.{table_id}\", rows_to_insert)\n",
        "\n",
        "if errors == []:\n",
        "    print(\"data insert successfully\")\n",
        "else:\n",
        "    print(f\"error: {errors}\")\n",
        "\n"
      ],
      "metadata": {
        "colab": {
          "base_uri": "https://localhost:8080/"
        },
        "id": "Z0x7jmRpVJGI",
        "outputId": "bac0d3dd-4764-444c-ea18-aa9a317593da"
      },
      "execution_count": null,
      "outputs": [
        {
          "output_type": "stream",
          "name": "stdout",
          "text": [
            "data insert successfully\n"
          ]
        }
      ]
    },
    {
      "cell_type": "code",
      "source": [
        "# 定義查詢語句SQL\n",
        "query = f\"\"\"\n",
        "    SELECT name, age\n",
        "    FROM `{project_id}.{dataset_id}.age_table`\n",
        "\n",
        "\"\"\"\n",
        "\n",
        "# 執行查詢\n",
        "query_job = client.query(query)\n",
        "\n",
        "# 獲取結果\n",
        "results = query_job.result()\n",
        "\n",
        "# 印出結果\n",
        "for row in results:\n",
        "    print(f\"name: {row.name}, age: {row.age}\")\n",
        "\n",
        "print(results)"
      ],
      "metadata": {
        "colab": {
          "base_uri": "https://localhost:8080/"
        },
        "id": "dsxsn43_WSd-",
        "outputId": "f1b53874-a2ef-41dd-d10a-65679a65a008"
      },
      "execution_count": null,
      "outputs": [
        {
          "output_type": "stream",
          "name": "stdout",
          "text": [
            "name: Alice, age: 25\n",
            "name: Bob, age: 35\n",
            "name: Oscar, age: 29\n",
            "<google.cloud.bigquery.table.RowIterator object at 0x7a0148403cd0>\n"
          ]
        }
      ]
    },
    {
      "cell_type": "markdown",
      "source": [
        "#### 建立模型"
      ],
      "metadata": {
        "id": "pRksIA6_n10d"
      }
    },
    {
      "cell_type": "code",
      "source": [
        "# 定義 SQL 查詢以創建模型\n",
        "query = f\"\"\"\n",
        "CREATE OR REPLACE MODEL `{project_id}.{dataset_id}.imported_tf_model`\n",
        "OPTIONS (MODEL_TYPE='TENSORFLOW',\n",
        "         MODEL_PATH='gs://cloud-training-demos/txtclass/export/exporter/1549825580/*')\n",
        "\"\"\"\n",
        "\n",
        "# 執行 SQL 查詢以創建模型\n",
        "query_job = client.query(query)\n",
        "query_job.result()  # 等待查詢完成\n",
        "\n",
        "print(\"TensorFlow model import BigQuery ML\")\n"
      ],
      "metadata": {
        "colab": {
          "base_uri": "https://localhost:8080/"
        },
        "id": "CkBWcVChcO0y",
        "outputId": "de0bd017-524b-424e-840c-fe4f1736594b"
      },
      "execution_count": null,
      "outputs": [
        {
          "output_type": "stream",
          "name": "stdout",
          "text": [
            "TensorFlow model import BigQuery ML\n"
          ]
        }
      ]
    },
    {
      "cell_type": "markdown",
      "source": [
        "#### 使用模型"
      ],
      "metadata": {
        "id": "mYZ_WRjWn6J7"
      }
    },
    {
      "cell_type": "code",
      "source": [
        "# 定義 SQL 查詢以使用模型進行預測，只取五筆非 NULL 的資料\n",
        "query = f\"\"\"\n",
        "SELECT *\n",
        "FROM ML.PREDICT(MODEL `{project_id}.{dataset_id}.imported_tf_model`,\n",
        "  (SELECT title AS input\n",
        "   FROM `bigquery-public-data.hacker_news.full`\n",
        "   WHERE title IS NOT NULL\n",
        "   LIMIT 5)  -- 限制結果為五筆資料\n",
        ")\n",
        "\"\"\"\n",
        "\n",
        "# 執行 SQL 查詢以進行預測\n",
        "query_job = client.query(query)\n",
        "results = query_job.result()  # 等待查詢完成\n",
        "\n",
        "# 印出預測結果\n",
        "for row in results:\n",
        "    print(row)\n"
      ],
      "metadata": {
        "colab": {
          "base_uri": "https://localhost:8080/"
        },
        "id": "LaKVMY0kfadk",
        "outputId": "7d66edf5-1b6c-4020-e05b-600d7368093f"
      },
      "execution_count": null,
      "outputs": [
        {
          "output_type": "stream",
          "name": "stdout",
          "text": [
            "Row(([0.062409449368715286, 0.28719037771224976, 0.6504001617431641], 'Top 7 Market and Product Research Survey Making Tools'), {'dense_1': 0, 'input': 1})\n",
            "Row(([0.9210265874862671, 0.03631364926695824, 0.042659733444452286], 'How Often Should I Redesign My Website?'), {'dense_1': 0, 'input': 1})\n",
            "Row(([0.0011751624988391995, 0.9958990216255188, 0.002925690496340394], 'JSON Parse Result Not Shown on Recyclerview?'), {'dense_1': 0, 'input': 1})\n",
            "Row(([1.0, 9.858796736064285e-23, 1.6511799387627576e-14], 'BackboneJS with normal php server?'), {'dense_1': 0, 'input': 1})\n",
            "Row(([0.9999982118606567, 1.777306871553891e-13, 1.7626597355047124e-06], 'What is new in bootstrap 4?'), {'dense_1': 0, 'input': 1})\n"
          ]
        }
      ]
    },
    {
      "cell_type": "code",
      "source": [
        "# 定義資料集參數\n",
        "dataset_ref = client.dataset(dataset_id)\n",
        "\n",
        "# 刪除資料集\n",
        "client.cr\n",
        "client.delete_dataset(dataset_ref, delete_contents=True)\n",
        "print(f\"dataset: {dataset_id} ,deleted\")"
      ],
      "metadata": {
        "id": "EU7PEWyehbo_"
      },
      "execution_count": null,
      "outputs": []
    },
    {
      "cell_type": "markdown",
      "source": [
        "### 線性回歸企鵝分析"
      ],
      "metadata": {
        "id": "ZoSr-y_clpho"
      }
    },
    {
      "cell_type": "code",
      "source": [
        "us_dataset_id='tibame_gad251_31_dataset_us'#定義US資料集ID\n",
        "eu_dataset_id='tibame_gad251_31_dataset_eu'#定義EU資料集ID"
      ],
      "metadata": {
        "id": "GW_xgBsaoCi1"
      },
      "execution_count": 7,
      "outputs": []
    },
    {
      "cell_type": "markdown",
      "source": [
        "#### 建立線性迴歸模型"
      ],
      "metadata": {
        "id": "SF5OvsDYulSF"
      }
    },
    {
      "cell_type": "code",
      "source": [
        "# 定義 SQL 查詢以創建模型\n",
        "query = f\"\"\"\n",
        "CREATE OR REPLACE MODEL `{us_dataset_id}.penguins_model`\n",
        "OPTIONS\n",
        "  (model_type='linear_reg',\n",
        "  input_label_cols=['body_mass_g']) AS\n",
        "SELECT\n",
        "  *\n",
        "FROM\n",
        "  `bigquery-public-data.ml_datasets.penguins`\n",
        "WHERE\n",
        "  body_mass_g IS NOT NULL;\n",
        "\"\"\"\n",
        "\n",
        "# 執行 SQL 查詢以創建模型\n",
        "query_job = client.query(query)\n",
        "query_job.result()  # 等待查詢完成\n",
        "\n",
        "print(\"線性回歸 model import BigQuery ML\")"
      ],
      "metadata": {
        "colab": {
          "base_uri": "https://localhost:8080/"
        },
        "id": "iRhQhXYGmrKk",
        "outputId": "4ed2828e-cca5-40cf-f271-eaa4c3bc5e34"
      },
      "execution_count": null,
      "outputs": [
        {
          "output_type": "stream",
          "name": "stdout",
          "text": [
            "線性回歸 model import BigQuery ML\n"
          ]
        }
      ]
    },
    {
      "cell_type": "markdown",
      "source": [
        "#### 評估線性回歸模型"
      ],
      "metadata": {
        "id": "IQq6oFw7upwu"
      }
    },
    {
      "cell_type": "code",
      "source": [
        "# 定義 SQL 查詢以使用模型進行評估\n",
        "query = f\"\"\"\n",
        "SELECT\n",
        "  *\n",
        "FROM\n",
        "  ML.EVALUATE(MODEL `{us_dataset_id}.penguins_model`,\n",
        "    (\n",
        "    SELECT\n",
        "      *\n",
        "    FROM\n",
        "      `bigquery-public-data.ml_datasets.penguins`\n",
        "    WHERE\n",
        "      body_mass_g IS NOT NULL));\n",
        "\n",
        "\"\"\"\n",
        "\n",
        "# 執行 SQL 查詢以進行評估\n",
        "query_job = client.query(query)\n",
        "results = query_job.result()  # 等待查詢完成"
      ],
      "metadata": {
        "id": "fSGRcrXIr31P"
      },
      "execution_count": null,
      "outputs": []
    },
    {
      "cell_type": "code",
      "source": [
        "# 取得 BigQuery 回傳的欄位名稱\n",
        "field_names = results.schema\n",
        "\n",
        "# 印出評估結果\n",
        "for row in results:\n",
        "    for field, value in zip(field_names, row):\n",
        "        print(f\"{field.name}: {value}\")"
      ],
      "metadata": {
        "colab": {
          "base_uri": "https://localhost:8080/"
        },
        "id": "jiuIJOeFs_sn",
        "outputId": "ad48f785-5b22-4adc-b0d4-c95909c234bd"
      },
      "execution_count": null,
      "outputs": [
        {
          "output_type": "stream",
          "name": "stdout",
          "text": [
            "mean_absolute_error: 227.0122366744722\n",
            "mean_squared_error: 81838.15989216763\n",
            "mean_squared_log_error: 0.0050704473735013016\n",
            "median_absolute_error: 173.08081641661283\n",
            "r2_score: 0.8723772534253442\n",
            "explained_variance: 0.8723772534253442\n"
          ]
        }
      ]
    },
    {
      "cell_type": "markdown",
      "source": [
        "#### 預測線性回歸模型"
      ],
      "metadata": {
        "id": "Pptj-Cmw7Wbi"
      }
    },
    {
      "cell_type": "code",
      "source": [
        "# 定義 SQL 查詢以使用模型進行預測\n",
        "query = f\"\"\"\n",
        "SELECT\n",
        "  *\n",
        "FROM\n",
        "  ML.PREDICT(MODEL `{us_dataset_id}.penguins_model`,\n",
        "    (\n",
        "    SELECT\n",
        "      *\n",
        "    FROM\n",
        "      `bigquery-public-data.ml_datasets.penguins`\n",
        "    WHERE island = 'Biscoe'));\n",
        "\"\"\"\n",
        "\n",
        "# 執行 SQL 查詢以進行預測\n",
        "query_job = client.query(query)\n",
        "results = query_job.result()  # 等待查詢完成"
      ],
      "metadata": {
        "id": "3gOoAb_BuxfG"
      },
      "execution_count": null,
      "outputs": []
    },
    {
      "cell_type": "code",
      "source": [
        "# 將每筆 row 解成 tuple（row.values() 是一整筆，row[i] 是值）\n",
        "rows_data = [tuple(row.values()) for row in results]\n",
        "\n",
        "# 取得欄位名稱\n",
        "columns = [field.name for field in results.schema]\n",
        "\n",
        "# 建立 DataFrame\n",
        "import pandas as pd\n",
        "df = pd.DataFrame(rows_data, columns=columns)\n",
        "\n",
        "# 顯示前幾筆資料\n",
        "print(df.head())\n"
      ],
      "metadata": {
        "colab": {
          "base_uri": "https://localhost:8080/"
        },
        "id": "rlrIGFBxvbyk",
        "outputId": "4058fdc5-7869-442f-cec6-c4c502887437"
      },
      "execution_count": null,
      "outputs": [
        {
          "output_type": "stream",
          "name": "stdout",
          "text": [
            "   predicted_body_mass_g                              species  island  \\\n",
            "0            4681.782896    Gentoo penguin (Pygoscelis papua)  Biscoe   \n",
            "1            3875.224470  Adelie Penguin (Pygoscelis adeliae)  Biscoe   \n",
            "2            3303.096891  Adelie Penguin (Pygoscelis adeliae)  Biscoe   \n",
            "3            3976.529009  Adelie Penguin (Pygoscelis adeliae)  Biscoe   \n",
            "4            3457.923587  Adelie Penguin (Pygoscelis adeliae)  Biscoe   \n",
            "\n",
            "   culmen_length_mm  culmen_depth_mm  flipper_length_mm  body_mass_g     sex  \n",
            "0               NaN              NaN                NaN          NaN    None  \n",
            "1              39.7             18.9              184.0       3550.0    MALE  \n",
            "2              36.4             17.1              184.0       2850.0  FEMALE  \n",
            "3              41.6             18.0              192.0       3950.0    MALE  \n",
            "4              35.0             17.9              192.0       3725.0  FEMALE  \n"
          ]
        }
      ]
    },
    {
      "cell_type": "markdown",
      "source": [
        "#### 使用預測解釋線性回歸模型"
      ],
      "metadata": {
        "id": "mTay6cQB7dOX"
      }
    },
    {
      "cell_type": "code",
      "source": [
        "# 定義 SQL 查詢以使用模型進行預測解釋\n",
        "query = f\"\"\"\n",
        "SELECT\n",
        "  *\n",
        "FROM\n",
        "  ML.EXPLAIN_PREDICT(MODEL `{us_dataset_id}.penguins_model`,\n",
        "    (\n",
        "    SELECT\n",
        "      *\n",
        "    FROM\n",
        "      `bigquery-public-data.ml_datasets.penguins`\n",
        "    WHERE island = 'Biscoe'),\n",
        "    STRUCT(3 as top_k_features));\n",
        "\"\"\"\n",
        "\n",
        "# 執行 SQL 查詢以進行預測解釋\n",
        "query_job = client.query(query)\n",
        "results = query_job.result()  # 等待查詢完成"
      ],
      "metadata": {
        "id": "AzkLlOHR1FLx"
      },
      "execution_count": null,
      "outputs": []
    },
    {
      "cell_type": "code",
      "source": [
        "# 將每筆 row 解成 tuple（row.values() 是一整筆，row[i] 是值）\n",
        "rows_data = [tuple(row.values()) for row in results]\n",
        "\n",
        "# 取得欄位名稱\n",
        "columns = [field.name for field in results.schema]\n",
        "\n",
        "# 建立 DataFrame\n",
        "import pandas as pd\n",
        "df = pd.DataFrame(rows_data, columns=columns)\n",
        "\n",
        "# 顯示前幾筆資料\n",
        "print(df.head())"
      ],
      "metadata": {
        "colab": {
          "base_uri": "https://localhost:8080/"
        },
        "id": "TKdk7JVs4025",
        "outputId": "a035abdd-fc65-490a-82b6-88fa0b9ff26e"
      },
      "execution_count": null,
      "outputs": [
        {
          "output_type": "stream",
          "name": "stdout",
          "text": [
            "   predicted_body_mass_g                           top_feature_attributions  \\\n",
            "0            4681.782896  [{'feature': 'island', 'attribution': 2483.386...   \n",
            "1            3875.224470  [{'feature': 'island', 'attribution': 2483.386...   \n",
            "2            3303.096891  [{'feature': 'island', 'attribution': 2483.386...   \n",
            "3            3976.529009  [{'feature': 'island', 'attribution': 2483.386...   \n",
            "4            3457.923587  [{'feature': 'island', 'attribution': 2483.386...   \n",
            "\n",
            "   baseline_prediction_value  prediction_value  approximation_error  \\\n",
            "0                 609.307581       4681.782896                  0.0   \n",
            "1                 609.307581       3875.224470                  0.0   \n",
            "2                 609.307581       3303.096891                  0.0   \n",
            "3                 609.307581       3976.529009                  0.0   \n",
            "4                 609.307581       3457.923587                  0.0   \n",
            "\n",
            "                               species  island  culmen_length_mm  \\\n",
            "0    Gentoo penguin (Pygoscelis papua)  Biscoe               NaN   \n",
            "1  Adelie Penguin (Pygoscelis adeliae)  Biscoe              39.7   \n",
            "2  Adelie Penguin (Pygoscelis adeliae)  Biscoe              36.4   \n",
            "3  Adelie Penguin (Pygoscelis adeliae)  Biscoe              41.6   \n",
            "4  Adelie Penguin (Pygoscelis adeliae)  Biscoe              35.0   \n",
            "\n",
            "   culmen_depth_mm  flipper_length_mm  body_mass_g     sex  \n",
            "0              NaN                NaN          NaN    None  \n",
            "1             18.9              184.0       3550.0    MALE  \n",
            "2             17.1              184.0       2850.0  FEMALE  \n",
            "3             18.0              192.0       3950.0    MALE  \n",
            "4             17.9              192.0       3725.0  FEMALE  \n"
          ]
        }
      ]
    },
    {
      "cell_type": "code",
      "source": [
        "df = df[['top_feature_attributions', 'baseline_prediction_value', 'prediction_value']]\n",
        "pd.set_option('display.max_colwidth', None)#取消自動截斷\n",
        "print(df.head())\n"
      ],
      "metadata": {
        "colab": {
          "base_uri": "https://localhost:8080/"
        },
        "id": "tuCsC94i5ZBm",
        "outputId": "66f40e97-89e0-4f95-feed-81e0b19e8c39"
      },
      "execution_count": null,
      "outputs": [
        {
          "output_type": "stream",
          "name": "stdout",
          "text": [
            "                                                                                                                                                       top_feature_attributions  \\\n",
            "0  [{'feature': 'island', 'attribution': 2483.3867091343363}, {'feature': 'species', 'attribution': 1258.2299000338294}, {'feature': 'sex', 'attribution': 330.85870621071217}]   \n",
            "1    [{'feature': 'island', 'attribution': 2483.3867091343363}, {'feature': 'sex', 'attribution': 740.4273092703097}, {'feature': 'species', 'attribution': 271.2537788676088}]   \n",
            "2    [{'feature': 'island', 'attribution': 2483.3867091343363}, {'feature': 'sex', 'attribution': 361.1858329646648}, {'feature': 'species', 'attribution': 271.2537788676088}]   \n",
            "3    [{'feature': 'island', 'attribution': 2483.3867091343363}, {'feature': 'sex', 'attribution': 740.4273092703097}, {'feature': 'species', 'attribution': 271.2537788676088}]   \n",
            "4    [{'feature': 'island', 'attribution': 2483.3867091343363}, {'feature': 'sex', 'attribution': 361.1858329646648}, {'feature': 'species', 'attribution': 271.2537788676088}]   \n",
            "\n",
            "   baseline_prediction_value  prediction_value  \n",
            "0                 609.307581       4681.782896  \n",
            "1                 609.307581       3875.224470  \n",
            "2                 609.307581       3303.096891  \n",
            "3                 609.307581       3976.529009  \n",
            "4                 609.307581       3457.923587  \n"
          ]
        }
      ]
    },
    {
      "cell_type": "code",
      "source": [
        "# 將每列的 attribution 陣列拆開（每個特徵貢獻變一列）\n",
        "df_exploded = df.explode('top_feature_attributions').reset_index(drop=True)\n",
        "\n",
        "# 展開 struct 欄位（如 {'feature': 'island', 'attribution': 2483.38}）\n",
        "attr = pd.json_normalize(df_exploded['top_feature_attributions'])\n",
        "\n",
        "# 合併 baseline、prediction 與 attribution 欄位\n",
        "df_result = pd.concat([\n",
        "    df_exploded[['baseline_prediction_value', 'prediction_value']],\n",
        "    attr\n",
        "], axis=1)\n",
        "\n",
        "# 顯示結果\n",
        "print(df_result.head(10))\n"
      ],
      "metadata": {
        "colab": {
          "base_uri": "https://localhost:8080/"
        },
        "id": "kYOEkHVj5t9s",
        "outputId": "9b89d5d0-fdfb-4bf4-dfac-2bbf2a214318"
      },
      "execution_count": null,
      "outputs": [
        {
          "output_type": "stream",
          "name": "stdout",
          "text": [
            "   baseline_prediction_value  prediction_value  feature  attribution\n",
            "0                 609.307581       4681.782896   island  2483.386709\n",
            "1                 609.307581       4681.782896  species  1258.229900\n",
            "2                 609.307581       4681.782896      sex   330.858706\n",
            "3                 609.307581       3875.224470   island  2483.386709\n",
            "4                 609.307581       3875.224470      sex   740.427309\n",
            "5                 609.307581       3875.224470  species   271.253779\n",
            "6                 609.307581       3303.096891   island  2483.386709\n",
            "7                 609.307581       3303.096891      sex   361.185833\n",
            "8                 609.307581       3303.096891  species   271.253779\n",
            "9                 609.307581       3976.529009   island  2483.386709\n"
          ]
        }
      ]
    },
    {
      "cell_type": "markdown",
      "source": [
        "#### 重新訓練可全局解釋線性回歸模型"
      ],
      "metadata": {
        "id": "dCGoSblO7jCS"
      }
    },
    {
      "cell_type": "code",
      "source": [
        "# 定義 SQL 查詢以重新訓練可全局解釋模型\n",
        "query = f\"\"\"\n",
        "CREATE OR REPLACE MODEL `{us_dataset_id}.penguins_model`\n",
        "  OPTIONS (\n",
        "    model_type = 'linear_reg',\n",
        "    input_label_cols = ['body_mass_g'],\n",
        "    enable_global_explain = TRUE)\n",
        "AS\n",
        "SELECT\n",
        "  *\n",
        "FROM\n",
        "  `bigquery-public-data.ml_datasets.penguins`\n",
        "WHERE\n",
        "  body_mass_g IS NOT NULL;\n",
        "\n",
        "\"\"\"\n",
        "\n",
        "# 執行 SQL 查詢以進行預測\n",
        "query_job = client.query(query)\n",
        "results = query_job.result()  # 等待查詢完成\n",
        "print('已建立全局解釋線性回歸模型')"
      ],
      "metadata": {
        "colab": {
          "base_uri": "https://localhost:8080/"
        },
        "id": "pCbwLabl7qrE",
        "outputId": "f60e96da-8997-420b-def5-9ad12350f7cd"
      },
      "execution_count": null,
      "outputs": [
        {
          "output_type": "stream",
          "name": "stdout",
          "text": [
            "已建立全局解釋線性回歸模型\n"
          ]
        }
      ]
    },
    {
      "cell_type": "markdown",
      "source": [
        "#### 執行全局解釋"
      ],
      "metadata": {
        "id": "_x3I6DBu7rAd"
      }
    },
    {
      "cell_type": "code",
      "source": [
        "# 定義 SQL 查詢以使用模型進行預測\n",
        "query = f\"\"\"\n",
        "SELECT\n",
        "  *\n",
        "FROM\n",
        "  ML.GLOBAL_EXPLAIN(MODEL `{us_dataset_id}.penguins_model`);\n",
        "\"\"\"\n",
        "\n",
        "# 執行 SQL 查詢以進行預測\n",
        "query_job = client.query(query)\n",
        "results = query_job.result()  # 等待查詢完成"
      ],
      "metadata": {
        "id": "BQTtpRGa8tzL"
      },
      "execution_count": 3,
      "outputs": []
    },
    {
      "cell_type": "code",
      "source": [
        "# 將每筆 row 解成 tuple（row.values() 是一整筆，row[i] 是值）\n",
        "rows_data = [tuple(row.values()) for row in results]\n",
        "\n",
        "# 取得欄位名稱\n",
        "columns = [field.name for field in results.schema]\n",
        "\n",
        "# 建立 DataFrame\n",
        "import pandas as pd\n",
        "df = pd.DataFrame(rows_data, columns=columns)\n",
        "\n",
        "# 顯示前幾筆資料\n",
        "print(df.head())"
      ],
      "metadata": {
        "id": "vdd9nYtX89uL",
        "outputId": "f33caa53-2a10-4cc9-846d-efae15f32bb2",
        "colab": {
          "base_uri": "https://localhost:8080/"
        }
      },
      "execution_count": 5,
      "outputs": [
        {
          "output_type": "stream",
          "name": "stdout",
          "text": [
            "             feature   attribution\n",
            "0             island  14725.672885\n",
            "1                sex   5305.149684\n",
            "2            species    816.564124\n",
            "3  flipper_length_mm    193.612051\n",
            "4    culmen_depth_mm    117.084944\n"
          ]
        }
      ]
    },
    {
      "cell_type": "markdown",
      "source": [
        "### 分類模型人口普查分析"
      ],
      "metadata": {
        "id": "KLj3tRDX1ube"
      }
    },
    {
      "cell_type": "markdown",
      "source": [
        "#### 準本樣本資料"
      ],
      "metadata": {
        "id": "MkdYSVh99mkU"
      }
    },
    {
      "cell_type": "code",
      "source": [
        "# 定義 SQL 查詢以準備樣本資料檢視表\n",
        "query = f\"\"\"\n",
        "CREATE OR REPLACE VIEW\n",
        "`{us_dataset_id}.input_data` AS\n",
        "SELECT\n",
        "  age,\n",
        "  workclass,\n",
        "  marital_status,\n",
        "  education_num,\n",
        "  occupation,\n",
        "  hours_per_week,\n",
        "  income_bracket,\n",
        "  CASE\n",
        "    WHEN MOD(functional_weight, 10) < 8 THEN 'training'\n",
        "    WHEN MOD(functional_weight, 10) = 8 THEN 'evaluation'\n",
        "    WHEN MOD(functional_weight, 10) = 9 THEN 'prediction'\n",
        "  END AS dataframe\n",
        "FROM\n",
        "  `bigquery-public-data.ml_datasets.census_adult_income`\n",
        "\n",
        "\"\"\"\n",
        "\n",
        "# 執行 SQL 查詢以進行預測\n",
        "query_job = client.query(query)\n",
        "results = query_job.result()  # 等待查詢完成"
      ],
      "metadata": {
        "id": "zTsYzW1F9qVd"
      },
      "execution_count": 8,
      "outputs": []
    },
    {
      "cell_type": "markdown",
      "source": [
        "#### 建立分類模型"
      ],
      "metadata": {
        "id": "KAngeB7312KR"
      }
    },
    {
      "cell_type": "code",
      "source": [
        "# 定義 SQL 查詢以建立模型並送入檢視表的訓練資料\n",
        "query = f\"\"\"\n",
        "CREATE OR REPLACE MODEL\n",
        "`{us_dataset_id}.census_model`\n",
        "OPTIONS\n",
        "  ( model_type='LOGISTIC_REG',\n",
        "    auto_class_weights=TRUE,\n",
        "    data_split_method='NO_SPLIT',\n",
        "    input_label_cols=['income_bracket'],\n",
        "    max_iterations=15) AS\n",
        "SELECT * EXCEPT(dataframe)\n",
        "FROM\n",
        "  `{us_dataset_id}.input_data`\n",
        "WHERE\n",
        "  dataframe = 'training'\n",
        "\n",
        "\"\"\"\n",
        "\n",
        "# 執行 SQL 查詢以進行預測\n",
        "query_job = client.query(query)\n",
        "results = query_job.result()  # 等待查詢完成"
      ],
      "metadata": {
        "id": "2EEOV-NN10Oy"
      },
      "execution_count": 9,
      "outputs": []
    },
    {
      "cell_type": "markdown",
      "source": [
        "#### 利用評估資料模型評估"
      ],
      "metadata": {
        "id": "czGkFAGlIXxM"
      }
    },
    {
      "cell_type": "code",
      "source": [
        "# 定義 SQL 查詢以使用模型進行預測\n",
        "query = f\"\"\"\n",
        "SELECT\n",
        "  *\n",
        "FROM\n",
        "  ML.EVALUATE (MODEL `{us_dataset_id}.census_model`,\n",
        "    (\n",
        "    SELECT\n",
        "      age,\n",
        "      workclass,\n",
        "      marital_status,\n",
        "      education_num,\n",
        "      occupation,\n",
        "      hours_per_week,\n",
        "      income_bracket,\n",
        "    FROM\n",
        "      `{us_dataset_id}.input_data`\n",
        "    WHERE\n",
        "      dataframe = 'evaluation'\n",
        "    )\n",
        "  )\n",
        "\"\"\"\n",
        "\n",
        "# 執行 SQL 查詢以進行預測\n",
        "query_job = client.query(query)\n",
        "results = query_job.result()  # 等待查詢完成"
      ],
      "metadata": {
        "id": "XqZLLnwdIUtd"
      },
      "execution_count": 10,
      "outputs": []
    },
    {
      "cell_type": "code",
      "source": [
        "# 將每筆 row 解成 tuple（row.values() 是一整筆，row[i] 是值）\n",
        "rows_data = [tuple(row.values()) for row in results]\n",
        "\n",
        "# 取得欄位名稱\n",
        "columns = [field.name for field in results.schema]\n",
        "\n",
        "# 建立 DataFrame\n",
        "import pandas as pd\n",
        "df = pd.DataFrame(rows_data, columns=columns)\n",
        "\n",
        "# 顯示前幾筆資料\n",
        "print(df.head())"
      ],
      "metadata": {
        "colab": {
          "base_uri": "https://localhost:8080/"
        },
        "id": "0wkSUwW_IfUv",
        "outputId": "ea5b0b9d-5b2f-4bfa-a21a-fe697b834f11"
      },
      "execution_count": 11,
      "outputs": [
        {
          "output_type": "stream",
          "name": "stdout",
          "text": [
            "   precision    recall  accuracy  f1_score  log_loss   roc_auc\n",
            "0   0.574055  0.763587  0.816801  0.655394  0.394407  0.882743\n"
          ]
        }
      ]
    },
    {
      "cell_type": "markdown",
      "source": [
        "#### 利用預測資料進行模型預測"
      ],
      "metadata": {
        "id": "M-BNXlUXPf03"
      }
    },
    {
      "cell_type": "code",
      "source": [
        "# 使用ML.PREDICT函數預測特定受訪者的收入範圍\n",
        "query = f\"\"\"\n",
        "SELECT\n",
        "  *\n",
        "FROM\n",
        "  ML.PREDICT (MODEL `{us_dataset_id}.census_model`,\n",
        "    (\n",
        "    SELECT\n",
        "      age,\n",
        "      workclass,\n",
        "      marital_status,\n",
        "      education_num,\n",
        "      occupation,\n",
        "      hours_per_week,\n",
        "      income_bracket,\n",
        "    FROM\n",
        "      `{us_dataset_id}.input_data`\n",
        "    WHERE\n",
        "      dataframe = 'prediction'\n",
        "    )\n",
        "  )\n",
        "\"\"\"\n",
        "\n",
        "# 執行 SQL 查詢以進行預測\n",
        "query_job = client.query(query)\n",
        "results = query_job.result()  # 等待查詢完成"
      ],
      "metadata": {
        "id": "fw-sbDovIV2a"
      },
      "execution_count": 12,
      "outputs": []
    },
    {
      "cell_type": "code",
      "source": [
        "# 將每筆 row 解成 tuple（row.values() 是一整筆，row[i] 是值）\n",
        "rows_data = [tuple(row.values()) for row in results]\n",
        "\n",
        "# 取得欄位名稱\n",
        "columns = [field.name for field in results.schema]\n",
        "\n",
        "# 建立 DataFrame\n",
        "import pandas as pd\n",
        "df = pd.DataFrame(rows_data, columns=columns)\n",
        "\n",
        "# 顯示前幾筆資料\n",
        "print(df.head())"
      ],
      "metadata": {
        "colab": {
          "base_uri": "https://localhost:8080/"
        },
        "id": "xQh2R-pBK0uJ",
        "outputId": "b3b676f0-8459-45c2-d316-c52c88a76b01"
      },
      "execution_count": 13,
      "outputs": [
        {
          "output_type": "stream",
          "name": "stdout",
          "text": [
            "  predicted_income_bracket                     predicted_income_bracket_probs  \\\n",
            "0                    <=50K  [{'label': ' >50K', 'prob': 0.1147954679143910...   \n",
            "1                    <=50K  [{'label': ' >50K', 'prob': 0.1071632184174308...   \n",
            "2                    <=50K  [{'label': ' >50K', 'prob': 0.2839871714483840...   \n",
            "3                    <=50K  [{'label': ' >50K', 'prob': 0.2318287733959611...   \n",
            "4                    <=50K  [{'label': ' >50K', 'prob': 0.1096615166295337...   \n",
            "\n",
            "   age   workclass       marital_status  education_num      occupation  \\\n",
            "0   52   Local-gov   Married-civ-spouse              5   Other-service   \n",
            "1   75           ?   Married-civ-spouse              5               ?   \n",
            "2   74           ?   Married-civ-spouse              5               ?   \n",
            "3   66           ?   Married-civ-spouse              5               ?   \n",
            "4   45     Private   Married-civ-spouse              5   Other-service   \n",
            "\n",
            "   hours_per_week income_bracket  \n",
            "0              40          <=50K  \n",
            "1               5          <=50K  \n",
            "2              40          <=50K  \n",
            "3              40          <=50K  \n",
            "4              40           >50K  \n"
          ]
        }
      ]
    },
    {
      "cell_type": "code",
      "source": [
        "pd.set_option('display.max_colwidth', None) #取消自動截斷\n",
        "# 顯示前幾筆資料\n",
        "print(df.head())"
      ],
      "metadata": {
        "colab": {
          "base_uri": "https://localhost:8080/"
        },
        "id": "YY9hv0GDLD0V",
        "outputId": "f3371b81-2c92-483f-de53-086c30592931"
      },
      "execution_count": 14,
      "outputs": [
        {
          "output_type": "stream",
          "name": "stdout",
          "text": [
            "  predicted_income_bracket  \\\n",
            "0                    <=50K   \n",
            "1                    <=50K   \n",
            "2                    <=50K   \n",
            "3                    <=50K   \n",
            "4                    <=50K   \n",
            "\n",
            "                                                                       predicted_income_bracket_probs  \\\n",
            "0  [{'label': ' >50K', 'prob': 0.11479546791439109}, {'label': ' <=50K', 'prob': 0.8852045320856089}]   \n",
            "1  [{'label': ' >50K', 'prob': 0.10716321841743089}, {'label': ' <=50K', 'prob': 0.8928367815825691}]   \n",
            "2   [{'label': ' >50K', 'prob': 0.28398717144838403}, {'label': ' <=50K', 'prob': 0.716012828551616}]   \n",
            "3   [{'label': ' >50K', 'prob': 0.2318287733959611}, {'label': ' <=50K', 'prob': 0.7681712266040389}]   \n",
            "4  [{'label': ' >50K', 'prob': 0.10966151662953375}, {'label': ' <=50K', 'prob': 0.8903384833704663}]   \n",
            "\n",
            "   age   workclass       marital_status  education_num      occupation  \\\n",
            "0   52   Local-gov   Married-civ-spouse              5   Other-service   \n",
            "1   75           ?   Married-civ-spouse              5               ?   \n",
            "2   74           ?   Married-civ-spouse              5               ?   \n",
            "3   66           ?   Married-civ-spouse              5               ?   \n",
            "4   45     Private   Married-civ-spouse              5   Other-service   \n",
            "\n",
            "   hours_per_week income_bracket  \n",
            "0              40          <=50K  \n",
            "1               5          <=50K  \n",
            "2              40          <=50K  \n",
            "3              40          <=50K  \n",
            "4              40           >50K  \n"
          ]
        }
      ]
    },
    {
      "cell_type": "markdown",
      "source": [
        "#### 解釋預測結果"
      ],
      "metadata": {
        "id": "VKjFxc5nTH6W"
      }
    },
    {
      "cell_type": "code",
      "source": [
        "# 定義 SQL 查詢以使用模型進行預測\n",
        "query = f\"\"\"\n",
        "SELECT\n",
        "  *\n",
        "FROM\n",
        "  ML.EXPLAIN_PREDICT(MODEL `{us_dataset_id}.census_model`,\n",
        "    (\n",
        "    SELECT\n",
        "      age,\n",
        "      workclass,\n",
        "      marital_status,\n",
        "      education_num,\n",
        "      occupation,\n",
        "      hours_per_week,\n",
        "      income_bracket,\n",
        "    FROM\n",
        "      `{us_dataset_id}.input_data`\n",
        "    WHERE\n",
        "      dataframe = 'prediction'),\n",
        "    STRUCT(3 as top_k_features))\n",
        "\n",
        "\"\"\"\n",
        "\n",
        "# 執行 SQL 查詢以進行預測\n",
        "query_job = client.query(query)\n",
        "results = query_job.result()  # 等待查詢完成"
      ],
      "metadata": {
        "id": "BEMfAGyHMSST"
      },
      "execution_count": 15,
      "outputs": []
    },
    {
      "cell_type": "code",
      "source": [
        "# 將每筆 row 解成 tuple（row.values() 是一整筆，row[i] 是值）\n",
        "rows_data = [tuple(row.values()) for row in results]\n",
        "\n",
        "# 取得欄位名稱\n",
        "columns = [field.name for field in results.schema]\n",
        "\n",
        "# 建立 DataFrame\n",
        "import pandas as pd\n",
        "df = pd.DataFrame(rows_data, columns=columns)\n",
        "pd.set_option('display.max_colwidth', None) #取消自動截斷\n",
        "# 顯示前幾筆資料\n",
        "print(df.head())"
      ],
      "metadata": {
        "colab": {
          "base_uri": "https://localhost:8080/"
        },
        "id": "hV6ABgmnNC4o",
        "outputId": "7ac81d00-2cc4-4ee6-fb63-a6d4114e4589"
      },
      "execution_count": 16,
      "outputs": [
        {
          "output_type": "stream",
          "name": "stdout",
          "text": [
            "  predicted_income_bracket  probability  \\\n",
            "0                    <=50K     0.885205   \n",
            "1                    <=50K     0.892837   \n",
            "2                    <=50K     0.716013   \n",
            "3                    <=50K     0.768171   \n",
            "4                    <=50K     0.890338   \n",
            "\n",
            "                                                                                                                                                                             top_feature_attributions  \\\n",
            "0  [{'feature': 'education_num', 'attribution': -1.5192713075870252}, {'feature': 'occupation', 'attribution': -1.1894058413766737}, {'feature': 'marital_status', 'attribution': 0.954697173569993}]   \n",
            "1         [{'feature': 'education_num', 'attribution': -1.5192713075870252}, {'feature': 'hours_per_week', 'attribution': -1.2457165769417757}, {'feature': 'age', 'attribution': 1.244208014372101}]   \n",
            "2           [{'feature': 'education_num', 'attribution': -1.5192713075870252}, {'feature': 'age', 'attribution': 1.210052440803534}, {'feature': 'marital_status', 'attribution': 0.954697173569993}]   \n",
            "3          [{'feature': 'education_num', 'attribution': -1.5192713075870252}, {'feature': 'marital_status', 'attribution': 0.954697173569993}, {'feature': 'age', 'attribution': 0.9368078522549963}]   \n",
            "4  [{'feature': 'education_num', 'attribution': -1.5192713075870252}, {'feature': 'occupation', 'attribution': -1.1894058413766737}, {'feature': 'marital_status', 'attribution': 0.954697173569993}]   \n",
            "\n",
            "   baseline_prediction_value  prediction_value  approximation_error  age  \\\n",
            "0                  -0.299537         -2.042667                  0.0   52   \n",
            "1                  -0.299537         -2.120051                  0.0   75   \n",
            "2                  -0.299537         -0.924769                  0.0   74   \n",
            "3                  -0.299537         -1.198014                  0.0   66   \n",
            "4                  -0.299537         -2.094203                  0.0   45   \n",
            "\n",
            "    workclass       marital_status  education_num      occupation  \\\n",
            "0   Local-gov   Married-civ-spouse              5   Other-service   \n",
            "1           ?   Married-civ-spouse              5               ?   \n",
            "2           ?   Married-civ-spouse              5               ?   \n",
            "3           ?   Married-civ-spouse              5               ?   \n",
            "4     Private   Married-civ-spouse              5   Other-service   \n",
            "\n",
            "   hours_per_week income_bracket  \n",
            "0              40          <=50K  \n",
            "1               5          <=50K  \n",
            "2              40          <=50K  \n",
            "3              40          <=50K  \n",
            "4              40           >50K  \n"
          ]
        }
      ]
    },
    {
      "cell_type": "markdown",
      "source": [
        "#### 重新訓練可以全局解釋的模型"
      ],
      "metadata": {
        "id": "x-qc4j5xNO1s"
      }
    },
    {
      "cell_type": "code",
      "source": [
        "# 定義 SQL 查詢以建立模型並送入檢視表的訓練資料\n",
        "query = f\"\"\"\n",
        "CREATE OR REPLACE MODEL\n",
        "`{us_dataset_id}.census_model`\n",
        "OPTIONS\n",
        "  ( model_type='LOGISTIC_REG',\n",
        "    auto_class_weights=TRUE,\n",
        "    data_split_method='NO_SPLIT',\n",
        "    enable_global_explain=TRUE,\n",
        "    input_label_cols=['income_bracket'],\n",
        "    max_iterations=15) AS\n",
        "SELECT * EXCEPT(dataframe)\n",
        "FROM\n",
        "  `{us_dataset_id}.input_data`\n",
        "WHERE\n",
        "  dataframe = 'training'\n",
        "\"\"\"\n",
        "\n",
        "# 執行 SQL 查詢\n",
        "query_job = client.query(query)\n",
        "results = query_job.result()  # 等待查詢完成"
      ],
      "metadata": {
        "id": "W5PYKHKYNJ68"
      },
      "execution_count": 17,
      "outputs": []
    },
    {
      "cell_type": "code",
      "source": [
        "# 定義 SQL 查詢以使用模型進行預測\n",
        "query = f\"\"\"\n",
        "SELECT\n",
        "  *\n",
        "FROM\n",
        "  ML.GLOBAL_EXPLAIN(MODEL `{us_dataset_id}.census_model`);\n",
        "\"\"\"\n",
        "\n",
        "# 執行 SQL 查詢以進行預測\n",
        "query_job = client.query(query)\n",
        "results = query_job.result()  # 等待查詢完成"
      ],
      "metadata": {
        "id": "lQ7DdEtvOLVX"
      },
      "execution_count": 19,
      "outputs": []
    },
    {
      "cell_type": "code",
      "source": [
        "# 將每筆 row 解成 tuple（row.values() 是一整筆，row[i] 是值）\n",
        "rows_data = [tuple(row.values()) for row in results]\n",
        "\n",
        "# 取得欄位名稱\n",
        "columns = [field.name for field in results.schema]\n",
        "\n",
        "# 建立 DataFrame\n",
        "import pandas as pd\n",
        "df = pd.DataFrame(rows_data, columns=columns)\n",
        "\n",
        "#取消自動截斷\n",
        "pd.set_option('display.max_colwidth', None)\n",
        "# 顯示前幾筆資料\n",
        "print(df.head())"
      ],
      "metadata": {
        "colab": {
          "base_uri": "https://localhost:8080/"
        },
        "id": "qafSiO_bOipj",
        "outputId": "3b7def3d-63f2-4e8b-bada-9c93e9243cec"
      },
      "execution_count": 20,
      "outputs": [
        {
          "output_type": "stream",
          "name": "stdout",
          "text": [
            "          feature  attribution\n",
            "0  marital_status     1.178824\n",
            "1   education_num     0.569518\n",
            "2      occupation     0.520015\n",
            "3             age     0.381932\n",
            "4       workclass     0.310469\n"
          ]
        }
      ]
    },
    {
      "cell_type": "code",
      "source": [],
      "metadata": {
        "id": "zVMQ0aDDWLyP"
      },
      "execution_count": null,
      "outputs": []
    }
  ]
}