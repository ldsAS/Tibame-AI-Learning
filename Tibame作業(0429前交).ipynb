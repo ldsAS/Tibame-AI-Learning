{
  "nbformat": 4,
  "nbformat_minor": 0,
  "metadata": {
    "colab": {
      "provenance": [],
      "authorship_tag": "ABX9TyOND2Rl5U1sK+6PdbE4xZt1",
      "include_colab_link": true
    },
    "kernelspec": {
      "name": "python3",
      "display_name": "Python 3"
    },
    "language_info": {
      "name": "python"
    }
  },
  "cells": [
    {
      "cell_type": "markdown",
      "metadata": {
        "id": "view-in-github",
        "colab_type": "text"
      },
      "source": [
        "<a href=\"https://colab.research.google.com/github/ldsAS/Tibame-AI-Learning/blob/main/Tibame%E4%BD%9C%E6%A5%AD(0429%E5%89%8D%E4%BA%A4).ipynb\" target=\"_parent\"><img src=\"https://colab.research.google.com/assets/colab-badge.svg\" alt=\"Open In Colab\"/></a>"
      ]
    },
    {
      "cell_type": "markdown",
      "source": [
        "```\n",
        "作業：(0429前交)\n",
        "講師範例說明：\n",
        "https://github.com/Elwing-Chou/tibame0410/blob/1f85e4297062fc1aba0c74fe2092b9c2ba02743a/tibame_HW1.ipynb\n",
        "```"
      ],
      "metadata": {
        "id": "-OMan5i2Zmfm"
      }
    },
    {
      "cell_type": "code",
      "source": [
        "作業連結：\n",
        "https://colab.research.google.com/drive/1_fUUsCXVAU62QPcia-6VZ7onMKsXpVIS#scrollTo=AEvNW_y51XMt&line=1&uniqifier=1\n"
      ],
      "metadata": {
        "id": "G-GM_IgSLyL9"
      },
      "execution_count": null,
      "outputs": []
    }
  ]
}