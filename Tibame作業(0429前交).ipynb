{
  "nbformat": 4,
  "nbformat_minor": 0,
  "metadata": {
    "colab": {
      "provenance": [],
      "authorship_tag": "ABX9TyO40cAshFnWRYLj734X2UXM",
      "include_colab_link": true
    },
    "kernelspec": {
      "name": "python3",
      "display_name": "Python 3"
    },
    "language_info": {
      "name": "python"
    }
  },
  "cells": [
    {
      "cell_type": "markdown",
      "metadata": {
        "id": "view-in-github",
        "colab_type": "text"
      },
      "source": [
        "<a href=\"https://colab.research.google.com/github/ldsAS/Tibame-AI-Learning/blob/main/Tibame%E4%BD%9C%E6%A5%AD(0429%E5%89%8D%E4%BA%A4).ipynb\" target=\"_parent\"><img src=\"https://colab.research.google.com/assets/colab-badge.svg\" alt=\"Open In Colab\"/></a>"
      ]
    },
    {
      "cell_type": "markdown",
      "source": [
        "作業：(0429前交)\n",
        "https://github.com/Elwing-Chou/tibame0410/blob/1f85e4297062fc1aba0c74fe2092b9c2ba02743a/tibame_HW1.ipynb"
      ],
      "metadata": {
        "id": "-OMan5i2Zmfm"
      }
    },
    {
      "cell_type": "code",
      "execution_count": null,
      "metadata": {
        "id": "x08BpE4jwxJ2"
      },
      "outputs": [],
      "source": [
        "# 100層階梯有幾種走法\n",
        "result = [a, b]\n",
        "a = 0\n",
        "b = 0\n",
        "n = 4\n",
        "while"
      ]
    },
    {
      "cell_type": "code",
      "source": [
        "# 密碼學\n",
        "# 凱薩密碼\n"
      ],
      "metadata": {
        "id": "S0vOd76ICdCZ"
      },
      "execution_count": null,
      "outputs": []
    },
    {
      "cell_type": "markdown",
      "source": [
        "```\n",
        "1. 凱薩密碼：\n",
        "password = 2\n",
        "apple -> crrngb\n",
        "\n",
        "1. 維吉尼亞密碼\n",
        "a b c d ... z\n",
        "f g i x   a\n",
        "26 * 25 * 24 ... 1 = 26!\n",
        "無法暴力破解，所以要利用語言的特性\n",
        "1. 利用特殊字(biword)\n",
        "2. 利字母頻率\n",
        "3. Enigma\n",
        "a b c d ... z\n",
        "打亂1\n",
        "打亂2\n",
        "打亂3\n",
        "打亂4\n",
        "打亂5\n",
        "\n",
        "applez\n",
        "123451\n",
        "\n",
        "Alan Turing\n",
        "```"
      ],
      "metadata": {
        "id": "QjDGPwIZC0v9"
      }
    },
    {
      "cell_type": "code",
      "source": [
        "#"
      ],
      "metadata": {
        "id": "WJyb2OL8C-X5"
      },
      "execution_count": null,
      "outputs": []
    },
    {
      "cell_type": "code",
      "source": [],
      "metadata": {
        "id": "UGBdGfuAZ8DG"
      },
      "execution_count": null,
      "outputs": []
    }
  ]
}