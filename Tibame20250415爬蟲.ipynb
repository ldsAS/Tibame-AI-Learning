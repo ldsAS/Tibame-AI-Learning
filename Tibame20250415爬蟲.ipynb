{
  "nbformat": 4,
  "nbformat_minor": 0,
  "metadata": {
    "colab": {
      "provenance": [],
      "authorship_tag": "ABX9TyO5X2yfLs021EDQYpD8QgnK",
      "include_colab_link": true
    },
    "kernelspec": {
      "name": "python3",
      "display_name": "Python 3"
    },
    "language_info": {
      "name": "python"
    }
  },
  "cells": [
    {
      "cell_type": "markdown",
      "metadata": {
        "id": "view-in-github",
        "colab_type": "text"
      },
      "source": [
        "<a href=\"https://colab.research.google.com/github/ldsAS/Tibame-AI-Learning/blob/main/Tibame20250415%E7%88%AC%E8%9F%B2.ipynb\" target=\"_parent\"><img src=\"https://colab.research.google.com/assets/colab-badge.svg\" alt=\"Open In Colab\"/></a>"
      ]
    },
    {
      "cell_type": "markdown",
      "source": [
        "```\n",
        "網頁任意處右鍵>>檢視網頁原始碼\n",
        "\n",
        ">>F12(若叫不出多按Fn鍵可叫出)\n",
        "```"
      ],
      "metadata": {
        "id": "I0t0cVaMHN45"
      }
    },
    {
      "cell_type": "markdown",
      "source": [
        "WIN: -headers \"Origin: https://ani.gamer.com.tw\" -i \"\" anime.mp4\n",
        "\n",
        "MAC: -headers 'Origin: https://ani.gamer.com.tw' -i '' anime.mp4\n",
        "\n",
        "ffmpeg(用拉的) 複製並且把-i後面的\"\"填入m3u8"
      ],
      "metadata": {
        "id": "3LfjyR0JRqwS"
      }
    },
    {
      "cell_type": "markdown",
      "source": [
        "```\n",
        "cmd >> 終端\n",
        "cd至該資料夾\n",
        "把ffmpeg拖至終端\n",
        "把影片網址加進上方指令 \"\" 中，再貼至終端，即可下載\n",
        "```"
      ],
      "metadata": {
        "id": "xm8VvBfQU9ls"
      }
    },
    {
      "cell_type": "code",
      "source": [
        "C:\\Users\\TMP-214\\Desktop\\吉伊卡哇>C:\\Users\\TMP-214\\Downloads\\ffmpeg-7.1.1-essentials_build\\ffmpeg-7.1.1-essentials_build\\bin\\ffmpeg.exe\n",
        "\n",
        "-headers \"Origin: https://ani.gamer.com.tw\" -i \"https://bahamut.akamaized.net/113448d622788e8a4ee3fe459387b2eab9bb86a1/360p/hdntl=exp=1744785624~acl=%2f113448d622788e8a4ee3fe459387b2eab9bb86a1%2fplaylist_guest.m3u8!%2f113448d622788e8a4ee3fe459387b2eab9bb86a1%2f360p%2f*~data=hdntl,5d5f0fa9a488cd6%3a36632%3a0%3a1%3a52525229%3a0~hmac=d796200274973ec8b05aef8980c4e48a3deb78b53a87617bf73fe258fcfc31a4/chunklist_b400000.m3u8\" anime.mp4"
      ],
      "metadata": {
        "id": "emSptwVoSvbW"
      },
      "execution_count": null,
      "outputs": []
    },
    {
      "cell_type": "markdown",
      "source": [
        "```\n",
        "open python\n",
        "\n",
        "常用---\n",
        "'r' 讀取（預設）\n",
        "'w' 寫入，會先清除檔案內容\n",
        "---\n",
        "\n",
        "其他---\n",
        "'x' 唯一性建立，如果文件已存在則會失敗\n",
        "'a' 寫入，如果檔案存在則在其末端附加內容\n",
        "'b' 二進制模式\n",
        "'t' 文字模式（預設）\n",
        "'+' 更新（讀取並寫入）\n",
        "---\n",
        "```"
      ],
      "metadata": {
        "id": "M5x7KkQwZumN"
      }
    },
    {
      "cell_type": "markdown",
      "source": [
        "```\n",
        "編碼：我 -> 0101010\n",
        "解碼：01110 -> 我\n",
        "\n",
        "* 現在只有一套：萬國碼(Unicode): utf-8\n",
        "```\n",
        "PS win預設編碼：ANSI 繁體(BIG-5)"
      ],
      "metadata": {
        "id": "jsbFr9X4a6Y4"
      }
    },
    {
      "cell_type": "code",
      "source": [
        "from os import write\n",
        "f = open(\"a.txt\", \"w\", encoding=\"utf-8\")\n",
        "# 以前: write(f, \"abcde\")\n",
        "# 專屬(型態)功能：f.write(\"abcde\")\n",
        "# 特殊字元(換行/TAB/backspace)\n",
        "# \\(跳脫字元)字母\n",
        "# \\n: 換行 \\t: TAB\n",
        "write(\"abcde\\n\")\n",
        "write(\"12345\\n\")\n",
        "# 以前：close(f)\n",
        "# 專屬：f.close()\n",
        "f.close()"
      ],
      "metadata": {
        "id": "k48gmYSfXiQk"
      },
      "execution_count": null,
      "outputs": []
    },
    {
      "cell_type": "code",
      "source": [
        "\"\\n\""
      ],
      "metadata": {
        "id": "lejqFsoud5Y8"
      },
      "execution_count": null,
      "outputs": []
    }
  ]
}