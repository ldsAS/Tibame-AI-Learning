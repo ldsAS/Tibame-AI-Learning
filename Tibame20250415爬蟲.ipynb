{
  "nbformat": 4,
  "nbformat_minor": 0,
  "metadata": {
    "colab": {
      "provenance": [],
      "authorship_tag": "ABX9TyMBgUxtM44407xr8kO/lXHs",
      "include_colab_link": true
    },
    "kernelspec": {
      "name": "python3",
      "display_name": "Python 3"
    },
    "language_info": {
      "name": "python"
    }
  },
  "cells": [
    {
      "cell_type": "markdown",
      "metadata": {
        "id": "view-in-github",
        "colab_type": "text"
      },
      "source": [
        "<a href=\"https://colab.research.google.com/github/ldsAS/Tibame-AI-Learning/blob/main/Tibame20250415%E7%88%AC%E8%9F%B2.ipynb\" target=\"_parent\"><img src=\"https://colab.research.google.com/assets/colab-badge.svg\" alt=\"Open In Colab\"/></a>"
      ]
    },
    {
      "cell_type": "markdown",
      "source": [
        "首先至網址列>>\n",
        "\n",
        "網頁任意處右鍵>>檢視網頁原始碼\n",
        "\n",
        ">>F12(若叫不出多按Fn鍵可叫出)"
      ],
      "metadata": {
        "id": "I0t0cVaMHN45"
      }
    },
    {
      "cell_type": "markdown",
      "source": [
        "WIN: -headers \"Origin: https://ani.gamer.com.tw\" -i \"\" anime.mp4\n",
        "\n",
        "MAC: -headers 'Origin: https://ani.gamer.com.tw' -i '' anime.mp4\n",
        "\n",
        "ffmpeg(用拉的) 複製並且把-i後面的\"\"填入m3u8"
      ],
      "metadata": {
        "id": "3LfjyR0JRqwS"
      }
    },
    {
      "cell_type": "markdown",
      "source": [
        "cmd >> 終端\n",
        "\n",
        "cd至該資料夾\n",
        "\n",
        "把ffmpeg拖至終端\n",
        "\n",
        "把影片網址加進上方指令 \"\" 中，再貼至終端，即可下載"
      ],
      "metadata": {
        "id": "xm8VvBfQU9ls"
      }
    },
    {
      "cell_type": "code",
      "source": [
        "C:\\Users\\TMP-214\\Desktop\\吉伊卡哇>C:\\Users\\TMP-214\\Downloads\\ffmpeg-7.1.1-essentials_build\\ffmpeg-7.1.1-essentials_build\\bin\\ffmpeg.exe\n",
        "\n",
        "-headers \"Origin: https://ani.gamer.com.tw\" -i \"https://bahamut.akamaized.net/113448d622788e8a4ee3fe459387b2eab9bb86a1/360p/hdntl=exp=1744785624~acl=%2f113448d622788e8a4ee3fe459387b2eab9bb86a1%2fplaylist_guest.m3u8!%2f113448d622788e8a4ee3fe459387b2eab9bb86a1%2f360p%2f*~data=hdntl,5d5f0fa9a488cd6%3a36632%3a0%3a1%3a52525229%3a0~hmac=d796200274973ec8b05aef8980c4e48a3deb78b53a87617bf73fe258fcfc31a4/chunklist_b400000.m3u8\" anime.mp4"
      ],
      "metadata": {
        "colab": {
          "base_uri": "https://localhost:8080/",
          "height": 161
        },
        "id": "emSptwVoSvbW",
        "outputId": "25206861-0032-42c9-ce6a-19ebded022f8"
      },
      "execution_count": 1,
      "outputs": [
        {
          "output_type": "error",
          "ename": "SyntaxError",
          "evalue": "invalid syntax (<ipython-input-1-b3a218bd7e96>, line 1)",
          "traceback": [
            "\u001b[0;36m  File \u001b[0;32m\"<ipython-input-1-b3a218bd7e96>\"\u001b[0;36m, line \u001b[0;32m1\u001b[0m\n\u001b[0;31m    -headers \"Origin: https://ani.gamer.com.tw\" -i \"https://bahamut.akamaized.net/113448d622788e8a4ee3fe459387b2eab9bb86a1/360p/hdntl=exp=1744785624~acl=%2f113448d622788e8a4ee3fe459387b2eab9bb86a1%2fplaylist_guest.m3u8!%2f113448d622788e8a4ee3fe459387b2eab9bb86a1%2f360p%2f*~data=hdntl,5d5f0fa9a488cd6%3a36632%3a0%3a1%3a52525229%3a0~hmac=d796200274973ec8b05aef8980c4e48a3deb78b53a87617bf73fe258fcfc31a4/chunklist_b400000.m3u8\" anime.mp4\u001b[0m\n\u001b[0m             ^\u001b[0m\n\u001b[0;31mSyntaxError\u001b[0m\u001b[0;31m:\u001b[0m invalid syntax\n"
          ]
        }
      ]
    }
  ]
}