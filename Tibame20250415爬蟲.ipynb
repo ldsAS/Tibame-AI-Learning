{
  "nbformat": 4,
  "nbformat_minor": 0,
  "metadata": {
    "colab": {
      "provenance": [],
      "authorship_tag": "ABX9TyMK3u5UZH9mBFQcfgfnehBT",
      "include_colab_link": true
    },
    "kernelspec": {
      "name": "python3",
      "display_name": "Python 3"
    },
    "language_info": {
      "name": "python"
    }
  },
  "cells": [
    {
      "cell_type": "markdown",
      "metadata": {
        "id": "view-in-github",
        "colab_type": "text"
      },
      "source": [
        "<a href=\"https://colab.research.google.com/github/ldsAS/Tibame-AI-Learning/blob/main/Tibame20250415%E7%88%AC%E8%9F%B2.ipynb\" target=\"_parent\"><img src=\"https://colab.research.google.com/assets/colab-badge.svg\" alt=\"Open In Colab\"/></a>"
      ]
    },
    {
      "cell_type": "code",
      "execution_count": null,
      "metadata": {
        "id": "3TSjDIZVFWrq"
      },
      "outputs": [],
      "source": []
    },
    {
      "cell_type": "markdown",
      "source": [
        "首先至網址列>>\n",
        "\n",
        "網頁任意處右鍵>>檢視網頁原始碼\n",
        "\n",
        ">>F12(若叫不出多按Fn鍵可叫出)"
      ],
      "metadata": {
        "id": "I0t0cVaMHN45"
      }
    },
    {
      "cell_type": "markdown",
      "source": [
        "WIN: -headers \"Origin: https://ani.gamer.com.tw\" -i \"\" anime.mp4\n",
        "\n",
        "MAC: -headers 'Origin: https://ani.gamer.com.tw' -i '' anime.mp4\n",
        "\n",
        "ffmpeg(用拉的) 複製並且把-i後面的\"\"填入m3u8"
      ],
      "metadata": {
        "id": "3LfjyR0JRqwS"
      }
    },
    {
      "cell_type": "code",
      "source": [],
      "metadata": {
        "id": "emSptwVoSvbW"
      },
      "execution_count": null,
      "outputs": []
    }
  ]
}