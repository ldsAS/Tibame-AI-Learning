{
  "nbformat": 4,
  "nbformat_minor": 0,
  "metadata": {
    "colab": {
      "provenance": [],
      "authorship_tag": "ABX9TyMW/c4COL4g6D5d5j5/NeLF",
      "include_colab_link": true
    },
    "kernelspec": {
      "name": "python3",
      "display_name": "Python 3"
    },
    "language_info": {
      "name": "python"
    }
  },
  "cells": [
    {
      "cell_type": "markdown",
      "metadata": {
        "id": "view-in-github",
        "colab_type": "text"
      },
      "source": [
        "<a href=\"https://colab.research.google.com/github/ldsAS/Tibame-AI-Learning/blob/main/Tibame20250617_BigQuery%E6%B8%ACTF.ipynb\" target=\"_parent\"><img src=\"https://colab.research.google.com/assets/colab-badge.svg\" alt=\"Open In Colab\"/></a>"
      ]
    },
    {
      "cell_type": "code",
      "execution_count": null,
      "metadata": {
        "id": "HRRJtqBFcObi"
      },
      "outputs": [],
      "source": [
        "!pip install google-cloud-bigquery"
      ]
    },
    {
      "cell_type": "code",
      "source": [
        "import os\n",
        "from google.cloud import bigquery\n",
        "\n",
        "# 設置 Google Cloud 認證 # 此為示範，實際上應放在環境變數裡面(要隱藏起來)\n",
        "os.environ['GOOGLE_APPLICATION_CREDENTIALS']=r\"/content/tibame-gad251-31-0613-c339499c7e0e.json\"\n",
        "\n",
        "\n",
        "# 初始化 BigQuery 客戶端\n",
        "client = bigquery.Client()\n",
        "print('connection done')\n"
      ],
      "metadata": {
        "colab": {
          "base_uri": "https://localhost:8080/"
        },
        "id": "ocvGZK6ucO8o",
        "outputId": "2053cfe4-2732-402f-a0e6-a6c98b6e5bde"
      },
      "execution_count": 11,
      "outputs": [
        {
          "output_type": "stream",
          "name": "stdout",
          "text": [
            "connection done\n"
          ]
        }
      ]
    },
    {
      "cell_type": "code",
      "source": [
        "# 定義變數\n",
        "dataset_id = 'tibame_gad251_31_dataset_py'  # 替換為想要建立的資料集名稱\n",
        "project_id = 'tibame-gad251-31-0613'  # 替換為 Google Cloud 專案 ID\n",
        "table_id = 'age_table'\n"
      ],
      "metadata": {
        "id": "xQDryHe0cQ2J"
      },
      "execution_count": 12,
      "outputs": []
    },
    {
      "cell_type": "code",
      "source": [
        "# 定義 SQL 查詢以創建模型\n",
        "query = f\"\"\"\n",
        "CREATE OR REPLACE MODEL `{project_id}.{dataset_id}.imported_tf_model`\n",
        "OPTIONS (MODEL_TYPE='TENSORFLOW',\n",
        "         MODEL_PATH='gs://cloud-training-demos/txtclass/export/exporter/1549825580/*')\n",
        "\"\"\"\n",
        "\n",
        "# 執行 SQL 查詢以創建模型\n",
        "query_job = client.query(query)\n",
        "query_job.result()  # 等待查詢完成\n",
        "\n",
        "print(\"TensorFlow model import BigQuery ML\")\n"
      ],
      "metadata": {
        "colab": {
          "base_uri": "https://localhost:8080/"
        },
        "id": "-8v-r5TNcRCY",
        "outputId": "abb7cb73-08ce-491a-8ff6-980905cb97b3"
      },
      "execution_count": 13,
      "outputs": [
        {
          "output_type": "stream",
          "name": "stdout",
          "text": [
            "TensorFlow model import BigQuery ML\n"
          ]
        }
      ]
    },
    {
      "cell_type": "code",
      "source": [
        "# 定義 SQL 查詢以使用模型進行預測，只取五筆非 NULL 的資料\n",
        "query = f\"\"\"\n",
        "SELECT *\n",
        "FROM ML.PREDICT(MODEL `{project_id}.{dataset_id}.imported_tf_model`,\n",
        "  (SELECT title AS input\n",
        "   FROM `bigquery-public-data.hacker_news.full`\n",
        "   WHERE title IS NOT NULL\n",
        "   LIMIT 5)  -- 限制結果為五筆資料\n",
        ")\n",
        "\"\"\"\n",
        "\n",
        "# 執行 SQL 查詢以進行預測\n",
        "query_job = client.query(query)\n",
        "results = query_job.result()  # 等待查詢完成\n",
        "\n",
        "# 印出預測結果\n",
        "for row in results:\n",
        "    print(row)\n"
      ],
      "metadata": {
        "colab": {
          "base_uri": "https://localhost:8080/"
        },
        "id": "H0xbHdDNfeZy",
        "outputId": "745e6b7a-6466-408a-f2bb-7793366878ef"
      },
      "execution_count": 14,
      "outputs": [
        {
          "output_type": "stream",
          "name": "stdout",
          "text": [
            "Row(([0.868116021156311, 0.0698704645037651, 0.06201356276869774], 'Azure SQL Database Automatic Tuning'), {'dense_1': 0, 'input': 1})\n",
            "Row(([1.3162051573090139e-06, 0.9999954700469971, 3.191369160049362e-06], 'How Inoreader Migrated from Bare-Metal Servers to OpenNebula and StorPool'), {'dense_1': 0, 'input': 1})\n",
            "Row(([2.4120627717394427e-09, 0.2178039401769638, 0.782196044921875], 'Trump organization charges Iranians for worldwide digital burglary'), {'dense_1': 0, 'input': 1})\n",
            "Row(([0.00048323272494599223, 0.9993659853935242, 0.00015083025209605694], 'World’s Wealthiest Lose $71B in Market Selloff'), {'dense_1': 0, 'input': 1})\n",
            "Row(([0.00029113070922903717, 0.9997060894966125, 2.715593836910557e-06], 'Elon Musk Just Removed Tesla and SpaceX from Facebook'), {'dense_1': 0, 'input': 1})\n"
          ]
        }
      ]
    },
    {
      "cell_type": "code",
      "source": [
        "# 定義資料集參數\n",
        "dataset_ref = client.dataset(dataset_id)\n",
        "\n",
        "# 刪除資料集\n",
        "client.delete_dataset(dataset_ref, delete_contents=True)\n",
        "print(f\"dataset: {dataset_id} ,deleted\")"
      ],
      "metadata": {
        "colab": {
          "base_uri": "https://localhost:8080/"
        },
        "id": "9ueaGDkVi48l",
        "outputId": "89637b20-65c5-415a-a77b-a91a6c852495"
      },
      "execution_count": 15,
      "outputs": [
        {
          "output_type": "stream",
          "name": "stdout",
          "text": [
            "dataset: tibame_gad251_31_dataset_py ,deleted\n"
          ]
        }
      ]
    }
  ]
}