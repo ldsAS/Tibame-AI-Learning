{
  "cells": [
    {
      "cell_type": "markdown",
      "metadata": {
        "id": "view-in-github",
        "colab_type": "text"
      },
      "source": [
        "<a href=\"https://colab.research.google.com/github/ldsAS/Tibame-AI-Learning/blob/main/Tibame20250609_Step_Wise.ipynb\" target=\"_parent\"><img src=\"https://colab.research.google.com/assets/colab-badge.svg\" alt=\"Open In Colab\"/></a>"
      ]
    },
    {
      "cell_type": "markdown",
      "id": "94881ca2-b80b-4f08-80ee-e9deeef787b6",
      "metadata": {
        "id": "94881ca2-b80b-4f08-80ee-e9deeef787b6"
      },
      "source": [
        "# Stepwise方法在統計中的應用\n",
        "在統計學中，**stepwise**（逐步法）是一種變數選擇的方法，常用於回歸分析中，幫助選擇最適合的預測變數。這種方法透過迭代過程，逐步添加或刪除解釋變數，以建立最能解釋資料的統計模型。\n",
        "\n",
        "## Stepwise方法的主要類型：\n",
        "1. **Forward Selection（前向選擇）**：\n",
        "   - 從無任何變數的模型開始，逐步將最顯著的變數加入模型。\n",
        "   - 每一步會加入對模型擬合影響最大的變數，直到沒有更多顯著的變數可以加入。\n",
        "2. **Backward Elimination（後向刪除）**：\n",
        "   - 從包含所有候選變數的模型開始，逐步刪除對模型影響最小或不顯著的變數。\n",
        "   - 每一步會刪除對模型擬合貢獻最小的變數，直到剩下的變數都顯著。\n",
        "3. **Bidirectional Elimination（雙向刪除）**：\n",
        "   - 是前向選擇和後向刪除的結合。每一步根據變數的顯著性，決定是否添加新變數或刪除不顯著的變數。\n",
        "\n",
        "## 優缺點：\n",
        "- **優點**：\n",
        "  - 有助於從大量變數中挑選出最有用的變數，建立簡潔且有效的預測模型。\n",
        "- **缺點**：\n",
        "  - 可能會過度擬合資料。\n",
        "  - 可能忽略一些重要的交互作用或變數，因此需要謹慎使用。\n"
      ]
    },
    {
      "cell_type": "code",
      "execution_count": null,
      "id": "d450fdce",
      "metadata": {
        "id": "d450fdce",
        "outputId": "c7b11b7e-d15c-4242-cd79-1c8d4d9bb7dd"
      },
      "outputs": [
        {
          "data": {
            "text/plain": [
              "Index(['Id', 'SepalLengthCm', 'SepalWidthCm', 'PetalLengthCm', 'PetalWidthCm',\n",
              "       'Species'],\n",
              "      dtype='object')"
            ]
          },
          "execution_count": 1,
          "metadata": {},
          "output_type": "execute_result"
        }
      ],
      "source": [
        "import pandas as pd\n",
        "data = pd.read_csv(\"../data/Iris.csv\")\n",
        "data.columns"
      ]
    },
    {
      "cell_type": "code",
      "execution_count": null,
      "id": "4dedc418",
      "metadata": {
        "id": "4dedc418"
      },
      "outputs": [],
      "source": [
        "from sklearn.tree import DecisionTreeClassifier\n",
        "from sklearn.model_selection import cross_validate\n",
        "\n",
        "def getAccuracy(field_names):\n",
        "    x = data[field_names]\n",
        "    y = data['Species']\n",
        "    model = DecisionTreeClassifier()\n",
        "    score = cross_validate(model, x, y, cv=5, n_jobs=2, scoring=['balanced_accuracy'])\n",
        "    return score['test_balanced_accuracy'].mean()"
      ]
    },
    {
      "cell_type": "markdown",
      "id": "0d6b9117",
      "metadata": {
        "id": "0d6b9117"
      },
      "source": [
        "# Step Wise"
      ]
    },
    {
      "cell_type": "markdown",
      "id": "ffdaec40",
      "metadata": {
        "id": "ffdaec40"
      },
      "source": [
        "## 四個欄位全用時的正確率"
      ]
    },
    {
      "cell_type": "code",
      "execution_count": null,
      "id": "1685b721",
      "metadata": {
        "id": "1685b721",
        "outputId": "8cb00cb6-a449-475d-96de-574f4f030937"
      },
      "outputs": [
        {
          "data": {
            "text/plain": [
              "np.float64(0.9533333333333334)"
            ]
          },
          "execution_count": 3,
          "metadata": {},
          "output_type": "execute_result"
        }
      ],
      "source": [
        "getAccuracy(['SepalLengthCm', 'SepalWidthCm', 'PetalLengthCm', 'PetalWidthCm'])"
      ]
    },
    {
      "cell_type": "markdown",
      "id": "8b1cf508",
      "metadata": {
        "id": "8b1cf508"
      },
      "source": [
        "## Step 1 :\n",
        "['SepalLengthCm', 'SepalWidthCm', 'PetalLengthCm', 'PetalWidthCm']"
      ]
    },
    {
      "cell_type": "markdown",
      "id": "28c11950",
      "metadata": {
        "id": "28c11950"
      },
      "source": [
        "### 測試四個欄位分別拿掉時的正確率"
      ]
    },
    {
      "cell_type": "code",
      "execution_count": null,
      "id": "0b65fa8e",
      "metadata": {
        "id": "0b65fa8e",
        "outputId": "c2523a96-de8d-4d08-dff1-33afa4808866"
      },
      "outputs": [
        {
          "data": {
            "text/plain": [
              "np.float64(0.9400000000000001)"
            ]
          },
          "execution_count": 4,
          "metadata": {},
          "output_type": "execute_result"
        }
      ],
      "source": [
        "getAccuracy(['SepalLengthCm', 'SepalWidthCm', 'PetalLengthCm'])"
      ]
    },
    {
      "cell_type": "code",
      "execution_count": null,
      "id": "7189da37",
      "metadata": {
        "id": "7189da37",
        "outputId": "69d2413c-f964-4926-d1e6-72963580b0ac"
      },
      "outputs": [
        {
          "data": {
            "text/plain": [
              "np.float64(0.9199999999999999)"
            ]
          },
          "execution_count": 5,
          "metadata": {},
          "output_type": "execute_result"
        }
      ],
      "source": [
        "getAccuracy(['SepalLengthCm', 'SepalWidthCm', 'PetalWidthCm'])"
      ]
    },
    {
      "cell_type": "code",
      "execution_count": null,
      "id": "8e032861",
      "metadata": {
        "id": "8e032861",
        "outputId": "5889b918-9726-40e7-fc00-610c6bd42575"
      },
      "outputs": [
        {
          "data": {
            "text/plain": [
              "np.float64(0.9600000000000002)"
            ]
          },
          "execution_count": 6,
          "metadata": {},
          "output_type": "execute_result"
        }
      ],
      "source": [
        "getAccuracy(['SepalLengthCm', 'PetalLengthCm', 'PetalWidthCm'])"
      ]
    },
    {
      "cell_type": "code",
      "execution_count": null,
      "id": "f63e924e",
      "metadata": {
        "id": "f63e924e",
        "outputId": "9629d5d2-dc81-4dd0-f1a7-1c43b55d2ec0"
      },
      "outputs": [
        {
          "data": {
            "text/plain": [
              "np.float64(0.9666666666666668)"
            ]
          },
          "execution_count": 7,
          "metadata": {},
          "output_type": "execute_result"
        }
      ],
      "source": [
        "getAccuracy(['SepalWidthCm', 'PetalLengthCm', 'PetalWidthCm'])"
      ]
    },
    {
      "cell_type": "markdown",
      "id": "c4474281",
      "metadata": {
        "id": "c4474281"
      },
      "source": [
        "### 四種組合中，拿掉SepalLengthCm的正確率最高，因此可以拿掉SepalLengthCm"
      ]
    },
    {
      "cell_type": "markdown",
      "id": "944144cb",
      "metadata": {
        "id": "944144cb"
      },
      "source": [
        "## Step 2\n",
        "['SepalWidthCm', 'PetalLengthCm', 'PetalWidthCm']"
      ]
    },
    {
      "cell_type": "markdown",
      "id": "537ab769",
      "metadata": {
        "id": "537ab769"
      },
      "source": [
        "### 測試三個欄位分別拿掉時的正確率"
      ]
    },
    {
      "cell_type": "code",
      "execution_count": null,
      "id": "7f3f8ff0",
      "metadata": {
        "id": "7f3f8ff0",
        "outputId": "6f89a8e0-5a68-4bf7-ab02-2899635c3274"
      },
      "outputs": [
        {
          "data": {
            "text/plain": [
              "np.float64(0.8933333333333333)"
            ]
          },
          "execution_count": 8,
          "metadata": {},
          "output_type": "execute_result"
        }
      ],
      "source": [
        "getAccuracy(['SepalWidthCm', 'PetalLengthCm'])"
      ]
    },
    {
      "cell_type": "code",
      "execution_count": null,
      "id": "98ba03f5",
      "metadata": {
        "id": "98ba03f5",
        "outputId": "e6ca9d72-ce59-48a7-e977-f274561b77d8"
      },
      "outputs": [
        {
          "data": {
            "text/plain": [
              "np.float64(0.9399999999999998)"
            ]
          },
          "execution_count": 9,
          "metadata": {},
          "output_type": "execute_result"
        }
      ],
      "source": [
        "getAccuracy(['SepalWidthCm', 'PetalWidthCm'])"
      ]
    },
    {
      "cell_type": "code",
      "execution_count": null,
      "id": "d699ae78",
      "metadata": {
        "id": "d699ae78",
        "outputId": "68e16b79-d9ef-4e56-c0c6-399662d01768"
      },
      "outputs": [
        {
          "data": {
            "text/plain": [
              "np.float64(0.9533333333333334)"
            ]
          },
          "execution_count": 10,
          "metadata": {},
          "output_type": "execute_result"
        }
      ],
      "source": [
        "getAccuracy(['PetalLengthCm', 'PetalWidthCm'])"
      ]
    },
    {
      "cell_type": "markdown",
      "id": "070c41de",
      "metadata": {
        "id": "070c41de"
      },
      "source": [
        "### 三種組合中，拿掉SepalWidthCm的正確率最高，因此可以拿掉SepalWidthCm"
      ]
    },
    {
      "cell_type": "markdown",
      "id": "13e38ed0",
      "metadata": {
        "id": "13e38ed0"
      },
      "source": [
        "## Step 3\n",
        "['PetalLengthCm', 'PetalWidthCm']"
      ]
    },
    {
      "cell_type": "markdown",
      "id": "e58a5cd9",
      "metadata": {
        "id": "e58a5cd9"
      },
      "source": [
        "### 測試兩個欄位分別拿掉時的正確率"
      ]
    },
    {
      "cell_type": "code",
      "execution_count": null,
      "id": "63917f80",
      "metadata": {
        "id": "63917f80",
        "outputId": "ba574466-579b-4649-bcce-59ae9ed06b95"
      },
      "outputs": [
        {
          "data": {
            "text/plain": [
              "np.float64(0.9533333333333334)"
            ]
          },
          "execution_count": 11,
          "metadata": {},
          "output_type": "execute_result"
        }
      ],
      "source": [
        "getAccuracy(['PetalWidthCm'])"
      ]
    },
    {
      "cell_type": "code",
      "execution_count": null,
      "id": "64194ff7",
      "metadata": {
        "id": "64194ff7",
        "outputId": "ed8ea487-62e4-4167-9129-25abadcc75c4"
      },
      "outputs": [
        {
          "data": {
            "text/plain": [
              "np.float64(0.9199999999999999)"
            ]
          },
          "execution_count": 12,
          "metadata": {},
          "output_type": "execute_result"
        }
      ],
      "source": [
        "getAccuracy(['PetalLengthCm'])"
      ]
    },
    {
      "cell_type": "markdown",
      "id": "11d88dd1",
      "metadata": {
        "id": "11d88dd1"
      },
      "source": [
        "### 兩種組合中，拿掉PetalLengthCm的正確率最高，因此可以拿掉PetalLengthCm"
      ]
    },
    {
      "cell_type": "markdown",
      "id": "67259a35",
      "metadata": {
        "id": "67259a35"
      },
      "source": [
        "## 最終欄位重要順序排序為\n",
        "PetalWidthCm > PetalLengthCm > SepalWidthCm > SepalLengthCm"
      ]
    }
  ],
  "metadata": {
    "kernelspec": {
      "display_name": "Python 3 (ipykernel)",
      "language": "python",
      "name": "python3"
    },
    "language_info": {
      "codemirror_mode": {
        "name": "ipython",
        "version": 3
      },
      "file_extension": ".py",
      "mimetype": "text/x-python",
      "name": "python",
      "nbconvert_exporter": "python",
      "pygments_lexer": "ipython3",
      "version": "3.12.3"
    },
    "colab": {
      "provenance": [],
      "include_colab_link": true
    }
  },
  "nbformat": 4,
  "nbformat_minor": 5
}