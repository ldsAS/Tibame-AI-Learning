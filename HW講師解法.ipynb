{
  "nbformat": 4,
  "nbformat_minor": 0,
  "metadata": {
    "colab": {
      "provenance": [],
      "authorship_tag": "ABX9TyPiI4wNH1To9WhW905Oe+ys",
      "include_colab_link": true
    },
    "kernelspec": {
      "name": "python3",
      "display_name": "Python 3"
    },
    "language_info": {
      "name": "python"
    }
  },
  "cells": [
    {
      "cell_type": "markdown",
      "metadata": {
        "id": "view-in-github",
        "colab_type": "text"
      },
      "source": [
        "<a href=\"https://colab.research.google.com/github/ldsAS/Tibame-AI-Learning/blob/main/HW%E8%AC%9B%E5%B8%AB%E8%A7%A3%E6%B3%95.ipynb\" target=\"_parent\"><img src=\"https://colab.research.google.com/assets/colab-badge.svg\" alt=\"Open In Colab\"/></a>"
      ]
    },
    {
      "cell_type": "markdown",
      "source": [
        "```\n",
        "講師作業解答：\n",
        "https://github.com/Elwing-Chou/tibame0410/blob/a8b8f592434da5d8ef999dacb4cea1f785ff7b68/tibame_HW1_%E7%AD%94%E6%A1%88.ipynb\n",
        "```"
      ],
      "metadata": {
        "id": "4poy9AsmhGK6"
      }
    },
    {
      "cell_type": "code",
      "execution_count": null,
      "metadata": {
        "colab": {
          "base_uri": "https://localhost:8080/"
        },
        "id": "neL2su7wJDGJ",
        "outputId": "5f392501-dbe7-41c8-f06a-486c05d6ee68"
      },
      "outputs": [
        {
          "output_type": "stream",
          "name": "stdout",
          "text": [
            "573147844013817084101\n"
          ]
        }
      ],
      "source": [
        "step_prev_2, step_prev_1 = -1, -1\n",
        "for i in range(100):\n",
        "    if i == 0:\n",
        "        step_prev_2 = 1\n",
        "        ans =1\n",
        "    elif i == 1:\n",
        "        step_prev_1 = 2\n",
        "        ans =2\n",
        "    else:\n",
        "        ans = step_prev_2 + step_prev_1\n",
        "        # 一起做設置比較不會因順序出錯\n",
        "        step_prev_2, step_prev_1 = step_prev_1, ans\n",
        "print(ans)"
      ]
    },
    {
      "cell_type": "code",
      "source": [
        "# 用空間換時間\n",
        "steps = []\n",
        "for i in range(100):\n",
        "    if len(steps) == 0:\n",
        "        steps.append(1)\n",
        "    elif len(steps) == 1:\n",
        "        steps.append(2)\n",
        "    else:\n",
        "        new = steps[-1] + steps[-2]\n",
        "        steps.append(new)\n",
        "print(steps[-1])\n",
        "print(steps)"
      ],
      "metadata": {
        "colab": {
          "base_uri": "https://localhost:8080/"
        },
        "id": "AQDShivyMeQ-",
        "outputId": "39844a55-2f98-416a-8305-64a8d36ddf96"
      },
      "execution_count": null,
      "outputs": [
        {
          "output_type": "stream",
          "name": "stdout",
          "text": [
            "573147844013817084101\n",
            "[1, 2, 3, 5, 8, 13, 21, 34, 55, 89, 144, 233, 377, 610, 987, 1597, 2584, 4181, 6765, 10946, 17711, 28657, 46368, 75025, 121393, 196418, 317811, 514229, 832040, 1346269, 2178309, 3524578, 5702887, 9227465, 14930352, 24157817, 39088169, 63245986, 102334155, 165580141, 267914296, 433494437, 701408733, 1134903170, 1836311903, 2971215073, 4807526976, 7778742049, 12586269025, 20365011074, 32951280099, 53316291173, 86267571272, 139583862445, 225851433717, 365435296162, 591286729879, 956722026041, 1548008755920, 2504730781961, 4052739537881, 6557470319842, 10610209857723, 17167680177565, 27777890035288, 44945570212853, 72723460248141, 117669030460994, 190392490709135, 308061521170129, 498454011879264, 806515533049393, 1304969544928657, 2111485077978050, 3416454622906707, 5527939700884757, 8944394323791464, 14472334024676221, 23416728348467685, 37889062373143906, 61305790721611591, 99194853094755497, 160500643816367088, 259695496911122585, 420196140727489673, 679891637638612258, 1100087778366101931, 1779979416004714189, 2880067194370816120, 4660046610375530309, 7540113804746346429, 12200160415121876738, 19740274219868223167, 31940434634990099905, 51680708854858323072, 83621143489848422977, 135301852344706746049, 218922995834555169026, 354224848179261915075, 573147844013817084101]\n"
          ]
        }
      ]
    },
    {
      "cell_type": "code",
      "source": [
        "[[\"11\", \"2\"], [\"111\", \"12\", \"21\"]]\n",
        "possibilies = []\n",
        "for i in range(5):\n",
        "    if i == 0:\n",
        "        possibilies.append([\"1\"])\n",
        "    elif i == 1:\n",
        "        possibilies.append([\"11\", \"2\"])\n",
        "    else:\n",
        "        new = []\n",
        "        for p in possibilies[-1]:\n",
        "            new.append(p + \"1\")\n",
        "        for p in possibilies[-2]:\n",
        "            new.append(p + \"2\")\n",
        "        possibilies.append(new)\n",
        "print(possibilies[-1])\n",
        "print(possibilies)"
      ],
      "metadata": {
        "colab": {
          "base_uri": "https://localhost:8080/"
        },
        "id": "-Gb6FpLfNpyN",
        "outputId": "29447121-e8fd-4318-8540-2509f0440910"
      },
      "execution_count": null,
      "outputs": [
        {
          "output_type": "stream",
          "name": "stdout",
          "text": [
            "['11111', '2111', '1211', '1121', '221', '1112', '212', '122']\n",
            "[['1'], ['11', '2'], ['111', '21', '12'], ['1111', '211', '121', '112', '22'], ['11111', '2111', '1211', '1121', '221', '1112', '212', '122']]\n"
          ]
        }
      ]
    },
    {
      "cell_type": "code",
      "source": [
        "# 步數=n, 進階寫法、參考用\n",
        "max_step = 3\n",
        "possibilies = [[\"\"]]\n",
        "for i in range(10):\n",
        "    real_max_step = min(i+1, max_step)\n",
        "    new = []\n",
        "    for j in range(real_max_step):\n",
        "        step = j +1\n",
        "        for p in possibilies[-j-1]:\n",
        "            new.append(p + str(step))\n",
        "    possibilies.append(new)\n",
        "print(possibilies[-1])"
      ],
      "metadata": {
        "colab": {
          "base_uri": "https://localhost:8080/"
        },
        "id": "Buyr3IzPUIcQ",
        "outputId": "5a7661fe-19a0-492d-90c7-2a27b021ad99"
      },
      "execution_count": null,
      "outputs": [
        {
          "output_type": "stream",
          "name": "stdout",
          "text": [
            "['1111111111', '211111111', '121111111', '31111111', '112111111', '22111111', '13111111', '111211111', '21211111', '12211111', '3211111', '11311111', '2311111', '111121111', '21121111', '12121111', '3121111', '11221111', '2221111', '1321111', '11131111', '2131111', '1231111', '331111', '111112111', '21112111', '12112111', '3112111', '11212111', '2212111', '1312111', '11122111', '2122111', '1222111', '322111', '1132111', '232111', '11113111', '2113111', '1213111', '313111', '1123111', '223111', '133111', '111111211', '21111211', '12111211', '3111211', '11211211', '2211211', '1311211', '11121211', '2121211', '1221211', '321211', '1131211', '231211', '11112211', '2112211', '1212211', '312211', '1122211', '222211', '132211', '1113211', '213211', '123211', '33211', '11111311', '2111311', '1211311', '311311', '1121311', '221311', '131311', '1112311', '212311', '122311', '32311', '113311', '23311', '111111121', '21111121', '12111121', '3111121', '11211121', '2211121', '1311121', '11121121', '2121121', '1221121', '321121', '1131121', '231121', '11112121', '2112121', '1212121', '312121', '1122121', '222121', '132121', '1113121', '213121', '123121', '33121', '11111221', '2111221', '1211221', '311221', '1121221', '221221', '131221', '1112221', '212221', '122221', '32221', '113221', '23221', '1111321', '211321', '121321', '31321', '112321', '22321', '13321', '11111131', '2111131', '1211131', '311131', '1121131', '221131', '131131', '1112131', '212131', '122131', '32131', '113131', '23131', '1111231', '211231', '121231', '31231', '112231', '22231', '13231', '111331', '21331', '12331', '3331', '111111112', '21111112', '12111112', '3111112', '11211112', '2211112', '1311112', '11121112', '2121112', '1221112', '321112', '1131112', '231112', '11112112', '2112112', '1212112', '312112', '1122112', '222112', '132112', '1113112', '213112', '123112', '33112', '11111212', '2111212', '1211212', '311212', '1121212', '221212', '131212', '1112212', '212212', '122212', '32212', '113212', '23212', '1111312', '211312', '121312', '31312', '112312', '22312', '13312', '11111122', '2111122', '1211122', '311122', '1121122', '221122', '131122', '1112122', '212122', '122122', '32122', '113122', '23122', '1111222', '211222', '121222', '31222', '112222', '22222', '13222', '111322', '21322', '12322', '3322', '1111132', '211132', '121132', '31132', '112132', '22132', '13132', '111232', '21232', '12232', '3232', '11332', '2332', '11111113', '2111113', '1211113', '311113', '1121113', '221113', '131113', '1112113', '212113', '122113', '32113', '113113', '23113', '1111213', '211213', '121213', '31213', '112213', '22213', '13213', '111313', '21313', '12313', '3313', '1111123', '211123', '121123', '31123', '112123', '22123', '13123', '111223', '21223', '12223', '3223', '11323', '2323', '111133', '21133', '12133', '3133', '11233', '2233', '1333']\n"
          ]
        }
      ]
    },
    {
      "cell_type": "code",
      "source": [
        "# 交換\n",
        "a, b = 2, 8\n",
        "a, b = b, a\n",
        "# 古時候\n",
        "temp = a\n",
        "a = b\n",
        "b = temp"
      ],
      "metadata": {
        "id": "OvJqakGALB1E"
      },
      "execution_count": null,
      "outputs": []
    },
    {
      "cell_type": "code",
      "source": [
        "# 解答\n",
        "import random\n",
        "import urllib.request as req\n",
        "\n",
        "url = \"https://github.com/Elwing-Chou/tibame1224/raw/refs/heads/main/password.txt\"\n",
        "# 參數1:下載網址 參數2: 儲存本機的時候的命名\n",
        "req.urlretrieve(url, \"password.txt\")\n",
        "f = open(\"password.txt\", \"r\", encoding=\"utf-8\")\n",
        "s = f.read()\n",
        "s_lower = s.lower()\n",
        "f.close()\n",
        "\n",
        "# 原始加密\n",
        "for i in range(25):\n",
        "    password = i + 1\n",
        "    result = \"\"\n",
        "    for c in s_lower:\n",
        "        if ord(\"a\") <= ord(c) <= ord(\"z\"):\n",
        "            n = ord(c) - ord(\"a\")\n",
        "            n = (n + password) % 26 + ord(\"a\")\n",
        "            result = result + chr(n)\n",
        "        # 如果不是英文, 就老實放進去\n",
        "        else:\n",
        "            result = result + c\n",
        "        if \"trouble will come of it\" in result:\n",
        "            print(\"位移:\", password, \"反向位移:\", 26-password)\n",
        "            print(\"真實文本:\", result)\n",
        "            break\n",
        "\n",
        "# 補充：解密時可以準備一個介係詞list來讓程式判斷"
      ],
      "metadata": {
        "colab": {
          "base_uri": "https://localhost:8080/"
        },
        "id": "oXa7b8PDWn71",
        "outputId": "2b65cb9b-9847-4d3f-d1e6-e21a4abd671b"
      },
      "execution_count": null,
      "outputs": [
        {
          "output_type": "stream",
          "name": "stdout",
          "text": [
            "位移: 11 反向位移: 15\n",
            "真實文本: a long-expected party\n",
            "\n",
            "when mr. bilbo baggins of bag end announced that he would shortly be celebrating his eleventy-first birthday with a party of special magnificence, there was much talk and excitement in hobbiton.\n",
            "\n",
            "bilbo was very rich and very peculiar, and had been the wonder of the shire for sixty years, ever since his remarkable disappearance and unexpected return. the riches he had brought back from his travels had now become a local legend, and it was popularly believed, whatever the old folk might say, that the hill at bag end was full of tunnels stuffed with treasure. and if that was not enough for fame, there was also his prolonged vigour to marvel at. time wore on, but it seemed to have little effect on mr. baggins. at ninety he was much the same as at fifty. at ninety-nine they began to call him well-preserved, but unchanged would have been nearer the mark. there were some that shook their heads and thought this was too much of a good thing; it seemed unfair that anyone should possess (apparently) perpetual youth as well as (reputedly) inexhaustible wealth.\n",
            "\n",
            "'it will have to be paid for,' they said. 'it isn't natural, and trouble will come of it\n"
          ]
        }
      ]
    },
    {
      "cell_type": "code",
      "source": [
        "!pip install ColabTurtle"
      ],
      "metadata": {
        "colab": {
          "base_uri": "https://localhost:8080/"
        },
        "id": "qzPxEnI2ep7d",
        "outputId": "574c0089-3cee-4427-c3bf-dbd51fc68a46"
      },
      "execution_count": null,
      "outputs": [
        {
          "output_type": "stream",
          "name": "stdout",
          "text": [
            "Collecting ColabTurtle\n",
            "  Downloading ColabTurtle-2.1.0.tar.gz (6.8 kB)\n",
            "  Preparing metadata (setup.py) ... \u001b[?25l\u001b[?25hdone\n",
            "Building wheels for collected packages: ColabTurtle\n",
            "  Building wheel for ColabTurtle (setup.py) ... \u001b[?25l\u001b[?25hdone\n",
            "  Created wheel for ColabTurtle: filename=ColabTurtle-2.1.0-py3-none-any.whl size=7643 sha256=38cffdbf87af5e9132585e276bb3db91f4f747c8e2b822d7c960f8dbb0827a69\n",
            "  Stored in directory: /root/.cache/pip/wheels/f6/9e/81/137e7da25129474562d30f8660be599e5c8d79228cb747e5b9\n",
            "Successfully built ColabTurtle\n",
            "Installing collected packages: ColabTurtle\n",
            "Successfully installed ColabTurtle-2.1.0\n"
          ]
        }
      ]
    },
    {
      "cell_type": "code",
      "source": [
        "import ColabTurtle.Turtle as turtle\n",
        "turtle.initializeTurtle()\n",
        "# 設置狀態\n",
        "# turtle.hideturtle()\n",
        "\n",
        "# 拿到現在座標\n",
        "pos = turtle.pos()\n",
        "turtle.speed(5)\n",
        "turtle.pensize(2)\n",
        "# 往前x步\n",
        "turtle.forward(40)\n",
        "turtle.right(90)\n",
        "turtle.forward(40)\n",
        "\n",
        "turtle.goto(pos[0], pos[1])"
      ],
      "metadata": {
        "id": "HGuPmmpIfYc6"
      },
      "execution_count": null,
      "outputs": []
    },
    {
      "cell_type": "code",
      "source": [
        "import ColabTurtle.Turtle as turtle\n",
        "turtle.initializeTurtle()\n",
        "# 設置狀態\n",
        "turtle.speed(5)\n",
        "turtle.pensize(2)\n",
        "\n",
        "points = [{\"x\":200, \"y\":50},\n",
        "          {\"x\":600, \"y\":50},\n",
        "          {\"x\":600, \"y\":450},\n",
        "          {\"x\":200, \"y\":450}]\n",
        "\n",
        "for i in range(10):\n",
        "    # 這個東西應該在一個迴圈裡\n",
        "    turtle.penup()\n",
        "    x, y = points[0][\"x\"], points[0][\"y\"]\n",
        "    # 把烏龜移到開頭\n",
        "    turtle.goto(x, y)\n",
        "    turtle.pendown()\n",
        "    # 把四個點連起來\n",
        "    for i in range(4):\n",
        "        # goto next\n",
        "        x, y = points[(i+1)%4][\"x\"], points[(i+1)%4][\"y\"]\n",
        "        turtle.goto(x, y)\n",
        "\n",
        "    # 你要更新那個points, 把四個點改成下次的四個點\n",
        "    # 準備一個空的list\n",
        "    new = [None] * 4\n",
        "    for j in range(4):\n",
        "        x1, y1 = points[j][\"x\"], points[j][\"y\"]\n",
        "        x2, y2 = points[(j+1)%4][\"x\"], points[(j+1)%4][\"y\"]\n",
        "        pos = {\n",
        "            \"x\":(x1+x2)/2.0,\n",
        "            \"y\":(y1+y2)/2.0\n",
        "        }\n",
        "        new[j] = pos\n",
        "    # x1, y2 = points[0][\"x\"], points[0][\"y\"]\n",
        "    # x2, y2 = points[1]\n",
        "    # new[0] = {x1+x2/2}\n",
        "    points = new"
      ],
      "metadata": {
        "colab": {
          "base_uri": "https://localhost:8080/",
          "height": 541
        },
        "id": "g5dNx-mvcsfA",
        "outputId": "4b512b6a-78a4-4cce-8d5f-fb9f96da8239"
      },
      "execution_count": null,
      "outputs": [
        {
          "output_type": "display_data",
          "data": {
            "text/plain": [
              "<IPython.core.display.HTML object>"
            ],
            "text/html": [
              "\n",
              "      <svg width=\"800\" height=\"500\">\n",
              "        <rect width=\"100%\" height=\"100%\" fill=\"black\"/>\n",
              "        <line x1=\"200\" y1=\"50\" x2=\"600\" y2=\"50\" stroke-linecap=\"round\" style=\"stroke:white;stroke-width:2\"/><line x1=\"600\" y1=\"50\" x2=\"600\" y2=\"450\" stroke-linecap=\"round\" style=\"stroke:white;stroke-width:2\"/><line x1=\"600\" y1=\"450\" x2=\"200\" y2=\"450\" stroke-linecap=\"round\" style=\"stroke:white;stroke-width:2\"/><line x1=\"200\" y1=\"450\" x2=\"200\" y2=\"50\" stroke-linecap=\"round\" style=\"stroke:white;stroke-width:2\"/><line x1=\"400.0\" y1=\"50.0\" x2=\"600.0\" y2=\"250.0\" stroke-linecap=\"round\" style=\"stroke:white;stroke-width:2\"/><line x1=\"600.0\" y1=\"250.0\" x2=\"400.0\" y2=\"450.0\" stroke-linecap=\"round\" style=\"stroke:white;stroke-width:2\"/><line x1=\"400.0\" y1=\"450.0\" x2=\"200.0\" y2=\"250.0\" stroke-linecap=\"round\" style=\"stroke:white;stroke-width:2\"/><line x1=\"200.0\" y1=\"250.0\" x2=\"400.0\" y2=\"50.0\" stroke-linecap=\"round\" style=\"stroke:white;stroke-width:2\"/><line x1=\"500.0\" y1=\"150.0\" x2=\"500.0\" y2=\"350.0\" stroke-linecap=\"round\" style=\"stroke:white;stroke-width:2\"/><line x1=\"500.0\" y1=\"350.0\" x2=\"300.0\" y2=\"350.0\" stroke-linecap=\"round\" style=\"stroke:white;stroke-width:2\"/><line x1=\"300.0\" y1=\"350.0\" x2=\"300.0\" y2=\"150.0\" stroke-linecap=\"round\" style=\"stroke:white;stroke-width:2\"/><line x1=\"300.0\" y1=\"150.0\" x2=\"500.0\" y2=\"150.0\" stroke-linecap=\"round\" style=\"stroke:white;stroke-width:2\"/><line x1=\"500.0\" y1=\"250.0\" x2=\"400.0\" y2=\"350.0\" stroke-linecap=\"round\" style=\"stroke:white;stroke-width:2\"/><line x1=\"400.0\" y1=\"350.0\" x2=\"300.0\" y2=\"250.0\" stroke-linecap=\"round\" style=\"stroke:white;stroke-width:2\"/><line x1=\"300.0\" y1=\"250.0\" x2=\"400.0\" y2=\"150.0\" stroke-linecap=\"round\" style=\"stroke:white;stroke-width:2\"/><line x1=\"400.0\" y1=\"150.0\" x2=\"500.0\" y2=\"250.0\" stroke-linecap=\"round\" style=\"stroke:white;stroke-width:2\"/><line x1=\"450.0\" y1=\"300.0\" x2=\"350.0\" y2=\"300.0\" stroke-linecap=\"round\" style=\"stroke:white;stroke-width:2\"/><line x1=\"350.0\" y1=\"300.0\" x2=\"350.0\" y2=\"200.0\" stroke-linecap=\"round\" style=\"stroke:white;stroke-width:2\"/><line x1=\"350.0\" y1=\"200.0\" x2=\"450.0\" y2=\"200.0\" stroke-linecap=\"round\" style=\"stroke:white;stroke-width:2\"/><line x1=\"450.0\" y1=\"200.0\" x2=\"450.0\" y2=\"300.0\" stroke-linecap=\"round\" style=\"stroke:white;stroke-width:2\"/><line x1=\"400.0\" y1=\"300.0\" x2=\"350.0\" y2=\"250.0\" stroke-linecap=\"round\" style=\"stroke:white;stroke-width:2\"/><line x1=\"350.0\" y1=\"250.0\" x2=\"400.0\" y2=\"200.0\" stroke-linecap=\"round\" style=\"stroke:white;stroke-width:2\"/><line x1=\"400.0\" y1=\"200.0\" x2=\"450.0\" y2=\"250.0\" stroke-linecap=\"round\" style=\"stroke:white;stroke-width:2\"/><line x1=\"450.0\" y1=\"250.0\" x2=\"400.0\" y2=\"300.0\" stroke-linecap=\"round\" style=\"stroke:white;stroke-width:2\"/><line x1=\"375.0\" y1=\"275.0\" x2=\"375.0\" y2=\"225.0\" stroke-linecap=\"round\" style=\"stroke:white;stroke-width:2\"/><line x1=\"375.0\" y1=\"225.0\" x2=\"425.0\" y2=\"225.0\" stroke-linecap=\"round\" style=\"stroke:white;stroke-width:2\"/><line x1=\"425.0\" y1=\"225.0\" x2=\"425.0\" y2=\"275.0\" stroke-linecap=\"round\" style=\"stroke:white;stroke-width:2\"/><line x1=\"425.0\" y1=\"275.0\" x2=\"375.0\" y2=\"275.0\" stroke-linecap=\"round\" style=\"stroke:white;stroke-width:2\"/><line x1=\"375.0\" y1=\"250.0\" x2=\"400.0\" y2=\"225.0\" stroke-linecap=\"round\" style=\"stroke:white;stroke-width:2\"/><line x1=\"400.0\" y1=\"225.0\" x2=\"425.0\" y2=\"250.0\" stroke-linecap=\"round\" style=\"stroke:white;stroke-width:2\"/><line x1=\"425.0\" y1=\"250.0\" x2=\"400.0\" y2=\"275.0\" stroke-linecap=\"round\" style=\"stroke:white;stroke-width:2\"/><line x1=\"400.0\" y1=\"275.0\" x2=\"375.0\" y2=\"250.0\" stroke-linecap=\"round\" style=\"stroke:white;stroke-width:2\"/><line x1=\"387.5\" y1=\"237.5\" x2=\"412.5\" y2=\"237.5\" stroke-linecap=\"round\" style=\"stroke:white;stroke-width:2\"/><line x1=\"412.5\" y1=\"237.5\" x2=\"412.5\" y2=\"262.5\" stroke-linecap=\"round\" style=\"stroke:white;stroke-width:2\"/><line x1=\"412.5\" y1=\"262.5\" x2=\"387.5\" y2=\"262.5\" stroke-linecap=\"round\" style=\"stroke:white;stroke-width:2\"/><line x1=\"387.5\" y1=\"262.5\" x2=\"387.5\" y2=\"237.5\" stroke-linecap=\"round\" style=\"stroke:white;stroke-width:2\"/><line x1=\"400.0\" y1=\"237.5\" x2=\"412.5\" y2=\"250.0\" stroke-linecap=\"round\" style=\"stroke:white;stroke-width:2\"/><line x1=\"412.5\" y1=\"250.0\" x2=\"400.0\" y2=\"262.5\" stroke-linecap=\"round\" style=\"stroke:white;stroke-width:2\"/><line x1=\"400.0\" y1=\"262.5\" x2=\"387.5\" y2=\"250.0\" stroke-linecap=\"round\" style=\"stroke:white;stroke-width:2\"/><line x1=\"387.5\" y1=\"250.0\" x2=\"400.0\" y2=\"237.5\" stroke-linecap=\"round\" style=\"stroke:white;stroke-width:2\"/>\n",
              "        <g visibility=visible transform=\"rotate(360,400.0,237.5) translate(382.0, 219.5)\">\n",
              "<path style=\" stroke:none;fill-rule:evenodd;fill:white;fill-opacity:1;\" d=\"M 18.214844 0.632812 C 16.109375 1.800781 15.011719 4.074219 15.074219 7.132812 L 15.085938 7.652344 L 14.785156 7.496094 C 13.476562 6.824219 11.957031 6.671875 10.40625 7.066406 C 8.46875 7.550781 6.515625 9.15625 4.394531 11.992188 C 3.0625 13.777344 2.679688 14.636719 3.042969 15.027344 L 3.15625 15.152344 L 3.519531 15.152344 C 4.238281 15.152344 4.828125 14.886719 8.1875 13.039062 C 9.386719 12.378906 10.371094 11.839844 10.378906 11.839844 C 10.386719 11.839844 10.355469 11.929688 10.304688 12.035156 C 9.832031 13.09375 9.257812 14.820312 8.96875 16.078125 C 7.914062 20.652344 8.617188 24.53125 11.070312 27.660156 C 11.351562 28.015625 11.363281 27.914062 10.972656 28.382812 C 8.925781 30.84375 7.945312 33.28125 8.238281 35.1875 C 8.289062 35.527344 8.28125 35.523438 8.917969 35.523438 C 10.941406 35.523438 13.074219 34.207031 15.136719 31.6875 C 15.359375 31.417969 15.328125 31.425781 15.5625 31.574219 C 16.292969 32.042969 18.023438 32.964844 18.175781 32.964844 C 18.335938 32.964844 19.941406 32.210938 20.828125 31.71875 C 20.996094 31.625 21.136719 31.554688 21.136719 31.558594 C 21.203125 31.664062 21.898438 32.414062 22.222656 32.730469 C 23.835938 34.300781 25.5625 35.132812 27.582031 35.300781 C 27.90625 35.328125 27.9375 35.308594 28.007812 34.984375 C 28.382812 33.242188 27.625 30.925781 25.863281 28.425781 L 25.542969 27.96875 L 25.699219 27.785156 C 28.945312 23.960938 29.132812 18.699219 26.257812 11.96875 L 26.207031 11.84375 L 27.945312 12.703125 C 31.53125 14.476562 32.316406 14.800781 33.03125 14.800781 C 33.976562 14.800781 33.78125 13.9375 32.472656 12.292969 C 28.519531 7.355469 25.394531 5.925781 21.921875 7.472656 L 21.558594 7.636719 L 21.578125 7.542969 C 21.699219 6.992188 21.761719 5.742188 21.699219 5.164062 C 21.496094 3.296875 20.664062 1.964844 19.003906 0.855469 C 18.480469 0.503906 18.457031 0.5 18.214844 0.632812\"/>\n",
              "</g>\n",
              "      </svg>\n",
              "    "
            ]
          },
          "metadata": {}
        }
      ]
    }
  ]
}