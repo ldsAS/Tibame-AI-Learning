{
  "nbformat": 4,
  "nbformat_minor": 0,
  "metadata": {
    "colab": {
      "provenance": [],
      "authorship_tag": "ABX9TyML3hg2/c8DBE6bwfocXMG5",
      "include_colab_link": true
    },
    "kernelspec": {
      "name": "python3",
      "display_name": "Python 3"
    },
    "language_info": {
      "name": "python"
    }
  },
  "cells": [
    {
      "cell_type": "markdown",
      "metadata": {
        "id": "view-in-github",
        "colab_type": "text"
      },
      "source": [
        "<a href=\"https://colab.research.google.com/github/ldsAS/Tibame-AI-Learning/blob/main/Tibame20250421.ipynb\" target=\"_parent\"><img src=\"https://colab.research.google.com/assets/colab-badge.svg\" alt=\"Open In Colab\"/></a>"
      ]
    },
    {
      "cell_type": "markdown",
      "source": [
        "# 爬蟲SOP\n",
        "\n",
        "```\n",
        "找到網址：\n",
        "1. 打開原始碼(網址列的答案)\n",
        "2. a. 你需要的就在原始碼：網址列\n",
        "  2. 你需要的沒在原始碼：F12找隱藏網址\n",
        "```"
      ],
      "metadata": {
        "id": "5gYSmI-9bz6q"
      }
    },
    {
      "cell_type": "markdown",
      "source": [
        "```\n",
        "HTML是由無數個長方形方框構成\n",
        "\n",
        "<a> -> 開始\n",
        "    顯示內容\n",
        "</a> -> 結束\n",
        "\n",
        "1. 名字：決定他是什麼\n",
        "    a：超連結 img：圖片 video：影片\n",
        "2. 屬性：決定細節(名=\"value\")\n",
        "    a href=\"網址\" img/video src=\"網址\"\n",
        "3. 顯示內容\n",
        "```"
      ],
      "metadata": {
        "id": "EET25i7d5vSv"
      }
    },
    {
      "cell_type": "markdown",
      "source": [
        "```\n",
        "前端\n",
        "1. HTML：內容部分\n",
        "2. CSS：排版設定檔\n",
        "3. JavaScript：動態部分\n",
        "\n",
        "後端\n",
        "1. 收到網址以後的處理\n",
        "2. 資料庫的管理\n",
        "\n",
        "CSS語法：找到區塊加上排版\n",
        "\n",
        "1. html名字\n",
        "a{\n",
        "    background-color:red;\n",
        "}\n",
        "\n",
        "特殊排版屬性 class=\"分類1 分類2 分類3\"\n",
        "2. class選擇\n",
        ".分類1{\n",
        "    xxxx:xxx\n",
        "}\n",
        "\n",
        "HTML屬性 id=\"特殊值\"\n",
        "3. id選擇\n",
        "# 特殊值{\n",
        "    XXX:xxx\n",
        "}\n",
        "```"
      ],
      "metadata": {
        "id": "U7KSLWOAA1r2"
      }
    },
    {
      "cell_type": "code",
      "execution_count": 33,
      "metadata": {
        "colab": {
          "base_uri": "https://localhost:8080/"
        },
        "id": "oJ-DukKfbjPc",
        "outputId": "69c5addf-000d-48d8-d99d-9712e659aff2"
      },
      "outputs": [
        {
          "output_type": "stream",
          "name": "stdout",
          "text": [
            "<a class=\"list-rst__rst-name-target cpy-rst-name\" data-list-dest=\"item_top\" href=\"https://tabelog.com/tw/tokyo/A1304/A130401/13184186/\" rel=\"noopener\" target=\"_blank\">Bon.nu</a>\n",
            "https://tabelog.com/tw/tokyo/A1304/A130401/13184186/\n",
            "Bon.nu\n",
            "\n",
            "                            參宮橋車站 / 法式料理, 蛋糕\n",
            "                          \n"
          ]
        }
      ],
      "source": [
        "import urllib.request as req\n",
        "import bs4 as bs\n",
        "\n",
        "url =\"https://tabelog.com/tw/tokyo/rstLst/sweets/?SrtT=rt\"\n",
        "resp = req.urlopen(url)\n",
        "content = resp.read()\n",
        "# 上次我們在這裡是用json.loads把bytes型態換成dict/list型態\n",
        "html = bs.BeautifulSoup(content)\n",
        "# print(html.prettify())\n",
        "# 區塊: find/find_all(html名字，篩選條件)\n",
        "target = html.find(\"a\", {\"class\":\"list-rst__rst-name-target\"})\n",
        "print(target)\n",
        "# 萃取:\n",
        "# 1. href屬性 區塊[\"href\"]\n",
        "print(target[\"href\"])\n",
        "# 一個型態到底可以擁有那些東西 1. 專屬功能(人.吃飯()) 2. 專屬值(人.身高)\n",
        "# 2. 顯示內容(專屬值): 區塊.text\n",
        "print(target.text)\n",
        "\n",
        "target = html.find(\"div\", {\"class\":\"list-rst__area-genre\"})\n",
        "print(target.text)"
      ]
    },
    {
      "cell_type": "code",
      "source": [
        "# 這要會!!! 功能定義\n",
        "# 定義參數: 只是先定義代號\n",
        "def calculate_bmi(h, w, d=2):\n",
        "    bmi = w / (h / 100) ** 2\n",
        "    return round(bmi, d)\n",
        "print(calculate_bmi(175, 73, 4))\n",
        "print(calculate_bmi(175, 73))"
      ],
      "metadata": {
        "colab": {
          "base_uri": "https://localhost:8080/"
        },
        "id": "JBsXtu_sSg96",
        "outputId": "d5e71f4c-147d-4cd0-b6ab-5b2ee3e2cf95"
      },
      "execution_count": 12,
      "outputs": [
        {
          "output_type": "stream",
          "name": "stdout",
          "text": [
            "23.8367\n",
            "23.84\n"
          ]
        }
      ]
    },
    {
      "cell_type": "markdown",
      "source": [
        "```\n",
        "單次一個複雜: 字典\n",
        "多次複雜 自訂新的型態(物件導向)\n",
        "```"
      ],
      "metadata": {
        "id": "V9gUmWrlUmdu"
      }
    },
    {
      "cell_type": "code",
      "source": [
        "# 自訂型態會以大寫開始, SchllStudent\n",
        "class Student:\n",
        "    def __init__(self, w, h):\n",
        "        # 專屬值\n",
        "        self.weight = w\n",
        "        self.height = h\n",
        "\n",
        "    def calculate_bmi(self):\n",
        "        bmi = self.weight / (self.height / 100) ** 2\n",
        "        return bmi\n",
        "\n",
        "    def __add__(self, other):\n",
        "        new_w = (self.weight + other.weight) / 2\n",
        "        new_h = (self.height + other.height) / 2\n",
        "        return Student(new_w, new_h)\n",
        "\n",
        "# 怎麼創一個型態東西(創造功能__init__專屬功能)\n",
        "s1 = Student(80, 175)\n",
        "\n",
        "# 以前 calculate_bmi(s1)\n",
        "# 專屬: s1.calculate_bmi()\n",
        "print(s1.calculate_bmi())\n",
        "\n",
        "s2 = Student(75, 180)\n",
        "print(s2.calculate_bmi())\n",
        "\n",
        "s3 = s1 + s2\n",
        "print(s3.calculate_bmi())"
      ],
      "metadata": {
        "colab": {
          "base_uri": "https://localhost:8080/"
        },
        "id": "3ZxBkLkwUkex",
        "outputId": "865fcadd-69b4-4a23-e5dd-218f9d4121b9"
      },
      "execution_count": 29,
      "outputs": [
        {
          "output_type": "stream",
          "name": "stdout",
          "text": [
            "26.122448979591837\n",
            "23.148148148148145\n",
            "24.598293989287843\n"
          ]
        }
      ]
    },
    {
      "cell_type": "code",
      "source": [],
      "metadata": {
        "id": "kdy0w76ZVGSn"
      },
      "execution_count": null,
      "outputs": []
    }
  ]
}