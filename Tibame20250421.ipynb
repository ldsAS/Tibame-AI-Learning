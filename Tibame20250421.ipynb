{
  "nbformat": 4,
  "nbformat_minor": 0,
  "metadata": {
    "colab": {
      "provenance": [],
      "authorship_tag": "ABX9TyMtUOPmgcUZhfUwPVzzvlue",
      "include_colab_link": true
    },
    "kernelspec": {
      "name": "python3",
      "display_name": "Python 3"
    },
    "language_info": {
      "name": "python"
    }
  },
  "cells": [
    {
      "cell_type": "markdown",
      "metadata": {
        "id": "view-in-github",
        "colab_type": "text"
      },
      "source": [
        "<a href=\"https://colab.research.google.com/github/ldsAS/Tibame-AI-Learning/blob/main/Tibame20250421.ipynb\" target=\"_parent\"><img src=\"https://colab.research.google.com/assets/colab-badge.svg\" alt=\"Open In Colab\"/></a>"
      ]
    },
    {
      "cell_type": "markdown",
      "source": [
        "# 爬蟲SOP\n",
        "\n",
        "```\n",
        "找到網址：\n",
        "1. 打開原始碼(網址列的答案)\n",
        "2. a. 你需要的就在原始碼：網址列\n",
        "  2. 你需要的沒在原始碼：F12找隱藏網址\n",
        "```"
      ],
      "metadata": {
        "id": "5gYSmI-9bz6q"
      }
    },
    {
      "cell_type": "markdown",
      "source": [
        "```\n",
        "HTML是由無數個長方形方框構成\n",
        "\n",
        "<a> -> 開始\n",
        "    顯示內容\n",
        "</a> -> 結束\n",
        "\n",
        "1. 名字：決定他是什麼\n",
        "    a：超連結 img：圖片 video：影片\n",
        "2. 屬性：決定細節(名=\"value\")\n",
        "    a href=\"網址\" img/video src=\"網址\"\n",
        "3. 顯示內容\n",
        "```"
      ],
      "metadata": {
        "id": "EET25i7d5vSv"
      }
    },
    {
      "cell_type": "markdown",
      "source": [
        "```\n",
        "前端\n",
        "1. HTML：內容部分\n",
        "2. CSS：排版設定檔\n",
        "3. JavaScript：動態部分\n",
        "\n",
        "後端\n",
        "1. 收到網址以後的處理\n",
        "2. 資料庫的管理\n",
        "```"
      ],
      "metadata": {
        "id": "U7KSLWOAA1r2"
      }
    },
    {
      "cell_type": "markdown",
      "source": [
        "<a class=\"list-rst__rst-name-target cpy-rst-name\" target=\"_blank\" rel=\"noopener\" data-list-dest=\"item_top\" href=\"https://tabelog.com/tw/tokyo/A1311/A131101/13229207/\">egg baby cafe</a>"
      ],
      "metadata": {
        "id": "FiYEHTWs6ksI"
      }
    },
    {
      "cell_type": "code",
      "execution_count": null,
      "metadata": {
        "id": "oJ-DukKfbjPc"
      },
      "outputs": [],
      "source": []
    }
  ]
}