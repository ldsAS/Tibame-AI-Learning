{
  "nbformat": 4,
  "nbformat_minor": 0,
  "metadata": {
    "colab": {
      "provenance": [],
      "authorship_tag": "ABX9TyNxgWUy3eHvTkI3sCGm3cti",
      "include_colab_link": true
    },
    "kernelspec": {
      "name": "python3",
      "display_name": "Python 3"
    },
    "language_info": {
      "name": "python"
    }
  },
  "cells": [
    {
      "cell_type": "markdown",
      "metadata": {
        "id": "view-in-github",
        "colab_type": "text"
      },
      "source": [
        "<a href=\"https://colab.research.google.com/github/ldsAS/Tibame-AI-Learning/blob/main/HW_31.ipynb\" target=\"_parent\"><img src=\"https://colab.research.google.com/assets/colab-badge.svg\" alt=\"Open In Colab\"/></a>"
      ]
    },
    {
      "cell_type": "code",
      "execution_count": 1,
      "metadata": {
        "colab": {
          "base_uri": "https://localhost:8080/"
        },
        "id": "AEvNW_y51XMt",
        "outputId": "d2fb1452-9efa-4a3c-ea0f-7e834f542999"
      },
      "outputs": [
        {
          "output_type": "stream",
          "name": "stdout",
          "text": [
            "到達第 100 層時, 總共有 573147844013817084101 種不同方式。\n"
          ]
        }
      ],
      "source": [
        "# [ 問題 1. ]\n",
        "# 計算到達第 n 層階梯的方法總數 (每次可踏 1 或 2 階)\n",
        "\n",
        "def count_stair_ways(n):\n",
        "  if n == 1:\n",
        "    return 1\n",
        "  elif n == 2:\n",
        "    return 2\n",
        "  else:\n",
        "    # 初始化前兩階的值\n",
        "    ways_n_minus_2 = 1\n",
        "    ways_n_minus_1 = 2\n",
        "    current_ways = 0\n",
        "\n",
        "    # 從第 3 層開始計算到第 n 層\n",
        "    for i in range(3, n + 1):\n",
        "      current_ways = ways_n_minus_1 + ways_n_minus_2\n",
        "      ways_n_minus_2 = ways_n_minus_1\n",
        "      ways_n_minus_1 = current_ways\n",
        "    return current_ways\n",
        "\n",
        "# 設定目標階梯數\n",
        "total_stairs = 100\n",
        "\n",
        "# 計算方法總數\n",
        "number_of_ways = count_stair_ways(total_stairs)\n",
        "\n",
        "# 輸出結果\n",
        "print(f\"到達第 {total_stairs} 層時, 總共有 {number_of_ways} 種不同方式。\")"
      ]
    },
    {
      "cell_type": "code",
      "source": [
        "# [ 問題 2. ]\n",
        "# 凱薩密碼的加密\n",
        "# 把加密過後的文件還原成原本的\n",
        "# 還原後的內容應含有: trouble will come of it\n",
        "\n",
        "import urllib.request as req\n",
        "\n",
        "# 解密文件來源\n",
        "url = \"https://raw.githubusercontent.com/Elwing-Chou/tibame1224/refs/heads/main/password.txt\"\n",
        "\n",
        "file_name = \"password.txt\"\n",
        "\n",
        "# 要檢查的句子\n",
        "sentence_to_check = \"trouble will come of it\"\n",
        "\n",
        "print(f\"下載檔案：{url} 並儲存為 {file_name}\")\n",
        "\n",
        "req.urlretrieve(url, file_name)\n",
        "f = open(file_name, \"r\", encoding=\"utf-8\")\n",
        "message = f.read()\n",
        "f.close()\n",
        "\n",
        "print(f\"\\n正在嘗試凱薩密碼解密，並尋找包含句子 '{sentence_to_check}' 的結果...\")\n",
        "\n",
        "# 定義凱薩密碼解密函式\n",
        "def decrypt_caesar(text, shift):\n",
        "    result = \"\"\n",
        "    for c in text:\n",
        "        # 判斷是否為英文字母\n",
        "        if ord(\"a\") <= ord(c) <= ord(\"z\"):\n",
        "            n = ord(c) - ord(\"a\")\n",
        "            n = (n + shift) % 26 + ord(\"a\")\n",
        "            result = result + chr(n)\n",
        "        else:\n",
        "            result = result + c\n",
        "    return result\n",
        "\n",
        "# 嘗試解密偏移量 1 到 25\n",
        "for decryption_shift in range(1, 26):\n",
        "    # 使用從檔案讀取到的 message\n",
        "    decrypted_text = decrypt_caesar(message, decryption_shift)\n",
        "\n",
        "    # 檢查判斷句是否在解密結果中\n",
        "    if sentence_to_check in decrypted_text:\n",
        "        # 找到符合條件的結果，印出原文\n",
        "        print(\"\\n--- 成功找到解密原文 ---\")\n",
        "        print(decrypted_text)\n",
        "        print(\"------------------------\")\n",
        "        break"
      ],
      "metadata": {
        "colab": {
          "base_uri": "https://localhost:8080/"
        },
        "id": "WmUehgS_6LqU",
        "outputId": "d5854635-218f-452d-c947-bbc2f78b3321"
      },
      "execution_count": 3,
      "outputs": [
        {
          "output_type": "stream",
          "name": "stdout",
          "text": [
            "下載檔案：https://raw.githubusercontent.com/Elwing-Chou/tibame1224/refs/heads/main/password.txt 並儲存為 password.txt\n",
            "\n",
            "正在嘗試凱薩密碼解密，並尋找包含句子 'trouble will come of it' 的結果...\n",
            "\n",
            "--- 成功找到解密原文 ---\n",
            "a long-expected party\n",
            "\n",
            "when mr. bilbo baggins of bag end announced that he would shortly be celebrating his eleventy-first birthday with a party of special magnificence, there was much talk and excitement in hobbiton.\n",
            "\n",
            "bilbo was very rich and very peculiar, and had been the wonder of the shire for sixty years, ever since his remarkable disappearance and unexpected return. the riches he had brought back from his travels had now become a local legend, and it was popularly believed, whatever the old folk might say, that the hill at bag end was full of tunnels stuffed with treasure. and if that was not enough for fame, there was also his prolonged vigour to marvel at. time wore on, but it seemed to have little effect on mr. baggins. at ninety he was much the same as at fifty. at ninety-nine they began to call him well-preserved, but unchanged would have been nearer the mark. there were some that shook their heads and thought this was too much of a good thing; it seemed unfair that anyone should possess (apparently) perpetual youth as well as (reputedly) inexhaustible wealth.\n",
            "\n",
            "'it will have to be paid for,' they said. 'it isn't natural, and trouble will come of it!'\n",
            "------------------------\n"
          ]
        }
      ]
    },
    {
      "cell_type": "code",
      "source": [
        "# [ 第三題 ]\n",
        "# 用 ColabTurtle 畫出圖形\n",
        "# github: https://github.com/tolgaatam/ColabTurtle\n",
        "# turtle原始api: https://docs.python.org/zh-tw/3.8/library/turtle.html\n",
        "\n",
        "# 安裝 ColabTurtle\n",
        "!pip install ColabTurtle\n",
        "\n",
        "import ColabTurtle.Turtle as turtle\n",
        "turtle.initializeTurtle()\n",
        "\n",
        "# 設定畫筆的狀態\n",
        "turtle.speed(10)        # 10最快\n",
        "turtle.pensize(2)       # 筆的粗細\n",
        "\n",
        "times = 30\n",
        "\n",
        "# 設定最外層正方形的初始點\n",
        "initial_side_length = 350\n",
        "center_x = canvas_width / 2\n",
        "center_y = canvas_height / 2\n",
        "\n",
        "# 計算座標(正中間)\n",
        "points = [\n",
        "    {\"x\": center_x - initial_side_length / 2, \"y\": center_y - initial_side_length / 2},             # 左上\n",
        "    {\"x\": center_x + initial_side_length / 2, \"y\": center_y - initial_side_length / 2},             # 右上\n",
        "    {\"x\": center_x + initial_side_length / 2, \"y\": center_y + initial_side_length / 2},             # 右下\n",
        "    {\"x\": center_x - initial_side_length / 2, \"y\": center_y + initial_side_length / 2}             # 左下\n",
        "]\n",
        "\n",
        "for square in range(times):\n",
        "    # penup: 不會畫\n",
        "    turtle.penup()\n",
        "    x_start, y_start = points[0][\"x\"], points[0][\"y\"]\n",
        "    turtle.goto(x_start, y_start)\n",
        "    # pendown: 才畫\n",
        "    turtle.pendown()\n",
        "\n",
        "    # 連接 points 的點畫圖形\n",
        "    for i in range(4):\n",
        "        # goto next\n",
        "        next_point_index = (i + 1) % 4\n",
        "        x_next, y_next = points[next_point_index][\"x\"], points[next_point_index][\"y\"]\n",
        "        turtle.goto(x_next, y_next)\n",
        "\n",
        "    # 下一層方形的點\n",
        "    next_points = []\n",
        "    for i in range(4):\n",
        "        p1 = points[i]\n",
        "        p2 = points[(i + 1) % 4]\n",
        "        mid_x = (p1[\"x\"] + p2[\"x\"]) / 2\n",
        "        mid_y = (p1[\"y\"] + p2[\"y\"]) / 2\n",
        "        # 新的中點\n",
        "        next_points.append({\"x\": mid_x, \"y\": mid_y})\n",
        "    points = next_points\n",
        "\n",
        "# 隱藏烏龜\n",
        "turtle.hideturtle()"
      ],
      "metadata": {
        "colab": {
          "base_uri": "https://localhost:8080/",
          "height": 539
        },
        "id": "qYrKKrVz2P3G",
        "outputId": "2e3baf67-8382-4d4f-ba58-5350215e68ca"
      },
      "execution_count": null,
      "outputs": [
        {
          "output_type": "stream",
          "name": "stdout",
          "text": [
            "Requirement already satisfied: ColabTurtle in /usr/local/lib/python3.11/dist-packages (2.1.0)\n"
          ]
        },
        {
          "output_type": "display_data",
          "data": {
            "text/plain": [
              "<IPython.core.display.HTML object>"
            ],
            "text/html": [
              "\n",
              "      <svg width=\"800\" height=\"500\">\n",
              "        <rect width=\"100%\" height=\"100%\" fill=\"black\"/>\n",
              "        <line x1=\"225.0\" y1=\"75.0\" x2=\"575.0\" y2=\"75.0\" stroke-linecap=\"round\" style=\"stroke:white;stroke-width:2\"/><line x1=\"575.0\" y1=\"75.0\" x2=\"575.0\" y2=\"425.0\" stroke-linecap=\"round\" style=\"stroke:white;stroke-width:2\"/><line x1=\"575.0\" y1=\"425.0\" x2=\"225.0\" y2=\"425.0\" stroke-linecap=\"round\" style=\"stroke:white;stroke-width:2\"/><line x1=\"225.0\" y1=\"425.0\" x2=\"225.0\" y2=\"75.0\" stroke-linecap=\"round\" style=\"stroke:white;stroke-width:2\"/><line x1=\"400.0\" y1=\"75.0\" x2=\"575.0\" y2=\"250.0\" stroke-linecap=\"round\" style=\"stroke:white;stroke-width:2\"/><line x1=\"575.0\" y1=\"250.0\" x2=\"400.0\" y2=\"425.0\" stroke-linecap=\"round\" style=\"stroke:white;stroke-width:2\"/><line x1=\"400.0\" y1=\"425.0\" x2=\"225.0\" y2=\"250.0\" stroke-linecap=\"round\" style=\"stroke:white;stroke-width:2\"/><line x1=\"225.0\" y1=\"250.0\" x2=\"400.0\" y2=\"75.0\" stroke-linecap=\"round\" style=\"stroke:white;stroke-width:2\"/><line x1=\"487.5\" y1=\"162.5\" x2=\"487.5\" y2=\"337.5\" stroke-linecap=\"round\" style=\"stroke:white;stroke-width:2\"/><line x1=\"487.5\" y1=\"337.5\" x2=\"312.5\" y2=\"337.5\" stroke-linecap=\"round\" style=\"stroke:white;stroke-width:2\"/><line x1=\"312.5\" y1=\"337.5\" x2=\"312.5\" y2=\"162.5\" stroke-linecap=\"round\" style=\"stroke:white;stroke-width:2\"/><line x1=\"312.5\" y1=\"162.5\" x2=\"487.5\" y2=\"162.5\" stroke-linecap=\"round\" style=\"stroke:white;stroke-width:2\"/><line x1=\"487.5\" y1=\"250.0\" x2=\"400.0\" y2=\"337.5\" stroke-linecap=\"round\" style=\"stroke:white;stroke-width:2\"/><line x1=\"400.0\" y1=\"337.5\" x2=\"312.5\" y2=\"250.0\" stroke-linecap=\"round\" style=\"stroke:white;stroke-width:2\"/><line x1=\"312.5\" y1=\"250.0\" x2=\"400.0\" y2=\"162.5\" stroke-linecap=\"round\" style=\"stroke:white;stroke-width:2\"/><line x1=\"400.0\" y1=\"162.5\" x2=\"487.5\" y2=\"250.0\" stroke-linecap=\"round\" style=\"stroke:white;stroke-width:2\"/><line x1=\"443.75\" y1=\"293.75\" x2=\"356.25\" y2=\"293.75\" stroke-linecap=\"round\" style=\"stroke:white;stroke-width:2\"/><line x1=\"356.25\" y1=\"293.75\" x2=\"356.25\" y2=\"206.25\" stroke-linecap=\"round\" style=\"stroke:white;stroke-width:2\"/><line x1=\"356.25\" y1=\"206.25\" x2=\"443.75\" y2=\"206.25\" stroke-linecap=\"round\" style=\"stroke:white;stroke-width:2\"/><line x1=\"443.75\" y1=\"206.25\" x2=\"443.75\" y2=\"293.75\" stroke-linecap=\"round\" style=\"stroke:white;stroke-width:2\"/><line x1=\"400.0\" y1=\"293.75\" x2=\"356.25\" y2=\"250.0\" stroke-linecap=\"round\" style=\"stroke:white;stroke-width:2\"/><line x1=\"356.25\" y1=\"250.0\" x2=\"400.0\" y2=\"206.25\" stroke-linecap=\"round\" style=\"stroke:white;stroke-width:2\"/><line x1=\"400.0\" y1=\"206.25\" x2=\"443.75\" y2=\"250.0\" stroke-linecap=\"round\" style=\"stroke:white;stroke-width:2\"/><line x1=\"443.75\" y1=\"250.0\" x2=\"400.0\" y2=\"293.75\" stroke-linecap=\"round\" style=\"stroke:white;stroke-width:2\"/><line x1=\"378.125\" y1=\"271.875\" x2=\"378.125\" y2=\"228.125\" stroke-linecap=\"round\" style=\"stroke:white;stroke-width:2\"/><line x1=\"378.125\" y1=\"228.125\" x2=\"421.875\" y2=\"228.125\" stroke-linecap=\"round\" style=\"stroke:white;stroke-width:2\"/><line x1=\"421.875\" y1=\"228.125\" x2=\"421.875\" y2=\"271.875\" stroke-linecap=\"round\" style=\"stroke:white;stroke-width:2\"/><line x1=\"421.875\" y1=\"271.875\" x2=\"378.125\" y2=\"271.875\" stroke-linecap=\"round\" style=\"stroke:white;stroke-width:2\"/><line x1=\"378.125\" y1=\"250.0\" x2=\"400.0\" y2=\"228.125\" stroke-linecap=\"round\" style=\"stroke:white;stroke-width:2\"/><line x1=\"400.0\" y1=\"228.125\" x2=\"421.875\" y2=\"250.0\" stroke-linecap=\"round\" style=\"stroke:white;stroke-width:2\"/><line x1=\"421.875\" y1=\"250.0\" x2=\"400.0\" y2=\"271.875\" stroke-linecap=\"round\" style=\"stroke:white;stroke-width:2\"/><line x1=\"400.0\" y1=\"271.875\" x2=\"378.125\" y2=\"250.0\" stroke-linecap=\"round\" style=\"stroke:white;stroke-width:2\"/><line x1=\"389.062\" y1=\"239.062\" x2=\"410.938\" y2=\"239.062\" stroke-linecap=\"round\" style=\"stroke:white;stroke-width:2\"/><line x1=\"410.938\" y1=\"239.062\" x2=\"410.938\" y2=\"260.938\" stroke-linecap=\"round\" style=\"stroke:white;stroke-width:2\"/><line x1=\"410.938\" y1=\"260.938\" x2=\"389.062\" y2=\"260.938\" stroke-linecap=\"round\" style=\"stroke:white;stroke-width:2\"/><line x1=\"389.062\" y1=\"260.938\" x2=\"389.062\" y2=\"239.062\" stroke-linecap=\"round\" style=\"stroke:white;stroke-width:2\"/><line x1=\"400.0\" y1=\"239.062\" x2=\"410.938\" y2=\"250.0\" stroke-linecap=\"round\" style=\"stroke:white;stroke-width:2\"/><line x1=\"410.938\" y1=\"250.0\" x2=\"400.0\" y2=\"260.938\" stroke-linecap=\"round\" style=\"stroke:white;stroke-width:2\"/><line x1=\"400.0\" y1=\"260.938\" x2=\"389.062\" y2=\"250.0\" stroke-linecap=\"round\" style=\"stroke:white;stroke-width:2\"/><line x1=\"389.062\" y1=\"250.0\" x2=\"400.0\" y2=\"239.062\" stroke-linecap=\"round\" style=\"stroke:white;stroke-width:2\"/><line x1=\"405.469\" y1=\"244.531\" x2=\"405.469\" y2=\"255.469\" stroke-linecap=\"round\" style=\"stroke:white;stroke-width:2\"/><line x1=\"405.469\" y1=\"255.469\" x2=\"394.531\" y2=\"255.469\" stroke-linecap=\"round\" style=\"stroke:white;stroke-width:2\"/><line x1=\"394.531\" y1=\"255.469\" x2=\"394.531\" y2=\"244.531\" stroke-linecap=\"round\" style=\"stroke:white;stroke-width:2\"/><line x1=\"394.531\" y1=\"244.531\" x2=\"405.469\" y2=\"244.531\" stroke-linecap=\"round\" style=\"stroke:white;stroke-width:2\"/><line x1=\"405.469\" y1=\"250.0\" x2=\"400.0\" y2=\"255.469\" stroke-linecap=\"round\" style=\"stroke:white;stroke-width:2\"/><line x1=\"400.0\" y1=\"255.469\" x2=\"394.531\" y2=\"250.0\" stroke-linecap=\"round\" style=\"stroke:white;stroke-width:2\"/><line x1=\"394.531\" y1=\"250.0\" x2=\"400.0\" y2=\"244.531\" stroke-linecap=\"round\" style=\"stroke:white;stroke-width:2\"/><line x1=\"400.0\" y1=\"244.531\" x2=\"405.469\" y2=\"250.0\" stroke-linecap=\"round\" style=\"stroke:white;stroke-width:2\"/><line x1=\"402.734\" y1=\"252.734\" x2=\"397.266\" y2=\"252.734\" stroke-linecap=\"round\" style=\"stroke:white;stroke-width:2\"/><line x1=\"397.266\" y1=\"252.734\" x2=\"397.266\" y2=\"247.266\" stroke-linecap=\"round\" style=\"stroke:white;stroke-width:2\"/><line x1=\"397.266\" y1=\"247.266\" x2=\"402.734\" y2=\"247.266\" stroke-linecap=\"round\" style=\"stroke:white;stroke-width:2\"/><line x1=\"402.734\" y1=\"247.266\" x2=\"402.734\" y2=\"252.734\" stroke-linecap=\"round\" style=\"stroke:white;stroke-width:2\"/><line x1=\"400.0\" y1=\"252.734\" x2=\"397.266\" y2=\"250.0\" stroke-linecap=\"round\" style=\"stroke:white;stroke-width:2\"/><line x1=\"397.266\" y1=\"250.0\" x2=\"400.0\" y2=\"247.266\" stroke-linecap=\"round\" style=\"stroke:white;stroke-width:2\"/><line x1=\"400.0\" y1=\"247.266\" x2=\"402.734\" y2=\"250.0\" stroke-linecap=\"round\" style=\"stroke:white;stroke-width:2\"/><line x1=\"402.734\" y1=\"250.0\" x2=\"400.0\" y2=\"252.734\" stroke-linecap=\"round\" style=\"stroke:white;stroke-width:2\"/><line x1=\"398.633\" y1=\"251.367\" x2=\"398.633\" y2=\"248.633\" stroke-linecap=\"round\" style=\"stroke:white;stroke-width:2\"/><line x1=\"398.633\" y1=\"248.633\" x2=\"401.367\" y2=\"248.633\" stroke-linecap=\"round\" style=\"stroke:white;stroke-width:2\"/><line x1=\"401.367\" y1=\"248.633\" x2=\"401.367\" y2=\"251.367\" stroke-linecap=\"round\" style=\"stroke:white;stroke-width:2\"/><line x1=\"401.367\" y1=\"251.367\" x2=\"398.633\" y2=\"251.367\" stroke-linecap=\"round\" style=\"stroke:white;stroke-width:2\"/><line x1=\"398.633\" y1=\"250.0\" x2=\"400.0\" y2=\"248.633\" stroke-linecap=\"round\" style=\"stroke:white;stroke-width:2\"/><line x1=\"400.0\" y1=\"248.633\" x2=\"401.367\" y2=\"250.0\" stroke-linecap=\"round\" style=\"stroke:white;stroke-width:2\"/><line x1=\"401.367\" y1=\"250.0\" x2=\"400.0\" y2=\"251.367\" stroke-linecap=\"round\" style=\"stroke:white;stroke-width:2\"/><line x1=\"400.0\" y1=\"251.367\" x2=\"398.633\" y2=\"250.0\" stroke-linecap=\"round\" style=\"stroke:white;stroke-width:2\"/><line x1=\"399.316\" y1=\"249.316\" x2=\"400.684\" y2=\"249.316\" stroke-linecap=\"round\" style=\"stroke:white;stroke-width:2\"/><line x1=\"400.684\" y1=\"249.316\" x2=\"400.684\" y2=\"250.684\" stroke-linecap=\"round\" style=\"stroke:white;stroke-width:2\"/><line x1=\"400.684\" y1=\"250.684\" x2=\"399.316\" y2=\"250.684\" stroke-linecap=\"round\" style=\"stroke:white;stroke-width:2\"/><line x1=\"399.316\" y1=\"250.684\" x2=\"399.316\" y2=\"249.316\" stroke-linecap=\"round\" style=\"stroke:white;stroke-width:2\"/><line x1=\"400.0\" y1=\"249.316\" x2=\"400.684\" y2=\"250.0\" stroke-linecap=\"round\" style=\"stroke:white;stroke-width:2\"/><line x1=\"400.684\" y1=\"250.0\" x2=\"400.0\" y2=\"250.684\" stroke-linecap=\"round\" style=\"stroke:white;stroke-width:2\"/><line x1=\"400.0\" y1=\"250.684\" x2=\"399.316\" y2=\"250.0\" stroke-linecap=\"round\" style=\"stroke:white;stroke-width:2\"/><line x1=\"399.316\" y1=\"250.0\" x2=\"400.0\" y2=\"249.316\" stroke-linecap=\"round\" style=\"stroke:white;stroke-width:2\"/><line x1=\"400.342\" y1=\"249.658\" x2=\"400.342\" y2=\"250.342\" stroke-linecap=\"round\" style=\"stroke:white;stroke-width:2\"/><line x1=\"400.342\" y1=\"250.342\" x2=\"399.658\" y2=\"250.342\" stroke-linecap=\"round\" style=\"stroke:white;stroke-width:2\"/><line x1=\"399.658\" y1=\"250.342\" x2=\"399.658\" y2=\"249.658\" stroke-linecap=\"round\" style=\"stroke:white;stroke-width:2\"/><line x1=\"399.658\" y1=\"249.658\" x2=\"400.342\" y2=\"249.658\" stroke-linecap=\"round\" style=\"stroke:white;stroke-width:2\"/><line x1=\"400.342\" y1=\"250.0\" x2=\"400.0\" y2=\"250.342\" stroke-linecap=\"round\" style=\"stroke:white;stroke-width:2\"/><line x1=\"400.0\" y1=\"250.342\" x2=\"399.658\" y2=\"250.0\" stroke-linecap=\"round\" style=\"stroke:white;stroke-width:2\"/><line x1=\"399.658\" y1=\"250.0\" x2=\"400.0\" y2=\"249.658\" stroke-linecap=\"round\" style=\"stroke:white;stroke-width:2\"/><line x1=\"400.0\" y1=\"249.658\" x2=\"400.342\" y2=\"250.0\" stroke-linecap=\"round\" style=\"stroke:white;stroke-width:2\"/><line x1=\"400.171\" y1=\"250.171\" x2=\"399.829\" y2=\"250.171\" stroke-linecap=\"round\" style=\"stroke:white;stroke-width:2\"/><line x1=\"399.829\" y1=\"250.171\" x2=\"399.829\" y2=\"249.829\" stroke-linecap=\"round\" style=\"stroke:white;stroke-width:2\"/><line x1=\"399.829\" y1=\"249.829\" x2=\"400.171\" y2=\"249.829\" stroke-linecap=\"round\" style=\"stroke:white;stroke-width:2\"/><line x1=\"400.171\" y1=\"249.829\" x2=\"400.171\" y2=\"250.171\" stroke-linecap=\"round\" style=\"stroke:white;stroke-width:2\"/><line x1=\"400.0\" y1=\"250.171\" x2=\"399.829\" y2=\"250.0\" stroke-linecap=\"round\" style=\"stroke:white;stroke-width:2\"/><line x1=\"399.829\" y1=\"250.0\" x2=\"400.0\" y2=\"249.829\" stroke-linecap=\"round\" style=\"stroke:white;stroke-width:2\"/><line x1=\"400.0\" y1=\"249.829\" x2=\"400.171\" y2=\"250.0\" stroke-linecap=\"round\" style=\"stroke:white;stroke-width:2\"/><line x1=\"400.171\" y1=\"250.0\" x2=\"400.0\" y2=\"250.171\" stroke-linecap=\"round\" style=\"stroke:white;stroke-width:2\"/><line x1=\"399.915\" y1=\"250.085\" x2=\"399.915\" y2=\"249.915\" stroke-linecap=\"round\" style=\"stroke:white;stroke-width:2\"/><line x1=\"399.915\" y1=\"249.915\" x2=\"400.085\" y2=\"249.915\" stroke-linecap=\"round\" style=\"stroke:white;stroke-width:2\"/><line x1=\"400.085\" y1=\"249.915\" x2=\"400.085\" y2=\"250.085\" stroke-linecap=\"round\" style=\"stroke:white;stroke-width:2\"/><line x1=\"400.085\" y1=\"250.085\" x2=\"399.915\" y2=\"250.085\" stroke-linecap=\"round\" style=\"stroke:white;stroke-width:2\"/><line x1=\"399.915\" y1=\"250.0\" x2=\"400.0\" y2=\"249.915\" stroke-linecap=\"round\" style=\"stroke:white;stroke-width:2\"/><line x1=\"400.0\" y1=\"249.915\" x2=\"400.085\" y2=\"250.0\" stroke-linecap=\"round\" style=\"stroke:white;stroke-width:2\"/><line x1=\"400.085\" y1=\"250.0\" x2=\"400.0\" y2=\"250.085\" stroke-linecap=\"round\" style=\"stroke:white;stroke-width:2\"/><line x1=\"400.0\" y1=\"250.085\" x2=\"399.915\" y2=\"250.0\" stroke-linecap=\"round\" style=\"stroke:white;stroke-width:2\"/><line x1=\"399.957\" y1=\"249.957\" x2=\"400.043\" y2=\"249.957\" stroke-linecap=\"round\" style=\"stroke:white;stroke-width:2\"/><line x1=\"400.043\" y1=\"249.957\" x2=\"400.043\" y2=\"250.043\" stroke-linecap=\"round\" style=\"stroke:white;stroke-width:2\"/><line x1=\"400.043\" y1=\"250.043\" x2=\"399.957\" y2=\"250.043\" stroke-linecap=\"round\" style=\"stroke:white;stroke-width:2\"/><line x1=\"399.957\" y1=\"250.043\" x2=\"399.957\" y2=\"249.957\" stroke-linecap=\"round\" style=\"stroke:white;stroke-width:2\"/><line x1=\"400.0\" y1=\"249.957\" x2=\"400.043\" y2=\"250.0\" stroke-linecap=\"round\" style=\"stroke:white;stroke-width:2\"/><line x1=\"400.043\" y1=\"250.0\" x2=\"400.0\" y2=\"250.043\" stroke-linecap=\"round\" style=\"stroke:white;stroke-width:2\"/><line x1=\"400.0\" y1=\"250.043\" x2=\"399.957\" y2=\"250.0\" stroke-linecap=\"round\" style=\"stroke:white;stroke-width:2\"/><line x1=\"399.957\" y1=\"250.0\" x2=\"400.0\" y2=\"249.957\" stroke-linecap=\"round\" style=\"stroke:white;stroke-width:2\"/><line x1=\"400.021\" y1=\"249.979\" x2=\"400.021\" y2=\"250.021\" stroke-linecap=\"round\" style=\"stroke:white;stroke-width:2\"/><line x1=\"400.021\" y1=\"250.021\" x2=\"399.979\" y2=\"250.021\" stroke-linecap=\"round\" style=\"stroke:white;stroke-width:2\"/><line x1=\"399.979\" y1=\"250.021\" x2=\"399.979\" y2=\"249.979\" stroke-linecap=\"round\" style=\"stroke:white;stroke-width:2\"/><line x1=\"399.979\" y1=\"249.979\" x2=\"400.021\" y2=\"249.979\" stroke-linecap=\"round\" style=\"stroke:white;stroke-width:2\"/><line x1=\"400.021\" y1=\"250.0\" x2=\"400.0\" y2=\"250.021\" stroke-linecap=\"round\" style=\"stroke:white;stroke-width:2\"/><line x1=\"400.0\" y1=\"250.021\" x2=\"399.979\" y2=\"250.0\" stroke-linecap=\"round\" style=\"stroke:white;stroke-width:2\"/><line x1=\"399.979\" y1=\"250.0\" x2=\"400.0\" y2=\"249.979\" stroke-linecap=\"round\" style=\"stroke:white;stroke-width:2\"/><line x1=\"400.0\" y1=\"249.979\" x2=\"400.021\" y2=\"250.0\" stroke-linecap=\"round\" style=\"stroke:white;stroke-width:2\"/><line x1=\"400.011\" y1=\"250.011\" x2=\"399.989\" y2=\"250.011\" stroke-linecap=\"round\" style=\"stroke:white;stroke-width:2\"/><line x1=\"399.989\" y1=\"250.011\" x2=\"399.989\" y2=\"249.989\" stroke-linecap=\"round\" style=\"stroke:white;stroke-width:2\"/><line x1=\"399.989\" y1=\"249.989\" x2=\"400.011\" y2=\"249.989\" stroke-linecap=\"round\" style=\"stroke:white;stroke-width:2\"/><line x1=\"400.011\" y1=\"249.989\" x2=\"400.011\" y2=\"250.011\" stroke-linecap=\"round\" style=\"stroke:white;stroke-width:2\"/><line x1=\"400.0\" y1=\"250.011\" x2=\"399.989\" y2=\"250.0\" stroke-linecap=\"round\" style=\"stroke:white;stroke-width:2\"/><line x1=\"399.989\" y1=\"250.0\" x2=\"400.0\" y2=\"249.989\" stroke-linecap=\"round\" style=\"stroke:white;stroke-width:2\"/><line x1=\"400.0\" y1=\"249.989\" x2=\"400.011\" y2=\"250.0\" stroke-linecap=\"round\" style=\"stroke:white;stroke-width:2\"/><line x1=\"400.011\" y1=\"250.0\" x2=\"400.0\" y2=\"250.011\" stroke-linecap=\"round\" style=\"stroke:white;stroke-width:2\"/>\n",
              "        <g visibility=hidden transform=\"rotate(360,400.0,250.011) translate(382.0, 232.011)\">\n",
              "<path style=\" stroke:none;fill-rule:evenodd;fill:white;fill-opacity:1;\" d=\"M 18.214844 0.632812 C 16.109375 1.800781 15.011719 4.074219 15.074219 7.132812 L 15.085938 7.652344 L 14.785156 7.496094 C 13.476562 6.824219 11.957031 6.671875 10.40625 7.066406 C 8.46875 7.550781 6.515625 9.15625 4.394531 11.992188 C 3.0625 13.777344 2.679688 14.636719 3.042969 15.027344 L 3.15625 15.152344 L 3.519531 15.152344 C 4.238281 15.152344 4.828125 14.886719 8.1875 13.039062 C 9.386719 12.378906 10.371094 11.839844 10.378906 11.839844 C 10.386719 11.839844 10.355469 11.929688 10.304688 12.035156 C 9.832031 13.09375 9.257812 14.820312 8.96875 16.078125 C 7.914062 20.652344 8.617188 24.53125 11.070312 27.660156 C 11.351562 28.015625 11.363281 27.914062 10.972656 28.382812 C 8.925781 30.84375 7.945312 33.28125 8.238281 35.1875 C 8.289062 35.527344 8.28125 35.523438 8.917969 35.523438 C 10.941406 35.523438 13.074219 34.207031 15.136719 31.6875 C 15.359375 31.417969 15.328125 31.425781 15.5625 31.574219 C 16.292969 32.042969 18.023438 32.964844 18.175781 32.964844 C 18.335938 32.964844 19.941406 32.210938 20.828125 31.71875 C 20.996094 31.625 21.136719 31.554688 21.136719 31.558594 C 21.203125 31.664062 21.898438 32.414062 22.222656 32.730469 C 23.835938 34.300781 25.5625 35.132812 27.582031 35.300781 C 27.90625 35.328125 27.9375 35.308594 28.007812 34.984375 C 28.382812 33.242188 27.625 30.925781 25.863281 28.425781 L 25.542969 27.96875 L 25.699219 27.785156 C 28.945312 23.960938 29.132812 18.699219 26.257812 11.96875 L 26.207031 11.84375 L 27.945312 12.703125 C 31.53125 14.476562 32.316406 14.800781 33.03125 14.800781 C 33.976562 14.800781 33.78125 13.9375 32.472656 12.292969 C 28.519531 7.355469 25.394531 5.925781 21.921875 7.472656 L 21.558594 7.636719 L 21.578125 7.542969 C 21.699219 6.992188 21.761719 5.742188 21.699219 5.164062 C 21.496094 3.296875 20.664062 1.964844 19.003906 0.855469 C 18.480469 0.503906 18.457031 0.5 18.214844 0.632812\"/>\n",
              "</g>\n",
              "      </svg>\n",
              "    "
            ]
          },
          "metadata": {}
        }
      ]
    }
  ]
}