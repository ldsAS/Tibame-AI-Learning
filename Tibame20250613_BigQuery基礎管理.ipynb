{
  "nbformat": 4,
  "nbformat_minor": 0,
  "metadata": {
    "colab": {
      "provenance": [],
      "authorship_tag": "ABX9TyO210YLVzX6NgHqwfawauB7",
      "include_colab_link": true
    },
    "kernelspec": {
      "name": "python3",
      "display_name": "Python 3"
    },
    "language_info": {
      "name": "python"
    }
  },
  "cells": [
    {
      "cell_type": "markdown",
      "metadata": {
        "id": "view-in-github",
        "colab_type": "text"
      },
      "source": [
        "<a href=\"https://colab.research.google.com/github/ldsAS/Tibame-AI-Learning/blob/main/Tibame20250613_BigQuery%E5%9F%BA%E7%A4%8E%E7%AE%A1%E7%90%86.ipynb\" target=\"_parent\"><img src=\"https://colab.research.google.com/assets/colab-badge.svg\" alt=\"Open In Colab\"/></a>"
      ]
    },
    {
      "cell_type": "code",
      "execution_count": null,
      "metadata": {
        "id": "qbrfCVh7Pf7u"
      },
      "outputs": [],
      "source": [
        "!pip install google-cloud-bigquery"
      ]
    },
    {
      "cell_type": "code",
      "source": [
        "import os\n",
        "from google.cloud import bigquery\n",
        "\n",
        "# 設置 Google Cloud 認證\n",
        "os.environ['GOOGLE_APPLICATION_CREDENTIALS']=r\"/content/tibame-gad251-31-0613-eb999168cd3d.json\"\n",
        "\n",
        "\n",
        "# 初始化 BigQuery 客戶端\n",
        "client = bigquery.Client()\n",
        "print('connection done')\n"
      ],
      "metadata": {
        "colab": {
          "base_uri": "https://localhost:8080/"
        },
        "id": "_n533AWOQK5Y",
        "outputId": "19fcb071-2f66-4645-dd07-a6c9d2001fcf"
      },
      "execution_count": 1,
      "outputs": [
        {
          "output_type": "stream",
          "name": "stdout",
          "text": [
            "connection done\n"
          ]
        }
      ]
    },
    {
      "cell_type": "code",
      "source": [
        "# 定義資料集參數\n",
        "dataset_id = 'tibame_gad251_31_dataset_py'  # 替換為想要建立的資料集名稱\n",
        "project_id = 'tibame-gad251-31-0613'  # 替換為 Google Cloud 專案 ID\n",
        "dataset_ref = client.dataset(dataset_id)\n",
        "\n",
        "# 設定資料集的描述和其他選項\n",
        "dataset = bigquery.Dataset(dataset_ref)\n",
        "dataset.description = 'This is a new dataset created from Python.'\n",
        "dataset.location = 'US'  # 設定資料集的地區位置\n",
        "\n",
        "# 建立資料集\n",
        "dataset = client.create_dataset(dataset, timeout=30)  # 可設定超時時間\n",
        "print(f\"dataset: {dataset.dataset_id} ,created\")\n"
      ],
      "metadata": {
        "colab": {
          "base_uri": "https://localhost:8080/"
        },
        "id": "QsSBCAoXSEeV",
        "outputId": "cda5901f-f871-4c27-baac-ccf7c6c00994"
      },
      "execution_count": 2,
      "outputs": [
        {
          "output_type": "stream",
          "name": "stdout",
          "text": [
            "dataset: tibame_gad251_31_dataset_py ,created\n"
          ]
        }
      ]
    },
    {
      "cell_type": "code",
      "source": [
        "# 定義資料集和資料表\n",
        "dataset_id = 'tibame_gad251_31_dataset_py'\n",
        "table_id = 'age_table'\n",
        "schema = [\n",
        "    bigquery.SchemaField(\"name\", \"STRING\"),\n",
        "    bigquery.SchemaField(\"age\", \"INTEGER\"),\n",
        "]\n",
        "\n",
        "# 定義表格參數\n",
        "table_ref = client.dataset(dataset_id).table(table_id)\n",
        "table = bigquery.Table(table_ref, schema=schema)\n",
        "\n",
        "# 建立資料表\n",
        "table = client.create_table(table)\n",
        "print(f\"table: {table.table_id} ,created\")\n"
      ],
      "metadata": {
        "colab": {
          "base_uri": "https://localhost:8080/"
        },
        "id": "1efeibpRSLAJ",
        "outputId": "48081229-16c4-4da1-f25f-a45931ea2e6b"
      },
      "execution_count": 3,
      "outputs": [
        {
          "output_type": "stream",
          "name": "stdout",
          "text": [
            "table: age_table ,created\n"
          ]
        }
      ]
    },
    {
      "cell_type": "code",
      "source": [
        "# 定義資料集和表資料表名稱\n",
        "dataset_id = 'tibame_gad251_31_dataset_py'\n",
        "table_id = 'age_table'\n",
        "\n",
        "# 定義資料\n",
        "rows_to_insert = [\n",
        "    {\"name\": \"Alice\", \"age\": 25},\n",
        "    {\"name\": \"Bob\", \"age\": 35},\n",
        "    {\"name\": \"Oscar\", \"age\": 29}\n",
        "]\n",
        "\n",
        "# 插入資料\n",
        "errors = client.insert_rows_json(f\"{dataset_id}.{table_id}\", rows_to_insert)\n",
        "\n",
        "if errors == []:\n",
        "    print(\"data insert successfully\")\n",
        "else:\n",
        "    print(f\"error: {errors}\")\n",
        "\n"
      ],
      "metadata": {
        "colab": {
          "base_uri": "https://localhost:8080/"
        },
        "id": "RDDhpz5WSM5v",
        "outputId": "bbec7b94-9534-4463-b3ed-787d906971dc"
      },
      "execution_count": 12,
      "outputs": [
        {
          "output_type": "stream",
          "name": "stdout",
          "text": [
            "data insert successfully\n"
          ]
        }
      ]
    },
    {
      "cell_type": "code",
      "source": [
        "# 定義查詢語句\n",
        "# query = \"\"\"\n",
        "#     SELECT name, age\n",
        "#     FROM `tibame-gad251-31-0613.tibame_gad251_31_dataset_py.age_table`\n",
        "#     WHERE age > 30\n",
        "# \"\"\"\n",
        "\n",
        "# 使用 f 使用變數的方式\n",
        "query = f\"\"\"\n",
        "    select name, age\n",
        "    from `{project_id}.{dataset_id}.{table_id}`\n",
        "    where age > 30\n",
        "\"\"\"\n",
        "\n",
        "# 執行查詢\n",
        "query_job = client.query(query)\n",
        "\n",
        "# 獲取結果\n",
        "results = query_job.result()\n",
        "\n",
        "# 印出結果\n",
        "for row in results:\n",
        "    print(f\"name: {row.name}, age: {row.age}\")"
      ],
      "metadata": {
        "colab": {
          "base_uri": "https://localhost:8080/"
        },
        "id": "YnPX_JaRSOjV",
        "outputId": "8dd182f0-740e-4a1a-b152-f336b9fc78fe"
      },
      "execution_count": 17,
      "outputs": [
        {
          "output_type": "stream",
          "name": "stdout",
          "text": [
            "name: Bob, age: 35\n",
            "name: Bob, age: 35\n",
            "name: Bob, age: 35\n"
          ]
        }
      ]
    },
    {
      "cell_type": "code",
      "source": [
        "# 定義資料集和資料表名稱\n",
        "dataset_id = '資料集ID'\n",
        "table_id = 'age_table'\n",
        "\n",
        "# 定義資料表參數\n",
        "table_ref = client.dataset(dataset_id).table(table_id)\n",
        "\n",
        "# 刪除資料表\n",
        "client.delete_table(table_ref)\n",
        "print(f\"table: {table_id} ,deleted\")\n"
      ],
      "metadata": {
        "id": "J3djlKdfSRLj"
      },
      "execution_count": null,
      "outputs": []
    },
    {
      "cell_type": "code",
      "source": [
        "# 定義 SQL 查詢以創建模型\n",
        "query = \"\"\"\n",
        "CREATE OR REPLACE MODEL `專案ID.資料集ID.imported_tf_model`\n",
        "OPTIONS (MODEL_TYPE='TENSORFLOW',\n",
        "         MODEL_PATH='gs://cloud-training-demos/txtclass/export/exporter/1549825580/*')\n",
        "\"\"\"\n",
        "\n",
        "# 執行 SQL 查詢以創建模型\n",
        "query_job = client.query(query)\n",
        "query_job.result()  # 等待查詢完成\n",
        "\n",
        "print(\"TensorFlow model import BigQuery ML\")\n"
      ],
      "metadata": {
        "id": "z1O8j2E4SViz"
      },
      "execution_count": null,
      "outputs": []
    },
    {
      "cell_type": "code",
      "source": [
        "# 定義 SQL 查詢以使用模型進行預測，只取五筆非 NULL 的資料\n",
        "query = \"\"\"\n",
        "SELECT *\n",
        "FROM ML.PREDICT(MODEL `專案ID.資料集ID.imported_tf_model`,\n",
        "  (SELECT title AS input\n",
        "   FROM `bigquery-public-data.hacker_news.full`\n",
        "   WHERE title IS NOT NULL\n",
        "   LIMIT 5)  -- 限制結果為五筆資料\n",
        ")\n",
        "\"\"\"\n",
        "\n",
        "# 執行 SQL 查詢以進行預測\n",
        "query_job = client.query(query)\n",
        "results = query_job.result()  # 等待查詢完成\n",
        "\n",
        "# 印出預測結果\n",
        "for row in results:\n",
        "    print(row)\n"
      ],
      "metadata": {
        "id": "2fvDeqXtSXWt"
      },
      "execution_count": null,
      "outputs": []
    },
    {
      "cell_type": "code",
      "source": [
        "# 定義資料集名稱\n",
        "dataset_id = '資料集ID'\n",
        "\n",
        "# 定義資料集參數\n",
        "dataset_ref = client.dataset(dataset_id)\n",
        "\n",
        "# 刪除資料集\n",
        "client.delete_dataset(dataset_ref, delete_contents=True)\n",
        "print(f\"dataset: {dataset_id} ,deleted\")\n"
      ],
      "metadata": {
        "id": "5QjtcqLqSZQR"
      },
      "execution_count": null,
      "outputs": []
    }
  ]
}