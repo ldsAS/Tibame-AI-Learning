{
  "nbformat": 4,
  "nbformat_minor": 0,
  "metadata": {
    "colab": {
      "provenance": [],
      "authorship_tag": "ABX9TyPUnx6EoqKtySHwMLnEnOv9",
      "include_colab_link": true
    },
    "kernelspec": {
      "name": "python3",
      "display_name": "Python 3"
    },
    "language_info": {
      "name": "python"
    }
  },
  "cells": [
    {
      "cell_type": "markdown",
      "metadata": {
        "id": "view-in-github",
        "colab_type": "text"
      },
      "source": [
        "<a href=\"https://colab.research.google.com/github/ldsAS/Tibame-AI-Learning/blob/main/Tibame2025042202.ipynb\" target=\"_parent\"><img src=\"https://colab.research.google.com/assets/colab-badge.svg\" alt=\"Open In Colab\"/></a>"
      ]
    },
    {
      "cell_type": "markdown",
      "source": [
        "```\n",
        "HTTP代碼\n",
        "2: 成功\n",
        "3: 轉址\n",
        "4: 錯誤\n",
        "\n",
        "403: Forbidden\n",
        "    1. IP被拒絕\n",
        "    2. 你學得不像\n",
        "404: Not Found\n",
        "\n",
        "問題: 1. 網址 2. Header\n",
        "```"
      ],
      "metadata": {
        "id": "NyUafjjSOrL0"
      }
    },
    {
      "cell_type": "code",
      "execution_count": 24,
      "metadata": {
        "colab": {
          "base_uri": "https://localhost:8080/",
          "height": 106
        },
        "collapsed": true,
        "id": "zZaU37cYNt9E",
        "outputId": "33812934-5fe5-49dc-fa40-4edb23d37a4d"
      },
      "outputs": [
        {
          "output_type": "error",
          "ename": "SyntaxError",
          "evalue": "invalid syntax (<ipython-input-24-401deb68cc6f>, line 37)",
          "traceback": [
            "\u001b[0;36m  File \u001b[0;32m\"<ipython-input-24-401deb68cc6f>\"\u001b[0;36m, line \u001b[0;32m37\u001b[0m\n\u001b[0;31m    \"ip/date\": p_ipanddate\u001b[0m\n\u001b[0m    ^\u001b[0m\n\u001b[0;31mSyntaxError\u001b[0m\u001b[0;31m:\u001b[0m invalid syntax\n"
          ]
        }
      ],
      "source": [
        "import urllib.request as req\n",
        "import bs4 as bs\n",
        "\n",
        "url = \"https://www.ptt.cc/bbs/Beauty/M.1745244509.A.41E.html\"\n",
        "r = req.Request(url)\n",
        "r.add_header(\"User-Agent\", \"Mozilla/5.0 (Windows NT 10.0; Win64; x64) AppleWebKit/537.36 (KHTML, like Gecko) Chrome/135.0.0.0 Safari/537.36\")\n",
        "resp = req.urlopen(r)\n",
        "html = bs.BeautifulSoup(resp.read())\n",
        "\n",
        "# meta process\n",
        "metas = html.find_all(\"span\", {\"class\":\"article-meta-value\"})\n",
        "post_id = metas[0].text\n",
        "post_title = metas[1].text\n",
        "post_time = metas[2].text\n",
        "post_board = metas[3].text\n",
        "\n",
        "# push process\n",
        "push_list = []\n",
        "pushes = html.find_all(\"div\",{\"class\":\"puah\"})\n",
        "for push in pushes:\n",
        "    push_meta = push.find_all(\"span\")\n",
        "    p_type = push_meta[0].text\n",
        "    if \"推\" in p_type:\n",
        "        p_type = 1\n",
        "    elif \"噓\" in p_type:\n",
        "        p_type = -1\n",
        "    else:\n",
        "        p_type = 0\n",
        "\n",
        "    p_id = push_meta[1].text\n",
        "    p_text = push_meta[2].text.replace(\": \", \"\")\n",
        "    p_ipanddate = push_meta[3].text.strip()\n",
        "    p_dict = {\n",
        "        \"id\": p_id,\n",
        "        \"type\": p_type,\n",
        "        \"text\": p_text\n",
        "        \"ip/date\": p_ipanddate\n",
        "    }\n",
        "    push_list.append(p_dict)\n",
        "print(push_list)\n",
        "\n",
        "\n",
        "\n",
        "\n",
        "# {\n",
        "#     \"作者\":\n",
        "#     \"標題\":\n",
        "#     \"時間\":\n",
        "#     \"看板\":\n",
        "#     \"推噓文\":[\n",
        "#         # -1: 噓 0: > 1: 推\n",
        "#         {\"id\":\"\", \"type\": , \"text\":\"\"}\n",
        "#     ]\n",
        "\n",
        "# }"
      ]
    },
    {
      "cell_type": "code",
      "source": [
        "# 內文: extrct() 命令消失\n",
        "# 所以把main-content區塊裡面的其他div都消失\n",
        "import urllib.request as req\n",
        "import bs4 as bs\n",
        "\n",
        "url = \"https://www.ptt.cc/bbs/Beauty/M.1745244509.A.41E.html\"\n",
        "r = req.Request(url)\n",
        "r.add_header(\"User-Agent\", \"Mozilla/5.0 (Windows NT 10.0; Win64; x64) AppleWebKit/537.36 (KHTML, like Gecko) Chrome/135.0.0.0 Safari/537.36\")\n",
        "resp = req.urlopen(r)\n",
        "html = bs.BeautifulSoup(resp.read())\n",
        "\n",
        "main_content = html.find(\"div\",{\"id\":\"main-content\"})\n",
        "other_div = main_content.find_all(\"div\")\n",
        "for other in other_div:\n",
        "    other.extract()\n",
        "print(main_content.text)"
      ],
      "metadata": {
        "colab": {
          "base_uri": "https://localhost:8080/"
        },
        "id": "JU9rJV6Chk0Z",
        "outputId": "935a078a-5a8b-4cc8-f8e9-93a57176601e"
      },
      "execution_count": 35,
      "outputs": [
        {
          "output_type": "stream",
          "name": "stdout",
          "text": [
            "\n",
            "https://i.imgur.com/SpGhm1J.jpeg\n",
            "https://i.imgur.com/yAyq3n6.jpeg\n",
            "https://i.imgur.com/DOyAXFE.jpeg\n",
            "https://i.imgur.com/SAs1pG3.jpeg\n",
            "https://i.imgur.com/gQmMBYH.jpeg\n",
            "https://i.imgur.com/3lr6rEc.jpeg\n",
            "https://i.imgur.com/WM4tEED.jpeg\n",
            "https://i.imgur.com/EPjQPGl.jpeg\n",
            "https://i.imgur.com/SVbUZV5.jpeg\n",
            "\n",
            "--\n",
            "※ 發信站: 批踢踢實業坊(ptt.cc), 來自: 27.52.132.95 (臺灣)\n",
            "※ 文章網址: https://www.ptt.cc/bbs/Beauty/M.1745244509.A.41E.html\n",
            "\n"
          ]
        }
      ]
    },
    {
      "cell_type": "code",
      "source": [
        "import urllib.request as req\n",
        "import bs4 as bs\n",
        "import json\n",
        "\n",
        "url = \"https://www.ptt.cc/bbs/Beauty/M.1745216140.A.52E.html\"\n",
        "r = req.Request(url)\n",
        "r.add_header(\"User-Agent\", \"Mozilla/5.0 (Windows NT 10.0; Win64; x64) AppleWebKit/537.36 (KHTML, like Gecko) Chrome/10\")\n",
        "resp = req.urlopen(r)\n",
        "html = bs.BeautifulSoup(resp.read())\n",
        "\n",
        "# meta process\n",
        "metas = html.find_all(\"span\", {\"class\":\"article-meta-value\"})\n",
        "post_id = metas[0].text\n",
        "board_name = metas[1].text\n",
        "post_title = metas[2].text\n",
        "post_time = metas[3].text\n",
        "\n",
        "# push process\n",
        "push_list = []\n",
        "pushes = html.find_all(\"div\", {\"class\":\"push\"})\n",
        "for push in pushes:\n",
        "    push_meta = push.find_all(\"span\")\n",
        "    p_type = push_meta[0].text\n",
        "    if \"推\" in p_type:\n",
        "        p_type = 1\n",
        "    elif \"噓\" in p_type:\n",
        "        p_type = -1\n",
        "    else:\n",
        "        p_type = 0\n",
        "    p_id = push_meta[1].text\n",
        "    p_text = push_meta[2].text.replace(\": \", \"\")\n",
        "    p_ipanddate = push_meta[3].text.strip()\n",
        "    p_dict = {\n",
        "        \"id\":p_id,\n",
        "        \"type\":p_type,\n",
        "        \"text\":p_text,\n",
        "        \"ip/date\":p_ipanddate\n",
        "    }\n",
        "    push_list.append(p_dict)\n",
        "\n",
        "row= {\n",
        "    \"作者\":post_id,\n",
        "    \"標題\":post_title,\n",
        "    \"時間\":post_time,\n",
        "    \"看板\":board_name,\n",
        "    \"推噓文\":push_list\n",
        "}\n",
        "\n",
        "fn = url.split(\"/\")[-1].replace(\".html\", \".json\")\n",
        "with open(fn, \"w\", encoding=\"utf-8\") as f:\n",
        "    json.dump(row, f, ensure_ascii=False, indent=4)"
      ],
      "metadata": {
        "id": "_ehAeAe6jCw3"
      },
      "execution_count": 34,
      "outputs": []
    },
    {
      "cell_type": "code",
      "source": [],
      "metadata": {
        "id": "_gQjWexijQdW"
      },
      "execution_count": 28,
      "outputs": []
    }
  ]
}