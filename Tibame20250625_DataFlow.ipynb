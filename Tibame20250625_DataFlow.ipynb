{
  "nbformat": 4,
  "nbformat_minor": 0,
  "metadata": {
    "colab": {
      "provenance": [],
      "include_colab_link": true
    },
    "kernelspec": {
      "name": "python3",
      "display_name": "Python 3"
    },
    "language_info": {
      "name": "python"
    }
  },
  "cells": [
    {
      "cell_type": "markdown",
      "metadata": {
        "id": "view-in-github",
        "colab_type": "text"
      },
      "source": [
        "<a href=\"https://colab.research.google.com/github/ldsAS/Tibame-AI-Learning/blob/main/Tibame20250625_DataFlow.ipynb\" target=\"_parent\"><img src=\"https://colab.research.google.com/assets/colab-badge.svg\" alt=\"Open In Colab\"/></a>"
      ]
    },
    {
      "cell_type": "markdown",
      "source": [
        "### Google權限授予"
      ],
      "metadata": {
        "id": "PPm87vPq0VEK"
      }
    },
    {
      "cell_type": "code",
      "source": [
        "from google.colab import auth\n",
        "auth.authenticate_user()"
      ],
      "metadata": {
        "id": "HO0mpdzT0agw"
      },
      "execution_count": 1,
      "outputs": []
    },
    {
      "cell_type": "markdown",
      "source": [
        "### 定義專案ID"
      ],
      "metadata": {
        "id": "Gla_0MAW4SFS"
      }
    },
    {
      "cell_type": "code",
      "source": [
        "import os\n",
        "# 定義常數（Constants）\n",
        "project = \"tibame-gad251-31-0625\"\n",
        "bucket = \"tibame-gad251-31-storage\"\n",
        "\n",
        "# 設定專案 ID。\n",
        "os.environ['GOOGLE_CLOUD_PROJECT'] = project"
      ],
      "metadata": {
        "id": "RsOgtxPy4aP6"
      },
      "execution_count": 2,
      "outputs": []
    },
    {
      "cell_type": "markdown",
      "source": [
        "### 安裝Apache_beam模組"
      ],
      "metadata": {
        "id": "mky6SdRE3vZ_"
      }
    },
    {
      "cell_type": "code",
      "source": [
        "!pip install apache-beam[gcp,dataframe] --quiet"
      ],
      "metadata": {
        "id": "8fw037Kd31PP",
        "collapsed": true
      },
      "execution_count": 3,
      "outputs": []
    },
    {
      "cell_type": "code",
      "source": [
        "!pip install apache-beam[interactive]"
      ],
      "metadata": {
        "id": "WcjQmuDOADy2",
        "outputId": "c6cb26fc-13bd-4618-cf9d-8b8ec2f86d1f",
        "colab": {
          "base_uri": "https://localhost:8080/"
        },
        "collapsed": true
      },
      "execution_count": 4,
      "outputs": [
        {
          "output_type": "stream",
          "name": "stdout",
          "text": [
            "Requirement already satisfied: apache-beam[interactive] in /usr/local/lib/python3.11/dist-packages (2.65.0)\n",
            "Requirement already satisfied: crcmod<2.0,>=1.7 in /usr/local/lib/python3.11/dist-packages (from apache-beam[interactive]) (1.7)\n",
            "Requirement already satisfied: orjson<4,>=3.9.7 in /usr/local/lib/python3.11/dist-packages (from apache-beam[interactive]) (3.10.18)\n",
            "Requirement already satisfied: dill<0.3.2,>=0.3.1.1 in /usr/local/lib/python3.11/dist-packages (from apache-beam[interactive]) (0.3.1.1)\n",
            "Requirement already satisfied: fastavro<2,>=0.23.6 in /usr/local/lib/python3.11/dist-packages (from apache-beam[interactive]) (1.11.1)\n",
            "Requirement already satisfied: fasteners<1.0,>=0.3 in /usr/local/lib/python3.11/dist-packages (from apache-beam[interactive]) (0.19)\n",
            "Requirement already satisfied: grpcio!=1.48.0,!=1.59.*,!=1.60.*,!=1.61.*,!=1.62.0,!=1.62.1,<1.66.0,<2,>=1.33.1 in /usr/local/lib/python3.11/dist-packages (from apache-beam[interactive]) (1.65.5)\n",
            "Requirement already satisfied: hdfs<3.0.0,>=2.1.0 in /usr/local/lib/python3.11/dist-packages (from apache-beam[interactive]) (2.7.3)\n",
            "Requirement already satisfied: httplib2<0.23.0,>=0.8 in /usr/local/lib/python3.11/dist-packages (from apache-beam[interactive]) (0.22.0)\n",
            "Requirement already satisfied: jsonschema<5.0.0,>=4.0.0 in /usr/local/lib/python3.11/dist-packages (from apache-beam[interactive]) (4.24.0)\n",
            "Requirement already satisfied: jsonpickle<4.0.0,>=3.0.0 in /usr/local/lib/python3.11/dist-packages (from apache-beam[interactive]) (3.4.2)\n",
            "Requirement already satisfied: numpy<2.3.0,>=1.14.3 in /usr/local/lib/python3.11/dist-packages (from apache-beam[interactive]) (2.0.2)\n",
            "Requirement already satisfied: objsize<0.8.0,>=0.6.1 in /usr/local/lib/python3.11/dist-packages (from apache-beam[interactive]) (0.7.1)\n",
            "Requirement already satisfied: packaging>=22.0 in /usr/local/lib/python3.11/dist-packages (from apache-beam[interactive]) (24.2)\n",
            "Requirement already satisfied: pymongo<5.0.0,>=3.8.0 in /usr/local/lib/python3.11/dist-packages (from apache-beam[interactive]) (4.13.2)\n",
            "Requirement already satisfied: proto-plus<2,>=1.7.1 in /usr/local/lib/python3.11/dist-packages (from apache-beam[interactive]) (1.26.1)\n",
            "Requirement already satisfied: protobuf!=4.0.*,!=4.21.*,!=4.22.0,!=4.23.*,!=4.24.*,<6.0.0.dev0,>=3.20.3 in /usr/local/lib/python3.11/dist-packages (from apache-beam[interactive]) (5.29.5)\n",
            "Requirement already satisfied: pydot<2,>=1.2.0 in /usr/local/lib/python3.11/dist-packages (from apache-beam[interactive]) (1.4.2)\n",
            "Requirement already satisfied: python-dateutil<3,>=2.8.0 in /usr/local/lib/python3.11/dist-packages (from apache-beam[interactive]) (2.9.0.post0)\n",
            "Requirement already satisfied: pytz>=2018.3 in /usr/local/lib/python3.11/dist-packages (from apache-beam[interactive]) (2025.2)\n",
            "Requirement already satisfied: redis<6,>=5.0.0 in /usr/local/lib/python3.11/dist-packages (from apache-beam[interactive]) (5.3.0)\n",
            "Requirement already satisfied: regex>=2020.6.8 in /usr/local/lib/python3.11/dist-packages (from apache-beam[interactive]) (2024.11.6)\n",
            "Requirement already satisfied: requests<3.0.0,>=2.24.0 in /usr/local/lib/python3.11/dist-packages (from apache-beam[interactive]) (2.32.3)\n",
            "Requirement already satisfied: sortedcontainers>=2.4.0 in /usr/local/lib/python3.11/dist-packages (from apache-beam[interactive]) (2.4.0)\n",
            "Requirement already satisfied: typing-extensions>=3.7.0 in /usr/local/lib/python3.11/dist-packages (from apache-beam[interactive]) (4.14.0)\n",
            "Requirement already satisfied: zstandard<1,>=0.18.0 in /usr/local/lib/python3.11/dist-packages (from apache-beam[interactive]) (0.23.0)\n",
            "Requirement already satisfied: pyyaml<7.0.0,>=3.12 in /usr/local/lib/python3.11/dist-packages (from apache-beam[interactive]) (6.0.2)\n",
            "Requirement already satisfied: pyarrow<17.0.0,>=3.0.0 in /usr/local/lib/python3.11/dist-packages (from apache-beam[interactive]) (16.1.0)\n",
            "Requirement already satisfied: pyarrow-hotfix<1 in /usr/local/lib/python3.11/dist-packages (from apache-beam[interactive]) (0.7)\n",
            "Requirement already satisfied: facets-overview<2,>=1.1.0 in /usr/local/lib/python3.11/dist-packages (from apache-beam[interactive]) (1.1.1)\n",
            "Requirement already satisfied: google-cloud-dataproc<6,>=5.0.0 in /usr/local/lib/python3.11/dist-packages (from apache-beam[interactive]) (5.20.0)\n",
            "Requirement already satisfied: ipython<9,>=8 in /usr/local/lib/python3.11/dist-packages (from apache-beam[interactive]) (8.37.0)\n",
            "Requirement already satisfied: ipykernel<7,>=6 in /usr/local/lib/python3.11/dist-packages (from apache-beam[interactive]) (6.17.1)\n",
            "Requirement already satisfied: ipywidgets<9,>=8 in /usr/local/lib/python3.11/dist-packages (from apache-beam[interactive]) (8.1.7)\n",
            "Requirement already satisfied: jupyter-client!=6.1.13,<8.2.1,>=6.1.11 in /usr/local/lib/python3.11/dist-packages (from apache-beam[interactive]) (6.1.12)\n",
            "Requirement already satisfied: timeloop<2,>=1.0.2 in /usr/local/lib/python3.11/dist-packages (from apache-beam[interactive]) (1.0.2)\n",
            "Requirement already satisfied: nbformat<6,>=5.0.5 in /usr/local/lib/python3.11/dist-packages (from apache-beam[interactive]) (5.10.4)\n",
            "Requirement already satisfied: nbconvert<8,>=6.2.0 in /usr/local/lib/python3.11/dist-packages (from apache-beam[interactive]) (7.16.6)\n",
            "Requirement already satisfied: pandas!=1.5.0,!=1.5.1,<2.3,>=1.4.3 in /usr/local/lib/python3.11/dist-packages (from apache-beam[interactive]) (2.2.2)\n",
            "Requirement already satisfied: google-api-core!=2.0.*,!=2.1.*,!=2.10.*,!=2.2.*,!=2.3.*,!=2.4.*,!=2.5.*,!=2.6.*,!=2.7.*,!=2.8.*,!=2.9.*,<3.0.0,>=1.34.1 in /usr/local/lib/python3.11/dist-packages (from google-api-core[grpc]!=2.0.*,!=2.1.*,!=2.10.*,!=2.2.*,!=2.3.*,!=2.4.*,!=2.5.*,!=2.6.*,!=2.7.*,!=2.8.*,!=2.9.*,<3.0.0,>=1.34.1->google-cloud-dataproc<6,>=5.0.0->apache-beam[interactive]) (2.25.1)\n",
            "Requirement already satisfied: google-auth!=2.24.0,!=2.25.0,<3.0.0,>=2.14.1 in /usr/local/lib/python3.11/dist-packages (from google-cloud-dataproc<6,>=5.0.0->apache-beam[interactive]) (2.38.0)\n",
            "Requirement already satisfied: grpc-google-iam-v1<1.0.0,>=0.14.0 in /usr/local/lib/python3.11/dist-packages (from google-cloud-dataproc<6,>=5.0.0->apache-beam[interactive]) (0.14.2)\n",
            "Requirement already satisfied: docopt in /usr/local/lib/python3.11/dist-packages (from hdfs<3.0.0,>=2.1.0->apache-beam[interactive]) (0.6.2)\n",
            "Requirement already satisfied: six>=1.9.0 in /usr/local/lib/python3.11/dist-packages (from hdfs<3.0.0,>=2.1.0->apache-beam[interactive]) (1.17.0)\n",
            "Requirement already satisfied: pyparsing!=3.0.0,!=3.0.1,!=3.0.2,!=3.0.3,<4,>=2.4.2 in /usr/local/lib/python3.11/dist-packages (from httplib2<0.23.0,>=0.8->apache-beam[interactive]) (3.2.3)\n",
            "Requirement already satisfied: debugpy>=1.0 in /usr/local/lib/python3.11/dist-packages (from ipykernel<7,>=6->apache-beam[interactive]) (1.8.0)\n",
            "Requirement already satisfied: matplotlib-inline>=0.1 in /usr/local/lib/python3.11/dist-packages (from ipykernel<7,>=6->apache-beam[interactive]) (0.1.7)\n",
            "Requirement already satisfied: nest-asyncio in /usr/local/lib/python3.11/dist-packages (from ipykernel<7,>=6->apache-beam[interactive]) (1.6.0)\n",
            "Requirement already satisfied: psutil in /usr/local/lib/python3.11/dist-packages (from ipykernel<7,>=6->apache-beam[interactive]) (5.9.5)\n",
            "Requirement already satisfied: pyzmq>=17 in /usr/local/lib/python3.11/dist-packages (from ipykernel<7,>=6->apache-beam[interactive]) (24.0.1)\n",
            "Requirement already satisfied: tornado>=6.1 in /usr/local/lib/python3.11/dist-packages (from ipykernel<7,>=6->apache-beam[interactive]) (6.4.2)\n",
            "Requirement already satisfied: traitlets>=5.1.0 in /usr/local/lib/python3.11/dist-packages (from ipykernel<7,>=6->apache-beam[interactive]) (5.14.3)\n",
            "Requirement already satisfied: decorator in /usr/local/lib/python3.11/dist-packages (from ipython<9,>=8->apache-beam[interactive]) (4.4.2)\n",
            "Requirement already satisfied: jedi>=0.16 in /usr/local/lib/python3.11/dist-packages (from ipython<9,>=8->apache-beam[interactive]) (0.19.2)\n",
            "Requirement already satisfied: pexpect>4.3 in /usr/local/lib/python3.11/dist-packages (from ipython<9,>=8->apache-beam[interactive]) (4.9.0)\n",
            "Requirement already satisfied: prompt_toolkit<3.1.0,>=3.0.41 in /usr/local/lib/python3.11/dist-packages (from ipython<9,>=8->apache-beam[interactive]) (3.0.51)\n",
            "Requirement already satisfied: pygments>=2.4.0 in /usr/local/lib/python3.11/dist-packages (from ipython<9,>=8->apache-beam[interactive]) (2.19.1)\n",
            "Requirement already satisfied: stack_data in /usr/local/lib/python3.11/dist-packages (from ipython<9,>=8->apache-beam[interactive]) (0.6.3)\n",
            "Requirement already satisfied: comm>=0.1.3 in /usr/local/lib/python3.11/dist-packages (from ipywidgets<9,>=8->apache-beam[interactive]) (0.2.2)\n",
            "Requirement already satisfied: widgetsnbextension~=4.0.14 in /usr/local/lib/python3.11/dist-packages (from ipywidgets<9,>=8->apache-beam[interactive]) (4.0.14)\n",
            "Requirement already satisfied: jupyterlab_widgets~=3.0.15 in /usr/local/lib/python3.11/dist-packages (from ipywidgets<9,>=8->apache-beam[interactive]) (3.0.15)\n",
            "Requirement already satisfied: attrs>=22.2.0 in /usr/local/lib/python3.11/dist-packages (from jsonschema<5.0.0,>=4.0.0->apache-beam[interactive]) (25.3.0)\n",
            "Requirement already satisfied: jsonschema-specifications>=2023.03.6 in /usr/local/lib/python3.11/dist-packages (from jsonschema<5.0.0,>=4.0.0->apache-beam[interactive]) (2025.4.1)\n",
            "Requirement already satisfied: referencing>=0.28.4 in /usr/local/lib/python3.11/dist-packages (from jsonschema<5.0.0,>=4.0.0->apache-beam[interactive]) (0.36.2)\n",
            "Requirement already satisfied: rpds-py>=0.7.1 in /usr/local/lib/python3.11/dist-packages (from jsonschema<5.0.0,>=4.0.0->apache-beam[interactive]) (0.25.1)\n",
            "Requirement already satisfied: jupyter-core>=4.6.0 in /usr/local/lib/python3.11/dist-packages (from jupyter-client!=6.1.13,<8.2.1,>=6.1.11->apache-beam[interactive]) (5.8.1)\n",
            "Requirement already satisfied: beautifulsoup4 in /usr/local/lib/python3.11/dist-packages (from nbconvert<8,>=6.2.0->apache-beam[interactive]) (4.13.4)\n",
            "Requirement already satisfied: bleach!=5.0.0 in /usr/local/lib/python3.11/dist-packages (from bleach[css]!=5.0.0->nbconvert<8,>=6.2.0->apache-beam[interactive]) (6.2.0)\n",
            "Requirement already satisfied: defusedxml in /usr/local/lib/python3.11/dist-packages (from nbconvert<8,>=6.2.0->apache-beam[interactive]) (0.7.1)\n",
            "Requirement already satisfied: jinja2>=3.0 in /usr/local/lib/python3.11/dist-packages (from nbconvert<8,>=6.2.0->apache-beam[interactive]) (3.1.6)\n",
            "Requirement already satisfied: jupyterlab-pygments in /usr/local/lib/python3.11/dist-packages (from nbconvert<8,>=6.2.0->apache-beam[interactive]) (0.3.0)\n",
            "Requirement already satisfied: markupsafe>=2.0 in /usr/local/lib/python3.11/dist-packages (from nbconvert<8,>=6.2.0->apache-beam[interactive]) (3.0.2)\n",
            "Requirement already satisfied: mistune<4,>=2.0.3 in /usr/local/lib/python3.11/dist-packages (from nbconvert<8,>=6.2.0->apache-beam[interactive]) (3.1.3)\n",
            "Requirement already satisfied: nbclient>=0.5.0 in /usr/local/lib/python3.11/dist-packages (from nbconvert<8,>=6.2.0->apache-beam[interactive]) (0.10.2)\n",
            "Requirement already satisfied: pandocfilters>=1.4.1 in /usr/local/lib/python3.11/dist-packages (from nbconvert<8,>=6.2.0->apache-beam[interactive]) (1.5.1)\n",
            "Requirement already satisfied: fastjsonschema>=2.15 in /usr/local/lib/python3.11/dist-packages (from nbformat<6,>=5.0.5->apache-beam[interactive]) (2.21.1)\n",
            "Requirement already satisfied: tzdata>=2022.7 in /usr/local/lib/python3.11/dist-packages (from pandas!=1.5.0,!=1.5.1,<2.3,>=1.4.3->apache-beam[interactive]) (2025.2)\n",
            "Requirement already satisfied: dnspython<3.0.0,>=1.16.0 in /usr/local/lib/python3.11/dist-packages (from pymongo<5.0.0,>=3.8.0->apache-beam[interactive]) (2.7.0)\n",
            "Requirement already satisfied: PyJWT~=2.9.0 in /usr/local/lib/python3.11/dist-packages (from redis<6,>=5.0.0->apache-beam[interactive]) (2.9.0)\n",
            "Requirement already satisfied: charset-normalizer<4,>=2 in /usr/local/lib/python3.11/dist-packages (from requests<3.0.0,>=2.24.0->apache-beam[interactive]) (3.4.2)\n",
            "Requirement already satisfied: idna<4,>=2.5 in /usr/local/lib/python3.11/dist-packages (from requests<3.0.0,>=2.24.0->apache-beam[interactive]) (3.10)\n",
            "Requirement already satisfied: urllib3<3,>=1.21.1 in /usr/local/lib/python3.11/dist-packages (from requests<3.0.0,>=2.24.0->apache-beam[interactive]) (2.4.0)\n",
            "Requirement already satisfied: certifi>=2017.4.17 in /usr/local/lib/python3.11/dist-packages (from requests<3.0.0,>=2.24.0->apache-beam[interactive]) (2025.6.15)\n",
            "Requirement already satisfied: webencodings in /usr/local/lib/python3.11/dist-packages (from bleach!=5.0.0->bleach[css]!=5.0.0->nbconvert<8,>=6.2.0->apache-beam[interactive]) (0.5.1)\n",
            "Requirement already satisfied: tinycss2<1.5,>=1.1.0 in /usr/local/lib/python3.11/dist-packages (from bleach[css]!=5.0.0->nbconvert<8,>=6.2.0->apache-beam[interactive]) (1.4.0)\n",
            "Requirement already satisfied: googleapis-common-protos<2.0.0,>=1.56.2 in /usr/local/lib/python3.11/dist-packages (from google-api-core!=2.0.*,!=2.1.*,!=2.10.*,!=2.2.*,!=2.3.*,!=2.4.*,!=2.5.*,!=2.6.*,!=2.7.*,!=2.8.*,!=2.9.*,<3.0.0,>=1.34.1->google-api-core[grpc]!=2.0.*,!=2.1.*,!=2.10.*,!=2.2.*,!=2.3.*,!=2.4.*,!=2.5.*,!=2.6.*,!=2.7.*,!=2.8.*,!=2.9.*,<3.0.0,>=1.34.1->google-cloud-dataproc<6,>=5.0.0->apache-beam[interactive]) (1.70.0)\n",
            "Requirement already satisfied: grpcio-status<2.0.0,>=1.33.2 in /usr/local/lib/python3.11/dist-packages (from google-api-core[grpc]!=2.0.*,!=2.1.*,!=2.10.*,!=2.2.*,!=2.3.*,!=2.4.*,!=2.5.*,!=2.6.*,!=2.7.*,!=2.8.*,!=2.9.*,<3.0.0,>=1.34.1->google-cloud-dataproc<6,>=5.0.0->apache-beam[interactive]) (1.65.5)\n",
            "Requirement already satisfied: cachetools<6.0,>=2.0.0 in /usr/local/lib/python3.11/dist-packages (from google-auth!=2.24.0,!=2.25.0,<3.0.0,>=2.14.1->google-cloud-dataproc<6,>=5.0.0->apache-beam[interactive]) (5.5.2)\n",
            "Requirement already satisfied: pyasn1-modules>=0.2.1 in /usr/local/lib/python3.11/dist-packages (from google-auth!=2.24.0,!=2.25.0,<3.0.0,>=2.14.1->google-cloud-dataproc<6,>=5.0.0->apache-beam[interactive]) (0.4.2)\n",
            "Requirement already satisfied: rsa<5,>=3.1.4 in /usr/local/lib/python3.11/dist-packages (from google-auth!=2.24.0,!=2.25.0,<3.0.0,>=2.14.1->google-cloud-dataproc<6,>=5.0.0->apache-beam[interactive]) (4.9.1)\n",
            "Requirement already satisfied: parso<0.9.0,>=0.8.4 in /usr/local/lib/python3.11/dist-packages (from jedi>=0.16->ipython<9,>=8->apache-beam[interactive]) (0.8.4)\n",
            "Requirement already satisfied: platformdirs>=2.5 in /usr/local/lib/python3.11/dist-packages (from jupyter-core>=4.6.0->jupyter-client!=6.1.13,<8.2.1,>=6.1.11->apache-beam[interactive]) (4.3.8)\n",
            "Requirement already satisfied: ptyprocess>=0.5 in /usr/local/lib/python3.11/dist-packages (from pexpect>4.3->ipython<9,>=8->apache-beam[interactive]) (0.7.0)\n",
            "Requirement already satisfied: wcwidth in /usr/local/lib/python3.11/dist-packages (from prompt_toolkit<3.1.0,>=3.0.41->ipython<9,>=8->apache-beam[interactive]) (0.2.13)\n",
            "Requirement already satisfied: soupsieve>1.2 in /usr/local/lib/python3.11/dist-packages (from beautifulsoup4->nbconvert<8,>=6.2.0->apache-beam[interactive]) (2.7)\n",
            "Requirement already satisfied: executing>=1.2.0 in /usr/local/lib/python3.11/dist-packages (from stack_data->ipython<9,>=8->apache-beam[interactive]) (2.2.0)\n",
            "Requirement already satisfied: asttokens>=2.1.0 in /usr/local/lib/python3.11/dist-packages (from stack_data->ipython<9,>=8->apache-beam[interactive]) (3.0.0)\n",
            "Requirement already satisfied: pure-eval in /usr/local/lib/python3.11/dist-packages (from stack_data->ipython<9,>=8->apache-beam[interactive]) (0.2.3)\n",
            "Requirement already satisfied: pyasn1<0.7.0,>=0.6.1 in /usr/local/lib/python3.11/dist-packages (from pyasn1-modules>=0.2.1->google-auth!=2.24.0,!=2.25.0,<3.0.0,>=2.14.1->google-cloud-dataproc<6,>=5.0.0->apache-beam[interactive]) (0.6.1)\n"
          ]
        }
      ]
    },
    {
      "cell_type": "markdown",
      "source": [
        "### Scikit-learn應用"
      ],
      "metadata": {
        "id": "WBlCjOmMzgns"
      }
    },
    {
      "cell_type": "markdown",
      "source": [
        "#### 導入模組"
      ],
      "metadata": {
        "id": "Z1s_GXO83aOe"
      }
    },
    {
      "cell_type": "code",
      "execution_count": 5,
      "metadata": {
        "id": "hYrU41fVzZtP"
      },
      "outputs": [],
      "source": [
        "import pickle\n",
        "from sklearn import linear_model\n",
        "from typing import Tuple\n",
        "\n",
        "import numpy as np\n",
        "import apache_beam as beam\n",
        "\n",
        "from apache_beam.ml.inference.sklearn_inference import ModelFileType\n",
        "from apache_beam.ml.inference.sklearn_inference import SklearnModelHandlerNumpy\n",
        "from apache_beam.ml.inference.base import KeyedModelHandler\n",
        "from apache_beam.ml.inference.base import PredictionResult\n",
        "from apache_beam.ml.inference.base import RunInference\n",
        "from apache_beam.options.pipeline_options import PipelineOptions\n"
      ]
    },
    {
      "cell_type": "markdown",
      "source": [
        "#### 建立Scikit-learn模型"
      ],
      "metadata": {
        "id": "aJwAo0Cv4JzK"
      }
    },
    {
      "cell_type": "code",
      "source": [
        "# 準備訓練 sklearn 模型的輸入資料（5 倍表）。\n",
        "x = np.arange(0, 100, dtype=np.float32).reshape(-1, 1)\n",
        "y = (x * 5).reshape(-1, 1)\n",
        "\n",
        "def train_and_save_model(x, y, model_file_name):\n",
        "  \"\"\"訓練線性回歸模型並儲存至檔案。\"\"\"\n",
        "  regression = linear_model.LinearRegression()\n",
        "  regression.fit(x, y)\n",
        "\n",
        "  with open(model_file_name, 'wb') as f:\n",
        "      pickle.dump(regression, f)\n",
        "\n",
        "# 訓練並儲存 5 倍表模型。\n",
        "five_times_model_filename = 'sklearn_5x_model.pkl'\n",
        "train_and_save_model(x, y, five_times_model_filename)\n",
        "\n",
        "# 訓練並儲存 10 倍表模型。\n",
        "ten_times_model_filename = 'sklearn_10x_model.pkl'\n",
        "train_and_save_model(x, y, ten_times_model_filename)\n",
        "y = (x * 10).reshape(-1, 1)\n",
        "train_and_save_model(x, y, 'sklearn_10x_model.pkl')\n",
        "\n"
      ],
      "metadata": {
        "id": "A52vrv1W5Ezh"
      },
      "execution_count": 6,
      "outputs": []
    },
    {
      "cell_type": "markdown",
      "source": [
        "#### 用GCP CLI指令碼指定專案"
      ],
      "metadata": {
        "id": "8r6-GEsK5xoZ"
      }
    },
    {
      "cell_type": "code",
      "source": [
        "!gcloud config set project $project"
      ],
      "metadata": {
        "colab": {
          "base_uri": "https://localhost:8080/"
        },
        "id": "D1iTRx8Y5-G0",
        "outputId": "175c5d9d-f19b-4dd1-f4dc-c2353dd34123",
        "collapsed": true
      },
      "execution_count": 7,
      "outputs": [
        {
          "output_type": "stream",
          "name": "stdout",
          "text": [
            "Updated property [core/project].\n"
          ]
        }
      ]
    },
    {
      "cell_type": "markdown",
      "source": [
        "#### 建立BigQuery資料表"
      ],
      "metadata": {
        "id": "U5NCXHgH6gf1"
      }
    },
    {
      "cell_type": "code",
      "source": [
        "## 將資料填入 BigQuery 資料表\n",
        "\n",
        "from google.cloud import bigquery\n",
        "\n",
        "client = bigquery.Client(project=project)\n",
        "\n",
        "# 確保 dataset_id 在專案中是唯一的。\n",
        "dataset_id = '{project}.maths'.format(project=project)\n",
        "dataset = bigquery.Dataset(dataset_id)\n",
        "\n",
        "# 根據專案設定修改位置。\n",
        "dataset.location = 'asia-east1'#位置改為台灣\n",
        "dataset = client.create_dataset(dataset, exists_ok=True)\n",
        "\n",
        "# BigQuery 資料集中的資料表名稱。\n",
        "table_name = 'maths_problems_1'\n",
        "\n",
        "query = \"\"\"\n",
        "CREATE OR REPLACE TABLE\n",
        "  {project}.maths.{table} (\n",
        "    key STRING OPTIONS(description=\"A unique key for the maths problem\"),\n",
        "    value FLOAT64 OPTIONS(description=\"Our maths problem\")\n",
        "  );\n",
        "\n",
        "INSERT INTO {project}.maths.{table}\n",
        "VALUES\n",
        "  (\"first_example\", 105.00),\n",
        "  (\"second_example\", 108.00),\n",
        "  (\"third_example\", 1000.00),\n",
        "  (\"fourth_example\", 1013.00);\n",
        "\"\"\".format(project=project, table=table_name)\n",
        "\n",
        "create_job = client.query(query)\n",
        "create_job.result()\n"
      ],
      "metadata": {
        "colab": {
          "base_uri": "https://localhost:8080/"
        },
        "id": "mr-zzS6E6kzh",
        "outputId": "4a8d670d-3b1e-47a6-def6-e38ee5452a5f"
      },
      "execution_count": 8,
      "outputs": [
        {
          "output_type": "execute_result",
          "data": {
            "text/plain": [
              "<google.cloud.bigquery.table._EmptyRowIterator at 0x7c5e227e2350>"
            ]
          },
          "metadata": {},
          "execution_count": 8
        }
      ]
    },
    {
      "cell_type": "markdown",
      "source": [
        "#### 使用管道測試模型"
      ],
      "metadata": {
        "id": "pAf_gWyp9CMQ"
      }
    },
    {
      "cell_type": "code",
      "source": [
        "sklearn_model_handler = SklearnModelHandlerNumpy(model_uri=five_times_model_filename)\n",
        "\n",
        "# 設定 Dataflow 管道選項，並指定暫存位置。\n",
        "pipeline_options = PipelineOptions().from_dictionary(\n",
        "                                      {'temp_location': f'gs://{bucket}/tmp'})\n",
        "\n",
        "# 定義 BigQuery 資料表規格。\n",
        "table_name = 'maths_problems_1'\n",
        "table_spec = f'{project}:maths.{table_name}'\n",
        "\n",
        "with beam.Pipeline(options=pipeline_options) as p:\n",
        "  (\n",
        "      p\n",
        "      | \"從 BigQuery 讀取資料\" >> beam.io.ReadFromBigQuery(table=table_spec)\n",
        "      | \"提取輸入值\" >> beam.Map(lambda x: [x['value']])\n",
        "      | \"執行 Sklearn 推論\" >> RunInference(model_handler=sklearn_model_handler)\n",
        "      | beam.Map(print)\n",
        "  )\n",
        "\n"
      ],
      "metadata": {
        "colab": {
          "base_uri": "https://localhost:8080/",
          "height": 124
        },
        "id": "oOLKivuN9G7T",
        "outputId": "40fe64be-029e-49a2-e28c-0388bc7c0eed"
      },
      "execution_count": 9,
      "outputs": [
        {
          "output_type": "display_data",
          "data": {
            "application/javascript": [
              "\n",
              "        if (typeof window.interactive_beam_jquery == 'undefined') {\n",
              "          var jqueryScript = document.createElement('script');\n",
              "          jqueryScript.src = 'https://code.jquery.com/jquery-3.4.1.slim.min.js';\n",
              "          jqueryScript.type = 'text/javascript';\n",
              "          jqueryScript.onload = function() {\n",
              "            var datatableScript = document.createElement('script');\n",
              "            datatableScript.src = 'https://cdn.datatables.net/1.10.20/js/jquery.dataTables.min.js';\n",
              "            datatableScript.type = 'text/javascript';\n",
              "            datatableScript.onload = function() {\n",
              "              window.interactive_beam_jquery = jQuery.noConflict(true);\n",
              "              window.interactive_beam_jquery(document).ready(function($){\n",
              "                \n",
              "              });\n",
              "            }\n",
              "            document.head.appendChild(datatableScript);\n",
              "          };\n",
              "          document.head.appendChild(jqueryScript);\n",
              "        } else {\n",
              "          window.interactive_beam_jquery(document).ready(function($){\n",
              "            \n",
              "          });\n",
              "        }"
            ]
          },
          "metadata": {}
        },
        {
          "output_type": "stream",
          "name": "stderr",
          "text": [
            "WARNING:apache_beam.transforms.core:('No iterator is returned by the process method in %s.', <class 'apache_beam.io.gcp.bigquery_read_internal._PassThroughThenCleanup.expand.<locals>.RemoveExtractedFiles'>)\n"
          ]
        },
        {
          "output_type": "stream",
          "name": "stdout",
          "text": [
            "PredictionResult(example=[108.0], inference=array([540.]), model_id='sklearn_5x_model.pkl')\n",
            "PredictionResult(example=[1013.0], inference=array([5065.]), model_id='sklearn_5x_model.pkl')\n",
            "PredictionResult(example=[105.0], inference=array([525.]), model_id='sklearn_5x_model.pkl')\n",
            "PredictionResult(example=[1000.0], inference=array([5000.]), model_id='sklearn_5x_model.pkl')\n"
          ]
        }
      ]
    },
    {
      "cell_type": "markdown",
      "source": [
        "#### 使用管道抓取含KEY資料測試模型"
      ],
      "metadata": {
        "id": "IYQiYS5HCsbx"
      }
    },
    {
      "cell_type": "code",
      "source": [
        "sklearn_model_handler = SklearnModelHandlerNumpy(model_uri=five_times_model_filename)\n",
        "keyed_sklearn_model_handler = KeyedModelHandler(sklearn_model_handler)\n",
        "\n",
        "# 設定 Dataflow 管道選項，並指定暫存位置。\n",
        "pipeline_options = PipelineOptions().from_dictionary({'temp_location': f'gs://{bucket}/tmp'})\n",
        "with beam.Pipeline(options=pipeline_options) as p:\n",
        "  (\n",
        "  p\n",
        "  | \"從 BigQuery 讀取資料\" >> beam.io.ReadFromBigQuery(table=table_spec)\n",
        "  | \"提取輸入值\" >> beam.Map(lambda x: (x['key'], [x['value']]))\n",
        "  | \"執行 Sklearn 推論\" >> RunInference(model_handler=keyed_sklearn_model_handler)\n",
        "  | beam.Map(print)\n",
        "  )\n",
        "\n"
      ],
      "metadata": {
        "colab": {
          "base_uri": "https://localhost:8080/"
        },
        "id": "GgpYTmnmCyOu",
        "outputId": "c4225a50-9fbb-4300-a582-698b1f73e5d8"
      },
      "execution_count": 10,
      "outputs": [
        {
          "output_type": "stream",
          "name": "stderr",
          "text": [
            "WARNING:apache_beam.transforms.core:('No iterator is returned by the process method in %s.', <class 'apache_beam.io.gcp.bigquery_read_internal._PassThroughThenCleanup.expand.<locals>.RemoveExtractedFiles'>)\n"
          ]
        },
        {
          "output_type": "stream",
          "name": "stdout",
          "text": [
            "('second_example', PredictionResult(example=[108.0], inference=array([540.]), model_id='sklearn_5x_model.pkl'))\n",
            "('fourth_example', PredictionResult(example=[1013.0], inference=array([5065.]), model_id='sklearn_5x_model.pkl'))\n",
            "('first_example', PredictionResult(example=[105.0], inference=array([525.]), model_id='sklearn_5x_model.pkl'))\n",
            "('third_example', PredictionResult(example=[1000.0], inference=array([5000.]), model_id='sklearn_5x_model.pkl'))\n"
          ]
        }
      ]
    },
    {
      "cell_type": "markdown",
      "source": [
        "### Pytorch應用"
      ],
      "metadata": {
        "id": "y9J7s9DzGHuP"
      }
    },
    {
      "cell_type": "markdown",
      "source": [
        "#### 導入所需模組"
      ],
      "metadata": {
        "id": "t1xE-DA9GqFn"
      }
    },
    {
      "cell_type": "code",
      "source": [
        "import argparse\n",
        "import csv\n",
        "import json\n",
        "import os\n",
        "import torch\n",
        "from typing import Tuple\n",
        "\n",
        "import apache_beam as beam\n",
        "import numpy\n",
        "from apache_beam.io.gcp.bigquery import ReadFromBigQuery\n",
        "from apache_beam.ml.inference.base import KeyedModelHandler\n",
        "from apache_beam.ml.inference.base import PredictionResult\n",
        "from apache_beam.ml.inference.base import RunInference\n",
        "from apache_beam.dataframe.convert import to_pcollection\n",
        "from apache_beam.ml.inference.pytorch_inference import PytorchModelHandlerTensor\n",
        "from apache_beam.ml.inference.pytorch_inference import PytorchModelHandlerKeyedTensor\n",
        "from apache_beam.options.pipeline_options import PipelineOptions\n",
        "\n",
        "import warnings\n",
        "warnings.filterwarnings('ignore')\n"
      ],
      "metadata": {
        "id": "j-hGQiBMGML_"
      },
      "execution_count": 11,
      "outputs": []
    },
    {
      "cell_type": "markdown",
      "source": [
        "#### 設定模型存放名稱"
      ],
      "metadata": {
        "id": "V66zOH4WGtkK"
      }
    },
    {
      "cell_type": "code",
      "source": [
        "# 儲存模型的路徑\n",
        "save_model_dir_multiply_five = 'five_times_table_torch.pt'\n",
        "save_model_dir_multiply_ten = 'ten_times_table_torch.pt'"
      ],
      "metadata": {
        "id": "cp4laKNsGxtB"
      },
      "execution_count": 12,
      "outputs": []
    },
    {
      "cell_type": "markdown",
      "source": [
        "#### 建立Pytorch模型"
      ],
      "metadata": {
        "id": "KsE9KIU0HKyc"
      }
    },
    {
      "cell_type": "code",
      "source": [
        "class LinearRegression(torch.nn.Module):\n",
        "    def __init__(self, input_dim=1, output_dim=1):\n",
        "        super().__init__()\n",
        "        self.linear = torch.nn.Linear(input_dim, output_dim)\n",
        "    def forward(self, x):\n",
        "        out = self.linear(x)\n",
        "        return out"
      ],
      "metadata": {
        "id": "bjlitWDYHcXc"
      },
      "execution_count": 13,
      "outputs": []
    },
    {
      "cell_type": "code",
      "source": [
        "x = numpy.arange(0, 100, dtype=numpy.float32).reshape(-1, 1)\n",
        "y = (x * 5).reshape(-1, 1)\n",
        "value_to_predict = numpy.array([20, 40, 60, 90], dtype=numpy.float32).reshape(-1, 1)"
      ],
      "metadata": {
        "id": "lR1I-UpWHhH3"
      },
      "execution_count": 14,
      "outputs": []
    },
    {
      "cell_type": "code",
      "source": [
        "five_times_model = LinearRegression()\n",
        "optimizer = torch.optim.Adam(five_times_model.parameters())\n",
        "loss_fn = torch.nn.L1Loss()\n",
        "\n",
        "\"\"\"\n",
        "Train the five_times_model\n",
        "\"\"\"\n",
        "epochs = 10000\n",
        "tensor_x = torch.from_numpy(x)\n",
        "tensor_y = torch.from_numpy(y)\n",
        "for epoch in range(epochs):\n",
        "    y_pred = five_times_model(tensor_x)\n",
        "    loss = loss_fn(y_pred, tensor_y)\n",
        "    five_times_model.zero_grad()\n",
        "    loss.backward()\n",
        "    optimizer.step()"
      ],
      "metadata": {
        "id": "BU4-yp5nHl-9"
      },
      "execution_count": 15,
      "outputs": []
    },
    {
      "cell_type": "markdown",
      "source": [
        "#### 儲存Pytorch五倍模型"
      ],
      "metadata": {
        "id": "QAg2PrZGIAo3"
      }
    },
    {
      "cell_type": "code",
      "source": [
        "torch.save(five_times_model.state_dict(), save_model_dir_multiply_five)\n",
        "print(os.path.exists(save_model_dir_multiply_five)) # Verify that the model is saved."
      ],
      "metadata": {
        "colab": {
          "base_uri": "https://localhost:8080/"
        },
        "id": "Oe2V21yIIFy9",
        "outputId": "40ab0785-0a66-4028-91a3-96ade4d9d076"
      },
      "execution_count": 16,
      "outputs": [
        {
          "output_type": "stream",
          "name": "stdout",
          "text": [
            "True\n"
          ]
        }
      ]
    },
    {
      "cell_type": "markdown",
      "source": [
        "#### 設定十倍模型參數"
      ],
      "metadata": {
        "id": "h2YeRFAjJQD7"
      }
    },
    {
      "cell_type": "code",
      "source": [
        "x = numpy.arange(0, 100, dtype=numpy.float32).reshape(-1, 1)\n",
        "y = (x * 10).reshape(-1, 1)"
      ],
      "metadata": {
        "id": "XNESr89oJPuj"
      },
      "execution_count": 17,
      "outputs": []
    },
    {
      "cell_type": "markdown",
      "source": [
        "#### 訓練十倍模型"
      ],
      "metadata": {
        "id": "kyfTGSsJJY3p"
      }
    },
    {
      "cell_type": "code",
      "source": [
        "ten_times_model = LinearRegression()\n",
        "optimizer = torch.optim.Adam(ten_times_model.parameters())\n",
        "loss_fn = torch.nn.L1Loss()\n",
        "\n",
        "epochs = 10000\n",
        "tensor_x = torch.from_numpy(x)\n",
        "tensor_y = torch.from_numpy(y)\n",
        "for epoch in range(epochs):\n",
        "    y_pred = ten_times_model(tensor_x)\n",
        "    loss = loss_fn(y_pred, tensor_y)\n",
        "    ten_times_model.zero_grad()\n",
        "    loss.backward()\n",
        "    optimizer.step()"
      ],
      "metadata": {
        "id": "dSMGcg85JcZ-"
      },
      "execution_count": 18,
      "outputs": []
    },
    {
      "cell_type": "markdown",
      "source": [
        "#### 儲存十倍模型"
      ],
      "metadata": {
        "id": "k2Vrclw6JxaM"
      }
    },
    {
      "cell_type": "code",
      "source": [
        "torch.save(ten_times_model.state_dict(), save_model_dir_multiply_ten)\n",
        "print(os.path.exists(save_model_dir_multiply_ten)) # verify if the model is saved"
      ],
      "metadata": {
        "colab": {
          "base_uri": "https://localhost:8080/"
        },
        "id": "L3dwF9mgJ1Hl",
        "outputId": "36c68677-b856-4b28-8e91-2158b5289e8f"
      },
      "execution_count": 19,
      "outputs": [
        {
          "output_type": "stream",
          "name": "stdout",
          "text": [
            "True\n"
          ]
        }
      ]
    },
    {
      "cell_type": "markdown",
      "source": [
        "#### 利用管道預測"
      ],
      "metadata": {
        "id": "gi8fK-X1Ks1q"
      }
    },
    {
      "cell_type": "code",
      "source": [
        "torch_five_times_model_handler = PytorchModelHandlerTensor(\n",
        "    state_dict_path=save_model_dir_multiply_five,\n",
        "    model_class=LinearRegression,\n",
        "    model_params={'input_dim': 1,\n",
        "                  'output_dim': 1}\n",
        "                  )\n",
        "pipeline = beam.Pipeline()\n",
        "\n",
        "with pipeline as p:\n",
        "      (\n",
        "      p\n",
        "      | \"ReadInputData\" >> beam.Create(value_to_predict)\n",
        "      | \"ConvertNumpyToTensor\" >> beam.Map(torch.Tensor)\n",
        "      | \"RunInferenceTorch\" >> RunInference(torch_five_times_model_handler)\n",
        "      | beam.Map(print)\n",
        "      )"
      ],
      "metadata": {
        "colab": {
          "base_uri": "https://localhost:8080/"
        },
        "id": "FW7KDZLqKvOD",
        "outputId": "68ee4370-d30d-45fb-8940-e4bed553d068"
      },
      "execution_count": 20,
      "outputs": [
        {
          "output_type": "stream",
          "name": "stdout",
          "text": [
            "PredictionResult(example=tensor([20.]), inference=tensor([100.0009]), model_id='five_times_table_torch.pt')\n",
            "PredictionResult(example=tensor([40.]), inference=tensor([200.0017]), model_id='five_times_table_torch.pt')\n",
            "PredictionResult(example=tensor([60.]), inference=tensor([300.0026]), model_id='five_times_table_torch.pt')\n",
            "PredictionResult(example=tensor([90.]), inference=tensor([450.0038]), model_id='five_times_table_torch.pt')\n"
          ]
        }
      ]
    },
    {
      "cell_type": "markdown",
      "source": [
        "#### 解釋預測結果"
      ],
      "metadata": {
        "id": "t6bJY00HLJv1"
      }
    },
    {
      "cell_type": "code",
      "source": [
        "class PredictionProcessor(beam.DoFn):\n",
        "  \"\"\"\n",
        "  用於格式化 RunInference 轉換輸出的處理器。\n",
        "  \"\"\"\n",
        "  def process(\n",
        "      self,\n",
        "      element: PredictionResult):\n",
        "    input_value = element.example\n",
        "    output_value = element.inference\n",
        "    yield (f\"輸入值為 {input_value.item()}，輸出值為 {output_value.item()}\")\n",
        "\n",
        "pipeline = beam.Pipeline()\n",
        "\n",
        "with pipeline as p:\n",
        "    (\n",
        "    p\n",
        "    | \"讀取輸入資料\" >> beam.Create(value_to_predict)\n",
        "    | \"將 Numpy 轉換為 Tensor\" >> beam.Map(torch.Tensor)\n",
        "    | \"執行 Torch 推論\" >> RunInference(torch_five_times_model_handler)\n",
        "    | \"後處理預測結果\" >> beam.ParDo(PredictionProcessor())\n",
        "    | beam.Map(print)\n",
        "    )"
      ],
      "metadata": {
        "colab": {
          "base_uri": "https://localhost:8080/"
        },
        "id": "of7hOXmMLM5D",
        "outputId": "656addc6-5a51-46dd-fb93-d984fd5ddcf6"
      },
      "execution_count": 21,
      "outputs": [
        {
          "output_type": "stream",
          "name": "stdout",
          "text": [
            "輸入值為 20.0，輸出值為 100.00089263916016\n",
            "輸入值為 40.0，輸出值為 200.00173950195312\n",
            "輸入值為 60.0，輸出值為 300.0025634765625\n",
            "輸入值為 90.0，輸出值為 450.00384521484375\n"
          ]
        }
      ]
    },
    {
      "cell_type": "markdown",
      "source": [
        "#### 建立KEY資料"
      ],
      "metadata": {
        "id": "0wpvmTXvMWnt"
      }
    },
    {
      "cell_type": "code",
      "source": [
        "class PredictionWithKeyProcessor(beam.DoFn):\n",
        "    def __init__(self):\n",
        "        beam.DoFn.__init__(self)\n",
        "\n",
        "    def process(\n",
        "          self,\n",
        "          element: Tuple[str, PredictionResult]):\n",
        "        key = element[0]\n",
        "        input_value = element[1].example\n",
        "        output_value = element[1].inference\n",
        "        yield (f\"key值: {key}, 輸入為: {input_value.item()} 輸出為: {output_value.item()}\" )"
      ],
      "metadata": {
        "id": "3uPQF5oUMwh5"
      },
      "execution_count": 22,
      "outputs": []
    },
    {
      "cell_type": "markdown",
      "source": [
        "#### 使用BigQuery測試"
      ],
      "metadata": {
        "id": "T3GBPo6-NJ_r"
      }
    },
    {
      "cell_type": "code",
      "source": [
        "pipeline_options = PipelineOptions().from_dictionary({'temp_location':f'gs://{bucket}/tmp',\n",
        "                                                      })\n",
        "pipeline = beam.Pipeline(options=pipeline_options)\n",
        "\n",
        "keyed_torch_five_times_model_handler = KeyedModelHandler(torch_five_times_model_handler)\n",
        "\n",
        "table_name = 'maths_problems_1'\n",
        "table_spec = f'{project}:maths.{table_name}'\n",
        "\n",
        "with pipeline as p:\n",
        "      (\n",
        "      p\n",
        "      | \"ReadFromBQ\" >> beam.io.ReadFromBigQuery(table=table_spec)\n",
        "      | \"PreprocessData\" >> beam.Map(lambda x: (x['key'], x['value']))\n",
        "      | \"ConvertNumpyToTensor\" >> beam.Map(lambda x: (x[0], torch.Tensor([x[1]])))\n",
        "      | \"RunInferenceTorch\" >> RunInference(keyed_torch_five_times_model_handler)\n",
        "      | \"PostProcessPredictions\" >> beam.ParDo(PredictionWithKeyProcessor())\n",
        "      | beam.Map(print)\n",
        "      )"
      ],
      "metadata": {
        "colab": {
          "base_uri": "https://localhost:8080/"
        },
        "id": "onvsif1ANOmr",
        "outputId": "a184ccd6-cdb1-4a51-b303-72e6edb8cd8e"
      },
      "execution_count": 23,
      "outputs": [
        {
          "output_type": "stream",
          "name": "stderr",
          "text": [
            "WARNING:apache_beam.transforms.core:('No iterator is returned by the process method in %s.', <class 'apache_beam.io.gcp.bigquery_read_internal._PassThroughThenCleanup.expand.<locals>.RemoveExtractedFiles'>)\n"
          ]
        },
        {
          "output_type": "stream",
          "name": "stdout",
          "text": [
            "key值: second_example, 輸入為: 108.0 輸出為: 540.004638671875\n",
            "key值: fourth_example, 輸入為: 1013.0 輸出為: 5065.04296875\n",
            "key值: first_example, 輸入為: 105.0 輸出為: 525.0045166015625\n",
            "key值: third_example, 輸入為: 1000.0 輸出為: 5000.04248046875\n"
          ]
        }
      ]
    },
    {
      "cell_type": "markdown",
      "source": [
        "#### 建立CSV檔案資料"
      ],
      "metadata": {
        "id": "0a3iwmPJNzex"
      }
    },
    {
      "cell_type": "code",
      "source": [
        "# 建立CSV範例資料\n",
        "csv_values = [(\"first_question\", 105.00),\n",
        "      (\"second_question\", 108.00),\n",
        "      (\"third_question\", 1000.00),\n",
        "      (\"fourth_question\", 1013.00)]\n",
        "input_csv_file = \"./maths_problem.csv\"\n",
        "\n",
        "with open(input_csv_file, 'w') as f:\n",
        "  writer = csv.writer(f)\n",
        "  writer.writerow(['key', 'value'])\n",
        "  for row in csv_values:\n",
        "    writer.writerow(row)\n",
        "\n",
        "assert os.path.exists(input_csv_file) == True"
      ],
      "metadata": {
        "id": "-ymfTxvLOBfg"
      },
      "execution_count": 24,
      "outputs": []
    },
    {
      "cell_type": "markdown",
      "source": [
        "#### 讀取CSV檔進行測試"
      ],
      "metadata": {
        "id": "VLgY1eS0OSRW"
      }
    },
    {
      "cell_type": "code",
      "source": [
        "pipeline_options = PipelineOptions().from_dictionary({'temp_location':f'gs://{bucket}/tmp',\n",
        "                                                      })\n",
        "pipeline = beam.Pipeline(options=pipeline_options)\n",
        "\n",
        "keyed_torch_five_times_model_handler = KeyedModelHandler(torch_five_times_model_handler)\n",
        "\n",
        "with pipeline as p:\n",
        "  df = p | beam.dataframe.io.read_csv(input_csv_file)\n",
        "  pc = to_pcollection(df)\n",
        "  (pc\n",
        "    | \"ConvertNumpyToTensor\" >> beam.Map(lambda x: (x[0], torch.Tensor([x[1]])))\n",
        "    | \"RunInferenceTorch\" >> RunInference(keyed_torch_five_times_model_handler)\n",
        "    | \"PostProcessPredictions\" >> beam.ParDo(PredictionWithKeyProcessor())\n",
        "    | beam.Map(print)\n",
        "    )\n"
      ],
      "metadata": {
        "colab": {
          "base_uri": "https://localhost:8080/"
        },
        "id": "uplyWuZvOWC1",
        "outputId": "4236023f-ed42-434f-ddd0-8d2cf6cfb7c1"
      },
      "execution_count": 25,
      "outputs": [
        {
          "output_type": "stream",
          "name": "stdout",
          "text": [
            "key值: first_question, 輸入為: 105.0 輸出為: 525.0045166015625\n",
            "key值: second_question, 輸入為: 108.0 輸出為: 540.004638671875\n",
            "key值: third_question, 輸入為: 1000.0 輸出為: 5000.04248046875\n",
            "key值: fourth_question, 輸入為: 1013.0 輸出為: 5065.04296875\n"
          ]
        }
      ]
    },
    {
      "cell_type": "markdown",
      "source": [
        "#### 準備十倍模型路徑"
      ],
      "metadata": {
        "id": "JBHf94dqmS5y"
      }
    },
    {
      "cell_type": "code",
      "source": [
        "torch_ten_times_model_handler = PytorchModelHandlerTensor(state_dict_path=save_model_dir_multiply_ten,\n",
        "                                        model_class=LinearRegression,\n",
        "                                        model_params={'input_dim': 1,\n",
        "                                                      'output_dim': 1}\n",
        "                                        )\n",
        "keyed_torch_ten_times_model_handler = KeyedModelHandler(torch_ten_times_model_handler)\n"
      ],
      "metadata": {
        "id": "BYKJdhN0mRRC"
      },
      "execution_count": 26,
      "outputs": []
    },
    {
      "cell_type": "markdown",
      "source": [
        "#### 多模型管道測試"
      ],
      "metadata": {
        "id": "7J87G515ml6G"
      }
    },
    {
      "cell_type": "code",
      "source": [
        "pipeline_options = PipelineOptions().from_dictionary({'temp_location':f'gs://{bucket}/tmp'})\n",
        "\n",
        "pipeline = beam.Pipeline(options=pipeline_options)\n",
        "\n",
        "read_from_bq = beam.io.ReadFromBigQuery(table=table_spec)\n",
        "\n",
        "with pipeline as p:\n",
        "  multiply_five = (\n",
        "      p\n",
        "      |  read_from_bq\n",
        "      | \"CreateMultiplyFiveTuple\" >> beam.Map(lambda x: ('{} {}'.format(x['key'], '* 5'), x['value']))\n",
        "      | \"ConvertNumpyToTensorFiveTuple\" >> beam.Map(lambda x: (x[0], torch.Tensor([x[1]])))\n",
        "      | \"RunInferenceTorchFiveTuple\" >> RunInference(keyed_torch_five_times_model_handler)\n",
        "  )\n",
        "  multiply_ten = (\n",
        "      p\n",
        "      | read_from_bq\n",
        "      | \"CreateMultiplyTenTuple\" >> beam.Map(lambda x: ('{} {}'.format(x['key'], '* 10'), x['value']))\n",
        "      | \"ConvertNumpyToTensorTenTuple\" >> beam.Map(lambda x: (x[0], torch.Tensor([x[1]])))\n",
        "      | \"RunInferenceTorchTenTuple\" >> RunInference(keyed_torch_ten_times_model_handler)\n",
        "  )\n",
        "\n",
        "  inference_result = ((multiply_five, multiply_ten) | beam.Flatten()\n",
        "                                 | beam.ParDo(PredictionWithKeyProcessor()))\n",
        "  inference_result | beam.Map(print)\n"
      ],
      "metadata": {
        "colab": {
          "base_uri": "https://localhost:8080/"
        },
        "collapsed": true,
        "id": "Z6FEk_-Nmig8",
        "outputId": "bd2cac09-00aa-441d-9800-1ec5a5c10835"
      },
      "execution_count": 27,
      "outputs": [
        {
          "output_type": "stream",
          "name": "stderr",
          "text": [
            "WARNING:apache_beam.transforms.core:('No iterator is returned by the process method in %s.', <class 'apache_beam.io.gcp.bigquery_read_internal._PassThroughThenCleanup.expand.<locals>.RemoveExtractedFiles'>)\n",
            "WARNING:apache_beam.transforms.core:('No iterator is returned by the process method in %s.', <class 'apache_beam.io.gcp.bigquery_read_internal._PassThroughThenCleanup.expand.<locals>.RemoveExtractedFiles'>)\n"
          ]
        },
        {
          "output_type": "stream",
          "name": "stdout",
          "text": [
            "key值: second_example * 5, 輸入為: 108.0 輸出為: 540.004638671875\n",
            "key值: fourth_example * 5, 輸入為: 1013.0 輸出為: 5065.04296875\n",
            "key值: first_example * 5, 輸入為: 105.0 輸出為: 525.0045166015625\n",
            "key值: third_example * 5, 輸入為: 1000.0 輸出為: 5000.04248046875\n",
            "key值: second_example * 10, 輸入為: 108.0 輸出為: 1015.0565795898438\n",
            "key值: fourth_example * 10, 輸入為: 1013.0 輸出為: 9445.9580078125\n",
            "key值: first_example * 10, 輸入為: 105.0 輸出為: 987.1088256835938\n",
            "key值: third_example * 10, 輸入為: 1000.0 輸出為: 9324.8505859375\n"
          ]
        }
      ]
    },
    {
      "cell_type": "markdown",
      "source": [
        "#### 排程多模型預測"
      ],
      "metadata": {
        "id": "n-klnz8ipPPq"
      }
    },
    {
      "cell_type": "code",
      "source": [
        "def process_interim_inference(element):\n",
        "    key, prediction_result = element\n",
        "    input_value = prediction_result.example\n",
        "    inference = prediction_result.inference\n",
        "    formatted_input_value = 'original input is `{} {}`'.format(key, input_value)\n",
        "    return formatted_input_value, inference\n",
        "\n",
        "\n",
        "pipeline_options = PipelineOptions().from_dictionary(\n",
        "                                      {'temp_location':f'gs://{bucket}/tmp'})\n",
        "pipeline = beam.Pipeline(options=pipeline_options)\n",
        "\n",
        "with pipeline as p:\n",
        "  multiply_five = (\n",
        "      p\n",
        "      | beam.io.ReadFromBigQuery(table=table_spec)\n",
        "      | \"CreateMultiplyFiveTuple\" >> beam.Map(lambda x: (x['key'], x['value']))\n",
        "      | \"ConvertNumpyToTensorFiveTuple\" >> beam.Map(lambda x: (x[0], torch.Tensor([x[1]])))\n",
        "      | \"RunInferenceTorchFiveTuple\" >> RunInference(keyed_torch_five_times_model_handler)\n",
        "  )\n",
        "\n",
        "  inference_result = (\n",
        "    multiply_five\n",
        "      | \"ExtractResult\" >> beam.Map(process_interim_inference)\n",
        "      | \"RunInferenceTorchTenTuple\" >> RunInference(keyed_torch_ten_times_model_handler)\n",
        "      | beam.ParDo(PredictionWithKeyProcessor())\n",
        "    )\n",
        "  inference_result | beam.Map(print)\n"
      ],
      "metadata": {
        "colab": {
          "base_uri": "https://localhost:8080/"
        },
        "collapsed": true,
        "id": "4FOUOZZvpWc-",
        "outputId": "225094bd-40ff-413d-f2e6-95826c2a1eef"
      },
      "execution_count": 28,
      "outputs": [
        {
          "output_type": "stream",
          "name": "stderr",
          "text": [
            "WARNING:apache_beam.transforms.core:('No iterator is returned by the process method in %s.', <class 'apache_beam.io.gcp.bigquery_read_internal._PassThroughThenCleanup.expand.<locals>.RemoveExtractedFiles'>)\n"
          ]
        },
        {
          "output_type": "stream",
          "name": "stdout",
          "text": [
            "key值: original input is `second_example tensor([108.])`, 輸入為: 540.004638671875 輸出為: 5039.57421875\n",
            "key值: original input is `fourth_example tensor([1013.])`, 輸入為: 5065.04296875 輸出為: 47194.4375\n",
            "key值: original input is `first_example tensor([105.])`, 輸入為: 525.0045166015625 輸出為: 4899.83447265625\n",
            "key值: original input is `third_example tensor([1000.])`, 輸入為: 5000.04248046875 輸出為: 46588.8984375\n"
          ]
        }
      ]
    }
  ]
}