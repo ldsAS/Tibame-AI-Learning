{
  "cells": [
    {
      "cell_type": "markdown",
      "metadata": {
        "id": "view-in-github",
        "colab_type": "text"
      },
      "source": [
        "<a href=\"https://colab.research.google.com/github/ldsAS/Tibame-AI-Learning/blob/main/Tibame20250618_LAB_%E9%90%B5%E9%81%94%E5%B0%BC%E8%99%9F_%E8%A8%93%E7%B7%B4%E6%A8%A1%E5%BC%8F.ipynb\" target=\"_parent\"><img src=\"https://colab.research.google.com/assets/colab-badge.svg\" alt=\"Open In Colab\"/></a>"
      ]
    },
    {
      "cell_type": "markdown",
      "id": "d4b9a8e8-305c-4a3c-8a4a-df610d8b82ad",
      "metadata": {
        "id": "d4b9a8e8-305c-4a3c-8a4a-df610d8b82ad"
      },
      "source": [
        "# 鐵達尼號乘客生存 分類問題"
      ]
    },
    {
      "cell_type": "code",
      "execution_count": 1,
      "id": "9ecc4956-23d7-405d-863c-d45d47c199d2",
      "metadata": {
        "id": "9ecc4956-23d7-405d-863c-d45d47c199d2"
      },
      "outputs": [],
      "source": [
        "import pandas as pd\n",
        "import numpy as np\n",
        "import pickle\n",
        "from sklearn.preprocessing import StandardScaler\n",
        "from sklearn.preprocessing import MinMaxScaler\n",
        "class AutoPreprocess:\n",
        "    def __init__(self):\n",
        "        self.scaler = {}\n",
        "        self.fillna_value = {}\n",
        "        self.onehotencode_value = {}\n",
        "        self.field_names = []\n",
        "        self.final_field_names = []\n",
        "\n",
        "    def fit(self, data, field_names):\n",
        "        self.__init__()\n",
        "        self.field_names = field_names\n",
        "\n",
        "        for fname in field_names:\n",
        "            #自動補空值\n",
        "            if (data[fname].dtype == object) or (data[fname].dtype == str): #字串型態欄位\n",
        "                self.fillna_value[fname] = data[fname].mode()[0] #補眾數\n",
        "                # self.fillna_value[fname] = 'np.nan'\n",
        "                # self.fillna_value[fname] = np.nan # 維持空值\n",
        "            elif data[fname].dtype == bool: #布林型態\n",
        "                self.fillna_value[fname] = data[fname].mode()[0] #補眾數\n",
        "            else: # 數字型態\n",
        "                self.fillna_value[fname] = data[fname].median()  #補中位數\n",
        "\n",
        "            #自動尺度轉換(scaling)\n",
        "            if (data[fname].dtype == object) or (data[fname].dtype == str): #字串型態欄位\n",
        "                pass #不用轉換\n",
        "            elif data[fname].dtype == bool: #布林型態\n",
        "                pass #不用轉換\n",
        "            else: # 數字型態\n",
        "                vc = data[fname].value_counts()\n",
        "                if data[fname].isin([0, 1]).all(): #當數值只有0跟1\n",
        "                    pass #不用轉換\n",
        "                elif pd.api.types.is_integer_dtype(data[fname]) and data[fname].nunique() <= 10: #是否簡單的整數型類別且數量小於10\n",
        "                    self.scaler[fname] = MinMaxScaler()\n",
        "                    self.scaler[fname].fit(data[[fname]])\n",
        "                else: #其他的數字型態\n",
        "                    self.scaler[fname] = StandardScaler()\n",
        "                    self.scaler[fname].fit(data[[fname]])\n",
        "\n",
        "\n",
        "            #自動編碼\n",
        "            if (data[fname].dtype == object) or (data[fname].dtype == str): #字串型態欄位, onehotencode\n",
        "                field_value = data[fname].value_counts().index\n",
        "                self.onehotencode_value[fname] = field_value\n",
        "                for value in field_value:\n",
        "                    fn = fname+\"_\"+value\n",
        "                    # data[fn] = (data[fname] == value).astype('int8')\n",
        "                    self.final_field_names.append(fn)\n",
        "            elif data[fname].dtype == bool: #布林型態 轉成0跟1\n",
        "                # data[fname] = data[fname].astype(int)\n",
        "                self.final_field_names.append(fname)\n",
        "            else: # 數字型態 不用重新編碼\n",
        "                self.final_field_names.append(fname)\n",
        "\n",
        "        return\n",
        "\n",
        "    def transform(self, data):\n",
        "        #如果輸入的data是dict，要先轉成dataframe\n",
        "        if isinstance(data, dict):\n",
        "            for fname in self.field_names:\n",
        "                if fname in data:\n",
        "                    data[fname] = [data[fname]]\n",
        "                else:\n",
        "                    data[fname] = [np.nan]\n",
        "            data = pd.DataFrame(data)\n",
        "        else: #將資料複製一份，不修改原本的資料\n",
        "            data = data.copy()\n",
        "\n",
        "        for fname in self.field_names:\n",
        "            #自動補空值\n",
        "            if data[fname].isnull().any(): #有空值\n",
        "                # if fname in self.fillna_value:\n",
        "                    data[fname] = data[fname].fillna(self.fillna_value[fname])\n",
        "\n",
        "\n",
        "            #自動尺度轉換(scaling)\n",
        "            if fname in self.scaler:\n",
        "                data[fname] = self.scaler[fname].transform(data[[fname]])\n",
        "\n",
        "            #自動編碼\n",
        "            if (data[fname].dtype == object) or (data[fname].dtype == str): #字串型態欄位, onehotencode\n",
        "                if fname in self.onehotencode_value:\n",
        "                    field_value = self.onehotencode_value[fname]\n",
        "                for value in field_value:\n",
        "                    fn = fname+\"_\"+value\n",
        "                    data[fn] = (data[fname] == value).astype('int8')\n",
        "            elif data[fname].dtype == bool: #布林型態 轉成0跟1\n",
        "                data[fname] = data[fname].astype(int)\n",
        "            else: # 數字型態 不用重新編碼\n",
        "                pass\n",
        "        return data[self.final_field_names]\n",
        "\n",
        "    def save(self, file_name):\n",
        "        with open(file_name, \"wb\") as f:\n",
        "            pickle.dump(self, f)\n",
        "\n",
        "    @staticmethod\n",
        "    def load(file_name):\n",
        "        with open(file_name, \"rb\") as f:\n",
        "            return pickle.load(f)"
      ]
    },
    {
      "cell_type": "code",
      "execution_count": 2,
      "id": "dec93f59-dd78-4211-a0cc-98ce136a1350",
      "metadata": {
        "colab": {
          "base_uri": "https://localhost:8080/",
          "height": 258
        },
        "id": "dec93f59-dd78-4211-a0cc-98ce136a1350",
        "outputId": "4383a096-203e-478b-a044-1970f8e58ec5"
      },
      "outputs": [
        {
          "output_type": "execute_result",
          "data": {
            "text/plain": [
              "   乘客序號  船票等級                                                 姓名      性別  \\\n",
              "0     1     3                            Braund, Mr. Owen Harris    male   \n",
              "1     2     1  Cumings, Mrs. John Bradley (Florence Briggs Th...  female   \n",
              "2     3     3                             Heikkinen, Miss. Laina  female   \n",
              "3     4     1       Futrelle, Mrs. Jacques Heath (Lily May Peel)  female   \n",
              "4     5     3                           Allen, Mr. William Henry    male   \n",
              "\n",
              "     年紀  旁系親屬數目  直系親屬數目              船票編號     船票價格  船艙號碼 出發港口  是否倖存  \n",
              "0  22.0       1       0         A/5 21171   7.2500   NaN    S     0  \n",
              "1  38.0       1       0          PC 17599  71.2833   C85    C     1  \n",
              "2  26.0       0       0  STON/O2. 3101282   7.9250   NaN    S     1  \n",
              "3  35.0       1       0            113803  53.1000  C123    S     1  \n",
              "4  35.0       0       0            373450   8.0500   NaN    S     0  "
            ],
            "text/html": [
              "\n",
              "  <div id=\"df-63aa659c-6e80-49f6-88a4-4f78e66beda8\" class=\"colab-df-container\">\n",
              "    <div>\n",
              "<style scoped>\n",
              "    .dataframe tbody tr th:only-of-type {\n",
              "        vertical-align: middle;\n",
              "    }\n",
              "\n",
              "    .dataframe tbody tr th {\n",
              "        vertical-align: top;\n",
              "    }\n",
              "\n",
              "    .dataframe thead th {\n",
              "        text-align: right;\n",
              "    }\n",
              "</style>\n",
              "<table border=\"1\" class=\"dataframe\">\n",
              "  <thead>\n",
              "    <tr style=\"text-align: right;\">\n",
              "      <th></th>\n",
              "      <th>乘客序號</th>\n",
              "      <th>船票等級</th>\n",
              "      <th>姓名</th>\n",
              "      <th>性別</th>\n",
              "      <th>年紀</th>\n",
              "      <th>旁系親屬數目</th>\n",
              "      <th>直系親屬數目</th>\n",
              "      <th>船票編號</th>\n",
              "      <th>船票價格</th>\n",
              "      <th>船艙號碼</th>\n",
              "      <th>出發港口</th>\n",
              "      <th>是否倖存</th>\n",
              "    </tr>\n",
              "  </thead>\n",
              "  <tbody>\n",
              "    <tr>\n",
              "      <th>0</th>\n",
              "      <td>1</td>\n",
              "      <td>3</td>\n",
              "      <td>Braund, Mr. Owen Harris</td>\n",
              "      <td>male</td>\n",
              "      <td>22.0</td>\n",
              "      <td>1</td>\n",
              "      <td>0</td>\n",
              "      <td>A/5 21171</td>\n",
              "      <td>7.2500</td>\n",
              "      <td>NaN</td>\n",
              "      <td>S</td>\n",
              "      <td>0</td>\n",
              "    </tr>\n",
              "    <tr>\n",
              "      <th>1</th>\n",
              "      <td>2</td>\n",
              "      <td>1</td>\n",
              "      <td>Cumings, Mrs. John Bradley (Florence Briggs Th...</td>\n",
              "      <td>female</td>\n",
              "      <td>38.0</td>\n",
              "      <td>1</td>\n",
              "      <td>0</td>\n",
              "      <td>PC 17599</td>\n",
              "      <td>71.2833</td>\n",
              "      <td>C85</td>\n",
              "      <td>C</td>\n",
              "      <td>1</td>\n",
              "    </tr>\n",
              "    <tr>\n",
              "      <th>2</th>\n",
              "      <td>3</td>\n",
              "      <td>3</td>\n",
              "      <td>Heikkinen, Miss. Laina</td>\n",
              "      <td>female</td>\n",
              "      <td>26.0</td>\n",
              "      <td>0</td>\n",
              "      <td>0</td>\n",
              "      <td>STON/O2. 3101282</td>\n",
              "      <td>7.9250</td>\n",
              "      <td>NaN</td>\n",
              "      <td>S</td>\n",
              "      <td>1</td>\n",
              "    </tr>\n",
              "    <tr>\n",
              "      <th>3</th>\n",
              "      <td>4</td>\n",
              "      <td>1</td>\n",
              "      <td>Futrelle, Mrs. Jacques Heath (Lily May Peel)</td>\n",
              "      <td>female</td>\n",
              "      <td>35.0</td>\n",
              "      <td>1</td>\n",
              "      <td>0</td>\n",
              "      <td>113803</td>\n",
              "      <td>53.1000</td>\n",
              "      <td>C123</td>\n",
              "      <td>S</td>\n",
              "      <td>1</td>\n",
              "    </tr>\n",
              "    <tr>\n",
              "      <th>4</th>\n",
              "      <td>5</td>\n",
              "      <td>3</td>\n",
              "      <td>Allen, Mr. William Henry</td>\n",
              "      <td>male</td>\n",
              "      <td>35.0</td>\n",
              "      <td>0</td>\n",
              "      <td>0</td>\n",
              "      <td>373450</td>\n",
              "      <td>8.0500</td>\n",
              "      <td>NaN</td>\n",
              "      <td>S</td>\n",
              "      <td>0</td>\n",
              "    </tr>\n",
              "  </tbody>\n",
              "</table>\n",
              "</div>\n",
              "    <div class=\"colab-df-buttons\">\n",
              "\n",
              "  <div class=\"colab-df-container\">\n",
              "    <button class=\"colab-df-convert\" onclick=\"convertToInteractive('df-63aa659c-6e80-49f6-88a4-4f78e66beda8')\"\n",
              "            title=\"Convert this dataframe to an interactive table.\"\n",
              "            style=\"display:none;\">\n",
              "\n",
              "  <svg xmlns=\"http://www.w3.org/2000/svg\" height=\"24px\" viewBox=\"0 -960 960 960\">\n",
              "    <path d=\"M120-120v-720h720v720H120Zm60-500h600v-160H180v160Zm220 220h160v-160H400v160Zm0 220h160v-160H400v160ZM180-400h160v-160H180v160Zm440 0h160v-160H620v160ZM180-180h160v-160H180v160Zm440 0h160v-160H620v160Z\"/>\n",
              "  </svg>\n",
              "    </button>\n",
              "\n",
              "  <style>\n",
              "    .colab-df-container {\n",
              "      display:flex;\n",
              "      gap: 12px;\n",
              "    }\n",
              "\n",
              "    .colab-df-convert {\n",
              "      background-color: #E8F0FE;\n",
              "      border: none;\n",
              "      border-radius: 50%;\n",
              "      cursor: pointer;\n",
              "      display: none;\n",
              "      fill: #1967D2;\n",
              "      height: 32px;\n",
              "      padding: 0 0 0 0;\n",
              "      width: 32px;\n",
              "    }\n",
              "\n",
              "    .colab-df-convert:hover {\n",
              "      background-color: #E2EBFA;\n",
              "      box-shadow: 0px 1px 2px rgba(60, 64, 67, 0.3), 0px 1px 3px 1px rgba(60, 64, 67, 0.15);\n",
              "      fill: #174EA6;\n",
              "    }\n",
              "\n",
              "    .colab-df-buttons div {\n",
              "      margin-bottom: 4px;\n",
              "    }\n",
              "\n",
              "    [theme=dark] .colab-df-convert {\n",
              "      background-color: #3B4455;\n",
              "      fill: #D2E3FC;\n",
              "    }\n",
              "\n",
              "    [theme=dark] .colab-df-convert:hover {\n",
              "      background-color: #434B5C;\n",
              "      box-shadow: 0px 1px 3px 1px rgba(0, 0, 0, 0.15);\n",
              "      filter: drop-shadow(0px 1px 2px rgba(0, 0, 0, 0.3));\n",
              "      fill: #FFFFFF;\n",
              "    }\n",
              "  </style>\n",
              "\n",
              "    <script>\n",
              "      const buttonEl =\n",
              "        document.querySelector('#df-63aa659c-6e80-49f6-88a4-4f78e66beda8 button.colab-df-convert');\n",
              "      buttonEl.style.display =\n",
              "        google.colab.kernel.accessAllowed ? 'block' : 'none';\n",
              "\n",
              "      async function convertToInteractive(key) {\n",
              "        const element = document.querySelector('#df-63aa659c-6e80-49f6-88a4-4f78e66beda8');\n",
              "        const dataTable =\n",
              "          await google.colab.kernel.invokeFunction('convertToInteractive',\n",
              "                                                    [key], {});\n",
              "        if (!dataTable) return;\n",
              "\n",
              "        const docLinkHtml = 'Like what you see? Visit the ' +\n",
              "          '<a target=\"_blank\" href=https://colab.research.google.com/notebooks/data_table.ipynb>data table notebook</a>'\n",
              "          + ' to learn more about interactive tables.';\n",
              "        element.innerHTML = '';\n",
              "        dataTable['output_type'] = 'display_data';\n",
              "        await google.colab.output.renderOutput(dataTable, element);\n",
              "        const docLink = document.createElement('div');\n",
              "        docLink.innerHTML = docLinkHtml;\n",
              "        element.appendChild(docLink);\n",
              "      }\n",
              "    </script>\n",
              "  </div>\n",
              "\n",
              "\n",
              "    <div id=\"df-22dfc149-21ce-4c1a-8cae-3b2f760beb1b\">\n",
              "      <button class=\"colab-df-quickchart\" onclick=\"quickchart('df-22dfc149-21ce-4c1a-8cae-3b2f760beb1b')\"\n",
              "                title=\"Suggest charts\"\n",
              "                style=\"display:none;\">\n",
              "\n",
              "<svg xmlns=\"http://www.w3.org/2000/svg\" height=\"24px\"viewBox=\"0 0 24 24\"\n",
              "     width=\"24px\">\n",
              "    <g>\n",
              "        <path d=\"M19 3H5c-1.1 0-2 .9-2 2v14c0 1.1.9 2 2 2h14c1.1 0 2-.9 2-2V5c0-1.1-.9-2-2-2zM9 17H7v-7h2v7zm4 0h-2V7h2v10zm4 0h-2v-4h2v4z\"/>\n",
              "    </g>\n",
              "</svg>\n",
              "      </button>\n",
              "\n",
              "<style>\n",
              "  .colab-df-quickchart {\n",
              "      --bg-color: #E8F0FE;\n",
              "      --fill-color: #1967D2;\n",
              "      --hover-bg-color: #E2EBFA;\n",
              "      --hover-fill-color: #174EA6;\n",
              "      --disabled-fill-color: #AAA;\n",
              "      --disabled-bg-color: #DDD;\n",
              "  }\n",
              "\n",
              "  [theme=dark] .colab-df-quickchart {\n",
              "      --bg-color: #3B4455;\n",
              "      --fill-color: #D2E3FC;\n",
              "      --hover-bg-color: #434B5C;\n",
              "      --hover-fill-color: #FFFFFF;\n",
              "      --disabled-bg-color: #3B4455;\n",
              "      --disabled-fill-color: #666;\n",
              "  }\n",
              "\n",
              "  .colab-df-quickchart {\n",
              "    background-color: var(--bg-color);\n",
              "    border: none;\n",
              "    border-radius: 50%;\n",
              "    cursor: pointer;\n",
              "    display: none;\n",
              "    fill: var(--fill-color);\n",
              "    height: 32px;\n",
              "    padding: 0;\n",
              "    width: 32px;\n",
              "  }\n",
              "\n",
              "  .colab-df-quickchart:hover {\n",
              "    background-color: var(--hover-bg-color);\n",
              "    box-shadow: 0 1px 2px rgba(60, 64, 67, 0.3), 0 1px 3px 1px rgba(60, 64, 67, 0.15);\n",
              "    fill: var(--button-hover-fill-color);\n",
              "  }\n",
              "\n",
              "  .colab-df-quickchart-complete:disabled,\n",
              "  .colab-df-quickchart-complete:disabled:hover {\n",
              "    background-color: var(--disabled-bg-color);\n",
              "    fill: var(--disabled-fill-color);\n",
              "    box-shadow: none;\n",
              "  }\n",
              "\n",
              "  .colab-df-spinner {\n",
              "    border: 2px solid var(--fill-color);\n",
              "    border-color: transparent;\n",
              "    border-bottom-color: var(--fill-color);\n",
              "    animation:\n",
              "      spin 1s steps(1) infinite;\n",
              "  }\n",
              "\n",
              "  @keyframes spin {\n",
              "    0% {\n",
              "      border-color: transparent;\n",
              "      border-bottom-color: var(--fill-color);\n",
              "      border-left-color: var(--fill-color);\n",
              "    }\n",
              "    20% {\n",
              "      border-color: transparent;\n",
              "      border-left-color: var(--fill-color);\n",
              "      border-top-color: var(--fill-color);\n",
              "    }\n",
              "    30% {\n",
              "      border-color: transparent;\n",
              "      border-left-color: var(--fill-color);\n",
              "      border-top-color: var(--fill-color);\n",
              "      border-right-color: var(--fill-color);\n",
              "    }\n",
              "    40% {\n",
              "      border-color: transparent;\n",
              "      border-right-color: var(--fill-color);\n",
              "      border-top-color: var(--fill-color);\n",
              "    }\n",
              "    60% {\n",
              "      border-color: transparent;\n",
              "      border-right-color: var(--fill-color);\n",
              "    }\n",
              "    80% {\n",
              "      border-color: transparent;\n",
              "      border-right-color: var(--fill-color);\n",
              "      border-bottom-color: var(--fill-color);\n",
              "    }\n",
              "    90% {\n",
              "      border-color: transparent;\n",
              "      border-bottom-color: var(--fill-color);\n",
              "    }\n",
              "  }\n",
              "</style>\n",
              "\n",
              "      <script>\n",
              "        async function quickchart(key) {\n",
              "          const quickchartButtonEl =\n",
              "            document.querySelector('#' + key + ' button');\n",
              "          quickchartButtonEl.disabled = true;  // To prevent multiple clicks.\n",
              "          quickchartButtonEl.classList.add('colab-df-spinner');\n",
              "          try {\n",
              "            const charts = await google.colab.kernel.invokeFunction(\n",
              "                'suggestCharts', [key], {});\n",
              "          } catch (error) {\n",
              "            console.error('Error during call to suggestCharts:', error);\n",
              "          }\n",
              "          quickchartButtonEl.classList.remove('colab-df-spinner');\n",
              "          quickchartButtonEl.classList.add('colab-df-quickchart-complete');\n",
              "        }\n",
              "        (() => {\n",
              "          let quickchartButtonEl =\n",
              "            document.querySelector('#df-22dfc149-21ce-4c1a-8cae-3b2f760beb1b button');\n",
              "          quickchartButtonEl.style.display =\n",
              "            google.colab.kernel.accessAllowed ? 'block' : 'none';\n",
              "        })();\n",
              "      </script>\n",
              "    </div>\n",
              "\n",
              "    </div>\n",
              "  </div>\n"
            ],
            "application/vnd.google.colaboratory.intrinsic+json": {
              "type": "dataframe",
              "variable_name": "data",
              "summary": "{\n  \"name\": \"data\",\n  \"rows\": 891,\n  \"fields\": [\n    {\n      \"column\": \"\\u4e58\\u5ba2\\u5e8f\\u865f\",\n      \"properties\": {\n        \"dtype\": \"number\",\n        \"std\": 257,\n        \"min\": 1,\n        \"max\": 891,\n        \"num_unique_values\": 891,\n        \"samples\": [\n          710,\n          440,\n          841\n        ],\n        \"semantic_type\": \"\",\n        \"description\": \"\"\n      }\n    },\n    {\n      \"column\": \"\\u8239\\u7968\\u7b49\\u7d1a\",\n      \"properties\": {\n        \"dtype\": \"number\",\n        \"std\": 0,\n        \"min\": 1,\n        \"max\": 3,\n        \"num_unique_values\": 3,\n        \"samples\": [\n          3,\n          1,\n          2\n        ],\n        \"semantic_type\": \"\",\n        \"description\": \"\"\n      }\n    },\n    {\n      \"column\": \"\\u59d3\\u540d\",\n      \"properties\": {\n        \"dtype\": \"string\",\n        \"num_unique_values\": 891,\n        \"samples\": [\n          \"Moubarek, Master. Halim Gonios (\\\"William George\\\")\",\n          \"Kvillner, Mr. Johan Henrik Johannesson\",\n          \"Alhomaki, Mr. Ilmari Rudolf\"\n        ],\n        \"semantic_type\": \"\",\n        \"description\": \"\"\n      }\n    },\n    {\n      \"column\": \"\\u6027\\u5225\",\n      \"properties\": {\n        \"dtype\": \"category\",\n        \"num_unique_values\": 2,\n        \"samples\": [\n          \"female\",\n          \"male\"\n        ],\n        \"semantic_type\": \"\",\n        \"description\": \"\"\n      }\n    },\n    {\n      \"column\": \"\\u5e74\\u7d00\",\n      \"properties\": {\n        \"dtype\": \"number\",\n        \"std\": 14.526497332334044,\n        \"min\": 0.42,\n        \"max\": 80.0,\n        \"num_unique_values\": 88,\n        \"samples\": [\n          0.75,\n          22.0\n        ],\n        \"semantic_type\": \"\",\n        \"description\": \"\"\n      }\n    },\n    {\n      \"column\": \"\\u65c1\\u7cfb\\u89aa\\u5c6c\\u6578\\u76ee\",\n      \"properties\": {\n        \"dtype\": \"number\",\n        \"std\": 1,\n        \"min\": 0,\n        \"max\": 8,\n        \"num_unique_values\": 7,\n        \"samples\": [\n          1,\n          0\n        ],\n        \"semantic_type\": \"\",\n        \"description\": \"\"\n      }\n    },\n    {\n      \"column\": \"\\u76f4\\u7cfb\\u89aa\\u5c6c\\u6578\\u76ee\",\n      \"properties\": {\n        \"dtype\": \"number\",\n        \"std\": 0,\n        \"min\": 0,\n        \"max\": 6,\n        \"num_unique_values\": 7,\n        \"samples\": [\n          0,\n          1\n        ],\n        \"semantic_type\": \"\",\n        \"description\": \"\"\n      }\n    },\n    {\n      \"column\": \"\\u8239\\u7968\\u7de8\\u865f\",\n      \"properties\": {\n        \"dtype\": \"string\",\n        \"num_unique_values\": 681,\n        \"samples\": [\n          \"11774\",\n          \"248740\"\n        ],\n        \"semantic_type\": \"\",\n        \"description\": \"\"\n      }\n    },\n    {\n      \"column\": \"\\u8239\\u7968\\u50f9\\u683c\",\n      \"properties\": {\n        \"dtype\": \"number\",\n        \"std\": 49.693428597180905,\n        \"min\": 0.0,\n        \"max\": 512.3292,\n        \"num_unique_values\": 248,\n        \"samples\": [\n          11.2417,\n          51.8625\n        ],\n        \"semantic_type\": \"\",\n        \"description\": \"\"\n      }\n    },\n    {\n      \"column\": \"\\u8239\\u8259\\u865f\\u78bc\",\n      \"properties\": {\n        \"dtype\": \"category\",\n        \"num_unique_values\": 147,\n        \"samples\": [\n          \"D45\",\n          \"B49\"\n        ],\n        \"semantic_type\": \"\",\n        \"description\": \"\"\n      }\n    },\n    {\n      \"column\": \"\\u51fa\\u767c\\u6e2f\\u53e3\",\n      \"properties\": {\n        \"dtype\": \"category\",\n        \"num_unique_values\": 3,\n        \"samples\": [\n          \"S\",\n          \"C\"\n        ],\n        \"semantic_type\": \"\",\n        \"description\": \"\"\n      }\n    },\n    {\n      \"column\": \"\\u662f\\u5426\\u5016\\u5b58\",\n      \"properties\": {\n        \"dtype\": \"number\",\n        \"std\": 0,\n        \"min\": 0,\n        \"max\": 1,\n        \"num_unique_values\": 2,\n        \"samples\": [\n          1,\n          0\n        ],\n        \"semantic_type\": \"\",\n        \"description\": \"\"\n      }\n    }\n  ]\n}"
            }
          },
          "metadata": {},
          "execution_count": 2
        }
      ],
      "source": [
        "#載入訓練用資料\n",
        "import pandas as pd\n",
        "import numpy as np\n",
        "data = pd.read_csv('../content/Titanic(鐵達尼號乘客)_Train.csv')\n",
        "data.head()"
      ]
    },
    {
      "cell_type": "code",
      "execution_count": 3,
      "id": "53644b67-613c-478e-ad4f-1af5e826b43b",
      "metadata": {
        "colab": {
          "base_uri": "https://localhost:8080/"
        },
        "id": "53644b67-613c-478e-ad4f-1af5e826b43b",
        "outputId": "947d053c-8248-4f97-adfb-64a947da9754"
      },
      "outputs": [
        {
          "output_type": "execute_result",
          "data": {
            "text/plain": [
              "Index(['乘客序號', '船票等級', '姓名', '性別', '年紀', '旁系親屬數目', '直系親屬數目', '船票編號', '船票價格',\n",
              "       '船艙號碼', '出發港口', '是否倖存'],\n",
              "      dtype='object')"
            ]
          },
          "metadata": {},
          "execution_count": 3
        }
      ],
      "source": [
        "data.columns"
      ]
    },
    {
      "cell_type": "code",
      "execution_count": 6,
      "id": "a678b1e1-1458-4b0b-aa47-c8e6725e7269",
      "metadata": {
        "colab": {
          "base_uri": "https://localhost:8080/"
        },
        "id": "a678b1e1-1458-4b0b-aa47-c8e6725e7269",
        "outputId": "7222d899-a215-47f1-c9b0-6b578c83c263"
      },
      "outputs": [
        {
          "output_type": "execute_result",
          "data": {
            "text/plain": [
              "(891, 12)"
            ]
          },
          "metadata": {},
          "execution_count": 6
        }
      ],
      "source": [
        "data.shape"
      ]
    },
    {
      "cell_type": "code",
      "execution_count": 8,
      "id": "6b866e89-2dfa-4737-9c29-d03f808fadbb",
      "metadata": {
        "id": "6b866e89-2dfa-4737-9c29-d03f808fadbb"
      },
      "outputs": [],
      "source": [
        "ap = AutoPreprocess()\n",
        "ap.fit(data, ['船票等級', '性別', '年紀', '旁系親屬數目', '直系親屬數目', '船票價格', '出發港口'])\n",
        "ap.save(\"preprocess.bin\")\n",
        "\n",
        "X = ap.transform(data)\n",
        "y = data['是否倖存']"
      ]
    },
    {
      "cell_type": "code",
      "execution_count": 9,
      "id": "63e135f3-e105-4c6d-9b65-33e4e02093d5",
      "metadata": {
        "colab": {
          "base_uri": "https://localhost:8080/"
        },
        "id": "63e135f3-e105-4c6d-9b65-33e4e02093d5",
        "outputId": "942bf014-e080-4c91-afa8-5b545fd79fb8"
      },
      "outputs": [
        {
          "output_type": "execute_result",
          "data": {
            "text/plain": [
              "Index(['船票等級', '性別_male', '性別_female', '年紀', '旁系親屬數目', '直系親屬數目', '船票價格',\n",
              "       '出發港口_S', '出發港口_C', '出發港口_Q'],\n",
              "      dtype='object')"
            ]
          },
          "metadata": {},
          "execution_count": 9
        }
      ],
      "source": [
        "X.columns"
      ]
    },
    {
      "cell_type": "markdown",
      "id": "e4205d62-7b58-407b-a382-cdcbe740f823",
      "metadata": {
        "id": "e4205d62-7b58-407b-a382-cdcbe740f823"
      },
      "source": [
        "# 方法一"
      ]
    },
    {
      "cell_type": "code",
      "execution_count": 10,
      "id": "5d53f441-640b-46bb-bd84-bc1923ab5cb1",
      "metadata": {
        "id": "5d53f441-640b-46bb-bd84-bc1923ab5cb1"
      },
      "outputs": [],
      "source": [
        "from sklearn.model_selection import train_test_split\n",
        "# 分割資料成訓練組跟驗證組\n",
        "X_train, X_valid, y_train, y_valid = train_test_split(X, y, random_state=0)"
      ]
    },
    {
      "cell_type": "code",
      "execution_count": 12,
      "id": "1f3f5672-ea6d-43af-88bf-2e3f194ab463",
      "metadata": {
        "colab": {
          "base_uri": "https://localhost:8080/"
        },
        "id": "1f3f5672-ea6d-43af-88bf-2e3f194ab463",
        "outputId": "8f912141-9ef9-476b-fcba-cfd23d234126"
      },
      "outputs": [
        {
          "output_type": "stream",
          "name": "stderr",
          "text": [
            "/usr/local/lib/python3.11/dist-packages/sklearn/neural_network/_multilayer_perceptron.py:691: ConvergenceWarning: Stochastic Optimizer: Maximum iterations (200) reached and the optimization hasn't converged yet.\n",
            "  warnings.warn(\n"
          ]
        }
      ],
      "source": [
        "from sklearn.ensemble import RandomForestClassifier, AdaBoostClassifier, GradientBoostingClassifier\n",
        "from sklearn.neighbors import KNeighborsClassifier\n",
        "from sklearn.neural_network import MLPClassifier\n",
        "\n",
        "## 下面幾個模型選一個\n",
        "# model = RandomForestClassifier(n_estimators=50)\n",
        "model = MLPClassifier(hidden_layer_sizes=(100,))\n",
        "# model = AdaBoostClassifier(n_estimators=50)\n",
        "# model = GradientBoostingClassifier(n_estimators=50)\n",
        "# model = KNeighborsClassifier(n_neighbors=5)\n",
        "\n",
        "model.fit(X_train, y_train)\n",
        "\n",
        "#儲存模型\n",
        "import pickle\n",
        "with open(\"model.bin\", \"wb\") as f:\n",
        "    pickle.dump(model, f)\n"
      ]
    },
    {
      "cell_type": "markdown",
      "id": "18df7177-5dd0-4816-a13a-9341a6caf6b4",
      "metadata": {
        "id": "18df7177-5dd0-4816-a13a-9341a6caf6b4"
      },
      "source": [
        "# 驗證模型"
      ]
    },
    {
      "cell_type": "code",
      "execution_count": 13,
      "id": "809dee48-d044-44bd-8f40-97081e5d9ba9",
      "metadata": {
        "colab": {
          "base_uri": "https://localhost:8080/"
        },
        "id": "809dee48-d044-44bd-8f40-97081e5d9ba9",
        "outputId": "36018545-2a93-41c7-acdf-3bc085c6830f"
      },
      "outputs": [
        {
          "output_type": "stream",
          "name": "stdout",
          "text": [
            "訓練組 f1: 0.7770700636942676\n",
            "訓練組 precision: 0.8591549295774648\n",
            "訓練組 recall: 0.7093023255813954\n",
            "訓練組 roc_auc: 0.8842030629608622\n",
            "驗證組 f1: 0.7564102564102564\n",
            "驗證組 precision: 0.8194444444444444\n",
            "驗證組 recall: 0.7023809523809523\n",
            "驗證組 roc_auc: 0.8841640972935936\n"
          ]
        }
      ],
      "source": [
        "import matplotlib.pyplot as plt\n",
        "from sklearn.metrics import f1_score, recall_score, precision_score, roc_auc_score\n",
        "\n",
        "y_pred = model.predict(X_train)\n",
        "f1 = f1_score(y_train, y_pred)\n",
        "print(\"訓練組 f1:\", f1)\n",
        "precision = precision_score(y_train, y_pred)\n",
        "print(\"訓練組 precision:\", precision)\n",
        "recall = recall_score(y_train, y_pred)\n",
        "print(\"訓練組 recall:\", recall)\n",
        "\n",
        "y_pred = model.predict_proba(X_train)[:,1]\n",
        "roc_auc = roc_auc_score(y_train, y_pred)\n",
        "print(\"訓練組 roc_auc:\", roc_auc)\n",
        "\n",
        "y_pred2 = model.predict(X_valid)\n",
        "f1 = f1_score(y_valid, y_pred2)\n",
        "print(\"驗證組 f1:\", f1)\n",
        "precision = precision_score(y_valid, y_pred2)\n",
        "print(\"驗證組 precision:\", precision)\n",
        "recall = recall_score(y_valid, y_pred2)\n",
        "print(\"驗證組 recall:\", recall)\n",
        "\n",
        "y_pred2 = model.predict_proba(X_valid)[:,1]\n",
        "roc_auc = roc_auc_score(y_valid, y_pred2)\n",
        "print(\"驗證組 roc_auc:\", roc_auc)"
      ]
    },
    {
      "cell_type": "code",
      "execution_count": 14,
      "id": "9f074efb-115e-4811-b3aa-29226a93755c",
      "metadata": {
        "colab": {
          "base_uri": "https://localhost:8080/",
          "height": 616
        },
        "id": "9f074efb-115e-4811-b3aa-29226a93755c",
        "outputId": "fec60acb-62a9-4dd4-aaa3-812c5b9c51ac"
      },
      "outputs": [
        {
          "output_type": "stream",
          "name": "stdout",
          "text": [
            "驗證組 roc_auc: 0.8841640972935936\n",
            "驗證組 precision: 0.8194444444444444\n",
            "驗證組 recall: 0.7023809523809523\n"
          ]
        },
        {
          "output_type": "display_data",
          "data": {
            "text/plain": [
              "<Figure size 800x600 with 2 Axes>"
            ],
            "image/png": "[encoded data removed]"
          },
          "metadata": {}
        }
      ],
      "source": [
        "import matplotlib.pyplot as plt\n",
        "import seaborn as sns\n",
        "from sklearn.metrics import confusion_matrix\n",
        "\n",
        "threshold = 0.5 #這裡可以調整\n",
        "\n",
        "# 預測結果\n",
        "y_pred_proba = model.predict_proba(X_valid)[:,1]\n",
        "y_pred = (y_pred_proba >= threshold).astype('int')\n",
        "\n",
        "roc_auc = roc_auc_score(y_valid, y_pred_proba)\n",
        "print(\"驗證組 roc_auc:\", roc_auc)\n",
        "precision = precision_score(y_valid, y_pred)\n",
        "print(\"驗證組 precision:\", precision)\n",
        "recall = recall_score(y_valid, y_pred)\n",
        "print(\"驗證組 recall:\", recall)\n",
        "\n",
        "# 計算混淆矩陣\n",
        "cm = confusion_matrix(y_valid, y_pred)\n",
        "\n",
        "# 繪製 heatmap\n",
        "plt.figure(figsize=(8, 6))\n",
        "sns.heatmap(cm, annot=True, fmt='d', cmap='Blues')\n",
        "plt.title('Confusion Matrix Heatmap')\n",
        "plt.xlabel('Predicted Label')\n",
        "plt.ylabel('True Label')\n",
        "plt.show()\n"
      ]
    },
    {
      "cell_type": "code",
      "execution_count": null,
      "id": "d76944ca-21ab-49b7-ac74-2e1d56b7b749",
      "metadata": {
        "id": "d76944ca-21ab-49b7-ac74-2e1d56b7b749"
      },
      "outputs": [],
      "source": []
    },
    {
      "cell_type": "code",
      "execution_count": null,
      "id": "129cf89b-85ae-4e65-a520-952eabb2fa5a",
      "metadata": {
        "id": "129cf89b-85ae-4e65-a520-952eabb2fa5a"
      },
      "outputs": [],
      "source": []
    },
    {
      "cell_type": "code",
      "execution_count": null,
      "id": "a836fd52-b06f-460c-b6df-93bec027b81a",
      "metadata": {
        "id": "a836fd52-b06f-460c-b6df-93bec027b81a"
      },
      "outputs": [],
      "source": []
    },
    {
      "cell_type": "code",
      "execution_count": null,
      "id": "510984f1-11d4-4e1b-940f-f6d8b2f43d44",
      "metadata": {
        "id": "510984f1-11d4-4e1b-940f-f6d8b2f43d44"
      },
      "outputs": [],
      "source": []
    }
  ],
  "metadata": {
    "kernelspec": {
      "display_name": "Python 3 (ipykernel)",
      "language": "python",
      "name": "python3"
    },
    "language_info": {
      "codemirror_mode": {
        "name": "ipython",
        "version": 3
      },
      "file_extension": ".py",
      "mimetype": "text/x-python",
      "name": "python",
      "nbconvert_exporter": "python",
      "pygments_lexer": "ipython3",
      "version": "3.12.3"
    },
    "colab": {
      "provenance": [],
      "include_colab_link": true
    }
  },
  "nbformat": 4,
  "nbformat_minor": 5
}