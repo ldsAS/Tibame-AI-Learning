{
  "cells": [
    {
      "cell_type": "markdown",
      "metadata": {
        "id": "view-in-github",
        "colab_type": "text"
      },
      "source": [
        "<a href=\"https://colab.research.google.com/github/ldsAS/Tibame-AI-Learning/blob/main/Tibame20250609_%E4%BA%A4%E5%8F%89%E9%A9%97%E8%AD%89%E6%B3%95_Cross_Validation.ipynb\" target=\"_parent\"><img src=\"https://colab.research.google.com/assets/colab-badge.svg\" alt=\"Open In Colab\"/></a>"
      ]
    },
    {
      "cell_type": "markdown",
      "id": "3ef01b9d-66cd-4f25-82cf-4ba6a3d3f181",
      "metadata": {
        "id": "3ef01b9d-66cd-4f25-82cf-4ba6a3d3f181"
      },
      "source": [
        "# 交叉驗證法 (Cross Validation)\n",
        "\n",
        "交叉驗證法（Cross Validation）是一種常用的模型評估技術，主要用來衡量機器學習模型在未知資料上的預測能力。它可以有效減少因資料集劃分方式不同而帶來的過擬合問題，從而提供更穩定且可靠的模型性能評估。\n",
        "\n",
        "## 交叉驗證的基本流程：\n",
        "1. **將資料集分成 K 個子集（K-fold）**：常見的是 K=5 或 K=10，這樣將資料集分成 K 等份。\n",
        "2. **訓練與測試**：每次將其中一個子集用作測試資料，其餘 K-1 個子集用作訓練資料。這樣就能夠訓練出 K 個模型，每個模型都在不同的測試資料上進行測試。\n",
        "3. **計算評估指標**：在每次測試後，計算相應的評估指標（如準確率、F1 分數等），最終將 K 次的評估結果進行平均，得出模型的總體表現。\n",
        "\n",
        "## 交叉驗證的優點：\n",
        "- **減少過擬合的風險**：由於模型會在多個不同的資料子集上進行訓練和測試，能夠更好地評估模型的泛化能力。\n",
        "- **充分利用資料**：每個資料點都會在測試集和訓練集中出現，有助於提高模型的學習效果。\n",
        "- **結果更穩定**：相比單一的訓練/測試集劃分，交叉驗證能提供更加穩定的評估結果。\n",
        "\n",
        "## 常見的交叉驗證方法：\n",
        "1. **K-fold 交叉驗證**：將資料集隨機劃分為 K 等份，每次用其中一份作為測試集，其他作為訓練集，重複 K 次。\n",
        "2. **Leave-one-out Cross Validation (LOOCV)**：這是 K-fold 交叉驗證的一個極端情況，將資料集的每個樣本都當作一次測試集，其他樣本作為訓練集，適用於資料集較小的情況。\n",
        "3. **Stratified K-fold 交叉驗證**：這是對 K-fold 交叉驗證的改進，確保每個子集的資料分佈與原資料集的分佈相似，特別在處理類別不平衡的問題時效果更好。\n",
        "\n",
        "## 總結：\n",
        "交叉驗證是機器學習中一個非常重要且實用的技術，能夠有效提高模型的可靠性和穩定性。\n"
      ]
    },
    {
      "cell_type": "code",
      "execution_count": null,
      "id": "21032008",
      "metadata": {
        "id": "21032008"
      },
      "outputs": [],
      "source": [
        "import numpy as np\n",
        "import pandas as pd"
      ]
    },
    {
      "cell_type": "code",
      "execution_count": null,
      "id": "af20faf3",
      "metadata": {
        "id": "af20faf3",
        "outputId": "2dab7b50-3f85-418a-a566-80411e1a1a9f"
      },
      "outputs": [
        {
          "data": {
            "text/html": [
              "<div>\n",
              "<style scoped>\n",
              "    .dataframe tbody tr th:only-of-type {\n",
              "        vertical-align: middle;\n",
              "    }\n",
              "\n",
              "    .dataframe tbody tr th {\n",
              "        vertical-align: top;\n",
              "    }\n",
              "\n",
              "    .dataframe thead th {\n",
              "        text-align: right;\n",
              "    }\n",
              "</style>\n",
              "<table border=\"1\" class=\"dataframe\">\n",
              "  <thead>\n",
              "    <tr style=\"text-align: right;\">\n",
              "      <th></th>\n",
              "      <th>Id</th>\n",
              "      <th>SepalLengthCm</th>\n",
              "      <th>SepalWidthCm</th>\n",
              "      <th>PetalLengthCm</th>\n",
              "      <th>PetalWidthCm</th>\n",
              "      <th>Species</th>\n",
              "    </tr>\n",
              "  </thead>\n",
              "  <tbody>\n",
              "    <tr>\n",
              "      <th>0</th>\n",
              "      <td>1</td>\n",
              "      <td>5.1</td>\n",
              "      <td>3.5</td>\n",
              "      <td>1.4</td>\n",
              "      <td>0.2</td>\n",
              "      <td>Iris-setosa</td>\n",
              "    </tr>\n",
              "    <tr>\n",
              "      <th>1</th>\n",
              "      <td>2</td>\n",
              "      <td>4.9</td>\n",
              "      <td>3.0</td>\n",
              "      <td>1.4</td>\n",
              "      <td>0.2</td>\n",
              "      <td>Iris-setosa</td>\n",
              "    </tr>\n",
              "    <tr>\n",
              "      <th>2</th>\n",
              "      <td>3</td>\n",
              "      <td>4.7</td>\n",
              "      <td>3.2</td>\n",
              "      <td>1.3</td>\n",
              "      <td>0.2</td>\n",
              "      <td>Iris-setosa</td>\n",
              "    </tr>\n",
              "    <tr>\n",
              "      <th>3</th>\n",
              "      <td>4</td>\n",
              "      <td>4.6</td>\n",
              "      <td>3.1</td>\n",
              "      <td>1.5</td>\n",
              "      <td>0.2</td>\n",
              "      <td>Iris-setosa</td>\n",
              "    </tr>\n",
              "    <tr>\n",
              "      <th>4</th>\n",
              "      <td>5</td>\n",
              "      <td>5.0</td>\n",
              "      <td>3.6</td>\n",
              "      <td>1.4</td>\n",
              "      <td>0.2</td>\n",
              "      <td>Iris-setosa</td>\n",
              "    </tr>\n",
              "  </tbody>\n",
              "</table>\n",
              "</div>"
            ],
            "text/plain": [
              "   Id  SepalLengthCm  SepalWidthCm  PetalLengthCm  PetalWidthCm      Species\n",
              "0   1            5.1           3.5            1.4           0.2  Iris-setosa\n",
              "1   2            4.9           3.0            1.4           0.2  Iris-setosa\n",
              "2   3            4.7           3.2            1.3           0.2  Iris-setosa\n",
              "3   4            4.6           3.1            1.5           0.2  Iris-setosa\n",
              "4   5            5.0           3.6            1.4           0.2  Iris-setosa"
            ]
          },
          "execution_count": 2,
          "metadata": {},
          "output_type": "execute_result"
        }
      ],
      "source": [
        "data = pd.read_csv(\"../data/Iris.csv\")\n",
        "data.head()"
      ]
    },
    {
      "cell_type": "code",
      "execution_count": null,
      "id": "c264ed94",
      "metadata": {
        "id": "c264ed94"
      },
      "outputs": [],
      "source": [
        "from sklearn.neighbors import KNeighborsClassifier\n",
        "model = KNeighborsClassifier()\n",
        "\n",
        "input_field = ['SepalLengthCm','SepalWidthCm','PetalLengthCm','PetalWidthCm']\n",
        "output_field = 'Species'"
      ]
    },
    {
      "cell_type": "markdown",
      "id": "9a074ced",
      "metadata": {
        "id": "9a074ced"
      },
      "source": [
        "# train_test_split"
      ]
    },
    {
      "cell_type": "markdown",
      "id": "9d7a5938",
      "metadata": {
        "id": "9d7a5938"
      },
      "source": [
        "## 方法1 ： 先分群再選擇欄位"
      ]
    },
    {
      "cell_type": "code",
      "execution_count": null,
      "id": "5e80c656",
      "metadata": {
        "id": "5e80c656",
        "outputId": "caf73a65-f8ef-448f-a302-9c4f8d1d587e"
      },
      "outputs": [
        {
          "name": "stdout",
          "output_type": "stream",
          "text": [
            "Train data size (120, 6)\n",
            "Test data size (30, 6)\n"
          ]
        }
      ],
      "source": [
        "from sklearn.model_selection import train_test_split\n",
        "\n",
        "data_train, data_test = train_test_split(data, test_size=0.2, random_state=0)\n",
        "print('Train data size', data_train.shape)\n",
        "print('Test data size', data_test.shape)"
      ]
    },
    {
      "cell_type": "code",
      "execution_count": null,
      "id": "66027ef7",
      "metadata": {
        "id": "66027ef7"
      },
      "outputs": [],
      "source": [
        "train_x = data_train[input_field]\n",
        "train_y = data_train[output_field]\n",
        "test_x = data_test[input_field]\n",
        "test_y = data_test[output_field]"
      ]
    },
    {
      "cell_type": "code",
      "execution_count": null,
      "id": "98d714c2",
      "metadata": {
        "id": "98d714c2",
        "outputId": "f9b6c86c-6b51-46da-e446-b92afd8aa284"
      },
      "outputs": [
        {
          "name": "stdout",
          "output_type": "stream",
          "text": [
            "(120, 4)\n",
            "(120,)\n",
            "(30, 4)\n",
            "(30,)\n"
          ]
        }
      ],
      "source": [
        "print(train_x.shape)\n",
        "print(train_y.shape)\n",
        "print(test_x.shape)\n",
        "print(test_y.shape)"
      ]
    },
    {
      "cell_type": "markdown",
      "id": "5ef57a68",
      "metadata": {
        "id": "5ef57a68"
      },
      "source": [
        "## 方法2 ： 先選擇欄位再分群"
      ]
    },
    {
      "cell_type": "code",
      "execution_count": null,
      "id": "1816177e",
      "metadata": {
        "id": "1816177e"
      },
      "outputs": [],
      "source": [
        "x = data[input_field]\n",
        "y = data[output_field]\n",
        "\n",
        "train_x, test_x, train_y, test_y = train_test_split(x, y, test_size=0.2, random_state=0)"
      ]
    },
    {
      "cell_type": "code",
      "execution_count": null,
      "id": "935b6a63",
      "metadata": {
        "id": "935b6a63",
        "outputId": "b75ddf94-b0f3-461c-83a1-07e9d8f3cd9e"
      },
      "outputs": [
        {
          "name": "stdout",
          "output_type": "stream",
          "text": [
            "(120, 4)\n",
            "(120,)\n",
            "(30, 4)\n",
            "(30,)\n"
          ]
        }
      ],
      "source": [
        "print(train_x.shape)\n",
        "print(train_y.shape)\n",
        "print(test_x.shape)\n",
        "print(test_y.shape)"
      ]
    },
    {
      "cell_type": "markdown",
      "id": "7e192b59",
      "metadata": {
        "id": "7e192b59"
      },
      "source": [
        "## 訓練與測試"
      ]
    },
    {
      "cell_type": "code",
      "execution_count": null,
      "id": "e2c83894",
      "metadata": {
        "id": "e2c83894",
        "outputId": "0692f9bb-4e7f-49bd-ecea-152e9732e53d"
      },
      "outputs": [
        {
          "name": "stdout",
          "output_type": "stream",
          "text": [
            "The train accuracy is: 0.95\n",
            "The test accuracy is: 0.9666666666666667\n"
          ]
        }
      ],
      "source": [
        "from sklearn.metrics import accuracy_score\n",
        "\n",
        "model.fit(train_x, train_y)\n",
        "\n",
        "pred_train = model.predict(train_x)\n",
        "pred_test = model.predict(test_x)\n",
        "\n",
        "print('The train accuracy is:', accuracy_score(train_y,pred_train))\n",
        "print('The test accuracy is:', accuracy_score(test_y,pred_test))"
      ]
    },
    {
      "cell_type": "markdown",
      "id": "49f7bcc2",
      "metadata": {
        "id": "49f7bcc2"
      },
      "source": [
        "# cross_validate"
      ]
    },
    {
      "cell_type": "code",
      "execution_count": null,
      "id": "192d7611",
      "metadata": {
        "id": "192d7611",
        "outputId": "285a076f-2d8c-40f4-f332-6908edf3a830"
      },
      "outputs": [
        {
          "data": {
            "text/plain": [
              "{'fit_time': array([0.0019989 , 0.0019989 , 0.00299811, 0.00168991, 0.00199986]),\n",
              " 'score_time': array([0.16244054, 0.15913296, 0.15490985, 0.09976792, 0.12406325]),\n",
              " 'test_accuracy': array([0.96666667, 1.        , 0.93333333, 0.96666667, 1.        ]),\n",
              " 'test_balanced_accuracy': array([0.96666667, 1.        , 0.93333333, 0.96666667, 1.        ]),\n",
              " 'test_roc_auc': array([nan, nan, nan, nan, nan]),\n",
              " 'test_f1': array([nan, nan, nan, nan, nan]),\n",
              " 'test_precision': array([nan, nan, nan, nan, nan]),\n",
              " 'test_recall': array([nan, nan, nan, nan, nan]),\n",
              " 'test_roc_auc_ovr': array([0.97333333, 1.        , 0.99333333, 0.97      , 1.        ])}"
            ]
          },
          "execution_count": 10,
          "metadata": {},
          "output_type": "execute_result"
        }
      ],
      "source": [
        "from sklearn.model_selection import cross_validate\n",
        "\n",
        "x = data[input_field]\n",
        "y = data[output_field]\n",
        "\n",
        "score_type = ['accuracy','balanced_accuracy','roc_auc','f1','precision','recall','roc_auc_ovr']\n",
        "\n",
        "cv_scores = cross_validate(model, x, y, cv=5, n_jobs=5, scoring=score_type)\n",
        "cv_scores"
      ]
    },
    {
      "cell_type": "markdown",
      "id": "cf1ba17b",
      "metadata": {
        "id": "cf1ba17b"
      },
      "source": [
        "### cross_validate的缺點是只能處理二元分類，且類別要預先轉換為 0 跟 1"
      ]
    },
    {
      "cell_type": "code",
      "execution_count": null,
      "id": "af28690d",
      "metadata": {
        "id": "af28690d",
        "outputId": "98c2ad20-862c-4aa7-cb2c-0c3060cf6702"
      },
      "outputs": [
        {
          "data": {
            "text/plain": [
              "{'fit_time': array([0.00542116, 0.00551391, 0.00444508, 0.00444078, 0.00302482]),\n",
              " 'score_time': array([0.02718616, 0.02820516, 0.02828693, 0.02416134, 0.02826953]),\n",
              " 'test_accuracy': array([0.96666667, 0.96666667, 1.        , 0.86666667, 0.96666667]),\n",
              " 'test_balanced_accuracy': array([0.95 , 0.95 , 1.   , 0.9  , 0.975]),\n",
              " 'test_roc_auc': array([0.95  , 1.    , 1.    , 0.9925, 0.995 ]),\n",
              " 'test_f1': array([0.94736842, 0.94736842, 1.        , 0.83333333, 0.95238095]),\n",
              " 'test_precision': array([1.        , 1.        , 1.        , 0.71428571, 0.90909091]),\n",
              " 'test_recall': array([0.9, 0.9, 1. , 1. , 1. ]),\n",
              " 'test_roc_auc_ovr': array([0.95  , 1.    , 1.    , 0.9925, 0.995 ])}"
            ]
          },
          "execution_count": 11,
          "metadata": {},
          "output_type": "execute_result"
        }
      ],
      "source": [
        "from sklearn.model_selection import cross_validate\n",
        "\n",
        "target_filed_map = {'Iris-setosa': 0, 'Iris-versicolor': 0, 'Iris-virginica': 1}\n",
        "# target_filed_map = {'Iris-setosa': 'Iris-setosa', 'Iris-versicolor': 'Iris-setosa', 'Iris-virginica': 'Iris-virginica'}\n",
        "\n",
        "x = data[input_field]\n",
        "y = data[output_field].map(target_filed_map)\n",
        "\n",
        "\n",
        "score_type = ['accuracy','balanced_accuracy','roc_auc','f1','precision','recall','roc_auc_ovr']\n",
        "\n",
        "cv_scores = cross_validate(model, x, y, cv=5, n_jobs=5, scoring=score_type)\n",
        "cv_scores"
      ]
    },
    {
      "cell_type": "markdown",
      "id": "34855631",
      "metadata": {
        "id": "34855631"
      },
      "source": [
        "# KFold\n"
      ]
    },
    {
      "cell_type": "code",
      "execution_count": null,
      "id": "cd20f710",
      "metadata": {
        "id": "cd20f710",
        "outputId": "bab5ac5e-fec8-41bb-a149-90bf0d15b5cc"
      },
      "outputs": [
        {
          "name": "stdout",
          "output_type": "stream",
          "text": [
            "train_index = \n",
            " [ 30  31  32  33  34  35  36  37  38  39  40  41  42  43  44  45  46  47\n",
            "  48  49  50  51  52  53  54  55  56  57  58  59  60  61  62  63  64  65\n",
            "  66  67  68  69  70  71  72  73  74  75  76  77  78  79  80  81  82  83\n",
            "  84  85  86  87  88  89  90  91  92  93  94  95  96  97  98  99 100 101\n",
            " 102 103 104 105 106 107 108 109 110 111 112 113 114 115 116 117 118 119\n",
            " 120 121 122 123 124 125 126 127 128 129 130 131 132 133 134 135 136 137\n",
            " 138 139 140 141 142 143 144 145 146 147 148 149]\n",
            "test_index = \n",
            " [ 0  1  2  3  4  5  6  7  8  9 10 11 12 13 14 15 16 17 18 19 20 21 22 23\n",
            " 24 25 26 27 28 29] \n",
            "\n",
            "train_index = \n",
            " [  0   1   2   3   4   5   6   7   8   9  10  11  12  13  14  15  16  17\n",
            "  18  19  20  21  22  23  24  25  26  27  28  29  60  61  62  63  64  65\n",
            "  66  67  68  69  70  71  72  73  74  75  76  77  78  79  80  81  82  83\n",
            "  84  85  86  87  88  89  90  91  92  93  94  95  96  97  98  99 100 101\n",
            " 102 103 104 105 106 107 108 109 110 111 112 113 114 115 116 117 118 119\n",
            " 120 121 122 123 124 125 126 127 128 129 130 131 132 133 134 135 136 137\n",
            " 138 139 140 141 142 143 144 145 146 147 148 149]\n",
            "test_index = \n",
            " [30 31 32 33 34 35 36 37 38 39 40 41 42 43 44 45 46 47 48 49 50 51 52 53\n",
            " 54 55 56 57 58 59] \n",
            "\n",
            "train_index = \n",
            " [  0   1   2   3   4   5   6   7   8   9  10  11  12  13  14  15  16  17\n",
            "  18  19  20  21  22  23  24  25  26  27  28  29  30  31  32  33  34  35\n",
            "  36  37  38  39  40  41  42  43  44  45  46  47  48  49  50  51  52  53\n",
            "  54  55  56  57  58  59  90  91  92  93  94  95  96  97  98  99 100 101\n",
            " 102 103 104 105 106 107 108 109 110 111 112 113 114 115 116 117 118 119\n",
            " 120 121 122 123 124 125 126 127 128 129 130 131 132 133 134 135 136 137\n",
            " 138 139 140 141 142 143 144 145 146 147 148 149]\n",
            "test_index = \n",
            " [60 61 62 63 64 65 66 67 68 69 70 71 72 73 74 75 76 77 78 79 80 81 82 83\n",
            " 84 85 86 87 88 89] \n",
            "\n",
            "train_index = \n",
            " [  0   1   2   3   4   5   6   7   8   9  10  11  12  13  14  15  16  17\n",
            "  18  19  20  21  22  23  24  25  26  27  28  29  30  31  32  33  34  35\n",
            "  36  37  38  39  40  41  42  43  44  45  46  47  48  49  50  51  52  53\n",
            "  54  55  56  57  58  59  60  61  62  63  64  65  66  67  68  69  70  71\n",
            "  72  73  74  75  76  77  78  79  80  81  82  83  84  85  86  87  88  89\n",
            " 120 121 122 123 124 125 126 127 128 129 130 131 132 133 134 135 136 137\n",
            " 138 139 140 141 142 143 144 145 146 147 148 149]\n",
            "test_index = \n",
            " [ 90  91  92  93  94  95  96  97  98  99 100 101 102 103 104 105 106 107\n",
            " 108 109 110 111 112 113 114 115 116 117 118 119] \n",
            "\n",
            "train_index = \n",
            " [  0   1   2   3   4   5   6   7   8   9  10  11  12  13  14  15  16  17\n",
            "  18  19  20  21  22  23  24  25  26  27  28  29  30  31  32  33  34  35\n",
            "  36  37  38  39  40  41  42  43  44  45  46  47  48  49  50  51  52  53\n",
            "  54  55  56  57  58  59  60  61  62  63  64  65  66  67  68  69  70  71\n",
            "  72  73  74  75  76  77  78  79  80  81  82  83  84  85  86  87  88  89\n",
            "  90  91  92  93  94  95  96  97  98  99 100 101 102 103 104 105 106 107\n",
            " 108 109 110 111 112 113 114 115 116 117 118 119]\n",
            "test_index = \n",
            " [120 121 122 123 124 125 126 127 128 129 130 131 132 133 134 135 136 137\n",
            " 138 139 140 141 142 143 144 145 146 147 148 149] \n",
            "\n"
          ]
        }
      ],
      "source": [
        "from sklearn.model_selection import KFold\n",
        "\n",
        "kf = KFold(n_splits=5)\n",
        "for train_index, test_index in kf.split(data):\n",
        "    print('train_index = \\n', train_index)\n",
        "    print('test_index = \\n', test_index, '\\n')"
      ]
    },
    {
      "cell_type": "markdown",
      "id": "5e81f9ca",
      "metadata": {
        "id": "5e81f9ca"
      },
      "source": [
        "### 上面可以發現index值是連續的，比較好的做法應該是加上參數shuffle=True"
      ]
    },
    {
      "cell_type": "code",
      "execution_count": null,
      "id": "016e222b",
      "metadata": {
        "id": "016e222b",
        "outputId": "bc68d490-599f-4e51-ae4b-d1796ff917ac"
      },
      "outputs": [
        {
          "name": "stdout",
          "output_type": "stream",
          "text": [
            "train_index = \n",
            " [  0   1   2   3   4   5   6   9  10  11  12  13  14  15  17  18  19  20\n",
            "  21  23  25  27  28  29  30  31  32  34  35  36  38  39  41  42  43  46\n",
            "  47  48  49  50  52  53  55  56  57  58  59  60  61  64  65  67  68  69\n",
            "  70  72  74  75  77  79  80  81  82  83  84  85  87  88  89  91  92  94\n",
            "  95  96  98  99 101 102 103 104 105 106 108 109 110 111 112 113 115 116\n",
            " 117 118 119 120 122 123 124 125 127 128 129 130 131 132 133 135 136 137\n",
            " 138 139 140 141 142 143 144 145 146 147 148 149]\n",
            "test_index = \n",
            " [  7   8  16  22  24  26  33  37  40  44  45  51  54  62  63  66  71  73\n",
            "  76  78  86  90  93  97 100 107 114 121 126 134] \n",
            "\n",
            "train_index = \n",
            " [  0   1   3   4   5   6   7   8   9  11  12  13  14  15  16  17  19  20\n",
            "  21  22  23  24  25  26  28  29  30  31  32  33  34  35  36  37  38  39\n",
            "  40  41  42  44  45  46  47  48  49  51  52  53  54  55  57  58  62  63\n",
            "  64  65  66  67  68  70  71  72  73  74  75  76  77  78  79  81  82  85\n",
            "  86  87  88  89  90  91  93  94  95  96  97  98  99 100 101 102 103 104\n",
            " 105 107 109 110 111 113 114 115 117 118 120 121 122 124 125 126 128 129\n",
            " 130 131 134 136 138 139 140 142 143 145 148 149]\n",
            "test_index = \n",
            " [  2  10  18  27  43  50  56  59  60  61  69  80  83  84  92 106 108 112\n",
            " 116 119 123 127 132 133 135 137 141 144 146 147] \n",
            "\n",
            "train_index = \n",
            " [  0   1   2   4   5   7   8   9  10  14  16  17  18  19  21  22  23  24\n",
            "  25  26  27  28  29  31  32  33  34  35  36  37  38  39  40  41  42  43\n",
            "  44  45  47  49  50  51  53  54  55  56  57  58  59  60  61  62  63  65\n",
            "  66  67  69  70  71  72  73  74  75  76  77  78  79  80  81  82  83  84\n",
            "  86  87  88  90  92  93  97  99 100 103 105 106 107 108 112 113 114 115\n",
            " 116 117 118 119 121 122 123 124 126 127 129 130 131 132 133 134 135 136\n",
            " 137 138 139 140 141 142 143 144 145 146 147 148]\n",
            "test_index = \n",
            " [  3   6  11  12  13  15  20  30  46  48  52  64  68  85  89  91  94  95\n",
            "  96  98 101 102 104 109 110 111 120 125 128 149] \n",
            "\n",
            "train_index = \n",
            " [  2   3   6   7   8   9  10  11  12  13  14  15  16  18  19  20  21  22\n",
            "  24  25  26  27  29  30  33  36  37  39  40  43  44  45  46  47  48  49\n",
            "  50  51  52  54  56  58  59  60  61  62  63  64  66  67  68  69  70  71\n",
            "  72  73  76  77  78  79  80  81  82  83  84  85  86  87  88  89  90  91\n",
            "  92  93  94  95  96  97  98  99 100 101 102 103 104 106 107 108 109 110\n",
            " 111 112 114 115 116 117 119 120 121 122 123 125 126 127 128 130 132 133\n",
            " 134 135 136 137 140 141 142 144 145 146 147 149]\n",
            "test_index = \n",
            " [  0   1   4   5  17  23  28  31  32  34  35  38  41  42  53  55  57  65\n",
            "  74  75 105 113 118 124 129 131 138 139 143 148] \n",
            "\n",
            "train_index = \n",
            " [  0   1   2   3   4   5   6   7   8  10  11  12  13  15  16  17  18  20\n",
            "  22  23  24  26  27  28  30  31  32  33  34  35  37  38  40  41  42  43\n",
            "  44  45  46  48  50  51  52  53  54  55  56  57  59  60  61  62  63  64\n",
            "  65  66  68  69  71  73  74  75  76  78  80  83  84  85  86  89  90  91\n",
            "  92  93  94  95  96  97  98 100 101 102 104 105 106 107 108 109 110 111\n",
            " 112 113 114 116 118 119 120 121 123 124 125 126 127 128 129 131 132 133\n",
            " 134 135 137 138 139 141 143 144 146 147 148 149]\n",
            "test_index = \n",
            " [  9  14  19  21  25  29  36  39  47  49  58  67  70  72  77  79  81  82\n",
            "  87  88  99 103 115 117 122 130 136 140 142 145] \n",
            "\n"
          ]
        }
      ],
      "source": [
        "from sklearn.model_selection import KFold\n",
        "\n",
        "kf = KFold(n_splits=5, random_state=0, shuffle=True)\n",
        "for train_index, test_index in kf.split(data):\n",
        "    print('train_index = \\n', train_index)\n",
        "    print('test_index = \\n', test_index, '\\n')"
      ]
    },
    {
      "cell_type": "markdown",
      "id": "ae3d98b4",
      "metadata": {
        "id": "ae3d98b4"
      },
      "source": [
        "## 完整的KFold示範"
      ]
    },
    {
      "cell_type": "code",
      "execution_count": null,
      "id": "82d897f3",
      "metadata": {
        "id": "82d897f3",
        "outputId": "62e29223-48cf-4018-aeaf-597e57572300"
      },
      "outputs": [
        {
          "name": "stdout",
          "output_type": "stream",
          "text": [
            "The train accuracy is: [0.95, 0.9916666666666667, 0.9666666666666667, 0.9666666666666667, 0.9833333333333333]\n",
            "The test accuracy is: [0.9666666666666667, 0.9, 1.0, 1.0, 0.9333333333333333]\n"
          ]
        },
        {
          "data": {
            "text/plain": [
              "np.float64(0.9716666666666667)"
            ]
          },
          "execution_count": 15,
          "metadata": {},
          "output_type": "execute_result"
        }
      ],
      "source": [
        "from sklearn.model_selection import KFold\n",
        "\n",
        "kf = KFold(n_splits=5, random_state=0, shuffle=True)\n",
        "\n",
        "train_score = []\n",
        "test_score = []\n",
        "\n",
        "for train_index, test_index in kf.split(data):\n",
        "    train_x = data[input_field].iloc[train_index]\n",
        "    train_y = data[output_field].iloc[train_index]\n",
        "    test_x = data[input_field].iloc[test_index]\n",
        "    test_y = data[output_field].iloc[test_index]\n",
        "\n",
        "    model.fit(train_x, train_y)\n",
        "\n",
        "    pred_train = model.predict(train_x)\n",
        "    pred_test = model.predict(test_x)\n",
        "\n",
        "    train_score.append(accuracy_score(train_y,pred_train))\n",
        "    test_score.append(accuracy_score(test_y,pred_test))\n",
        "\n",
        "print('The train accuracy is:', train_score)\n",
        "print('The test accuracy is:', test_score)\n",
        "\n",
        "np.mean(train_score)\n"
      ]
    },
    {
      "cell_type": "markdown",
      "id": "b5b284ae",
      "metadata": {
        "id": "b5b284ae"
      },
      "source": [
        "# RepeatedKFold"
      ]
    },
    {
      "cell_type": "code",
      "execution_count": null,
      "id": "6b112e28",
      "metadata": {
        "id": "6b112e28"
      },
      "outputs": [],
      "source": [
        "x = np.zeros(10)"
      ]
    },
    {
      "cell_type": "code",
      "execution_count": null,
      "id": "4a354ab2",
      "metadata": {
        "id": "4a354ab2",
        "outputId": "e7a189a2-432b-41cd-d47a-0c71c2e8f177"
      },
      "outputs": [
        {
          "name": "stdout",
          "output_type": "stream",
          "text": [
            "train_index [0 4 5 6 9]\n",
            "test_index [1 2 3 7 8]\n",
            "\n",
            "train_index [1 2 3 7 8]\n",
            "test_index [0 4 5 6 9]\n",
            "\n",
            "train_index [0 1 4 8 9]\n",
            "test_index [2 3 5 6 7]\n",
            "\n",
            "train_index [2 3 5 6 7]\n",
            "test_index [0 1 4 8 9]\n",
            "\n",
            "train_index [0 3 4 5 8]\n",
            "test_index [1 2 6 7 9]\n",
            "\n",
            "train_index [1 2 6 7 9]\n",
            "test_index [0 3 4 5 8]\n",
            "\n"
          ]
        }
      ],
      "source": [
        "from sklearn.model_selection import RepeatedKFold\n",
        "\n",
        "rkf = RepeatedKFold(n_splits=2, n_repeats=3, random_state=2652124)\n",
        "for train_index, test_index in rkf.split(x):\n",
        "    print('train_index',train_index)\n",
        "    print('test_index',test_index)\n",
        "    print()"
      ]
    },
    {
      "cell_type": "markdown",
      "id": "731dec44",
      "metadata": {
        "id": "731dec44"
      },
      "source": [
        "# RepeatedStratifiedKFold\n",
        "驗證用資料的各類別比率會跟原始資料一樣"
      ]
    },
    {
      "cell_type": "code",
      "execution_count": null,
      "id": "0ea71156",
      "metadata": {
        "id": "0ea71156",
        "outputId": "ceee7fdf-2334-4b69-b4bb-cdb453988655"
      },
      "outputs": [
        {
          "name": "stdout",
          "output_type": "stream",
          "text": [
            "test_index [ 0  2  5  7  9 10 11]\n",
            "test [0 1 1 2 2 2 2]\n",
            "\n",
            "test_index [ 1  3  4  6  8 12 13]\n",
            "test [0 1 1 2 2 2 2]\n",
            "\n",
            "test_index [ 1  4  5  6  9 10 11]\n",
            "test [0 1 1 2 2 2 2]\n",
            "\n",
            "test_index [ 0  2  3  7  8 12 13]\n",
            "test [0 1 1 2 2 2 2]\n",
            "\n",
            "test_index [ 0  3  5  6  7 10 13]\n",
            "test [0 1 1 2 2 2 2]\n",
            "\n",
            "test_index [ 1  2  4  8  9 11 12]\n",
            "test [0 1 1 2 2 2 2]\n",
            "\n"
          ]
        }
      ],
      "source": [
        "from sklearn.model_selection import RepeatedStratifiedKFold\n",
        "\n",
        "x = np.arange(0,14)\n",
        "y = np.array([0,0,1,1,1,1,2,2,2,2,2,2,2,2])\n",
        "rkf = RepeatedStratifiedKFold(n_splits=2, n_repeats=3, random_state=2652124)\n",
        "for train_index, test_index in rkf.split(x,y):\n",
        "    print('test_index',test_index)\n",
        "    print('test',y[test_index])\n",
        "    print()"
      ]
    },
    {
      "cell_type": "markdown",
      "id": "9b3b515e",
      "metadata": {
        "id": "9b3b515e"
      },
      "source": [
        "# LeaveOneOut"
      ]
    },
    {
      "cell_type": "code",
      "execution_count": null,
      "id": "67eb779c",
      "metadata": {
        "id": "67eb779c",
        "outputId": "f87c8c23-583c-4a70-ffef-af03c023039d"
      },
      "outputs": [
        {
          "name": "stdout",
          "output_type": "stream",
          "text": [
            "train_index [1 2 3 4]\n",
            "test_index [0]\n",
            "\n",
            "train_index [0 2 3 4]\n",
            "test_index [1]\n",
            "\n",
            "train_index [0 1 3 4]\n",
            "test_index [2]\n",
            "\n",
            "train_index [0 1 2 4]\n",
            "test_index [3]\n",
            "\n",
            "train_index [0 1 2 3]\n",
            "test_index [4]\n",
            "\n"
          ]
        }
      ],
      "source": [
        "x = np.arange(0,5)\n",
        "from sklearn.model_selection import LeaveOneOut\n",
        "rkf = LeaveOneOut()\n",
        "for train_index, test_index in rkf.split(x):\n",
        "    print('train_index',train_index)\n",
        "    print('test_index',test_index)\n",
        "    print()"
      ]
    },
    {
      "cell_type": "markdown",
      "id": "bbf42224",
      "metadata": {
        "id": "bbf42224"
      },
      "source": [
        "# LeavePOut\n",
        "Provides train/test indices to split data in train/test sets. This results in testing on all distinct samples of size p, while the remaining n - p samples form the training set in each iteration."
      ]
    },
    {
      "cell_type": "code",
      "execution_count": null,
      "id": "a38582d5",
      "metadata": {
        "id": "a38582d5",
        "outputId": "b184311f-82eb-42bb-d82b-8a9b033179af"
      },
      "outputs": [
        {
          "name": "stdout",
          "output_type": "stream",
          "text": [
            "train_index [2 3 4]\n",
            "test_index [0 1]\n",
            "\n",
            "train_index [1 3 4]\n",
            "test_index [0 2]\n",
            "\n",
            "train_index [1 2 4]\n",
            "test_index [0 3]\n",
            "\n",
            "train_index [1 2 3]\n",
            "test_index [0 4]\n",
            "\n",
            "train_index [0 3 4]\n",
            "test_index [1 2]\n",
            "\n",
            "train_index [0 2 4]\n",
            "test_index [1 3]\n",
            "\n",
            "train_index [0 2 3]\n",
            "test_index [1 4]\n",
            "\n",
            "train_index [0 1 4]\n",
            "test_index [2 3]\n",
            "\n",
            "train_index [0 1 3]\n",
            "test_index [2 4]\n",
            "\n",
            "train_index [0 1 2]\n",
            "test_index [3 4]\n",
            "\n"
          ]
        }
      ],
      "source": [
        "x = np.arange(0,5)\n",
        "from sklearn.model_selection import LeavePOut\n",
        "rkf = LeavePOut(2)\n",
        "for train_index, test_index in rkf.split(x):\n",
        "    print('train_index',train_index)\n",
        "    print('test_index',test_index)\n",
        "    print()"
      ]
    },
    {
      "cell_type": "markdown",
      "id": "d4ab7e05",
      "metadata": {
        "id": "d4ab7e05"
      },
      "source": [
        "# ShuffleSplit\n",
        "完全隨機的切出n次一定比率的資料出來，可以看成連續跑n次的train_test_split"
      ]
    },
    {
      "cell_type": "code",
      "execution_count": null,
      "id": "7677ca9b",
      "metadata": {
        "id": "7677ca9b",
        "outputId": "e4777385-a6e2-49c5-85d1-b2f8c39f3c41"
      },
      "outputs": [
        {
          "name": "stdout",
          "output_type": "stream",
          "text": [
            "train_index [9 1 6 7 3 0 5]\n",
            "test_index [2 8 4]\n",
            "\n",
            "train_index [2 9 8 0 6 7 4]\n",
            "test_index [3 5 1]\n",
            "\n",
            "train_index [4 5 1 0 6 9 7]\n",
            "test_index [2 3 8]\n",
            "\n"
          ]
        }
      ],
      "source": [
        "x = np.arange(0,10)\n",
        "from sklearn.model_selection import ShuffleSplit\n",
        "rkf = ShuffleSplit(n_splits=3, test_size=0.3, random_state=0)\n",
        "for train_index, test_index in rkf.split(x):\n",
        "    print('train_index',train_index)\n",
        "    print('test_index',test_index)\n",
        "    print()"
      ]
    },
    {
      "cell_type": "markdown",
      "id": "ca60c43d",
      "metadata": {
        "id": "ca60c43d"
      },
      "source": [
        "# TimeSeriesSplit"
      ]
    },
    {
      "cell_type": "code",
      "execution_count": null,
      "id": "81ff2849",
      "metadata": {
        "id": "81ff2849",
        "outputId": "3162aec9-5bdb-470a-cbd1-50461741932a"
      },
      "outputs": [
        {
          "name": "stdout",
          "output_type": "stream",
          "text": [
            "train_index [0 1 2 3]\n",
            "test_index [4 5]\n",
            "\n",
            "train_index [0 1 2 3 4 5]\n",
            "test_index [6 7]\n",
            "\n",
            "train_index [0 1 2 3 4 5 6 7]\n",
            "test_index [8 9]\n",
            "\n"
          ]
        }
      ],
      "source": [
        "x = np.arange(0,10)\n",
        "from sklearn.model_selection import TimeSeriesSplit\n",
        "rkf = TimeSeriesSplit(n_splits=3, test_size=2)\n",
        "for train_index, test_index in rkf.split(x):\n",
        "    print('train_index',train_index)\n",
        "    print('test_index',test_index)\n",
        "    print()"
      ]
    },
    {
      "cell_type": "markdown",
      "id": "066f705b",
      "metadata": {
        "id": "066f705b"
      },
      "source": [
        "# GroupKFold"
      ]
    },
    {
      "cell_type": "code",
      "execution_count": null,
      "id": "7c7d22b9",
      "metadata": {
        "id": "7c7d22b9",
        "outputId": "6ff05832-8712-42f3-e6d9-f0efca58969a"
      },
      "outputs": [
        {
          "name": "stdout",
          "output_type": "stream",
          "text": [
            "train_index [0 1 4 5 6 7]\n",
            "test_index [2 3 8 9]\n",
            "\n",
            "train_index [2 3 4 5 8 9]\n",
            "test_index [0 1 6 7]\n",
            "\n",
            "train_index [0 1 2 3 6 7 8 9]\n",
            "test_index [4 5]\n",
            "\n"
          ]
        }
      ],
      "source": [
        "x = np.arange(0,10)\n",
        "g = [0,0,1,1,2,2,3,3,4,4]\n",
        "from sklearn.model_selection import GroupKFold\n",
        "rkf = GroupKFold(n_splits=3)\n",
        "for train_index, test_index in rkf.split(x,groups=g):\n",
        "    print('train_index',train_index)\n",
        "    print('test_index',test_index)\n",
        "    print()"
      ]
    },
    {
      "cell_type": "code",
      "execution_count": null,
      "id": "6f3b152c",
      "metadata": {
        "id": "6f3b152c"
      },
      "outputs": [],
      "source": []
    },
    {
      "cell_type": "code",
      "execution_count": null,
      "id": "b4576437",
      "metadata": {
        "id": "b4576437"
      },
      "outputs": [],
      "source": []
    },
    {
      "cell_type": "code",
      "execution_count": null,
      "id": "25733f21",
      "metadata": {
        "id": "25733f21"
      },
      "outputs": [],
      "source": []
    },
    {
      "cell_type": "code",
      "execution_count": null,
      "id": "54757d93",
      "metadata": {
        "id": "54757d93"
      },
      "outputs": [],
      "source": []
    }
  ],
  "metadata": {
    "kernelspec": {
      "display_name": "Python 3 (ipykernel)",
      "language": "python",
      "name": "python3"
    },
    "language_info": {
      "codemirror_mode": {
        "name": "ipython",
        "version": 3
      },
      "file_extension": ".py",
      "mimetype": "text/x-python",
      "name": "python",
      "nbconvert_exporter": "python",
      "pygments_lexer": "ipython3",
      "version": "3.12.3"
    },
    "colab": {
      "provenance": [],
      "include_colab_link": true
    }
  },
  "nbformat": 4,
  "nbformat_minor": 5
}