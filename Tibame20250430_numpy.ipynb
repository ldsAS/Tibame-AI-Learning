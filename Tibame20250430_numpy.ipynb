{
  "nbformat": 4,
  "nbformat_minor": 0,
  "metadata": {
    "colab": {
      "provenance": [],
      "authorship_tag": "ABX9TyOuALKuLS9qenhgUqjLOumE",
      "include_colab_link": true
    },
    "kernelspec": {
      "name": "python3",
      "display_name": "Python 3"
    },
    "language_info": {
      "name": "python"
    }
  },
  "cells": [
    {
      "cell_type": "markdown",
      "metadata": {
        "id": "view-in-github",
        "colab_type": "text"
      },
      "source": [
        "<a href=\"https://colab.research.google.com/github/ldsAS/Tibame-AI-Learning/blob/main/Tibame20250430_numpy.ipynb\" target=\"_parent\"><img src=\"https://colab.research.google.com/assets/colab-badge.svg\" alt=\"Open In Colab\"/></a>"
      ]
    },
    {
      "cell_type": "markdown",
      "source": [
        "```\n",
        "Numpy是用c語言寫的，運行速度會較只靠python跑還快很多\n",
        "```"
      ],
      "metadata": {
        "id": "6l1G68iu3oRm"
      }
    },
    {
      "cell_type": "markdown",
      "source": [
        "```\n",
        "Markdown\n",
        "```\n",
        "\n",
        "#標題1\n",
        "##標題2\n",
        "###標題3\n",
        "\n",
        "- 列表1\n",
        "- 列表2"
      ],
      "metadata": {
        "id": "xCQdVn0p4HZ_"
      }
    },
    {
      "cell_type": "code",
      "execution_count": 2,
      "metadata": {
        "colab": {
          "base_uri": "https://localhost:8080/"
        },
        "id": "GOPK_mKLiBJd",
        "outputId": "d40eaae8-29df-48e5-a5e9-7506bdbaf1e0"
      },
      "outputs": [
        {
          "output_type": "execute_result",
          "data": {
            "text/plain": [
              "array([1. , 2. , 3.2, 4. , 5. ])"
            ]
          },
          "metadata": {},
          "execution_count": 2
        }
      ],
      "source": [
        "import numpy as np\n",
        "\n",
        "x = [1.0, 2, 3.2, 4, 5]\n",
        "nx2 = np.array(x)\n",
        "nx2"
      ]
    },
    {
      "cell_type": "code",
      "source": [
        "# 練習題\n",
        "# 請建立一個 2~12 之間全部偶數的陣列\n",
        "# x = [2, 4, 6, 8, 10, 12]\n"
      ],
      "metadata": {
        "id": "WuSjesJciOqW"
      },
      "execution_count": null,
      "outputs": []
    },
    {
      "cell_type": "code",
      "source": [
        "# 產生固定數值的多維陣列"
      ],
      "metadata": {
        "id": "KkkNBtjxqyuN"
      },
      "execution_count": null,
      "outputs": []
    },
    {
      "cell_type": "code",
      "source": [
        "# 練習題\n",
        "# 請產生一個 5 * 3 全部值為 1 的陣列"
      ],
      "metadata": {
        "id": "gChhoZKtq3yR"
      },
      "execution_count": null,
      "outputs": []
    }
  ]
}