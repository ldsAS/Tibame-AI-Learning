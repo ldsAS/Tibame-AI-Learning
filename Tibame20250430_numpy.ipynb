{
  "cells": [
    {
      "cell_type": "markdown",
      "metadata": {
        "id": "view-in-github",
        "colab_type": "text"
      },
      "source": [
        "<a href=\"https://colab.research.google.com/github/ldsAS/Tibame-AI-Learning/blob/main/Tibame20250430_numpy.ipynb\" target=\"_parent\"><img src=\"https://colab.research.google.com/assets/colab-badge.svg\" alt=\"Open In Colab\"/></a>"
      ]
    },
    {
      "cell_type": "markdown",
      "metadata": {
        "id": "b9O4iWy5uggu"
      },
      "source": [
        "# Numpy\n",
        "\n",
        "* 參考 Python DataScience Handbook Chapter 2\n",
        "* NumPy 是一個用於數值計算的 Python 套件，提供了多種功能，特別適用於處理大規模的數據集合和矩陣運算。在科學計算、機器學習、數據分析等領域有著廣泛的應用。\n",
        "* https://numpy.org/\n",
        "* https://numpy.org/doc/stable/user/index.html"
      ]
    },
    {
      "cell_type": "markdown",
      "source": [
        "```\n",
        "Numpy的核心算法是用c語言寫的，運行速度會較只靠python跑還快很多\n",
        "```"
      ],
      "metadata": {
        "id": "Z_SBuhcC1RQO"
      }
    },
    {
      "cell_type": "markdown",
      "source": [
        "```\n",
        "補充：Markdown\n",
        "```\n",
        "#標題1\n",
        "##標題2\n",
        "###標題3\n",
        "\n",
        "- 列表1\n",
        "- 列表2"
      ],
      "metadata": {
        "id": "mH5N0zje1Vu5"
      }
    },
    {
      "cell_type": "code",
      "execution_count": null,
      "metadata": {
        "id": "cld7-kmluggv"
      },
      "outputs": [],
      "source": [
        "# 安裝套件\n",
        "! pip install numpy"
      ]
    },
    {
      "cell_type": "code",
      "execution_count": null,
      "metadata": {
        "id": "N4qLFRduuggw"
      },
      "outputs": [],
      "source": [
        "# 宣告並載入套件\n",
        "import numpy as np\n",
        "import random"
      ]
    },
    {
      "cell_type": "markdown",
      "metadata": {
        "id": "gD3AKICEuggw"
      },
      "source": [
        "# Numpy的速度"
      ]
    },
    {
      "cell_type": "code",
      "execution_count": null,
      "metadata": {
        "id": "7YezTHXkuggw"
      },
      "outputs": [],
      "source": [
        "# 產生大量的測試用資料\n",
        "x = random.sample(range(0, 1000000), 1000000)"
      ]
    },
    {
      "cell_type": "markdown",
      "metadata": {
        "id": "3KUPDcmIuggx"
      },
      "source": [
        "### 使用Python原生程式進行大量計算所需時間"
      ]
    },
    {
      "cell_type": "code",
      "execution_count": null,
      "metadata": {
        "id": "pyXel_-Uuggx"
      },
      "outputs": [],
      "source": [
        "import statistics"
      ]
    },
    {
      "cell_type": "code",
      "execution_count": null,
      "metadata": {
        "id": "BBb20upSuggx"
      },
      "outputs": [],
      "source": [
        "%%time\n",
        "statistics.mean(x)"
      ]
    },
    {
      "cell_type": "markdown",
      "metadata": {
        "id": "VdKCKxxyuggx"
      },
      "source": [
        "### 使用Numpy進行同樣計算所需的時間"
      ]
    },
    {
      "cell_type": "code",
      "execution_count": null,
      "metadata": {
        "id": "6BWt6tqruggx"
      },
      "outputs": [],
      "source": [
        "nx = np.array(x)"
      ]
    },
    {
      "cell_type": "code",
      "execution_count": null,
      "metadata": {
        "id": "6aQSUwffuggx"
      },
      "outputs": [],
      "source": [
        "%%time\n",
        "nx.mean()"
      ]
    },
    {
      "cell_type": "markdown",
      "metadata": {
        "id": "UD2OyXpruggy"
      },
      "source": [
        "# 建立Numpy Array"
      ]
    },
    {
      "cell_type": "code",
      "execution_count": null,
      "metadata": {
        "id": "GDxzqqEcuggy"
      },
      "outputs": [],
      "source": [
        "# 整數的陣列\n",
        "nx1 = np.array([1,2,3,4,5])\n",
        "nx1"
      ]
    },
    {
      "cell_type": "code",
      "execution_count": null,
      "metadata": {
        "id": "tIC7D8cUuggy"
      },
      "outputs": [],
      "source": [
        "# 浮點數的陣列\n",
        "x = [1.0, 2, 3.2, 4, 5]\n",
        "nx2 = np.array(x)\n",
        "nx2"
      ]
    },
    {
      "cell_type": "code",
      "execution_count": null,
      "metadata": {
        "id": "T_37XSwiuggy"
      },
      "outputs": [],
      "source": [
        "# 練習題\n",
        "# 請建立一個 2~12之間全部偶數的陣列\n"
      ]
    },
    {
      "cell_type": "markdown",
      "metadata": {
        "id": "-tRd7_iFuggy"
      },
      "source": [
        "Python List 中每個元素都可以是不同的資料型態"
      ]
    },
    {
      "cell_type": "code",
      "execution_count": null,
      "metadata": {
        "id": "EADwsom0uggy"
      },
      "outputs": [],
      "source": [
        "type(x[0])"
      ]
    },
    {
      "cell_type": "code",
      "execution_count": null,
      "metadata": {
        "id": "LzaCAMDxuggy"
      },
      "outputs": [],
      "source": [
        "type(x[1])"
      ]
    },
    {
      "cell_type": "markdown",
      "metadata": {
        "id": "JysX7i71uggz"
      },
      "source": [
        "但是Numpy底層是以原生的C語言array來儲存資料，所以必須同樣的資料型態"
      ]
    },
    {
      "cell_type": "code",
      "execution_count": null,
      "metadata": {
        "id": "D_l9Oivmuggz"
      },
      "outputs": [],
      "source": [
        "nx1.dtype"
      ]
    },
    {
      "cell_type": "code",
      "execution_count": null,
      "metadata": {
        "id": "DKKb6DOOuggz"
      },
      "outputs": [],
      "source": [
        "nx2.dtype"
      ]
    },
    {
      "cell_type": "markdown",
      "metadata": {
        "id": "MxWywYBRuggz"
      },
      "source": [
        "### 單一變數時 C語言與Python的儲存差異\n",
        "![%E5%9C%96%E7%89%87.png](attachment:%E5%9C%96%E7%89%87.png)\n",
        "圖片來源 Python Data Science Handbook\n",
        "\n",
        "\n"
      ]
    },
    {
      "cell_type": "markdown",
      "metadata": {
        "id": "5pFzdnsWuggz"
      },
      "source": [
        "### 陣列資料下 Numpy 與 Python的儲存差異\n",
        "![%E5%9C%96%E7%89%87.png](attachment:%E5%9C%96%E7%89%87.png)\n",
        "圖片來源 Python Data Science Handbook\n",
        "\n",
        "\n"
      ]
    },
    {
      "cell_type": "code",
      "execution_count": null,
      "metadata": {
        "id": "rfwcfo9puggz"
      },
      "outputs": [],
      "source": [
        "# 指定資料型態\n",
        "x = [1,2,3,4,5]\n",
        "nx = np.array(x,dtype='float64')\n",
        "nx"
      ]
    },
    {
      "cell_type": "code",
      "execution_count": null,
      "metadata": {
        "id": "o9m66wXwuggz"
      },
      "outputs": [],
      "source": [
        "# 練習題\n",
        "# 請修改下面的程式碼，讓nx陣列裡的數值都是整數\n",
        "x = [1.2, 3.5, 4.2, 2.1]\n",
        "nx = np.array(x)\n",
        "nx"
      ]
    },
    {
      "cell_type": "markdown",
      "metadata": {
        "id": "yc-mtj9Cugg0"
      },
      "source": [
        "### Numpy的可用數值型態\n",
        "資料來源 Python Data Science Handbook\n",
        "\n",
        "| Data type\t    | Description |\n",
        "|---------------|-------------|\n",
        "| ``bool_``     | Boolean (True or False) stored as a byte |\n",
        "| ``int_``      | Default integer type (same as C ``long``; normally either ``int64`` or ``int32``)|\n",
        "| ``intc``      | Identical to C ``int`` (normally ``int32`` or ``int64``)|\n",
        "| ``intp``      | Integer used for indexing (same as C ``ssize_t``; normally either ``int32`` or ``int64``)|\n",
        "| ``int8``      | Byte (-128 to 127)|\n",
        "| ``int16``     | Integer (-32768 to 32767)|\n",
        "| ``int32``     | Integer (-2147483648 to 2147483647)|\n",
        "| ``int64``     | Integer (-9223372036854775808 to 9223372036854775807)|\n",
        "| ``uint8``     | Unsigned integer (0 to 255)|\n",
        "| ``uint16``    | Unsigned integer (0 to 65535)|\n",
        "| ``uint32``    | Unsigned integer (0 to 4294967295)|\n",
        "| ``uint64``    | Unsigned integer (0 to 18446744073709551615)|\n",
        "| ``float_``    | Shorthand for ``float64``.|\n",
        "| ``float16``   | Half precision float: sign bit, 5 bits exponent, 10 bits mantissa|\n",
        "| ``float32``   | Single precision float: sign bit, 8 bits exponent, 23 bits mantissa|\n",
        "| ``float64``   | Double precision float: sign bit, 11 bits exponent, 52 bits mantissa|\n",
        "| ``complex_``  | Shorthand for ``complex128``.|\n",
        "| ``complex64`` | Complex number, represented by two 32-bit floats|\n",
        "| ``complex128``| Complex number, represented by two 64-bit floats|"
      ]
    },
    {
      "cell_type": "code",
      "execution_count": null,
      "metadata": {
        "id": "mLUpa5TJugg0"
      },
      "outputs": [],
      "source": [
        "# 二維陣列\n",
        "x = [[1,2,3], [4,5,6], [7,8,9]]\n",
        "nx = np.array(x)\n",
        "nx"
      ]
    },
    {
      "cell_type": "code",
      "execution_count": null,
      "metadata": {
        "id": "JtV9-lAiugg0"
      },
      "outputs": [],
      "source": [
        "# 產生固定數值的陣列\n",
        "np.zeros(5)"
      ]
    },
    {
      "cell_type": "code",
      "execution_count": null,
      "metadata": {
        "id": "I8Yfbw5jugg0"
      },
      "outputs": [],
      "source": [
        "np.ones(5)"
      ]
    },
    {
      "cell_type": "code",
      "execution_count": null,
      "metadata": {
        "id": "9YdVFt9Xugg0"
      },
      "outputs": [],
      "source": [
        "np.full(5, 3.1415)"
      ]
    },
    {
      "cell_type": "code",
      "execution_count": null,
      "metadata": {
        "id": "kURYCSbEugg0"
      },
      "outputs": [],
      "source": [
        "# 產生固定數值得多維陣列\n",
        "np.full((3,4), 2.17)"
      ]
    },
    {
      "cell_type": "code",
      "execution_count": null,
      "metadata": {
        "id": "QAb1Jwekugg1"
      },
      "outputs": [],
      "source": [
        "# 練習題\n",
        "# 請產生一個 5 x 3全部值為 1 的陣列"
      ]
    },
    {
      "cell_type": "code",
      "execution_count": null,
      "metadata": {
        "id": "60qfH7xwugg1"
      },
      "outputs": [],
      "source": [
        "#產生數列\n",
        "np.arange(0, 30, 3)"
      ]
    },
    {
      "cell_type": "code",
      "execution_count": null,
      "metadata": {
        "id": "gozbVOLEugg1"
      },
      "outputs": [],
      "source": [
        "#產生均分的數列\n",
        "np.linspace(0, 1, 5)"
      ]
    },
    {
      "cell_type": "code",
      "execution_count": null,
      "metadata": {
        "id": "bTVszj_iugg1"
      },
      "outputs": [],
      "source": [
        "# 練習題\n",
        "# 請產生 [0, 10, 20, 30, ...., 90, 100] 的陣列"
      ]
    },
    {
      "cell_type": "code",
      "execution_count": null,
      "metadata": {
        "id": "cW5K7BObugg1"
      },
      "outputs": [],
      "source": [
        "#產生隨機數列\n",
        "np.random.random((3, 3))"
      ]
    },
    {
      "cell_type": "code",
      "execution_count": null,
      "metadata": {
        "id": "1jp9fFt2ugg1"
      },
      "outputs": [],
      "source": [
        "# 練習題\n",
        "# 請產生一個 4x5的陣列 裡面的值都隨機的介於 0.2 ~ 0.5 之間"
      ]
    },
    {
      "cell_type": "code",
      "execution_count": null,
      "metadata": {
        "id": "3hfoLylmugg2"
      },
      "outputs": [],
      "source": [
        "#產生符合高斯分布的隨機數列\n",
        "# 第一個參數 mean\n",
        "# 第二個參數 sd\n",
        "np.random.normal(0, 1, (3, 3))"
      ]
    },
    {
      "cell_type": "markdown",
      "metadata": {
        "id": "jSMY4VWiugg2"
      },
      "source": [
        "![%E5%9C%96%E7%89%87-4.png](attachment:%E5%9C%96%E7%89%87-4.png)"
      ]
    },
    {
      "cell_type": "code",
      "execution_count": null,
      "metadata": {
        "id": "waS088CXugg2"
      },
      "outputs": [],
      "source": [
        "# 練習題\n",
        "# 假設男性平均身高為 170公分，標準差為5公分\n",
        "# 請產生 7 個常態分佈下隨機的男性身高數值\n"
      ]
    },
    {
      "cell_type": "code",
      "execution_count": null,
      "metadata": {
        "id": "j_1VMuRvugg2"
      },
      "outputs": [],
      "source": [
        "# 產生指定範圍內的隨機整數數列\n",
        "np.random.randint(0, 10, (3, 3))"
      ]
    },
    {
      "cell_type": "code",
      "execution_count": null,
      "metadata": {
        "id": "nPg6avMxugg2"
      },
      "outputs": [],
      "source": [
        "# 練習題\n",
        "# 請模擬一個6面骰子擲出 5 次的結果"
      ]
    },
    {
      "cell_type": "code",
      "execution_count": null,
      "metadata": {
        "id": "vROxwOgNugg2"
      },
      "outputs": [],
      "source": [
        "np.eye(3)"
      ]
    },
    {
      "cell_type": "markdown",
      "metadata": {
        "id": "jbsGLO3fugg3"
      },
      "source": [
        "## Numpy數列屬性"
      ]
    },
    {
      "cell_type": "code",
      "execution_count": null,
      "metadata": {
        "id": "_sqKDnWBugg3"
      },
      "outputs": [],
      "source": [
        "nx = np.random.randint(10, size=(3, 4))\n",
        "nx"
      ]
    },
    {
      "cell_type": "code",
      "execution_count": null,
      "metadata": {
        "id": "V-_Ga4_wugg3"
      },
      "outputs": [],
      "source": [
        "nx.ndim #數列維度"
      ]
    },
    {
      "cell_type": "code",
      "execution_count": null,
      "metadata": {
        "id": "FZ3cY1gAugg3"
      },
      "outputs": [],
      "source": [
        "nx.shape"
      ]
    },
    {
      "cell_type": "code",
      "execution_count": null,
      "metadata": {
        "id": "uqObHdRTugg3"
      },
      "outputs": [],
      "source": [
        "nx.size"
      ]
    },
    {
      "cell_type": "code",
      "execution_count": null,
      "metadata": {
        "id": "Zq_x29R4ugg3"
      },
      "outputs": [],
      "source": [
        "nx.itemsize"
      ]
    },
    {
      "cell_type": "code",
      "execution_count": null,
      "metadata": {
        "id": "0FhLvJEtugg3"
      },
      "outputs": [],
      "source": [
        "nx.nbytes"
      ]
    },
    {
      "cell_type": "markdown",
      "metadata": {
        "id": "IIwz0Y1sugg3"
      },
      "source": [
        "## Numpy取值"
      ]
    },
    {
      "cell_type": "code",
      "execution_count": null,
      "metadata": {
        "id": "pTaNex0Dugg4"
      },
      "outputs": [],
      "source": [
        "x = np.random.randint(0, 10, (3, 4))\n",
        "x"
      ]
    },
    {
      "cell_type": "code",
      "execution_count": null,
      "metadata": {
        "id": "ctZAkG3nugg4"
      },
      "outputs": [],
      "source": [
        "x[0]"
      ]
    },
    {
      "cell_type": "code",
      "execution_count": null,
      "metadata": {
        "id": "tZmdu2vMugg4"
      },
      "outputs": [],
      "source": [
        "x[0,2]"
      ]
    },
    {
      "cell_type": "code",
      "execution_count": null,
      "metadata": {
        "id": "S69lhHVNugg4"
      },
      "outputs": [],
      "source": [
        "x[-1]"
      ]
    },
    {
      "cell_type": "code",
      "execution_count": null,
      "metadata": {
        "id": "ucY1MR-Hugg4"
      },
      "outputs": [],
      "source": [
        "x[1,1] = -4.5\n",
        "x"
      ]
    },
    {
      "cell_type": "code",
      "execution_count": null,
      "metadata": {
        "id": "Tz38o1v_ugg4"
      },
      "outputs": [],
      "source": [
        "x[1:3,2:4]"
      ]
    },
    {
      "cell_type": "code",
      "execution_count": null,
      "metadata": {
        "id": "Ty91vmxQugg4"
      },
      "outputs": [],
      "source": [
        "x[1:3,:]"
      ]
    },
    {
      "cell_type": "code",
      "execution_count": null,
      "metadata": {
        "id": "jZ6VvRcvugg4"
      },
      "outputs": [],
      "source": [
        "# 練習題\n",
        "# xt 為全班這次的考試成績，請取出前三名最高的成績\n",
        "# 排序可以使用 np.sort(xt)\n",
        "xt = np.random.randint(0, 100, 10)\n",
        "print(xt)"
      ]
    },
    {
      "cell_type": "markdown",
      "metadata": {
        "id": "9_GINZ_4ugg5"
      },
      "source": [
        "### 修改數列切片內容會影響到原本的數列"
      ]
    },
    {
      "cell_type": "code",
      "execution_count": null,
      "metadata": {
        "id": "zr-qwHR8ugg5"
      },
      "outputs": [],
      "source": [
        "y = x[1:3,2:4]\n",
        "y"
      ]
    },
    {
      "cell_type": "code",
      "execution_count": null,
      "metadata": {
        "id": "uD3cJgEwugg5"
      },
      "outputs": [],
      "source": [
        "# 修改切片出來的值\n",
        "y[0,0] = 3\n",
        "y"
      ]
    },
    {
      "cell_type": "code",
      "execution_count": null,
      "metadata": {
        "id": "wAEKWBuHugg5"
      },
      "outputs": [],
      "source": [
        "#原本的數列跟著改變\n",
        "x"
      ]
    },
    {
      "cell_type": "markdown",
      "metadata": {
        "id": "CYxqUSpkugg5"
      },
      "source": [
        "### 如果不想要引響原本的資料，可以用複製"
      ]
    },
    {
      "cell_type": "code",
      "execution_count": null,
      "metadata": {
        "id": "oEKYaZtIugg5"
      },
      "outputs": [],
      "source": [
        "y2 = y.copy()\n",
        "y2[0,0] = 7\n",
        "y2"
      ]
    },
    {
      "cell_type": "code",
      "execution_count": null,
      "metadata": {
        "id": "-TKUj_r1ugg5"
      },
      "outputs": [],
      "source": [
        "y"
      ]
    },
    {
      "cell_type": "markdown",
      "metadata": {
        "id": "0B_w-NQEugg5"
      },
      "source": [
        "### 改變數列形狀"
      ]
    },
    {
      "cell_type": "code",
      "execution_count": null,
      "metadata": {
        "id": "N0h2OVHougg5"
      },
      "outputs": [],
      "source": [
        "x = np.random.randint(0, 10, (3, 4))\n",
        "x"
      ]
    },
    {
      "cell_type": "code",
      "execution_count": null,
      "metadata": {
        "id": "y5kKKVhOugg6"
      },
      "outputs": [],
      "source": [
        "y = x.reshape(12)\n",
        "y"
      ]
    },
    {
      "cell_type": "code",
      "execution_count": null,
      "metadata": {
        "id": "Mknblllxugg6"
      },
      "outputs": [],
      "source": [
        "# 練習題\n",
        "# 請分別將x改變成 4x3 跟 2x6 的矩陣\n",
        "x = np.random.randint(0, 10, (3, 4))\n",
        "print(x)"
      ]
    },
    {
      "cell_type": "code",
      "execution_count": null,
      "metadata": {
        "id": "DiNSwGvgugg6"
      },
      "outputs": [],
      "source": [
        "# 就算修改的數列的形狀，還是一樣會影響原先的資料\n",
        "y[0] = -1\n",
        "y"
      ]
    },
    {
      "cell_type": "code",
      "execution_count": null,
      "metadata": {
        "id": "wF8BV7ugugg6"
      },
      "outputs": [],
      "source": [
        "x"
      ]
    },
    {
      "cell_type": "code",
      "execution_count": null,
      "metadata": {
        "id": "taHCsCN2ugg6"
      },
      "outputs": [],
      "source": [
        "x.reshape((2,3,2))"
      ]
    },
    {
      "cell_type": "code",
      "execution_count": null,
      "metadata": {
        "id": "nB6AsBUZugg6"
      },
      "outputs": [],
      "source": [
        "#修改後的數列大小必須一樣\n",
        "x.reshape((4,4))"
      ]
    },
    {
      "cell_type": "markdown",
      "metadata": {
        "id": "l9oKYDvGugg6"
      },
      "source": [
        "## 數列結合"
      ]
    },
    {
      "cell_type": "code",
      "execution_count": null,
      "metadata": {
        "id": "41lUbDKkugg6"
      },
      "outputs": [],
      "source": [
        "x1 = np.array([1,2,3])\n",
        "x2 = np.array([4,5,6])\n",
        "x3 = np.array([x1,x2])\n",
        "x3"
      ]
    },
    {
      "cell_type": "code",
      "execution_count": null,
      "metadata": {
        "id": "ZVROy6gYugg6"
      },
      "outputs": [],
      "source": [
        "x1 = np.array([1,2,3])\n",
        "x2 = np.array([4,5,6])\n",
        "x3 = np.concatenate([x1,x2])\n",
        "x3"
      ]
    },
    {
      "cell_type": "code",
      "execution_count": null,
      "metadata": {
        "id": "OQEZHWqNugg7"
      },
      "outputs": [],
      "source": [
        "# 修改concatenate後的數列\n",
        "x3[0] = -1\n",
        "x3"
      ]
    },
    {
      "cell_type": "code",
      "execution_count": null,
      "metadata": {
        "id": "f3Q6VDh5ugg7"
      },
      "outputs": [],
      "source": [
        "# 不會引響到原先的數列\n",
        "x1"
      ]
    },
    {
      "cell_type": "code",
      "execution_count": null,
      "metadata": {
        "id": "9GFR073bugg7"
      },
      "outputs": [],
      "source": [
        "# 練習題\n",
        "# 問題\n",
        "# 使用下面方法結合成的x3，如果修改值會影響到x1嗎？\n",
        "x1 = np.array([1,2,3])\n",
        "x2 = np.array([4,5,6])\n",
        "x3 = np.array([x1,x2])"
      ]
    },
    {
      "cell_type": "code",
      "execution_count": null,
      "metadata": {
        "id": "gmrqc8Txugg7"
      },
      "outputs": [],
      "source": [
        "# 多維數列的結合\n",
        "x1 = np.array([[1, 2, 3], [4, 5, 6]])\n",
        "x3 = np.concatenate([x1,x1])\n",
        "x3"
      ]
    },
    {
      "cell_type": "code",
      "execution_count": null,
      "metadata": {
        "id": "xkjUNWLOugg7"
      },
      "outputs": [],
      "source": [
        "# 改變結合的方向(軸、維度)\n",
        "x3 = np.concatenate([x1,x1], axis=1)\n",
        "x3"
      ]
    },
    {
      "cell_type": "code",
      "execution_count": null,
      "metadata": {
        "id": "nDynb-t_ugg7"
      },
      "outputs": [],
      "source": [
        "# 練習題\n",
        "# 請將x1跟x2結合成一個 2 x 2 x 7的矩陣\n",
        "x1 = np.random.randint(0,10,(2,2,3))\n",
        "print('x1 = ', x1)\n",
        "x2 = np.random.randint(0,10,(2,2,4))\n",
        "print('x1 = ', x2)\n"
      ]
    },
    {
      "cell_type": "code",
      "execution_count": null,
      "metadata": {
        "id": "I_x8UjO4ugg7"
      },
      "outputs": [],
      "source": [
        "# 陣列形狀不同時無法用concatenate來結合\n",
        "x1 = np.array([[1, 2, 3], [4, 5, 6]])\n",
        "x2 = np.array([7, 8, 9])\n",
        "print('x1 shape = ', x1.shape)\n",
        "print('x2 shape = ', x2.shape)\n",
        "x3 = np.concatenate([x1,x2])\n",
        "x3"
      ]
    },
    {
      "cell_type": "code",
      "execution_count": null,
      "metadata": {
        "id": "It6jWcN_ugg8"
      },
      "outputs": [],
      "source": [
        "# 練習題\n",
        "# 請問要如何把 x1 x2 結合成一個 3x3的矩陣？\n",
        "# 提示 可以使用 reshape()\n",
        "x1 = np.array([[1, 2, 3], [4, 5, 6]])\n",
        "x2 = np.array([7, 8, 9])\n",
        "print('x1 shape = ', x1.shape)\n",
        "print('x2 shape = ', x2.shape)\n"
      ]
    },
    {
      "cell_type": "code",
      "execution_count": null,
      "metadata": {
        "id": "gD8eBLhkugg8"
      },
      "outputs": [],
      "source": [
        "x3 = np.vstack([x1,x2])\n",
        "x3"
      ]
    },
    {
      "cell_type": "code",
      "execution_count": null,
      "metadata": {
        "id": "xbKAS85nugg8"
      },
      "outputs": [],
      "source": [
        "x1 = np.array([[1, 2, 3], [4, 5, 6]])\n",
        "x2 = np.array([[7], [8]])\n",
        "print('x1 shape = ', x1.shape)\n",
        "print('x2 shape = ', x2.shape)\n",
        "x3 = np.hstack([x1,x2])\n",
        "x3"
      ]
    },
    {
      "cell_type": "markdown",
      "metadata": {
        "id": "-NDasYPjugg8"
      },
      "source": [
        "## 數列分割"
      ]
    },
    {
      "cell_type": "code",
      "execution_count": null,
      "metadata": {
        "id": "wN31vJh1ugg8"
      },
      "outputs": [],
      "source": [
        "x = [1, 2, 3, 4, 5, 6, 7, 8, 9]\n",
        "x1, x2, x3 = np.split(x, [3, 7])\n",
        "print(x1, x2, x3)"
      ]
    },
    {
      "cell_type": "code",
      "execution_count": null,
      "metadata": {
        "id": "6_F87xPcugg8"
      },
      "outputs": [],
      "source": [
        "grid = np.arange(16).reshape((4, 4))\n",
        "grid"
      ]
    },
    {
      "cell_type": "code",
      "execution_count": null,
      "metadata": {
        "id": "m7gbM-ffugg8"
      },
      "outputs": [],
      "source": [
        "upper, lower = np.vsplit(grid, [2])\n",
        "print('upper = \\n',upper)\n",
        "print('lower = \\n',lower)"
      ]
    },
    {
      "cell_type": "code",
      "execution_count": null,
      "metadata": {
        "id": "X-m8vC_Rugg8"
      },
      "outputs": [],
      "source": [
        "left, right = np.hsplit(grid, [2])\n",
        "print('left = \\n', left)\n",
        "print('right = \\n', right)"
      ]
    },
    {
      "cell_type": "markdown",
      "metadata": {
        "id": "Blr911Peugg8"
      },
      "source": [
        "# Universal Functions"
      ]
    },
    {
      "cell_type": "markdown",
      "metadata": {
        "id": "nOe8YLYYugg9"
      },
      "source": [
        "### 速度差異\n",
        "即使使用Numpy來處理數據，根據程式寫法速度還是會有很大的差異"
      ]
    },
    {
      "cell_type": "code",
      "execution_count": null,
      "metadata": {
        "id": "B66vawA9ugg9"
      },
      "outputs": [],
      "source": [
        "x = np.random.random(10000)"
      ]
    },
    {
      "cell_type": "code",
      "execution_count": null,
      "metadata": {
        "id": "IjsTKc5zugg9"
      },
      "outputs": [],
      "source": [
        "%%time\n",
        "for i in range(100):\n",
        "    y = np.empty(len(x))\n",
        "    for n in range(len(x)):\n",
        "        y[n] = 1/x[n]"
      ]
    },
    {
      "cell_type": "code",
      "execution_count": null,
      "metadata": {
        "id": "hMi9BX1_ugg9"
      },
      "outputs": [],
      "source": [
        "%%time\n",
        "for i in range(100):\n",
        "    y = 1 / x\n"
      ]
    },
    {
      "cell_type": "markdown",
      "metadata": {
        "id": "Izdq_ZYSugg9"
      },
      "source": [
        "### 使用Numpy內建的函數來進行計算"
      ]
    },
    {
      "cell_type": "code",
      "execution_count": null,
      "metadata": {
        "id": "YHmcUS6_ugg9"
      },
      "outputs": [],
      "source": [
        "x = np.arange(4)\n",
        "print(\"x     =\", x)\n",
        "print(\"x + 5 =\", x + 5)\n",
        "print(\"x - 5 =\", x - 5)\n",
        "print(\"x * 2 =\", x * 2)\n",
        "print(\"x / 2 =\", x / 2)\n",
        "print(\"x // 2 =\", x // 2)  # floor division\n",
        "print(\"-x     = \", -x)\n",
        "print(\"x ** 2 = \", x ** 2)\n",
        "print(\"x % 2  = \", x % 2)"
      ]
    },
    {
      "cell_type": "code",
      "execution_count": null,
      "metadata": {
        "id": "OEzYis4Sugg9"
      },
      "outputs": [],
      "source": [
        "# 四則運算\n",
        "-(0.5*x + 1) ** 2"
      ]
    },
    {
      "cell_type": "code",
      "execution_count": null,
      "metadata": {
        "id": "9cZoI9BUugg9"
      },
      "outputs": [],
      "source": [
        "np.add(x, 2)"
      ]
    },
    {
      "cell_type": "markdown",
      "metadata": {
        "id": "xCdXbRLVugg-"
      },
      "source": [
        "| Operator\t    | Equivalent ufunc    | Description                           |\n",
        "|---------------|---------------------|---------------------------------------|\n",
        "|``+``          |``np.add``           |Addition (e.g., ``1 + 1 = 2``)         |\n",
        "|``-``          |``np.subtract``      |Subtraction (e.g., ``3 - 2 = 1``)      |\n",
        "|``-``          |``np.negative``      |Unary negation (e.g., ``-2``)          |\n",
        "|``*``          |``np.multiply``      |Multiplication (e.g., ``2 * 3 = 6``)   |\n",
        "|``/``          |``np.divide``        |Division (e.g., ``3 / 2 = 1.5``)       |\n",
        "|``//``         |``np.floor_divide``  |Floor division (e.g., ``3 // 2 = 1``)  |\n",
        "|``**``         |``np.power``         |Exponentiation (e.g., ``2 ** 3 = 8``)  |\n",
        "|``%``          |``np.mod``           |Modulus/remainder (e.g., ``9 % 4 = 1``)|"
      ]
    },
    {
      "cell_type": "code",
      "execution_count": null,
      "metadata": {
        "id": "N5kqxVDOugg-"
      },
      "outputs": [],
      "source": [
        "# 練習題\n",
        "# 請計算出 x 數列的平均值跟標準差\n",
        "# 提示 np.mean()\n",
        "x = np.random.normal(0,1,100)\n",
        "x"
      ]
    },
    {
      "cell_type": "markdown",
      "metadata": {
        "id": "LlDY2KYrugg-"
      },
      "source": [
        "### 可以直接使用Python的函數"
      ]
    },
    {
      "cell_type": "code",
      "execution_count": null,
      "metadata": {
        "id": "C1HGS0lougg-"
      },
      "outputs": [],
      "source": [
        "x = np.random.normal(0,1,10000)\n",
        "x"
      ]
    },
    {
      "cell_type": "code",
      "execution_count": null,
      "metadata": {
        "id": "2jVmcGM0ugg-"
      },
      "outputs": [],
      "source": [
        "# python原生函數\n",
        "%timeit abs(x)\n",
        "abs(x)"
      ]
    },
    {
      "cell_type": "code",
      "execution_count": null,
      "metadata": {
        "id": "UmYV0-nkugg-"
      },
      "outputs": [],
      "source": [
        "# numpy函數\n",
        "%timeit np.abs(x)\n",
        "np.abs(x)"
      ]
    },
    {
      "cell_type": "markdown",
      "metadata": {
        "id": "OoYejJ6lugg-"
      },
      "source": [
        "更多的UFunc API參考文件<BR>\n",
        "https://numpy.org/doc/stable/reference/ufuncs.html#available-ufuncs"
      ]
    },
    {
      "cell_type": "markdown",
      "metadata": {
        "id": "QCfPTFIXugg-"
      },
      "source": [
        "# 索引(index)操作"
      ]
    },
    {
      "cell_type": "code",
      "execution_count": null,
      "metadata": {
        "id": "qwN19gXWugg-"
      },
      "outputs": [],
      "source": [
        "x = np.arange(10)\n",
        "x"
      ]
    },
    {
      "cell_type": "code",
      "execution_count": null,
      "metadata": {
        "id": "bOQWvXgsugg-"
      },
      "outputs": [],
      "source": [
        "# 這種取值的方法不好\n",
        "[x[1],x[3],x[5]]"
      ]
    },
    {
      "cell_type": "code",
      "execution_count": null,
      "metadata": {
        "id": "yQdb08tMugg_"
      },
      "outputs": [],
      "source": [
        "# 正確的索引取值方法\n",
        "x[[1,3,5]]"
      ]
    },
    {
      "cell_type": "code",
      "execution_count": null,
      "metadata": {
        "id": "AuWwLVGougg_"
      },
      "outputs": [],
      "source": [
        "# 透過變數傳遞索引\n",
        "index = [1,3,5]\n",
        "x[index]"
      ]
    },
    {
      "cell_type": "code",
      "execution_count": null,
      "metadata": {
        "id": "wfpW5P1Kugg_"
      },
      "outputs": [],
      "source": [
        "# 練習題\n",
        "# 找出 x 之中的偶數\n",
        "x = np.random.randint(0,10,20)\n",
        "print(x)\n"
      ]
    },
    {
      "cell_type": "code",
      "execution_count": null,
      "metadata": {
        "id": "9esliPkhugg_"
      },
      "outputs": [],
      "source": [
        "# 練習題\n",
        "# 找出班上同學有達到及格分數的全部成績\n",
        "score = np.random.randint(0,100,50)\n",
        "print(score)"
      ]
    },
    {
      "cell_type": "markdown",
      "metadata": {
        "id": "S5Ch64cCugg_"
      },
      "source": [
        "### 利用索引來改變值"
      ]
    },
    {
      "cell_type": "code",
      "execution_count": null,
      "metadata": {
        "id": "ExRM3jfPugg_"
      },
      "outputs": [],
      "source": [
        "x = np.arange(10)\n",
        "i = np.array([2, 1, 8, 4])\n",
        "x[i] = 99\n",
        "x"
      ]
    },
    {
      "cell_type": "code",
      "execution_count": null,
      "metadata": {
        "id": "D64C4d8mugg_"
      },
      "outputs": [],
      "source": [
        "x[i] -= 10\n",
        "x"
      ]
    },
    {
      "cell_type": "code",
      "execution_count": null,
      "metadata": {
        "id": "ILU4N4VEugg_"
      },
      "outputs": [],
      "source": [
        "# 練習題\n",
        "# 找出班上同學有達到及格分數的全部成績\n",
        "# 請根據score的分數，在ispass上填上 '及格' 或是 '不及格'\n",
        "score = np.random.randint(0,100,50)\n",
        "print(score)\n",
        "ispass = np.full(50, '不知道')\n",
        "ispass"
      ]
    },
    {
      "cell_type": "markdown",
      "metadata": {
        "id": "RFNw-eBiugg_"
      },
      "source": [
        "### 如果索引值重複可能會有不可預期的問題"
      ]
    },
    {
      "cell_type": "code",
      "execution_count": null,
      "metadata": {
        "id": "Tf6sayS6ughA"
      },
      "outputs": [],
      "source": [
        "x = np.zeros(10)\n",
        "x"
      ]
    },
    {
      "cell_type": "code",
      "execution_count": null,
      "metadata": {
        "id": "B18cUHOrughA"
      },
      "outputs": [],
      "source": [
        "x[[0,0]] = [1,2]\n",
        "x"
      ]
    },
    {
      "cell_type": "code",
      "execution_count": null,
      "metadata": {
        "id": "9lHBd8dmughA"
      },
      "outputs": [],
      "source": [
        "x = np.zeros(10)\n",
        "i = [2, 3, 3, 4, 4, 4]\n",
        "x[i] += 1\n",
        "x"
      ]
    },
    {
      "cell_type": "code",
      "execution_count": null,
      "metadata": {
        "id": "6bIBS6h4ughA"
      },
      "outputs": [],
      "source": [
        "x = np.zeros(10)\n",
        "np.add.at(x, i, 1)\n",
        "x"
      ]
    },
    {
      "cell_type": "code",
      "execution_count": null,
      "metadata": {
        "id": "vgD1PtVqughA"
      },
      "outputs": [],
      "source": [
        "# 使用at()範例\n",
        "np.random.seed(42)\n",
        "x = np.random.randn(100)\n",
        "\n",
        "# compute a histogram by hand\n",
        "bins = np.linspace(-5, 5, 20)\n",
        "counts = np.zeros_like(bins)\n",
        "\n",
        "# find the appropriate bin for each x\n",
        "i = np.searchsorted(bins, x)\n",
        "\n",
        "# add 1 to each of these bins\n",
        "np.add.at(counts, i, 1)\n",
        "\n",
        "import matplotlib.pyplot as plt\n",
        "plt.step(bins, counts)"
      ]
    },
    {
      "cell_type": "markdown",
      "metadata": {
        "id": "YIfTAk7DughA"
      },
      "source": [
        "## 排序 Sort"
      ]
    },
    {
      "cell_type": "code",
      "execution_count": null,
      "metadata": {
        "id": "_rYWgyrAughA"
      },
      "outputs": [],
      "source": [
        "x = np.array([2, 1, 4, 3, 5])\n",
        "np.sort(x)\n",
        "x"
      ]
    },
    {
      "cell_type": "code",
      "execution_count": null,
      "metadata": {
        "id": "HQe1-wobughA"
      },
      "outputs": [],
      "source": [
        "x.sort()\n",
        "x"
      ]
    },
    {
      "cell_type": "code",
      "execution_count": null,
      "metadata": {
        "id": "4CETMsL2ughA"
      },
      "outputs": [],
      "source": [
        "x = np.array([2, 1, 4, 3, 5])\n",
        "i = np.argsort(x)\n",
        "i"
      ]
    },
    {
      "cell_type": "code",
      "execution_count": null,
      "metadata": {
        "id": "vZyW35A1ughB"
      },
      "outputs": [],
      "source": [
        "x[i]"
      ]
    },
    {
      "cell_type": "markdown",
      "metadata": {
        "id": "YO9T1Lc7ughB"
      },
      "source": [
        "### 多維的排序"
      ]
    },
    {
      "cell_type": "code",
      "execution_count": null,
      "metadata": {
        "id": "cwhYsWwKughB"
      },
      "outputs": [],
      "source": [
        "rand = np.random.RandomState(42)\n",
        "x = rand.randint(0, 10, (4, 6))\n",
        "print(x)"
      ]
    },
    {
      "cell_type": "code",
      "execution_count": null,
      "metadata": {
        "id": "-QrNhHj5ughB"
      },
      "outputs": [],
      "source": [
        "np.sort(x)"
      ]
    },
    {
      "cell_type": "code",
      "execution_count": null,
      "metadata": {
        "id": "POZ1DQe8ughB"
      },
      "outputs": [],
      "source": [
        "#指定排序的軸\n",
        "np.sort(x, axis=0)"
      ]
    },
    {
      "cell_type": "markdown",
      "metadata": {
        "id": "ZHUcn147ughB"
      },
      "source": [
        "## 練習題"
      ]
    },
    {
      "cell_type": "code",
      "execution_count": null,
      "metadata": {
        "id": "PNhQLf1MughB"
      },
      "outputs": [],
      "source": [
        "# 練習題\n",
        "# 請算出每位學生的五科總分\n",
        "score = np.random.randint(0,100,(10,5))\n",
        "score\n"
      ]
    },
    {
      "cell_type": "code",
      "execution_count": null,
      "metadata": {
        "id": "hs-fOb-HughB"
      },
      "outputs": [],
      "source": [
        "# 練習題\n",
        "# 請算出每位學生的五科平均\n",
        "score = np.random.randint(0,100,(10,5))\n",
        "score"
      ]
    },
    {
      "cell_type": "markdown",
      "metadata": {
        "id": "nMnJlUI1ughB"
      },
      "source": [
        "# 自主學習內容\n",
        "請參考 Python DataScience Handbook ch2.4之後的章節"
      ]
    }
  ],
  "metadata": {
    "kernelspec": {
      "display_name": "Python 3 (ipykernel)",
      "language": "python",
      "name": "python3"
    },
    "language_info": {
      "codemirror_mode": {
        "name": "ipython",
        "version": 3
      },
      "file_extension": ".py",
      "mimetype": "text/x-python",
      "name": "python",
      "nbconvert_exporter": "python",
      "pygments_lexer": "ipython3",
      "version": "3.12.3"
    },
    "varInspector": {
      "cols": {
        "lenName": 16,
        "lenType": 16,
        "lenVar": 40
      },
      "kernels_config": {
        "python": {
          "delete_cmd_postfix": "",
          "delete_cmd_prefix": "del ",
          "library": "var_list.py",
          "varRefreshCmd": "print(var_dic_list())"
        },
        "r": {
          "delete_cmd_postfix": ") ",
          "delete_cmd_prefix": "rm(",
          "library": "var_list.r",
          "varRefreshCmd": "cat(var_dic_list()) "
        }
      },
      "types_to_exclude": [
        "module",
        "function",
        "builtin_function_or_method",
        "instance",
        "_Feature"
      ],
      "window_display": false
    },
    "colab": {
      "provenance": [],
      "include_colab_link": true
    }
  },
  "nbformat": 4,
  "nbformat_minor": 0
}