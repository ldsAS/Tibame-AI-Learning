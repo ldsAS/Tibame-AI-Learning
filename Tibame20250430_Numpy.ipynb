{
  "cells": [
    {
      "cell_type": "markdown",
      "metadata": {
        "id": "view-in-github",
        "colab_type": "text"
      },
      "source": [
        "<a href=\"https://colab.research.google.com/github/ldsAS/Tibame-AI-Learning/blob/main/Tibame20250430_Numpy.ipynb\" target=\"_parent\"><img src=\"https://colab.research.google.com/assets/colab-badge.svg\" alt=\"Open In Colab\"/></a>"
      ]
    },
    {
      "cell_type": "markdown",
      "metadata": {
        "id": "qDHNyqUtkDSA"
      },
      "source": [
        "# Numpy\n",
        "\n",
        "* 參考 Python DataScience Handbook Chapter 2\n",
        "* NumPy 是一個用於數值計算的 Python 套件，提供了多種功能，特別適用於處理大規模的數據集合和矩陣運算。在科學計算、機器學習、數據分析等領域有著廣泛的應用。\n",
        "* https://numpy.org/\n",
        "* https://numpy.org/doc/stable/user/index.html"
      ]
    },
    {
      "cell_type": "code",
      "source": [],
      "metadata": {
        "id": "_OrIDlOPkQpF"
      },
      "execution_count": null,
      "outputs": []
    },
    {
      "cell_type": "markdown",
      "source": [
        "```\n",
        "Numpy的核心算法是用c語言寫的，運行速度會較只靠python跑還快很多\n",
        "```"
      ],
      "metadata": {
        "id": "Z_SBuhcC1RQO"
      }
    },
    {
      "cell_type": "markdown",
      "source": [
        "```\n",
        "補充：Markdown\n",
        "```\n",
        "#標題1\n",
        "##標題2\n",
        "###標題3\n",
        "\n",
        "- 列表1\n",
        "- 列表2"
      ],
      "metadata": {
        "id": "mH5N0zje1Vu5"
      }
    },
    {
      "cell_type": "code",
      "execution_count": null,
      "metadata": {
        "id": "LNKLaGvbkDSC"
      },
      "outputs": [],
      "source": [
        "# 安裝套件\n",
        "! pip install numpy"
      ]
    },
    {
      "cell_type": "code",
      "execution_count": null,
      "metadata": {
        "id": "XaznjI30kDSD"
      },
      "outputs": [],
      "source": [
        "# 宣告並載入套件\n",
        "import numpy as np\n",
        "import random"
      ]
    },
    {
      "cell_type": "markdown",
      "metadata": {
        "id": "K6gLKj0lkDSD"
      },
      "source": [
        "# Numpy的速度"
      ]
    },
    {
      "cell_type": "code",
      "execution_count": null,
      "metadata": {
        "id": "KfvJxZeVkDSD"
      },
      "outputs": [],
      "source": [
        "# 產生大量的測試用資料\n",
        "x = random.sample(range(0, 1000000), 1000000)"
      ]
    },
    {
      "cell_type": "markdown",
      "metadata": {
        "id": "car8fA_5kDSE"
      },
      "source": [
        "### 使用Python原生程式進行大量計算所需時間"
      ]
    },
    {
      "cell_type": "code",
      "execution_count": null,
      "metadata": {
        "id": "TKB0CsP9kDSE"
      },
      "outputs": [],
      "source": [
        "import statistics"
      ]
    },
    {
      "cell_type": "code",
      "execution_count": null,
      "metadata": {
        "id": "TuwUAQ-3kDSE"
      },
      "outputs": [],
      "source": [
        "%%time\n",
        "statistics.mean(x)"
      ]
    },
    {
      "cell_type": "markdown",
      "metadata": {
        "id": "VACioL8PkDSF"
      },
      "source": [
        "### 使用Numpy進行同樣計算所需的時間"
      ]
    },
    {
      "cell_type": "code",
      "execution_count": null,
      "metadata": {
        "id": "npMeOfhYkDSF"
      },
      "outputs": [],
      "source": [
        "nx = np.array(x)"
      ]
    },
    {
      "cell_type": "code",
      "execution_count": null,
      "metadata": {
        "id": "dl3BGpsIkDSF"
      },
      "outputs": [],
      "source": [
        "%%time\n",
        "nx.mean()"
      ]
    },
    {
      "cell_type": "markdown",
      "metadata": {
        "id": "CwZVoMLykDSF"
      },
      "source": [
        "# 建立Numpy Array"
      ]
    },
    {
      "cell_type": "code",
      "execution_count": null,
      "metadata": {
        "id": "tbk9K686kDSF"
      },
      "outputs": [],
      "source": [
        "# 整數的陣列\n",
        "nx1 = np.array([1,2,3,4,5])\n",
        "nx1"
      ]
    },
    {
      "cell_type": "code",
      "execution_count": null,
      "metadata": {
        "id": "o4g2hHpbkDSG"
      },
      "outputs": [],
      "source": [
        "# 浮點數的陣列\n",
        "x = [1.0, 2, 3.2, 4, 5]\n",
        "nx2 = np.array(x)\n",
        "nx2"
      ]
    },
    {
      "cell_type": "code",
      "execution_count": null,
      "metadata": {
        "id": "6jtHZh3zkDSG"
      },
      "outputs": [],
      "source": [
        "# 練習題\n",
        "# 請建立一個 2~12之間全部偶數的陣列\n"
      ]
    },
    {
      "cell_type": "markdown",
      "metadata": {
        "id": "gsjJvYztkDSG"
      },
      "source": [
        "Python List 中每個元素都可以是不同的資料型態"
      ]
    },
    {
      "cell_type": "code",
      "execution_count": null,
      "metadata": {
        "id": "pEX9TOZfkDSG"
      },
      "outputs": [],
      "source": [
        "type(x[0])"
      ]
    },
    {
      "cell_type": "code",
      "execution_count": null,
      "metadata": {
        "id": "1__yv4TXkDSG"
      },
      "outputs": [],
      "source": [
        "type(x[1])"
      ]
    },
    {
      "cell_type": "markdown",
      "metadata": {
        "id": "w-Y51B1ikDSH"
      },
      "source": [
        "但是Numpy底層是以原生的C語言array來儲存資料，所以必須同樣的資料型態"
      ]
    },
    {
      "cell_type": "code",
      "execution_count": null,
      "metadata": {
        "id": "16zWRCYOkDSH"
      },
      "outputs": [],
      "source": [
        "nx1.dtype"
      ]
    },
    {
      "cell_type": "code",
      "execution_count": null,
      "metadata": {
        "id": "NNCFdRq2kDSH"
      },
      "outputs": [],
      "source": [
        "nx2.dtype"
      ]
    },
    {
      "cell_type": "markdown",
      "metadata": {
        "id": "scEGtxAKkDSH"
      },
      "source": [
        "### 單一變數時 C語言與Python的儲存差異\n",
        "![%E5%9C%96%E7%89%87.png](attachment:%E5%9C%96%E7%89%87.png)\n",
        "圖片來源 Python Data Science Handbook\n",
        "\n",
        "\n"
      ]
    },
    {
      "cell_type": "markdown",
      "metadata": {
        "id": "iw8A0MC1kDSH"
      },
      "source": [
        "### 陣列資料下 Numpy 與 Python的儲存差異\n",
        "![%E5%9C%96%E7%89%87.png](attachment:%E5%9C%96%E7%89%87.png)\n",
        "圖片來源 Python Data Science Handbook\n",
        "\n",
        "\n"
      ]
    },
    {
      "cell_type": "code",
      "execution_count": null,
      "metadata": {
        "id": "_Bwvj0lFkDSH"
      },
      "outputs": [],
      "source": [
        "# 指定資料型態\n",
        "x = [1,2,3,4,5]\n",
        "nx = np.array(x,dtype='float64')\n",
        "nx"
      ]
    },
    {
      "cell_type": "code",
      "execution_count": null,
      "metadata": {
        "id": "U4582m9CkDSI"
      },
      "outputs": [],
      "source": [
        "# 練習題\n",
        "# 請修改下面的程式碼，讓nx陣列裡的數值都是整數\n",
        "x = [1.2, 3.5, 4.2, 2.1]\n",
        "nx = np.array(x)\n",
        "nx"
      ]
    },
    {
      "cell_type": "markdown",
      "metadata": {
        "id": "d-c-F7nfkDSI"
      },
      "source": [
        "### Numpy的可用數值型態\n",
        "資料來源 Python Data Science Handbook\n",
        "\n",
        "| Data type\t    | Description |\n",
        "|---------------|-------------|\n",
        "| ``bool_``     | Boolean (True or False) stored as a byte |\n",
        "| ``int_``      | Default integer type (same as C ``long``; normally either ``int64`` or ``int32``)|\n",
        "| ``intc``      | Identical to C ``int`` (normally ``int32`` or ``int64``)|\n",
        "| ``intp``      | Integer used for indexing (same as C ``ssize_t``; normally either ``int32`` or ``int64``)|\n",
        "| ``int8``      | Byte (-128 to 127)|\n",
        "| ``int16``     | Integer (-32768 to 32767)|\n",
        "| ``int32``     | Integer (-2147483648 to 2147483647)|\n",
        "| ``int64``     | Integer (-9223372036854775808 to 9223372036854775807)|\n",
        "| ``uint8``     | Unsigned integer (0 to 255)|\n",
        "| ``uint16``    | Unsigned integer (0 to 65535)|\n",
        "| ``uint32``    | Unsigned integer (0 to 4294967295)|\n",
        "| ``uint64``    | Unsigned integer (0 to 18446744073709551615)|\n",
        "| ``float_``    | Shorthand for ``float64``.|\n",
        "| ``float16``   | Half precision float: sign bit, 5 bits exponent, 10 bits mantissa|\n",
        "| ``float32``   | Single precision float: sign bit, 8 bits exponent, 23 bits mantissa|\n",
        "| ``float64``   | Double precision float: sign bit, 11 bits exponent, 52 bits mantissa|\n",
        "| ``complex_``  | Shorthand for ``complex128``.|\n",
        "| ``complex64`` | Complex number, represented by two 32-bit floats|\n",
        "| ``complex128``| Complex number, represented by two 64-bit floats|"
      ]
    },
    {
      "cell_type": "code",
      "execution_count": null,
      "metadata": {
        "id": "Np3Da3OqkDSI"
      },
      "outputs": [],
      "source": [
        "# 二維陣列\n",
        "x = [[1,2,3], [4,5,6], [7,8,9]]\n",
        "nx = np.array(x)\n",
        "nx"
      ]
    },
    {
      "cell_type": "code",
      "execution_count": null,
      "metadata": {
        "id": "hte1J3JtkDSI"
      },
      "outputs": [],
      "source": [
        "# 產生固定數值的陣列\n",
        "np.zeros(5)"
      ]
    },
    {
      "cell_type": "code",
      "execution_count": null,
      "metadata": {
        "id": "ummXW0nGkDSI"
      },
      "outputs": [],
      "source": [
        "np.ones(5)"
      ]
    },
    {
      "cell_type": "code",
      "execution_count": null,
      "metadata": {
        "id": "7E8ZI_1zkDSJ"
      },
      "outputs": [],
      "source": [
        "np.full(5, 3.1415)"
      ]
    },
    {
      "cell_type": "code",
      "execution_count": null,
      "metadata": {
        "id": "sEtiBsJtkDSJ"
      },
      "outputs": [],
      "source": [
        "# 產生固定數值得多維陣列\n",
        "np.full((3,4), 2.17)"
      ]
    },
    {
      "cell_type": "code",
      "execution_count": null,
      "metadata": {
        "id": "dexO0gTVkDSJ"
      },
      "outputs": [],
      "source": [
        "# 練習題\n",
        "# 請產生一個 5 x 3全部值為 1 的陣列"
      ]
    },
    {
      "cell_type": "code",
      "execution_count": null,
      "metadata": {
        "id": "4D4RIq1qkDSK"
      },
      "outputs": [],
      "source": [
        "#產生數列\n",
        "np.arange(0, 30, 3)"
      ]
    },
    {
      "cell_type": "code",
      "execution_count": null,
      "metadata": {
        "id": "1zL1ZlirkDSK"
      },
      "outputs": [],
      "source": [
        "#產生均分的數列\n",
        "np.linspace(0, 1, 5)"
      ]
    },
    {
      "cell_type": "code",
      "execution_count": null,
      "metadata": {
        "id": "deGFvQ7xkDSK"
      },
      "outputs": [],
      "source": [
        "# 練習題\n",
        "# 請產生 [0, 10, 20, 30, ...., 90, 100] 的陣列"
      ]
    },
    {
      "cell_type": "code",
      "execution_count": null,
      "metadata": {
        "id": "pOD7Z12ykDSK"
      },
      "outputs": [],
      "source": [
        "#產生隨機數列\n",
        "np.random.random((3, 3))"
      ]
    },
    {
      "cell_type": "code",
      "execution_count": null,
      "metadata": {
        "id": "xq0BGXImkDSK"
      },
      "outputs": [],
      "source": [
        "# 練習題\n",
        "# 請產生一個 4x5的陣列 裡面的值都隨機的介於 0.2 ~ 0.5 之間"
      ]
    },
    {
      "cell_type": "code",
      "execution_count": null,
      "metadata": {
        "id": "i7aHGZtXkDSK"
      },
      "outputs": [],
      "source": [
        "#產生符合高斯分布的隨機數列\n",
        "# 第一個參數 mean\n",
        "# 第二個參數 sd\n",
        "np.random.normal(0, 1, (3, 3))"
      ]
    },
    {
      "cell_type": "markdown",
      "metadata": {
        "id": "dCmnVIGGkDSL"
      },
      "source": [
        "![%E5%9C%96%E7%89%87-4.png](attachment:%E5%9C%96%E7%89%87-4.png)"
      ]
    },
    {
      "cell_type": "code",
      "execution_count": null,
      "metadata": {
        "id": "ZJ2xoX_akDSL"
      },
      "outputs": [],
      "source": [
        "# 練習題\n",
        "# 假設男性平均身高為 170公分，標準差為5公分\n",
        "# 請產生 7 個常態分佈下隨機的男性身高數值\n"
      ]
    },
    {
      "cell_type": "code",
      "execution_count": null,
      "metadata": {
        "id": "xtk9bLG5kDSL"
      },
      "outputs": [],
      "source": [
        "# 產生指定範圍內的隨機整數數列\n",
        "np.random.randint(0, 10, (3, 3))"
      ]
    },
    {
      "cell_type": "code",
      "execution_count": null,
      "metadata": {
        "id": "2mxtMM7NkDSL"
      },
      "outputs": [],
      "source": [
        "# 練習題\n",
        "# 請模擬一個6面骰子擲出 5 次的結果"
      ]
    },
    {
      "cell_type": "code",
      "execution_count": null,
      "metadata": {
        "id": "IJ8pDzhEkDSL"
      },
      "outputs": [],
      "source": [
        "np.eye(3)"
      ]
    },
    {
      "cell_type": "markdown",
      "metadata": {
        "id": "evbSdCRvkDSM"
      },
      "source": [
        "## Numpy數列屬性"
      ]
    },
    {
      "cell_type": "code",
      "execution_count": null,
      "metadata": {
        "id": "RU-VArQakDSM"
      },
      "outputs": [],
      "source": [
        "nx = np.random.randint(10, size=(3, 4))\n",
        "nx"
      ]
    },
    {
      "cell_type": "code",
      "execution_count": null,
      "metadata": {
        "id": "rOhKPgGGkDSM"
      },
      "outputs": [],
      "source": [
        "nx.ndim #數列維度"
      ]
    },
    {
      "cell_type": "code",
      "execution_count": null,
      "metadata": {
        "id": "xL6ZDukKkDSM"
      },
      "outputs": [],
      "source": [
        "nx.shape"
      ]
    },
    {
      "cell_type": "code",
      "execution_count": null,
      "metadata": {
        "id": "zvQURzSgkDSM"
      },
      "outputs": [],
      "source": [
        "nx.size"
      ]
    },
    {
      "cell_type": "code",
      "execution_count": null,
      "metadata": {
        "id": "R0Nt8-GrkDSM"
      },
      "outputs": [],
      "source": [
        "nx.itemsize"
      ]
    },
    {
      "cell_type": "code",
      "execution_count": null,
      "metadata": {
        "id": "xPZe9Y6UkDSN"
      },
      "outputs": [],
      "source": [
        "nx.nbytes"
      ]
    },
    {
      "cell_type": "markdown",
      "metadata": {
        "id": "7hCa3qA5kDSN"
      },
      "source": [
        "## Numpy取值"
      ]
    },
    {
      "cell_type": "code",
      "execution_count": null,
      "metadata": {
        "id": "KGnu0LVMkDSN"
      },
      "outputs": [],
      "source": [
        "x = np.random.randint(0, 10, (3, 4))\n",
        "x"
      ]
    },
    {
      "cell_type": "code",
      "execution_count": null,
      "metadata": {
        "id": "MMZt4YOkkDSN"
      },
      "outputs": [],
      "source": [
        "x[0]"
      ]
    },
    {
      "cell_type": "code",
      "execution_count": null,
      "metadata": {
        "id": "MRO49wLKkDSN"
      },
      "outputs": [],
      "source": [
        "x[0,2]"
      ]
    },
    {
      "cell_type": "code",
      "execution_count": null,
      "metadata": {
        "id": "mbJqkXn4kDSN"
      },
      "outputs": [],
      "source": [
        "x[-1]"
      ]
    },
    {
      "cell_type": "code",
      "execution_count": null,
      "metadata": {
        "id": "wB28JgbfkDSN"
      },
      "outputs": [],
      "source": [
        "x[1,1] = -4.5\n",
        "x"
      ]
    },
    {
      "cell_type": "code",
      "execution_count": null,
      "metadata": {
        "id": "fQQVyiE8kDSO"
      },
      "outputs": [],
      "source": [
        "x[1:3,2:4]"
      ]
    },
    {
      "cell_type": "code",
      "execution_count": null,
      "metadata": {
        "id": "0C8XB079kDSO"
      },
      "outputs": [],
      "source": [
        "x[1:3,:]"
      ]
    },
    {
      "cell_type": "code",
      "execution_count": null,
      "metadata": {
        "id": "rP6DbXX0kDSO"
      },
      "outputs": [],
      "source": [
        "# 練習題\n",
        "# xt 為全班這次的考試成績，請取出前三名最高的成績\n",
        "# 排序可以使用 np.sort(xt)\n",
        "xt = np.random.randint(0, 100, 10)\n",
        "print(xt)"
      ]
    },
    {
      "cell_type": "markdown",
      "metadata": {
        "id": "P1mQ5YuukDSO"
      },
      "source": [
        "### 修改數列切片內容會影響到原本的數列"
      ]
    },
    {
      "cell_type": "code",
      "execution_count": null,
      "metadata": {
        "id": "laBmGkLHkDSO"
      },
      "outputs": [],
      "source": [
        "y = x[1:3,2:4]\n",
        "y"
      ]
    },
    {
      "cell_type": "code",
      "execution_count": null,
      "metadata": {
        "id": "Bayuobx6kDSO"
      },
      "outputs": [],
      "source": [
        "# 修改切片出來的值\n",
        "y[0,0] = 3\n",
        "y"
      ]
    },
    {
      "cell_type": "code",
      "execution_count": null,
      "metadata": {
        "id": "vf24u-4JkDSO"
      },
      "outputs": [],
      "source": [
        "#原本的數列跟著改變\n",
        "x"
      ]
    },
    {
      "cell_type": "markdown",
      "metadata": {
        "id": "0yzuJP9qkDSP"
      },
      "source": [
        "### 如果不想要引響原本的資料，可以用複製"
      ]
    },
    {
      "cell_type": "code",
      "execution_count": null,
      "metadata": {
        "id": "6nlimCGYkDSP"
      },
      "outputs": [],
      "source": [
        "y2 = y.copy()\n",
        "y2[0,0] = 7\n",
        "y2"
      ]
    },
    {
      "cell_type": "code",
      "execution_count": null,
      "metadata": {
        "id": "FIDMl9zAkDSP"
      },
      "outputs": [],
      "source": [
        "y"
      ]
    },
    {
      "cell_type": "markdown",
      "metadata": {
        "id": "ep9tBj6nkDSP"
      },
      "source": [
        "### 改變數列形狀"
      ]
    },
    {
      "cell_type": "code",
      "execution_count": null,
      "metadata": {
        "id": "Hzp5Cl6vkDSP"
      },
      "outputs": [],
      "source": [
        "x = np.random.randint(0, 10, (3, 4))\n",
        "x"
      ]
    },
    {
      "cell_type": "code",
      "execution_count": null,
      "metadata": {
        "id": "Gc5a_sa_kDSP"
      },
      "outputs": [],
      "source": [
        "y = x.reshape(12)\n",
        "y"
      ]
    },
    {
      "cell_type": "code",
      "execution_count": null,
      "metadata": {
        "id": "-LMfKIu8kDSP"
      },
      "outputs": [],
      "source": [
        "# 練習題\n",
        "# 請分別將x改變成 4x3 跟 2x6 的矩陣\n",
        "x = np.random.randint(0, 10, (3, 4))\n",
        "print(x)"
      ]
    },
    {
      "cell_type": "code",
      "execution_count": null,
      "metadata": {
        "id": "73-92cXzkDSP"
      },
      "outputs": [],
      "source": [
        "# 就算修改的數列的形狀，還是一樣會影響原先的資料\n",
        "y[0] = -1\n",
        "y"
      ]
    },
    {
      "cell_type": "code",
      "execution_count": null,
      "metadata": {
        "id": "C0WAz9j7kDSQ"
      },
      "outputs": [],
      "source": [
        "x"
      ]
    },
    {
      "cell_type": "code",
      "execution_count": null,
      "metadata": {
        "id": "F-XvI4zfkDSQ"
      },
      "outputs": [],
      "source": [
        "x.reshape((2,3,2))"
      ]
    },
    {
      "cell_type": "code",
      "execution_count": null,
      "metadata": {
        "id": "pLMBo6aikDSQ"
      },
      "outputs": [],
      "source": [
        "#修改後的數列大小必須一樣\n",
        "x.reshape((4,4))"
      ]
    },
    {
      "cell_type": "markdown",
      "metadata": {
        "id": "PtrEFCyzkDSQ"
      },
      "source": [
        "## 數列結合"
      ]
    },
    {
      "cell_type": "code",
      "execution_count": null,
      "metadata": {
        "id": "uojCsP3bkDSQ"
      },
      "outputs": [],
      "source": [
        "x1 = np.array([1,2,3])\n",
        "x2 = np.array([4,5,6])\n",
        "x3 = np.array([x1,x2])\n",
        "x3"
      ]
    },
    {
      "cell_type": "code",
      "execution_count": null,
      "metadata": {
        "id": "fcfKTx7-kDSQ"
      },
      "outputs": [],
      "source": [
        "x1 = np.array([1,2,3])\n",
        "x2 = np.array([4,5,6])\n",
        "x3 = np.concatenate([x1,x2])\n",
        "x3"
      ]
    },
    {
      "cell_type": "code",
      "execution_count": null,
      "metadata": {
        "id": "xkpOocn1kDSQ"
      },
      "outputs": [],
      "source": [
        "# 修改concatenate後的數列\n",
        "x3[0] = -1\n",
        "x3"
      ]
    },
    {
      "cell_type": "code",
      "execution_count": null,
      "metadata": {
        "id": "ZqEE2HQ5kDSR"
      },
      "outputs": [],
      "source": [
        "# 不會引響到原先的數列\n",
        "x1"
      ]
    },
    {
      "cell_type": "code",
      "execution_count": null,
      "metadata": {
        "id": "jqkq9QjykDSR"
      },
      "outputs": [],
      "source": [
        "# 練習題\n",
        "# 問題\n",
        "# 使用下面方法結合成的x3，如果修改值會影響到x1嗎？\n",
        "x1 = np.array([1,2,3])\n",
        "x2 = np.array([4,5,6])\n",
        "x3 = np.array([x1,x2])"
      ]
    },
    {
      "cell_type": "code",
      "execution_count": null,
      "metadata": {
        "id": "wFcw3SwLkDSR"
      },
      "outputs": [],
      "source": [
        "# 多維數列的結合\n",
        "x1 = np.array([[1, 2, 3], [4, 5, 6]])\n",
        "x3 = np.concatenate([x1,x1])\n",
        "x3"
      ]
    },
    {
      "cell_type": "code",
      "execution_count": null,
      "metadata": {
        "id": "L3CTgTLxkDSR"
      },
      "outputs": [],
      "source": [
        "# 改變結合的方向(軸、維度)\n",
        "x3 = np.concatenate([x1,x1], axis=1)\n",
        "x3"
      ]
    },
    {
      "cell_type": "code",
      "execution_count": null,
      "metadata": {
        "id": "SnaPziK_kDSR"
      },
      "outputs": [],
      "source": [
        "# 練習題\n",
        "# 請將x1跟x2結合成一個 2 x 2 x 7的矩陣\n",
        "x1 = np.random.randint(0,10,(2,2,3))\n",
        "print('x1 = ', x1)\n",
        "x2 = np.random.randint(0,10,(2,2,4))\n",
        "print('x1 = ', x2)\n"
      ]
    },
    {
      "cell_type": "code",
      "execution_count": null,
      "metadata": {
        "id": "KrlTMFQxkDSR"
      },
      "outputs": [],
      "source": [
        "# 陣列形狀不同時無法用concatenate來結合\n",
        "x1 = np.array([[1, 2, 3], [4, 5, 6]])\n",
        "x2 = np.array([7, 8, 9])\n",
        "print('x1 shape = ', x1.shape)\n",
        "print('x2 shape = ', x2.shape)\n",
        "x3 = np.concatenate([x1,x2])\n",
        "x3"
      ]
    },
    {
      "cell_type": "code",
      "execution_count": null,
      "metadata": {
        "id": "90Q-whtjkDSR"
      },
      "outputs": [],
      "source": [
        "# 練習題\n",
        "# 請問要如何把 x1 x2 結合成一個 3x3的矩陣？\n",
        "# 提示 可以使用 reshape()\n",
        "x1 = np.array([[1, 2, 3], [4, 5, 6]])\n",
        "x2 = np.array([7, 8, 9])\n",
        "print('x1 shape = ', x1.shape)\n",
        "print('x2 shape = ', x2.shape)\n"
      ]
    },
    {
      "cell_type": "code",
      "execution_count": null,
      "metadata": {
        "id": "OVs-TCsxkDSR"
      },
      "outputs": [],
      "source": [
        "x3 = np.vstack([x1,x2])\n",
        "x3"
      ]
    },
    {
      "cell_type": "code",
      "execution_count": null,
      "metadata": {
        "id": "lu_8HKM0kDSS"
      },
      "outputs": [],
      "source": [
        "x1 = np.array([[1, 2, 3], [4, 5, 6]])\n",
        "x2 = np.array([[7], [8]])\n",
        "print('x1 shape = ', x1.shape)\n",
        "print('x2 shape = ', x2.shape)\n",
        "x3 = np.hstack([x1,x2])\n",
        "x3"
      ]
    },
    {
      "cell_type": "markdown",
      "metadata": {
        "id": "A4NuF6ADkDSS"
      },
      "source": [
        "## 數列分割"
      ]
    },
    {
      "cell_type": "code",
      "execution_count": null,
      "metadata": {
        "id": "FAuefUSxkDSS"
      },
      "outputs": [],
      "source": [
        "x = [1, 2, 3, 4, 5, 6, 7, 8, 9]\n",
        "x1, x2, x3 = np.split(x, [3, 7])\n",
        "print(x1, x2, x3)"
      ]
    },
    {
      "cell_type": "code",
      "execution_count": null,
      "metadata": {
        "id": "mBqw5Q6JkDSS"
      },
      "outputs": [],
      "source": [
        "grid = np.arange(16).reshape((4, 4))\n",
        "grid"
      ]
    },
    {
      "cell_type": "code",
      "execution_count": null,
      "metadata": {
        "id": "EhS-a4-EkDSS"
      },
      "outputs": [],
      "source": [
        "upper, lower = np.vsplit(grid, [2])\n",
        "print('upper = \\n',upper)\n",
        "print('lower = \\n',lower)"
      ]
    },
    {
      "cell_type": "code",
      "execution_count": null,
      "metadata": {
        "id": "JA7vAQ-QkDSS"
      },
      "outputs": [],
      "source": [
        "left, right = np.hsplit(grid, [2])\n",
        "print('left = \\n', left)\n",
        "print('right = \\n', right)"
      ]
    },
    {
      "cell_type": "markdown",
      "metadata": {
        "id": "w3rxbMUckDSS"
      },
      "source": [
        "# Universal Functions"
      ]
    },
    {
      "cell_type": "markdown",
      "metadata": {
        "id": "GF2EVLQmkDSS"
      },
      "source": [
        "### 速度差異\n",
        "即使使用Numpy來處理數據，根據程式寫法速度還是會有很大的差異"
      ]
    },
    {
      "cell_type": "code",
      "execution_count": null,
      "metadata": {
        "id": "C2STZagXkDSS"
      },
      "outputs": [],
      "source": [
        "x = np.random.random(10000)"
      ]
    },
    {
      "cell_type": "code",
      "execution_count": null,
      "metadata": {
        "id": "OlfdqFAzkDST"
      },
      "outputs": [],
      "source": [
        "%%time\n",
        "for i in range(100):\n",
        "    y = np.empty(len(x))\n",
        "    for n in range(len(x)):\n",
        "        y[n] = 1/x[n]"
      ]
    },
    {
      "cell_type": "code",
      "execution_count": null,
      "metadata": {
        "id": "JlwliEg1kDST"
      },
      "outputs": [],
      "source": [
        "%%time\n",
        "for i in range(100):\n",
        "    y = 1 / x\n"
      ]
    },
    {
      "cell_type": "markdown",
      "metadata": {
        "id": "rIgO7FirkDST"
      },
      "source": [
        "### 使用Numpy內建的函數來進行計算"
      ]
    },
    {
      "cell_type": "code",
      "execution_count": null,
      "metadata": {
        "id": "sBYVe25ckDST"
      },
      "outputs": [],
      "source": [
        "x = np.arange(4)\n",
        "print(\"x     =\", x)\n",
        "print(\"x + 5 =\", x + 5)\n",
        "print(\"x - 5 =\", x - 5)\n",
        "print(\"x * 2 =\", x * 2)\n",
        "print(\"x / 2 =\", x / 2)\n",
        "print(\"x // 2 =\", x // 2)  # floor division\n",
        "print(\"-x     = \", -x)\n",
        "print(\"x ** 2 = \", x ** 2)\n",
        "print(\"x % 2  = \", x % 2)"
      ]
    },
    {
      "cell_type": "code",
      "execution_count": null,
      "metadata": {
        "id": "GtfCEfK2kDST"
      },
      "outputs": [],
      "source": [
        "# 四則運算\n",
        "-(0.5*x + 1) ** 2"
      ]
    },
    {
      "cell_type": "code",
      "execution_count": null,
      "metadata": {
        "id": "c04_-oQTkDST"
      },
      "outputs": [],
      "source": [
        "np.add(x, 2)"
      ]
    },
    {
      "cell_type": "markdown",
      "metadata": {
        "id": "FSWLX52rkDST"
      },
      "source": [
        "| Operator\t    | Equivalent ufunc    | Description                           |\n",
        "|---------------|---------------------|---------------------------------------|\n",
        "|``+``          |``np.add``           |Addition (e.g., ``1 + 1 = 2``)         |\n",
        "|``-``          |``np.subtract``      |Subtraction (e.g., ``3 - 2 = 1``)      |\n",
        "|``-``          |``np.negative``      |Unary negation (e.g., ``-2``)          |\n",
        "|``*``          |``np.multiply``      |Multiplication (e.g., ``2 * 3 = 6``)   |\n",
        "|``/``          |``np.divide``        |Division (e.g., ``3 / 2 = 1.5``)       |\n",
        "|``//``         |``np.floor_divide``  |Floor division (e.g., ``3 // 2 = 1``)  |\n",
        "|``**``         |``np.power``         |Exponentiation (e.g., ``2 ** 3 = 8``)  |\n",
        "|``%``          |``np.mod``           |Modulus/remainder (e.g., ``9 % 4 = 1``)|"
      ]
    },
    {
      "cell_type": "code",
      "execution_count": null,
      "metadata": {
        "id": "FEfYg8oBkDST"
      },
      "outputs": [],
      "source": [
        "# 練習題\n",
        "# 請計算出 x 數列的平均值跟標準差\n",
        "# 提示 np.mean()\n",
        "x = np.random.normal(0,1,100)\n",
        "x"
      ]
    },
    {
      "cell_type": "markdown",
      "metadata": {
        "id": "WxYhkZ8okDSU"
      },
      "source": [
        "### 可以直接使用Python的函數"
      ]
    },
    {
      "cell_type": "code",
      "execution_count": null,
      "metadata": {
        "id": "X1n3a6QwkDSU"
      },
      "outputs": [],
      "source": [
        "x = np.random.normal(0,1,10000)\n",
        "x"
      ]
    },
    {
      "cell_type": "code",
      "execution_count": null,
      "metadata": {
        "id": "RzI46bCHkDSU"
      },
      "outputs": [],
      "source": [
        "# python原生函數\n",
        "%timeit abs(x)\n",
        "abs(x)"
      ]
    },
    {
      "cell_type": "code",
      "execution_count": null,
      "metadata": {
        "id": "0hskZUQQkDSU"
      },
      "outputs": [],
      "source": [
        "# numpy函數\n",
        "%timeit np.abs(x)\n",
        "np.abs(x)"
      ]
    },
    {
      "cell_type": "markdown",
      "metadata": {
        "id": "OzXYp-sRkDSU"
      },
      "source": [
        "更多的UFunc API參考文件<BR>\n",
        "https://numpy.org/doc/stable/reference/ufuncs.html#available-ufuncs"
      ]
    },
    {
      "cell_type": "markdown",
      "metadata": {
        "id": "VSvZGqLrkDSU"
      },
      "source": [
        "# 索引(index)操作"
      ]
    },
    {
      "cell_type": "code",
      "execution_count": null,
      "metadata": {
        "id": "R3K9a6lgkDSU"
      },
      "outputs": [],
      "source": [
        "x = np.arange(10)\n",
        "x"
      ]
    },
    {
      "cell_type": "code",
      "execution_count": null,
      "metadata": {
        "id": "DZMMfOZrkDSU"
      },
      "outputs": [],
      "source": [
        "# 這種取值的方法不好\n",
        "[x[1],x[3],x[5]]"
      ]
    },
    {
      "cell_type": "code",
      "execution_count": null,
      "metadata": {
        "id": "GTVZ_rJqkDSV"
      },
      "outputs": [],
      "source": [
        "# 正確的索引取值方法\n",
        "x[[1,3,5]]"
      ]
    },
    {
      "cell_type": "code",
      "execution_count": null,
      "metadata": {
        "id": "MYBLEH82kDSV"
      },
      "outputs": [],
      "source": [
        "# 透過變數傳遞索引\n",
        "index = [1,3,5]\n",
        "x[index]"
      ]
    },
    {
      "cell_type": "code",
      "execution_count": null,
      "metadata": {
        "id": "5biq3XbxkDSV"
      },
      "outputs": [],
      "source": [
        "# 練習題\n",
        "# 找出 x 之中的偶數\n",
        "x = np.random.randint(0,10,20)\n",
        "print(x)\n"
      ]
    },
    {
      "cell_type": "code",
      "execution_count": null,
      "metadata": {
        "id": "kg2aIm5WkDSV"
      },
      "outputs": [],
      "source": [
        "# 練習題\n",
        "# 找出班上同學有達到及格分數的全部成績\n",
        "score = np.random.randint(0,100,50)\n",
        "print(score)"
      ]
    },
    {
      "cell_type": "markdown",
      "metadata": {
        "id": "jG-YqGDPkDSV"
      },
      "source": [
        "### 利用索引來改變值"
      ]
    },
    {
      "cell_type": "code",
      "execution_count": null,
      "metadata": {
        "id": "GDgCzMGOkDSV"
      },
      "outputs": [],
      "source": [
        "x = np.arange(10)\n",
        "i = np.array([2, 1, 8, 4])\n",
        "x[i] = 99\n",
        "x"
      ]
    },
    {
      "cell_type": "code",
      "execution_count": null,
      "metadata": {
        "id": "caAsloHrkDSV"
      },
      "outputs": [],
      "source": [
        "x[i] -= 10\n",
        "x"
      ]
    },
    {
      "cell_type": "code",
      "execution_count": null,
      "metadata": {
        "id": "84afh4PJkDSV"
      },
      "outputs": [],
      "source": [
        "# 練習題\n",
        "# 找出班上同學有達到及格分數的全部成績\n",
        "# 請根據score的分數，在ispass上填上 '及格' 或是 '不及格'\n",
        "score = np.random.randint(0,100,50)\n",
        "print(score)\n",
        "ispass = np.full(50, '不知道')\n",
        "ispass"
      ]
    },
    {
      "cell_type": "markdown",
      "metadata": {
        "id": "Ozai6etwkDSV"
      },
      "source": [
        "### 如果索引值重複可能會有不可預期的問題"
      ]
    },
    {
      "cell_type": "code",
      "execution_count": null,
      "metadata": {
        "id": "n6cN5cEvkDSW"
      },
      "outputs": [],
      "source": [
        "x = np.zeros(10)\n",
        "x"
      ]
    },
    {
      "cell_type": "code",
      "execution_count": null,
      "metadata": {
        "id": "p5JzFjLikDSW"
      },
      "outputs": [],
      "source": [
        "x[[0,0]] = [1,2]\n",
        "x"
      ]
    },
    {
      "cell_type": "code",
      "execution_count": null,
      "metadata": {
        "id": "ClCqdinIkDSW"
      },
      "outputs": [],
      "source": [
        "x = np.zeros(10)\n",
        "i = [2, 3, 3, 4, 4, 4]\n",
        "x[i] += 1\n",
        "x"
      ]
    },
    {
      "cell_type": "code",
      "execution_count": null,
      "metadata": {
        "id": "ZX-pGXGNkDSW"
      },
      "outputs": [],
      "source": [
        "x = np.zeros(10)\n",
        "np.add.at(x, i, 1)\n",
        "x"
      ]
    },
    {
      "cell_type": "code",
      "execution_count": null,
      "metadata": {
        "id": "3NRCKH8vkDSW"
      },
      "outputs": [],
      "source": [
        "# 使用at()範例\n",
        "np.random.seed(42)\n",
        "x = np.random.randn(100)\n",
        "\n",
        "# compute a histogram by hand\n",
        "bins = np.linspace(-5, 5, 20)\n",
        "counts = np.zeros_like(bins)\n",
        "\n",
        "# find the appropriate bin for each x\n",
        "i = np.searchsorted(bins, x)\n",
        "\n",
        "# add 1 to each of these bins\n",
        "np.add.at(counts, i, 1)\n",
        "\n",
        "import matplotlib.pyplot as plt\n",
        "plt.step(bins, counts)"
      ]
    },
    {
      "cell_type": "markdown",
      "metadata": {
        "id": "wLPznpkrkDSW"
      },
      "source": [
        "## 排序 Sort"
      ]
    },
    {
      "cell_type": "code",
      "execution_count": null,
      "metadata": {
        "id": "AjgBJ5-UkDSW"
      },
      "outputs": [],
      "source": [
        "x = np.array([2, 1, 4, 3, 5])\n",
        "np.sort(x)\n",
        "x"
      ]
    },
    {
      "cell_type": "code",
      "execution_count": null,
      "metadata": {
        "id": "vM50M6ohkDSW"
      },
      "outputs": [],
      "source": [
        "x.sort()\n",
        "x"
      ]
    },
    {
      "cell_type": "code",
      "execution_count": null,
      "metadata": {
        "id": "g-tJ1dDjkDSX"
      },
      "outputs": [],
      "source": [
        "x = np.array([2, 1, 4, 3, 5])\n",
        "i = np.argsort(x)\n",
        "i"
      ]
    },
    {
      "cell_type": "code",
      "execution_count": null,
      "metadata": {
        "id": "LjWhqLbEkDSX"
      },
      "outputs": [],
      "source": [
        "x[i]"
      ]
    },
    {
      "cell_type": "markdown",
      "metadata": {
        "id": "i7vCG_zgkDSX"
      },
      "source": [
        "### 多維的排序"
      ]
    },
    {
      "cell_type": "code",
      "execution_count": null,
      "metadata": {
        "id": "LzXMVZBLkDSX"
      },
      "outputs": [],
      "source": [
        "rand = np.random.RandomState(42)\n",
        "x = rand.randint(0, 10, (4, 6))\n",
        "print(x)"
      ]
    },
    {
      "cell_type": "code",
      "execution_count": null,
      "metadata": {
        "id": "XFWDpGrykDSX"
      },
      "outputs": [],
      "source": [
        "np.sort(x)"
      ]
    },
    {
      "cell_type": "code",
      "execution_count": null,
      "metadata": {
        "id": "Sqa7CWLZkDSX"
      },
      "outputs": [],
      "source": [
        "#指定排序的軸\n",
        "np.sort(x, axis=0)"
      ]
    },
    {
      "cell_type": "markdown",
      "metadata": {
        "id": "I6wHSco5kDSX"
      },
      "source": [
        "## 練習題"
      ]
    },
    {
      "cell_type": "code",
      "execution_count": null,
      "metadata": {
        "id": "jYsRQYtUkDSX"
      },
      "outputs": [],
      "source": [
        "# 練習題\n",
        "# 請算出每位學生的五科總分\n",
        "score = np.random.randint(0,100,(10,5))\n",
        "score\n"
      ]
    },
    {
      "cell_type": "code",
      "execution_count": null,
      "metadata": {
        "id": "z6U-JG4ikDSX"
      },
      "outputs": [],
      "source": [
        "# 練習題\n",
        "# 請算出每位學生的五科平均\n",
        "score = np.random.randint(0,100,(10,5))\n",
        "score"
      ]
    },
    {
      "cell_type": "markdown",
      "metadata": {
        "id": "TgaB5g60kDSY"
      },
      "source": [
        "# 自主學習內容\n",
        "請參考 Python DataScience Handbook ch2.4之後的章節"
      ]
    }
  ],
  "metadata": {
    "kernelspec": {
      "display_name": "Python 3 (ipykernel)",
      "language": "python",
      "name": "python3"
    },
    "language_info": {
      "codemirror_mode": {
        "name": "ipython",
        "version": 3
      },
      "file_extension": ".py",
      "mimetype": "text/x-python",
      "name": "python",
      "nbconvert_exporter": "python",
      "pygments_lexer": "ipython3",
      "version": "3.12.3"
    },
    "varInspector": {
      "cols": {
        "lenName": 16,
        "lenType": 16,
        "lenVar": 40
      },
      "kernels_config": {
        "python": {
          "delete_cmd_postfix": "",
          "delete_cmd_prefix": "del ",
          "library": "var_list.py",
          "varRefreshCmd": "print(var_dic_list())"
        },
        "r": {
          "delete_cmd_postfix": ") ",
          "delete_cmd_prefix": "rm(",
          "library": "var_list.r",
          "varRefreshCmd": "cat(var_dic_list()) "
        }
      },
      "types_to_exclude": [
        "module",
        "function",
        "builtin_function_or_method",
        "instance",
        "_Feature"
      ],
      "window_display": false
    },
    "colab": {
      "provenance": [],
      "include_colab_link": true
    }
  },
  "nbformat": 4,
  "nbformat_minor": 0
}