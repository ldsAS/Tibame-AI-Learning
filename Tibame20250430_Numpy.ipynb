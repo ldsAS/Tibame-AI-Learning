{
  "nbformat": 4,
  "nbformat_minor": 0,
  "metadata": {
    "colab": {
      "provenance": [],
      "authorship_tag": "ABX9TyOBgyOUX0AJSUZLyBshXTjK",
      "include_colab_link": true
    },
    "kernelspec": {
      "name": "python3",
      "display_name": "Python 3"
    },
    "language_info": {
      "name": "python"
    }
  },
  "cells": [
    {
      "cell_type": "markdown",
      "metadata": {
        "id": "view-in-github",
        "colab_type": "text"
      },
      "source": [
        "<a href=\"https://colab.research.google.com/github/ldsAS/Tibame-AI-Learning/blob/main/Tibame20250430_Numpy.ipynb\" target=\"_parent\"><img src=\"https://colab.research.google.com/assets/colab-badge.svg\" alt=\"Open In Colab\"/></a>"
      ]
    },
    {
      "cell_type": "markdown",
      "source": [
        "```\n",
        "Numpy是用c語言寫的，運行速度會較只靠python跑還快很多\n",
        "```"
      ],
      "metadata": {
        "id": "6l1G68iu3oRm"
      }
    },
    {
      "cell_type": "markdown",
      "source": [
        "```\n",
        "Markdown\n",
        "```\n",
        "\n",
        "#標題1\n",
        "##標題2\n",
        "###標題3\n",
        "\n",
        "- 列表1\n",
        "- 列表2"
      ],
      "metadata": {
        "id": "xCQdVn0p4HZ_"
      }
    },
    {
      "cell_type": "code",
      "source": [],
      "metadata": {
        "id": "HCgLijGChHK5"
      },
      "execution_count": null,
      "outputs": []
    }
  ]
}