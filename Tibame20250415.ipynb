{
  "nbformat": 4,
  "nbformat_minor": 0,
  "metadata": {
    "colab": {
      "provenance": [],
      "authorship_tag": "ABX9TyN8yFB4OI9HAxRqsgc8X0H+",
      "include_colab_link": true
    },
    "kernelspec": {
      "name": "python3",
      "display_name": "Python 3"
    },
    "language_info": {
      "name": "python"
    }
  },
  "cells": [
    {
      "cell_type": "markdown",
      "metadata": {
        "id": "view-in-github",
        "colab_type": "text"
      },
      "source": [
        "<a href=\"https://colab.research.google.com/github/ldsAS/Tibame-AI-Learning/blob/main/Tibame20250415.ipynb\" target=\"_parent\"><img src=\"https://colab.research.google.com/assets/colab-badge.svg\" alt=\"Open In Colab\"/></a>"
      ]
    },
    {
      "cell_type": "code",
      "execution_count": 16,
      "metadata": {
        "colab": {
          "base_uri": "https://localhost:8080/"
        },
        "collapsed": true,
        "id": "hB1C_1y_7eUO",
        "outputId": "cda45dca-8cdb-4493-a4e9-3997d589c446"
      },
      "outputs": [
        {
          "output_type": "stream",
          "name": "stdout",
          "text": [
            "輸:(\n",
            "平手\n",
            "平手\n",
            "贏:)\n",
            "輸:(\n",
            "輸:(\n",
            "lsoe~\n"
          ]
        }
      ],
      "source": [
        "import random\n",
        "\n",
        "win, even, lose = 0, 0, 0\n",
        "trans = [\"輸:(\", \"平手\", \"贏:)\"]\n",
        "while (win < 3) and (lose < 3):\n",
        "  result = random.randint(-1, 1)\n",
        "  print(trans[result+1])\n",
        "  if result == -1:\n",
        "    lose = lose + 1\n",
        "  elif result == 0:\n",
        "    even = even + 1\n",
        "  elif result == 1:\n",
        "    win = win + 1\n",
        "\n",
        "if win > lose:\n",
        "  print(\"win~\")\n",
        "else:\n",
        "  print(\"lsoe~\")"
      ]
    },
    {
      "cell_type": "code",
      "source": [
        "import random\n",
        "\n",
        "win, even, lose = 0, 0, 0\n",
        "trans = [\"輸:(\", \"平手\", \"贏:)\"]\n",
        "while True:\n",
        "  result = random.randint(-1, 1)\n",
        "  print(trans[result+1])\n",
        "  if result == -1:\n",
        "    lose = lose + 1\n",
        "  elif result == 0:\n",
        "    even = even + 1\n",
        "  elif result == 1:\n",
        "    win = win + 1\n",
        "\n",
        "  if win == 3:\n",
        "    print(\"win~\")\n",
        "    break\n",
        "  elif lose == 3:\n",
        "    print(\"lsoe~\")\n",
        "    break"
      ],
      "metadata": {
        "colab": {
          "base_uri": "https://localhost:8080/"
        },
        "collapsed": true,
        "id": "Ib-eUHrRI6SH",
        "outputId": "7ce643eb-a74c-4e3d-f0d8-fef30b5f957f"
      },
      "execution_count": 17,
      "outputs": [
        {
          "output_type": "stream",
          "name": "stdout",
          "text": [
            "輸:(\n",
            "贏:)\n",
            "贏:)\n",
            "平手\n",
            "輸:(\n",
            "輸:(\n",
            "lsoe~\n"
          ]
        }
      ]
    },
    {
      "cell_type": "code",
      "source": [
        "a = 5\n",
        "b = 3\n",
        "print(\"先印出\", a, \"再印出\", b)\n",
        "print(f\"先印出{a} 再印出{b}\")"
      ],
      "metadata": {
        "colab": {
          "base_uri": "https://localhost:8080/"
        },
        "id": "jD808CStEk3P",
        "outputId": "b80a85de-222f-48ce-804b-5a5b6e737b4a"
      },
      "execution_count": 4,
      "outputs": [
        {
          "output_type": "stream",
          "name": "stdout",
          "text": [
            "先印出 5 再印出 3\n",
            "先印出5 再印出3\n"
          ]
        }
      ]
    },
    {
      "cell_type": "code",
      "source": [
        "p, f, c = 0, 0, 0\n",
        "while True:\n",
        "  choice = input(\"0.Protein 1.Fat 2.Carbon 3.一碗飯 +.今天統計 q.離開迴圈\")\n",
        "  # 如果他選的0-2: 那你要輸入幾克\n",
        "  # if(choice == \"0\") or (choice == \"1\") or (choice == \"2\"):\n",
        "  if choice in[\"0\", \"1\", \"2\"]:\n",
        "    gram = int(input(\"那你輸入幾克:\"))\n",
        "    if choice == \"0\":\n",
        "      p = p + gram\n",
        "    elif choice == \"1\":\n",
        "      f = f + gram\n",
        "    elif choice == \"2\":\n",
        "      c = c + gram\n",
        "    print(\"p f c\", p, f, c)\n",
        "  elif choice == \"3\":\n",
        "    c = c + 65\n",
        "  elif choice == \"+\":\n",
        "    calorie = p * 4 + f * 9 + c * 4\n",
        "    print(\"今天吃了\", p, \"蛋白質\", f, \"脂肪\", c, \"碳水化合物\")\n",
        "    print(\"熱量為\", calorie)\n",
        "    p, f, c = 0, 0, 0\n",
        "  elif choice == \"q\":\n",
        "    break\n",
        "  # 如果他選的是3 p+0 f+0 c+65\n",
        "  # 如果你選的是+: 你要印出今天吃了多少熱量，然後把pfc重置為0\n",
        "  # calorie = p * 4 + f * 9 + c * 4\n"
      ],
      "metadata": {
        "colab": {
          "base_uri": "https://localhost:8080/"
        },
        "collapsed": true,
        "id": "L8hGDFayOXrK",
        "outputId": "ad354c6e-ea44-4c6e-c4cb-6055dc8fdba9"
      },
      "execution_count": 25,
      "outputs": [
        {
          "name": "stdout",
          "output_type": "stream",
          "text": [
            "0.Protein 1.Fat 2.Carbon 3.一碗飯 +.今天統計 q.離開迴圈1\n",
            "那你輸入幾克:2\n",
            "p f c 0 2 0\n",
            "0.Protein 1.Fat 2.Carbon 3.一碗飯 +.今天統計 q.離開迴圈+\n",
            "今天吃了 0 蛋白質 2 脂肪 0 碳水化合物\n",
            "熱量為 18\n",
            "0.Protein 1.Fat 2.Carbon 3.一碗飯 +.今天統計 q.離開迴圈q\n"
          ]
        }
      ]
    },
    {
      "cell_type": "code",
      "source": [
        "nutritions = {\n",
        "    \"p\": 0,\n",
        "    \"f\": 0,\n",
        "    \"c\": 0\n",
        "}\n",
        "while True:\n",
        "  choice = input(\"p.Protein f.Fat c.Carbon 3.一碗飯 +.今天統計 q.離開迴圈\")\n",
        "  # 如果他選的0-2: 那你要輸入幾克\n",
        "  # if (choice == \"0\") or (choice == \"1\") or (choice == \"2\"):\n",
        "  if choice in [\"p\", \"f\", \"c\"]:\n",
        "    gram = int(input(\"那你輸入幾克:\"))\n",
        "    nutritions[choice] = nutritions[choice] + gram\n",
        "    print(\"p f c\", nutritions[\"p\"], nutritions[\"f\"], nutritions[\"c\"])\n",
        "\n",
        "  elif choice == \"3\":\n",
        "    nutritions[\"c\"] = nutritions[\"c\"] + 65\n",
        "  elif choice == \"+\":\n",
        "    calorie = nutritions[\"p\"] * 4 + nutritions[\"f\"] * 9 + nutritions[\"c\"] * 4\n",
        "    print(\"今天吃了\", nutritions[\"p\"], \"蛋白質\",\n",
        "          nutritions[\"f\"], \"脂肪\", nutritions[\"c\"], \"碳水化合物\")\n",
        "    print(\"熱量為\", calorie)\n",
        "    nutritions = {\n",
        "        \"p\": 0,\n",
        "        \"f\": 0,\n",
        "        \"c\": 0\n",
        "    }\n",
        "\n",
        "  elif choice == \"q\":\n",
        "    break"
      ],
      "metadata": {
        "colab": {
          "base_uri": "https://localhost:8080/"
        },
        "id": "jweo2-k5VexS",
        "outputId": "d14cc99b-c3d1-48d2-94d1-d8804c522f38"
      },
      "execution_count": 44,
      "outputs": [
        {
          "name": "stdout",
          "output_type": "stream",
          "text": [
            "p.Protein f.Fat c.Carbon 3.一碗飯 +.今天統計 q.離開迴圈c\n",
            "那你輸入幾克:23\n",
            "p f c 0 0 23\n",
            "p.Protein f.Fat c.Carbon 3.一碗飯 +.今天統計 q.離開迴圈+\n",
            "今天吃了 0 蛋白質 0 脂肪 23 碳水化合物\n",
            "熱量為 92\n",
            "p.Protein f.Fat c.Carbon 3.一碗飯 +.今天統計 q.離開迴圈q\n"
          ]
        }
      ]
    },
    {
      "cell_type": "code",
      "source": [
        "import random\n",
        "\n",
        "low, high = 0, 100\n",
        "ans = random.randint(low+1, high-1)\n",
        "\n",
        "while True:\n",
        "  print(\"請輸入\", low, \"-\", high, \":\")\n",
        "  guess = int(input())\n",
        "  if guess > low and guess < high:\n",
        "    if guess > ans:\n",
        "      print(\"猜大了\")\n",
        "      high = guess\n",
        "    elif guess < ans:\n",
        "      print(\"猜小了\")\n",
        "      low = guess\n",
        "    else:\n",
        "      print(\"猜對了\")\n",
        "      break\n",
        "  else:\n",
        "    print(\"請輸入範圍內的數字\")"
      ],
      "metadata": {
        "colab": {
          "base_uri": "https://localhost:8080/"
        },
        "id": "o8yhoh7HbDoy",
        "outputId": "a4f89dec-ebd2-423c-9dc1-994c76500150"
      },
      "execution_count": 31,
      "outputs": [
        {
          "output_type": "stream",
          "name": "stdout",
          "text": [
            "請輸入 0 - 100 :\n",
            "50\n",
            "猜大了\n",
            "請輸入 0 - 50 :\n",
            "99\n",
            "請輸入範圍內的數字\n",
            "請輸入 0 - 50 :\n",
            "25\n",
            "猜大了\n",
            "請輸入 0 - 25 :\n",
            "15\n",
            "猜小了\n",
            "請輸入 15 - 25 :\n",
            "17\n",
            "猜小了\n",
            "請輸入 17 - 25 :\n",
            "20\n",
            "猜小了\n",
            "請輸入 20 - 25 :\n",
            "23\n",
            "猜小了\n",
            "請輸入 23 - 25 :\n",
            "24\n",
            "猜對了\n"
          ]
        }
      ]
    },
    {
      "cell_type": "code",
      "source": [
        "import random\n",
        "\n",
        "low, high = 0, 100\n",
        "ans = random.randint(low+1, high-1)\n",
        "\n",
        "while True:\n",
        "  print(\"請輸入\", low, \"-\", high, \":\")\n",
        "  guess = int(input())\n",
        "  if guess <= low or guess >= high:\n",
        "    print(\"請輸入範圍內的數字\")\n",
        "  else:\n",
        "    if guess > ans:\n",
        "      print(\"猜大了\")\n",
        "      high = guess\n",
        "    elif guess < ans:\n",
        "      print(\"猜小了\")\n",
        "      low = guess\n",
        "    else:\n",
        "      print(\"猜對了\")\n",
        "      break"
      ],
      "metadata": {
        "colab": {
          "base_uri": "https://localhost:8080/"
        },
        "collapsed": true,
        "id": "gVPyoxgCfteR",
        "outputId": "30fbab3d-41cb-42c9-cf6d-bcb7fd017bc2"
      },
      "execution_count": 30,
      "outputs": [
        {
          "output_type": "stream",
          "name": "stdout",
          "text": [
            "請輸入 0 - 100 :\n",
            "50\n",
            "猜小了\n",
            "請輸入 50 - 100 :\n",
            "222\n",
            "請輸入範圍內的數字\n",
            "請輸入 50 - 100 :\n",
            "80\n",
            "猜大了\n",
            "請輸入 50 - 80 :\n",
            "70\n",
            "猜大了\n",
            "請輸入 50 - 70 :\n",
            "60\n",
            "猜小了\n",
            "請輸入 60 - 70 :\n",
            "65\n",
            "猜小了\n",
            "請輸入 65 - 70 :\n",
            "68\n",
            "猜小了\n",
            "請輸入 68 - 70 :\n",
            "69\n",
            "猜對了\n"
          ]
        }
      ]
    },
    {
      "cell_type": "code",
      "source": [
        "import random\n",
        "\n",
        "low, high = 0, 100\n",
        "ans = random.randint(low+1, high-1)\n",
        "\n",
        "while True:\n",
        "  while True:\n",
        "    print(\"請輸入\", low, \"-\", high, \":\")\n",
        "    guess = int(input())\n",
        "    if low < guess < high8:\n",
        "      break\n",
        "    else:\n",
        "      print(\"請輸入範圍內的數字\")\n",
        "  if guess > ans:\n",
        "    print(\"猜大了\")\n",
        "    high = guess\n",
        "  elif guess < ans:\n",
        "    print(\"猜小了\")\n",
        "    low = guess\n",
        "  else:\n",
        "    print(\"猜對了\")\n",
        "    break"
      ],
      "metadata": {
        "colab": {
          "base_uri": "https://localhost:8080/"
        },
        "id": "iJKcugBrgnoy",
        "outputId": "136914ff-86ec-4525-bb1b-62b13e707478"
      },
      "execution_count": 34,
      "outputs": [
        {
          "output_type": "stream",
          "name": "stdout",
          "text": [
            "請輸入 0 - 100 :\n",
            "50\n",
            "猜大了\n",
            "請輸入 0 - 50 :\n",
            "999\n",
            "請輸入範圍內的數字\n",
            "請輸入 0 - 50 :\n",
            "35\n",
            "猜大了\n",
            "請輸入 0 - 35 :\n",
            "13\n",
            "猜小了\n",
            "請輸入 13 - 35 :\n",
            "23\n",
            "猜大了\n",
            "請輸入 13 - 23 :\n",
            "20\n",
            "猜大了\n",
            "請輸入 13 - 20 :\n",
            "28\n",
            "請輸入範圍內的數字\n",
            "請輸入 13 - 20 :\n",
            "1\n",
            "請輸入範圍內的數字\n",
            "請輸入 13 - 20 :\n",
            "18\n",
            "猜大了\n",
            "請輸入 13 - 18 :\n",
            "15\n",
            "猜小了\n",
            "請輸入 15 - 18 :\n",
            "17\n",
            "猜大了\n",
            "請輸入 15 - 17 :\n",
            "16\n",
            "猜對了\n"
          ]
        }
      ]
    },
    {
      "cell_type": "code",
      "source": [
        "import random\n",
        "\n",
        "low, high = 0, 10000\n",
        "ans = random.randint(low+1, high-1)\n",
        "times = 0\n",
        "\n",
        "while True:\n",
        "  # guess always half low and high\n",
        "  guess = (low + high) // 2\n",
        "  times = times + 1\n",
        "  print(\"我猜\", guess)\n",
        "  if guess > ans:\n",
        "    print(\"猜大了\")\n",
        "    high = guess\n",
        "  elif guess < ans:\n",
        "    print(\"猜小了\")\n",
        "    low = guess\n",
        "  else:\n",
        "    print(\"猜對了!!! 猜了\", times, \"次\")\n",
        "    break"
      ],
      "metadata": {
        "colab": {
          "base_uri": "https://localhost:8080/"
        },
        "id": "_nYiIKo_igFD",
        "outputId": "95d396c1-5fa0-4a75-b8af-e4a0e9738f55"
      },
      "execution_count": 39,
      "outputs": [
        {
          "output_type": "stream",
          "name": "stdout",
          "text": [
            "我猜 5000\n",
            "猜大了\n",
            "我猜 2500\n",
            "猜小了\n",
            "我猜 3750\n",
            "猜大了\n",
            "我猜 3125\n",
            "猜小了\n",
            "我猜 3437\n",
            "猜大了\n",
            "我猜 3281\n",
            "猜小了\n",
            "我猜 3359\n",
            "猜大了\n",
            "我猜 3320\n",
            "猜大了\n",
            "我猜 3300\n",
            "猜小了\n",
            "我猜 3310\n",
            "猜小了\n",
            "我猜 3315\n",
            "猜小了\n",
            "我猜 3317\n",
            "猜小了\n",
            "我猜 3318\n",
            "猜對了!!! 猜了 13 次\n"
          ]
        }
      ]
    },
    {
      "cell_type": "markdown",
      "source": [
        "---\n",
        "if-else: 預防\n",
        "try-except: 事後處理\n",
        "\n",
        "try:\n",
        "  把有可能發生錯誤的幾行\n",
        "except 某個錯誤:\n",
        "  處理方式\n",
        "except 錯誤2\n",
        "  處理方式\n",
        "1. try相安無事: except不執行\n",
        "2. try裡發生錯誤: 中斷接下來的try\n",
        "  a.錯誤真的有except: 做except\n",
        "  b.錯誤沒有except: 一樣紅字"
      ],
      "metadata": {
        "id": "vA4efoJL_6Wa"
      }
    },
    {
      "cell_type": "code",
      "source": [
        "try:\n",
        "  n = int(input(\"aa\"))\n",
        "  print(\"輸入的數字是\", n)\n",
        "except ValueError:\n",
        "  print(\"無法轉換\")"
      ],
      "metadata": {
        "colab": {
          "base_uri": "https://localhost:8080/"
        },
        "id": "A6_kYGzgA3ti",
        "outputId": "a1bdf8de-1dae-41fe-e3ee-c8e087bbc31a"
      },
      "execution_count": 47,
      "outputs": [
        {
          "output_type": "stream",
          "name": "stdout",
          "text": [
            "aa12\n",
            "輸入的數字是 12\n"
          ]
        }
      ]
    },
    {
      "cell_type": "code",
      "source": [
        "import random\n",
        "\n",
        "low, high = 0, 100\n",
        "ans = random.randint(low+1, high-1)\n",
        "times = 0\n",
        "\n",
        "while True:\n",
        "  while True:\n",
        "    try:\n",
        "      print(\"請輸入\", low, \"-\", high, \":\")\n",
        "      guess = int(input())\n",
        "      if low < guess < high:\n",
        "        break\n",
        "      else:\n",
        "        print(\"請輸入範圍內的數字\")\n",
        "    except ValueError:\n",
        "      print(\"別輸入數字以外的東西\")\n",
        "\n",
        "  if guess > ans:\n",
        "    print(\"猜大了\")\n",
        "    high = guess\n",
        "  elif guess < ans:\n",
        "    print(\"猜小了\")\n",
        "    low = guess\n",
        "  else:\n",
        "    print(\"猜對了!!! 猜了\", times, \"次\")\n",
        "    break"
      ],
      "metadata": {
        "colab": {
          "base_uri": "https://localhost:8080/"
        },
        "id": "nJob406fBfS6",
        "outputId": "a13ef842-c9a0-49f2-9e53-6de8bfa5371c"
      },
      "execution_count": 49,
      "outputs": [
        {
          "output_type": "stream",
          "name": "stdout",
          "text": [
            "請輸入 0 - 100 :\n",
            "50\n",
            "猜大了\n",
            "請輸入 0 - 50 :\n",
            "999\n",
            "請輸入範圍內的數字\n",
            "請輸入 0 - 50 :\n",
            "30\n",
            "猜大了\n",
            "請輸入 0 - 30 :\n",
            "20\n",
            "猜大了\n",
            "請輸入 0 - 20 :\n",
            "y\n",
            "別輸入數字以外的東西\n",
            "請輸入 0 - 20 :\n",
            "10\n",
            "猜小了\n",
            "請輸入 10 - 20 :\n",
            "15\n",
            "猜大了\n",
            "請輸入 10 - 15 :\n",
            "13\n",
            "猜大了\n",
            "請輸入 10 - 13 :\n",
            "12\n",
            "猜大了\n",
            "請輸入 10 - 12 :\n",
            "11\n",
            "猜對了!!! 猜了 0 次\n"
          ]
        }
      ]
    }
  ]
}