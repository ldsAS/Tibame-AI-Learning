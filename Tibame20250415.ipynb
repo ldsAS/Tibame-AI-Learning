{
  "nbformat": 4,
  "nbformat_minor": 0,
  "metadata": {
    "colab": {
      "provenance": [],
      "authorship_tag": "ABX9TyODWnC/bL8pc6uOPRHyu7Tp",
      "include_colab_link": true
    },
    "kernelspec": {
      "name": "python3",
      "display_name": "Python 3"
    },
    "language_info": {
      "name": "python"
    }
  },
  "cells": [
    {
      "cell_type": "markdown",
      "metadata": {
        "id": "view-in-github",
        "colab_type": "text"
      },
      "source": [
        "<a href=\"https://colab.research.google.com/github/ldsAS/Tibame-AI-Learning/blob/main/Tibame20250415.ipynb\" target=\"_parent\"><img src=\"https://colab.research.google.com/assets/colab-badge.svg\" alt=\"Open In Colab\"/></a>"
      ]
    },
    {
      "cell_type": "code",
      "execution_count": 16,
      "metadata": {
        "colab": {
          "base_uri": "https://localhost:8080/"
        },
        "collapsed": true,
        "id": "hB1C_1y_7eUO",
        "outputId": "cda45dca-8cdb-4493-a4e9-3997d589c446"
      },
      "outputs": [
        {
          "output_type": "stream",
          "name": "stdout",
          "text": [
            "輸:(\n",
            "平手\n",
            "平手\n",
            "贏:)\n",
            "輸:(\n",
            "輸:(\n",
            "lsoe~\n"
          ]
        }
      ],
      "source": [
        "import random\n",
        "\n",
        "win, even, lose = 0, 0, 0\n",
        "trans = [\"輸:(\", \"平手\", \"贏:)\"]\n",
        "while (win < 3) and (lose < 3):\n",
        "  result = random.randint(-1, 1)\n",
        "  print(trans[result+1])\n",
        "  if result == -1:\n",
        "    lose = lose + 1\n",
        "  elif result == 0:\n",
        "    even = even + 1\n",
        "  elif result == 1:\n",
        "    win = win + 1\n",
        "\n",
        "if win > lose:\n",
        "  print(\"win~\")\n",
        "else:\n",
        "  print(\"lsoe~\")"
      ]
    },
    {
      "cell_type": "code",
      "source": [
        "import random\n",
        "\n",
        "win, even, lose = 0, 0, 0\n",
        "trans = [\"輸:(\", \"平手\", \"贏:)\"]\n",
        "while True:\n",
        "  result = random.randint(-1, 1)\n",
        "  print(trans[result+1])\n",
        "  if result == -1:\n",
        "    lose = lose + 1\n",
        "  elif result == 0:\n",
        "    even = even + 1\n",
        "  elif result == 1:\n",
        "    win = win + 1\n",
        "\n",
        "  if win == 3:\n",
        "    print(\"win~\")\n",
        "    break\n",
        "  elif lose == 3:\n",
        "    print(\"lsoe~\")\n",
        "    break"
      ],
      "metadata": {
        "colab": {
          "base_uri": "https://localhost:8080/"
        },
        "collapsed": true,
        "id": "Ib-eUHrRI6SH",
        "outputId": "7ce643eb-a74c-4e3d-f0d8-fef30b5f957f"
      },
      "execution_count": 17,
      "outputs": [
        {
          "output_type": "stream",
          "name": "stdout",
          "text": [
            "輸:(\n",
            "贏:)\n",
            "贏:)\n",
            "平手\n",
            "輸:(\n",
            "輸:(\n",
            "lsoe~\n"
          ]
        }
      ]
    },
    {
      "cell_type": "code",
      "source": [
        "a = 5\n",
        "b = 3\n",
        "print(\"先印出\", a, \"再印出\", b)\n",
        "print(f\"先印出{a} 再印出{b}\")"
      ],
      "metadata": {
        "colab": {
          "base_uri": "https://localhost:8080/"
        },
        "id": "jD808CStEk3P",
        "outputId": "b80a85de-222f-48ce-804b-5a5b6e737b4a"
      },
      "execution_count": 4,
      "outputs": [
        {
          "output_type": "stream",
          "name": "stdout",
          "text": [
            "先印出 5 再印出 3\n",
            "先印出5 再印出3\n"
          ]
        }
      ]
    }
  ]
}