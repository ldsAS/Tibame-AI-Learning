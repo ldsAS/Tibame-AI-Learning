{
  "nbformat": 4,
  "nbformat_minor": 0,
  "metadata": {
    "colab": {
      "provenance": [],
      "authorship_tag": "ABX9TyMWFc3Bj5Wrv2HK0UTWHTfU",
      "include_colab_link": true
    },
    "kernelspec": {
      "name": "python3",
      "display_name": "Python 3"
    },
    "language_info": {
      "name": "python"
    }
  },
  "cells": [
    {
      "cell_type": "markdown",
      "metadata": {
        "id": "view-in-github",
        "colab_type": "text"
      },
      "source": [
        "<a href=\"https://colab.research.google.com/github/ldsAS/Tibame-AI-Learning/blob/main/Tibame20250424.ipynb\" target=\"_parent\"><img src=\"https://colab.research.google.com/assets/colab-badge.svg\" alt=\"Open In Colab\"/></a>"
      ]
    },
    {
      "cell_type": "code",
      "source": [
        "import urllib.request as req\n",
        "import bs4 as bs\n",
        "import json\n",
        "\n",
        "url = \"https://www.ptt.cc/bbs/Beauty/M.1745216140.A.52E.html\"\n",
        "r = req.Request(url)\n",
        "r.add_header(\"User-Agent\", \"Mozilla/5.0 (Windows NT 10.0; Win64; x64) AppleWebKit/537.36 (KHTML, like Gecko) Chrome/10\")\n",
        "resp = req.urlopen(r)\n",
        "html = bs.BeautifulSoup(resp.read())\n",
        "\n",
        "# meta process\n",
        "metas = html.find_all(\"span\", {\"class\":\"article-meta-value\"})\n",
        "post_id = metas[0].text\n",
        "board_name = metas[1].text\n",
        "post_title = metas[2].text\n",
        "post_time = metas[3].text\n",
        "\n",
        "# push process\n",
        "push_list = []\n",
        "pushes = html.find_all(\"div\", {\"class\":\"push\"})\n",
        "for push in pushes:\n",
        "    push_meta = push.find_all(\"span\")\n",
        "    p_type = push_meta[0].text\n",
        "    if \"推\" in p_type:\n",
        "        p_type = 1\n",
        "    elif \"噓\" in p_type:\n",
        "        p_type = -1\n",
        "    else:\n",
        "        p_type = 0\n",
        "    p_id = push_meta[1].text\n",
        "    p_text = push_meta[2].text.replace(\": \", \"\")\n",
        "    p_ipanddate = push_meta[3].text.strip()\n",
        "    p_dict = {\n",
        "        \"id\":p_id,\n",
        "        \"type\":p_type,\n",
        "        \"text\":p_text,\n",
        "        \"ip/date\":p_ipanddate\n",
        "    }\n",
        "    push_list.append(p_dict)\n",
        "\n",
        "row= {\n",
        "    \"作者\":post_id,\n",
        "    \"標題\":post_title,\n",
        "    \"時間\":post_time,\n",
        "    \"看板\":board_name,\n",
        "    \"推噓文\":push_list\n",
        "}\n",
        "\n",
        "fn = url.split(\"/\")[-1].replace(\".html\", \".json\")\n",
        "with open(fn, \"w\", encoding=\"utf-8\") as f:\n",
        "    json.dump(row, f, ensure_ascii=False, indent=4)"
      ],
      "metadata": {
        "id": "_ehAeAe6jCw3"
      },
      "execution_count": null,
      "outputs": []
    },
    {
      "cell_type": "markdown",
      "source": [
        "```\n",
        "如果沒有class/id的時候\n",
        "\n",
        "1. 找他老爸(class/id)\n",
        "2. 自己寫了\n",
        "```"
      ],
      "metadata": {
        "id": "AlXro0F4aCZu"
      }
    },
    {
      "cell_type": "code",
      "source": [
        "import json\n",
        "import urllib.request as req\n",
        "import bs4 as bs\n",
        "\n",
        "url = \"https://www.ptt.cc/bbs/Beauty/M.1745412049.A.FD6.html\"\n",
        "r = req.Request(url)\n",
        "r.add_header(\"User-Agent\", \"Mozilla/5.0 (Windows NT 10.0; Win64; x64) AppleWebKit/537.36 (KHTML, like Gecko) Chrome/10\")\n",
        "resp = req.urlopen(r)\n",
        "html = bs.BeautifulSoup(resp.read())\n",
        "\n",
        "allow_subs = [\"jpg\", \"jpeg\", \"png\", \"gif\"]\n",
        "link_list = html.find_all(\"a\")\n",
        "for link in link_list:\n",
        "    link_href = link[\"href\"]\n",
        "    sub = link_href.split(\".\")[-1]\n",
        "    if sub.lower() in allow_subs:\n",
        "        print(link_href)"
      ],
      "metadata": {
        "colab": {
          "base_uri": "https://localhost:8080/"
        },
        "id": "5835kAQgYTxl",
        "outputId": "58671437-f4c3-4dd6-bb67-370b5eef2fda"
      },
      "execution_count": 8,
      "outputs": [
        {
          "output_type": "stream",
          "name": "stdout",
          "text": [
            "https://i.imgur.com/MVrVnoK.jpeg\n",
            "https://i.imgur.com/Sa7LKOr.jpeg\n",
            "https://i.imgur.com/fuEZqx1.jpeg\n",
            "https://i.imgur.com/ECNtYGJ.jpeg\n",
            "https://i.imgur.com/NyeADPM.jpeg\n",
            "https://i.imgur.com/7de5b8Y.jpeg\n",
            "https://i.imgur.com/2s66geB.jpeg\n",
            "https://i.imgur.com/ImUDLJg.jpeg\n",
            "https://i.imgur.com/49SZFS7.jpeg\n",
            "https://i.imgur.com/WdUrSRO.gif\n",
            "https://i.imgur.com/6si1tNk.gif\n",
            "https://i.imgur.com/WO0JGxV.gif\n",
            "https://i.imgur.com/XsGm3By.gif\n"
          ]
        }
      ]
    },
    {
      "cell_type": "code",
      "source": [
        "import urllib.request as req\n",
        "url = \"https://i.imgur.com/WdUrSRO.gif\"\n",
        "r = req.Request(url)\n",
        "r.add_header(\"User-Agent\", \"Mozilla/5.0 (Windows NT 10.0; Win64; x64) AppleWebKit/537.36 (KHTML, like Gecko) Chrome/10\")\n",
        "\n",
        "img = req.urlopen(r)\n",
        "# 儲存檔案\n",
        "# 以前(純文字): f = open(\"a.txt\", \"w\", encoding=\"utf-8\")\n",
        "# 如果不是純文字: f = open(\"\", \"wb\")\n",
        "f = open(\"xx.gif\", \"wb\")\n",
        "f.write(img.read())\n"
      ],
      "metadata": {
        "id": "2AFXdsPzcxq-"
      },
      "execution_count": null,
      "outputs": []
    },
    {
      "cell_type": "code",
      "source": [
        "import urllib.request as req\n",
        "url = \"https://i.imgur.com/WdUrSRO.gif\"\n",
        "r = req.Request(url)\n",
        "r.add_header(\"User-Agent\", \"Mozilla/5.0 (Windows NT 10.0; Win64; x64) AppleWebKit/537.36 (KHTML, like Gecko) Chrome/10\")\n",
        "\n",
        "img = req.urlopen(r)\n",
        "# 儲存檔案\n",
        "# 以前(純文字): f = open(\"a.txt\", \"w\", encoding=\"utf-8\")\n",
        "# 如果不是純文字: f = open(\"\", \"wb\")\n",
        "with open(\"xx.gif\", \"wb\") as f:\n",
        "# (高級寫法)\n",
        "    f.write(img.read())"
      ],
      "metadata": {
        "id": "jB7-Jktvefpv"
      },
      "execution_count": 11,
      "outputs": []
    }
  ]
}