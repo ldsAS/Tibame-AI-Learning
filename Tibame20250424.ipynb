{
  "nbformat": 4,
  "nbformat_minor": 0,
  "metadata": {
    "colab": {
      "provenance": [],
      "authorship_tag": "ABX9TyNfL6tdbFPEFml0RqdIV8R8",
      "include_colab_link": true
    },
    "kernelspec": {
      "name": "python3",
      "display_name": "Python 3"
    },
    "language_info": {
      "name": "python"
    }
  },
  "cells": [
    {
      "cell_type": "markdown",
      "metadata": {
        "id": "view-in-github",
        "colab_type": "text"
      },
      "source": [
        "<a href=\"https://colab.research.google.com/github/ldsAS/Tibame-AI-Learning/blob/main/Tibame20250424.ipynb\" target=\"_parent\"><img src=\"https://colab.research.google.com/assets/colab-badge.svg\" alt=\"Open In Colab\"/></a>"
      ]
    },
    {
      "cell_type": "code",
      "source": [
        "import urllib.request as req\n",
        "import bs4 as bs\n",
        "import json\n",
        "\n",
        "url = \"https://www.ptt.cc/bbs/Beauty/M.1745216140.A.52E.html\"\n",
        "r = req.Request(url)\n",
        "r.add_header(\"User-Agent\", \"Mozilla/5.0 (Windows NT 10.0; Win64; x64) AppleWebKit/537.36 (KHTML, like Gecko) Chrome/10\")\n",
        "resp = req.urlopen(r)\n",
        "html = bs.BeautifulSoup(resp.read())\n",
        "\n",
        "# meta process\n",
        "metas = html.find_all(\"span\", {\"class\":\"article-meta-value\"})\n",
        "post_id = metas[0].text\n",
        "board_name = metas[1].text\n",
        "post_title = metas[2].text\n",
        "post_time = metas[3].text\n",
        "\n",
        "# push process\n",
        "push_list = []\n",
        "pushes = html.find_all(\"div\", {\"class\":\"push\"})\n",
        "for push in pushes:\n",
        "    push_meta = push.find_all(\"span\")\n",
        "    p_type = push_meta[0].text\n",
        "    if \"推\" in p_type:\n",
        "        p_type = 1\n",
        "    elif \"噓\" in p_type:\n",
        "        p_type = -1\n",
        "    else:\n",
        "        p_type = 0\n",
        "    p_id = push_meta[1].text\n",
        "    p_text = push_meta[2].text.replace(\": \", \"\")\n",
        "    p_ipanddate = push_meta[3].text.strip()\n",
        "    p_dict = {\n",
        "        \"id\":p_id,\n",
        "        \"type\":p_type,\n",
        "        \"text\":p_text,\n",
        "        \"ip/date\":p_ipanddate\n",
        "    }\n",
        "    push_list.append(p_dict)\n",
        "\n",
        "row= {\n",
        "    \"作者\":post_id,\n",
        "    \"標題\":post_title,\n",
        "    \"時間\":post_time,\n",
        "    \"看板\":board_name,\n",
        "    \"推噓文\":push_list\n",
        "}\n",
        "\n",
        "fn = url.split(\"/\")[-1].replace(\".html\", \".json\")\n",
        "with open(fn, \"w\", encoding=\"utf-8\") as f:\n",
        "    json.dump(row, f, ensure_ascii=False, indent=4)"
      ],
      "metadata": {
        "id": "_ehAeAe6jCw3"
      },
      "execution_count": null,
      "outputs": []
    },
    {
      "cell_type": "markdown",
      "source": [
        "```\n",
        "如果沒有class/id的時候\n",
        "\n",
        "1. 找他老爸(class/id)\n",
        "2. 自己寫了\n",
        "```"
      ],
      "metadata": {
        "id": "AlXro0F4aCZu"
      }
    },
    {
      "cell_type": "code",
      "source": [
        "import os\n",
        "import json\n",
        "import urllib.request as req\n",
        "import bs4 as bs\n",
        "\n",
        "url = \"https://www.ptt.cc/bbs/Beauty/M.1745412049.A.FD6.html\"\n",
        "r = req.Request(url)\n",
        "r.add_header(\"User-Agent\", \"Mozilla/5.0 (Windows NT 10.0; Win64; x64) AppleWebKit/537.36 (KHTML, like Gecko) Chrome/10\")\n",
        "resp = req.urlopen(r)\n",
        "html = bs.BeautifulSoup(resp.read())\n",
        "\n",
        "allow_subs = [\"jpg\", \"jpeg\", \"png\", \"gif\"]\n",
        "link_list = html.find_all(\"a\")\n",
        "for link in link_list:\n",
        "    link_href = link[\"href\"]\n",
        "    sub = link_href.split(\".\")[-1]\n",
        "    if sub.lower() in allow_subs:\n",
        "        img_url = link_href\n",
        "        # 加上資料夾名字\n",
        "        fn = img_url.split(\"/\")[-1]\n",
        "\n",
        "        # save img\n",
        "        r = req.Request(img_url)\n",
        "        r.add_header(\"User-Agent\", \"Mozilla/5.0 (Windows NT 10.0; Win64; x64) AppleWebKit/537.36 (KHTML, like Gecko) Chrome/10\")\n",
        "\n",
        "        img = req.urlopen(r)\n",
        "        with open(fn, \"wb\") as f:\n",
        "            f.write(img.read())"
      ],
      "metadata": {
        "id": "5835kAQgYTxl"
      },
      "execution_count": 37,
      "outputs": []
    },
    {
      "cell_type": "code",
      "source": [
        "import urllib.request as req\n",
        "url = \"https://i.imgur.com/WdUrSRO.gif\"\n",
        "r = req.Request(url)\n",
        "r.add_header(\"User-Agent\", \"Mozilla/5.0 (Windows NT 10.0; Win64; x64) AppleWebKit/537.36 (KHTML, like Gecko) Chrome/10\")\n",
        "\n",
        "img = req.urlopen(r)\n",
        "# 儲存檔案\n",
        "# 以前(純文字): f = open(\"a.txt\", \"w\", encoding=\"utf-8\")\n",
        "# 如果不是純文字: f = open(\"\", \"wb\")\n",
        "f = open(\"xx.gif\", \"wb\")\n",
        "f.write(img.read())\n"
      ],
      "metadata": {
        "id": "2AFXdsPzcxq-"
      },
      "execution_count": null,
      "outputs": []
    },
    {
      "cell_type": "code",
      "source": [
        "import urllib.request as req\n",
        "url = \"https://i.imgur.com/WdUrSRO.gif\"\n",
        "r = req.Request(url)\n",
        "r.add_header(\"User-Agent\", \"Mozilla/5.0 (Windows NT 10.0; Win64; x64) AppleWebKit/537.36 (KHTML, like Gecko) Chrome/10\")\n",
        "\n",
        "img = req.urlopen(r)\n",
        "# 儲存檔案\n",
        "# 以前(純文字): f = open(\"a.txt\", \"w\", encoding=\"utf-8\")\n",
        "# 如果不是純文字: f = open(\"\", \"wb\")\n",
        "with open(\"xx.gif\", \"wb\") as f:\n",
        "# (高級寫法)\n",
        "    f.write(img.read())"
      ],
      "metadata": {
        "id": "jB7-Jktvefpv"
      },
      "execution_count": null,
      "outputs": []
    },
    {
      "cell_type": "code",
      "source": [
        "import os\n",
        "# 用程式開啟資料夾\n",
        "dn = \"test/test2\"\n",
        "fn = dn + \"/a.txt\"\n",
        "# 如果資料夾不存在，我們就創造起來\n",
        "if not os.path.exists(dn):\n",
        "    os.makedirs(dn)\n",
        "\n",
        "with open(fn, \"w\", encoding=\"utf-8\") as f:\n",
        "    f.write(\"adsfasdf\")\n"
      ],
      "metadata": {
        "id": "HhX_16A9lEO_"
      },
      "execution_count": null,
      "outputs": []
    },
    {
      "cell_type": "code",
      "source": [
        "print(\"a\\b\")\n",
        "print(r\"a\\b\")\n",
        "# 因為路徑在print時可能會因為斜線而有些跟預期不同的情況發生\n",
        "# 所以在最前方加r，或者用 / 來取名"
      ],
      "metadata": {
        "colab": {
          "base_uri": "https://localhost:8080/"
        },
        "id": "JxXJvzfOl1JQ",
        "outputId": "25f02236-808a-4274-9b40-dc6041596300"
      },
      "execution_count": null,
      "outputs": [
        {
          "output_type": "stream",
          "name": "stdout",
          "text": [
            "a\b\n",
            "a\\b\n"
          ]
        }
      ]
    },
    {
      "cell_type": "code",
      "source": [
        "import os\n",
        "import json\n",
        "import urllib.request as req\n",
        "import bs4 as bs\n",
        "\n",
        "url = \"https://www.ptt.cc/bbs/Beauty/M.1745412049.A.FD6.html\"\n",
        "r = req.Request(url)\n",
        "r.add_header(\"User-Agent\", \"Mozilla/5.0 (Windows NT 10.0; Win64; x64) AppleWebKit/537.36 (KHTML, like Gecko) Chrome/10\")\n",
        "resp = req.urlopen(r)\n",
        "html = bs.BeautifulSoup(resp.read())\n",
        "\n",
        "dn = url.split(\"/\")[-1]\n",
        "if not os.path.exists(dn):\n",
        "    os.makedirs(dn)\n",
        "\n",
        "allow_subs = [\"jpg\", \"jpeg\", \"png\", \"gif\"]\n",
        "link_list = html.find_all(\"a\")\n",
        "for link in link_list:\n",
        "    link_href = link[\"href\"]\n",
        "    sub = link_href.split(\".\")[-1]\n",
        "    if sub.lower() in allow_subs:\n",
        "        img_url = link_href\n",
        "        # 加上資料夾名字\n",
        "        fn = img_url.split(\"/\")[-1]\n",
        "        fn = \"{}/{}\".format(dn, fn)\n",
        "\n",
        "        # save img\n",
        "        r = req.Request(img_url)\n",
        "        r.add_header(\"User-Agent\", \"Mozilla/5.0 (Windows NT 10.0; Win64; x64) AppleWebKit/537.36 (KHTML, like Gecko) Chrome/10\")\n",
        "\n",
        "        img = req.urlopen(r)\n",
        "        with open(fn, \"wb\") as f:\n",
        "            f.write(img.read())"
      ],
      "metadata": {
        "id": "xUcBudyRpEOy"
      },
      "execution_count": 36,
      "outputs": []
    },
    {
      "cell_type": "code",
      "source": [
        "# 融合所有\n",
        "import os\n",
        "import json\n",
        "import urllib.request as req\n",
        "import bs4 as bs\n",
        "\n",
        "url = \"https://www.ptt.cc/bbs/Beauty/M.1745412049.A.FD6.html\"\n",
        "r = req.Request(url)\n",
        "r.add_header(\"User-Agent\", \"Mozilla/5.0 (Windows NT 10.0; Win64; x64) AppleWebKit/537.36 (KHTML, like Gecko) Chrome/10\")\n",
        "resp = req.urlopen(r)\n",
        "html = bs.BeautifulSoup(resp.read())\n",
        "\n",
        "# 用程式開啟資料夾\n",
        "dn = url.split(\"/\")[-1]\n",
        "# dn = os.path.join(\"drive/MyDrive\", dn)\n",
        "# 如果資料夾不存在，我們就創造起來\n",
        "if not os.path.exists(dn):\n",
        "    os.makedirs(dn)\n",
        "\n",
        "allow_subs = [\"jpg\", \"jpeg\", \"png\", \"gif\"]\n",
        "link_list = html.find_all(\"a\")\n",
        "for link in link_list:\n",
        "    link_href = link[\"href\"]\n",
        "    sub = link_href.split(\".\")[-1]\n",
        "    if sub.lower() in allow_subs:\n",
        "        img_url = link_href\n",
        "        # 加上資料夾名字\n",
        "        fn = img_url.split(\"/\")[-1]\n",
        "        # fn = dn + \"/\" + fn\n",
        "        fn = \"{}/{}\".format(dn, fn)\n",
        "\n",
        "        # save img\n",
        "        r = req.Request(img_url)\n",
        "        r.add_header(\"User-Agent\", \"Mozilla/5.0 (Windows NT 10.0; Win64; x64) AppleWebKit/537.36 (KHTML, like Gecko) Chrome/10\")\n",
        "\n",
        "        img = req.urlopen(r)\n",
        "        with open(fn, \"wb\") as f:\n",
        "            f.write(img.read())"
      ],
      "metadata": {
        "id": "kSovuK2gpdLu"
      },
      "execution_count": 2,
      "outputs": []
    },
    {
      "cell_type": "code",
      "source": [
        "# 如果你想打包下載(後面的東西換成你的資料夾名稱)\n",
        "!zip -r /content/file.zip /content/M.1745412049.A.FD6.html"
      ],
      "metadata": {
        "id": "xx9tjcROqEV6",
        "colab": {
          "base_uri": "https://localhost:8080/"
        },
        "outputId": "207fd58d-0cfd-47a0-c142-8c6508aaa35f"
      },
      "execution_count": 3,
      "outputs": [
        {
          "output_type": "stream",
          "name": "stdout",
          "text": [
            "  adding: content/M.1745412049.A.FD6.html/ (stored 0%)\n",
            "  adding: content/M.1745412049.A.FD6.html/2s66geB.jpeg (deflated 1%)\n",
            "  adding: content/M.1745412049.A.FD6.html/7de5b8Y.jpeg (deflated 1%)\n",
            "  adding: content/M.1745412049.A.FD6.html/NyeADPM.jpeg (deflated 0%)\n",
            "  adding: content/M.1745412049.A.FD6.html/WO0JGxV.gif (deflated 1%)\n",
            "  adding: content/M.1745412049.A.FD6.html/fuEZqx1.jpeg (deflated 1%)\n",
            "  adding: content/M.1745412049.A.FD6.html/MVrVnoK.jpeg (deflated 0%)\n",
            "  adding: content/M.1745412049.A.FD6.html/ImUDLJg.jpeg (deflated 1%)\n",
            "  adding: content/M.1745412049.A.FD6.html/6si1tNk.gif (deflated 1%)\n",
            "  adding: content/M.1745412049.A.FD6.html/XsGm3By.gif (deflated 0%)\n",
            "  adding: content/M.1745412049.A.FD6.html/Sa7LKOr.jpeg (deflated 1%)\n",
            "  adding: content/M.1745412049.A.FD6.html/49SZFS7.jpeg (deflated 0%)\n",
            "  adding: content/M.1745412049.A.FD6.html/WdUrSRO.gif (deflated 0%)\n",
            "  adding: content/M.1745412049.A.FD6.html/ECNtYGJ.jpeg (deflated 0%)\n"
          ]
        }
      ]
    },
    {
      "cell_type": "code",
      "source": [
        "# 融合所有\n",
        "import os\n",
        "import json\n",
        "import urllib.request as req\n",
        "import bs4 as bs\n",
        "\n",
        "def get_meta(url):\n",
        "    # url = \"https://www.ptt.cc/bbs/Beauty/M.1745216140.A.52E.html\"\n",
        "    r = req.Request(url)\n",
        "    r.add_header(\"User-Agent\", \"Mozilla/5.0 (Windows NT 10.0; Win64; x64) AppleWebKit/537.36 (KHTML, like Gecko) Chrome/10\")\n",
        "    resp = req.urlopen(r)\n",
        "    html = bs.BeautifulSoup(resp.read())\n",
        "\n",
        "    # meta process\n",
        "    metas = html.find_all(\"span\", {\"class\":\"article-meta-value\"})\n",
        "    post_id = metas[0].text\n",
        "    board_name = metas[1].text\n",
        "    post_title = metas[2].text\n",
        "    post_time = metas[3].text\n",
        "\n",
        "    # push process\n",
        "    push_list = []\n",
        "    pushes = html.find_all(\"div\", {\"class\":\"push\"})\n",
        "    for push in pushes:\n",
        "        push_meta = push.find_all(\"span\")\n",
        "        p_type = push_meta[0].text\n",
        "        if \"推\" in p_type:\n",
        "            p_type = 1\n",
        "        elif \"噓\" in p_type:\n",
        "            p_type = -1\n",
        "        else:\n",
        "            p_type = 0\n",
        "        p_id = push_meta[1].text\n",
        "        p_text = push_meta[2].text.replace(\": \", \"\")\n",
        "        p_ipanddate = push_meta[3].text.strip()\n",
        "        p_dict = {\n",
        "            \"id\":p_id,\n",
        "            \"type\":p_type,\n",
        "            \"text\":p_text,\n",
        "            \"ip/date\":p_ipanddate\n",
        "        }\n",
        "        push_list.append(p_dict)\n",
        "\n",
        "    row= {\n",
        "        \"作者\":post_id,\n",
        "        \"標題\":post_title,\n",
        "        \"時間\":post_time,\n",
        "        \"看板\":board_name,\n",
        "        \"推噓文\":push_list\n",
        "    }\n",
        "\n",
        "    fn = url.split(\"/\")[-1].replace(\".html\", \".json\")\n",
        "    with open(fn, \"w\", encoding=\"utf-8\") as f:\n",
        "        json.dump(row, f, ensure_ascii=False, indent=4)\n",
        "\n",
        "def get_img(url):\n",
        "    # url = \"https://www.ptt.cc/bbs/Beauty/M.1745412049.A.FD6.html\"\n",
        "    r = req.Request(url)\n",
        "    r.add_header(\"User-Agent\", \"Mozilla/5.0 (Windows NT 10.0; Win64; x64) AppleWebKit/537.36 (KHTML, like Gecko) Chrome/10\")\n",
        "    resp = req.urlopen(r)\n",
        "    html = bs.BeautifulSoup(resp.read())\n",
        "\n",
        "    # 用程式開啟資料夾\n",
        "    dn = \"PTT\" + \" /\" + url.split(\"/\")[-1]\n",
        "    # dn = os.path.join(\"drive/MyDrive\", dn)\n",
        "    # 如果資料夾不存在，我們就創造起來\n",
        "    if not os.path.exists(dn):\n",
        "        os.makedirs(dn)\n",
        "\n",
        "    allow_subs = [\"jpg\", \"jpeg\", \"png\", \"gif\"]\n",
        "    link_list = html.find_all(\"a\")\n",
        "    for link in link_list:\n",
        "        link_href = link[\"href\"]\n",
        "        sub = link_href.split(\".\")[-1]\n",
        "        if sub.lower() in allow_subs:\n",
        "            img_url = link_href\n",
        "            # 加上資料夾名字\n",
        "            fn = img_url.split(\"/\")[-1]\n",
        "            # fn = dn + \"/\" + fn\n",
        "            fn = \"{}/{}\".format(dn, fn)\n",
        "\n",
        "            # save img\n",
        "            r = req.Request(img_url)\n",
        "            r.add_header(\"User-Agent\", \"Mozilla/5.0 (Windows NT 10.0; Win64; x64) AppleWebKit/537.36 (KHTML, like Gecko) Chrome/10\")\n",
        "\n",
        "            img = req.urlopen(r)\n",
        "            with open(fn, \"wb\") as f:\n",
        "                f.write(img.read())"
      ],
      "metadata": {
        "id": "5ASw-oM7u1ng"
      },
      "execution_count": 11,
      "outputs": []
    },
    {
      "cell_type": "code",
      "source": [
        "# 復習函式定義\n",
        "# 參數: 參數名稱\n",
        "# 回傳值: 沒有寫return 就相當於 return None\n",
        "def add(n1, n2, d=1):\n",
        "    n3 = round(n1 + n2, d)\n",
        "    return n3\n",
        "\n",
        "print(add(3.11111, 5.22, 3))\n",
        "print(add(3.111, 1234.123))"
      ],
      "metadata": {
        "colab": {
          "base_uri": "https://localhost:8080/"
        },
        "id": "hlrN7DAUvBU4",
        "outputId": "80a947e6-03d0-4a2b-f23b-737f3432bc5f"
      },
      "execution_count": 35,
      "outputs": [
        {
          "output_type": "stream",
          "name": "stdout",
          "text": [
            "8.331\n",
            "1237.2\n"
          ]
        }
      ]
    },
    {
      "cell_type": "code",
      "source": [
        "url = \"https://www.ptt.cc/bbs/Beauty/M.1745459939.A.DB5.html\"\n",
        "get_img(url)\n",
        "get_meta(url)"
      ],
      "metadata": {
        "id": "_9g2Vbr-zE03"
      },
      "execution_count": 12,
      "outputs": []
    },
    {
      "cell_type": "code",
      "source": [
        "import urllib.request as req\n",
        "import bs4 as bs\n",
        "\n",
        "url = \"https://www.ptt.cc/bbs/Beauty/index4003.html\"\n",
        "r = req.Request(url)\n",
        "r.add_header(\"User-Agent\", \"Mozilla/5.0 (Windows NT 10.0; Win64; x64) AppleWebKit/537.36 (KHTML, like Gecko) Chrome/10\")\n",
        "resp = req.urlopen(r)\n",
        "html = bs.BeautifulSoup(resp.read())\n",
        "\n",
        "post_list = html.find_all(\"div\", {\"class\":\"title\"})\n",
        "for post in post_list:\n",
        "    post_link = post.find(\"a\")\n",
        "    if not post_link == None:\n",
        "        post_url =\"https://www.ptt.cc\" + post_link[\"href\"]\n",
        "        get_img(post_url)\n",
        "        get_meta(post_url)\n"
      ],
      "metadata": {
        "id": "0XEkVCqE0Ju3"
      },
      "execution_count": 14,
      "outputs": []
    }
  ]
}