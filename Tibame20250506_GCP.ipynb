{
  "nbformat": 4,
  "nbformat_minor": 0,
  "metadata": {
    "colab": {
      "provenance": [],
      "authorship_tag": "ABX9TyOhLC61i0TVm0jZkDomEQda",
      "include_colab_link": true
    },
    "kernelspec": {
      "name": "python3",
      "display_name": "Python 3"
    },
    "language_info": {
      "name": "python"
    }
  },
  "cells": [
    {
      "cell_type": "markdown",
      "metadata": {
        "id": "view-in-github",
        "colab_type": "text"
      },
      "source": [
        "<a href=\"https://colab.research.google.com/github/ldsAS/Tibame-AI-Learning/blob/main/Tibame20250506_GCP.ipynb\" target=\"_parent\"><img src=\"https://colab.research.google.com/assets/colab-badge.svg\" alt=\"Open In Colab\"/></a>"
      ]
    },
    {
      "cell_type": "markdown",
      "source": [
        "```\n",
        "Oscar講師的Hackmd\n",
        "https://hackmd.io/@OscarTAI/ryeA08Lxgg\n",
        "```"
      ],
      "metadata": {
        "id": "ST6dR6T4np92"
      }
    },
    {
      "cell_type": "code",
      "execution_count": null,
      "metadata": {
        "id": "81B_u1r0nikB"
      },
      "outputs": [],
      "source": [
        "npm http功能\n",
        "\n",
        "確認APT更新檔\n",
        "sudo apt update\n",
        "\n",
        "APT更新操作\n",
        "sudo apt upgrade -y\n",
        "\n",
        "安裝npm\n",
        "sudo apt install  npm -y\n",
        "\n",
        "建立web資料夾\n",
        "mkdir web\n",
        "\n",
        "切換web資料夾\n",
        "cd web\n",
        "\n",
        "建立index.html\n",
        "touch index.html\n",
        "\n",
        "編輯index.html\n",
        "vi index.html\n",
        "\n",
        "設定html code\n",
        "<!DOCTYPE html>\n",
        "<html lang=\"en\">\n",
        "<head>\n",
        "    <meta charset=\"UTF-8\">\n",
        "    <meta name=\"viewport\" content=\"width=device-width, initial-scale=1.0\">\n",
        "    <title>Hello Oscar</title>\n",
        "</head>\n",
        "<body>\n",
        "    <h1>Hello, Oscar</h1>\n",
        "</body>\n",
        "</html>\n",
        "\n",
        "\n",
        "按ESC-> :wq\n",
        "\n",
        "啟用http-server\n",
        "npx http-server\n",
        "\n",
        "\n",
        "新增防火牆規則\n"
      ]
    },
    {
      "cell_type": "markdown",
      "source": [
        "```\n",
        "[ 清理資源 ]\n",
        "\n",
        "要關閉專案的話，務必至「帳單」>>關閉記費\n",
        "\n",
        "主要的三個步驟：\n",
        "1.帳單->右方三點->停用計費功能\n",
        "2.首頁->資訊主頁->前往專案設定->關閉專案\n",
        "3.管理資源->確定計費欄位為空->右方三點->刪除\n",
        "\n",
        "```\n"
      ],
      "metadata": {
        "id": "UWuxCGrgu59b"
      }
    },
    {
      "cell_type": "code",
      "source": [],
      "metadata": {
        "id": "-oVck0U2OYoH"
      },
      "execution_count": null,
      "outputs": []
    }
  ]
}