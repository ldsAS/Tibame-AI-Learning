{
  "cells": [
    {
      "cell_type": "markdown",
      "metadata": {
        "id": "view-in-github",
        "colab_type": "text"
      },
      "source": [
        "<a href=\"https://colab.research.google.com/github/ldsAS/Tibame-AI-Learning/blob/main/Tibame0609_Recursive_feature_elimination_(RFE).ipynb\" target=\"_parent\"><img src=\"https://colab.research.google.com/assets/colab-badge.svg\" alt=\"Open In Colab\"/></a>"
      ]
    },
    {
      "cell_type": "markdown",
      "id": "04f759c9-4d40-4dd1-9be7-685c0f0ca080",
      "metadata": {
        "id": "04f759c9-4d40-4dd1-9be7-685c0f0ca080"
      },
      "source": [
        "# Recursive Feature Elimination (RFE) 與 Stepwise Selection 的比較\n",
        "**Recursive Feature Elimination (RFE)** 和 **Stepwise Selection**（逐步選擇）方法在某些方面有相似之處，因為它們都用於選擇最合適的特徵，但它們的工作方式和具體實現有所不同。\n",
        "\n",
        "## 主要區別：\n",
        "1. **原理與過程**：\n",
        "   - **Stepwise Selection（逐步選擇）**：\n",
        "     - 基於統計模型的顯著性進行特徵選擇。\n",
        "     - 包括：\n",
        "       - **Forward Selection（前向選擇）**：從無變數開始，逐步添加最顯著的變數。\n",
        "       - **Backward Elimination（後向刪除）**：從所有變數開始，逐步刪除不顯著的變數。\n",
        "       - **Bidirectional Elimination（雙向刪除）**：結合前向選擇和後向刪除的過程。\n",
        "\n",
        "   - **Recursive Feature Elimination (RFE)（遞歸特徵消除）**：\n",
        "     - 基於模型的性能進行特徵選擇。\n",
        "     - 步驟：\n",
        "       1. 訓練模型並計算每個特徵的重要性（例如，回歸模型的係數或樹模型中的特徵重要性）。\n",
        "       2. 遞歸地刪除最不重要的特徵，並再次訓練模型，直到選擇的特徵數量達到預定的目標。\n",
        "\n",
        "2. **特徵選擇的方式**：\n",
        "   - **Stepwise Selection** 依賴統計顯著性（例如 p 值）來選擇變數。\n",
        "   - **RFE** 基於模型訓練後的特徵重要性來選擇變數。\n",
        "\n",
        "3. **計算效率**：\n",
        "   - **Stepwise Selection** 需要對每個步驟進行模型擬合，對於大量變數時可能會非常耗時。\n",
        "   - **RFE** 通常基於特徵的重要性進行選擇，相對較為直接。\n",
        "\n",
        "## 主要相似處：\n",
        "- 兩者都是特徵選擇方法，旨在選擇對模型預測能力影響最大的變數。\n",
        "- 都是逐步的過程，通常通過多次迭代來選擇最優的特徵集合。\n",
        "\n",
        "## 總結：\n",
        "雖然 **RFE** 和 **Stepwise Selection** 都是特徵選擇方法，並且都可以用於回歸模型中，但它們的選擇原理不同。**Stepwise** 方法依賴統計顯著性，而 **RFE** 則依賴模型的特徵重要性。因此，它們在處理特徵選擇問題時使用了不同的策略。\n"
      ]
    },
    {
      "cell_type": "code",
      "execution_count": null,
      "id": "cd10bc35",
      "metadata": {
        "id": "cd10bc35"
      },
      "outputs": [],
      "source": [
        "import numpy as np\n",
        "import pandas as pd"
      ]
    },
    {
      "cell_type": "code",
      "execution_count": null,
      "id": "354542ad",
      "metadata": {
        "id": "354542ad",
        "outputId": "6026f02f-5bc7-46dd-ec07-8d5fdf40793d"
      },
      "outputs": [
        {
          "data": {
            "text/html": [
              "<div>\n",
              "<style scoped>\n",
              "    .dataframe tbody tr th:only-of-type {\n",
              "        vertical-align: middle;\n",
              "    }\n",
              "\n",
              "    .dataframe tbody tr th {\n",
              "        vertical-align: top;\n",
              "    }\n",
              "\n",
              "    .dataframe thead th {\n",
              "        text-align: right;\n",
              "    }\n",
              "</style>\n",
              "<table border=\"1\" class=\"dataframe\">\n",
              "  <thead>\n",
              "    <tr style=\"text-align: right;\">\n",
              "      <th></th>\n",
              "      <th>Id</th>\n",
              "      <th>SepalLengthCm</th>\n",
              "      <th>SepalWidthCm</th>\n",
              "      <th>PetalLengthCm</th>\n",
              "      <th>PetalWidthCm</th>\n",
              "      <th>Species</th>\n",
              "    </tr>\n",
              "  </thead>\n",
              "  <tbody>\n",
              "    <tr>\n",
              "      <th>0</th>\n",
              "      <td>1</td>\n",
              "      <td>5.1</td>\n",
              "      <td>3.5</td>\n",
              "      <td>1.4</td>\n",
              "      <td>0.2</td>\n",
              "      <td>Iris-setosa</td>\n",
              "    </tr>\n",
              "    <tr>\n",
              "      <th>1</th>\n",
              "      <td>2</td>\n",
              "      <td>4.9</td>\n",
              "      <td>3.0</td>\n",
              "      <td>1.4</td>\n",
              "      <td>0.2</td>\n",
              "      <td>Iris-setosa</td>\n",
              "    </tr>\n",
              "    <tr>\n",
              "      <th>2</th>\n",
              "      <td>3</td>\n",
              "      <td>4.7</td>\n",
              "      <td>3.2</td>\n",
              "      <td>1.3</td>\n",
              "      <td>0.2</td>\n",
              "      <td>Iris-setosa</td>\n",
              "    </tr>\n",
              "    <tr>\n",
              "      <th>3</th>\n",
              "      <td>4</td>\n",
              "      <td>4.6</td>\n",
              "      <td>3.1</td>\n",
              "      <td>1.5</td>\n",
              "      <td>0.2</td>\n",
              "      <td>Iris-setosa</td>\n",
              "    </tr>\n",
              "    <tr>\n",
              "      <th>4</th>\n",
              "      <td>5</td>\n",
              "      <td>5.0</td>\n",
              "      <td>3.6</td>\n",
              "      <td>1.4</td>\n",
              "      <td>0.2</td>\n",
              "      <td>Iris-setosa</td>\n",
              "    </tr>\n",
              "  </tbody>\n",
              "</table>\n",
              "</div>"
            ],
            "text/plain": [
              "   Id  SepalLengthCm  SepalWidthCm  PetalLengthCm  PetalWidthCm      Species\n",
              "0   1            5.1           3.5            1.4           0.2  Iris-setosa\n",
              "1   2            4.9           3.0            1.4           0.2  Iris-setosa\n",
              "2   3            4.7           3.2            1.3           0.2  Iris-setosa\n",
              "3   4            4.6           3.1            1.5           0.2  Iris-setosa\n",
              "4   5            5.0           3.6            1.4           0.2  Iris-setosa"
            ]
          },
          "execution_count": 3,
          "metadata": {},
          "output_type": "execute_result"
        }
      ],
      "source": [
        "data = pd.read_csv(\"../data/Iris.csv\")\n",
        "data.head()"
      ]
    },
    {
      "cell_type": "code",
      "execution_count": null,
      "id": "b031427a",
      "metadata": {
        "id": "b031427a",
        "outputId": "8ac31323-cad1-488b-f607-ecdb2a38a567"
      },
      "outputs": [
        {
          "data": {
            "text/plain": [
              "Index(['Id', 'SepalLengthCm', 'SepalWidthCm', 'PetalLengthCm', 'PetalWidthCm',\n",
              "       'Species'],\n",
              "      dtype='object')"
            ]
          },
          "execution_count": 4,
          "metadata": {},
          "output_type": "execute_result"
        }
      ],
      "source": [
        "data.columns"
      ]
    },
    {
      "cell_type": "code",
      "execution_count": null,
      "id": "7555c9a6",
      "metadata": {
        "id": "7555c9a6"
      },
      "outputs": [],
      "source": [
        "x = data[['SepalLengthCm', 'SepalWidthCm', 'PetalLengthCm', 'PetalWidthCm']]\n",
        "y = data['Species']"
      ]
    },
    {
      "cell_type": "code",
      "execution_count": null,
      "id": "852b3cfb",
      "metadata": {
        "id": "852b3cfb"
      },
      "outputs": [],
      "source": [
        "from sklearn.feature_selection import RFE\n",
        "from sklearn.svm import SVC\n",
        "estimator = SVC(kernel=\"linear\")\n",
        "selector = RFE(estimator, n_features_to_select=1)\n",
        "selector = selector.fit(x, y)"
      ]
    },
    {
      "cell_type": "code",
      "execution_count": null,
      "id": "193deda8",
      "metadata": {
        "id": "193deda8",
        "outputId": "c97726d3-0758-40f8-c00d-be6f989adb0f"
      },
      "outputs": [
        {
          "data": {
            "text/plain": [
              "array([False, False,  True, False])"
            ]
          },
          "execution_count": 7,
          "metadata": {},
          "output_type": "execute_result"
        }
      ],
      "source": [
        "# 那些欄位被選擇\n",
        "selector.support_"
      ]
    },
    {
      "cell_type": "code",
      "execution_count": null,
      "id": "1fe9c75c",
      "metadata": {
        "id": "1fe9c75c",
        "outputId": "9e184793-1b92-48b4-8994-b68a0e402853"
      },
      "outputs": [
        {
          "data": {
            "text/plain": [
              "array([4, 3, 1, 2])"
            ]
          },
          "execution_count": 8,
          "metadata": {},
          "output_type": "execute_result"
        }
      ],
      "source": [
        "# 欄位排除的順序\n",
        "selector.ranking_"
      ]
    },
    {
      "cell_type": "markdown",
      "id": "bb071b33",
      "metadata": {
        "id": "bb071b33"
      },
      "source": [
        "# 交叉驗證(CV) 版的 RFE"
      ]
    },
    {
      "cell_type": "code",
      "execution_count": null,
      "id": "3703f5c4",
      "metadata": {
        "id": "3703f5c4",
        "outputId": "cb36e19e-0977-4e73-c188-588fe2aacda9"
      },
      "outputs": [
        {
          "data": {
            "text/plain": [
              "array(['SepalLengthCm', 'SepalWidthCm', 'PetalLengthCm', 'PetalWidthCm'],\n",
              "      dtype=object)"
            ]
          },
          "execution_count": 32,
          "metadata": {},
          "output_type": "execute_result"
        }
      ],
      "source": [
        "from sklearn.feature_selection import RFECV\n",
        "# from sklearn.svm import SVC\n",
        "# estimator = SVC(kernel=\"linear\")\n",
        "from sklearn.tree import DecisionTreeClassifier\n",
        "estimator = DecisionTreeClassifier()\n",
        "selector = RFECV(estimator, min_features_to_select=1, cv=5)\n",
        "selector = selector.fit(x, y)\n",
        "\n",
        "selector.feature_names_in_"
      ]
    },
    {
      "cell_type": "code",
      "execution_count": null,
      "id": "d1de2bbf",
      "metadata": {
        "id": "d1de2bbf",
        "outputId": "78d9ac0d-d79b-4d3f-b027-5dc23756563e"
      },
      "outputs": [
        {
          "data": {
            "text/plain": [
              "array([False, False,  True,  True])"
            ]
          },
          "execution_count": 33,
          "metadata": {},
          "output_type": "execute_result"
        }
      ],
      "source": [
        "selector.support_"
      ]
    },
    {
      "cell_type": "code",
      "execution_count": null,
      "id": "699136d2",
      "metadata": {
        "id": "699136d2",
        "outputId": "c0a35d8c-9ea1-4f4a-8fd5-a7f4bc2add4f"
      },
      "outputs": [
        {
          "data": {
            "text/plain": [
              "array([3, 2, 1, 1])"
            ]
          },
          "execution_count": 34,
          "metadata": {},
          "output_type": "execute_result"
        }
      ],
      "source": [
        "selector.ranking_"
      ]
    },
    {
      "cell_type": "markdown",
      "id": "13c494fc",
      "metadata": {
        "id": "13c494fc"
      },
      "source": [
        "### RFECV會找尋最佳的欄位組合，因此不一定會收斂到min_features_to_select的數量"
      ]
    },
    {
      "cell_type": "markdown",
      "id": "d7aa304a",
      "metadata": {
        "id": "d7aa304a"
      },
      "source": [
        "# 效果測試"
      ]
    },
    {
      "cell_type": "code",
      "execution_count": null,
      "id": "eaaa5ad9",
      "metadata": {
        "id": "eaaa5ad9",
        "outputId": "92d987be-788b-4b4e-aa51-f24c22841654"
      },
      "outputs": [
        {
          "data": {
            "text/html": [
              "<div>\n",
              "<style scoped>\n",
              "    .dataframe tbody tr th:only-of-type {\n",
              "        vertical-align: middle;\n",
              "    }\n",
              "\n",
              "    .dataframe tbody tr th {\n",
              "        vertical-align: top;\n",
              "    }\n",
              "\n",
              "    .dataframe thead th {\n",
              "        text-align: right;\n",
              "    }\n",
              "</style>\n",
              "<table border=\"1\" class=\"dataframe\">\n",
              "  <thead>\n",
              "    <tr style=\"text-align: right;\">\n",
              "      <th></th>\n",
              "      <th>age</th>\n",
              "      <th>sex</th>\n",
              "      <th>cp</th>\n",
              "      <th>trestbps</th>\n",
              "      <th>chol</th>\n",
              "      <th>fbs</th>\n",
              "      <th>restecg</th>\n",
              "      <th>thalach</th>\n",
              "      <th>exang</th>\n",
              "      <th>oldpeak</th>\n",
              "      <th>slope</th>\n",
              "      <th>ca</th>\n",
              "      <th>thal</th>\n",
              "      <th>target</th>\n",
              "    </tr>\n",
              "  </thead>\n",
              "  <tbody>\n",
              "    <tr>\n",
              "      <th>0</th>\n",
              "      <td>63</td>\n",
              "      <td>1</td>\n",
              "      <td>3</td>\n",
              "      <td>145</td>\n",
              "      <td>233</td>\n",
              "      <td>1</td>\n",
              "      <td>0</td>\n",
              "      <td>150</td>\n",
              "      <td>0</td>\n",
              "      <td>2.3</td>\n",
              "      <td>0</td>\n",
              "      <td>0</td>\n",
              "      <td>1</td>\n",
              "      <td>1</td>\n",
              "    </tr>\n",
              "    <tr>\n",
              "      <th>1</th>\n",
              "      <td>37</td>\n",
              "      <td>1</td>\n",
              "      <td>2</td>\n",
              "      <td>130</td>\n",
              "      <td>250</td>\n",
              "      <td>0</td>\n",
              "      <td>1</td>\n",
              "      <td>187</td>\n",
              "      <td>0</td>\n",
              "      <td>3.5</td>\n",
              "      <td>0</td>\n",
              "      <td>0</td>\n",
              "      <td>2</td>\n",
              "      <td>1</td>\n",
              "    </tr>\n",
              "    <tr>\n",
              "      <th>2</th>\n",
              "      <td>41</td>\n",
              "      <td>0</td>\n",
              "      <td>1</td>\n",
              "      <td>130</td>\n",
              "      <td>204</td>\n",
              "      <td>0</td>\n",
              "      <td>0</td>\n",
              "      <td>172</td>\n",
              "      <td>0</td>\n",
              "      <td>1.4</td>\n",
              "      <td>2</td>\n",
              "      <td>0</td>\n",
              "      <td>2</td>\n",
              "      <td>1</td>\n",
              "    </tr>\n",
              "    <tr>\n",
              "      <th>3</th>\n",
              "      <td>56</td>\n",
              "      <td>1</td>\n",
              "      <td>1</td>\n",
              "      <td>120</td>\n",
              "      <td>236</td>\n",
              "      <td>0</td>\n",
              "      <td>1</td>\n",
              "      <td>178</td>\n",
              "      <td>0</td>\n",
              "      <td>0.8</td>\n",
              "      <td>2</td>\n",
              "      <td>0</td>\n",
              "      <td>2</td>\n",
              "      <td>1</td>\n",
              "    </tr>\n",
              "    <tr>\n",
              "      <th>4</th>\n",
              "      <td>57</td>\n",
              "      <td>0</td>\n",
              "      <td>0</td>\n",
              "      <td>120</td>\n",
              "      <td>354</td>\n",
              "      <td>0</td>\n",
              "      <td>1</td>\n",
              "      <td>163</td>\n",
              "      <td>1</td>\n",
              "      <td>0.6</td>\n",
              "      <td>2</td>\n",
              "      <td>0</td>\n",
              "      <td>2</td>\n",
              "      <td>1</td>\n",
              "    </tr>\n",
              "  </tbody>\n",
              "</table>\n",
              "</div>"
            ],
            "text/plain": [
              "   age  sex  cp  trestbps  chol  fbs  restecg  thalach  exang  oldpeak  slope  \\\n",
              "0   63    1   3       145   233    1        0      150      0      2.3      0   \n",
              "1   37    1   2       130   250    0        1      187      0      3.5      0   \n",
              "2   41    0   1       130   204    0        0      172      0      1.4      2   \n",
              "3   56    1   1       120   236    0        1      178      0      0.8      2   \n",
              "4   57    0   0       120   354    0        1      163      1      0.6      2   \n",
              "\n",
              "   ca  thal  target  \n",
              "0   0     1       1  \n",
              "1   0     2       1  \n",
              "2   0     2       1  \n",
              "3   0     2       1  \n",
              "4   0     2       1  "
            ]
          },
          "execution_count": 43,
          "metadata": {},
          "output_type": "execute_result"
        }
      ],
      "source": [
        "import numpy as np\n",
        "import pandas as pd\n",
        "data = pd.read_csv(\"../data/heart.csv\")\n",
        "data.head()"
      ]
    },
    {
      "cell_type": "code",
      "execution_count": null,
      "id": "654dc5ac",
      "metadata": {
        "id": "654dc5ac",
        "outputId": "2b9b6c90-8f3b-4218-ffe1-b9a1c740bb93"
      },
      "outputs": [
        {
          "data": {
            "text/plain": [
              "Index(['age', 'sex', 'cp', 'trestbps', 'chol', 'fbs', 'restecg', 'thalach',\n",
              "       'exang', 'oldpeak', 'slope', 'ca', 'thal', 'target'],\n",
              "      dtype='object')"
            ]
          },
          "execution_count": 36,
          "metadata": {},
          "output_type": "execute_result"
        }
      ],
      "source": [
        "data.columns"
      ]
    },
    {
      "cell_type": "code",
      "execution_count": null,
      "id": "d9298894",
      "metadata": {
        "id": "d9298894"
      },
      "outputs": [],
      "source": [
        "x = data[['age', 'sex', 'cp', 'trestbps', 'chol', 'fbs', 'restecg', 'thalach',\n",
        "       'exang', 'oldpeak', 'slope', 'ca', 'thal']]\n",
        "y = data['target']"
      ]
    },
    {
      "cell_type": "markdown",
      "id": "7f058702",
      "metadata": {
        "id": "7f058702"
      },
      "source": [
        "## 不使用RFE"
      ]
    },
    {
      "cell_type": "code",
      "execution_count": null,
      "id": "6d5b0519",
      "metadata": {
        "id": "6d5b0519",
        "outputId": "7aa20a74-78ac-498d-f42d-6e639fe62792"
      },
      "outputs": [
        {
          "data": {
            "text/plain": [
              "np.float64(0.7260726072607261)"
            ]
          },
          "execution_count": 44,
          "metadata": {},
          "output_type": "execute_result"
        }
      ],
      "source": [
        "from sklearn.model_selection import cross_val_score\n",
        "\n",
        "# from sklearn.svm import SVC\n",
        "# estimator = SVC(kernel=\"linear\")\n",
        "\n",
        "from sklearn.tree import DecisionTreeClassifier\n",
        "estimator = DecisionTreeClassifier()\n",
        "\n",
        "cross_val_score(estimator, x, y, cv=3).mean()"
      ]
    },
    {
      "cell_type": "markdown",
      "id": "bfb3d004",
      "metadata": {
        "id": "bfb3d004"
      },
      "source": [
        "## 使用RFECV"
      ]
    },
    {
      "cell_type": "code",
      "execution_count": null,
      "id": "11d3e9bd",
      "metadata": {
        "id": "11d3e9bd",
        "outputId": "d0fb1434-ddea-4f64-e1aa-29937287530e"
      },
      "outputs": [
        {
          "data": {
            "text/plain": [
              "{'mean_test_score': array([0.67326733, 0.69636964, 0.70627063, 0.72277228, 0.72937294,\n",
              "        0.72277228, 0.71617162, 0.72607261, 0.7359736 ]),\n",
              " 'std_test_score': array([0.02800423, 0.03365689, 0.02598682, 0.03704611, 0.04596828,\n",
              "        0.0323365 , 0.03645334, 0.03645334, 0.0406892 ]),\n",
              " 'split0_test_score': array([0.65346535, 0.74257426, 0.74257426, 0.77227723, 0.79207921,\n",
              "        0.76237624, 0.76237624, 0.77227723, 0.78217822]),\n",
              " 'split1_test_score': array([0.71287129, 0.68316832, 0.68316832, 0.71287129, 0.71287129,\n",
              "        0.72277228, 0.71287129, 0.72277228, 0.74257426]),\n",
              " 'split2_test_score': array([0.65346535, 0.66336634, 0.69306931, 0.68316832, 0.68316832,\n",
              "        0.68316832, 0.67326733, 0.68316832, 0.68316832]),\n",
              " 'n_features': array([ 5,  6,  7,  8,  9, 10, 11, 12, 13])}"
            ]
          },
          "execution_count": 45,
          "metadata": {},
          "output_type": "execute_result"
        }
      ],
      "source": [
        "from sklearn.feature_selection import RFE\n",
        "from sklearn.feature_selection import RFECV\n",
        "# from sklearn.svm import SVC\n",
        "# estimator = SVC(kernel=\"linear\")\n",
        "\n",
        "from sklearn.tree import DecisionTreeClassifier\n",
        "estimator = DecisionTreeClassifier()\n",
        "\n",
        "selector = RFECV(estimator, min_features_to_select=5,cv=3)\n",
        "selector = selector.fit(x, y)\n",
        "selector.cv_results_"
      ]
    },
    {
      "cell_type": "code",
      "execution_count": null,
      "id": "ae91c07c",
      "metadata": {
        "id": "ae91c07c",
        "outputId": "2d83d768-e56a-4260-c6e3-2df6b1f79272"
      },
      "outputs": [
        {
          "data": {
            "text/plain": [
              "array(['age', 'sex', 'cp', 'trestbps', 'chol', 'fbs', 'restecg',\n",
              "       'thalach', 'exang', 'oldpeak', 'slope', 'ca', 'thal'], dtype=object)"
            ]
          },
          "execution_count": 46,
          "metadata": {},
          "output_type": "execute_result"
        }
      ],
      "source": [
        "selector.feature_names_in_"
      ]
    },
    {
      "cell_type": "code",
      "execution_count": null,
      "id": "8895b94e",
      "metadata": {
        "id": "8895b94e",
        "outputId": "8b0e8cda-0b06-4a23-eb8b-220b75d674de"
      },
      "outputs": [
        {
          "data": {
            "text/plain": [
              "array([1, 1, 1, 1, 2, 1, 1, 1, 1, 1, 1, 1, 1])"
            ]
          },
          "execution_count": 41,
          "metadata": {},
          "output_type": "execute_result"
        }
      ],
      "source": [
        "selector.ranking_"
      ]
    },
    {
      "cell_type": "code",
      "execution_count": null,
      "id": "534a0b26",
      "metadata": {
        "id": "534a0b26",
        "outputId": "044f815b-435c-4bff-f0a1-350585b7d231"
      },
      "outputs": [
        {
          "data": {
            "text/plain": [
              "array([8, 1, 2, 7, 9, 5, 4, 6, 1, 3, 1, 1, 1])"
            ]
          },
          "execution_count": 47,
          "metadata": {},
          "output_type": "execute_result"
        }
      ],
      "source": [
        "from sklearn.feature_selection import RFE\n",
        "from sklearn.svm import SVC\n",
        "estimator = SVC(kernel=\"linear\")\n",
        "selector = RFE(estimator, n_features_to_select=5)\n",
        "selector = selector.fit(x, y)\n",
        "selector.ranking_"
      ]
    },
    {
      "cell_type": "markdown",
      "id": "de0d9b4d",
      "metadata": {
        "id": "de0d9b4d"
      },
      "source": [
        "## 測試每一個不同數量的n_features_to_select"
      ]
    },
    {
      "cell_type": "code",
      "execution_count": null,
      "id": "5d129070",
      "metadata": {
        "id": "5d129070",
        "outputId": "84383a9a-c499-4cd2-9352-1828c32b4dbc"
      },
      "outputs": [
        {
          "data": {
            "text/plain": [
              "[np.float64(0.8382838283828383),\n",
              " np.float64(0.8448844884488449),\n",
              " np.float64(0.8415841584158416),\n",
              " np.float64(0.8283828382838284),\n",
              " np.float64(0.8217821782178217),\n",
              " np.float64(0.8184818481848185),\n",
              " np.float64(0.8316831683168316),\n",
              " np.float64(0.8052805280528054),\n",
              " np.float64(0.7689768976897691),\n",
              " np.float64(0.7491749174917492),\n",
              " np.float64(0.712871287128713),\n",
              " np.float64(0.7062706270627063),\n",
              " np.float64(0.702970297029703)]"
            ]
          },
          "execution_count": 48,
          "metadata": {},
          "output_type": "execute_result"
        }
      ],
      "source": [
        "n_list = np.arange(13,0,-1)\n",
        "score = []\n",
        "for n in n_list:\n",
        "    estimator = SVC(kernel=\"linear\")\n",
        "    selector = RFE(estimator, n_features_to_select=n)\n",
        "    score.append(cross_val_score(selector, x, y, cv=3).mean())\n",
        "score"
      ]
    },
    {
      "cell_type": "code",
      "execution_count": null,
      "id": "bcc4a48e",
      "metadata": {
        "id": "bcc4a48e",
        "outputId": "d3b71949-f5fa-4e6c-d8a7-ee7905b7eb06"
      },
      "outputs": [
        {
          "data": {
            "image/png": "[encoded data removed]",
            "text/plain": [
              "<Figure size 640x480 with 1 Axes>"
            ]
          },
          "metadata": {},
          "output_type": "display_data"
        }
      ],
      "source": [
        "import matplotlib.pyplot as plt\n",
        "\n",
        "plt.plot(n_list, score,'o')\n",
        "\n",
        "for a, b in zip(n_list, score):\n",
        "    plt.text(a,b+0.005, '%.3f'%(b) ,ha='center',fontsize=7)"
      ]
    },
    {
      "cell_type": "markdown",
      "id": "1c1d7114",
      "metadata": {
        "id": "1c1d7114"
      },
      "source": [
        "## 使用RFE來進行特徵排序"
      ]
    },
    {
      "cell_type": "code",
      "execution_count": null,
      "id": "d7d0b3a8",
      "metadata": {
        "id": "d7d0b3a8",
        "outputId": "e1526f8f-89ff-4ed8-a40c-0610c1afcaee"
      },
      "outputs": [
        {
          "name": "stdout",
          "output_type": "stream",
          "text": [
            "[12  2  6 11 13  9  8 10  1  7  3  4  5]\n",
            "['age' 'sex' 'cp' 'trestbps' 'chol' 'fbs' 'restecg' 'thalach' 'exang'\n",
            " 'oldpeak' 'slope' 'ca' 'thal']\n",
            "\n",
            "排序後:\n",
            "1 \t exang\n",
            "2 \t sex\n",
            "3 \t slope\n",
            "4 \t ca\n",
            "5 \t thal\n",
            "6 \t cp\n",
            "7 \t oldpeak\n",
            "8 \t restecg\n",
            "9 \t fbs\n",
            "10 \t thalach\n",
            "11 \t trestbps\n",
            "12 \t age\n",
            "13 \t chol\n"
          ]
        }
      ],
      "source": [
        "from sklearn.feature_selection import RFE\n",
        "from sklearn.svm import SVC\n",
        "estimator = SVC(kernel=\"linear\")\n",
        "selector = RFE(estimator, n_features_to_select=1)\n",
        "selector.fit(x,y)\n",
        "\n",
        "print(selector.ranking_)\n",
        "print(selector.feature_names_in_)\n",
        "\n",
        "print(\"\\n排序後:\")\n",
        "for i in selector.ranking_.argsort():\n",
        "    print(selector.ranking_[i], '\\t', selector.feature_names_in_[i])"
      ]
    }
  ],
  "metadata": {
    "kernelspec": {
      "display_name": "Python 3 (ipykernel)",
      "language": "python",
      "name": "python3"
    },
    "language_info": {
      "codemirror_mode": {
        "name": "ipython",
        "version": 3
      },
      "file_extension": ".py",
      "mimetype": "text/x-python",
      "name": "python",
      "nbconvert_exporter": "python",
      "pygments_lexer": "ipython3",
      "version": "3.12.3"
    },
    "colab": {
      "provenance": [],
      "include_colab_link": true
    }
  },
  "nbformat": 4,
  "nbformat_minor": 5
}