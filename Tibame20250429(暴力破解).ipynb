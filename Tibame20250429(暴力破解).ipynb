{
  "nbformat": 4,
  "nbformat_minor": 0,
  "metadata": {
    "colab": {
      "provenance": [],
      "authorship_tag": "ABX9TyNWPZxrK/Dyc8eL6jU3+d+C",
      "include_colab_link": true
    },
    "kernelspec": {
      "name": "python3",
      "display_name": "Python 3"
    },
    "language_info": {
      "name": "python"
    }
  },
  "cells": [
    {
      "cell_type": "markdown",
      "metadata": {
        "id": "view-in-github",
        "colab_type": "text"
      },
      "source": [
        "<a href=\"https://colab.research.google.com/github/ldsAS/Tibame-AI-Learning/blob/main/Tibame20250429(%E6%9A%B4%E5%8A%9B%E7%A0%B4%E8%A7%A3).ipynb\" target=\"_parent\"><img src=\"https://colab.research.google.com/assets/colab-badge.svg\" alt=\"Open In Colab\"/></a>"
      ]
    },
    {
      "cell_type": "markdown",
      "source": [
        "```\n",
        "裝好 Python & PyCharm\n",
        "\n",
        "install缺的\n",
        "\n",
        "在虛擬環境可以嘗試直接pip install\n",
        "\n",
        "若在實體terminal 複製路徑後 -m pip install\n",
        "\n",
        "```"
      ],
      "metadata": {
        "id": "rGIj-4jkm_Zm"
      }
    },
    {
      "cell_type": "code",
      "execution_count": null,
      "metadata": {
        "id": "emqVSacOmoK0"
      },
      "outputs": [],
      "source": [
        "# selenium/webdriver-manager\n",
        "import time\n",
        "from selenium.webdriver.chrome.service import Service\n",
        "from webdriver_manager.chrome import ChromeDriverManager\n",
        "from selenium import webdriver\n",
        "from selenium.webdriver.common.by import By\n",
        "from selenium.webdriver.common.keys import Keys\n",
        "\n",
        "# 如果不做設置, chrome視窗有可能會自動關閉\n",
        "options = webdriver.ChromeOptions()\n",
        "options.add_experimental_option(\"detach\", True)\n",
        "\n",
        "driver = webdriver.Chrome(options=options,\n",
        "                          service=Service(ChromeDriverManager().install()))\n",
        "\n",
        "driver.get(\"https://www.google.com\")\n",
        "driver.maximize_window()"
      ]
    },
    {
      "cell_type": "code",
      "source": [
        "# 如果用edge\n",
        "# selenium/webdriver-manager\n",
        "import time\n",
        "from selenium.webdriver.edge.service import Service\n",
        "from webdriver_manager.microsoft import EdgeChromiumDriverManager\n",
        "from selenium import webdriver\n",
        "from selenium.webdriver.common.by import By\n",
        "from selenium.webdriver.common.keys import Keys\n",
        "\n",
        "# 如果不做設置, chrome視窗有可能會自動關閉\n",
        "options = webdriver.EdgeOptions()\n",
        "options.add_experimental_option(\"detach\", True)\n",
        "\n",
        "driver = webdriver.Edge(options=options,\n",
        "                          service=Service(EdgeChromiumDriverManager().install()))\n",
        "# 輸入網址\n",
        "driver.get(\"https://www.google.com\")\n",
        "driver.maximize_window()"
      ],
      "metadata": {
        "id": "wU3fuzDtKUwW"
      },
      "execution_count": null,
      "outputs": []
    },
    {
      "cell_type": "markdown",
      "source": [
        " ```\n",
        " undetected chromedriver\n",
        " https://github.com/ultrafunkamsterdam/undetected-chromedriver/tree/master\n",
        "\n",
        "如果他說沒有module disutils:\n",
        "pip install --upgrade setuptools\n",
        "\n",
        "\n",
        "\n",
        " ```"
      ],
      "metadata": {
        "id": "urwhSlgpK4Z-"
      }
    },
    {
      "cell_type": "markdown",
      "source": [
        "```\n",
        "當「主動執行」python主程式時，檔案名會顯示為 __main__\n",
        "```"
      ],
      "metadata": {
        "id": "maIc_6UDPM1-"
      }
    },
    {
      "cell_type": "code",
      "source": [
        "# selenium/webdriver-manager\n",
        "import time\n",
        "from selenium.webdriver.edge.service import Service\n",
        "from webdriver_manager.microsoft import EdgeChromiumDriverManager\n",
        "from selenium import webdriver\n",
        "from selenium.webdriver.common.by import By\n",
        "from selenium.webdriver.common.keys import Keys\n",
        "\n",
        "import urllib.request as req\n",
        "import undetected_chromedriver as uc\n",
        "import os\n",
        "\n",
        "dn = \"google\"\n",
        "if not os.path.exists(dn):\n",
        "    os.makedirs(dn)\n",
        "\n",
        "# 如果不做設置, chrome視窗有可能會自動關閉\n",
        "# options = webdriver.EdgeOptions()\n",
        "# options.add_experimental_option(\"detach\", True)\n",
        "#\n",
        "# driver = webdriver.Edge(options=options,\n",
        "#                           service=Service(EdgeChromiumDriverManager().install()))\n",
        "# 輸入網址\n",
        "if __name__ == '__main__':\n",
        "    driver = uc.Chrome(use_subprocess=False)\n",
        "    driver.get(\"https://www.google.com\")\n",
        "    driver.maximize_window()\n",
        "    # bs: find/find_all\n",
        "    # selenium: find_element/find_elements\n",
        "    # 直接給篩選(html名字/class/id)\n",
        "    # By.TAG_NAME By.CLASS_NAME By.ID\n",
        "    e = driver.find_element(By.CLASS_NAME, \"gLFyf\")\n",
        "    # send_keys(): 打字 click(): 點\n",
        "    e.send_keys(\"chiikawa\")\n",
        "    e.send_keys(Keys.ENTER)\n",
        "    # 等待下一個葉面出現\n",
        "    time.sleep(3)\n",
        "\n",
        "    es = driver.find_elements(By.CLASS_NAME, \"nPDzT\")\n",
        "    es[1].click()\n",
        "    time.sleep(2)\n",
        "\n",
        "    es = driver.find_elements(By.TAG_NAME, \"img\")\n",
        "    for i in range(len(es)):\n",
        "        e = es[i]\n",
        "        e_src = e.get_attribute(\"src\")\n",
        "        if not e_src == None:\n",
        "            fn = dn + \"/\" + str(i) + \".jpg\"\n",
        "            req.urlretrieve(e_src, fn)\n",
        "\n",
        "    # bs: [\"href\"]  .text\n",
        "    # selenium: get_attribute(\"href\") .text\n",
        "\n",
        "    time.sleep(5)"
      ],
      "metadata": {
        "id": "y0h9-B3WKhee"
      },
      "execution_count": null,
      "outputs": []
    },
    {
      "cell_type": "markdown",
      "source": [
        "```\n",
        "如果你是MAC，你在urlopen或者urlretrieve遇到SSL Cercificate fail\n",
        "1. pip install certifi\n",
        "2.\n",
        "import ssl\n",
        "ssl.create_default_context = ssl.create_unverified_context\n",
        "```"
      ],
      "metadata": {
        "id": "ml_MvbMadcPN"
      }
    },
    {
      "cell_type": "markdown",
      "source": [
        "```\n",
        "Cookie：第一次做完某些動作\n",
        "伺器器會在response headers要求擬設置cookie\n",
        "如果你有設置cookie，下次同一個網址就會帶入這個cookie\n",
        "```"
      ],
      "metadata": {
        "id": "i-GkKdyGgq14"
      }
    },
    {
      "cell_type": "code",
      "source": [
        "# selenium/webdriver-manager\n",
        "import time\n",
        "from selenium.webdriver.edge.service import Service\n",
        "from webdriver_manager.microsoft import EdgeChromiumDriverManager\n",
        "from selenium import webdriver\n",
        "from selenium.webdriver.common.by import By\n",
        "from selenium.webdriver.common.keys import Keys\n",
        "\n",
        "import urllib.request as req\n",
        "import undetected_chromedriver as uc\n",
        "import os\n",
        "\n",
        "dn = \"google\"\n",
        "if not os.path.exists(dn):\n",
        "    os.makedirs(dn)\n",
        "\n",
        "# 如果不做設置, chrome視窗有可能會自動關閉\n",
        "# options = webdriver.EdgeOptions()\n",
        "# options.add_experimental_option(\"detach\", True)\n",
        "#\n",
        "# driver = webdriver.Edge(options=options,\n",
        "#                           service=Service(EdgeChromiumDriverManager().install()))\n",
        "# 輸入網址\n",
        "if __name__ == '__main__':\n",
        "    driver = uc.Chrome(use_subprocess=False)\n",
        "    driver.get(\"https://www.facebook.com\")\n",
        "    driver.maximize_window()\n",
        "    time.sleep(5)\n",
        "\n",
        "    cookie_s = \"\"\n",
        "    for spl in cookie_s.split(\"; \"):\n",
        "        print(spl)\n",
        "        a, b = spl.split(\"=\", 1)\n",
        "        print(a, b)\n",
        "        driver.add_cookie({\"name\": a, \"value\": b})\n",
        "\n",
        "    driver.get(\"https://www.facebook.com\")\n",
        "    time.sleep(3)"
      ],
      "metadata": {
        "id": "O5jad_UqnIsq"
      },
      "execution_count": null,
      "outputs": []
    },
    {
      "cell_type": "markdown",
      "source": [
        "```\n",
        "Set Cookies in Selenium\n",
        "\n",
        "driver.get(\"https://example.com\")\n",
        "cookie = {'name' : 'session_id', 'value' : '12345', 'domain': 'example.com'}\n",
        "driver.add_cookie(cookie)\n",
        "\n",
        "```"
      ],
      "metadata": {
        "id": "3JwmhDEykaLE"
      }
    },
    {
      "cell_type": "code",
      "source": [],
      "metadata": {
        "id": "NgPKGs8uk3qa"
      },
      "execution_count": null,
      "outputs": []
    }
  ]
}