{
  "nbformat": 4,
  "nbformat_minor": 0,
  "metadata": {
    "colab": {
      "provenance": [],
      "authorship_tag": "ABX9TyM5NugQZMI7+gGLDBzds1ix",
      "include_colab_link": true
    },
    "kernelspec": {
      "name": "python3",
      "display_name": "Python 3"
    },
    "language_info": {
      "name": "python"
    }
  },
  "cells": [
    {
      "cell_type": "markdown",
      "metadata": {
        "id": "view-in-github",
        "colab_type": "text"
      },
      "source": [
        "<a href=\"https://colab.research.google.com/github/ldsAS/Tibame-AI-Learning/blob/main/Tibame20250429(%E6%9A%B4%E5%8A%9B%E7%A0%B4%E8%A7%A3).ipynb\" target=\"_parent\"><img src=\"https://colab.research.google.com/assets/colab-badge.svg\" alt=\"Open In Colab\"/></a>"
      ]
    },
    {
      "cell_type": "markdown",
      "source": [
        "```\n",
        "裝好 Python & PyCharm\n",
        "\n",
        "install缺的\n",
        "\n",
        "在虛擬環境可以嘗試直接pip install\n",
        "\n",
        "若在實體terminal 複製路徑後 -m pip install\n",
        "\n",
        "```"
      ],
      "metadata": {
        "id": "rGIj-4jkm_Zm"
      }
    },
    {
      "cell_type": "code",
      "execution_count": null,
      "metadata": {
        "id": "emqVSacOmoK0"
      },
      "outputs": [],
      "source": []
    }
  ]
}