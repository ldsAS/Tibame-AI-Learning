{
  "nbformat": 4,
  "nbformat_minor": 0,
  "metadata": {
    "colab": {
      "provenance": [],
      "authorship_tag": "ABX9TyNZFGhOPUMlk9Lqhxss+AQs",
      "include_colab_link": true
    },
    "kernelspec": {
      "name": "python3",
      "display_name": "Python 3"
    },
    "language_info": {
      "name": "python"
    }
  },
  "cells": [
    {
      "cell_type": "markdown",
      "metadata": {
        "id": "view-in-github",
        "colab_type": "text"
      },
      "source": [
        "<a href=\"https://colab.research.google.com/github/ldsAS/Tibame-AI-Learning/blob/main/Tibame20250429(%E6%9A%B4%E5%8A%9B%E7%A0%B4%E8%A7%A3).ipynb\" target=\"_parent\"><img src=\"https://colab.research.google.com/assets/colab-badge.svg\" alt=\"Open In Colab\"/></a>"
      ]
    },
    {
      "cell_type": "markdown",
      "source": [
        "```\n",
        "裝好 Python & PyCharm\n",
        "\n",
        "install缺的\n",
        "\n",
        "在虛擬環境可以嘗試直接pip install\n",
        "\n",
        "若在實體terminal 複製路徑後 -m pip install\n",
        "\n",
        "```"
      ],
      "metadata": {
        "id": "rGIj-4jkm_Zm"
      }
    },
    {
      "cell_type": "code",
      "execution_count": null,
      "metadata": {
        "id": "emqVSacOmoK0"
      },
      "outputs": [],
      "source": [
        "# selenium/webdriver-manager\n",
        "import time\n",
        "from selenium.webdriver.chrome.service import Service\n",
        "from webdriver_manager.chrome import ChromeDriverManager\n",
        "from selenium import webdriver\n",
        "from selenium.webdriver.common.by import By\n",
        "from selenium.webdriver.common.keys import Keys\n",
        "\n",
        "# 如果不做設置, chrome視窗有可能會自動關閉\n",
        "options = webdriver.ChromeOptions()\n",
        "options.add_experimental_option(\"detach\", True)\n",
        "\n",
        "driver = webdriver.Chrome(options=options,\n",
        "                          service=Service(ChromeDriverManager().install()))\n",
        "\n",
        "driver.get(\"https://www.google.com\")\n",
        "driver.maximize_window()"
      ]
    },
    {
      "cell_type": "code",
      "source": [
        "# 如果用edge\n",
        "# selenium/webdriver-manager\n",
        "import time\n",
        "from selenium.webdriver.edge.service import Service\n",
        "from webdriver_manager.microsoft import EdgeChromiumDriverManager\n",
        "from selenium import webdriver\n",
        "from selenium.webdriver.common.by import By\n",
        "from selenium.webdriver.common.keys import Keys\n",
        "\n",
        "# 如果不做設置, chrome視窗有可能會自動關閉\n",
        "options = webdriver.EdgeOptions()\n",
        "options.add_experimental_option(\"detach\", True)\n",
        "\n",
        "driver = webdriver.Edge(options=options,\n",
        "                          service=Service(EdgeChromiumDriverManager().install()))\n",
        "# 輸入網址\n",
        "driver.get(\"https://www.google.com\")\n",
        "driver.maximize_window()"
      ],
      "metadata": {
        "id": "wU3fuzDtKUwW"
      },
      "execution_count": null,
      "outputs": []
    },
    {
      "cell_type": "markdown",
      "source": [
        "```\n",
        "\n",
        "undetected chromedriver https://github.com/ultrafunkamsterdam/undetected-chromedriver/tree/master\n",
        "```"
      ],
      "metadata": {
        "id": "urwhSlgpK4Z-"
      }
    },
    {
      "cell_type": "markdown",
      "source": [
        "```\n",
        "當「主動執行」python主程式時，檔案名會顯示為 __main__\n",
        "```"
      ],
      "metadata": {
        "id": "maIc_6UDPM1-"
      }
    },
    {
      "cell_type": "code",
      "source": [],
      "metadata": {
        "id": "y0h9-B3WKhee"
      },
      "execution_count": null,
      "outputs": []
    }
  ]
}