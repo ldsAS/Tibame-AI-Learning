{
  "nbformat": 4,
  "nbformat_minor": 0,
  "metadata": {
    "colab": {
      "provenance": [],
      "authorship_tag": "ABX9TyPshlZJQf/v0whkxOu1F2ss",
      "include_colab_link": true
    },
    "kernelspec": {
      "name": "python3",
      "display_name": "Python 3"
    },
    "language_info": {
      "name": "python"
    }
  },
  "cells": [
    {
      "cell_type": "markdown",
      "metadata": {
        "id": "view-in-github",
        "colab_type": "text"
      },
      "source": [
        "<a href=\"https://colab.research.google.com/github/ldsAS/Tibame-AI-Learning/blob/main/Tibame20250625_Dataflow_tensorflow.ipynb\" target=\"_parent\"><img src=\"https://colab.research.google.com/assets/colab-badge.svg\" alt=\"Open In Colab\"/></a>"
      ]
    },
    {
      "cell_type": "markdown",
      "source": [
        "### 指定所用模組版本"
      ],
      "metadata": {
        "id": "bq-1kkbVs4IF"
      }
    },
    {
      "cell_type": "code",
      "execution_count": 1,
      "metadata": {
        "id": "oFpOGt9prtcB"
      },
      "outputs": [],
      "source": [
        "!pip install protobuf --quiet\n",
        "!pip install numpy>=1.26.0 --quiet\n",
        "!pip install apache_beam==2.60.0 --quiet\n",
        "!pip install tensorflow==2.12.0 --quiet\n",
        "# To use the newly installed versions, restart the runtime.\n",
        "exit()"
      ]
    },
    {
      "cell_type": "markdown",
      "source": [
        "### 授權帳號權限"
      ],
      "metadata": {
        "id": "H6KgcAm5uFhR"
      }
    },
    {
      "cell_type": "code",
      "source": [
        "from google.colab import auth\n",
        "auth.authenticate_user()"
      ],
      "metadata": {
        "id": "1HfdCgNzuKIF"
      },
      "execution_count": 1,
      "outputs": []
    },
    {
      "cell_type": "markdown",
      "source": [
        "### 導入模組與常數"
      ],
      "metadata": {
        "id": "zyrsYoOxuhNv"
      }
    },
    {
      "cell_type": "code",
      "source": [
        "import argparse\n",
        "from typing import Dict, Text, Any, Tuple, List\n",
        "import numpy\n",
        "\n",
        "from google.protobuf import text_format\n",
        "\n",
        "import tensorflow as tf\n",
        "from tensorflow import keras\n",
        "import apache_beam as beam\n",
        "from apache_beam.ml.inference.base import RunInference\n",
        "from apache_beam.ml.inference.base import KeyedModelHandler\n",
        "from apache_beam.ml.inference.tensorflow_inference import TFModelHandlerNumpy\n",
        "from apache_beam.ml.inference.tensorflow_inference import TFModelHandlerTensor\n",
        "from apache_beam.options.pipeline_options import PipelineOptions\n",
        "\n",
        "project = \"tibame-gad251-31-0625\"\n",
        "bucket = \"tibame-gad251-31-storage\"\n",
        "\n",
        "save_model_dir_multiply = f'gs://{bucket}/tf-inference/model/multiply_five/v1/'\n",
        "save_weights_dir_multiply = f'gs://{bucket}/tf-inference/weights/multiply_five/v1/'\n"
      ],
      "metadata": {
        "id": "qJbf66WyuniZ"
      },
      "execution_count": 2,
      "outputs": []
    },
    {
      "cell_type": "markdown",
      "source": [
        "#### 建立Tensorflow模型"
      ],
      "metadata": {
        "id": "4_2kU927xxhm"
      }
    },
    {
      "cell_type": "code",
      "source": [
        "# Create training data that represents the 5 times multiplication table for the numbers 0 to 99.\n",
        "# x is the data and y is the labels.\n",
        "x = numpy.arange(0, 100)   # Examples\n",
        "y = x * 5          # Labels\n",
        "\n",
        "# Use create_model to build a simple linear regression model.\n",
        "# Note that the model has a shape of (1) for its input layer and expects a single int64 value.\n",
        "def create_model():\n",
        "  input_layer = keras.layers.Input(shape=(1), dtype=tf.float32, name='x')\n",
        "  output_layer= keras.layers.Dense(1)(input_layer)\n",
        "  model = keras.Model(input_layer, output_layer)\n",
        "  model.compile(optimizer=tf.optimizers.Adam(), loss='mean_absolute_error')\n",
        "  return model\n",
        "\n",
        "model = create_model()\n",
        "model.summary()"
      ],
      "metadata": {
        "colab": {
          "base_uri": "https://localhost:8080/"
        },
        "id": "CxdqYYoz3Qft",
        "outputId": "d42d9cf9-c9e4-47b7-c675-d8b652fe55ce"
      },
      "execution_count": 3,
      "outputs": [
        {
          "output_type": "stream",
          "name": "stdout",
          "text": [
            "Model: \"model\"\n",
            "_________________________________________________________________\n",
            " Layer (type)                Output Shape              Param #   \n",
            "=================================================================\n",
            " x (InputLayer)              [(None, 1)]               0         \n",
            "                                                                 \n",
            " dense (Dense)               (None, 1)                 2         \n",
            "                                                                 \n",
            "=================================================================\n",
            "Total params: 2\n",
            "Trainable params: 2\n",
            "Non-trainable params: 0\n",
            "_________________________________________________________________\n"
          ]
        }
      ]
    },
    {
      "cell_type": "markdown",
      "source": [
        "#### 測試模型狀況"
      ],
      "metadata": {
        "id": "HnwbKJ833zA_"
      }
    },
    {
      "cell_type": "code",
      "source": [
        "model.fit(x, y, epochs=500, verbose=0)\n",
        "test_examples =[20, 40, 60, 90]\n",
        "value_to_predict = numpy.array(test_examples, dtype=numpy.float32)\n",
        "predictions = model.predict(value_to_predict)\n",
        "\n",
        "print('Test Examples ' + str(test_examples))\n",
        "print('Predictions ' + str(predictions))"
      ],
      "metadata": {
        "colab": {
          "base_uri": "https://localhost:8080/"
        },
        "id": "ZqL6GUsy33xv",
        "outputId": "925305ed-e438-43af-dbec-841fe2129d3a"
      },
      "execution_count": 4,
      "outputs": [
        {
          "output_type": "stream",
          "name": "stdout",
          "text": [
            "1/1 [==============================] - 0s 86ms/step\n",
            "Test Examples [20, 40, 60, 90]\n",
            "Predictions [[ 26.397907]\n",
            " [ 50.799816]\n",
            " [ 75.20173 ]\n",
            " [111.80459 ]]\n"
          ]
        }
      ]
    },
    {
      "cell_type": "markdown",
      "source": [
        "#### 儲存模型"
      ],
      "metadata": {
        "id": "WTWhCA5c4CGm"
      }
    },
    {
      "cell_type": "code",
      "source": [
        "model.save(save_model_dir_multiply)\n",
        "#model_handler = TFModelHandlerNumpy(path_to_weights, model_type=ModelType.SAVED_WEIGHTS, create_model_fn=build_tensorflow_model)\n",
        "model.save_weights(save_weights_dir_multiply)"
      ],
      "metadata": {
        "colab": {
          "base_uri": "https://localhost:8080/"
        },
        "id": "8Pob9Dmc4L--",
        "outputId": "6ac7659f-4763-47b3-aa3f-322e349ded94"
      },
      "execution_count": 5,
      "outputs": [
        {
          "output_type": "stream",
          "name": "stderr",
          "text": [
            "WARNING:absl:Found untraced functions such as _update_step_xla while saving (showing 1 of 1). These functions will not be directly callable after loading.\n"
          ]
        }
      ]
    },
    {
      "cell_type": "markdown",
      "source": [
        "### 利用管道模型測試"
      ],
      "metadata": {
        "id": "SDnJOe3A5P9k"
      }
    },
    {
      "cell_type": "code",
      "source": [
        "class FormatOutput(beam.DoFn):\n",
        "  def process(self, element, *args, **kwargs):\n",
        "     \"\"\"格式化推論結果輸出。\"\"\"\n",
        "     yield \"範例值為 {example}，預測結果為 {prediction}\".format(example=element.example, prediction=element.inference)\n",
        "\n",
        "# 建立輸入範例數據\n",
        "examples = numpy.array([20, 40, 60, 90], dtype=numpy.float32)\n",
        "\n",
        "# 設定 TensorFlow 模型處理器\n",
        "model_handler = TFModelHandlerNumpy(save_model_dir_multiply)\n",
        "\n",
        "with beam.Pipeline() as p:\n",
        "    _ = (p\n",
        "         | \"建立輸入數據\" >> beam.Create(examples)\n",
        "         | \"執行模型推論\" >> RunInference(model_handler)\n",
        "         | \"格式化輸出結果\" >> beam.ParDo(FormatOutput())\n",
        "         | \"輸出結果\" >> beam.Map(print)\n",
        "        )"
      ],
      "metadata": {
        "colab": {
          "base_uri": "https://localhost:8080/",
          "height": 124
        },
        "id": "rupyr1BP5Y9h",
        "outputId": "3cb59db5-68a4-4df7-e365-2c19f99d754f"
      },
      "execution_count": 6,
      "outputs": [
        {
          "output_type": "stream",
          "name": "stderr",
          "text": [
            "WARNING:apache_beam.runners.interactive.interactive_environment:Dependencies required for Interactive Beam PCollection visualization are not available, please use: `pip install apache-beam[interactive]` to install necessary dependencies to enable all data visualization features.\n"
          ]
        },
        {
          "output_type": "display_data",
          "data": {
            "application/javascript": [
              "\n",
              "        if (typeof window.interactive_beam_jquery == 'undefined') {\n",
              "          var jqueryScript = document.createElement('script');\n",
              "          jqueryScript.src = 'https://code.jquery.com/jquery-3.4.1.slim.min.js';\n",
              "          jqueryScript.type = 'text/javascript';\n",
              "          jqueryScript.onload = function() {\n",
              "            var datatableScript = document.createElement('script');\n",
              "            datatableScript.src = 'https://cdn.datatables.net/1.10.20/js/jquery.dataTables.min.js';\n",
              "            datatableScript.type = 'text/javascript';\n",
              "            datatableScript.onload = function() {\n",
              "              window.interactive_beam_jquery = jQuery.noConflict(true);\n",
              "              window.interactive_beam_jquery(document).ready(function($){\n",
              "                \n",
              "              });\n",
              "            }\n",
              "            document.head.appendChild(datatableScript);\n",
              "          };\n",
              "          document.head.appendChild(jqueryScript);\n",
              "        } else {\n",
              "          window.interactive_beam_jquery(document).ready(function($){\n",
              "            \n",
              "          });\n",
              "        }"
            ]
          },
          "metadata": {}
        },
        {
          "output_type": "stream",
          "name": "stdout",
          "text": [
            "範例值為 20.0，預測結果為 [26.397907]\n",
            "範例值為 40.0，預測結果為 [50.799816]\n",
            "範例值為 60.0，預測結果為 [75.20173]\n",
            "範例值為 90.0，預測結果為 [111.80459]\n"
          ]
        }
      ]
    },
    {
      "cell_type": "markdown",
      "source": [
        "### 利用模型權重推論"
      ],
      "metadata": {
        "id": "Oeajmvvx6gNu"
      }
    },
    {
      "cell_type": "code",
      "source": [
        "from apache_beam.ml.inference.tensorflow_inference import ModelType\n",
        "\n",
        "# 建立輸入範例數據\n",
        "examples = numpy.array([20, 40, 60, 90], dtype=numpy.float32)\n",
        "\n",
        "# 設定 TensorFlow 模型處理器，使用儲存的權重進行推論\n",
        "model_handler = TFModelHandlerNumpy(\n",
        "    save_weights_dir_multiply,\n",
        "    model_type=ModelType.SAVED_WEIGHTS,\n",
        "    create_model_fn=create_model\n",
        ")\n",
        "\n",
        "with beam.Pipeline() as p:\n",
        "    _ = (p\n",
        "         | \"建立輸入數據\" >> beam.Create(examples)\n",
        "         | \"執行模型推論\" >> RunInference(model_handler)\n",
        "         | \"格式化輸出結果\" >> beam.ParDo(FormatOutput())\n",
        "         | \"輸出結果\" >> beam.Map(print)\n",
        "        )"
      ],
      "metadata": {
        "colab": {
          "base_uri": "https://localhost:8080/"
        },
        "id": "xgc9IniL6khA",
        "outputId": "da849689-eb85-4d19-8cd4-0c4cf683e808"
      },
      "execution_count": 7,
      "outputs": [
        {
          "output_type": "stream",
          "name": "stdout",
          "text": [
            "範例值為 20.0，預測結果為 [26.397907]\n",
            "範例值為 40.0，預測結果為 [50.799816]\n",
            "範例值為 60.0，預測結果為 [75.20173]\n",
            "範例值為 90.0，預測結果為 [111.80459]\n"
          ]
        }
      ]
    },
    {
      "cell_type": "markdown",
      "source": [
        "### 利用含KEY資料測試模型"
      ],
      "metadata": {
        "id": "YevG0p0X60H2"
      }
    },
    {
      "cell_type": "code",
      "source": [
        "class FormatOutputKeyed(FormatOutput):\n",
        "  # 繼承自 FormatOutput。\n",
        "  def process(self, tuple_in: Tuple):\n",
        "    key, element = tuple_in\n",
        "    output = super().process(element)\n",
        "    yield \"{} : {}\".format(key, [op for op in output])\n",
        "\n",
        "# 建立輸入範例數據（包含鍵值）\n",
        "examples = numpy.array([(1, 20), (2, 40), (3, 60), (4, 90)], dtype=numpy.float32)\n",
        "\n",
        "# 設定鍵值模型處理器\n",
        "keyed_model_handler = KeyedModelHandler(TFModelHandlerNumpy(save_model_dir_multiply))\n",
        "\n",
        "with beam.Pipeline() as p:\n",
        "    _ = (p\n",
        "         | \"建立輸入數據\" >> beam.Create(examples)\n",
        "         | \"執行模型推論\" >> RunInference(keyed_model_handler)\n",
        "         | \"格式化輸出結果（含鍵值）\" >> beam.ParDo(FormatOutputKeyed())\n",
        "         | \"輸出結果\" >> beam.Map(print)\n",
        "        )\n"
      ],
      "metadata": {
        "colab": {
          "base_uri": "https://localhost:8080/"
        },
        "id": "H3tHIK3g6_sQ",
        "outputId": "c23d0079-d7b3-4b56-a50a-31ae32432add"
      },
      "execution_count": 8,
      "outputs": [
        {
          "output_type": "stream",
          "name": "stderr",
          "text": [
            "WARNING:tensorflow:Detecting that an object or model or tf.train.Checkpoint is being deleted with unrestored values. See the following logs for the specific values in question. To silence these warnings, use `status.expect_partial()`. See https://www.tensorflow.org/api_docs/python/tf/train/Checkpoint#restorefor details about the status object returned by the restore function.\n",
            "WARNING:tensorflow:Value in checkpoint could not be found in the restored object: (root).optimizer._variables.1\n",
            "WARNING:tensorflow:Value in checkpoint could not be found in the restored object: (root).optimizer._variables.2\n",
            "WARNING:tensorflow:Value in checkpoint could not be found in the restored object: (root).optimizer._variables.3\n",
            "WARNING:tensorflow:Value in checkpoint could not be found in the restored object: (root).optimizer._variables.4\n"
          ]
        },
        {
          "output_type": "stream",
          "name": "stdout",
          "text": [
            "1.0 : ['範例值為 20.0，預測結果為 [26.397907]']\n",
            "2.0 : ['範例值為 40.0，預測結果為 [50.799816]']\n",
            "3.0 : ['範例值為 60.0，預測結果為 [75.20173]']\n",
            "4.0 : ['範例值為 90.0，預測結果為 [111.80459]']\n"
          ]
        }
      ]
    }
  ]
}