{
  "nbformat": 4,
  "nbformat_minor": 0,
  "metadata": {
    "colab": {
      "provenance": [],
      "authorship_tag": "ABX9TyO2bmFrfmtqxTfFEya68rqg",
      "include_colab_link": true
    },
    "kernelspec": {
      "name": "python3",
      "display_name": "Python 3"
    },
    "language_info": {
      "name": "python"
    }
  },
  "cells": [
    {
      "cell_type": "markdown",
      "metadata": {
        "id": "view-in-github",
        "colab_type": "text"
      },
      "source": [
        "<a href=\"https://colab.research.google.com/github/ldsAS/Tibame-AI-Learning/blob/main/Tibame20250428.ipynb\" target=\"_parent\"><img src=\"https://colab.research.google.com/assets/colab-badge.svg\" alt=\"Open In Colab\"/></a>"
      ]
    },
    {
      "cell_type": "markdown",
      "source": [
        "# urllib和requests的對照"
      ],
      "metadata": {
        "id": "ZKKwgAjSGwan"
      }
    },
    {
      "cell_type": "code",
      "execution_count": null,
      "metadata": {
        "id": "s13GoK7w90vf"
      },
      "outputs": [],
      "source": [
        "import bs4 as bs\n",
        "url = \"https://www.ptt.cc/bbs/Beauty/M.1745216140.A.52E.html\"\n",
        "bs.BeautifulSoup(url)"
      ]
    },
    {
      "cell_type": "code",
      "source": [
        "from bs4 import BeautifulSoup\n",
        "# from...import: 他比普通import可以更深入一點，直接import功能名字\n",
        "url = \"https://www.ptt.cc/bbs/Beauty/M.1745216140.A.52E.html\""
      ],
      "metadata": {
        "id": "aabsUmR5_uKN"
      },
      "execution_count": 5,
      "outputs": []
    },
    {
      "cell_type": "code",
      "source": [
        "import jieba\n",
        "# import jieba.__init__\n",
        "# import其實是import一支檔案"
      ],
      "metadata": {
        "id": "BiALBNki-p5z"
      },
      "execution_count": 2,
      "outputs": []
    },
    {
      "cell_type": "code",
      "source": [
        "# 內建urllib\n",
        "import urllib.request as req\n",
        "r = req.Request(url)\n",
        "r.add_header(\"User-Agent\", \"xxxxx\")\n",
        "resp = req.urlopen(r)\n",
        "content = resp.read()\n",
        "bs.BeautifulSoup(content)"
      ],
      "metadata": {
        "id": "6xwIFKSp-6Gb"
      },
      "execution_count": null,
      "outputs": []
    },
    {
      "cell_type": "code",
      "source": [
        "# 第三方request\n",
        "import requests\n",
        "h = {\n",
        "    \"User-Agent\": \"xxxxx\"\n",
        "}\n",
        "# open -> get\n",
        "resp = requests.get(url, headers=h)\n",
        "# read\n",
        "content = resp.text\n",
        "bs.BeautifulSoup(content)\n",
        "# resp.request.headers\n",
        "# resp.headers"
      ],
      "metadata": {
        "id": "G0SyvHuuBeas"
      },
      "execution_count": null,
      "outputs": []
    },
    {
      "cell_type": "code",
      "source": [
        "# 如果不用加headers, 首選當然是urllib.request裡的urlretrieve\n",
        "url = \"https://i.imgur.com/KybCapc.jpeg\""
      ],
      "metadata": {
        "id": "6VqNa-0JDhXN"
      },
      "execution_count": 13,
      "outputs": []
    },
    {
      "cell_type": "code",
      "source": [
        "import urllib.request as req\n",
        "r = req.Request(url)\n",
        "r.add_header(\"User-Agent\", \"Mozilla/5.0 (Windows NT 10.0; Win64; x64) AppleWebKit/537.36 (KHTML, like Gecko) Chrome/135.0.0.0 Safari/537.36\")\n",
        "resp = req.urlopen(r)\n",
        "\n",
        "content = resp.read()\n",
        "with open(\"a.jpg\", \"wb\") as f:\n",
        "    f.write(content)"
      ],
      "metadata": {
        "id": "26urJNcVD3ZJ"
      },
      "execution_count": 14,
      "outputs": []
    },
    {
      "cell_type": "code",
      "source": [
        "import requests\n",
        "h = {\n",
        "    \"User-Agent\": \"Mozilla/5.0 (Windows NT 10.0; Win64; x64) AppleWebKit/537.36 (KHTML, like Gecko) Chrome/135.0.0.0 Safari/537.36\"\n",
        "}\n",
        "# !!! 如果你要開的網址你很確定是非純文字(stream=True)\n",
        "resp = requests.get(url, headers=h, stream=True)\n",
        "# 如果你給出stream=True, 就不會幫你讀到.text裡, 會幫你在.raw維持一個檔案的樣子\n",
        "content = resp.raw.read()\n",
        "with open(\"b.jpg\", \"wb\") as f:\n",
        "    f.write(content)"
      ],
      "metadata": {
        "id": "IErTJDaKFWvW"
      },
      "execution_count": 15,
      "outputs": []
    }
  ]
}