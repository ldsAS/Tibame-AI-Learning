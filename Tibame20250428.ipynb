{
  "nbformat": 4,
  "nbformat_minor": 0,
  "metadata": {
    "colab": {
      "provenance": [],
      "authorship_tag": "ABX9TyPFw5NDIjT5AkRfhV2be+c1",
      "include_colab_link": true
    },
    "kernelspec": {
      "name": "python3",
      "display_name": "Python 3"
    },
    "language_info": {
      "name": "python"
    }
  },
  "cells": [
    {
      "cell_type": "markdown",
      "metadata": {
        "id": "view-in-github",
        "colab_type": "text"
      },
      "source": [
        "<a href=\"https://colab.research.google.com/github/ldsAS/Tibame-AI-Learning/blob/main/Tibame20250428.ipynb\" target=\"_parent\"><img src=\"https://colab.research.google.com/assets/colab-badge.svg\" alt=\"Open In Colab\"/></a>"
      ]
    },
    {
      "cell_type": "code",
      "execution_count": 4,
      "metadata": {
        "colab": {
          "base_uri": "https://localhost:8080/"
        },
        "id": "s13GoK7w90vf",
        "outputId": "acca1b89-1a04-470b-ca0f-42e9bb10e504"
      },
      "outputs": [
        {
          "output_type": "stream",
          "name": "stderr",
          "text": [
            "<ipython-input-4-0395b9063aef>:3: MarkupResemblesLocatorWarning: The input passed in on this line looks more like a URL than HTML or XML.\n",
            "\n",
            "If you meant to use Beautiful Soup to parse the web page found at a certain URL, then something has gone wrong. You should use an Python package like 'requests' to fetch the content behind the URL. Once you have the content as a string, you can feed that string into Beautiful Soup.\n",
            "\n",
            "However, if you want to parse some data that happens to look like a URL, then nothing has gone wrong: you are using Beautiful Soup correctly, and this warning is spurious and can be filtered. To make this warning go away, run this code before calling the BeautifulSoup constructor:\n",
            "\n",
            "    from bs4 import MarkupResemblesLocatorWarning\n",
            "    import warnings\n",
            "\n",
            "    warnings.filterwarnings(\"ignore\", category=MarkupResemblesLocatorWarning)\n",
            "    \n",
            "  bs.BeautifulSoup(url)\n"
          ]
        },
        {
          "output_type": "execute_result",
          "data": {
            "text/plain": [
              "<html><body><p>https://www.ptt.cc/bbs/Beauty/M.1745216140.A.52E.html</p></body></html>"
            ]
          },
          "metadata": {},
          "execution_count": 4
        }
      ],
      "source": [
        "import bs4 as bs\n",
        "url = \"https://www.ptt.cc/bbs/Beauty/M.1745216140.A.52E.html\"\n",
        "bs.BeautifulSoup(url)"
      ]
    },
    {
      "cell_type": "code",
      "source": [
        "from bs4 import BeautifulSoup\n",
        "# from...import: 他比普通import可以更深入一點，直接import功能名字\n",
        "url = \"https://www.ptt.cc/bbs/Beauty/M.1745216140.A.52E.html\""
      ],
      "metadata": {
        "id": "aabsUmR5_uKN"
      },
      "execution_count": 5,
      "outputs": []
    },
    {
      "cell_type": "code",
      "source": [
        "import jieba\n",
        "# import jieba.__init__\n",
        "# import其實是import一支檔案"
      ],
      "metadata": {
        "id": "BiALBNki-p5z"
      },
      "execution_count": 2,
      "outputs": []
    },
    {
      "cell_type": "code",
      "source": [
        "import urllib.request as req\n",
        "r = req.Request(url)\n",
        "r.add_header(\"user-agent\", \"xxxxx\")\n",
        "resp = req.urlopen(r)\n",
        "content = resp.read()\n",
        "bs.BeautifulSoup(content)"
      ],
      "metadata": {
        "colab": {
          "base_uri": "https://localhost:8080/"
        },
        "id": "6xwIFKSp-6Gb",
        "outputId": "3ad62064-ff1a-4697-922c-43c1a1a2574d"
      },
      "execution_count": 8,
      "outputs": [
        {
          "output_type": "execute_result",
          "data": {
            "text/plain": [
              "<!DOCTYPE html>\n",
              "<html>\n",
              "<head>\n",
              "<meta charset=\"utf-8\"/>\n",
              "<meta content=\"width=device-width, initial-scale=1\" name=\"viewport\"/>\n",
              "<title>[正妹] 東雲うみ - 看板 Beauty - 批踢踢實業坊</title>\n",
              "<meta content=\"all\" name=\"robots\"/>\n",
              "<meta content=\"Ptt BBS 批踢踢\" name=\"keywords\"/>\n",
              "<meta content=\"https://i.imgur.com/KybCapc.jpeg\n",
              "https://i.imgur.com/k67JoVD.png\n",
              "https://i.imgur.com/uU2d9PG.png\n",
              "https://i.imgur.com/gKhQZiH.png\n",
              "https://i.imgur.com/jkJ2I9X.png\n",
              "\" name=\"description\"/>\n",
              "<meta content=\"Ptt 批踢踢實業坊\" property=\"og:site_name\"/>\n",
              "<meta content=\"[正妹] 東雲うみ\" property=\"og:title\"/>\n",
              "<meta content=\"https://i.imgur.com/KybCapc.jpeg\n",
              "https://i.imgur.com/k67JoVD.png\n",
              "https://i.imgur.com/uU2d9PG.png\n",
              "https://i.imgur.com/gKhQZiH.png\n",
              "https://i.imgur.com/jkJ2I9X.png\n",
              "\" property=\"og:description\"/>\n",
              "<link href=\"https://www.ptt.cc/bbs/Beauty/M.1745216140.A.52E.html\" rel=\"canonical\"/>\n",
              "<link href=\"//images.ptt.cc/bbs/v2.27/bbs-common.css\" rel=\"stylesheet\" type=\"text/css\"/>\n",
              "<link href=\"//images.ptt.cc/bbs/v2.27/bbs-base.css\" media=\"screen\" rel=\"stylesheet\" type=\"text/css\"/>\n",
              "<link href=\"//images.ptt.cc/bbs/v2.27/bbs-custom.css\" rel=\"stylesheet\" type=\"text/css\"/>\n",
              "<link href=\"//images.ptt.cc/bbs/v2.27/pushstream.css\" media=\"screen\" rel=\"stylesheet\" type=\"text/css\"/>\n",
              "<link href=\"//images.ptt.cc/bbs/v2.27/bbs-print.css\" media=\"print\" rel=\"stylesheet\" type=\"text/css\"/>\n",
              "<script>\n",
              "(() => {\n",
              "    if (document.cookie.indexOf('over18=1') === -1) {\n",
              "\tlocation = 'https://www.ptt.cc/ask/over18?from=' + encodeURIComponent(location.pathname);\n",
              "    }\n",
              "})();\n",
              "</script>\n",
              "</head>\n",
              "<body>\n",
              "<div id=\"topbar-container\">\n",
              "<div class=\"bbs-content\" id=\"topbar\">\n",
              "<a href=\"/bbs/\" id=\"logo\">批踢踢實業坊</a>\n",
              "<span>›</span>\n",
              "<a class=\"board\" href=\"/bbs/Beauty/index.html\"><span class=\"board-label\">看板 </span>Beauty</a>\n",
              "<a class=\"right small\" href=\"/about.html\">關於我們</a>\n",
              "<a class=\"right small\" href=\"/contact.html\">聯絡資訊</a>\n",
              "</div>\n",
              "</div>\n",
              "<div id=\"navigation-container\">\n",
              "<div class=\"bbs-content\" id=\"navigation\">\n",
              "<a class=\"board\" href=\"/bbs/Beauty/index.html\">返回看板</a>\n",
              "<div class=\"bar\"></div>\n",
              "</div>\n",
              "</div>\n",
              "<div id=\"main-container\">\n",
              "<div class=\"bbs-screen bbs-content\" id=\"main-content\"><div class=\"article-metaline\"><span class=\"article-meta-tag\">作者</span><span class=\"article-meta-value\">playerunknow (SuA)</span></div><div class=\"article-metaline-right\"><span class=\"article-meta-tag\">看板</span><span class=\"article-meta-value\">Beauty</span></div><div class=\"article-metaline\"><span class=\"article-meta-tag\">標題</span><span class=\"article-meta-value\">[正妹] 東雲うみ</span></div><div class=\"article-metaline\"><span class=\"article-meta-tag\">時間</span><span class=\"article-meta-value\">Mon Apr 21 14:15:38 2025</span></div>\n",
              "<a href=\"https://i.imgur.com/KybCapc.jpeg\" rel=\"noreferrer noopener nofollow\" target=\"_blank\">https://i.imgur.com/KybCapc.jpeg</a>\n",
              "<a href=\"https://i.imgur.com/k67JoVD.png\" rel=\"noreferrer noopener nofollow\" target=\"_blank\">https://i.imgur.com/k67JoVD.png</a>\n",
              "<a href=\"https://i.imgur.com/uU2d9PG.png\" rel=\"noreferrer noopener nofollow\" target=\"_blank\">https://i.imgur.com/uU2d9PG.png</a>\n",
              "<a href=\"https://i.imgur.com/gKhQZiH.png\" rel=\"noreferrer noopener nofollow\" target=\"_blank\">https://i.imgur.com/gKhQZiH.png</a>\n",
              "<a href=\"https://i.imgur.com/jkJ2I9X.png\" rel=\"noreferrer noopener nofollow\" target=\"_blank\">https://i.imgur.com/jkJ2I9X.png</a>\n",
              "<a href=\"https://i.imgur.com/MiAECwM.png\" rel=\"noreferrer noopener nofollow\" target=\"_blank\">https://i.imgur.com/MiAECwM.png</a>\n",
              "<a href=\"https://i.imgur.com/9UPavxm.png\" rel=\"noreferrer noopener nofollow\" target=\"_blank\">https://i.imgur.com/9UPavxm.png</a>\n",
              "<a href=\"https://i.imgur.com/OwgdISp.png\" rel=\"noreferrer noopener nofollow\" target=\"_blank\">https://i.imgur.com/OwgdISp.png</a>\n",
              "<a href=\"https://i.imgur.com/d7Jj3np.jpeg\" rel=\"noreferrer noopener nofollow\" target=\"_blank\">https://i.imgur.com/d7Jj3np.jpeg</a>\n",
              "<a href=\"https://i.imgur.com/aGEpK6p.png\" rel=\"noreferrer noopener nofollow\" target=\"_blank\">https://i.imgur.com/aGEpK6p.png</a>\n",
              "<a href=\"https://i.imgur.com/3CUGvza.jpeg\" rel=\"noreferrer noopener nofollow\" target=\"_blank\">https://i.imgur.com/3CUGvza.jpeg</a>\n",
              "<a href=\"https://i.imgur.com/fHzY68L.png\" rel=\"noreferrer noopener nofollow\" target=\"_blank\">https://i.imgur.com/fHzY68L.png</a>\n",
              "<a href=\"https://i.imgur.com/4imo5dr.png\" rel=\"noreferrer noopener nofollow\" target=\"_blank\">https://i.imgur.com/4imo5dr.png</a>\n",
              "\n",
              "--\n",
              "<span class=\"f2\">※ 發信站: 批踢踢實業坊(ptt.cc), 來自: 1.165.38.158 (臺灣)\n",
              "</span><span class=\"f2\">※ 文章網址: <a href=\"https://www.ptt.cc/bbs/Beauty/M.1745216140.A.52E.html\" rel=\"noreferrer noopener nofollow\" target=\"_blank\">https://www.ptt.cc/bbs/Beauty/M.1745216140.A.52E.html</a>\n",
              "</span><div class=\"push\"><span class=\"hl push-tag\">推 </span><span class=\"f3 hl push-userid\">koujei</span><span class=\"f3 push-content\">: 為什麼不戴眼鏡，哭啊</span><span class=\"push-ipdatetime\"> 36.235.233.206 04/21 14:22\n",
              "</span></div><div class=\"push\"><span class=\"f1 hl push-tag\">→ </span><span class=\"f3 hl push-userid\">azeroth</span><span class=\"f3 push-content\">: =_=疑~好像有點怪怪的</span><span class=\"push-ipdatetime\">111.242.118.217 04/21 14:26\n",
              "</span></div><div class=\"push\"><span class=\"hl push-tag\">推 </span><span class=\"f3 hl push-userid\">baychi999</span><span class=\"f3 push-content\">: 最頂的</span><span class=\"push-ipdatetime\">122.117.200.204 04/21 14:28\n",
              "</span></div><div class=\"push\"><span class=\"hl push-tag\">推 </span><span class=\"f3 hl push-userid\">chen2021</span><span class=\"f3 push-content\">: 是不是有整 怎麼感覺變一個人</span><span class=\"push-ipdatetime\">   101.9.35.126 04/21 14:30\n",
              "</span></div><div class=\"push\"><span class=\"f1 hl push-tag\">→ </span><span class=\"f3 hl push-userid\">FarkU</span><span class=\"f3 push-content\">: 現在是胖東雲</span><span class=\"push-ipdatetime\">   118.168.55.5 04/21 14:33\n",
              "</span></div><div class=\"push\"><span class=\"f1 hl push-tag\">→ </span><span class=\"f3 hl push-userid\">giantwinter</span><span class=\"f3 push-content\">: 戴眼鏡好像小丘</span><span class=\"push-ipdatetime\">   42.73.71.251 04/21 14:43\n",
              "</span></div><div class=\"push\"><span class=\"hl push-tag\">推 </span><span class=\"f3 hl push-userid\">sunnyyoung</span><span class=\"f3 push-content\">: 再劣下去就會變羅小雲</span><span class=\"push-ipdatetime\">  101.12.146.46 04/21 14:46\n",
              "</span></div><div class=\"push\"><span class=\"f1 hl push-tag\">→ </span><span class=\"f3 hl push-userid\">bread220</span><span class=\"f3 push-content\">: 這種肉感真的剛剛好</span><span class=\"push-ipdatetime\">  49.216.47.167 04/21 14:50\n",
              "</span></div><div class=\"push\"><span class=\"hl push-tag\">推 </span><span class=\"f3 hl push-userid\">hanainori</span><span class=\"f3 push-content\">: 我東進</span><span class=\"push-ipdatetime\"> 114.136.213.42 04/21 15:33\n",
              "</span></div><span class=\"f2\">※ 編輯: playerunknow (1.165.38.158 臺灣), 04/21/2025 15:59:29\n",
              "</span><div class=\"push\"><span class=\"hl push-tag\">推 </span><span class=\"f3 hl push-userid\">michael0323</span><span class=\"f3 push-content\">: 看一次推一次，有夠完美的身材</span><span class=\"push-ipdatetime\">114.136.214.132 04/21 16:01\n",
              "</span></div><div class=\"push\"><span class=\"f1 hl push-tag\">→ </span><span class=\"f3 hl push-userid\">s860703</span><span class=\"f3 push-content\">: 為何感覺變不一樣</span><span class=\"push-ipdatetime\">  106.64.73.144 04/21 16:23\n",
              "</span></div><div class=\"push\"><span class=\"f1 hl push-tag\">→ </span><span class=\"f3 hl push-userid\">limitlesscit</span><span class=\"f3 push-content\">: 雖然知道是整的，但是還是好愛阿~</span><span class=\"push-ipdatetime\">118.163.110.208 04/21 16:27\n",
              "</span></div><div class=\"push\"><span class=\"hl push-tag\">推 </span><span class=\"f3 hl push-userid\">Ron51320</span><span class=\"f3 push-content\">: 戴眼鏡才是完整體</span><span class=\"push-ipdatetime\"> 101.10.236.174 04/21 16:33\n",
              "</span></div><div class=\"push\"><span class=\"hl push-tag\">推 </span><span class=\"f3 hl push-userid\">Krishna</span><span class=\"f3 push-content\">: 這組不好看</span><span class=\"push-ipdatetime\">    101.10.3.48 04/21 17:00\n",
              "</span></div><div class=\"push\"><span class=\"f1 hl push-tag\">→ </span><span class=\"f3 hl push-userid\">hanainori</span><span class=\"f3 push-content\">: 這組眼袋超大</span><span class=\"push-ipdatetime\"> 114.136.213.42 04/21 17:01\n",
              "</span></div><div class=\"push\"><span class=\"hl push-tag\">推 </span><span class=\"f3 hl push-userid\">n61208</span><span class=\"f3 push-content\">: 她不適合戴眼鏡</span><span class=\"push-ipdatetime\">223.141.143.133 04/21 17:05\n",
              "</span></div><div class=\"push\"><span class=\"hl push-tag\">推 </span><span class=\"f3 hl push-userid\">a4990640</span><span class=\"f3 push-content\">: 他真的好完美</span><span class=\"push-ipdatetime\">    39.12.72.98 04/21 17:14\n",
              "</span></div><div class=\"push\"><span class=\"hl push-tag\">推 </span><span class=\"f3 hl push-userid\">azeroth</span><span class=\"f3 push-content\">: =_=不是耶 以前眼鏡才是他本體..現在怎麼</span><span class=\"push-ipdatetime\">111.242.118.217 04/21 17:20\n",
              "</span></div><div class=\"push\"><span class=\"hl push-tag\">推 </span><span class=\"f3 hl push-userid\">tomlee1130</span><span class=\"f3 push-content\">: 光明水卜櫻</span><span class=\"push-ipdatetime\"> 223.143.208.23 04/21 17:36\n",
              "</span></div><div class=\"push\"><span class=\"hl push-tag\">推 </span><span class=\"f3 hl push-userid\">jack9558</span><span class=\"f3 push-content\">: 有點胖太多...</span><span class=\"push-ipdatetime\">  125.253.50.18 04/21 17:48\n",
              "</span></div><div class=\"push\"><span class=\"hl push-tag\">推 </span><span class=\"f3 hl push-userid\">gg86300</span><span class=\"f3 push-content\">: 怎麼跟眼鏡配起來怪怪的？</span><span class=\"push-ipdatetime\"> 175.98.141.254 04/21 17:52\n",
              "</span></div><div class=\"push\"><span class=\"hl push-tag\">推 </span><span class=\"f3 hl push-userid\">AlonsoHC</span><span class=\"f3 push-content\">: 第二張差點看成棒棒的</span><span class=\"push-ipdatetime\">  118.171.89.13 04/21 18:01\n",
              "</span></div><div class=\"push\"><span class=\"hl push-tag\">推 </span><span class=\"f3 hl push-userid\">kevinacc084</span><span class=\"f3 push-content\">: 又圓又大</span><span class=\"push-ipdatetime\"> 223.136.137.23 04/21 18:03\n",
              "</span></div><div class=\"push\"><span class=\"hl push-tag\">推 </span><span class=\"f3 hl push-userid\">killer2857</span><span class=\"f3 push-content\">: 可以配3碗飯</span><span class=\"push-ipdatetime\">  49.216.51.145 04/21 18:06\n",
              "</span></div><div class=\"push\"><span class=\"hl push-tag\">推 </span><span class=\"f3 hl push-userid\">H004321</span><span class=\"f3 push-content\">: 胖一點好啊！ 讚</span><span class=\"push-ipdatetime\">  49.216.255.82 04/21 18:29\n",
              "</span></div><div class=\"push\"><span class=\"f1 hl push-tag\">→ </span><span class=\"f3 hl push-userid\">chanceiam</span><span class=\"f3 push-content\">: 1-10、11張怪怪的，只有一張好看？</span><span class=\"push-ipdatetime\">  1.163.212.212 04/21 18:42\n",
              "</span></div><div class=\"push\"><span class=\"hl push-tag\">推 </span><span class=\"f3 hl push-userid\">kenike</span><span class=\"f3 push-content\">: 這組拍得怪怪的</span><span class=\"push-ipdatetime\">  211.23.72.231 04/21 18:45\n",
              "</span></div><div class=\"push\"><span class=\"hl push-tag\">推 </span><span class=\"f3 hl push-userid\">belucky</span><span class=\"f3 push-content\">: 眼鏡奶妹</span><span class=\"push-ipdatetime\">   39.12.24.193 04/21 19:05\n",
              "</span></div><div class=\"push\"><span class=\"hl push-tag\">推 </span><span class=\"f3 hl push-userid\">popptt</span><span class=\"f3 push-content\">: 讚讚讚</span><span class=\"push-ipdatetime\">  36.225.17.138 04/21 20:02\n",
              "</span></div><div class=\"push\"><span class=\"hl push-tag\">推 </span><span class=\"f3 hl push-userid\">lee198218</span><span class=\"f3 push-content\">: 油膩膩</span><span class=\"push-ipdatetime\">    27.53.96.57 04/21 20:04\n",
              "</span></div><div class=\"push\"><span class=\"hl push-tag\">推 </span><span class=\"f3 hl push-userid\">fattree</span><span class=\"f3 push-content\">: 沒戴眼鏡，色氣少一半</span><span class=\"push-ipdatetime\">   1.161.13.168 04/21 20:04\n",
              "</span></div><div class=\"push\"><span class=\"hl push-tag\">推 </span><span class=\"f3 hl push-userid\">ok771105</span><span class=\"f3 push-content\">: 肉肉女</span><span class=\"push-ipdatetime\">   36.229.69.27 04/21 21:01\n",
              "</span></div><div class=\"push\"><span class=\"f1 hl push-tag\">→ </span><span class=\"f3 hl push-userid\">yoyo830917</span><span class=\"f3 push-content\">: 最近瘦到假體的形狀很明顯</span><span class=\"push-ipdatetime\">118.166.206.224 04/21 21:14\n",
              "</span></div><div class=\"push\"><span class=\"hl push-tag\">推 </span><span class=\"f3 hl push-userid\">MoDerF</span><span class=\"f3 push-content\">:  <a href=\"https://i.imgur.com/Zyl2JHR.jpeg\" rel=\"noreferrer noopener nofollow\" target=\"_blank\">https://i.imgur.com/Zyl2JHR.jpeg</a></span><span class=\"push-ipdatetime\">  49.216.164.10 04/21 21:22\n",
              "</span></div><div class=\"push\"><span class=\"f1 hl push-tag\">→ </span><span class=\"f3 hl push-userid\">MoDerF</span><span class=\"f3 push-content\">: 我沒了</span><span class=\"push-ipdatetime\">  49.216.164.10 04/21 21:22\n",
              "</span></div><div class=\"push\"><span class=\"hl push-tag\">推 </span><span class=\"f3 hl push-userid\">sorrowtear</span><span class=\"f3 push-content\">: 不帶眼鏡很普 帶上眼鏡才地味濃</span><span class=\"push-ipdatetime\">  1.168.208.234 04/21 21:29\n",
              "</span></div><div class=\"push\"><span class=\"hl push-tag\">推 </span><span class=\"f3 hl push-userid\">a126451026</span><span class=\"f3 push-content\">: 眼鏡才是本體阿</span><span class=\"push-ipdatetime\">   42.72.11.178 04/21 22:18\n",
              "</span></div><div class=\"push\"><span class=\"f1 hl push-tag\">→ </span><span class=\"f3 hl push-userid\">CSSun</span><span class=\"f3 push-content\">: 當素人很棒，當模特就略遜了。</span><span class=\"push-ipdatetime\">    1.160.133.3 04/21 22:34\n",
              "</span></div><div class=\"push\"><span class=\"hl push-tag\">推 </span><span class=\"f3 hl push-userid\">chyo0722</span><span class=\"f3 push-content\">: うみ推爆</span><span class=\"push-ipdatetime\">223.137.162.195 04/21 22:54\n",
              "</span></div><div class=\"push\"><span class=\"hl push-tag\">推 </span><span class=\"f3 hl push-userid\">HaiirotoAo</span><span class=\"f3 push-content\">: 為什麼會有人戴眼鏡比較好看</span><span class=\"push-ipdatetime\">     39.14.9.21 04/21 22:57\n",
              "</span></div><div class=\"push\"><span class=\"f1 hl push-tag\">→ </span><span class=\"f3 hl push-userid\">CmDawn</span><span class=\"f3 push-content\">: 你們宅男喜歡看假的東西不會去用AI生圖喔</span><span class=\"push-ipdatetime\">   218.172.0.39 04/21 23:09\n",
              "</span></div><div class=\"push\"><span class=\"f1 hl push-tag\">→ </span><span class=\"f3 hl push-userid\">winteryoyo</span><span class=\"f3 push-content\">: 有越來越東南越的感覺</span><span class=\"push-ipdatetime\">  114.38.38.239 04/22 03:24\n",
              "</span></div><div class=\"push\"><span class=\"hl push-tag\">推 </span><span class=\"f3 hl push-userid\">pizzalot</span><span class=\"f3 push-content\">: 臉怎麼變圓了</span><span class=\"push-ipdatetime\"> 101.10.159.198 04/22 10:04\n",
              "</span></div><div class=\"push\"><span class=\"hl push-tag\">推 </span><span class=\"f3 hl push-userid\">a3338183</span><span class=\"f3 push-content\">: 她只有在戴上眼鏡的時候才有辨識度</span><span class=\"push-ipdatetime\">   211.23.87.38 04/22 13:11\n",
              "</span></div><div class=\"push\"><span class=\"f1 hl push-tag\">→ </span><span class=\"f3 hl push-userid\">raku</span><span class=\"f3 push-content\">: 女人 戴上你的眼鏡</span><span class=\"push-ipdatetime\">223.137.215.133 04/22 14:29\n",
              "</span></div><div class=\"push\"><span class=\"hl push-tag\">推 </span><span class=\"f3 hl push-userid\">jeff520</span><span class=\"f3 push-content\">: 推</span><span class=\"push-ipdatetime\">  223.23.183.60 04/23 09:45\n",
              "</span></div></div>\n",
              "<div data-longpollurl=\"/v1/longpoll?id=915dbc25dd920c181e14f23da6ad47d2a3d3b79c\" data-offset=\"5396\" data-pollurl=\"/poll/Beauty/M.1745216140.A.52E.html?cacheKey=2148-612049962&amp;offset=5396&amp;offset-sig=d2ee0f79417559a520a1cd42d9798deae344e5f8\" id=\"article-polling\"></div>\n",
              "<div class=\"bbs-screen bbs-footer-message\">本網站已依台灣網站內容分級規定處理。此區域為限制級，未滿十八歲者不得瀏覽。</div>\n",
              "</div>\n",
              "<script async=\"\" src=\"https://www.googletagmanager.com/gtag/js?id=G-DZ6Y3BY9GW\"></script>\n",
              "<script>\n",
              "      window.dataLayer = window.dataLayer || [];\n",
              "      function gtag(){dataLayer.push(arguments);}\n",
              "      gtag('js', new Date());\n",
              "\n",
              "      gtag('config', 'G-DZ6Y3BY9GW');\n",
              "</script>\n",
              "<script>\n",
              "  (function(i,s,o,g,r,a,m){i['GoogleAnalyticsObject']=r;i[r]=i[r]||function(){\n",
              "  (i[r].q=i[r].q||[]).push(arguments)},i[r].l=1*new Date();a=s.createElement(o),\n",
              "  m=s.getElementsByTagName(o)[0];a.async=1;a.src=g;m.parentNode.insertBefore(a,m)\n",
              "  })(window,document,'script','https://www.google-analytics.com/analytics.js','ga');\n",
              "\n",
              "  ga('create', 'UA-32365737-1', {\n",
              "    cookieDomain: 'ptt.cc',\n",
              "    legacyCookieDomain: 'ptt.cc'\n",
              "  });\n",
              "  ga('send', 'pageview');\n",
              "</script>\n",
              "<script src=\"//ajax.googleapis.com/ajax/libs/jquery/2.1.1/jquery.min.js\"></script>\n",
              "<script src=\"//images.ptt.cc/bbs/v2.27/bbs.js\"></script>\n",
              "<script>(function(){function c(){var b=a.contentDocument||a.contentWindow.document;if(b){var d=b.createElement('script');d.innerHTML=\"window.__CF$cv$params={r:'9372cdaecd0d6838',t:'MTc0NTgwMzkyMi4wMDAwMDA='};var a=document.createElement('script');a.nonce='';a.src='/cdn-cgi/challenge-platform/scripts/jsd/main.js';document.getElementsByTagName('head')[0].appendChild(a);\";b.getElementsByTagName('head')[0].appendChild(d)}}if(document.body){var a=document.createElement('iframe');a.height=1;a.width=1;a.style.position='absolute';a.style.top=0;a.style.left=0;a.style.border='none';a.style.visibility='hidden';document.body.appendChild(a);if('loading'!==document.readyState)c();else if(window.addEventListener)document.addEventListener('DOMContentLoaded',c);else{var e=document.onreadystatechange||function(){};document.onreadystatechange=function(b){e(b);'loading'!==document.readyState&&(document.onreadystatechange=e,c())}}}})();</script></body>\n",
              "</html>"
            ]
          },
          "metadata": {},
          "execution_count": 8
        }
      ]
    },
    {
      "cell_type": "code",
      "source": [
        "# 第三方request\n",
        "import requests\n",
        "h = {\n",
        "    \"user-agent\": \"xxxxx\"\n",
        "}\n",
        "# open -> get\n",
        "resp = requests.get(url)\n",
        "# read\n",
        "content = resp.text\n",
        "bs.BeautifulSoup(content)\n",
        "# resp.request.headers\n",
        "# resp.headers"
      ],
      "metadata": {
        "colab": {
          "base_uri": "https://localhost:8080/"
        },
        "id": "G0SyvHuuBeas",
        "outputId": "2d9a34ca-5fad-41df-9627-5604c39653e4"
      },
      "execution_count": 9,
      "outputs": [
        {
          "output_type": "execute_result",
          "data": {
            "text/plain": [
              "{'User-Agent': 'python-requests/2.32.3', 'Accept-Encoding': 'gzip, deflate, zstd', 'Accept': '*/*', 'Connection': 'keep-alive'}"
            ]
          },
          "metadata": {},
          "execution_count": 9
        }
      ]
    }
  ]
}