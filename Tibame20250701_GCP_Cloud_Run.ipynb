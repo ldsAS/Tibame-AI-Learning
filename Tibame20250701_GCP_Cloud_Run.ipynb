{
  "nbformat": 4,
  "nbformat_minor": 0,
  "metadata": {
    "colab": {
      "provenance": [],
      "include_colab_link": true
    },
    "kernelspec": {
      "name": "python3",
      "display_name": "Python 3"
    },
    "language_info": {
      "name": "python"
    }
  },
  "cells": [
    {
      "cell_type": "markdown",
      "metadata": {
        "id": "view-in-github",
        "colab_type": "text"
      },
      "source": [
        "<a href=\"https://colab.research.google.com/github/ldsAS/Tibame-AI-Learning/blob/main/Tibame20250701_GCP_Cloud_Run.ipynb\" target=\"_parent\"><img src=\"https://colab.research.google.com/assets/colab-badge.svg\" alt=\"Open In Colab\"/></a>"
      ]
    },
    {
      "cell_type": "markdown",
      "source": [
        "#### 步驟1-1"
      ],
      "metadata": {
        "id": "9Owdrk_bzAVS"
      }
    },
    {
      "cell_type": "markdown",
      "source": [
        "#### 授予Colab權限"
      ],
      "metadata": {
        "id": "8pDq_hUV0eva"
      }
    },
    {
      "cell_type": "code",
      "execution_count": 1,
      "metadata": {
        "id": "CHB7dI8bsLES"
      },
      "outputs": [],
      "source": [
        "from google.colab import auth\n",
        "auth.authenticate_user()"
      ]
    },
    {
      "cell_type": "markdown",
      "source": [
        "#### 使用CLI指令更改專案ID與地區"
      ],
      "metadata": {
        "id": "yHRSGX0w0GHB"
      }
    },
    {
      "cell_type": "code",
      "source": [
        "!gcloud config set project tibame-gad251-31-0701\n",
        "!gcloud config set run/region asia-east1"
      ],
      "metadata": {
        "id": "G2CSuge5y6hs",
        "colab": {
          "base_uri": "https://localhost:8080/"
        },
        "outputId": "04230781-03d3-45ca-95ec-731dd3abab1d"
      },
      "execution_count": 2,
      "outputs": [
        {
          "output_type": "stream",
          "name": "stdout",
          "text": [
            "Updated property [core/project].\n",
            "Updated property [run/region].\n"
          ]
        }
      ]
    },
    {
      "cell_type": "markdown",
      "source": [
        "#### 步驟 1-2"
      ],
      "metadata": {
        "id": "H0Ppmu4z0RrH"
      }
    },
    {
      "cell_type": "markdown",
      "source": [
        "#### 撰寫應用程式"
      ],
      "metadata": {
        "id": "S3qKkL6u0re-"
      }
    },
    {
      "cell_type": "code",
      "source": [
        "# 請參考你提供的完整程式碼，略過重複貼上\n",
        "# 建議存檔方式：\n",
        "main_py = '''\n",
        "from flask import Flask, request, abort\n",
        "from linebot import LineBotApi, WebhookHandler\n",
        "from linebot.models import MessageEvent, TextMessage, TextSendMessage\n",
        "from linebot.exceptions import InvalidSignatureError\n",
        "from google.cloud import bigquery\n",
        "import os\n",
        "\n",
        "app = Flask(__name__)\n",
        "\n",
        "# 讀取環境變數\n",
        "LINE_CHANNEL_ACCESS_TOKEN = os.getenv('LINE_CHANNEL_ACCESS_TOKEN')\n",
        "LINE_CHANNEL_SECRET = os.getenv('LINE_CHANNEL_SECRET')\n",
        "PROJECT_ID = os.getenv('GCP_PROJECT_ID')\n",
        "DATASET_ID = os.getenv('BQ_DATASET_ID')\n",
        "MODEL_ID = os.getenv('BQ_MODEL_ID')\n",
        "\n",
        "line_bot_api = LineBotApi(LINE_CHANNEL_ACCESS_TOKEN)\n",
        "handler = WebhookHandler(LINE_CHANNEL_SECRET)\n",
        "bq_client = bigquery.Client()\n",
        "\n",
        "def parse_user_input(text):\n",
        "    try:\n",
        "        return dict(item.strip().split(\"=\") for item in text.split(\",\"))\n",
        "    except Exception:\n",
        "        return None\n",
        "\n",
        "def predict_income(data):\n",
        "    query = f\"\"\"\n",
        "    WITH prediction AS (\n",
        "      SELECT\n",
        "        predicted_income_bracket,\n",
        "        predicted_income_bracket_probs\n",
        "      FROM\n",
        "        ML.PREDICT (\n",
        "          MODEL `{PROJECT_ID}.{DATASET_ID}.{MODEL_ID}`,\n",
        "          (\n",
        "            SELECT\n",
        "              {data['age']} AS age,\n",
        "              '{data['workclass']}' AS workclass,\n",
        "              '{data['marital_status']}' AS marital_status,\n",
        "              {data['education_num']} AS education_num,\n",
        "              '{data['occupation']}' AS occupation,\n",
        "              {data['hours_per_week']} AS hours_per_week\n",
        "              -- Removed income_bracket from input features\n",
        "          )\n",
        "        )\n",
        "    )\n",
        "    SELECT\n",
        "      predicted_income_bracket,\n",
        "      MAX(IF(TRIM(LOWER(probs.label)) = '>50k', probs.prob, NULL)) AS prob_gt_50k,\n",
        "      MAX(IF(TRIM(LOWER(probs.label)) = '<=50k', probs.prob, NULL)) AS prob_le_50k\n",
        "    FROM prediction, UNNEST(predicted_income_bracket_probs) AS probs\n",
        "    GROUP BY predicted_income_bracket\n",
        "    LIMIT 1\n",
        "    \"\"\"\n",
        "    result = bq_client.query(query).result()\n",
        "    row = next(result)\n",
        "    return row.predicted_income_bracket, row.prob_gt_50k, row.prob_le_50k\n",
        "@app.route(\"/\")\n",
        "def index():\n",
        "    return \"Hello from Cloud Run!\"\n",
        "\n",
        "@app.route(\"/callback\", methods=['POST'])\n",
        "def callback():\n",
        "    signature = request.headers['X-Line-Signature']\n",
        "    body = request.get_data(as_text=True)\n",
        "    try:\n",
        "        handler.handle(body, signature)\n",
        "    except InvalidSignatureError:\n",
        "        abort(400)\n",
        "    return 'OK'\n",
        "\n",
        "@handler.add(MessageEvent, message=TextMessage)\n",
        "def handle_message(event):\n",
        "    user_input = event.message.text\n",
        "    parsed = parse_user_input(user_input)\n",
        "\n",
        "    if parsed is None:\n",
        "        reply = \"\"\"請輸入格式正確的資料，例如：\n",
        "age=45, education_num=13, occupation=Exec-managerial, \\\n",
        "hours_per_week=50, workclass=Private, \\\n",
        "marital_status=Married-civ-spouse\"\"\" # Removed income_bracket from example input\n",
        "    else:\n",
        "        try:\n",
        "            # Use a single multiline f-string for the reply\n",
        "            label, prob_gt_50k, prob_le_50k = predict_income(parsed)\n",
        "\n",
        "            # Handle potential None values for probabilities\n",
        "            prob_gt_50k_str = f\"{round(prob_gt_50k * 100, 2)}%\" if prob_gt_50k is not None else \"無法取得\"\n",
        "            prob_le_50k_str = f\"{round(prob_le_50k * 100, 2)}%\" if prob_le_50k is not None else \"無法取得\"\n",
        "\n",
        "            reply = f\"\"\"預測結果：{label}\n",
        ">50K 機率：{prob_gt_50k_str}\n",
        "<=50K 機率：{prob_le_50k_str}\"\"\"\n",
        "        except Exception as e:\n",
        "            reply = f\"發生錯誤：{str(e)}\"\n",
        "\n",
        "    line_bot_api.reply_message(\n",
        "        event.reply_token,\n",
        "        TextSendMessage(text=reply)\n",
        "    )\n",
        "\n",
        "if __name__ == '__main__':\n",
        "    port = int(os.environ.get(\"PORT\", 8080))\n",
        "    app.run(host='0.0.0.0', port=port)\n",
        "'''\n",
        "with open(\"main.py\", \"w\") as f:\n",
        "    f.write(main_py)\n"
      ],
      "metadata": {
        "id": "UpFXthoNy-FN"
      },
      "execution_count": 3,
      "outputs": []
    },
    {
      "cell_type": "markdown",
      "source": [
        "#### 步驟2"
      ],
      "metadata": {
        "id": "5z72qpNQ3P3p"
      }
    },
    {
      "cell_type": "markdown",
      "source": [
        "#### 撰寫requirements.txt"
      ],
      "metadata": {
        "id": "JDLgQoWj3TsF"
      }
    },
    {
      "cell_type": "code",
      "source": [
        "with open(\"requirements.txt\", \"w\") as f:\n",
        "    f.write(\n",
        "        \"flask\\n\"\n",
        "        \"line-bot-sdk\\n\"\n",
        "        \"google-cloud-bigquery\\n\"\n",
        "        \"pandas\\n\"\n",
        "        \"gunicorn\\n\"\n",
        "    )"
      ],
      "metadata": {
        "id": "EHwJEvPi3TUM"
      },
      "execution_count": 4,
      "outputs": []
    },
    {
      "cell_type": "markdown",
      "source": [
        "#### 步驟3"
      ],
      "metadata": {
        "id": "lYW_iC1_4rrD"
      }
    },
    {
      "cell_type": "markdown",
      "source": [
        "#### 撰寫 Dockerfile 容器設定檔"
      ],
      "metadata": {
        "id": "vP37fDPU4wAI"
      }
    },
    {
      "cell_type": "code",
      "source": [
        "dockerfile = '''\\\n",
        "FROM python:3.10-slim\n",
        "WORKDIR /app\n",
        "COPY requirements.txt ./\n",
        "RUN pip install --upgrade pip && \\\n",
        "    pip install --no-cache-dir -r requirements.txt\n",
        "COPY . .\n",
        "ENV PORT=8080\n",
        "CMD gunicorn --bind 0.0.0.0:$PORT main:app\n",
        "'''\n",
        "with open(\"Dockerfile\", \"w\") as f:\n",
        "    f.write(dockerfile)\n"
      ],
      "metadata": {
        "id": "zwVcGL3G3Pgd"
      },
      "execution_count": 7,
      "outputs": []
    },
    {
      "cell_type": "markdown",
      "source": [
        "#### 步驟 4"
      ],
      "metadata": {
        "id": "f9_9qXJY-U_5"
      }
    },
    {
      "cell_type": "markdown",
      "source": [
        "#### 建立 LINE BOT 與取得金鑰"
      ],
      "metadata": {
        "id": "7_7LhnVg-WW_"
      }
    },
    {
      "cell_type": "markdown",
      "source": [
        "#### 步驟 5：設定參數區塊"
      ],
      "metadata": {
        "id": "rtjHxD_-GKHh"
      }
    },
    {
      "cell_type": "code",
      "source": [
        "PROJECT_ID = \"tibame-gad251-31-0701\"\n",
        "REGION = \"asia-east1\"\n",
        "SERVICE_NAME = \"line-bq-ml-app\"\n",
        "\n",
        "# 此為示範用，若正常建置要留意不要將金鑰直接顯示在公開程式碼中\n",
        "LINE_CHANNEL_ACCESS_TOKEN = \"wmhbws12XusgXZOr6JfoBwzWPS3CEgAUF3/skceYOlx33Y5HNbbreNZibfUS26DO2uzyYKkJ5ND8IWAy0J62S6ruj1UXuacpkcngstdNukR2MY6uP712bc4FovPFeYAUWCG6sOtqNKcKuzuP9YJR+AdB04t89/1O/w1cDnyilFU=\"\n",
        "LINE_CHANNEL_SECRET = \"247ae9798767535c66bf1693446a885d\"\n",
        "BQ_DATASET_ID = \"tibame_gad251_31_dataset\"\n",
        "BQ_MODEL_ID = \"census_model\"\n"
      ],
      "metadata": {
        "id": "sNV8X3yaGEBH"
      },
      "execution_count": 8,
      "outputs": []
    },
    {
      "cell_type": "markdown",
      "source": [
        "#### 步驟 6：建置與部署至 Cloud Run"
      ],
      "metadata": {
        "id": "gqerFDS6IUX0"
      }
    },
    {
      "cell_type": "code",
      "source": [
        "# 建置 Container 映像\n",
        "!gcloud builds submit --tag gcr.io/{PROJECT_ID}/{SERVICE_NAME}"
      ],
      "metadata": {
        "colab": {
          "base_uri": "https://localhost:8080/"
        },
        "id": "4BjPvAZDIlGH",
        "outputId": "452d39f6-a50e-4a5b-9d82-d87434feedf5"
      },
      "execution_count": 10,
      "outputs": [
        {
          "output_type": "stream",
          "name": "stdout",
          "text": [
            "Creating temporary archive of 30 file(s) totalling 54.3 MiB before compression.\n",
            "Uploading tarball of [.] to [gs://tibame-gad251-31-0701_cloudbuild/source/1751342341.303628-fae30b39db5b47e48aad8db06555d0c7.tgz]\n",
            "Created [https://cloudbuild.googleapis.com/v1/projects/tibame-gad251-31-0701/locations/global/builds/bfe3636f-0a07-43db-96c9-9f580a6dc139].\n",
            "Logs are available at [ https://console.cloud.google.com/cloud-build/builds/bfe3636f-0a07-43db-96c9-9f580a6dc139?project=148619229718 ].\n",
            "Waiting for build to complete. Polling interval: 1 second(s).\n",
            " REMOTE BUILD OUTPUT\n",
            "starting build \"bfe3636f-0a07-43db-96c9-9f580a6dc139\"\n",
            "\n",
            "FETCHSOURCE\n",
            "Fetching storage object: gs://tibame-gad251-31-0701_cloudbuild/source/1751342341.303628-fae30b39db5b47e48aad8db06555d0c7.tgz#1751342352351429\n",
            "Copying gs://tibame-gad251-31-0701_cloudbuild/source/1751342341.303628-fae30b39db5b47e48aad8db06555d0c7.tgz#1751342352351429...\n",
            "/ [1 files][  6.5 MiB/  6.5 MiB]                                                \n",
            "Operation completed over 1 objects/6.5 MiB.                                      \n",
            "BUILD\n",
            "Already have image (with digest): gcr.io/cloud-builders/docker\n",
            "Sending build context to Docker daemon  56.97MB\n",
            "Step 1/7 : FROM python:3.10-slim\n",
            "3.10-slim: Pulling from library/python\n",
            "dad67da3f26b: Already exists\n",
            "4b03b4f4fa5c: Pulling fs layer\n",
            "50a956a18493: Pulling fs layer\n",
            "c14326ed6c85: Pulling fs layer\n",
            "c14326ed6c85: Verifying Checksum\n",
            "c14326ed6c85: Download complete\n",
            "4b03b4f4fa5c: Verifying Checksum\n",
            "4b03b4f4fa5c: Download complete\n",
            "50a956a18493: Verifying Checksum\n",
            "50a956a18493: Download complete\n",
            "4b03b4f4fa5c: Pull complete\n",
            "50a956a18493: Pull complete\n",
            "c14326ed6c85: Pull complete\n",
            "Digest: sha256:034724ef64585eeb0e82385e9aabcbeabfe5f7cae2c2dcedb1da95114372b6d7\n",
            "Status: Downloaded newer image for python:3.10-slim\n",
            " ---> cce3651534b6\n",
            "Step 2/7 : WORKDIR /app\n",
            " ---> Running in 9541d46d71df\n",
            "Removing intermediate container 9541d46d71df\n",
            " ---> e5c5fe03dccd\n",
            "Step 3/7 : COPY requirements.txt ./\n",
            " ---> 631789201e07\n",
            "Step 4/7 : RUN pip install --upgrade pip &&     pip install --no-cache-dir -r requirements.txt\n",
            " ---> Running in 8b1d83a1dd22\n",
            "Requirement already satisfied: pip in /usr/local/lib/python3.10/site-packages (23.0.1)\n",
            "Collecting pip\n",
            "  Downloading pip-25.1.1-py3-none-any.whl (1.8 MB)\n",
            "     ━━━━━━━━━━━━━━━━━━━━━━━━━━━━━━━━━━━━━━━━ 1.8/1.8 MB 28.5 MB/s eta 0:00:00\n",
            "Installing collected packages: pip\n",
            "  Attempting uninstall: pip\n",
            "    Found existing installation: pip 23.0.1\n",
            "    Uninstalling pip-23.0.1:\n",
            "      Successfully uninstalled pip-23.0.1\n",
            "Successfully installed pip-25.1.1\n",
            "\u001b[91mWARNING: Running pip as the 'root' user can result in broken permissions and conflicting behaviour with the system package manager. It is recommended to use a virtual environment instead: https://pip.pypa.io/warnings/venv\n",
            "\u001b[0mCollecting flask (from -r requirements.txt (line 1))\n",
            "  Downloading flask-3.1.1-py3-none-any.whl.metadata (3.0 kB)\n",
            "Collecting line-bot-sdk (from -r requirements.txt (line 2))\n",
            "  Downloading line_bot_sdk-3.17.1-py2.py3-none-any.whl.metadata (13 kB)\n",
            "Collecting google-cloud-bigquery (from -r requirements.txt (line 3))\n",
            "  Downloading google_cloud_bigquery-3.34.0-py3-none-any.whl.metadata (8.0 kB)\n",
            "Collecting pandas (from -r requirements.txt (line 4))\n",
            "  Downloading pandas-2.3.0-cp310-cp310-manylinux_2_17_x86_64.manylinux2014_x86_64.whl.metadata (91 kB)\n",
            "Collecting gunicorn (from -r requirements.txt (line 5))\n",
            "  Downloading gunicorn-23.0.0-py3-none-any.whl.metadata (4.4 kB)\n",
            "Collecting blinker>=1.9.0 (from flask->-r requirements.txt (line 1))\n",
            "  Downloading blinker-1.9.0-py3-none-any.whl.metadata (1.6 kB)\n",
            "Collecting click>=8.1.3 (from flask->-r requirements.txt (line 1))\n",
            "  Downloading click-8.2.1-py3-none-any.whl.metadata (2.5 kB)\n",
            "Collecting itsdangerous>=2.2.0 (from flask->-r requirements.txt (line 1))\n",
            "  Downloading itsdangerous-2.2.0-py3-none-any.whl.metadata (1.9 kB)\n",
            "Collecting jinja2>=3.1.2 (from flask->-r requirements.txt (line 1))\n",
            "  Downloading jinja2-3.1.6-py3-none-any.whl.metadata (2.9 kB)\n",
            "Collecting markupsafe>=2.1.1 (from flask->-r requirements.txt (line 1))\n",
            "  Downloading MarkupSafe-3.0.2-cp310-cp310-manylinux_2_17_x86_64.manylinux2014_x86_64.whl.metadata (4.0 kB)\n",
            "Collecting werkzeug>=3.1.0 (from flask->-r requirements.txt (line 1))\n",
            "  Downloading werkzeug-3.1.3-py3-none-any.whl.metadata (3.7 kB)\n",
            "Collecting requests<3,>=2.32.3 (from line-bot-sdk->-r requirements.txt (line 2))\n",
            "  Downloading requests-2.32.4-py3-none-any.whl.metadata (4.9 kB)\n",
            "Collecting urllib3<3,>=2.0.5 (from line-bot-sdk->-r requirements.txt (line 2))\n",
            "  Downloading urllib3-2.5.0-py3-none-any.whl.metadata (6.5 kB)\n",
            "Collecting aiohttp<4,>=3.10.9 (from line-bot-sdk->-r requirements.txt (line 2))\n",
            "  Downloading aiohttp-3.12.13-cp310-cp310-manylinux_2_17_x86_64.manylinux2014_x86_64.whl.metadata (7.6 kB)\n",
            "Collecting future>=1.0.0 (from line-bot-sdk->-r requirements.txt (line 2))\n",
            "  Downloading future-1.0.0-py3-none-any.whl.metadata (4.0 kB)\n",
            "Collecting pydantic<3,>=2.0.3 (from line-bot-sdk->-r requirements.txt (line 2))\n",
            "  Downloading pydantic-2.11.7-py3-none-any.whl.metadata (67 kB)\n",
            "Collecting aenum<4,>=3.1.11 (from line-bot-sdk->-r requirements.txt (line 2))\n",
            "  Downloading aenum-3.1.16-py3-none-any.whl.metadata (3.8 kB)\n",
            "Collecting python_dateutil<3,>=2.5.3 (from line-bot-sdk->-r requirements.txt (line 2))\n",
            "  Downloading python_dateutil-2.9.0.post0-py2.py3-none-any.whl.metadata (8.4 kB)\n",
            "Collecting Deprecated>=1.2.18 (from line-bot-sdk->-r requirements.txt (line 2))\n",
            "  Downloading Deprecated-1.2.18-py2.py3-none-any.whl.metadata (5.7 kB)\n",
            "Collecting aiohappyeyeballs>=2.5.0 (from aiohttp<4,>=3.10.9->line-bot-sdk->-r requirements.txt (line 2))\n",
            "  Downloading aiohappyeyeballs-2.6.1-py3-none-any.whl.metadata (5.9 kB)\n",
            "Collecting aiosignal>=1.1.2 (from aiohttp<4,>=3.10.9->line-bot-sdk->-r requirements.txt (line 2))\n",
            "  Downloading aiosignal-1.3.2-py2.py3-none-any.whl.metadata (3.8 kB)\n",
            "Collecting async-timeout<6.0,>=4.0 (from aiohttp<4,>=3.10.9->line-bot-sdk->-r requirements.txt (line 2))\n",
            "  Downloading async_timeout-5.0.1-py3-none-any.whl.metadata (5.1 kB)\n",
            "Collecting attrs>=17.3.0 (from aiohttp<4,>=3.10.9->line-bot-sdk->-r requirements.txt (line 2))\n",
            "  Downloading attrs-25.3.0-py3-none-any.whl.metadata (10 kB)\n",
            "Collecting frozenlist>=1.1.1 (from aiohttp<4,>=3.10.9->line-bot-sdk->-r requirements.txt (line 2))\n",
            "  Downloading frozenlist-1.7.0-cp310-cp310-manylinux_2_5_x86_64.manylinux1_x86_64.manylinux_2_17_x86_64.manylinux2014_x86_64.whl.metadata (18 kB)\n",
            "Collecting multidict<7.0,>=4.5 (from aiohttp<4,>=3.10.9->line-bot-sdk->-r requirements.txt (line 2))\n",
            "  Downloading multidict-6.6.3-cp310-cp310-manylinux2014_x86_64.manylinux_2_17_x86_64.manylinux_2_28_x86_64.whl.metadata (5.3 kB)\n",
            "Collecting propcache>=0.2.0 (from aiohttp<4,>=3.10.9->line-bot-sdk->-r requirements.txt (line 2))\n",
            "  Downloading propcache-0.3.2-cp310-cp310-manylinux_2_17_x86_64.manylinux2014_x86_64.whl.metadata (12 kB)\n",
            "Collecting yarl<2.0,>=1.17.0 (from aiohttp<4,>=3.10.9->line-bot-sdk->-r requirements.txt (line 2))\n",
            "  Downloading yarl-1.20.1-cp310-cp310-manylinux_2_17_x86_64.manylinux2014_x86_64.whl.metadata (73 kB)\n",
            "Collecting typing-extensions>=4.1.0 (from multidict<7.0,>=4.5->aiohttp<4,>=3.10.9->line-bot-sdk->-r requirements.txt (line 2))\n",
            "  Downloading typing_extensions-4.14.0-py3-none-any.whl.metadata (3.0 kB)\n",
            "Collecting annotated-types>=0.6.0 (from pydantic<3,>=2.0.3->line-bot-sdk->-r requirements.txt (line 2))\n",
            "  Downloading annotated_types-0.7.0-py3-none-any.whl.metadata (15 kB)\n",
            "Collecting pydantic-core==2.33.2 (from pydantic<3,>=2.0.3->line-bot-sdk->-r requirements.txt (line 2))\n",
            "  Downloading pydantic_core-2.33.2-cp310-cp310-manylinux_2_17_x86_64.manylinux2014_x86_64.whl.metadata (6.8 kB)\n",
            "Collecting typing-inspection>=0.4.0 (from pydantic<3,>=2.0.3->line-bot-sdk->-r requirements.txt (line 2))\n",
            "  Downloading typing_inspection-0.4.1-py3-none-any.whl.metadata (2.6 kB)\n",
            "Collecting six>=1.5 (from python_dateutil<3,>=2.5.3->line-bot-sdk->-r requirements.txt (line 2))\n",
            "  Downloading six-1.17.0-py2.py3-none-any.whl.metadata (1.7 kB)\n",
            "Collecting charset_normalizer<4,>=2 (from requests<3,>=2.32.3->line-bot-sdk->-r requirements.txt (line 2))\n",
            "  Downloading charset_normalizer-3.4.2-cp310-cp310-manylinux_2_17_x86_64.manylinux2014_x86_64.whl.metadata (35 kB)\n",
            "Collecting idna<4,>=2.5 (from requests<3,>=2.32.3->line-bot-sdk->-r requirements.txt (line 2))\n",
            "  Downloading idna-3.10-py3-none-any.whl.metadata (10 kB)\n",
            "Collecting certifi>=2017.4.17 (from requests<3,>=2.32.3->line-bot-sdk->-r requirements.txt (line 2))\n",
            "  Downloading certifi-2025.6.15-py3-none-any.whl.metadata (2.4 kB)\n",
            "Collecting google-api-core<3.0.0,>=2.11.1 (from google-api-core[grpc]<3.0.0,>=2.11.1->google-cloud-bigquery->-r requirements.txt (line 3))\n",
            "  Downloading google_api_core-2.25.1-py3-none-any.whl.metadata (3.0 kB)\n",
            "Collecting google-auth<3.0.0,>=2.14.1 (from google-cloud-bigquery->-r requirements.txt (line 3))\n",
            "  Downloading google_auth-2.40.3-py2.py3-none-any.whl.metadata (6.2 kB)\n",
            "Collecting google-cloud-core<3.0.0,>=2.4.1 (from google-cloud-bigquery->-r requirements.txt (line 3))\n",
            "  Downloading google_cloud_core-2.4.3-py2.py3-none-any.whl.metadata (2.7 kB)\n",
            "Collecting google-resumable-media<3.0.0,>=2.0.0 (from google-cloud-bigquery->-r requirements.txt (line 3))\n",
            "  Downloading google_resumable_media-2.7.2-py2.py3-none-any.whl.metadata (2.2 kB)\n",
            "Collecting packaging>=24.2.0 (from google-cloud-bigquery->-r requirements.txt (line 3))\n",
            "  Downloading packaging-25.0-py3-none-any.whl.metadata (3.3 kB)\n",
            "Collecting googleapis-common-protos<2.0.0,>=1.56.2 (from google-api-core<3.0.0,>=2.11.1->google-api-core[grpc]<3.0.0,>=2.11.1->google-cloud-bigquery->-r requirements.txt (line 3))\n",
            "  Downloading googleapis_common_protos-1.70.0-py3-none-any.whl.metadata (9.3 kB)\n",
            "Collecting protobuf!=3.20.0,!=3.20.1,!=4.21.0,!=4.21.1,!=4.21.2,!=4.21.3,!=4.21.4,!=4.21.5,<7.0.0,>=3.19.5 (from google-api-core<3.0.0,>=2.11.1->google-api-core[grpc]<3.0.0,>=2.11.1->google-cloud-bigquery->-r requirements.txt (line 3))\n",
            "  Downloading protobuf-6.31.1-cp39-abi3-manylinux2014_x86_64.whl.metadata (593 bytes)\n",
            "Collecting proto-plus<2.0.0,>=1.22.3 (from google-api-core<3.0.0,>=2.11.1->google-api-core[grpc]<3.0.0,>=2.11.1->google-cloud-bigquery->-r requirements.txt (line 3))\n",
            "  Downloading proto_plus-1.26.1-py3-none-any.whl.metadata (2.2 kB)\n",
            "Collecting grpcio<2.0.0,>=1.33.2 (from google-api-core[grpc]<3.0.0,>=2.11.1->google-cloud-bigquery->-r requirements.txt (line 3))\n",
            "  Downloading grpcio-1.73.1-cp310-cp310-manylinux_2_17_x86_64.manylinux2014_x86_64.whl.metadata (3.8 kB)\n",
            "Collecting grpcio-status<2.0.0,>=1.33.2 (from google-api-core[grpc]<3.0.0,>=2.11.1->google-cloud-bigquery->-r requirements.txt (line 3))\n",
            "  Downloading grpcio_status-1.73.1-py3-none-any.whl.metadata (1.1 kB)\n",
            "Collecting cachetools<6.0,>=2.0.0 (from google-auth<3.0.0,>=2.14.1->google-cloud-bigquery->-r requirements.txt (line 3))\n",
            "  Downloading cachetools-5.5.2-py3-none-any.whl.metadata (5.4 kB)\n",
            "Collecting pyasn1-modules>=0.2.1 (from google-auth<3.0.0,>=2.14.1->google-cloud-bigquery->-r requirements.txt (line 3))\n",
            "  Downloading pyasn1_modules-0.4.2-py3-none-any.whl.metadata (3.5 kB)\n",
            "Collecting rsa<5,>=3.1.4 (from google-auth<3.0.0,>=2.14.1->google-cloud-bigquery->-r requirements.txt (line 3))\n",
            "  Downloading rsa-4.9.1-py3-none-any.whl.metadata (5.6 kB)\n",
            "Collecting google-crc32c<2.0dev,>=1.0 (from google-resumable-media<3.0.0,>=2.0.0->google-cloud-bigquery->-r requirements.txt (line 3))\n",
            "  Downloading google_crc32c-1.7.1-cp310-cp310-manylinux_2_17_x86_64.manylinux2014_x86_64.whl.metadata (2.3 kB)\n",
            "Collecting pyasn1>=0.1.3 (from rsa<5,>=3.1.4->google-auth<3.0.0,>=2.14.1->google-cloud-bigquery->-r requirements.txt (line 3))\n",
            "  Downloading pyasn1-0.6.1-py3-none-any.whl.metadata (8.4 kB)\n",
            "Collecting numpy>=1.22.4 (from pandas->-r requirements.txt (line 4))\n",
            "  Downloading numpy-2.2.6-cp310-cp310-manylinux_2_17_x86_64.manylinux2014_x86_64.whl.metadata (62 kB)\n",
            "Collecting pytz>=2020.1 (from pandas->-r requirements.txt (line 4))\n",
            "  Downloading pytz-2025.2-py2.py3-none-any.whl.metadata (22 kB)\n",
            "Collecting tzdata>=2022.7 (from pandas->-r requirements.txt (line 4))\n",
            "  Downloading tzdata-2025.2-py2.py3-none-any.whl.metadata (1.4 kB)\n",
            "Collecting wrapt<2,>=1.10 (from Deprecated>=1.2.18->line-bot-sdk->-r requirements.txt (line 2))\n",
            "  Downloading wrapt-1.17.2-cp310-cp310-manylinux_2_5_x86_64.manylinux1_x86_64.manylinux_2_17_x86_64.manylinux2014_x86_64.whl.metadata (6.4 kB)\n",
            "Downloading flask-3.1.1-py3-none-any.whl (103 kB)\n",
            "Downloading line_bot_sdk-3.17.1-py2.py3-none-any.whl (776 kB)\n",
            "   ━━━━━━━━━━━━━━━━━━━━━━━━━━━━━━━━━━━━━━━ 776.1/776.1 kB 144.0 MB/s eta 0:00:00\n",
            "Downloading aenum-3.1.16-py3-none-any.whl (165 kB)\n",
            "Downloading aiohttp-3.12.13-cp310-cp310-manylinux_2_17_x86_64.manylinux2014_x86_64.whl (1.6 MB)\n",
            "   ━━━━━━━━━━━━━━━━━━━━━━━━━━━━━━━━━━━━━━━━ 1.6/1.6 MB 412.9 MB/s eta 0:00:00\n",
            "Downloading async_timeout-5.0.1-py3-none-any.whl (6.2 kB)\n",
            "Downloading multidict-6.6.3-cp310-cp310-manylinux2014_x86_64.manylinux_2_17_x86_64.manylinux_2_28_x86_64.whl (241 kB)\n",
            "Downloading pydantic-2.11.7-py3-none-any.whl (444 kB)\n",
            "Downloading pydantic_core-2.33.2-cp310-cp310-manylinux_2_17_x86_64.manylinux2014_x86_64.whl (2.0 MB)\n",
            "   ━━━━━━━━━━━━━━━━━━━━━━━━━━━━━━━━━━━━━━━━ 2.0/2.0 MB 400.5 MB/s eta 0:00:00\n",
            "Downloading python_dateutil-2.9.0.post0-py2.py3-none-any.whl (229 kB)\n",
            "Downloading requests-2.32.4-py3-none-any.whl (64 kB)\n",
            "Downloading charset_normalizer-3.4.2-cp310-cp310-manylinux_2_17_x86_64.manylinux2014_x86_64.whl (149 kB)\n",
            "Downloading idna-3.10-py3-none-any.whl (70 kB)\n",
            "Downloading urllib3-2.5.0-py3-none-any.whl (129 kB)\n",
            "Downloading yarl-1.20.1-cp310-cp310-manylinux_2_17_x86_64.manylinux2014_x86_64.whl (326 kB)\n",
            "Downloading google_cloud_bigquery-3.34.0-py3-none-any.whl (253 kB)\n",
            "Downloading google_api_core-2.25.1-py3-none-any.whl (160 kB)\n",
            "Downloading google_auth-2.40.3-py2.py3-none-any.whl (216 kB)\n",
            "Downloading cachetools-5.5.2-py3-none-any.whl (10 kB)\n",
            "Downloading google_cloud_core-2.4.3-py2.py3-none-any.whl (29 kB)\n",
            "Downloading google_resumable_media-2.7.2-py2.py3-none-any.whl (81 kB)\n",
            "Downloading google_crc32c-1.7.1-cp310-cp310-manylinux_2_17_x86_64.manylinux2014_x86_64.whl (38 kB)\n",
            "Downloading googleapis_common_protos-1.70.0-py3-none-any.whl (294 kB)\n",
            "Downloading grpcio-1.73.1-cp310-cp310-manylinux_2_17_x86_64.manylinux2014_x86_64.whl (6.0 MB)\n",
            "   ━━━━━━━━━━━━━━━━━━━━━━━━━━━━━━━━━━━━━━━━ 6.0/6.0 MB 385.5 MB/s eta 0:00:00\n",
            "Downloading grpcio_status-1.73.1-py3-none-any.whl (14 kB)\n",
            "Downloading proto_plus-1.26.1-py3-none-any.whl (50 kB)\n",
            "Downloading protobuf-6.31.1-cp39-abi3-manylinux2014_x86_64.whl (321 kB)\n",
            "Downloading rsa-4.9.1-py3-none-any.whl (34 kB)\n",
            "Downloading pandas-2.3.0-cp310-cp310-manylinux_2_17_x86_64.manylinux2014_x86_64.whl (12.3 MB)\n",
            "   ━━━━━━━━━━━━━━━━━━━━━━━━━━━━━━━━━━━━━━━━ 12.3/12.3 MB 356.5 MB/s eta 0:00:00\n",
            "Downloading gunicorn-23.0.0-py3-none-any.whl (85 kB)\n",
            "Downloading aiohappyeyeballs-2.6.1-py3-none-any.whl (15 kB)\n",
            "Downloading aiosignal-1.3.2-py2.py3-none-any.whl (7.6 kB)\n",
            "Downloading annotated_types-0.7.0-py3-none-any.whl (13 kB)\n",
            "Downloading attrs-25.3.0-py3-none-any.whl (63 kB)\n",
            "Downloading blinker-1.9.0-py3-none-any.whl (8.5 kB)\n",
            "Downloading certifi-2025.6.15-py3-none-any.whl (157 kB)\n",
            "Downloading click-8.2.1-py3-none-any.whl (102 kB)\n",
            "Downloading Deprecated-1.2.18-py2.py3-none-any.whl (10.0 kB)\n",
            "Downloading wrapt-1.17.2-cp310-cp310-manylinux_2_5_x86_64.manylinux1_x86_64.manylinux_2_17_x86_64.manylinux2014_x86_64.whl (82 kB)\n",
            "Downloading frozenlist-1.7.0-cp310-cp310-manylinux_2_5_x86_64.manylinux1_x86_64.manylinux_2_17_x86_64.manylinux2014_x86_64.whl (222 kB)\n",
            "Downloading future-1.0.0-py3-none-any.whl (491 kB)\n",
            "Downloading itsdangerous-2.2.0-py3-none-any.whl (16 kB)\n",
            "Downloading jinja2-3.1.6-py3-none-any.whl (134 kB)\n",
            "Downloading MarkupSafe-3.0.2-cp310-cp310-manylinux_2_17_x86_64.manylinux2014_x86_64.whl (20 kB)\n",
            "Downloading numpy-2.2.6-cp310-cp310-manylinux_2_17_x86_64.manylinux2014_x86_64.whl (16.8 MB)\n",
            "   ━━━━━━━━━━━━━━━━━━━━━━━━━━━━━━━━━━━━━━━━ 16.8/16.8 MB 355.5 MB/s eta 0:00:00\n",
            "Downloading packaging-25.0-py3-none-any.whl (66 kB)\n",
            "Downloading propcache-0.3.2-cp310-cp310-manylinux_2_17_x86_64.manylinux2014_x86_64.whl (198 kB)\n",
            "Downloading pyasn1-0.6.1-py3-none-any.whl (83 kB)\n",
            "Downloading pyasn1_modules-0.4.2-py3-none-any.whl (181 kB)\n",
            "Downloading pytz-2025.2-py2.py3-none-any.whl (509 kB)\n",
            "Downloading six-1.17.0-py2.py3-none-any.whl (11 kB)\n",
            "Downloading typing_extensions-4.14.0-py3-none-any.whl (43 kB)\n",
            "Downloading typing_inspection-0.4.1-py3-none-any.whl (14 kB)\n",
            "Downloading tzdata-2025.2-py2.py3-none-any.whl (347 kB)\n",
            "Downloading werkzeug-3.1.3-py3-none-any.whl (224 kB)\n",
            "Installing collected packages: pytz, aenum, wrapt, urllib3, tzdata, typing-extensions, six, pyasn1, protobuf, propcache, packaging, numpy, markupsafe, itsdangerous, idna, grpcio, google-crc32c, future, frozenlist, click, charset_normalizer, certifi, cachetools, blinker, attrs, async-timeout, annotated-types, aiohappyeyeballs, werkzeug, typing-inspection, rsa, requests, python_dateutil, pydantic-core, pyasn1-modules, proto-plus, multidict, jinja2, gunicorn, googleapis-common-protos, google-resumable-media, Deprecated, aiosignal, yarl, pydantic, pandas, grpcio-status, google-auth, flask, google-api-core, aiohttp, line-bot-sdk, google-cloud-core, google-cloud-bigquery\n",
            "\n",
            "Successfully installed Deprecated-1.2.18 aenum-3.1.16 aiohappyeyeballs-2.6.1 aiohttp-3.12.13 aiosignal-1.3.2 annotated-types-0.7.0 async-timeout-5.0.1 attrs-25.3.0 blinker-1.9.0 cachetools-5.5.2 certifi-2025.6.15 charset_normalizer-3.4.2 click-8.2.1 flask-3.1.1 frozenlist-1.7.0 future-1.0.0 google-api-core-2.25.1 google-auth-2.40.3 google-cloud-bigquery-3.34.0 google-cloud-core-2.4.3 google-crc32c-1.7.1 google-resumable-media-2.7.2 googleapis-common-protos-1.70.0 grpcio-1.73.1 grpcio-status-1.73.1 gunicorn-23.0.0 idna-3.10 itsdangerous-2.2.0 jinja2-3.1.6 line-bot-sdk-3.17.1 markupsafe-3.0.2 multidict-6.6.3 numpy-2.2.6 packaging-25.0 pandas-2.3.0 propcache-0.3.2 proto-plus-1.26.1 protobuf-6.31.1 pyasn1-0.6.1 pyasn1-modules-0.4.2 pydantic-2.11.7 pydantic-core-2.33.2 python_dateutil-2.9.0.post0 pytz-2025.2 requests-2.32.4 rsa-4.9.1 six-1.17.0 typing-extensions-4.14.0 typing-inspection-0.4.1 tzdata-2025.2 urllib3-2.5.0 werkzeug-3.1.3 wrapt-1.17.2 yarl-1.20.1\n",
            "\u001b[91mWARNING: Running pip as the 'root' user can result in broken permissions and conflicting behaviour with the system package manager, possibly rendering your system unusable. It is recommended to use a virtual environment instead: https://pip.pypa.io/warnings/venv. Use the --root-user-action option if you know what you are doing and want to suppress this warning.\n",
            "\u001b[0mRemoving intermediate container 8b1d83a1dd22\n",
            " ---> dba8ea138ea8\n",
            "Step 5/7 : COPY . .\n",
            " ---> 9a8cb898567c\n",
            "Step 6/7 : ENV PORT=8080\n",
            " ---> Running in 88809fcd879a\n",
            "Removing intermediate container 88809fcd879a\n",
            " ---> 55a485a34874\n",
            "Step 7/7 : CMD gunicorn --bind 0.0.0.0:$PORT main:app\n",
            " ---> Running in a32d69baffd1\n",
            "Removing intermediate container a32d69baffd1\n",
            " ---> e4dcf18708c6\n",
            "Successfully built e4dcf18708c6\n",
            "Successfully tagged gcr.io/tibame-gad251-31-0701/line-bq-ml-app:latest\n",
            "PUSH\n",
            "Pushing gcr.io/tibame-gad251-31-0701/line-bq-ml-app\n",
            "The push refers to repository [gcr.io/tibame-gad251-31-0701/line-bq-ml-app]\n",
            "ea5762dc4632: Preparing\n",
            "60b107e635f8: Preparing\n",
            "a820bc09d9fc: Preparing\n",
            "edb58748dda7: Preparing\n",
            "63e09f79cfb7: Preparing\n",
            "f3221a8c83dd: Preparing\n",
            "e4e2acb8cf69: Preparing\n",
            "7fb72a7d1a8e: Preparing\n",
            "f3221a8c83dd: Waiting\n",
            "e4e2acb8cf69: Waiting\n",
            "7fb72a7d1a8e: Waiting\n",
            "63e09f79cfb7: Layer already exists\n",
            "a820bc09d9fc: Pushed\n",
            "edb58748dda7: Pushed\n",
            "f3221a8c83dd: Layer already exists\n",
            "e4e2acb8cf69: Layer already exists\n",
            "7fb72a7d1a8e: Layer already exists\n",
            "ea5762dc4632: Pushed\n",
            "60b107e635f8: Pushed\n",
            "latest: digest: sha256:f45c9b42b3542bca4cf225598c73339ed8adf95b78d0742f2cc20a47c872f6be size: 1996\n",
            "DONE\n",
            "\n",
            "ID                                    CREATE_TIME                DURATION  SOURCE                                                                                               IMAGES                                                 STATUS\n",
            "bfe3636f-0a07-43db-96c9-9f580a6dc139  2025-07-01T03:59:12+00:00  1M17S     gs://tibame-gad251-31-0701_cloudbuild/source/1751342341.303628-fae30b39db5b47e48aad8db06555d0c7.tgz  gcr.io/tibame-gad251-31-0701/line-bq-ml-app (+1 more)  SUCCESS\n"
          ]
        }
      ]
    },
    {
      "cell_type": "code",
      "source": [
        "!gcloud run deploy {SERVICE_NAME} \\\n",
        "  --image gcr.io/{PROJECT_ID}/{SERVICE_NAME} \\\n",
        "  --platform managed \\\n",
        "  --region {REGION} \\\n",
        "  --allow-unauthenticated \\\n",
        "  --set-env-vars LINE_CHANNEL_ACCESS_TOKEN=\"{LINE_CHANNEL_ACCESS_TOKEN}\",LINE_CHANNEL_SECRET=\"{LINE_CHANNEL_SECRET}\",GCP_PROJECT_ID=\"{PROJECT_ID}\",BQ_DATASET_ID=\"{BQ_DATASET_ID}\",BQ_MODEL_ID=\"{BQ_MODEL_ID}\"\n"
      ],
      "metadata": {
        "colab": {
          "base_uri": "https://localhost:8080/"
        },
        "id": "kiRtI6pdIWGz",
        "outputId": "a51bcc6d-fe8b-4758-f064-42c57df9e76e"
      },
      "execution_count": 11,
      "outputs": [
        {
          "output_type": "stream",
          "name": "stdout",
          "text": [
            "Deploying container to Cloud Run service [\u001b[1mline-bq-ml-app\u001b[m] in project [\u001b[1mtibame-gad251-31-0701\u001b[m] region [\u001b[1masia-east1\u001b[m]\n",
            "Service [\u001b[1mline-bq-ml-app\u001b[m] revision [\u001b[1mline-bq-ml-app-00001-6ct\u001b[m] has been deployed and is serving \u001b[1m100\u001b[m percent of traffic.\n",
            "Service URL: \u001b[1mhttps://line-bq-ml-app-148619229718.asia-east1.run.app\u001b[m\n"
          ]
        }
      ]
    },
    {
      "cell_type": "markdown",
      "source": [
        "#### 步驟 7：範例使用者輸入與回覆"
      ],
      "metadata": {
        "id": "5oZPd8uLmeYz"
      }
    },
    {
      "cell_type": "markdown",
      "source": [
        "#### 使用者於 LINE 輸入以下格式："
      ],
      "metadata": {
        "id": "4cEtdDB-mrA7"
      }
    },
    {
      "cell_type": "markdown",
      "source": [
        "age=45, education_num=13, occupation=Exec-managerial, hours_per_week=50, workclass=Private, marital_status=Married-civ-spouse\n"
      ],
      "metadata": {
        "id": "n09SuZ3Fmn7c"
      }
    },
    {
      "cell_type": "markdown",
      "source": [
        "#### 成功回覆格式："
      ],
      "metadata": {
        "id": "RFROvPXLmuGA"
      }
    },
    {
      "cell_type": "markdown",
      "source": [
        "預測結果：>50K\n",
        ">50K 機率：82.14%\n",
        "<=50K 機率：17.86%"
      ],
      "metadata": {
        "id": "4n5g_7I6myih"
      }
    }
  ]
}