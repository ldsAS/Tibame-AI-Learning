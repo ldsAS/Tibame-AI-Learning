{
  "nbformat": 4,
  "nbformat_minor": 0,
  "metadata": {
    "colab": {
      "provenance": [],
      "include_colab_link": true
    },
    "kernelspec": {
      "name": "python3",
      "display_name": "Python 3"
    },
    "language_info": {
      "name": "python"
    }
  },
  "cells": [
    {
      "cell_type": "markdown",
      "metadata": {
        "id": "view-in-github",
        "colab_type": "text"
      },
      "source": [
        "<a href=\"https://colab.research.google.com/github/ldsAS/Tibame-AI-Learning/blob/main/Tibame20250701_GCP_Cloud_Run.ipynb\" target=\"_parent\"><img src=\"https://colab.research.google.com/assets/colab-badge.svg\" alt=\"Open In Colab\"/></a>"
      ]
    },
    {
      "cell_type": "markdown",
      "source": [
        "#### 步驟1-1"
      ],
      "metadata": {
        "id": "9Owdrk_bzAVS"
      }
    },
    {
      "cell_type": "markdown",
      "source": [
        "#### 授予Colab權限"
      ],
      "metadata": {
        "id": "8pDq_hUV0eva"
      }
    },
    {
      "cell_type": "code",
      "execution_count": 1,
      "metadata": {
        "id": "CHB7dI8bsLES"
      },
      "outputs": [],
      "source": [
        "from google.colab import auth\n",
        "auth.authenticate_user()"
      ]
    },
    {
      "cell_type": "markdown",
      "source": [
        "#### 使用CLI指令更改專案ID與地區"
      ],
      "metadata": {
        "id": "yHRSGX0w0GHB"
      }
    },
    {
      "cell_type": "code",
      "source": [
        "!gcloud config set project tibame-gad251-31-0701\n",
        "!gcloud config set run/region asia-east1"
      ],
      "metadata": {
        "id": "G2CSuge5y6hs",
        "colab": {
          "base_uri": "https://localhost:8080/"
        },
        "outputId": "04230781-03d3-45ca-95ec-731dd3abab1d"
      },
      "execution_count": 2,
      "outputs": [
        {
          "output_type": "stream",
          "name": "stdout",
          "text": [
            "Updated property [core/project].\n",
            "Updated property [run/region].\n"
          ]
        }
      ]
    },
    {
      "cell_type": "markdown",
      "source": [
        "#### 步驟 1-2"
      ],
      "metadata": {
        "id": "H0Ppmu4z0RrH"
      }
    },
    {
      "cell_type": "markdown",
      "source": [
        "#### 撰寫應用程式"
      ],
      "metadata": {
        "id": "S3qKkL6u0re-"
      }
    },
    {
      "cell_type": "code",
      "source": [
        "# 請參考你提供的完整程式碼，略過重複貼上\n",
        "# 建議存檔方式：\n",
        "main_py = '''\n",
        "from flask import Flask, request, abort\n",
        "from linebot import LineBotApi, WebhookHandler\n",
        "from linebot.models import MessageEvent, TextMessage, TextSendMessage\n",
        "from linebot.exceptions import InvalidSignatureError\n",
        "from google.cloud import bigquery\n",
        "import os\n",
        "\n",
        "app = Flask(__name__)\n",
        "\n",
        "# 讀取環境變數\n",
        "LINE_CHANNEL_ACCESS_TOKEN = os.getenv('LINE_CHANNEL_ACCESS_TOKEN')\n",
        "LINE_CHANNEL_SECRET = os.getenv('LINE_CHANNEL_SECRET')\n",
        "PROJECT_ID = os.getenv('GCP_PROJECT_ID')\n",
        "DATASET_ID = os.getenv('BQ_DATASET_ID')\n",
        "MODEL_ID = os.getenv('BQ_MODEL_ID')\n",
        "\n",
        "line_bot_api = LineBotApi(LINE_CHANNEL_ACCESS_TOKEN)\n",
        "handler = WebhookHandler(LINE_CHANNEL_SECRET)\n",
        "bq_client = bigquery.Client()\n",
        "\n",
        "def parse_user_input(text):\n",
        "    try:\n",
        "        return dict(item.strip().split(\"=\") for item in text.split(\",\"))\n",
        "    except Exception:\n",
        "        return None\n",
        "\n",
        "def predict_income(data):\n",
        "    query = f\"\"\"\n",
        "    WITH prediction AS (\n",
        "      SELECT\n",
        "        predicted_income_bracket,\n",
        "        predicted_income_bracket_probs\n",
        "      FROM\n",
        "        ML.PREDICT (\n",
        "          MODEL `{PROJECT_ID}.{DATASET_ID}.{MODEL_ID}`,\n",
        "          (\n",
        "            SELECT\n",
        "              {data['age']} AS age,\n",
        "              '{data['workclass']}' AS workclass,\n",
        "              '{data['marital_status']}' AS marital_status,\n",
        "              {data['education_num']} AS education_num,\n",
        "              '{data['occupation']}' AS occupation,\n",
        "              {data['hours_per_week']} AS hours_per_week\n",
        "              -- Removed income_bracket from input features\n",
        "          )\n",
        "        )\n",
        "    )\n",
        "    SELECT\n",
        "      predicted_income_bracket,\n",
        "      MAX(IF(TRIM(LOWER(probs.label)) = '>50k', probs.prob, NULL)) AS prob_gt_50k,\n",
        "      MAX(IF(TRIM(LOWER(probs.label)) = '<=50k', probs.prob, NULL)) AS prob_le_50k\n",
        "    FROM prediction, UNNEST(predicted_income_bracket_probs) AS probs\n",
        "    GROUP BY predicted_income_bracket\n",
        "    LIMIT 1\n",
        "    \"\"\"\n",
        "    result = bq_client.query(query).result()\n",
        "    row = next(result)\n",
        "    return row.predicted_income_bracket, row.prob_gt_50k, row.prob_le_50k\n",
        "@app.route(\"/\")\n",
        "def index():\n",
        "    return \"Hello from Cloud Run!\"\n",
        "\n",
        "@app.route(\"/callback\", methods=['POST'])\n",
        "def callback():\n",
        "    signature = request.headers['X-Line-Signature']\n",
        "    body = request.get_data(as_text=True)\n",
        "    try:\n",
        "        handler.handle(body, signature)\n",
        "    except InvalidSignatureError:\n",
        "        abort(400)\n",
        "    return 'OK'\n",
        "\n",
        "@handler.add(MessageEvent, message=TextMessage)\n",
        "def handle_message(event):\n",
        "    user_input = event.message.text\n",
        "    parsed = parse_user_input(user_input)\n",
        "\n",
        "    if parsed is None:\n",
        "        reply = \"\"\"請輸入格式正確的資料，例如：\n",
        "age=45, education_num=13, occupation=Exec-managerial, \\\n",
        "hours_per_week=50, workclass=Private, \\\n",
        "marital_status=Married-civ-spouse\"\"\" # Removed income_bracket from example input\n",
        "    else:\n",
        "        try:\n",
        "            # Use a single multiline f-string for the reply\n",
        "            label, prob_gt_50k, prob_le_50k = predict_income(parsed)\n",
        "\n",
        "            # Handle potential None values for probabilities\n",
        "            prob_gt_50k_str = f\"{round(prob_gt_50k * 100, 2)}%\" if prob_gt_50k is not None else \"無法取得\"\n",
        "            prob_le_50k_str = f\"{round(prob_le_50k * 100, 2)}%\" if prob_le_50k is not None else \"無法取得\"\n",
        "\n",
        "            reply = f\"\"\"預測結果：{label}\n",
        ">50K 機率：{prob_gt_50k_str}\n",
        "<=50K 機率：{prob_le_50k_str}\"\"\"\n",
        "        except Exception as e:\n",
        "            reply = f\"發生錯誤：{str(e)}\"\n",
        "\n",
        "    line_bot_api.reply_message(\n",
        "        event.reply_token,\n",
        "        TextSendMessage(text=reply)\n",
        "    )\n",
        "\n",
        "if __name__ == '__main__':\n",
        "    port = int(os.environ.get(\"PORT\", 8080))\n",
        "    app.run(host='0.0.0.0', port=port)\n",
        "'''\n",
        "with open(\"main.py\", \"w\") as f:\n",
        "    f.write(main_py)\n"
      ],
      "metadata": {
        "id": "UpFXthoNy-FN"
      },
      "execution_count": 3,
      "outputs": []
    },
    {
      "cell_type": "markdown",
      "source": [
        "#### 步驟2"
      ],
      "metadata": {
        "id": "5z72qpNQ3P3p"
      }
    },
    {
      "cell_type": "markdown",
      "source": [
        "#### 撰寫requirements.txt"
      ],
      "metadata": {
        "id": "JDLgQoWj3TsF"
      }
    },
    {
      "cell_type": "code",
      "source": [
        "with open(\"requirements.txt\", \"w\") as f:\n",
        "    f.write(\n",
        "        \"flask\\n\"\n",
        "        \"line-bot-sdk\\n\"\n",
        "        \"google-cloud-bigquery\\n\"\n",
        "        \"pandas\\n\"\n",
        "        \"gunicorn\\n\"\n",
        "    )"
      ],
      "metadata": {
        "id": "EHwJEvPi3TUM"
      },
      "execution_count": 4,
      "outputs": []
    },
    {
      "cell_type": "markdown",
      "source": [
        "#### 步驟3"
      ],
      "metadata": {
        "id": "lYW_iC1_4rrD"
      }
    },
    {
      "cell_type": "markdown",
      "source": [
        "#### 撰寫 Dockerfile 容器設定檔"
      ],
      "metadata": {
        "id": "vP37fDPU4wAI"
      }
    },
    {
      "cell_type": "code",
      "source": [
        "dockerfile = '''\\\n",
        "FROM python:3.10-slim\n",
        "WORKDIR /app\n",
        "COPY requirements.txt ./\n",
        "RUN pip install --upgrade pip && \\\n",
        "    pip install --no-cache-dir -r requirements.txt\n",
        "COPY . .\n",
        "ENV PORT=8080\n",
        "CMD gunicorn --bind 0.0.0.0:$PORT main:app\n",
        "'''\n",
        "with open(\"Dockerfile\", \"w\") as f:\n",
        "    f.write(dockerfile)\n"
      ],
      "metadata": {
        "id": "zwVcGL3G3Pgd"
      },
      "execution_count": 7,
      "outputs": []
    }
  ]
}