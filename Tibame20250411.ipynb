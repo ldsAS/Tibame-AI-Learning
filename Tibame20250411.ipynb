{
  "nbformat": 4,
  "nbformat_minor": 0,
  "metadata": {
    "colab": {
      "provenance": [],
      "authorship_tag": "ABX9TyMKbAZ517PnjqmiohmqzZs6",
      "include_colab_link": true
    },
    "kernelspec": {
      "name": "python3",
      "display_name": "Python 3"
    },
    "language_info": {
      "name": "python"
    }
  },
  "cells": [
    {
      "cell_type": "markdown",
      "metadata": {
        "id": "view-in-github",
        "colab_type": "text"
      },
      "source": [
        "<a href=\"https://colab.research.google.com/github/ldsAS/Tibame-AI-Learning/blob/main/Tibame20250411.ipynb\" target=\"_parent\"><img src=\"https://colab.research.google.com/assets/colab-badge.svg\" alt=\"Open In Colab\"/></a>"
      ]
    },
    {
      "cell_type": "code",
      "execution_count": null,
      "metadata": {
        "colab": {
          "base_uri": "https://localhost:8080/"
        },
        "id": "TLrn81dhXGqg",
        "outputId": "41466818-9804-4f35-e13c-7194a76be857"
      },
      "outputs": [
        {
          "output_type": "stream",
          "name": "stdout",
          "text": [
            "1 10 1\n",
            "2 9 3\n",
            "3 8 5\n",
            "4 7 7\n",
            "5 6 9\n",
            "6 5 11\n",
            "7 4 13\n",
            "8 3 15\n",
            "9 2 17\n",
            "10 1 19\n"
          ]
        }
      ],
      "source": [
        "i = 0\n",
        "while i < 10:\n",
        "  print(i + 1,\n",
        "     10 - i,\n",
        "     2 * i + 1)\n",
        "  i = i + 1\n"
      ]
    },
    {
      "cell_type": "code",
      "source": [
        "i = 0\n",
        "while i < 10:\n",
        "  print(\"o\" * (i + 1))\n",
        "  i = i + 1"
      ],
      "metadata": {
        "colab": {
          "base_uri": "https://localhost:8080/"
        },
        "id": "2GCN4tJxgjyq",
        "outputId": "d6f40764-5a7c-40fe-c139-70079703e53f"
      },
      "execution_count": null,
      "outputs": [
        {
          "output_type": "stream",
          "name": "stdout",
          "text": [
            "o\n",
            "oo\n",
            "ooo\n",
            "oooo\n",
            "ooooo\n",
            "oooooo\n",
            "ooooooo\n",
            "oooooooo\n",
            "ooooooooo\n",
            "oooooooooo\n"
          ]
        }
      ]
    },
    {
      "cell_type": "code",
      "source": [
        "left, right = \" \", \"x\"\n",
        "layer = 10\n",
        "i = 0\n",
        "while i < layer:\n",
        "  lcount = i\n",
        "  rcount = layer - i\n",
        "  print(left * lcount + right * rcount )\n",
        "  i = i + 1"
      ],
      "metadata": {
        "colab": {
          "base_uri": "https://localhost:8080/"
        },
        "id": "ZM1vsAOyhvhv",
        "outputId": "e8b2f633-482d-409c-d84e-873ca972bd0d"
      },
      "execution_count": null,
      "outputs": [
        {
          "output_type": "stream",
          "name": "stdout",
          "text": [
            "xxxxxxxxxx\n",
            " xxxxxxxxx\n",
            "  xxxxxxxx\n",
            "   xxxxxxx\n",
            "    xxxxxx\n",
            "     xxxxx\n",
            "      xxxx\n",
            "       xxx\n",
            "        xx\n",
            "         x\n"
          ]
        }
      ]
    },
    {
      "cell_type": "code",
      "source": [
        "left, mid, right =\" \", \"x\", \" \"\n",
        "layer = 10\n",
        "i = 0\n",
        "while i < layer:\n",
        "  lcount = i\n",
        "  mcount = (2 * layer - 1) - i * 2\n",
        "  rcount = i\n",
        "  print(left * lcount +\n",
        "      mid * mcount +\n",
        "      right * rcount)\n",
        "  i = i + 1"
      ],
      "metadata": {
        "colab": {
          "base_uri": "https://localhost:8080/"
        },
        "id": "h4ZeebaLlWEZ",
        "outputId": "a9d1c528-61b8-414d-f431-f5000500a6c4"
      },
      "execution_count": null,
      "outputs": [
        {
          "output_type": "stream",
          "name": "stdout",
          "text": [
            "xxxxxxxxxxxxxxxxxxx\n",
            " xxxxxxxxxxxxxxxxx \n",
            "  xxxxxxxxxxxxxxx  \n",
            "   xxxxxxxxxxxxx   \n",
            "    xxxxxxxxxxx    \n",
            "     xxxxxxxxx     \n",
            "      xxxxxxx      \n",
            "       xxxxx       \n",
            "        xxx        \n",
            "         x         \n"
          ]
        }
      ]
    },
    {
      "cell_type": "code",
      "source": [],
      "metadata": {
        "id": "z7OqkweqzmNE"
      },
      "execution_count": null,
      "outputs": []
    },
    {
      "cell_type": "code",
      "source": [
        "layer = 10\n",
        "i = 0\n",
        "while i < layer:\n",
        "  if i % 2 == 0:\n",
        "    left, right = \" \", \"o\"\n",
        "  else:\n",
        "    left, right = \" \", \"x\"\n",
        "  lcount = layer - i -1\n",
        "  rcount = i + 1\n",
        "  print(left * lcount + right * rcount)\n",
        "  i = i + 1\n"
      ],
      "metadata": {
        "colab": {
          "base_uri": "https://localhost:8080/"
        },
        "id": "RJ5YX2dLo7Xi",
        "outputId": "0a43350d-3ef0-4647-81f5-4a6bfb539c13"
      },
      "execution_count": null,
      "outputs": [
        {
          "output_type": "stream",
          "name": "stdout",
          "text": [
            "         o\n",
            "        xx\n",
            "       ooo\n",
            "      xxxx\n",
            "     ooooo\n",
            "    xxxxxx\n",
            "   ooooooo\n",
            "  xxxxxxxx\n",
            " ooooooooo\n",
            "xxxxxxxxxx\n"
          ]
        }
      ]
    },
    {
      "cell_type": "code",
      "source": [
        "lsymbols = [\"o\", \"x\", \"*\", \"?\"]\n",
        "rsymbols = [\" \"]\n",
        "layer = 10\n",
        "i = 0\n",
        "while i < layer:\n",
        "  left, right = lsymbols[i%len(lsymbols)], rsymbols[i%len(rsymbols)]\n",
        "\n",
        "  lcount = layer - i\n",
        "  rount = i\n",
        "  print(left * lcount + right * rcount)\n",
        "  i = i + 1"
      ],
      "metadata": {
        "colab": {
          "base_uri": "https://localhost:8080/"
        },
        "id": "eM3ZIqowr2ZI",
        "outputId": "80d33c4a-64eb-4119-f43e-2b8a922e4ab6"
      },
      "execution_count": null,
      "outputs": [
        {
          "output_type": "stream",
          "name": "stdout",
          "text": [
            "oooooooooo         \n",
            "xxxxxxxxx         \n",
            "********         \n",
            "???????         \n",
            "oooooo         \n",
            "xxxxx         \n",
            "****         \n",
            "???         \n",
            "oo         \n",
            "x         \n"
          ]
        }
      ]
    },
    {
      "cell_type": "code",
      "source": [
        "total = 0\n",
        "i = 0\n",
        "while i < 10:\n",
        "  total = total + (i + 1)\n",
        "  print(total)\n",
        "  i = i + 1"
      ],
      "metadata": {
        "colab": {
          "base_uri": "https://localhost:8080/"
        },
        "id": "x6b2UiyhzpPM",
        "outputId": "3746e5f6-aacf-4bae-ee11-5d1c65ddeb76"
      },
      "execution_count": null,
      "outputs": [
        {
          "output_type": "stream",
          "name": "stdout",
          "text": [
            "1\n",
            "3\n",
            "6\n",
            "10\n",
            "15\n",
            "21\n",
            "28\n",
            "36\n",
            "45\n",
            "55\n"
          ]
        }
      ]
    },
    {
      "cell_type": "code",
      "source": [
        "a, b = 212, 7\n",
        "result = str(a//b) + \".\"\n",
        "\n",
        "i = 0\n",
        "while i < 10:\n",
        "  a10 = a * 10\n",
        "  result = result + str(a10//b)\n",
        "  print(result)\n",
        "  a = a10 % b\n",
        "  i = i + 1\n"
      ],
      "metadata": {
        "colab": {
          "base_uri": "https://localhost:8080/"
        },
        "id": "iwkfz1442w0Y",
        "outputId": "692d8e34-c098-4057-b757-fd34ccf10dbf"
      },
      "execution_count": null,
      "outputs": [
        {
          "output_type": "stream",
          "name": "stdout",
          "text": [
            "30.2\n",
            "30.28\n",
            "30.285\n",
            "30.2857\n",
            "30.28571\n",
            "30.285714\n",
            "30.2857142\n",
            "30.28571428\n",
            "30.285714285\n",
            "30.2857142857\n"
          ]
        }
      ]
    },
    {
      "cell_type": "code",
      "source": [
        "a, b = 213, 5\n",
        "result = str(a//b) + \".\"\n",
        "a = a % b\n",
        "i = 0\n",
        "while i < 10:\n",
        "  a10 = a * 10\n",
        "  result = result + str(a10//b)\n",
        "  print(result)\n",
        "  a = a10 % b\n",
        "  if a == 0:\n",
        "    break\n",
        "  i = i + 1"
      ],
      "metadata": {
        "colab": {
          "base_uri": "https://localhost:8080/"
        },
        "id": "GocEdrgL8obf",
        "outputId": "a9d0e85b-22e7-4942-ffb2-e04cfb88e152"
      },
      "execution_count": null,
      "outputs": [
        {
          "output_type": "stream",
          "name": "stdout",
          "text": [
            "42.6\n"
          ]
        }
      ]
    },
    {
      "cell_type": "code",
      "source": [
        "import random\n",
        "count0, count1 = 0, 0\n",
        "\n",
        "total = 100\n",
        "i = 0\n",
        "while i < total:\n",
        "  n = random.randint(0, 1)\n",
        "  if n == 0:\n",
        "    count0 = count0 + 1\n",
        "  elif n == 1:\n",
        "    count1 = count1 + 1\n",
        "  i = i + 1\n",
        "print(count0, count1)\n"
      ],
      "metadata": {
        "colab": {
          "base_uri": "https://localhost:8080/"
        },
        "id": "jP_aQxgNWI4L",
        "outputId": "d19158a7-dd4c-47aa-c6c1-2a7afd681dfa"
      },
      "execution_count": null,
      "outputs": [
        {
          "output_type": "stream",
          "name": "stdout",
          "text": [
            "53 47\n"
          ]
        }
      ]
    },
    {
      "cell_type": "code",
      "source": [
        "counts = [0] * 10\n",
        "i = 0\n",
        "total = 100\n",
        "while i < total:\n",
        "  n = random.randint(0, 9)\n",
        "  counts[n] = counts[n] + 1\n",
        "  # print(counts)\n",
        "  i = i + 1\n",
        "print(counts)"
      ],
      "metadata": {
        "colab": {
          "base_uri": "https://localhost:8080/"
        },
        "id": "oVKmzH5vZQ0T",
        "outputId": "43793137-10cb-4634-d3e2-a7dcb6c782cc"
      },
      "execution_count": null,
      "outputs": [
        {
          "output_type": "stream",
          "name": "stdout",
          "text": [
            "[8, 6, 11, 12, 10, 10, 10, 14, 14, 5]\n"
          ]
        }
      ]
    },
    {
      "cell_type": "code",
      "source": [
        "low, high = 5, 14\n",
        "counts = [0] * (high - low +1)\n",
        "totanl = 100\n",
        "i = 0\n",
        "while i < total:\n",
        "  n = random.randint(low, high)\n",
        "  counts[n - low] = counts[n - low] + 1\n",
        "  # print(n, counts)\n",
        "  i = i + 1\n",
        "print(counts)"
      ],
      "metadata": {
        "colab": {
          "base_uri": "https://localhost:8080/"
        },
        "id": "rB3PwYwjbejK",
        "outputId": "26690c6b-241f-47e0-e22c-9c9fd1fe4474"
      },
      "execution_count": null,
      "outputs": [
        {
          "output_type": "stream",
          "name": "stdout",
          "text": [
            "[6, 8, 10, 16, 11, 7, 12, 10, 11, 9]\n"
          ]
        }
      ]
    },
    {
      "cell_type": "code",
      "source": [
        "scores = [20, 30]\n",
        "scores[0] = scores[0] + 20\n",
        "print(scores)"
      ],
      "metadata": {
        "colab": {
          "base_uri": "https://localhost:8080/"
        },
        "id": "ZUtz4WcfZ2xe",
        "outputId": "06c1707f-a9ec-43dd-a90c-5cad6039dfe4"
      },
      "execution_count": null,
      "outputs": [
        {
          "output_type": "stream",
          "name": "stdout",
          "text": [
            "[40, 30]\n"
          ]
        }
      ]
    },
    {
      "cell_type": "code",
      "source": [
        "s = \"aabbcctesttestt\"\n",
        "counts = [0] * 26\n",
        "# print (\"編碼\", ord(\"a\"))\n",
        "# print(\"解碼\", chr(97))\n",
        "total = len(s)\n",
        "i = 0\n",
        "while i < total:\n",
        "  n = ord(s[i]) - ord(\"a\")\n",
        "  counts[n] = counts[n] + 1\n",
        "  i = i + 1\n",
        "print(counts)\n"
      ],
      "metadata": {
        "colab": {
          "base_uri": "https://localhost:8080/"
        },
        "id": "BXlzUS5McfNV",
        "outputId": "fbf6c7da-38ad-47dd-a774-bef90ace0571"
      },
      "execution_count": null,
      "outputs": [
        {
          "output_type": "stream",
          "name": "stdout",
          "text": [
            "[2, 2, 2, 0, 2, 0, 0, 0, 0, 0, 0, 0, 0, 0, 0, 0, 0, 0, 2, 5, 0, 0, 0, 0, 0, 0]\n"
          ]
        }
      ]
    },
    {
      "cell_type": "code",
      "source": [
        "# 逼近法\n",
        "# degree = pi / 180 radian\n",
        "import math\n",
        "start = 1000000\n",
        "test = 20\n",
        "i = 0\n",
        "while i < test:\n",
        "  n = (start + i)\n",
        "  degree = 180 / n\n",
        "  radian = math.radians(degree)\n",
        "  areal = math.sin(radian) * math.cos(radian)\n",
        "  area = n * areal\n",
        "  print(\"正\", n, \"邊形的面積:\", area)\n",
        "  i = i + 1"
      ],
      "metadata": {
        "colab": {
          "base_uri": "https://localhost:8080/"
        },
        "id": "CHCL_R-hnz5u",
        "outputId": "b9e8436b-b06a-4cda-a7f3-b35d852d3043"
      },
      "execution_count": null,
      "outputs": [
        {
          "output_type": "stream",
          "name": "stdout",
          "text": [
            "正 1000000 邊形的面積: 3.1415926535691225\n",
            "正 1000001 邊形的面積: 3.1415926535691225\n",
            "正 1000002 邊形的面積: 3.141592653569122\n",
            "正 1000003 邊形的面積: 3.1415926535691225\n",
            "正 1000004 邊形的面積: 3.1415926535691225\n",
            "正 1000005 邊形的面積: 3.141592653569123\n",
            "正 1000006 邊形的面積: 3.1415926535691225\n",
            "正 1000007 邊形的面積: 3.141592653569122\n",
            "正 1000008 邊形的面積: 3.141592653569122\n",
            "正 1000009 邊形的面積: 3.1415926535691225\n",
            "正 1000010 邊形的面積: 3.1415926535691225\n",
            "正 1000011 邊形的面積: 3.1415926535691225\n",
            "正 1000012 邊形的面積: 3.1415926535691225\n",
            "正 1000013 邊形的面積: 3.141592653569123\n",
            "正 1000014 邊形的面積: 3.1415926535691225\n",
            "正 1000015 邊形的面積: 3.141592653569123\n",
            "正 1000016 邊形的面積: 3.1415926535691234\n",
            "正 1000017 邊形的面積: 3.141592653569123\n",
            "正 1000018 邊形的面積: 3.1415926535691225\n",
            "正 1000019 邊形的面積: 3.1415926535691234\n"
          ]
        }
      ]
    },
    {
      "cell_type": "code",
      "source": [
        "#蒙地卡羅法\n",
        "\n",
        "import random\n",
        "total = 100000000\n",
        "in_area = 0\n",
        "i = 0\n",
        "while i <total:\n",
        "  #隨機x(-1, 1)\n",
        "  x = random.uniform(-1, 1)\n",
        "  #隨機y(-1, 1)\n",
        "  y = random.uniform(-1, 1)\n",
        "  #確認(x,y)是否在圓內\n",
        "  #x**2 + y**2 <= 1\n",
        "  if x ** 2 + y ** 2 <= 1:\n",
        "    in_area = in_area + 1\n",
        "  i = i + 1\n",
        "# 最後面積:4 * 比例\n",
        "# 比例: 園內/全部\n",
        "ratio = in_area / total\n",
        "area = 4 * ratio\n",
        "print(\"面積:\", area)"
      ],
      "metadata": {
        "colab": {
          "base_uri": "https://localhost:8080/"
        },
        "id": "5jjRBdTppEZ7",
        "outputId": "290ac563-dbcc-4d45-ac47-08759341b656"
      },
      "execution_count": null,
      "outputs": [
        {
          "output_type": "stream",
          "name": "stdout",
          "text": [
            "面積: 3.14154016\n"
          ]
        }
      ]
    },
    {
      "cell_type": "code",
      "source": [
        "interval = 1000000\n",
        "area_total = 0\n",
        "w = 1 / interval\n",
        "i = 0\n",
        "while i < interval:\n",
        "  # 把interval個小長方形的面積相加!\n",
        "  # 求這小長方形的高\n",
        "  # 1 / interval: 每一個小塊的𥦀\n",
        "  distance_to_origin = i * (1 / interval)\n",
        "  h = (1 - distance_to_origin ** 2) ** 0.5\n",
        "  area_partial = h * w\n",
        "  area_total = area_total + area_partial\n",
        "  i = i + 1\n",
        "\n",
        "print(\"面積:\", area_total * 4)"
      ],
      "metadata": {
        "colab": {
          "base_uri": "https://localhost:8080/"
        },
        "id": "P1hw5qUy2dzl",
        "outputId": "708a72e3-6181-4280-d170-499b8ebaa15d"
      },
      "execution_count": null,
      "outputs": [
        {
          "output_type": "stream",
          "name": "stdout",
          "text": [
            "面積: 3.1415946524138207\n"
          ]
        }
      ]
    }
  ]
}