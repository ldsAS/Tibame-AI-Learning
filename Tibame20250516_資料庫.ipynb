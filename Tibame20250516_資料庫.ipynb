{
  "nbformat": 4,
  "nbformat_minor": 0,
  "metadata": {
    "colab": {
      "provenance": [],
      "authorship_tag": "ABX9TyOLN5Wm6+pmCjHflMUtooki",
      "include_colab_link": true
    },
    "kernelspec": {
      "name": "python3",
      "display_name": "Python 3"
    },
    "language_info": {
      "name": "python"
    }
  },
  "cells": [
    {
      "cell_type": "markdown",
      "metadata": {
        "id": "view-in-github",
        "colab_type": "text"
      },
      "source": [
        "<a href=\"https://colab.research.google.com/github/ldsAS/Tibame-AI-Learning/blob/main/Tibame20250516_%E8%B3%87%E6%96%99%E5%BA%AB.ipynb\" target=\"_parent\"><img src=\"https://colab.research.google.com/assets/colab-badge.svg\" alt=\"Open In Colab\"/></a>"
      ]
    },
    {
      "cell_type": "code",
      "execution_count": null,
      "metadata": {
        "id": "tewUwdOHmwrW"
      },
      "outputs": [],
      "source": [
        "!pip install pymysql\n",
        "#----\n",
        "import pymysql\n",
        "import ssl\n",
        "\n",
        "ssl_context = ssl.create_default_context()\n",
        "ssl_context.check_hostname = False\n",
        "ssl_context.verify_mode = ssl.CERT_NONE  # <- 關閉驗證\n",
        "\n",
        "conn = pymysql.connect(\n",
        "    host='gad251.mysql.database.azure.com',\n",
        "    user='MySQLAdmin',\n",
        "    password='P@ssw0rd',\n",
        "    database='northwind',\n",
        "    charset='utf8mb4',\n",
        "    ssl={'ssl': ssl_context}\n",
        ")\n",
        "\n",
        "with conn.cursor() as cursor:\n",
        "    cursor.execute(\"SELECT VERSION();\")\n",
        "    version = cursor.fetchone()\n",
        "    print(\"✅ MySQL 版本：\", version[0])\n",
        "\n",
        "conn.close()\n",
        "#----以上程式可以在Colab中完成資料庫連線測試的正確版本"
      ]
    }
  ]
}