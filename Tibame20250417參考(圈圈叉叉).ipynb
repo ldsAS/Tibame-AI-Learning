{
  "nbformat": 4,
  "nbformat_minor": 0,
  "metadata": {
    "colab": {
      "provenance": [],
      "name": "20250417參考(圈圈叉叉).ipynb",
      "include_colab_link": true
    },
    "kernelspec": {
      "name": "python3",
      "display_name": "Python 3"
    },
    "language_info": {
      "name": "python"
    }
  },
  "cells": [
    {
      "cell_type": "markdown",
      "metadata": {
        "id": "view-in-github",
        "colab_type": "text"
      },
      "source": [
        "<a href=\"https://colab.research.google.com/github/ldsAS/Tibame-AI-Learning/blob/main/20250417%E5%8F%83%E8%80%83(%E5%9C%88%E5%9C%88%E5%8F%89%E5%8F%89).ipynb\" target=\"_parent\"><img src=\"https://colab.research.google.com/assets/colab-badge.svg\" alt=\"Open In Colab\"/></a>"
      ]
    },
    {
      "cell_type": "markdown",
      "source": [
        "\n",
        "\n",
        "```\n",
        "1. repl.it: 完整.py, 第一行直行到最後一行\n",
        "2. colab: 使用的是python的一個函式庫jupyter, 它可以讓你寫一段執行一段, 這個時候附檔名通常會是.ipynb\n",
        "```\n",
        "\n"
      ],
      "metadata": {
        "id": "zC0BWuWJVKlI"
      }
    },
    {
      "cell_type": "code",
      "execution_count": null,
      "metadata": {
        "id": "EF_QodiuTAPC",
        "colab": {
          "base_uri": "https://localhost:8080/"
        },
        "outputId": "5390d5eb-a966-44c2-ab10-c31277480eb2"
      },
      "outputs": [
        {
          "output_type": "stream",
          "name": "stdout",
          "text": [
            "20\n",
            "18\n",
            "16\n",
            "14\n",
            "12\n",
            "10\n",
            "8\n",
            "6\n",
            "4\n",
            "2\n"
          ]
        }
      ],
      "source": [
        "# 迴圈: 次數<後面, i=0...9\n",
        "i = 0\n",
        "while i < 10:\n",
        "    n = 20 - 2 * i\n",
        "    print(n)\n",
        "    i = i + 1"
      ]
    },
    {
      "cell_type": "code",
      "source": [
        "# list型態:\n",
        "a = [90, 20, 30]\n",
        "print(a[2])\n",
        "# 拿了做事再設定回去\n",
        "# b = 10\n",
        "# b = b + 2\n",
        "a[0] = 180\n",
        "print(a)\n",
        "a[0] = a[0] + 50\n",
        "print(a)"
      ],
      "metadata": {
        "colab": {
          "base_uri": "https://localhost:8080/"
        },
        "id": "Y5677PooYMb5",
        "outputId": "d05c0d86-157f-42c6-be7e-2f0e75cb6494"
      },
      "execution_count": null,
      "outputs": [
        {
          "output_type": "stream",
          "name": "stdout",
          "text": [
            "30\n",
            "[180, 20, 30]\n",
            "[230, 20, 30]\n"
          ]
        }
      ]
    },
    {
      "cell_type": "code",
      "source": [
        "# 雙層迴圈\n",
        "# 你一定要先固定一個東西\n",
        "# 九九乘法 n1 * n2 = ?\n",
        "# 我先固定 n1\n",
        "# 之前叫你名字用i, 如果是第二層用j\n",
        "i = 0\n",
        "while i < 9:\n",
        "    n1 = i + 1\n",
        "    # 針對這n1做九次\n",
        "    j = 0\n",
        "    while j < 9:\n",
        "        n2 = j + 1\n",
        "        result = n1 * n2\n",
        "        print(n1, \"*\", n2, \"=\", result)\n",
        "        j = j + 1\n",
        "    i = i + 1"
      ],
      "metadata": {
        "id": "av1FlY8xZpWG"
      },
      "execution_count": null,
      "outputs": []
    },
    {
      "cell_type": "code",
      "source": [
        "# 參考: 如果是for...in版本\n",
        "for i in range(9):\n",
        "    n1 = i + 1\n",
        "    for j in range(9):\n",
        "        n2 = j + 1\n",
        "        result = n1 * n2\n",
        "        print(n1, \"*\", n2, \"=\", result)"
      ],
      "metadata": {
        "id": "ugXEwX5FbKzs"
      },
      "execution_count": null,
      "outputs": []
    },
    {
      "cell_type": "code",
      "source": [
        "# 二維list以及拿東西的座號\n",
        "game = [\n",
        "    [0.1, 0.2, 0.3],\n",
        "    [1.1, 1.2, 1.3],\n",
        "    [2.1, 2.2, 2.3]\n",
        "]\n",
        "print(game[1][2])\n",
        "print(game[0][1])"
      ],
      "metadata": {
        "colab": {
          "base_uri": "https://localhost:8080/"
        },
        "id": "gs-owLupgyfu",
        "outputId": "a7bc318a-4a4b-478d-9b9a-c0049c6cc09c"
      },
      "execution_count": null,
      "outputs": [
        {
          "output_type": "stream",
          "name": "stdout",
          "text": [
            "1.3\n",
            "0.2\n"
          ]
        }
      ]
    },
    {
      "cell_type": "markdown",
      "source": [
        "\n",
        "\n",
        "```\n",
        "OOXX\n",
        "把問題簡化\n",
        "1. 輪流選擇位置(最後做)\n",
        "2. 確認當你下了這個位置以後, 你有沒有贏(橫, 直, 斜*2)\n",
        "```\n",
        "\n"
      ],
      "metadata": {
        "id": "7KLsKEtyiY28"
      }
    },
    {
      "cell_type": "code",
      "source": [
        "# # 還未被選擇: -1\n",
        "# # 被選擇為0: O\n",
        "# # 被選擇為1: X\n",
        "# # 橫的叫row, 直的叫col\n",
        "# board = [\n",
        "#     [ 0,  0,  0],\n",
        "#     [-1, -1, -1],\n",
        "#     [-1, -1, -1]\n",
        "# ]\n",
        "\n",
        "# # 我有兩種想法\n",
        "# # 1. 她下的時候, 我從她下的位置去決定這步會不會有連線出線\n",
        "# # 2. 我直接檢查整個圖片, 看看有沒有連線發生(o)\n",
        "# row = 0\n",
        "# # 我先把這一列的第一個拿出來, 三個(兩個)東西都要跟這個第一個一樣\n",
        "# target = board[row][0]\n",
        "# # 我準備一個值, 我先假設他是連成一條線的, 如果她不是, 我就馬上把這個值設定成False, 結束\n",
        "# line = True\n",
        "# j = 0\n",
        "# while j < 3:\n",
        "#     col = j\n",
        "#     if not board[row][col] == target:\n",
        "#         line = False\n",
        "#         break\n",
        "#     # 檢查這三個是否為同個東西\n",
        "#     j = j + 1\n",
        "# print(line)"
      ],
      "metadata": {
        "colab": {
          "base_uri": "https://localhost:8080/"
        },
        "id": "gLZ76FVWix_-",
        "outputId": "5ecab5b7-87e5-49f9-b46b-cdd38135c625"
      },
      "execution_count": null,
      "outputs": [
        {
          "output_type": "stream",
          "name": "stdout",
          "text": [
            "False\n"
          ]
        }
      ]
    },
    {
      "cell_type": "code",
      "source": [
        "# 雖然上面可以擴充, 但我覺得可讀性相對來說有點差, 所以我犧牲擴充性\n",
        "# 橫的確認\n",
        "board = [\n",
        "    [ 0,  0,  0],\n",
        "    [-1, -1, -1],\n",
        "    [ 1,  1,  1]\n",
        "]\n",
        "i = 0\n",
        "while i < 3:\n",
        "    row = i\n",
        "    if not board[row][0] == -1:\n",
        "        if board[row][0] == board[row][1] == board[row][2]:\n",
        "            print(row, \"連線了\")\n",
        "        else:\n",
        "            print(row, \"沒有連線\")\n",
        "    else:\n",
        "        print(row, \"頭一個沒被選擇\")\n",
        "    i = i + 1"
      ],
      "metadata": {
        "colab": {
          "base_uri": "https://localhost:8080/"
        },
        "id": "nFHqnLa_l11T",
        "outputId": "cb2076c4-b75a-40aa-df91-0e45769d7bad"
      },
      "execution_count": null,
      "outputs": [
        {
          "output_type": "stream",
          "name": "stdout",
          "text": [
            "0 連線了\n",
            "1 頭一個沒被選擇\n",
            "2 連線了\n"
          ]
        }
      ]
    },
    {
      "cell_type": "code",
      "source": [
        "# 直的確認\n",
        "board = [\n",
        "    [ 0, -1,  1],\n",
        "    [ 0, -1,  1],\n",
        "    [ 0, -1,  1]\n",
        "]\n",
        "i = 0\n",
        "while i < 3:\n",
        "    col = i\n",
        "    if not board[0][col] == -1:\n",
        "        if board[0][col] == board[1][col] == board[2][col]:\n",
        "            print(col, \"連線了\")\n",
        "        else:\n",
        "            print(col, \"沒有連線\")\n",
        "    else:\n",
        "        print(col, \"頭一個沒被選擇\")\n",
        "    i = i + 1"
      ],
      "metadata": {
        "colab": {
          "base_uri": "https://localhost:8080/"
        },
        "id": "WiBGPIhVqjtE",
        "outputId": "2d6b5164-d28b-45fc-fa90-bc70e6c52a40"
      },
      "execution_count": null,
      "outputs": [
        {
          "output_type": "stream",
          "name": "stdout",
          "text": [
            "0 連線了\n",
            "1 頭一個沒被選擇\n",
            "2 連線了\n"
          ]
        }
      ]
    },
    {
      "cell_type": "code",
      "source": [
        "# board = [\n",
        "#     [  0, -1, -1],\n",
        "#     [ -1,  0, -1],\n",
        "#     [ -1, -1,  0]\n",
        "# ]\n",
        "board = [\n",
        "    [ -1, -1,  0],\n",
        "    [ -1,  0, -1],\n",
        "    [  0, -1, -1]\n",
        "]\n",
        "if not board[0][0] == -1:\n",
        "    if board[0][0] == board[1][1] == board[2][2]:\n",
        "        print(\"左上到右下連線\")\n",
        "    else:\n",
        "        print(\"沒有連線\")\n",
        "else:\n",
        "    print(\"左上沒被選\")\n",
        "\n",
        "if not board[0][2] == -1:\n",
        "    if board[0][2] == board[1][1] == board[2][0]:\n",
        "        print(\"右上到左下連線\")\n",
        "    else:\n",
        "        print(\"沒有連線\")\n",
        "else:\n",
        "    print(\"右上沒被選\")"
      ],
      "metadata": {
        "colab": {
          "base_uri": "https://localhost:8080/"
        },
        "id": "AwGljetZtbBn",
        "outputId": "8f3ed0da-fe83-4d48-8163-50e70e1f3fa2"
      },
      "execution_count": null,
      "outputs": [
        {
          "output_type": "stream",
          "name": "stdout",
          "text": [
            "左上沒被選\n",
            "沒有連線\n"
          ]
        }
      ]
    },
    {
      "cell_type": "code",
      "source": [
        "# 印出盤面\n",
        "board = [\n",
        "    [ -1, -1,  0],\n",
        "    [ -1,  0, -1],\n",
        "    [  0,  1,  1]\n",
        "]\n",
        "trans = [\"O\", \"X\"]\n",
        "\n",
        "i = 0\n",
        "while i < 3:\n",
        "    row = i\n",
        "    # 把這個row的東西印成一行\n",
        "    line = \"\"\n",
        "    j = 0\n",
        "    while j < 3:\n",
        "        player = board[row][j]\n",
        "        if not player == -1:\n",
        "            line = line + trans[player] + \" \"\n",
        "        else:\n",
        "            # 沒被選擇的畫, 我們就用_來表示\n",
        "            line = line + \"_\" + \" \"\n",
        "        j = j + 1\n",
        "    print(line)\n",
        "    i = i + 1"
      ],
      "metadata": {
        "colab": {
          "base_uri": "https://localhost:8080/"
        },
        "id": "PYoPIwTOvrsM",
        "outputId": "864b98ce-d3de-42a8-f2db-60da87188cec"
      },
      "execution_count": null,
      "outputs": [
        {
          "output_type": "stream",
          "name": "stdout",
          "text": [
            "_ _ O \n",
            "_ O _ \n",
            "O X X \n"
          ]
        }
      ]
    },
    {
      "cell_type": "code",
      "source": [
        "import random\n",
        "# round % 2 == 0: 奇數回合\n",
        "# round % 2 == 1: 偶數回合\n",
        "board = [\n",
        "    [ -1, -1, -1],\n",
        "    [ -1, -1, -1],\n",
        "    [ -1, -1, -1]\n",
        "]\n",
        "round = 0\n",
        "while True:\n",
        "    # 有選過的不能再選\n",
        "    while True:\n",
        "        if round % 2 == 0:\n",
        "            row_chosen = int(input(\"選擇第幾列\"))\n",
        "            col_chosen = int(input(\"選擇第幾行\"))\n",
        "        else:\n",
        "            row_chosen = random.randint(0, 2)\n",
        "            col_chosen = random.randint(0, 2)\n",
        "        # 檢查有沒有被選\n",
        "        if board[row_chosen][col_chosen] == -1:\n",
        "            # 記得做設定\n",
        "            board[row_chosen][col_chosen] = round % 2\n",
        "            break\n",
        "        else:\n",
        "            print(\"位置被選了\")\n",
        "    # 有選了就下回合\n",
        "    round = round + 1"
      ],
      "metadata": {
        "id": "cLyN_Mx9yDAY"
      },
      "execution_count": null,
      "outputs": []
    },
    {
      "cell_type": "markdown",
      "source": [
        "\n",
        "\n",
        "```\n",
        "來合併囉!!!!\n",
        "\n",
        "```\n",
        "\n"
      ],
      "metadata": {
        "id": "Ut5iASE41BO-"
      }
    },
    {
      "cell_type": "code",
      "source": [
        "import random\n",
        "# round % 2 == 0: 奇數回合\n",
        "# round % 2 == 1: 偶數回合\n",
        "trans = [\"O\", \"X\"]\n",
        "\n",
        "board = [\n",
        "    [ -1, -1, -1],\n",
        "    [ -1, -1, -1],\n",
        "    [ -1, -1, -1]\n",
        "]\n",
        "winner = -1\n",
        "# 我發現是True的時候就reset, 避免我要寫很多次同樣程式碼\n",
        "reset = False\n",
        "round = 0\n",
        "\n",
        "while True:\n",
        "    # 印個第幾回合好像比較帥\n",
        "    print(\"-\" * 30)\n",
        "    print(\"回合:\", round)\n",
        "    # 有選過的不能再選\n",
        "    while True:\n",
        "        if round % 2 == 0:\n",
        "            row_chosen = int(input(\"選擇第幾列\"))\n",
        "            col_chosen = int(input(\"選擇第幾行\"))\n",
        "        else:\n",
        "            row_chosen = random.randint(0, 2)\n",
        "            col_chosen = random.randint(0, 2)\n",
        "        # 檢查有沒有被選\n",
        "        if board[row_chosen][col_chosen] == -1:\n",
        "            # 記得做設定\n",
        "            board[row_chosen][col_chosen] = round % 2\n",
        "            break\n",
        "        else:\n",
        "            print(\"位置被選了\")\n",
        "    # 有選了就下回合\n",
        "    round = round + 1\n",
        "\n",
        "    # 印出盤面\n",
        "    i = 0\n",
        "    while i < 3:\n",
        "        row = i\n",
        "        # 把這個row的東西印成一行\n",
        "        line = \"\"\n",
        "        j = 0\n",
        "        while j < 3:\n",
        "            player = board[row][j]\n",
        "            if not player == -1:\n",
        "                line = line + trans[player] + \" \"\n",
        "            else:\n",
        "                # 沒被選擇的畫, 我們就用_來表示\n",
        "                line = line + \"_\" + \" \"\n",
        "            j = j + 1\n",
        "        print(line)\n",
        "        i = i + 1\n",
        "\n",
        "    # 判定勝負\n",
        "    # 橫的確認\n",
        "    i = 0\n",
        "    while i < 3:\n",
        "        row = i\n",
        "        if not board[row][0] == -1:\n",
        "            if board[row][0] == board[row][1] == board[row][2]:\n",
        "                # print(row, \"連線了\")\n",
        "                winner = board[row][0]\n",
        "                reset = True\n",
        "        i = i + 1\n",
        "\n",
        "    # 直的確認\n",
        "    i = 0\n",
        "    while i < 3:\n",
        "        col = i\n",
        "        if not board[0][col] == -1:\n",
        "            if board[0][col] == board[1][col] == board[2][col]:\n",
        "                # print(col, \"連線了\")\n",
        "                winner = board[0][col]\n",
        "                reset = True\n",
        "        i = i + 1\n",
        "\n",
        "    # 斜的確認\n",
        "    if not board[0][0] == -1:\n",
        "        if board[0][0] == board[1][1] == board[2][2]:\n",
        "            # print(\"左上到右下連線\")\n",
        "            winner = board[0][0]\n",
        "            reset = True\n",
        "\n",
        "    if not board[0][2] == -1:\n",
        "        if board[0][2] == board[1][1] == board[2][0]:\n",
        "            # print(\"右上到左下連線\")\n",
        "            winner = board[0][2]\n",
        "            reset = True\n",
        "\n",
        "    # 如果winner不是-1 那就是有人贏了\n",
        "    if not winner == -1:\n",
        "        print(trans[winner], \"贏了!\")\n",
        "\n",
        "    if reset == True:\n",
        "        # 重新新一盤遊戲\n",
        "        board = [\n",
        "            [ -1, -1, -1],\n",
        "            [ -1, -1, -1],\n",
        "            [ -1, -1, -1]\n",
        "        ]\n",
        "        winner = -1\n",
        "        # 我發現是True的時候就reset, 避免我要寫很多次同樣程式碼\n",
        "        reset = False\n",
        "        round = 0"
      ],
      "metadata": {
        "colab": {
          "base_uri": "https://localhost:8080/",
          "height": 1000
        },
        "id": "ln6ee3Yu1Isn",
        "outputId": "da4415ec-5fda-4512-b4ff-269ef437383b"
      },
      "execution_count": null,
      "outputs": [
        {
          "output_type": "stream",
          "name": "stdout",
          "text": [
            "------------------------------\n",
            "回合: 0\n",
            "選擇第幾列1\n",
            "選擇第幾行1\n",
            "_ _ _ \n",
            "_ O _ \n",
            "_ _ _ \n",
            "------------------------------\n",
            "回合: 1\n",
            "_ _ _ \n",
            "_ O _ \n",
            "_ X _ \n",
            "------------------------------\n",
            "回合: 2\n",
            "選擇第幾列2\n",
            "選擇第幾行0\n",
            "_ _ _ \n",
            "_ O _ \n",
            "O X _ \n",
            "------------------------------\n",
            "回合: 3\n",
            "位置被選了\n",
            "位置被選了\n",
            "_ _ _ \n",
            "X O _ \n",
            "O X _ \n",
            "------------------------------\n",
            "回合: 4\n",
            "選擇第幾列0\n",
            "選擇第幾行2\n",
            "_ _ O \n",
            "X O _ \n",
            "O X _ \n",
            "O 贏了!\n",
            "------------------------------\n",
            "回合: 0\n",
            "選擇第幾列0\n",
            "選擇第幾行0\n",
            "O _ _ \n",
            "_ _ _ \n",
            "_ _ _ \n",
            "------------------------------\n",
            "回合: 1\n",
            "O _ _ \n",
            "_ X _ \n",
            "_ _ _ \n",
            "------------------------------\n",
            "回合: 2\n",
            "選擇第幾列1\n",
            "選擇第幾行0\n",
            "O _ _ \n",
            "O X _ \n",
            "_ _ _ \n",
            "------------------------------\n",
            "回合: 3\n",
            "O X _ \n",
            "O X _ \n",
            "_ _ _ \n",
            "------------------------------\n",
            "回合: 4\n",
            "選擇第幾列2\n",
            "選擇第幾行0\n",
            "O X _ \n",
            "O X _ \n",
            "O _ _ \n",
            "O 贏了!\n",
            "------------------------------\n",
            "回合: 0\n"
          ]
        },
        {
          "output_type": "error",
          "ename": "KeyboardInterrupt",
          "evalue": "Interrupted by user",
          "traceback": [
            "\u001b[0;31m---------------------------------------------------------------------------\u001b[0m",
            "\u001b[0;31mKeyboardInterrupt\u001b[0m                         Traceback (most recent call last)",
            "\u001b[0;32m<ipython-input-43-de4c843d4dad>\u001b[0m in \u001b[0;36m<cell line: 0>\u001b[0;34m()\u001b[0m\n\u001b[1;32m     21\u001b[0m     \u001b[0;32mwhile\u001b[0m \u001b[0;32mTrue\u001b[0m\u001b[0;34m:\u001b[0m\u001b[0;34m\u001b[0m\u001b[0;34m\u001b[0m\u001b[0m\n\u001b[1;32m     22\u001b[0m         \u001b[0;32mif\u001b[0m \u001b[0mround\u001b[0m \u001b[0;34m%\u001b[0m \u001b[0;36m2\u001b[0m \u001b[0;34m==\u001b[0m \u001b[0;36m0\u001b[0m\u001b[0;34m:\u001b[0m\u001b[0;34m\u001b[0m\u001b[0;34m\u001b[0m\u001b[0m\n\u001b[0;32m---> 23\u001b[0;31m             \u001b[0mrow_chosen\u001b[0m \u001b[0;34m=\u001b[0m \u001b[0mint\u001b[0m\u001b[0;34m(\u001b[0m\u001b[0minput\u001b[0m\u001b[0;34m(\u001b[0m\u001b[0;34m\"選擇第幾列\"\u001b[0m\u001b[0;34m)\u001b[0m\u001b[0;34m)\u001b[0m\u001b[0;34m\u001b[0m\u001b[0;34m\u001b[0m\u001b[0m\n\u001b[0m\u001b[1;32m     24\u001b[0m             \u001b[0mcol_chosen\u001b[0m \u001b[0;34m=\u001b[0m \u001b[0mint\u001b[0m\u001b[0;34m(\u001b[0m\u001b[0minput\u001b[0m\u001b[0;34m(\u001b[0m\u001b[0;34m\"選擇第幾行\"\u001b[0m\u001b[0;34m)\u001b[0m\u001b[0;34m)\u001b[0m\u001b[0;34m\u001b[0m\u001b[0;34m\u001b[0m\u001b[0m\n\u001b[1;32m     25\u001b[0m         \u001b[0;32melse\u001b[0m\u001b[0;34m:\u001b[0m\u001b[0;34m\u001b[0m\u001b[0;34m\u001b[0m\u001b[0m\n",
            "\u001b[0;32m/usr/local/lib/python3.11/dist-packages/ipykernel/kernelbase.py\u001b[0m in \u001b[0;36mraw_input\u001b[0;34m(self, prompt)\u001b[0m\n\u001b[1;32m   1175\u001b[0m                 \u001b[0;34m\"raw_input was called, but this frontend does not support input requests.\"\u001b[0m\u001b[0;34m\u001b[0m\u001b[0;34m\u001b[0m\u001b[0m\n\u001b[1;32m   1176\u001b[0m             )\n\u001b[0;32m-> 1177\u001b[0;31m         return self._input_request(\n\u001b[0m\u001b[1;32m   1178\u001b[0m             \u001b[0mstr\u001b[0m\u001b[0;34m(\u001b[0m\u001b[0mprompt\u001b[0m\u001b[0;34m)\u001b[0m\u001b[0;34m,\u001b[0m\u001b[0;34m\u001b[0m\u001b[0;34m\u001b[0m\u001b[0m\n\u001b[1;32m   1179\u001b[0m             \u001b[0mself\u001b[0m\u001b[0;34m.\u001b[0m\u001b[0m_parent_ident\u001b[0m\u001b[0;34m[\u001b[0m\u001b[0;34m\"shell\"\u001b[0m\u001b[0;34m]\u001b[0m\u001b[0;34m,\u001b[0m\u001b[0;34m\u001b[0m\u001b[0;34m\u001b[0m\u001b[0m\n",
            "\u001b[0;32m/usr/local/lib/python3.11/dist-packages/ipykernel/kernelbase.py\u001b[0m in \u001b[0;36m_input_request\u001b[0;34m(self, prompt, ident, parent, password)\u001b[0m\n\u001b[1;32m   1217\u001b[0m             \u001b[0;32mexcept\u001b[0m \u001b[0mKeyboardInterrupt\u001b[0m\u001b[0;34m:\u001b[0m\u001b[0;34m\u001b[0m\u001b[0;34m\u001b[0m\u001b[0m\n\u001b[1;32m   1218\u001b[0m                 \u001b[0;31m# re-raise KeyboardInterrupt, to truncate traceback\u001b[0m\u001b[0;34m\u001b[0m\u001b[0;34m\u001b[0m\u001b[0m\n\u001b[0;32m-> 1219\u001b[0;31m                 \u001b[0;32mraise\u001b[0m \u001b[0mKeyboardInterrupt\u001b[0m\u001b[0;34m(\u001b[0m\u001b[0;34m\"Interrupted by user\"\u001b[0m\u001b[0;34m)\u001b[0m \u001b[0;32mfrom\u001b[0m \u001b[0;32mNone\u001b[0m\u001b[0;34m\u001b[0m\u001b[0;34m\u001b[0m\u001b[0m\n\u001b[0m\u001b[1;32m   1220\u001b[0m             \u001b[0;32mexcept\u001b[0m \u001b[0mException\u001b[0m\u001b[0;34m:\u001b[0m\u001b[0;34m\u001b[0m\u001b[0;34m\u001b[0m\u001b[0m\n\u001b[1;32m   1221\u001b[0m                 \u001b[0mself\u001b[0m\u001b[0;34m.\u001b[0m\u001b[0mlog\u001b[0m\u001b[0;34m.\u001b[0m\u001b[0mwarning\u001b[0m\u001b[0;34m(\u001b[0m\u001b[0;34m\"Invalid Message:\"\u001b[0m\u001b[0;34m,\u001b[0m \u001b[0mexc_info\u001b[0m\u001b[0;34m=\u001b[0m\u001b[0;32mTrue\u001b[0m\u001b[0;34m)\u001b[0m\u001b[0;34m\u001b[0m\u001b[0;34m\u001b[0m\u001b[0m\n",
            "\u001b[0;31mKeyboardInterrupt\u001b[0m: Interrupted by user"
          ]
        }
      ]
    },
    {
      "cell_type": "code",
      "source": [
        "s = \"   ab  c   \"\n",
        "s.rstrip()"
      ],
      "metadata": {
        "colab": {
          "base_uri": "https://localhost:8080/",
          "height": 35
        },
        "id": "yjM7FWwW6Sn-",
        "outputId": "3c592ff4-1111-43c4-c686-2cf23b3cefdd"
      },
      "execution_count": null,
      "outputs": [
        {
          "output_type": "execute_result",
          "data": {
            "text/plain": [
              "'   ab  c'"
            ],
            "application/vnd.google.colaboratory.intrinsic+json": {
              "type": "string"
            }
          },
          "metadata": {},
          "execution_count": 46
        }
      ]
    }
  ]
}
