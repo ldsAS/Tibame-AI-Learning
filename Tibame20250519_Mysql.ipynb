{
  "nbformat": 4,
  "nbformat_minor": 0,
  "metadata": {
    "colab": {
      "provenance": [],
      "authorship_tag": "ABX9TyMePz2kX3IhthsHxVv8sfI7",
      "include_colab_link": true
    },
    "kernelspec": {
      "name": "python3",
      "display_name": "Python 3"
    },
    "language_info": {
      "name": "python"
    }
  },
  "cells": [
    {
      "cell_type": "markdown",
      "metadata": {
        "id": "view-in-github",
        "colab_type": "text"
      },
      "source": [
        "<a href=\"https://colab.research.google.com/github/ldsAS/Tibame-AI-Learning/blob/main/Tibame20250519_Mysql.ipynb\" target=\"_parent\"><img src=\"https://colab.research.google.com/assets/colab-badge.svg\" alt=\"Open In Colab\"/></a>"
      ]
    },
    {
      "cell_type": "markdown",
      "source": [
        "```\n",
        "my.ini檔案會放在：\n",
        "C:\\ProgramData\\MySQL\\MySQL Server 8.0\n",
        "\n",
        "在mysqld的下面改time-zone：\n",
        "[mysqld]\n",
        "default-time-zone = '+00:00'\n",
        "\n",
        "重新啟動MySQL80服務\n",
        "```"
      ],
      "metadata": {
        "id": "oq7BUQcoHWHA"
      }
    },
    {
      "cell_type": "code",
      "source": [
        "# SELECT actor_id, count(*) as counts FROM film_actor group by actor_id\n",
        "# order by counts desc;"
      ],
      "metadata": {
        "id": "BJkUmJCYHaj1"
      },
      "execution_count": null,
      "outputs": []
    },
    {
      "cell_type": "code",
      "source": [
        "SELECT actor_id, if (count(*) >40, 'A咖',\n",
        "            if (count(*) between 30 and 40, 'B咖',\n",
        "                if (count(*) between 20 and 30, 'C咖', 'D咖'\n",
        "\n",
        "))) as Level\n",
        "\n",
        "From film_actor group by actor_id\n",
        "order by counts desc;"
      ],
      "metadata": {
        "id": "VFXgPG-0K_E3"
      },
      "execution_count": null,
      "outputs": []
    },
    {
      "cell_type": "markdown",
      "source": [
        "```\n",
        "關聯性資料庫\n",
        "最重要的事便是「備份」\n",
        "至少每天一次(即頻率不可低於1天)\n",
        "\n",
        "有的系統會要求PITR(Point-In-Time Recovery)，即每分鐘備份一次\n",
        "頻率：1天，8小時，...1分鐘\n",
        "留存期：7天(週一~週日)\n",
        "```"
      ],
      "metadata": {
        "id": "n6NMjerIOdWY"
      }
    },
    {
      "cell_type": "markdown",
      "source": [
        "```\n",
        "若不想用建環境變數的方式\n",
        "可直接將該檔案複製至需要運作的資料夾\n",
        "\n",
        "若有建環境變數\n",
        "需重啟所有有用到環境變數的程式\n",
        "```"
      ],
      "metadata": {
        "id": "JC92GIX9C9sJ"
      }
    },
    {
      "cell_type": "code",
      "source": [],
      "metadata": {
        "id": "9lVipU56NPAW"
      },
      "execution_count": null,
      "outputs": []
    }
  ]
}