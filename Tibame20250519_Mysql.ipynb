{
  "nbformat": 4,
  "nbformat_minor": 0,
  "metadata": {
    "colab": {
      "provenance": [],
      "authorship_tag": "ABX9TyM+FTunKvg+5RpxoLPOYGhB",
      "include_colab_link": true
    },
    "kernelspec": {
      "name": "python3",
      "display_name": "Python 3"
    },
    "language_info": {
      "name": "python"
    }
  },
  "cells": [
    {
      "cell_type": "markdown",
      "metadata": {
        "id": "view-in-github",
        "colab_type": "text"
      },
      "source": [
        "<a href=\"https://colab.research.google.com/github/ldsAS/Tibame-AI-Learning/blob/main/Tibame20250519_Mysql.ipynb\" target=\"_parent\"><img src=\"https://colab.research.google.com/assets/colab-badge.svg\" alt=\"Open In Colab\"/></a>"
      ]
    },
    {
      "cell_type": "markdown",
      "source": [
        "```\n",
        "my.ini檔案會放在：\n",
        "C:\\ProgramData\\MySQL\\MySQL Server 8.0\n",
        "\n",
        "在mysqld的下面改time-zone：\n",
        "[mysqld]\n",
        "default-time-zone = '+00:00'\n",
        "\n",
        "重新啟動MySQL80服務\n",
        "```"
      ],
      "metadata": {
        "id": "oq7BUQcoHWHA"
      }
    },
    {
      "cell_type": "code",
      "source": [],
      "metadata": {
        "id": "BJkUmJCYHaj1"
      },
      "execution_count": null,
      "outputs": []
    }
  ]
}