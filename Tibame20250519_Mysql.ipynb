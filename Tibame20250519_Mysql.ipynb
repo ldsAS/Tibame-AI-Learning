{
  "nbformat": 4,
  "nbformat_minor": 0,
  "metadata": {
    "colab": {
      "provenance": [],
      "authorship_tag": "ABX9TyOvSC2sXgtEQhrpe8/IyFCO",
      "include_colab_link": true
    },
    "kernelspec": {
      "name": "python3",
      "display_name": "Python 3"
    },
    "language_info": {
      "name": "python"
    }
  },
  "cells": [
    {
      "cell_type": "markdown",
      "metadata": {
        "id": "view-in-github",
        "colab_type": "text"
      },
      "source": [
        "<a href=\"https://colab.research.google.com/github/ldsAS/Tibame-AI-Learning/blob/main/Tibame20250519_Mysql.ipynb\" target=\"_parent\"><img src=\"https://colab.research.google.com/assets/colab-badge.svg\" alt=\"Open In Colab\"/></a>"
      ]
    },
    {
      "cell_type": "markdown",
      "source": [
        "```\n",
        "my.ini檔案會放在：\n",
        "C:\\ProgramData\\MySQL\\MySQL Server 8.0\n",
        "\n",
        "在mysqld的下面改time-zone：\n",
        "[mysqld]\n",
        "default-time-zone = '+00:00'\n",
        "\n",
        "重新啟動MySQL80服務\n",
        "```"
      ],
      "metadata": {
        "id": "oq7BUQcoHWHA"
      }
    },
    {
      "cell_type": "code",
      "source": [
        "# SELECT actor_id, count(*) as counts FROM film_actor group by actor_id\n",
        "# order by counts desc;"
      ],
      "metadata": {
        "id": "BJkUmJCYHaj1"
      },
      "execution_count": null,
      "outputs": []
    },
    {
      "cell_type": "code",
      "source": [
        "SELECT actor_id, if (count(*) >40, 'A咖',\n",
        "                     if (count(*) between 30 and 40, 'B咖',\n",
        "                         if (count(*) between 20 and 30, 'C咖', 'D咖'\n",
        "\n",
        "))) as Level\n",
        "\n",
        "From film_actor group by actor_id\n",
        "order by counts desc;"
      ],
      "metadata": {
        "id": "VFXgPG-0K_E3"
      },
      "execution_count": null,
      "outputs": []
    },
    {
      "cell_type": "code",
      "source": [],
      "metadata": {
        "id": "9lVipU56NPAW"
      },
      "execution_count": null,
      "outputs": []
    }
  ]
}