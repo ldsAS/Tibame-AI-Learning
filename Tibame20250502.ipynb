{
  "cells": [
    {
      "cell_type": "markdown",
      "metadata": {
        "id": "view-in-github",
        "colab_type": "text"
      },
      "source": [
        "<a href=\"https://colab.research.google.com/github/ldsAS/Tibame-AI-Learning/blob/main/Tibame20250502.ipynb\" target=\"_parent\"><img src=\"https://colab.research.google.com/assets/colab-badge.svg\" alt=\"Open In Colab\"/></a>"
      ]
    },
    {
      "cell_type": "markdown",
      "metadata": {
        "id": "t4JyWuX3ig95"
      },
      "source": [
        "# Pandas\n",
        "* https://pandas.pydata.org/\n",
        "* https://pandas.pydata.org/docs/\n",
        "\n",
        "### 說明\n",
        "* 不同於Numpy是用來進行單純的數值分析，大部分的資料會包含異質資料型態的欄位。<BR>[參考：R公司_人員資料.xlsx]\n",
        "* Pandas是Python 中非常流行的一個數據分析庫，它為數據操作、清理和分析提供了強大的功能。<BR>\n",
        "* Pandas基於Numpy架構了Dataframe，可以方便的處理資料表(Table)\n",
        "\n",
        "### 典型應用場景：\n",
        "* 數據分析和可視化\n",
        "* 數據清理（例如處理缺失值、重複數據等）\n",
        "* 數據預處理（例如標準化、歸一化）\n",
        "* 大規模數據的聚合、篩選、分組等操作\n",
        "\n",
        "\n"
      ]
    },
    {
      "cell_type": "code",
      "execution_count": null,
      "metadata": {
        "id": "ySEWN-DYig96"
      },
      "outputs": [],
      "source": [
        "! pip install pandas openpyxl"
      ]
    },
    {
      "cell_type": "code",
      "execution_count": 1,
      "metadata": {
        "id": "HBAHQmfbig97"
      },
      "outputs": [],
      "source": [
        "import numpy as np\n",
        "import pandas as pd"
      ]
    },
    {
      "cell_type": "code",
      "execution_count": 8,
      "metadata": {
        "scrolled": true,
        "colab": {
          "base_uri": "https://localhost:8080/",
          "height": 377
        },
        "id": "Y8GH6VBlig97",
        "outputId": "007f67b6-59d9-4bf9-8c4e-51d82ffdad3e"
      },
      "outputs": [
        {
          "output_type": "execute_result",
          "data": {
            "text/plain": [
              "   員工編號(EmployeeNumber) 性別(Gender)  年齡(Age) 是否為成年人(Over18)  \\\n",
              "0                     1     Female       41              Y   \n",
              "1                     2       Male       49              Y   \n",
              "2                     4       Male       37              Y   \n",
              "3                     5     Female       33              Y   \n",
              "4                     7       Male       27              Y   \n",
              "\n",
              "  婚姻狀態(MaritalStatus)  通勤距離(DistanceFromHome)  教育程度(Education)  \\\n",
              "0              Single                       1                2   \n",
              "1             Married                       8                1   \n",
              "2              Single                       2                2   \n",
              "3             Married                       3                4   \n",
              "4             Married                       2                1   \n",
              "\n",
              "  教育專業領域(EducationField)          部門(Department)          職位名稱(JobRole)  ...  \\\n",
              "0          Life Sciences                   Sales        Sales Executive  ...   \n",
              "1          Life Sciences  Research & Development     Research Scientist  ...   \n",
              "2                  Other  Research & Development  Laboratory Technician  ...   \n",
              "3          Life Sciences  Research & Development     Research Scientist  ...   \n",
              "4                Medical  Research & Development  Laboratory Technician  ...   \n",
              "\n",
              "   股票選擇權等級(StockOptionLevel)  績效評估(PerformanceRating)  出差頻率(BusinessTravel)  \\\n",
              "0                          0                        3         Travel_Rarely   \n",
              "1                          1                        4     Travel_Frequently   \n",
              "2                          0                        3         Travel_Rarely   \n",
              "3                          0                        3     Travel_Frequently   \n",
              "4                          1                        3         Travel_Rarely   \n",
              "\n",
              "   去年訓練時間(TrainingTimesLastYear)  工作滿意度(JobSatisfaction)  \\\n",
              "0                              0                       4   \n",
              "1                              3                       2   \n",
              "2                              3                       3   \n",
              "3                              3                       3   \n",
              "4                              3                       2   \n",
              "\n",
              "   工作環境滿意度(EnvironmentSatisfaction)  工作投入(JobInvolvement)  \\\n",
              "0                                 2                     3   \n",
              "1                                 3                     2   \n",
              "2                                 4                     2   \n",
              "3                                 4                     3   \n",
              "4                                 1                     3   \n",
              "\n",
              "   工作生活平衡(WorkLifeBalance)  人際關係滿意度(RelationshipSatisfaction)  離職(Attrition)  \n",
              "0                        1                                  1            Yes  \n",
              "1                        3                                  4             No  \n",
              "2                        3                                  2            Yes  \n",
              "3                        3                                  3             No  \n",
              "4                        3                                  4             No  \n",
              "\n",
              "[5 rows x 34 columns]"
            ],
            "text/html": [
              "\n",
              "  <div id=\"df-c0549acb-df26-44cf-b49b-e41f3144e474\" class=\"colab-df-container\">\n",
              "    <div>\n",
              "<style scoped>\n",
              "    .dataframe tbody tr th:only-of-type {\n",
              "        vertical-align: middle;\n",
              "    }\n",
              "\n",
              "    .dataframe tbody tr th {\n",
              "        vertical-align: top;\n",
              "    }\n",
              "\n",
              "    .dataframe thead th {\n",
              "        text-align: right;\n",
              "    }\n",
              "</style>\n",
              "<table border=\"1\" class=\"dataframe\">\n",
              "  <thead>\n",
              "    <tr style=\"text-align: right;\">\n",
              "      <th></th>\n",
              "      <th>員工編號(EmployeeNumber)</th>\n",
              "      <th>性別(Gender)</th>\n",
              "      <th>年齡(Age)</th>\n",
              "      <th>是否為成年人(Over18)</th>\n",
              "      <th>婚姻狀態(MaritalStatus)</th>\n",
              "      <th>通勤距離(DistanceFromHome)</th>\n",
              "      <th>教育程度(Education)</th>\n",
              "      <th>教育專業領域(EducationField)</th>\n",
              "      <th>部門(Department)</th>\n",
              "      <th>職位名稱(JobRole)</th>\n",
              "      <th>...</th>\n",
              "      <th>股票選擇權等級(StockOptionLevel)</th>\n",
              "      <th>績效評估(PerformanceRating)</th>\n",
              "      <th>出差頻率(BusinessTravel)</th>\n",
              "      <th>去年訓練時間(TrainingTimesLastYear)</th>\n",
              "      <th>工作滿意度(JobSatisfaction)</th>\n",
              "      <th>工作環境滿意度(EnvironmentSatisfaction)</th>\n",
              "      <th>工作投入(JobInvolvement)</th>\n",
              "      <th>工作生活平衡(WorkLifeBalance)</th>\n",
              "      <th>人際關係滿意度(RelationshipSatisfaction)</th>\n",
              "      <th>離職(Attrition)</th>\n",
              "    </tr>\n",
              "  </thead>\n",
              "  <tbody>\n",
              "    <tr>\n",
              "      <th>0</th>\n",
              "      <td>1</td>\n",
              "      <td>Female</td>\n",
              "      <td>41</td>\n",
              "      <td>Y</td>\n",
              "      <td>Single</td>\n",
              "      <td>1</td>\n",
              "      <td>2</td>\n",
              "      <td>Life Sciences</td>\n",
              "      <td>Sales</td>\n",
              "      <td>Sales Executive</td>\n",
              "      <td>...</td>\n",
              "      <td>0</td>\n",
              "      <td>3</td>\n",
              "      <td>Travel_Rarely</td>\n",
              "      <td>0</td>\n",
              "      <td>4</td>\n",
              "      <td>2</td>\n",
              "      <td>3</td>\n",
              "      <td>1</td>\n",
              "      <td>1</td>\n",
              "      <td>Yes</td>\n",
              "    </tr>\n",
              "    <tr>\n",
              "      <th>1</th>\n",
              "      <td>2</td>\n",
              "      <td>Male</td>\n",
              "      <td>49</td>\n",
              "      <td>Y</td>\n",
              "      <td>Married</td>\n",
              "      <td>8</td>\n",
              "      <td>1</td>\n",
              "      <td>Life Sciences</td>\n",
              "      <td>Research &amp; Development</td>\n",
              "      <td>Research Scientist</td>\n",
              "      <td>...</td>\n",
              "      <td>1</td>\n",
              "      <td>4</td>\n",
              "      <td>Travel_Frequently</td>\n",
              "      <td>3</td>\n",
              "      <td>2</td>\n",
              "      <td>3</td>\n",
              "      <td>2</td>\n",
              "      <td>3</td>\n",
              "      <td>4</td>\n",
              "      <td>No</td>\n",
              "    </tr>\n",
              "    <tr>\n",
              "      <th>2</th>\n",
              "      <td>4</td>\n",
              "      <td>Male</td>\n",
              "      <td>37</td>\n",
              "      <td>Y</td>\n",
              "      <td>Single</td>\n",
              "      <td>2</td>\n",
              "      <td>2</td>\n",
              "      <td>Other</td>\n",
              "      <td>Research &amp; Development</td>\n",
              "      <td>Laboratory Technician</td>\n",
              "      <td>...</td>\n",
              "      <td>0</td>\n",
              "      <td>3</td>\n",
              "      <td>Travel_Rarely</td>\n",
              "      <td>3</td>\n",
              "      <td>3</td>\n",
              "      <td>4</td>\n",
              "      <td>2</td>\n",
              "      <td>3</td>\n",
              "      <td>2</td>\n",
              "      <td>Yes</td>\n",
              "    </tr>\n",
              "    <tr>\n",
              "      <th>3</th>\n",
              "      <td>5</td>\n",
              "      <td>Female</td>\n",
              "      <td>33</td>\n",
              "      <td>Y</td>\n",
              "      <td>Married</td>\n",
              "      <td>3</td>\n",
              "      <td>4</td>\n",
              "      <td>Life Sciences</td>\n",
              "      <td>Research &amp; Development</td>\n",
              "      <td>Research Scientist</td>\n",
              "      <td>...</td>\n",
              "      <td>0</td>\n",
              "      <td>3</td>\n",
              "      <td>Travel_Frequently</td>\n",
              "      <td>3</td>\n",
              "      <td>3</td>\n",
              "      <td>4</td>\n",
              "      <td>3</td>\n",
              "      <td>3</td>\n",
              "      <td>3</td>\n",
              "      <td>No</td>\n",
              "    </tr>\n",
              "    <tr>\n",
              "      <th>4</th>\n",
              "      <td>7</td>\n",
              "      <td>Male</td>\n",
              "      <td>27</td>\n",
              "      <td>Y</td>\n",
              "      <td>Married</td>\n",
              "      <td>2</td>\n",
              "      <td>1</td>\n",
              "      <td>Medical</td>\n",
              "      <td>Research &amp; Development</td>\n",
              "      <td>Laboratory Technician</td>\n",
              "      <td>...</td>\n",
              "      <td>1</td>\n",
              "      <td>3</td>\n",
              "      <td>Travel_Rarely</td>\n",
              "      <td>3</td>\n",
              "      <td>2</td>\n",
              "      <td>1</td>\n",
              "      <td>3</td>\n",
              "      <td>3</td>\n",
              "      <td>4</td>\n",
              "      <td>No</td>\n",
              "    </tr>\n",
              "  </tbody>\n",
              "</table>\n",
              "<p>5 rows × 34 columns</p>\n",
              "</div>\n",
              "    <div class=\"colab-df-buttons\">\n",
              "\n",
              "  <div class=\"colab-df-container\">\n",
              "    <button class=\"colab-df-convert\" onclick=\"convertToInteractive('df-c0549acb-df26-44cf-b49b-e41f3144e474')\"\n",
              "            title=\"Convert this dataframe to an interactive table.\"\n",
              "            style=\"display:none;\">\n",
              "\n",
              "  <svg xmlns=\"http://www.w3.org/2000/svg\" height=\"24px\" viewBox=\"0 -960 960 960\">\n",
              "    <path d=\"M120-120v-720h720v720H120Zm60-500h600v-160H180v160Zm220 220h160v-160H400v160Zm0 220h160v-160H400v160ZM180-400h160v-160H180v160Zm440 0h160v-160H620v160ZM180-180h160v-160H180v160Zm440 0h160v-160H620v160Z\"/>\n",
              "  </svg>\n",
              "    </button>\n",
              "\n",
              "  <style>\n",
              "    .colab-df-container {\n",
              "      display:flex;\n",
              "      gap: 12px;\n",
              "    }\n",
              "\n",
              "    .colab-df-convert {\n",
              "      background-color: #E8F0FE;\n",
              "      border: none;\n",
              "      border-radius: 50%;\n",
              "      cursor: pointer;\n",
              "      display: none;\n",
              "      fill: #1967D2;\n",
              "      height: 32px;\n",
              "      padding: 0 0 0 0;\n",
              "      width: 32px;\n",
              "    }\n",
              "\n",
              "    .colab-df-convert:hover {\n",
              "      background-color: #E2EBFA;\n",
              "      box-shadow: 0px 1px 2px rgba(60, 64, 67, 0.3), 0px 1px 3px 1px rgba(60, 64, 67, 0.15);\n",
              "      fill: #174EA6;\n",
              "    }\n",
              "\n",
              "    .colab-df-buttons div {\n",
              "      margin-bottom: 4px;\n",
              "    }\n",
              "\n",
              "    [theme=dark] .colab-df-convert {\n",
              "      background-color: #3B4455;\n",
              "      fill: #D2E3FC;\n",
              "    }\n",
              "\n",
              "    [theme=dark] .colab-df-convert:hover {\n",
              "      background-color: #434B5C;\n",
              "      box-shadow: 0px 1px 3px 1px rgba(0, 0, 0, 0.15);\n",
              "      filter: drop-shadow(0px 1px 2px rgba(0, 0, 0, 0.3));\n",
              "      fill: #FFFFFF;\n",
              "    }\n",
              "  </style>\n",
              "\n",
              "    <script>\n",
              "      const buttonEl =\n",
              "        document.querySelector('#df-c0549acb-df26-44cf-b49b-e41f3144e474 button.colab-df-convert');\n",
              "      buttonEl.style.display =\n",
              "        google.colab.kernel.accessAllowed ? 'block' : 'none';\n",
              "\n",
              "      async function convertToInteractive(key) {\n",
              "        const element = document.querySelector('#df-c0549acb-df26-44cf-b49b-e41f3144e474');\n",
              "        const dataTable =\n",
              "          await google.colab.kernel.invokeFunction('convertToInteractive',\n",
              "                                                    [key], {});\n",
              "        if (!dataTable) return;\n",
              "\n",
              "        const docLinkHtml = 'Like what you see? Visit the ' +\n",
              "          '<a target=\"_blank\" href=https://colab.research.google.com/notebooks/data_table.ipynb>data table notebook</a>'\n",
              "          + ' to learn more about interactive tables.';\n",
              "        element.innerHTML = '';\n",
              "        dataTable['output_type'] = 'display_data';\n",
              "        await google.colab.output.renderOutput(dataTable, element);\n",
              "        const docLink = document.createElement('div');\n",
              "        docLink.innerHTML = docLinkHtml;\n",
              "        element.appendChild(docLink);\n",
              "      }\n",
              "    </script>\n",
              "  </div>\n",
              "\n",
              "\n",
              "    <div id=\"df-e6cbf0a3-06b2-46bb-ad83-134d24be077b\">\n",
              "      <button class=\"colab-df-quickchart\" onclick=\"quickchart('df-e6cbf0a3-06b2-46bb-ad83-134d24be077b')\"\n",
              "                title=\"Suggest charts\"\n",
              "                style=\"display:none;\">\n",
              "\n",
              "<svg xmlns=\"http://www.w3.org/2000/svg\" height=\"24px\"viewBox=\"0 0 24 24\"\n",
              "     width=\"24px\">\n",
              "    <g>\n",
              "        <path d=\"M19 3H5c-1.1 0-2 .9-2 2v14c0 1.1.9 2 2 2h14c1.1 0 2-.9 2-2V5c0-1.1-.9-2-2-2zM9 17H7v-7h2v7zm4 0h-2V7h2v10zm4 0h-2v-4h2v4z\"/>\n",
              "    </g>\n",
              "</svg>\n",
              "      </button>\n",
              "\n",
              "<style>\n",
              "  .colab-df-quickchart {\n",
              "      --bg-color: #E8F0FE;\n",
              "      --fill-color: #1967D2;\n",
              "      --hover-bg-color: #E2EBFA;\n",
              "      --hover-fill-color: #174EA6;\n",
              "      --disabled-fill-color: #AAA;\n",
              "      --disabled-bg-color: #DDD;\n",
              "  }\n",
              "\n",
              "  [theme=dark] .colab-df-quickchart {\n",
              "      --bg-color: #3B4455;\n",
              "      --fill-color: #D2E3FC;\n",
              "      --hover-bg-color: #434B5C;\n",
              "      --hover-fill-color: #FFFFFF;\n",
              "      --disabled-bg-color: #3B4455;\n",
              "      --disabled-fill-color: #666;\n",
              "  }\n",
              "\n",
              "  .colab-df-quickchart {\n",
              "    background-color: var(--bg-color);\n",
              "    border: none;\n",
              "    border-radius: 50%;\n",
              "    cursor: pointer;\n",
              "    display: none;\n",
              "    fill: var(--fill-color);\n",
              "    height: 32px;\n",
              "    padding: 0;\n",
              "    width: 32px;\n",
              "  }\n",
              "\n",
              "  .colab-df-quickchart:hover {\n",
              "    background-color: var(--hover-bg-color);\n",
              "    box-shadow: 0 1px 2px rgba(60, 64, 67, 0.3), 0 1px 3px 1px rgba(60, 64, 67, 0.15);\n",
              "    fill: var(--button-hover-fill-color);\n",
              "  }\n",
              "\n",
              "  .colab-df-quickchart-complete:disabled,\n",
              "  .colab-df-quickchart-complete:disabled:hover {\n",
              "    background-color: var(--disabled-bg-color);\n",
              "    fill: var(--disabled-fill-color);\n",
              "    box-shadow: none;\n",
              "  }\n",
              "\n",
              "  .colab-df-spinner {\n",
              "    border: 2px solid var(--fill-color);\n",
              "    border-color: transparent;\n",
              "    border-bottom-color: var(--fill-color);\n",
              "    animation:\n",
              "      spin 1s steps(1) infinite;\n",
              "  }\n",
              "\n",
              "  @keyframes spin {\n",
              "    0% {\n",
              "      border-color: transparent;\n",
              "      border-bottom-color: var(--fill-color);\n",
              "      border-left-color: var(--fill-color);\n",
              "    }\n",
              "    20% {\n",
              "      border-color: transparent;\n",
              "      border-left-color: var(--fill-color);\n",
              "      border-top-color: var(--fill-color);\n",
              "    }\n",
              "    30% {\n",
              "      border-color: transparent;\n",
              "      border-left-color: var(--fill-color);\n",
              "      border-top-color: var(--fill-color);\n",
              "      border-right-color: var(--fill-color);\n",
              "    }\n",
              "    40% {\n",
              "      border-color: transparent;\n",
              "      border-right-color: var(--fill-color);\n",
              "      border-top-color: var(--fill-color);\n",
              "    }\n",
              "    60% {\n",
              "      border-color: transparent;\n",
              "      border-right-color: var(--fill-color);\n",
              "    }\n",
              "    80% {\n",
              "      border-color: transparent;\n",
              "      border-right-color: var(--fill-color);\n",
              "      border-bottom-color: var(--fill-color);\n",
              "    }\n",
              "    90% {\n",
              "      border-color: transparent;\n",
              "      border-bottom-color: var(--fill-color);\n",
              "    }\n",
              "  }\n",
              "</style>\n",
              "\n",
              "      <script>\n",
              "        async function quickchart(key) {\n",
              "          const quickchartButtonEl =\n",
              "            document.querySelector('#' + key + ' button');\n",
              "          quickchartButtonEl.disabled = true;  // To prevent multiple clicks.\n",
              "          quickchartButtonEl.classList.add('colab-df-spinner');\n",
              "          try {\n",
              "            const charts = await google.colab.kernel.invokeFunction(\n",
              "                'suggestCharts', [key], {});\n",
              "          } catch (error) {\n",
              "            console.error('Error during call to suggestCharts:', error);\n",
              "          }\n",
              "          quickchartButtonEl.classList.remove('colab-df-spinner');\n",
              "          quickchartButtonEl.classList.add('colab-df-quickchart-complete');\n",
              "        }\n",
              "        (() => {\n",
              "          let quickchartButtonEl =\n",
              "            document.querySelector('#df-e6cbf0a3-06b2-46bb-ad83-134d24be077b button');\n",
              "          quickchartButtonEl.style.display =\n",
              "            google.colab.kernel.accessAllowed ? 'block' : 'none';\n",
              "        })();\n",
              "      </script>\n",
              "    </div>\n",
              "\n",
              "    </div>\n",
              "  </div>\n"
            ],
            "application/vnd.google.colaboratory.intrinsic+json": {
              "type": "dataframe",
              "variable_name": "data"
            }
          },
          "metadata": {},
          "execution_count": 8
        }
      ],
      "source": [
        "# 讀取Excel資料(路徑是自己資料夾的相對路徑)\n",
        "# data = pd.read_excel('../data/R公司_人員資料.xlsx',engine='openpyxl')\n",
        "\n",
        "# 亦可用/content放到colab本身的資料夾，\n",
        "# data = pd.read_excel('../content/R公司_人員資料.xlsx',engine='openpyxl')\n",
        "\n",
        "# 或是直接掛Google硬碟的路徑\n",
        "data = pd.read_excel('../content/Test/R公司_人員資料.xlsx',engine='openpyxl')\n",
        "\n",
        "# 絕對路徑若設在windows的資料夾，使用反斜線改寫路徑\n",
        "# data = pd.read_excel('..\\data\\R公司_人員資料.xlsx',engine='openpyxl')\n",
        "\n",
        "# 使用 head() 讀前五行\n",
        "data.head()"
      ]
    },
    {
      "cell_type": "code",
      "source": [
        "from google.colab import drive\n",
        "drive.mount('/content/drive')"
      ],
      "metadata": {
        "id": "6stD6OU1k07i"
      },
      "execution_count": null,
      "outputs": []
    },
    {
      "cell_type": "markdown",
      "metadata": {
        "id": "rERcXtoCig97"
      },
      "source": [
        "# Series\n",
        "維數據結構，類似於 Python 中的列表或 NumPy 的數組，通常用來表示一列數據。"
      ]
    },
    {
      "cell_type": "code",
      "execution_count": null,
      "metadata": {
        "id": "WjuH6OcAig97"
      },
      "outputs": [],
      "source": [
        "data = pd.Series([0.25, 0.5, 0.75, 1.0])\n",
        "data"
      ]
    },
    {
      "cell_type": "code",
      "execution_count": null,
      "metadata": {
        "id": "uxkjeMx1ig97"
      },
      "outputs": [],
      "source": [
        "# 底層是用Numpy來實作\n",
        "data.values"
      ]
    },
    {
      "cell_type": "markdown",
      "metadata": {
        "id": "FaEE8pIqig98"
      },
      "source": [
        "### 讀取資料的方式會跟Numpy相似"
      ]
    },
    {
      "cell_type": "code",
      "execution_count": null,
      "metadata": {
        "id": "MZIid4T9ig98"
      },
      "outputs": [],
      "source": [
        "data[1]"
      ]
    },
    {
      "cell_type": "code",
      "execution_count": null,
      "metadata": {
        "id": "5-piFjrpig98"
      },
      "outputs": [],
      "source": [
        "data[1:3]"
      ]
    },
    {
      "cell_type": "markdown",
      "metadata": {
        "id": "k07Ycjxbig98"
      },
      "source": [
        "## 設定索引"
      ]
    },
    {
      "cell_type": "code",
      "execution_count": null,
      "metadata": {
        "id": "1EHaylkhig98"
      },
      "outputs": [],
      "source": [
        "data = pd.Series([0.25, 0.5, 0.75, 1.0],\n",
        "                 index=['a', 'b', 'c', 'd'])\n",
        "data"
      ]
    },
    {
      "cell_type": "code",
      "execution_count": null,
      "metadata": {
        "id": "avlXxnwaig98"
      },
      "outputs": [],
      "source": [
        "data['b']"
      ]
    },
    {
      "cell_type": "code",
      "execution_count": null,
      "metadata": {
        "id": "Owojov1oig98"
      },
      "outputs": [],
      "source": [
        "# 練習題\n",
        "# 請試著建立一個Seriers物件，內容值為五個人的身高。並使用人名當成索引。\n",
        "# 身高 = ..........."
      ]
    },
    {
      "cell_type": "markdown",
      "metadata": {
        "id": "z6KYGapOig99"
      },
      "source": [
        "### 索引也可以是數值"
      ]
    },
    {
      "cell_type": "code",
      "execution_count": null,
      "metadata": {
        "id": "-xYzYSnCig99"
      },
      "outputs": [],
      "source": [
        "data = pd.Series([0.25, 0.5, 0.75, 1.0],\n",
        "                 index=[2, 5, 3, 7])\n",
        "data"
      ]
    },
    {
      "cell_type": "code",
      "execution_count": null,
      "metadata": {
        "id": "Wqj0rDJIig99"
      },
      "outputs": [],
      "source": [
        "data[2]"
      ]
    },
    {
      "cell_type": "code",
      "execution_count": null,
      "metadata": {
        "id": "KSYohjHyig99"
      },
      "outputs": [],
      "source": [
        "# 問題\n",
        "# 如果出現不存在的索引會怎樣？"
      ]
    },
    {
      "cell_type": "markdown",
      "metadata": {
        "id": "oEBeCFPOig99"
      },
      "source": [
        "### 可以使用python中的dict來建立資料"
      ]
    },
    {
      "cell_type": "code",
      "execution_count": null,
      "metadata": {
        "id": "DmNywFKMig99"
      },
      "outputs": [],
      "source": [
        "population_dict = {'California': 38332521,\n",
        "                   'Texas': 26448193,\n",
        "                   'New York': 19651127,\n",
        "                   'Florida': 19552860,\n",
        "                   'Illinois': 12882135}\n",
        "population = pd.Series(population_dict)\n",
        "population"
      ]
    },
    {
      "cell_type": "code",
      "execution_count": null,
      "metadata": {
        "id": "dntCOTMOig99"
      },
      "outputs": [],
      "source": [
        "population['California']"
      ]
    },
    {
      "cell_type": "code",
      "execution_count": null,
      "metadata": {
        "scrolled": true,
        "id": "OREL2hrkig99"
      },
      "outputs": [],
      "source": [
        "population['California':'Illinois']"
      ]
    },
    {
      "cell_type": "markdown",
      "metadata": {
        "id": "6mP6oG3_ig99"
      },
      "source": [
        "↑雖然可以這樣做，但是強烈建議不要"
      ]
    },
    {
      "cell_type": "code",
      "execution_count": null,
      "metadata": {
        "id": "qo8dt4Lsig9-"
      },
      "outputs": [],
      "source": [
        "# 練習題\n",
        "# 請改用dict來建立身高與姓名對應的Series"
      ]
    },
    {
      "cell_type": "markdown",
      "metadata": {
        "id": "99M66TLZig9-"
      },
      "source": [
        "### 幾種不同建構Serier物件的方式"
      ]
    },
    {
      "cell_type": "code",
      "execution_count": null,
      "metadata": {
        "id": "bF9gYZnFig9-"
      },
      "outputs": [],
      "source": [
        "pd.Series([2, 4, 6])"
      ]
    },
    {
      "cell_type": "code",
      "execution_count": null,
      "metadata": {
        "id": "h-a9UqaOig9-"
      },
      "outputs": [],
      "source": [
        "pd.Series(5, index=[100, 200, 300])"
      ]
    },
    {
      "cell_type": "code",
      "execution_count": null,
      "metadata": {
        "id": "nOV6ofobig9-"
      },
      "outputs": [],
      "source": [
        "pd.Series({2:'a', 1:'b', 3:'c'})"
      ]
    },
    {
      "cell_type": "code",
      "execution_count": null,
      "metadata": {
        "id": "L4zPghjHig9-"
      },
      "outputs": [],
      "source": [
        "pd.Series({2:'a', 1:'b', 3:'c'}, index=[3, 2])"
      ]
    },
    {
      "cell_type": "markdown",
      "metadata": {
        "id": "8i6Zhbw9ig9-"
      },
      "source": [
        "# DataFrame\n",
        "二維數據結構，類似於 Excel 表格或 SQL 數據表，是 Pandas 中最常用的數據結構。它由多個 Series 組成，每個 Series 代表一列。"
      ]
    },
    {
      "cell_type": "code",
      "execution_count": null,
      "metadata": {
        "id": "QOSqP6Urig9-"
      },
      "outputs": [],
      "source": [
        "population_dict = {'California': 38332521,\n",
        "                   'Texas': 26448193,\n",
        "                   'New York': 19651127,\n",
        "                   'Florida': 19552860,\n",
        "                   'Illinois': 12882135}\n",
        "population = pd.Series(population_dict)\n",
        "\n",
        "area_dict = {'California': 423967, 'Texas': 695662, 'New York': 141297,\n",
        "             'Florida': 170312, 'Illinois': 149995}\n",
        "area = pd.Series(area_dict)\n",
        "area\n"
      ]
    },
    {
      "cell_type": "code",
      "execution_count": null,
      "metadata": {
        "id": "pary9c01ig9-"
      },
      "outputs": [],
      "source": [
        "states = pd.DataFrame({'人口': population,\n",
        "                       '面積': area})\n",
        "states"
      ]
    },
    {
      "cell_type": "code",
      "execution_count": null,
      "metadata": {
        "id": "lXmQiMKSig9-"
      },
      "outputs": [],
      "source": [
        "states.index"
      ]
    },
    {
      "cell_type": "code",
      "execution_count": null,
      "metadata": {
        "id": "qiyBu2qnig9_"
      },
      "outputs": [],
      "source": [
        "states.columns"
      ]
    },
    {
      "cell_type": "code",
      "execution_count": null,
      "metadata": {
        "id": "FQYN8l4hig9_"
      },
      "outputs": [],
      "source": [
        "# 練習題\n",
        "# 請建立另一個體重與姓名關係的Series\n",
        "# 並再建立一個包含 體重與身高 的 DataFrame,使用姓名當索引"
      ]
    },
    {
      "cell_type": "code",
      "execution_count": null,
      "metadata": {
        "id": "89VsJsmWig9_"
      },
      "outputs": [],
      "source": [
        "#取得特定欄位的資料\n",
        "states['面積']"
      ]
    },
    {
      "cell_type": "code",
      "execution_count": null,
      "metadata": {
        "id": "jart0-UKig9_"
      },
      "outputs": [],
      "source": [
        "# 檢查是否包含某個索引\n",
        "'Texas' in states.index"
      ]
    },
    {
      "cell_type": "markdown",
      "metadata": {
        "id": "RS8VrpsQig9_"
      },
      "source": [
        "## 從檔案載入資料"
      ]
    },
    {
      "cell_type": "code",
      "execution_count": null,
      "metadata": {
        "id": "IvHznR8rig9_"
      },
      "outputs": [],
      "source": [
        "iris = pd.read_csv('../data/Iris.csv')\n",
        "iris"
      ]
    },
    {
      "cell_type": "code",
      "execution_count": null,
      "metadata": {
        "id": "RSEHntkDig9_"
      },
      "outputs": [],
      "source": [
        "#快速查看前幾筆資料\n",
        "iris.head()"
      ]
    },
    {
      "cell_type": "code",
      "execution_count": null,
      "metadata": {
        "id": "zgmSab8wig9_"
      },
      "outputs": [],
      "source": [
        "iris[2:6]"
      ]
    },
    {
      "cell_type": "code",
      "execution_count": null,
      "metadata": {
        "id": "-tbsOmzmig-A"
      },
      "outputs": [],
      "source": [
        "iris['SepalLengthCm']"
      ]
    },
    {
      "cell_type": "code",
      "execution_count": null,
      "metadata": {
        "id": "DcqNmxAkig-A"
      },
      "outputs": [],
      "source": [
        "iris['SepalLengthCm'][2:6]"
      ]
    },
    {
      "cell_type": "code",
      "execution_count": null,
      "metadata": {
        "id": "tw7wEcASig-A"
      },
      "outputs": [],
      "source": [
        "iris[2:6]['SepalLengthCm']"
      ]
    },
    {
      "cell_type": "markdown",
      "metadata": {
        "id": "nfkxQrnLig-A"
      },
      "source": [
        "#### 取出部分資料的方法"
      ]
    },
    {
      "cell_type": "code",
      "execution_count": null,
      "metadata": {
        "id": "fRUl27hoig-A"
      },
      "outputs": [],
      "source": [
        "# 這樣會失敗\n",
        "iris[[2,4,7,9]]"
      ]
    },
    {
      "cell_type": "code",
      "execution_count": null,
      "metadata": {
        "id": "BHizq66Sig-A"
      },
      "outputs": [],
      "source": [
        "#正確方式\n",
        "iris.loc[[2,4,7,9]]"
      ]
    },
    {
      "cell_type": "markdown",
      "metadata": {
        "id": "5pn8HxbWig-A"
      },
      "source": [
        "#### 練習題用資料"
      ]
    },
    {
      "cell_type": "code",
      "execution_count": null,
      "metadata": {
        "id": "APoGKCpJig-A"
      },
      "outputs": [],
      "source": [
        "h = {'David':162, 'Ken':169, 'Sam': 173, 'Owen':165, 'Paul':177}\n",
        "w = {'David':70, 'Owen':80, 'Paul':78, 'Ken':65, 'Sam': 83}\n",
        "person = pd.DataFrame({'身高': h, '體重': w})\n",
        "person"
      ]
    },
    {
      "cell_type": "code",
      "execution_count": null,
      "metadata": {
        "id": "oztxBx6Hig-A"
      },
      "outputs": [],
      "source": [
        "#練習題\n",
        "#請列出第 1~3 筆資料"
      ]
    },
    {
      "cell_type": "code",
      "execution_count": null,
      "metadata": {
        "id": "XYVYfKj_ig-A"
      },
      "outputs": [],
      "source": [
        "# 列出第 2,4,5筆資料\n",
        "# 下面的寫法為何失敗？\n",
        "person.loc[[1,3,4]]"
      ]
    },
    {
      "cell_type": "code",
      "execution_count": null,
      "metadata": {
        "id": "TmvVqMNsig-B"
      },
      "outputs": [],
      "source": [
        "person.iloc[[1,3,4]]"
      ]
    },
    {
      "cell_type": "code",
      "execution_count": null,
      "metadata": {
        "id": "liPPdInYig-B"
      },
      "outputs": [],
      "source": [
        "person.loc[['Ken','Owen','Paul']]"
      ]
    },
    {
      "cell_type": "markdown",
      "metadata": {
        "id": "RUjQ4LxLig-B"
      },
      "source": [
        "### 問題： loc 跟 iloc 有什麼不同？"
      ]
    },
    {
      "cell_type": "code",
      "execution_count": null,
      "metadata": {
        "id": "SRIn7cC4ig-B"
      },
      "outputs": [],
      "source": [
        "person['身高']"
      ]
    },
    {
      "cell_type": "code",
      "execution_count": null,
      "metadata": {
        "id": "vxCBv5YIig-B"
      },
      "outputs": [],
      "source": [
        "person.身高"
      ]
    },
    {
      "cell_type": "code",
      "execution_count": null,
      "metadata": {
        "id": "LzqU_Znvig-B"
      },
      "outputs": [],
      "source": [
        "# 練習題\n",
        "# 請算出每個人的 BMI 指數\n",
        "person.體重 / ((person.身高/100)**2)"
      ]
    },
    {
      "cell_type": "code",
      "execution_count": null,
      "metadata": {
        "id": "y_nEY1Tdig-B"
      },
      "outputs": [],
      "source": [
        "# 練習題\n",
        "# 猜猜如何將算出來的 BMI 變成新欄位併入原始資料表中"
      ]
    },
    {
      "cell_type": "markdown",
      "metadata": {
        "id": "iO13fMtzig-B"
      },
      "source": [
        "# 查詢"
      ]
    },
    {
      "cell_type": "code",
      "execution_count": null,
      "metadata": {
        "id": "bj2B8tgbig-C"
      },
      "outputs": [],
      "source": [
        "iris[iris.SepalLengthCm > 5]"
      ]
    },
    {
      "cell_type": "code",
      "execution_count": null,
      "metadata": {
        "id": "Aucl00vhig-C"
      },
      "outputs": [],
      "source": [
        "iris.SepalLengthCm > 5"
      ]
    },
    {
      "cell_type": "code",
      "execution_count": null,
      "metadata": {
        "id": "bQanuS9zig-C"
      },
      "outputs": [],
      "source": [
        "iris['Species'][iris.SepalLengthCm > 5]"
      ]
    },
    {
      "cell_type": "code",
      "execution_count": null,
      "metadata": {
        "id": "GGZfgXG9ig-C"
      },
      "outputs": [],
      "source": [
        "iris[iris.SepalLengthCm > 5]['Species']"
      ]
    },
    {
      "cell_type": "code",
      "execution_count": null,
      "metadata": {
        "id": "8pCOjkGSig-C"
      },
      "outputs": [],
      "source": [
        "# 練習題\n",
        "# 請使用前面練習的個人資料，查詢並列出 BMI > 24的人"
      ]
    },
    {
      "cell_type": "markdown",
      "metadata": {
        "id": "JhSCYB7aig-C"
      },
      "source": [
        "#### 兩個欄位結合成一個資料表時，缺失的資料會以NaN來表示"
      ]
    },
    {
      "cell_type": "code",
      "execution_count": null,
      "metadata": {
        "id": "IlQuzZyPig-C"
      },
      "outputs": [],
      "source": [
        "area = pd.Series({'Alaska': 1723337, 'Texas': 695662,\n",
        "                  'California': 423967}, name='area')\n",
        "population = pd.Series({'California': 38332521, 'Texas': 26448193,\n",
        "                        'New York': 19651127}, name='population')\n",
        "states = pd.DataFrame({'population': population,\n",
        "                       'area': area})\n",
        "states"
      ]
    },
    {
      "cell_type": "markdown",
      "metadata": {
        "id": "tutG49lrig-C"
      },
      "source": [
        "# 其他功能"
      ]
    },
    {
      "cell_type": "code",
      "execution_count": null,
      "metadata": {
        "id": "ag_7IH1Kig-C",
        "outputId": "905fcbc9-44f2-4350-bd37-4fc20b068d43"
      },
      "outputs": [
        {
          "data": {
            "text/html": [
              "<div>\n",
              "<style scoped>\n",
              "    .dataframe tbody tr th:only-of-type {\n",
              "        vertical-align: middle;\n",
              "    }\n",
              "\n",
              "    .dataframe tbody tr th {\n",
              "        vertical-align: top;\n",
              "    }\n",
              "\n",
              "    .dataframe thead th {\n",
              "        text-align: right;\n",
              "    }\n",
              "</style>\n",
              "<table border=\"1\" class=\"dataframe\">\n",
              "  <thead>\n",
              "    <tr style=\"text-align: right;\">\n",
              "      <th></th>\n",
              "      <th>員工編號(EmployeeNumber)</th>\n",
              "      <th>性別(Gender)</th>\n",
              "      <th>年齡(Age)</th>\n",
              "      <th>是否為成年人(Over18)</th>\n",
              "      <th>婚姻狀態(MaritalStatus)</th>\n",
              "      <th>通勤距離(DistanceFromHome)</th>\n",
              "      <th>教育程度(Education)</th>\n",
              "      <th>教育專業領域(EducationField)</th>\n",
              "      <th>部門(Department)</th>\n",
              "      <th>職位名稱(JobRole)</th>\n",
              "      <th>...</th>\n",
              "      <th>股票選擇權等級(StockOptionLevel)</th>\n",
              "      <th>績效評估(PerformanceRating)</th>\n",
              "      <th>出差頻率(BusinessTravel)</th>\n",
              "      <th>去年訓練時間(TrainingTimesLastYear)</th>\n",
              "      <th>工作滿意度(JobSatisfaction)</th>\n",
              "      <th>工作環境滿意度(EnvironmentSatisfaction)</th>\n",
              "      <th>工作投入(JobInvolvement)</th>\n",
              "      <th>工作生活平衡(WorkLifeBalance)</th>\n",
              "      <th>人際關係滿意度(RelationshipSatisfaction)</th>\n",
              "      <th>離職(Attrition)</th>\n",
              "    </tr>\n",
              "  </thead>\n",
              "  <tbody>\n",
              "    <tr>\n",
              "      <th>0</th>\n",
              "      <td>1</td>\n",
              "      <td>Female</td>\n",
              "      <td>41</td>\n",
              "      <td>Y</td>\n",
              "      <td>Single</td>\n",
              "      <td>1</td>\n",
              "      <td>2</td>\n",
              "      <td>Life Sciences</td>\n",
              "      <td>Sales</td>\n",
              "      <td>Sales Executive</td>\n",
              "      <td>...</td>\n",
              "      <td>0</td>\n",
              "      <td>3</td>\n",
              "      <td>Travel_Rarely</td>\n",
              "      <td>0</td>\n",
              "      <td>4</td>\n",
              "      <td>2</td>\n",
              "      <td>3</td>\n",
              "      <td>1</td>\n",
              "      <td>1</td>\n",
              "      <td>Yes</td>\n",
              "    </tr>\n",
              "    <tr>\n",
              "      <th>1</th>\n",
              "      <td>2</td>\n",
              "      <td>Male</td>\n",
              "      <td>49</td>\n",
              "      <td>Y</td>\n",
              "      <td>Married</td>\n",
              "      <td>8</td>\n",
              "      <td>1</td>\n",
              "      <td>Life Sciences</td>\n",
              "      <td>Research &amp; Development</td>\n",
              "      <td>Research Scientist</td>\n",
              "      <td>...</td>\n",
              "      <td>1</td>\n",
              "      <td>4</td>\n",
              "      <td>Travel_Frequently</td>\n",
              "      <td>3</td>\n",
              "      <td>2</td>\n",
              "      <td>3</td>\n",
              "      <td>2</td>\n",
              "      <td>3</td>\n",
              "      <td>4</td>\n",
              "      <td>No</td>\n",
              "    </tr>\n",
              "    <tr>\n",
              "      <th>2</th>\n",
              "      <td>4</td>\n",
              "      <td>Male</td>\n",
              "      <td>37</td>\n",
              "      <td>Y</td>\n",
              "      <td>Single</td>\n",
              "      <td>2</td>\n",
              "      <td>2</td>\n",
              "      <td>Other</td>\n",
              "      <td>Research &amp; Development</td>\n",
              "      <td>Laboratory Technician</td>\n",
              "      <td>...</td>\n",
              "      <td>0</td>\n",
              "      <td>3</td>\n",
              "      <td>Travel_Rarely</td>\n",
              "      <td>3</td>\n",
              "      <td>3</td>\n",
              "      <td>4</td>\n",
              "      <td>2</td>\n",
              "      <td>3</td>\n",
              "      <td>2</td>\n",
              "      <td>Yes</td>\n",
              "    </tr>\n",
              "    <tr>\n",
              "      <th>3</th>\n",
              "      <td>5</td>\n",
              "      <td>Female</td>\n",
              "      <td>33</td>\n",
              "      <td>Y</td>\n",
              "      <td>Married</td>\n",
              "      <td>3</td>\n",
              "      <td>4</td>\n",
              "      <td>Life Sciences</td>\n",
              "      <td>Research &amp; Development</td>\n",
              "      <td>Research Scientist</td>\n",
              "      <td>...</td>\n",
              "      <td>0</td>\n",
              "      <td>3</td>\n",
              "      <td>Travel_Frequently</td>\n",
              "      <td>3</td>\n",
              "      <td>3</td>\n",
              "      <td>4</td>\n",
              "      <td>3</td>\n",
              "      <td>3</td>\n",
              "      <td>3</td>\n",
              "      <td>No</td>\n",
              "    </tr>\n",
              "    <tr>\n",
              "      <th>4</th>\n",
              "      <td>7</td>\n",
              "      <td>Male</td>\n",
              "      <td>27</td>\n",
              "      <td>Y</td>\n",
              "      <td>Married</td>\n",
              "      <td>2</td>\n",
              "      <td>1</td>\n",
              "      <td>Medical</td>\n",
              "      <td>Research &amp; Development</td>\n",
              "      <td>Laboratory Technician</td>\n",
              "      <td>...</td>\n",
              "      <td>1</td>\n",
              "      <td>3</td>\n",
              "      <td>Travel_Rarely</td>\n",
              "      <td>3</td>\n",
              "      <td>2</td>\n",
              "      <td>1</td>\n",
              "      <td>3</td>\n",
              "      <td>3</td>\n",
              "      <td>4</td>\n",
              "      <td>No</td>\n",
              "    </tr>\n",
              "  </tbody>\n",
              "</table>\n",
              "<p>5 rows × 34 columns</p>\n",
              "</div>"
            ],
            "text/plain": [
              "   員工編號(EmployeeNumber) 性別(Gender)  年齡(Age) 是否為成年人(Over18)  \\\n",
              "0                     1     Female       41              Y   \n",
              "1                     2       Male       49              Y   \n",
              "2                     4       Male       37              Y   \n",
              "3                     5     Female       33              Y   \n",
              "4                     7       Male       27              Y   \n",
              "\n",
              "  婚姻狀態(MaritalStatus)  通勤距離(DistanceFromHome)  教育程度(Education)  \\\n",
              "0              Single                       1                2   \n",
              "1             Married                       8                1   \n",
              "2              Single                       2                2   \n",
              "3             Married                       3                4   \n",
              "4             Married                       2                1   \n",
              "\n",
              "  教育專業領域(EducationField)          部門(Department)          職位名稱(JobRole)  ...  \\\n",
              "0          Life Sciences                   Sales        Sales Executive  ...   \n",
              "1          Life Sciences  Research & Development     Research Scientist  ...   \n",
              "2                  Other  Research & Development  Laboratory Technician  ...   \n",
              "3          Life Sciences  Research & Development     Research Scientist  ...   \n",
              "4                Medical  Research & Development  Laboratory Technician  ...   \n",
              "\n",
              "   股票選擇權等級(StockOptionLevel)  績效評估(PerformanceRating)  出差頻率(BusinessTravel)  \\\n",
              "0                          0                        3         Travel_Rarely   \n",
              "1                          1                        4     Travel_Frequently   \n",
              "2                          0                        3         Travel_Rarely   \n",
              "3                          0                        3     Travel_Frequently   \n",
              "4                          1                        3         Travel_Rarely   \n",
              "\n",
              "   去年訓練時間(TrainingTimesLastYear)  工作滿意度(JobSatisfaction)  \\\n",
              "0                              0                       4   \n",
              "1                              3                       2   \n",
              "2                              3                       3   \n",
              "3                              3                       3   \n",
              "4                              3                       2   \n",
              "\n",
              "   工作環境滿意度(EnvironmentSatisfaction)  工作投入(JobInvolvement)  \\\n",
              "0                                 2                     3   \n",
              "1                                 3                     2   \n",
              "2                                 4                     2   \n",
              "3                                 4                     3   \n",
              "4                                 1                     3   \n",
              "\n",
              "   工作生活平衡(WorkLifeBalance)  人際關係滿意度(RelationshipSatisfaction)  離職(Attrition)  \n",
              "0                        1                                  1            Yes  \n",
              "1                        3                                  4             No  \n",
              "2                        3                                  2            Yes  \n",
              "3                        3                                  3             No  \n",
              "4                        3                                  4             No  \n",
              "\n",
              "[5 rows x 34 columns]"
            ]
          },
          "execution_count": 3,
          "metadata": {},
          "output_type": "execute_result"
        }
      ],
      "source": [
        "data = pd.read_excel('../data/R公司_人員資料.xlsx',engine='openpyxl')\n",
        "data.head()"
      ]
    },
    {
      "cell_type": "markdown",
      "metadata": {
        "id": "AMdsOAr9ig-D"
      },
      "source": [
        "### 排序"
      ]
    },
    {
      "cell_type": "code",
      "execution_count": null,
      "metadata": {
        "id": "fY7XNJu_ig-D"
      },
      "outputs": [],
      "source": [
        "# 針對年齡欄位排序\n",
        "data.sort_values(by='年齡(Age)', ascending=False)"
      ]
    },
    {
      "cell_type": "markdown",
      "metadata": {
        "id": "7QYkUy2iig-D"
      },
      "source": [
        "### 取值"
      ]
    },
    {
      "cell_type": "code",
      "execution_count": null,
      "metadata": {
        "id": "SwCtu3cYig-D",
        "outputId": "469e00c9-61b2-4bf2-f60e-6be63a60129f"
      },
      "outputs": [
        {
          "data": {
            "text/plain": [
              "array(['Sales', 'Research & Development', 'Human Resources'], dtype=object)"
            ]
          },
          "execution_count": 4,
          "metadata": {},
          "output_type": "execute_result"
        }
      ],
      "source": [
        "# 找出部門欄位裡有多少個不同的值？\n",
        "data['部門(Department)'].unique()"
      ]
    },
    {
      "cell_type": "markdown",
      "metadata": {
        "id": "teOchT4Mig-E"
      },
      "source": [
        "### 統計"
      ]
    },
    {
      "cell_type": "code",
      "execution_count": null,
      "metadata": {
        "id": "Jvk4Y4C5ig-E",
        "outputId": "76ed1511-888d-4377-ba82-ea7a07277139"
      },
      "outputs": [
        {
          "data": {
            "text/html": [
              "<div>\n",
              "<style scoped>\n",
              "    .dataframe tbody tr th:only-of-type {\n",
              "        vertical-align: middle;\n",
              "    }\n",
              "\n",
              "    .dataframe tbody tr th {\n",
              "        vertical-align: top;\n",
              "    }\n",
              "\n",
              "    .dataframe thead th {\n",
              "        text-align: right;\n",
              "    }\n",
              "</style>\n",
              "<table border=\"1\" class=\"dataframe\">\n",
              "  <thead>\n",
              "    <tr style=\"text-align: right;\">\n",
              "      <th></th>\n",
              "      <th>員工編號(EmployeeNumber)</th>\n",
              "      <th>年齡(Age)</th>\n",
              "      <th>通勤距離(DistanceFromHome)</th>\n",
              "      <th>教育程度(Education)</th>\n",
              "      <th>職位等級(JobLevel)</th>\n",
              "      <th>在該公司工作總年資(YearsAtCompany)</th>\n",
              "      <th>在該職位工作年資(YearsInCurrentRole)</th>\n",
              "      <th>在該職等工作年資(YearsSinceLastPromotion)</th>\n",
              "      <th>與現任管理者工作年資(YearsWithCurrManager)</th>\n",
              "      <th>總工作年資(TotalWorkingYears)</th>\n",
              "      <th>...</th>\n",
              "      <th>標準工作時間(StandardHours)</th>\n",
              "      <th>調薪百分比(PercentSalaryHike)</th>\n",
              "      <th>股票選擇權等級(StockOptionLevel)</th>\n",
              "      <th>績效評估(PerformanceRating)</th>\n",
              "      <th>去年訓練時間(TrainingTimesLastYear)</th>\n",
              "      <th>工作滿意度(JobSatisfaction)</th>\n",
              "      <th>工作環境滿意度(EnvironmentSatisfaction)</th>\n",
              "      <th>工作投入(JobInvolvement)</th>\n",
              "      <th>工作生活平衡(WorkLifeBalance)</th>\n",
              "      <th>人際關係滿意度(RelationshipSatisfaction)</th>\n",
              "    </tr>\n",
              "  </thead>\n",
              "  <tbody>\n",
              "    <tr>\n",
              "      <th>count</th>\n",
              "      <td>1470.000000</td>\n",
              "      <td>1470.000000</td>\n",
              "      <td>1470.000000</td>\n",
              "      <td>1470.000000</td>\n",
              "      <td>1470.000000</td>\n",
              "      <td>1470.000000</td>\n",
              "      <td>1470.000000</td>\n",
              "      <td>1470.000000</td>\n",
              "      <td>1470.000000</td>\n",
              "      <td>1470.000000</td>\n",
              "      <td>...</td>\n",
              "      <td>1470.0</td>\n",
              "      <td>1470.000000</td>\n",
              "      <td>1470.000000</td>\n",
              "      <td>1470.000000</td>\n",
              "      <td>1470.000000</td>\n",
              "      <td>1470.000000</td>\n",
              "      <td>1470.000000</td>\n",
              "      <td>1470.000000</td>\n",
              "      <td>1470.000000</td>\n",
              "      <td>1470.000000</td>\n",
              "    </tr>\n",
              "    <tr>\n",
              "      <th>mean</th>\n",
              "      <td>1024.865306</td>\n",
              "      <td>36.923810</td>\n",
              "      <td>9.192517</td>\n",
              "      <td>2.912925</td>\n",
              "      <td>2.063946</td>\n",
              "      <td>7.008163</td>\n",
              "      <td>4.229252</td>\n",
              "      <td>2.187755</td>\n",
              "      <td>4.123129</td>\n",
              "      <td>11.279592</td>\n",
              "      <td>...</td>\n",
              "      <td>80.0</td>\n",
              "      <td>15.209524</td>\n",
              "      <td>0.793878</td>\n",
              "      <td>3.153741</td>\n",
              "      <td>2.799320</td>\n",
              "      <td>2.728571</td>\n",
              "      <td>2.721769</td>\n",
              "      <td>2.729932</td>\n",
              "      <td>2.761224</td>\n",
              "      <td>2.712245</td>\n",
              "    </tr>\n",
              "    <tr>\n",
              "      <th>std</th>\n",
              "      <td>602.024335</td>\n",
              "      <td>9.135373</td>\n",
              "      <td>8.106864</td>\n",
              "      <td>1.024165</td>\n",
              "      <td>1.106940</td>\n",
              "      <td>6.126525</td>\n",
              "      <td>3.623137</td>\n",
              "      <td>3.222430</td>\n",
              "      <td>3.568136</td>\n",
              "      <td>7.780782</td>\n",
              "      <td>...</td>\n",
              "      <td>0.0</td>\n",
              "      <td>3.659938</td>\n",
              "      <td>0.852077</td>\n",
              "      <td>0.360824</td>\n",
              "      <td>1.289271</td>\n",
              "      <td>1.102846</td>\n",
              "      <td>1.093082</td>\n",
              "      <td>0.711561</td>\n",
              "      <td>0.706476</td>\n",
              "      <td>1.081209</td>\n",
              "    </tr>\n",
              "    <tr>\n",
              "      <th>min</th>\n",
              "      <td>1.000000</td>\n",
              "      <td>18.000000</td>\n",
              "      <td>1.000000</td>\n",
              "      <td>1.000000</td>\n",
              "      <td>1.000000</td>\n",
              "      <td>0.000000</td>\n",
              "      <td>0.000000</td>\n",
              "      <td>0.000000</td>\n",
              "      <td>0.000000</td>\n",
              "      <td>0.000000</td>\n",
              "      <td>...</td>\n",
              "      <td>80.0</td>\n",
              "      <td>11.000000</td>\n",
              "      <td>0.000000</td>\n",
              "      <td>3.000000</td>\n",
              "      <td>0.000000</td>\n",
              "      <td>1.000000</td>\n",
              "      <td>1.000000</td>\n",
              "      <td>1.000000</td>\n",
              "      <td>1.000000</td>\n",
              "      <td>1.000000</td>\n",
              "    </tr>\n",
              "    <tr>\n",
              "      <th>25%</th>\n",
              "      <td>491.250000</td>\n",
              "      <td>30.000000</td>\n",
              "      <td>2.000000</td>\n",
              "      <td>2.000000</td>\n",
              "      <td>1.000000</td>\n",
              "      <td>3.000000</td>\n",
              "      <td>2.000000</td>\n",
              "      <td>0.000000</td>\n",
              "      <td>2.000000</td>\n",
              "      <td>6.000000</td>\n",
              "      <td>...</td>\n",
              "      <td>80.0</td>\n",
              "      <td>12.000000</td>\n",
              "      <td>0.000000</td>\n",
              "      <td>3.000000</td>\n",
              "      <td>2.000000</td>\n",
              "      <td>2.000000</td>\n",
              "      <td>2.000000</td>\n",
              "      <td>2.000000</td>\n",
              "      <td>2.000000</td>\n",
              "      <td>2.000000</td>\n",
              "    </tr>\n",
              "    <tr>\n",
              "      <th>50%</th>\n",
              "      <td>1020.500000</td>\n",
              "      <td>36.000000</td>\n",
              "      <td>7.000000</td>\n",
              "      <td>3.000000</td>\n",
              "      <td>2.000000</td>\n",
              "      <td>5.000000</td>\n",
              "      <td>3.000000</td>\n",
              "      <td>1.000000</td>\n",
              "      <td>3.000000</td>\n",
              "      <td>10.000000</td>\n",
              "      <td>...</td>\n",
              "      <td>80.0</td>\n",
              "      <td>14.000000</td>\n",
              "      <td>1.000000</td>\n",
              "      <td>3.000000</td>\n",
              "      <td>3.000000</td>\n",
              "      <td>3.000000</td>\n",
              "      <td>3.000000</td>\n",
              "      <td>3.000000</td>\n",
              "      <td>3.000000</td>\n",
              "      <td>3.000000</td>\n",
              "    </tr>\n",
              "    <tr>\n",
              "      <th>75%</th>\n",
              "      <td>1555.750000</td>\n",
              "      <td>43.000000</td>\n",
              "      <td>14.000000</td>\n",
              "      <td>4.000000</td>\n",
              "      <td>3.000000</td>\n",
              "      <td>9.000000</td>\n",
              "      <td>7.000000</td>\n",
              "      <td>3.000000</td>\n",
              "      <td>7.000000</td>\n",
              "      <td>15.000000</td>\n",
              "      <td>...</td>\n",
              "      <td>80.0</td>\n",
              "      <td>18.000000</td>\n",
              "      <td>1.000000</td>\n",
              "      <td>3.000000</td>\n",
              "      <td>3.000000</td>\n",
              "      <td>4.000000</td>\n",
              "      <td>4.000000</td>\n",
              "      <td>3.000000</td>\n",
              "      <td>3.000000</td>\n",
              "      <td>4.000000</td>\n",
              "    </tr>\n",
              "    <tr>\n",
              "      <th>max</th>\n",
              "      <td>2068.000000</td>\n",
              "      <td>60.000000</td>\n",
              "      <td>29.000000</td>\n",
              "      <td>5.000000</td>\n",
              "      <td>5.000000</td>\n",
              "      <td>40.000000</td>\n",
              "      <td>18.000000</td>\n",
              "      <td>15.000000</td>\n",
              "      <td>17.000000</td>\n",
              "      <td>40.000000</td>\n",
              "      <td>...</td>\n",
              "      <td>80.0</td>\n",
              "      <td>25.000000</td>\n",
              "      <td>3.000000</td>\n",
              "      <td>4.000000</td>\n",
              "      <td>6.000000</td>\n",
              "      <td>4.000000</td>\n",
              "      <td>4.000000</td>\n",
              "      <td>4.000000</td>\n",
              "      <td>4.000000</td>\n",
              "      <td>4.000000</td>\n",
              "    </tr>\n",
              "  </tbody>\n",
              "</table>\n",
              "<p>8 rows × 25 columns</p>\n",
              "</div>"
            ],
            "text/plain": [
              "       員工編號(EmployeeNumber)      年齡(Age)  通勤距離(DistanceFromHome)  \\\n",
              "count           1470.000000  1470.000000             1470.000000   \n",
              "mean            1024.865306    36.923810                9.192517   \n",
              "std              602.024335     9.135373                8.106864   \n",
              "min                1.000000    18.000000                1.000000   \n",
              "25%              491.250000    30.000000                2.000000   \n",
              "50%             1020.500000    36.000000                7.000000   \n",
              "75%             1555.750000    43.000000               14.000000   \n",
              "max             2068.000000    60.000000               29.000000   \n",
              "\n",
              "       教育程度(Education)  職位等級(JobLevel)  在該公司工作總年資(YearsAtCompany)  \\\n",
              "count      1470.000000     1470.000000                1470.000000   \n",
              "mean          2.912925        2.063946                   7.008163   \n",
              "std           1.024165        1.106940                   6.126525   \n",
              "min           1.000000        1.000000                   0.000000   \n",
              "25%           2.000000        1.000000                   3.000000   \n",
              "50%           3.000000        2.000000                   5.000000   \n",
              "75%           4.000000        3.000000                   9.000000   \n",
              "max           5.000000        5.000000                  40.000000   \n",
              "\n",
              "       在該職位工作年資(YearsInCurrentRole)  在該職等工作年資(YearsSinceLastPromotion)  \\\n",
              "count                   1470.000000                        1470.000000   \n",
              "mean                       4.229252                           2.187755   \n",
              "std                        3.623137                           3.222430   \n",
              "min                        0.000000                           0.000000   \n",
              "25%                        2.000000                           0.000000   \n",
              "50%                        3.000000                           1.000000   \n",
              "75%                        7.000000                           3.000000   \n",
              "max                       18.000000                          15.000000   \n",
              "\n",
              "       與現任管理者工作年資(YearsWithCurrManager)  總工作年資(TotalWorkingYears)  ...  \\\n",
              "count                       1470.000000               1470.000000  ...   \n",
              "mean                           4.123129                 11.279592  ...   \n",
              "std                            3.568136                  7.780782  ...   \n",
              "min                            0.000000                  0.000000  ...   \n",
              "25%                            2.000000                  6.000000  ...   \n",
              "50%                            3.000000                 10.000000  ...   \n",
              "75%                            7.000000                 15.000000  ...   \n",
              "max                           17.000000                 40.000000  ...   \n",
              "\n",
              "       標準工作時間(StandardHours)  調薪百分比(PercentSalaryHike)  \\\n",
              "count                 1470.0               1470.000000   \n",
              "mean                    80.0                 15.209524   \n",
              "std                      0.0                  3.659938   \n",
              "min                     80.0                 11.000000   \n",
              "25%                     80.0                 12.000000   \n",
              "50%                     80.0                 14.000000   \n",
              "75%                     80.0                 18.000000   \n",
              "max                     80.0                 25.000000   \n",
              "\n",
              "       股票選擇權等級(StockOptionLevel)  績效評估(PerformanceRating)  \\\n",
              "count                1470.000000              1470.000000   \n",
              "mean                    0.793878                 3.153741   \n",
              "std                     0.852077                 0.360824   \n",
              "min                     0.000000                 3.000000   \n",
              "25%                     0.000000                 3.000000   \n",
              "50%                     1.000000                 3.000000   \n",
              "75%                     1.000000                 3.000000   \n",
              "max                     3.000000                 4.000000   \n",
              "\n",
              "       去年訓練時間(TrainingTimesLastYear)  工作滿意度(JobSatisfaction)  \\\n",
              "count                    1470.000000             1470.000000   \n",
              "mean                        2.799320                2.728571   \n",
              "std                         1.289271                1.102846   \n",
              "min                         0.000000                1.000000   \n",
              "25%                         2.000000                2.000000   \n",
              "50%                         3.000000                3.000000   \n",
              "75%                         3.000000                4.000000   \n",
              "max                         6.000000                4.000000   \n",
              "\n",
              "       工作環境滿意度(EnvironmentSatisfaction)  工作投入(JobInvolvement)  \\\n",
              "count                       1470.000000           1470.000000   \n",
              "mean                           2.721769              2.729932   \n",
              "std                            1.093082              0.711561   \n",
              "min                            1.000000              1.000000   \n",
              "25%                            2.000000              2.000000   \n",
              "50%                            3.000000              3.000000   \n",
              "75%                            4.000000              3.000000   \n",
              "max                            4.000000              4.000000   \n",
              "\n",
              "       工作生活平衡(WorkLifeBalance)  人際關係滿意度(RelationshipSatisfaction)  \n",
              "count              1470.000000                        1470.000000  \n",
              "mean                  2.761224                           2.712245  \n",
              "std                   0.706476                           1.081209  \n",
              "min                   1.000000                           1.000000  \n",
              "25%                   2.000000                           2.000000  \n",
              "50%                   3.000000                           3.000000  \n",
              "75%                   3.000000                           4.000000  \n",
              "max                   4.000000                           4.000000  \n",
              "\n",
              "[8 rows x 25 columns]"
            ]
          },
          "execution_count": 6,
          "metadata": {},
          "output_type": "execute_result"
        }
      ],
      "source": [
        "#列出所有數值欄位的基本統計數據\n",
        "data.describe()"
      ]
    },
    {
      "cell_type": "code",
      "execution_count": null,
      "metadata": {
        "id": "dHPXUnjkig-E",
        "outputId": "3ef7cee1-38d8-49c3-fa1e-7ad36e7c54ed"
      },
      "outputs": [
        {
          "data": {
            "text/html": [
              "<div>\n",
              "<style scoped>\n",
              "    .dataframe tbody tr th:only-of-type {\n",
              "        vertical-align: middle;\n",
              "    }\n",
              "\n",
              "    .dataframe tbody tr th {\n",
              "        vertical-align: top;\n",
              "    }\n",
              "\n",
              "    .dataframe thead th {\n",
              "        text-align: right;\n",
              "    }\n",
              "</style>\n",
              "<table border=\"1\" class=\"dataframe\">\n",
              "  <thead>\n",
              "    <tr style=\"text-align: right;\">\n",
              "      <th></th>\n",
              "      <th>員工編號(EmployeeNumber)</th>\n",
              "      <th>性別(Gender)</th>\n",
              "      <th>年齡(Age)</th>\n",
              "      <th>是否為成年人(Over18)</th>\n",
              "      <th>婚姻狀態(MaritalStatus)</th>\n",
              "      <th>通勤距離(DistanceFromHome)</th>\n",
              "      <th>教育程度(Education)</th>\n",
              "      <th>教育專業領域(EducationField)</th>\n",
              "      <th>部門(Department)</th>\n",
              "      <th>職位名稱(JobRole)</th>\n",
              "      <th>...</th>\n",
              "      <th>股票選擇權等級(StockOptionLevel)</th>\n",
              "      <th>績效評估(PerformanceRating)</th>\n",
              "      <th>出差頻率(BusinessTravel)</th>\n",
              "      <th>去年訓練時間(TrainingTimesLastYear)</th>\n",
              "      <th>工作滿意度(JobSatisfaction)</th>\n",
              "      <th>工作環境滿意度(EnvironmentSatisfaction)</th>\n",
              "      <th>工作投入(JobInvolvement)</th>\n",
              "      <th>工作生活平衡(WorkLifeBalance)</th>\n",
              "      <th>人際關係滿意度(RelationshipSatisfaction)</th>\n",
              "      <th>離職(Attrition)</th>\n",
              "    </tr>\n",
              "  </thead>\n",
              "  <tbody>\n",
              "    <tr>\n",
              "      <th>count</th>\n",
              "      <td>1470.000000</td>\n",
              "      <td>1470</td>\n",
              "      <td>1470.000000</td>\n",
              "      <td>1470</td>\n",
              "      <td>1470</td>\n",
              "      <td>1470.000000</td>\n",
              "      <td>1470.000000</td>\n",
              "      <td>1470</td>\n",
              "      <td>1470</td>\n",
              "      <td>1470</td>\n",
              "      <td>...</td>\n",
              "      <td>1470.000000</td>\n",
              "      <td>1470.000000</td>\n",
              "      <td>1470</td>\n",
              "      <td>1470.000000</td>\n",
              "      <td>1470.000000</td>\n",
              "      <td>1470.000000</td>\n",
              "      <td>1470.000000</td>\n",
              "      <td>1470.000000</td>\n",
              "      <td>1470.000000</td>\n",
              "      <td>1470</td>\n",
              "    </tr>\n",
              "    <tr>\n",
              "      <th>unique</th>\n",
              "      <td>NaN</td>\n",
              "      <td>2</td>\n",
              "      <td>NaN</td>\n",
              "      <td>1</td>\n",
              "      <td>3</td>\n",
              "      <td>NaN</td>\n",
              "      <td>NaN</td>\n",
              "      <td>6</td>\n",
              "      <td>3</td>\n",
              "      <td>9</td>\n",
              "      <td>...</td>\n",
              "      <td>NaN</td>\n",
              "      <td>NaN</td>\n",
              "      <td>3</td>\n",
              "      <td>NaN</td>\n",
              "      <td>NaN</td>\n",
              "      <td>NaN</td>\n",
              "      <td>NaN</td>\n",
              "      <td>NaN</td>\n",
              "      <td>NaN</td>\n",
              "      <td>2</td>\n",
              "    </tr>\n",
              "    <tr>\n",
              "      <th>top</th>\n",
              "      <td>NaN</td>\n",
              "      <td>Male</td>\n",
              "      <td>NaN</td>\n",
              "      <td>Y</td>\n",
              "      <td>Married</td>\n",
              "      <td>NaN</td>\n",
              "      <td>NaN</td>\n",
              "      <td>Life Sciences</td>\n",
              "      <td>Research &amp; Development</td>\n",
              "      <td>Sales Executive</td>\n",
              "      <td>...</td>\n",
              "      <td>NaN</td>\n",
              "      <td>NaN</td>\n",
              "      <td>Travel_Rarely</td>\n",
              "      <td>NaN</td>\n",
              "      <td>NaN</td>\n",
              "      <td>NaN</td>\n",
              "      <td>NaN</td>\n",
              "      <td>NaN</td>\n",
              "      <td>NaN</td>\n",
              "      <td>No</td>\n",
              "    </tr>\n",
              "    <tr>\n",
              "      <th>freq</th>\n",
              "      <td>NaN</td>\n",
              "      <td>882</td>\n",
              "      <td>NaN</td>\n",
              "      <td>1470</td>\n",
              "      <td>673</td>\n",
              "      <td>NaN</td>\n",
              "      <td>NaN</td>\n",
              "      <td>606</td>\n",
              "      <td>961</td>\n",
              "      <td>326</td>\n",
              "      <td>...</td>\n",
              "      <td>NaN</td>\n",
              "      <td>NaN</td>\n",
              "      <td>1043</td>\n",
              "      <td>NaN</td>\n",
              "      <td>NaN</td>\n",
              "      <td>NaN</td>\n",
              "      <td>NaN</td>\n",
              "      <td>NaN</td>\n",
              "      <td>NaN</td>\n",
              "      <td>1233</td>\n",
              "    </tr>\n",
              "    <tr>\n",
              "      <th>mean</th>\n",
              "      <td>1024.865306</td>\n",
              "      <td>NaN</td>\n",
              "      <td>36.923810</td>\n",
              "      <td>NaN</td>\n",
              "      <td>NaN</td>\n",
              "      <td>9.192517</td>\n",
              "      <td>2.912925</td>\n",
              "      <td>NaN</td>\n",
              "      <td>NaN</td>\n",
              "      <td>NaN</td>\n",
              "      <td>...</td>\n",
              "      <td>0.793878</td>\n",
              "      <td>3.153741</td>\n",
              "      <td>NaN</td>\n",
              "      <td>2.799320</td>\n",
              "      <td>2.728571</td>\n",
              "      <td>2.721769</td>\n",
              "      <td>2.729932</td>\n",
              "      <td>2.761224</td>\n",
              "      <td>2.712245</td>\n",
              "      <td>NaN</td>\n",
              "    </tr>\n",
              "    <tr>\n",
              "      <th>std</th>\n",
              "      <td>602.024335</td>\n",
              "      <td>NaN</td>\n",
              "      <td>9.135373</td>\n",
              "      <td>NaN</td>\n",
              "      <td>NaN</td>\n",
              "      <td>8.106864</td>\n",
              "      <td>1.024165</td>\n",
              "      <td>NaN</td>\n",
              "      <td>NaN</td>\n",
              "      <td>NaN</td>\n",
              "      <td>...</td>\n",
              "      <td>0.852077</td>\n",
              "      <td>0.360824</td>\n",
              "      <td>NaN</td>\n",
              "      <td>1.289271</td>\n",
              "      <td>1.102846</td>\n",
              "      <td>1.093082</td>\n",
              "      <td>0.711561</td>\n",
              "      <td>0.706476</td>\n",
              "      <td>1.081209</td>\n",
              "      <td>NaN</td>\n",
              "    </tr>\n",
              "    <tr>\n",
              "      <th>min</th>\n",
              "      <td>1.000000</td>\n",
              "      <td>NaN</td>\n",
              "      <td>18.000000</td>\n",
              "      <td>NaN</td>\n",
              "      <td>NaN</td>\n",
              "      <td>1.000000</td>\n",
              "      <td>1.000000</td>\n",
              "      <td>NaN</td>\n",
              "      <td>NaN</td>\n",
              "      <td>NaN</td>\n",
              "      <td>...</td>\n",
              "      <td>0.000000</td>\n",
              "      <td>3.000000</td>\n",
              "      <td>NaN</td>\n",
              "      <td>0.000000</td>\n",
              "      <td>1.000000</td>\n",
              "      <td>1.000000</td>\n",
              "      <td>1.000000</td>\n",
              "      <td>1.000000</td>\n",
              "      <td>1.000000</td>\n",
              "      <td>NaN</td>\n",
              "    </tr>\n",
              "    <tr>\n",
              "      <th>25%</th>\n",
              "      <td>491.250000</td>\n",
              "      <td>NaN</td>\n",
              "      <td>30.000000</td>\n",
              "      <td>NaN</td>\n",
              "      <td>NaN</td>\n",
              "      <td>2.000000</td>\n",
              "      <td>2.000000</td>\n",
              "      <td>NaN</td>\n",
              "      <td>NaN</td>\n",
              "      <td>NaN</td>\n",
              "      <td>...</td>\n",
              "      <td>0.000000</td>\n",
              "      <td>3.000000</td>\n",
              "      <td>NaN</td>\n",
              "      <td>2.000000</td>\n",
              "      <td>2.000000</td>\n",
              "      <td>2.000000</td>\n",
              "      <td>2.000000</td>\n",
              "      <td>2.000000</td>\n",
              "      <td>2.000000</td>\n",
              "      <td>NaN</td>\n",
              "    </tr>\n",
              "    <tr>\n",
              "      <th>50%</th>\n",
              "      <td>1020.500000</td>\n",
              "      <td>NaN</td>\n",
              "      <td>36.000000</td>\n",
              "      <td>NaN</td>\n",
              "      <td>NaN</td>\n",
              "      <td>7.000000</td>\n",
              "      <td>3.000000</td>\n",
              "      <td>NaN</td>\n",
              "      <td>NaN</td>\n",
              "      <td>NaN</td>\n",
              "      <td>...</td>\n",
              "      <td>1.000000</td>\n",
              "      <td>3.000000</td>\n",
              "      <td>NaN</td>\n",
              "      <td>3.000000</td>\n",
              "      <td>3.000000</td>\n",
              "      <td>3.000000</td>\n",
              "      <td>3.000000</td>\n",
              "      <td>3.000000</td>\n",
              "      <td>3.000000</td>\n",
              "      <td>NaN</td>\n",
              "    </tr>\n",
              "    <tr>\n",
              "      <th>75%</th>\n",
              "      <td>1555.750000</td>\n",
              "      <td>NaN</td>\n",
              "      <td>43.000000</td>\n",
              "      <td>NaN</td>\n",
              "      <td>NaN</td>\n",
              "      <td>14.000000</td>\n",
              "      <td>4.000000</td>\n",
              "      <td>NaN</td>\n",
              "      <td>NaN</td>\n",
              "      <td>NaN</td>\n",
              "      <td>...</td>\n",
              "      <td>1.000000</td>\n",
              "      <td>3.000000</td>\n",
              "      <td>NaN</td>\n",
              "      <td>3.000000</td>\n",
              "      <td>4.000000</td>\n",
              "      <td>4.000000</td>\n",
              "      <td>3.000000</td>\n",
              "      <td>3.000000</td>\n",
              "      <td>4.000000</td>\n",
              "      <td>NaN</td>\n",
              "    </tr>\n",
              "    <tr>\n",
              "      <th>max</th>\n",
              "      <td>2068.000000</td>\n",
              "      <td>NaN</td>\n",
              "      <td>60.000000</td>\n",
              "      <td>NaN</td>\n",
              "      <td>NaN</td>\n",
              "      <td>29.000000</td>\n",
              "      <td>5.000000</td>\n",
              "      <td>NaN</td>\n",
              "      <td>NaN</td>\n",
              "      <td>NaN</td>\n",
              "      <td>...</td>\n",
              "      <td>3.000000</td>\n",
              "      <td>4.000000</td>\n",
              "      <td>NaN</td>\n",
              "      <td>6.000000</td>\n",
              "      <td>4.000000</td>\n",
              "      <td>4.000000</td>\n",
              "      <td>4.000000</td>\n",
              "      <td>4.000000</td>\n",
              "      <td>4.000000</td>\n",
              "      <td>NaN</td>\n",
              "    </tr>\n",
              "  </tbody>\n",
              "</table>\n",
              "<p>11 rows × 34 columns</p>\n",
              "</div>"
            ],
            "text/plain": [
              "        員工編號(EmployeeNumber) 性別(Gender)      年齡(Age) 是否為成年人(Over18)  \\\n",
              "count            1470.000000       1470  1470.000000           1470   \n",
              "unique                   NaN          2          NaN              1   \n",
              "top                      NaN       Male          NaN              Y   \n",
              "freq                     NaN        882          NaN           1470   \n",
              "mean             1024.865306        NaN    36.923810            NaN   \n",
              "std               602.024335        NaN     9.135373            NaN   \n",
              "min                 1.000000        NaN    18.000000            NaN   \n",
              "25%               491.250000        NaN    30.000000            NaN   \n",
              "50%              1020.500000        NaN    36.000000            NaN   \n",
              "75%              1555.750000        NaN    43.000000            NaN   \n",
              "max              2068.000000        NaN    60.000000            NaN   \n",
              "\n",
              "       婚姻狀態(MaritalStatus)  通勤距離(DistanceFromHome)  教育程度(Education)  \\\n",
              "count                 1470             1470.000000      1470.000000   \n",
              "unique                   3                     NaN              NaN   \n",
              "top                Married                     NaN              NaN   \n",
              "freq                   673                     NaN              NaN   \n",
              "mean                   NaN                9.192517         2.912925   \n",
              "std                    NaN                8.106864         1.024165   \n",
              "min                    NaN                1.000000         1.000000   \n",
              "25%                    NaN                2.000000         2.000000   \n",
              "50%                    NaN                7.000000         3.000000   \n",
              "75%                    NaN               14.000000         4.000000   \n",
              "max                    NaN               29.000000         5.000000   \n",
              "\n",
              "       教育專業領域(EducationField)          部門(Department)    職位名稱(JobRole)  ...  \\\n",
              "count                    1470                    1470             1470  ...   \n",
              "unique                      6                       3                9  ...   \n",
              "top             Life Sciences  Research & Development  Sales Executive  ...   \n",
              "freq                      606                     961              326  ...   \n",
              "mean                      NaN                     NaN              NaN  ...   \n",
              "std                       NaN                     NaN              NaN  ...   \n",
              "min                       NaN                     NaN              NaN  ...   \n",
              "25%                       NaN                     NaN              NaN  ...   \n",
              "50%                       NaN                     NaN              NaN  ...   \n",
              "75%                       NaN                     NaN              NaN  ...   \n",
              "max                       NaN                     NaN              NaN  ...   \n",
              "\n",
              "        股票選擇權等級(StockOptionLevel)  績效評估(PerformanceRating)  \\\n",
              "count                 1470.000000              1470.000000   \n",
              "unique                        NaN                      NaN   \n",
              "top                           NaN                      NaN   \n",
              "freq                          NaN                      NaN   \n",
              "mean                     0.793878                 3.153741   \n",
              "std                      0.852077                 0.360824   \n",
              "min                      0.000000                 3.000000   \n",
              "25%                      0.000000                 3.000000   \n",
              "50%                      1.000000                 3.000000   \n",
              "75%                      1.000000                 3.000000   \n",
              "max                      3.000000                 4.000000   \n",
              "\n",
              "        出差頻率(BusinessTravel)  去年訓練時間(TrainingTimesLastYear)  \\\n",
              "count                   1470                    1470.000000   \n",
              "unique                     3                            NaN   \n",
              "top            Travel_Rarely                            NaN   \n",
              "freq                    1043                            NaN   \n",
              "mean                     NaN                       2.799320   \n",
              "std                      NaN                       1.289271   \n",
              "min                      NaN                       0.000000   \n",
              "25%                      NaN                       2.000000   \n",
              "50%                      NaN                       3.000000   \n",
              "75%                      NaN                       3.000000   \n",
              "max                      NaN                       6.000000   \n",
              "\n",
              "        工作滿意度(JobSatisfaction)  工作環境滿意度(EnvironmentSatisfaction)  \\\n",
              "count              1470.000000                       1470.000000   \n",
              "unique                     NaN                               NaN   \n",
              "top                        NaN                               NaN   \n",
              "freq                       NaN                               NaN   \n",
              "mean                  2.728571                          2.721769   \n",
              "std                   1.102846                          1.093082   \n",
              "min                   1.000000                          1.000000   \n",
              "25%                   2.000000                          2.000000   \n",
              "50%                   3.000000                          3.000000   \n",
              "75%                   4.000000                          4.000000   \n",
              "max                   4.000000                          4.000000   \n",
              "\n",
              "        工作投入(JobInvolvement)  工作生活平衡(WorkLifeBalance)  \\\n",
              "count            1470.000000              1470.000000   \n",
              "unique                   NaN                      NaN   \n",
              "top                      NaN                      NaN   \n",
              "freq                     NaN                      NaN   \n",
              "mean                2.729932                 2.761224   \n",
              "std                 0.711561                 0.706476   \n",
              "min                 1.000000                 1.000000   \n",
              "25%                 2.000000                 2.000000   \n",
              "50%                 3.000000                 3.000000   \n",
              "75%                 3.000000                 3.000000   \n",
              "max                 4.000000                 4.000000   \n",
              "\n",
              "        人際關係滿意度(RelationshipSatisfaction)  離職(Attrition)  \n",
              "count                         1470.000000           1470  \n",
              "unique                                NaN              2  \n",
              "top                                   NaN             No  \n",
              "freq                                  NaN           1233  \n",
              "mean                             2.712245            NaN  \n",
              "std                              1.081209            NaN  \n",
              "min                              1.000000            NaN  \n",
              "25%                              2.000000            NaN  \n",
              "50%                              3.000000            NaN  \n",
              "75%                              4.000000            NaN  \n",
              "max                              4.000000            NaN  \n",
              "\n",
              "[11 rows x 34 columns]"
            ]
          },
          "execution_count": 18,
          "metadata": {},
          "output_type": "execute_result"
        }
      ],
      "source": [
        "#列出所有欄位的基本統計數據\n",
        "data.describe(include='all')"
      ]
    },
    {
      "cell_type": "code",
      "execution_count": null,
      "metadata": {
        "id": "0Fx_uT2cig-E",
        "outputId": "88fcd933-e38c-4fec-d360-b8b8d5860b02"
      },
      "outputs": [
        {
          "data": {
            "text/plain": [
              "np.float64(9.135373489136732)"
            ]
          },
          "execution_count": 10,
          "metadata": {},
          "output_type": "execute_result"
        }
      ],
      "source": [
        "#取得年齡的標準差\n",
        "data['年齡(Age)'].std()"
      ]
    },
    {
      "cell_type": "code",
      "execution_count": null,
      "metadata": {
        "id": "Y7MAs7aSig-E",
        "outputId": "b21c849a-3752-4220-cf36-7d258a2f9af3"
      },
      "outputs": [
        {
          "data": {
            "text/plain": [
              "np.float64(0.6803805357911985)"
            ]
          },
          "execution_count": 13,
          "metadata": {},
          "output_type": "execute_result"
        }
      ],
      "source": [
        "#計算年資與年齡的相關性\n",
        "data['年齡(Age)'].corr(data['總工作年資(TotalWorkingYears)'])"
      ]
    },
    {
      "cell_type": "code",
      "execution_count": null,
      "metadata": {
        "id": "pjkaP1WWig-E",
        "outputId": "773c5991-a776-4e5b-ea46-acf80a88cdee"
      },
      "outputs": [
        {
          "data": {
            "text/plain": [
              "False"
            ]
          },
          "execution_count": 14,
          "metadata": {},
          "output_type": "execute_result"
        }
      ],
      "source": [
        "#檢查是否有空值\n",
        "data['年齡(Age)'].hasnans"
      ]
    },
    {
      "cell_type": "code",
      "execution_count": null,
      "metadata": {
        "id": "aQUCj-AAig-F",
        "outputId": "1aeae39b-84e5-4cef-9169-9240f7d8d519"
      },
      "outputs": [
        {
          "data": {
            "text/plain": [
              "員工編號(EmployeeNumber)                 0\n",
              "性別(Gender)                           0\n",
              "年齡(Age)                              0\n",
              "是否為成年人(Over18)                       0\n",
              "婚姻狀態(MaritalStatus)                  0\n",
              "通勤距離(DistanceFromHome)               0\n",
              "教育程度(Education)                      0\n",
              "教育專業領域(EducationField)               0\n",
              "部門(Department)                       0\n",
              "職位名稱(JobRole)                        0\n",
              "職位等級(JobLevel)                       0\n",
              "在該公司工作總年資(YearsAtCompany)            0\n",
              "在該職位工作年資(YearsInCurrentRole)         0\n",
              "在該職等工作年資(YearsSinceLastPromotion)    0\n",
              "與現任管理者工作年資(YearsWithCurrManager)     0\n",
              "總工作年資(TotalWorkingYears)             0\n",
              "過去工作公司家數(NumCompaniesWorked)         0\n",
              "每日工資額(DailyRate)                     0\n",
              "每小時工資額(HourlyRate)                   0\n",
              "月收入(MonthlyIncome)                   0\n",
              "月費率(MonthlyRate)                     0\n",
              "標準工作時間(StandardHours)                0\n",
              "加班(OverTime)                         0\n",
              "調薪百分比(PercentSalaryHike)             0\n",
              "股票選擇權等級(StockOptionLevel)            0\n",
              "績效評估(PerformanceRating)              0\n",
              "出差頻率(BusinessTravel)                 0\n",
              "去年訓練時間(TrainingTimesLastYear)        0\n",
              "工作滿意度(JobSatisfaction)               0\n",
              "工作環境滿意度(EnvironmentSatisfaction)     0\n",
              "工作投入(JobInvolvement)                 0\n",
              "工作生活平衡(WorkLifeBalance)              0\n",
              "人際關係滿意度(RelationshipSatisfaction)    0\n",
              "離職(Attrition)                        0\n",
              "dtype: int64"
            ]
          },
          "execution_count": 19,
          "metadata": {},
          "output_type": "execute_result"
        }
      ],
      "source": [
        "#列出全部欄位的缺失值數量\n",
        "data.isnull().sum()"
      ]
    },
    {
      "cell_type": "code",
      "execution_count": null,
      "metadata": {
        "id": "2xJfhjFbig-F",
        "outputId": "2fda61c4-98e0-47c6-d41b-126818cf73de"
      },
      "outputs": [
        {
          "name": "stdout",
          "output_type": "stream",
          "text": [
            "<class 'pandas.core.frame.DataFrame'>\n",
            "RangeIndex: 1470 entries, 0 to 1469\n",
            "Data columns (total 34 columns):\n",
            " #   Column                             Non-Null Count  Dtype \n",
            "---  ------                             --------------  ----- \n",
            " 0   員工編號(EmployeeNumber)               1470 non-null   int64 \n",
            " 1   性別(Gender)                         1470 non-null   object\n",
            " 2   年齡(Age)                            1470 non-null   int64 \n",
            " 3   是否為成年人(Over18)                     1470 non-null   object\n",
            " 4   婚姻狀態(MaritalStatus)                1470 non-null   object\n",
            " 5   通勤距離(DistanceFromHome)             1470 non-null   int64 \n",
            " 6   教育程度(Education)                    1470 non-null   int64 \n",
            " 7   教育專業領域(EducationField)             1470 non-null   object\n",
            " 8   部門(Department)                     1470 non-null   object\n",
            " 9   職位名稱(JobRole)                      1470 non-null   object\n",
            " 10  職位等級(JobLevel)                     1470 non-null   int64 \n",
            " 11  在該公司工作總年資(YearsAtCompany)          1470 non-null   int64 \n",
            " 12  在該職位工作年資(YearsInCurrentRole)       1470 non-null   int64 \n",
            " 13  在該職等工作年資(YearsSinceLastPromotion)  1470 non-null   int64 \n",
            " 14  與現任管理者工作年資(YearsWithCurrManager)   1470 non-null   int64 \n",
            " 15  總工作年資(TotalWorkingYears)           1470 non-null   int64 \n",
            " 16  過去工作公司家數(NumCompaniesWorked)       1470 non-null   int64 \n",
            " 17  每日工資額(DailyRate)                   1470 non-null   int64 \n",
            " 18  每小時工資額(HourlyRate)                 1470 non-null   int64 \n",
            " 19  月收入(MonthlyIncome)                 1470 non-null   int64 \n",
            " 20  月費率(MonthlyRate)                   1470 non-null   int64 \n",
            " 21  標準工作時間(StandardHours)              1470 non-null   int64 \n",
            " 22  加班(OverTime)                       1470 non-null   object\n",
            " 23  調薪百分比(PercentSalaryHike)           1470 non-null   int64 \n",
            " 24  股票選擇權等級(StockOptionLevel)          1470 non-null   int64 \n",
            " 25  績效評估(PerformanceRating)            1470 non-null   int64 \n",
            " 26  出差頻率(BusinessTravel)               1470 non-null   object\n",
            " 27  去年訓練時間(TrainingTimesLastYear)      1470 non-null   int64 \n",
            " 28  工作滿意度(JobSatisfaction)             1470 non-null   int64 \n",
            " 29  工作環境滿意度(EnvironmentSatisfaction)   1470 non-null   int64 \n",
            " 30  工作投入(JobInvolvement)               1470 non-null   int64 \n",
            " 31  工作生活平衡(WorkLifeBalance)            1470 non-null   int64 \n",
            " 32  人際關係滿意度(RelationshipSatisfaction)  1470 non-null   int64 \n",
            " 33  離職(Attrition)                      1470 non-null   object\n",
            "dtypes: int64(25), object(9)\n",
            "memory usage: 390.6+ KB\n"
          ]
        }
      ],
      "source": [
        "# 檢查資料欄位的型態，以及缺失狀況\n",
        "data.info()"
      ]
    },
    {
      "cell_type": "code",
      "execution_count": null,
      "metadata": {
        "id": "WDNGtvV6ig-F",
        "outputId": "9601935a-2826-45fd-d7ac-bf5c88e066b2"
      },
      "outputs": [
        {
          "data": {
            "text/plain": [
              "(1470, 34)"
            ]
          },
          "execution_count": 21,
          "metadata": {},
          "output_type": "execute_result"
        }
      ],
      "source": [
        "#查看資料筆數跟欄位數目\n",
        "data.shape"
      ]
    },
    {
      "cell_type": "code",
      "execution_count": null,
      "metadata": {
        "id": "WcdjP7CGig-F",
        "outputId": "ac157cf0-c455-443e-f28d-c5cd3874d49d"
      },
      "outputs": [
        {
          "data": {
            "text/plain": [
              "部門(Department)\n",
              "Research & Development    961\n",
              "Sales                     446\n",
              "Human Resources            63\n",
              "Name: count, dtype: int64"
            ]
          },
          "execution_count": 22,
          "metadata": {},
          "output_type": "execute_result"
        }
      ],
      "source": [
        "#計算欄位值總數\n",
        "data['部門(Department)'].value_counts()"
      ]
    },
    {
      "cell_type": "code",
      "execution_count": null,
      "metadata": {
        "id": "J5ySYZQfig-F"
      },
      "outputs": [],
      "source": []
    },
    {
      "cell_type": "code",
      "execution_count": null,
      "metadata": {
        "id": "P4220--5ig-F"
      },
      "outputs": [],
      "source": []
    }
  ],
  "metadata": {
    "kernelspec": {
      "display_name": "Python 3 (ipykernel)",
      "language": "python",
      "name": "python3"
    },
    "language_info": {
      "codemirror_mode": {
        "name": "ipython",
        "version": 3
      },
      "file_extension": ".py",
      "mimetype": "text/x-python",
      "name": "python",
      "nbconvert_exporter": "python",
      "pygments_lexer": "ipython3",
      "version": "3.12.3"
    },
    "varInspector": {
      "cols": {
        "lenName": 16,
        "lenType": 16,
        "lenVar": 40
      },
      "kernels_config": {
        "python": {
          "delete_cmd_postfix": "",
          "delete_cmd_prefix": "del ",
          "library": "var_list.py",
          "varRefreshCmd": "print(var_dic_list())"
        },
        "r": {
          "delete_cmd_postfix": ") ",
          "delete_cmd_prefix": "rm(",
          "library": "var_list.r",
          "varRefreshCmd": "cat(var_dic_list()) "
        }
      },
      "types_to_exclude": [
        "module",
        "function",
        "builtin_function_or_method",
        "instance",
        "_Feature"
      ],
      "window_display": false
    },
    "colab": {
      "provenance": [],
      "include_colab_link": true
    }
  },
  "nbformat": 4,
  "nbformat_minor": 0
}