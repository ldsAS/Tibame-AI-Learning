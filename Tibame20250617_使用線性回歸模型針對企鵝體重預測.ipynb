{
  "nbformat": 4,
  "nbformat_minor": 0,
  "metadata": {
    "colab": {
      "provenance": [],
      "authorship_tag": "ABX9TyOECT9BcXLf62fSpwxFkAbE",
      "include_colab_link": true
    },
    "kernelspec": {
      "name": "python3",
      "display_name": "Python 3"
    },
    "language_info": {
      "name": "python"
    }
  },
  "cells": [
    {
      "cell_type": "markdown",
      "metadata": {
        "id": "view-in-github",
        "colab_type": "text"
      },
      "source": [
        "<a href=\"https://colab.research.google.com/github/ldsAS/Tibame-AI-Learning/blob/main/Tibame20250617_%E4%BD%BF%E7%94%A8%E7%B7%9A%E6%80%A7%E5%9B%9E%E6%AD%B8%E6%A8%A1%E5%9E%8B%E9%87%9D%E5%B0%8D%E4%BC%81%E9%B5%9D%E9%AB%94%E9%87%8D%E9%A0%90%E6%B8%AC.ipynb\" target=\"_parent\"><img src=\"https://colab.research.google.com/assets/colab-badge.svg\" alt=\"Open In Colab\"/></a>"
      ]
    },
    {
      "cell_type": "code",
      "source": [
        "import os\n",
        "from google.cloud import bigquery\n",
        "\n",
        "# 設置 Google Cloud 認證 # 此為示範，實際上應放在環境變數裡面(要隱藏起來)\n",
        "os.environ['GOOGLE_APPLICATION_CREDENTIALS']=r\"/content/tibame-gad251-31-0613-c339499c7e0e.json\"\n",
        "\n",
        "\n",
        "# 初始化 BigQuery 客戶端\n",
        "client = bigquery.Client()\n",
        "print('connection done')\n"
      ],
      "metadata": {
        "colab": {
          "base_uri": "https://localhost:8080/"
        },
        "id": "Xr5BSczjpxo_",
        "outputId": "5fc0941e-dbff-45e1-a41b-4a43e8fe2c6e"
      },
      "execution_count": 4,
      "outputs": [
        {
          "output_type": "stream",
          "name": "stdout",
          "text": [
            "connection done\n"
          ]
        }
      ]
    },
    {
      "cell_type": "code",
      "source": [
        "us_dataset_id = 'tibame_gad251_31_dataset_us' #定義us資料集\n",
        "eu_dataset_id = 'tibame_gad251_31_dataset_eu' #定義eu資料集"
      ],
      "metadata": {
        "id": "KYaP8d_TnYhC"
      },
      "execution_count": 1,
      "outputs": []
    },
    {
      "cell_type": "code",
      "source": [
        "# 定義 SQL 查詢以創建模型\n",
        "query = f\"\"\"\n",
        "CREATE OR REPLACE MODEL `{us_dataset_id}.penguins_model`\n",
        "OPTIONS\n",
        "  (model_type='linear_reg',\n",
        "  input_label_cols=['body_mass_g']) AS\n",
        "SELECT\n",
        "  *\n",
        "FROM\n",
        "  `bigquery-public-data.ml_datasets.penguins`\n",
        "WHERE\n",
        "  body_mass_g IS NOT NULL;\n",
        "\"\"\"\n",
        "\n",
        "# 執行 SQL 查詢以創建模型\n",
        "query_job = client.query(query)\n",
        "query_job.result()  # 等待查詢完成\n",
        "\n",
        "print(\"線性回歸 model import BigQuery ML\")\n"
      ],
      "metadata": {
        "colab": {
          "base_uri": "https://localhost:8080/"
        },
        "id": "7Aw74bRLo8Nt",
        "outputId": "c08ed0da-e613-44bd-9b94-d7ca6c129087"
      },
      "execution_count": 6,
      "outputs": [
        {
          "output_type": "stream",
          "name": "stdout",
          "text": [
            "線性回師 model import BigQuery ML\n"
          ]
        }
      ]
    },
    {
      "cell_type": "code",
      "source": [
        "# 定義 SQL 查詢以使用模型進行評估\n",
        "query = f\"\"\"\n",
        "SELECT\n",
        "  *\n",
        "FROM\n",
        "  ML.EVALUATE(MODEL `{us_dataset_id}.penguins_model`,\n",
        "    (\n",
        "    SELECT\n",
        "      *\n",
        "    FROM\n",
        "      `bigquery-public-data.ml_datasets.penguins`\n",
        "    WHERE\n",
        "      body_mass_g IS NOT NULL));\n",
        "\n",
        "\"\"\"\n",
        "\n",
        "# 執行 SQL 查詢以進行評估\n",
        "query_job = client.query(query)\n",
        "results = query_job.result()  # 等待查詢完成\n",
        "\n",
        "# 印出預測結果\n",
        "for row in results:\n",
        "    print(row)\n"
      ],
      "metadata": {
        "colab": {
          "base_uri": "https://localhost:8080/"
        },
        "id": "sWiFSwMDr9Wj",
        "outputId": "d7a020ad-90a5-45d8-ee50-038efa5b6b34"
      },
      "execution_count": 10,
      "outputs": [
        {
          "output_type": "stream",
          "name": "stdout",
          "text": [
            "Row((227.01223667447184, 81838.15989216758, 0.005070447373501302, 173.08081641661738, 0.8723772534253442, 0.8723772534253442), {'mean_absolute_error': 0, 'mean_squared_error': 1, 'mean_squared_log_error': 2, 'median_absolute_error': 3, 'r2_score': 4, 'explained_variance': 5})\n"
          ]
        }
      ]
    },
    {
      "cell_type": "code",
      "source": [
        "# 取得 BigQuery 回傳的欄位名稱\n",
        "field_names = results.schema\n",
        "\n",
        "# 印出評估結果\n",
        "for name in field_names:\n",
        "    for field, value in zip(field_names, row):\n",
        "        print(f\"{field.name}: {value}\")"
      ],
      "metadata": {
        "colab": {
          "base_uri": "https://localhost:8080/"
        },
        "id": "rtybmWSOs5k7",
        "outputId": "39bd77b0-c385-4350-8380-2b4ad4e842d1"
      },
      "execution_count": 11,
      "outputs": [
        {
          "output_type": "stream",
          "name": "stdout",
          "text": [
            "mean_absolute_error: 227.01223667447184\n",
            "mean_squared_error: 81838.15989216758\n",
            "mean_squared_log_error: 0.005070447373501302\n",
            "median_absolute_error: 173.08081641661738\n",
            "r2_score: 0.8723772534253442\n",
            "explained_variance: 0.8723772534253442\n",
            "mean_absolute_error: 227.01223667447184\n",
            "mean_squared_error: 81838.15989216758\n",
            "mean_squared_log_error: 0.005070447373501302\n",
            "median_absolute_error: 173.08081641661738\n",
            "r2_score: 0.8723772534253442\n",
            "explained_variance: 0.8723772534253442\n",
            "mean_absolute_error: 227.01223667447184\n",
            "mean_squared_error: 81838.15989216758\n",
            "mean_squared_log_error: 0.005070447373501302\n",
            "median_absolute_error: 173.08081641661738\n",
            "r2_score: 0.8723772534253442\n",
            "explained_variance: 0.8723772534253442\n",
            "mean_absolute_error: 227.01223667447184\n",
            "mean_squared_error: 81838.15989216758\n",
            "mean_squared_log_error: 0.005070447373501302\n",
            "median_absolute_error: 173.08081641661738\n",
            "r2_score: 0.8723772534253442\n",
            "explained_variance: 0.8723772534253442\n",
            "mean_absolute_error: 227.01223667447184\n",
            "mean_squared_error: 81838.15989216758\n",
            "mean_squared_log_error: 0.005070447373501302\n",
            "median_absolute_error: 173.08081641661738\n",
            "r2_score: 0.8723772534253442\n",
            "explained_variance: 0.8723772534253442\n",
            "mean_absolute_error: 227.01223667447184\n",
            "mean_squared_error: 81838.15989216758\n",
            "mean_squared_log_error: 0.005070447373501302\n",
            "median_absolute_error: 173.08081641661738\n",
            "r2_score: 0.8723772534253442\n",
            "explained_variance: 0.8723772534253442\n"
          ]
        }
      ]
    },
    {
      "cell_type": "code",
      "source": [
        "# 定義 SQL 查詢以使用模型進行預測\n",
        "query = f\"\"\"\n",
        "SELECT\n",
        "  *\n",
        "FROM\n",
        "  ML.PREDICT(MODEL `{us_dataset_id}.penguins_model`,\n",
        "    (\n",
        "    SELECT\n",
        "      *\n",
        "    FROM\n",
        "      `bigquery-public-data.ml_datasets.penguins`\n",
        "    WHERE island = 'Biscoe'));\n",
        "\n",
        "\"\"\"\n",
        "\n",
        "# 執行 SQL 查詢以進行預測\n",
        "query_job = client.query(query)\n",
        "results = query_job.result()  # 等待查詢完成"
      ],
      "metadata": {
        "collapsed": true,
        "id": "oMfyqYtavYBG"
      },
      "execution_count": 14,
      "outputs": []
    },
    {
      "cell_type": "code",
      "source": [
        "# 將每筆 row 解成 tuple (row.values() 是一整筆，row[i] 是值)\n",
        "rows_data = [tuple(row.values()) for row in results]\n",
        "\n",
        "# 取得欄位名稱\n",
        "columns = [field.name for field in results.schema]\n",
        "\n",
        "# 建立 DataFrame\n",
        "import pandas as pd\n",
        "df = pd.DataFrame(rows_data, columns=columns)\n",
        "\n",
        "# 顯示前幾筆資料\n",
        "print(df.head())"
      ],
      "metadata": {
        "colab": {
          "base_uri": "https://localhost:8080/"
        },
        "id": "H_j1UAjDtdDg",
        "outputId": "54e74898-daa0-4d71-9d63-4f4efe1edaea"
      },
      "execution_count": 15,
      "outputs": [
        {
          "output_type": "stream",
          "name": "stdout",
          "text": [
            "   predicted_body_mass_g                              species  island  \\\n",
            "0            4681.782896    Gentoo penguin (Pygoscelis papua)  Biscoe   \n",
            "1            3875.224470  Adelie Penguin (Pygoscelis adeliae)  Biscoe   \n",
            "2            3303.096891  Adelie Penguin (Pygoscelis adeliae)  Biscoe   \n",
            "3            3976.529009  Adelie Penguin (Pygoscelis adeliae)  Biscoe   \n",
            "4            3457.923587  Adelie Penguin (Pygoscelis adeliae)  Biscoe   \n",
            "\n",
            "   culmen_length_mm  culmen_depth_mm  flipper_length_mm  body_mass_g     sex  \n",
            "0               NaN              NaN                NaN          NaN    None  \n",
            "1              39.7             18.9              184.0       3550.0    MALE  \n",
            "2              36.4             17.1              184.0       2850.0  FEMALE  \n",
            "3              41.6             18.0              192.0       3950.0    MALE  \n",
            "4              35.0             17.9              192.0       3725.0  FEMALE  \n"
          ]
        }
      ]
    }
  ]
}