{
  "cells": [
    {
      "cell_type": "markdown",
      "metadata": {
        "id": "view-in-github",
        "colab_type": "text"
      },
      "source": [
        "<a href=\"https://colab.research.google.com/github/ldsAS/Tibame-AI-Learning/blob/main/Tibame20250618_LAB_%E9%90%B5%E9%81%94%E5%B0%BC%E8%99%9F_Gradio%E4%BB%8B%E9%9D%A2%E7%89%88.ipynb\" target=\"_parent\"><img src=\"https://colab.research.google.com/assets/colab-badge.svg\" alt=\"Open In Colab\"/></a>"
      ]
    },
    {
      "cell_type": "code",
      "execution_count": 1,
      "id": "9f0d740d-cb43-40cf-832b-5ce225e68fed",
      "metadata": {
        "id": "9f0d740d-cb43-40cf-832b-5ce225e68fed"
      },
      "outputs": [],
      "source": [
        "import pandas as pd\n",
        "import numpy as np\n",
        "import pickle\n",
        "from sklearn.preprocessing import StandardScaler\n",
        "from sklearn.preprocessing import MinMaxScaler\n",
        "class AutoPreprocess:\n",
        "    def __init__(self):\n",
        "        self.scaler = {}\n",
        "        self.fillna_value = {}\n",
        "        self.onehotencode_value = {}\n",
        "        self.field_names = []\n",
        "        self.final_field_names = []\n",
        "\n",
        "    def fit(self, data, field_names):\n",
        "        self.__init__()\n",
        "        self.field_names = field_names\n",
        "\n",
        "        for fname in field_names:\n",
        "            #自動補空值\n",
        "            if (data[fname].dtype == object) or (data[fname].dtype == str): #字串型態欄位\n",
        "                self.fillna_value[fname] = data[fname].mode()[0] #補眾數\n",
        "                # self.fillna_value[fname] = 'np.nan'\n",
        "                # self.fillna_value[fname] = np.nan # 維持空值\n",
        "            elif data[fname].dtype == bool: #布林型態\n",
        "                self.fillna_value[fname] = data[fname].mode()[0] #補眾數\n",
        "            else: # 數字型態\n",
        "                self.fillna_value[fname] = data[fname].median()  #補中位數\n",
        "\n",
        "            #自動尺度轉換(scaling)\n",
        "            if (data[fname].dtype == object) or (data[fname].dtype == str): #字串型態欄位\n",
        "                pass #不用轉換\n",
        "            elif data[fname].dtype == bool: #布林型態\n",
        "                pass #不用轉換\n",
        "            else: # 數字型態\n",
        "                vc = data[fname].value_counts()\n",
        "                if data[fname].isin([0, 1]).all(): #當數值只有0跟1\n",
        "                    pass #不用轉換\n",
        "                elif pd.api.types.is_integer_dtype(data[fname]) and data[fname].nunique() <= 10: #是否簡單的整數型類別且數量小於10\n",
        "                    self.scaler[fname] = MinMaxScaler()\n",
        "                    self.scaler[fname].fit(data[[fname]])\n",
        "                else: #其他的數字型態\n",
        "                    self.scaler[fname] = StandardScaler()\n",
        "                    self.scaler[fname].fit(data[[fname]])\n",
        "\n",
        "\n",
        "            #自動編碼\n",
        "            if (data[fname].dtype == object) or (data[fname].dtype == str): #字串型態欄位, onehotencode\n",
        "                field_value = data[fname].value_counts().index\n",
        "                self.onehotencode_value[fname] = field_value\n",
        "                for value in field_value:\n",
        "                    fn = fname+\"_\"+value\n",
        "                    # data[fn] = (data[fname] == value).astype('int8')\n",
        "                    self.final_field_names.append(fn)\n",
        "            elif data[fname].dtype == bool: #布林型態 轉成0跟1\n",
        "                # data[fname] = data[fname].astype(int)\n",
        "                self.final_field_names.append(fname)\n",
        "            else: # 數字型態 不用重新編碼\n",
        "                self.final_field_names.append(fname)\n",
        "\n",
        "        return\n",
        "\n",
        "    def transform(self, data):\n",
        "        #如果輸入的data是dict，要先轉成dataframe\n",
        "        if isinstance(data, dict):\n",
        "            for fname in self.field_names:\n",
        "                if fname in data:\n",
        "                    data[fname] = [data[fname]]\n",
        "                else:\n",
        "                    data[fname] = [np.nan]\n",
        "            data = pd.DataFrame(data)\n",
        "        else: #將資料複製一份，不修改原本的資料\n",
        "            data = data.copy()\n",
        "\n",
        "        for fname in self.field_names:\n",
        "            #自動補空值\n",
        "            if data[fname].isnull().any(): #有空值\n",
        "                # if fname in self.fillna_value:\n",
        "                    data[fname] = data[fname].fillna(self.fillna_value[fname])\n",
        "\n",
        "\n",
        "            #自動尺度轉換(scaling)\n",
        "            if fname in self.scaler:\n",
        "                data[fname] = self.scaler[fname].transform(data[[fname]])\n",
        "\n",
        "            #自動編碼\n",
        "            if (data[fname].dtype == object) or (data[fname].dtype == str): #字串型態欄位, onehotencode\n",
        "                if fname in self.onehotencode_value:\n",
        "                    field_value = self.onehotencode_value[fname]\n",
        "                for value in field_value:\n",
        "                    fn = fname+\"_\"+value\n",
        "                    data[fn] = (data[fname] == value).astype('int8')\n",
        "            elif data[fname].dtype == bool: #布林型態 轉成0跟1\n",
        "                data[fname] = data[fname].astype(int)\n",
        "            else: # 數字型態 不用重新編碼\n",
        "                pass\n",
        "        return data[self.final_field_names]\n",
        "\n",
        "    def save(self, file_name):\n",
        "        with open(file_name, \"wb\") as f:\n",
        "            pickle.dump(self, f)\n",
        "\n",
        "    @staticmethod\n",
        "    def load(file_name):\n",
        "        with open(file_name, \"rb\") as f:\n",
        "            return pickle.load(f)"
      ]
    },
    {
      "cell_type": "code",
      "execution_count": 2,
      "id": "a509972c-aa00-4b47-bc63-b838602001f0",
      "metadata": {
        "id": "a509972c-aa00-4b47-bc63-b838602001f0"
      },
      "outputs": [],
      "source": [
        "#load model\n",
        "ap = AutoPreprocess.load(\"preprocess.bin\")\n",
        "f =  open(\"model.bin\", \"rb\")\n",
        "model =  pickle.load(f)"
      ]
    },
    {
      "cell_type": "code",
      "execution_count": 3,
      "id": "800f3b4a-07b9-4c46-adf6-ea7d1f0e499f",
      "metadata": {
        "colab": {
          "base_uri": "https://localhost:8080/",
          "height": 646
        },
        "id": "800f3b4a-07b9-4c46-adf6-ea7d1f0e499f",
        "outputId": "0e4f9b3f-56b8-4dd4-a321-31b484a4e369"
      },
      "outputs": [
        {
          "output_type": "stream",
          "name": "stdout",
          "text": [
            "It looks like you are running Gradio on a hosted a Jupyter notebook. For the Gradio app to work, sharing must be enabled. Automatically setting `share=True` (you can turn this off by setting `share=False` in `launch()` explicitly).\n",
            "\n",
            "Colab notebook detected. To show errors in colab notebook, set debug=True in launch()\n",
            "* Running on public URL: https://98f2f5f73ae65eba53.gradio.live\n",
            "\n",
            "This share link expires in 1 week. For free permanent hosting and GPU upgrades, run `gradio deploy` from the terminal in the working directory to deploy to Hugging Face Spaces (https://huggingface.co/spaces)\n"
          ]
        },
        {
          "output_type": "display_data",
          "data": {
            "text/plain": [
              "<IPython.core.display.HTML object>"
            ],
            "text/html": [
              "<div><iframe src=\"https://98f2f5f73ae65eba53.gradio.live\" width=\"100%\" height=\"500\" allow=\"autoplay; camera; microphone; clipboard-read; clipboard-write;\" frameborder=\"0\" allowfullscreen></iframe></div>"
            ]
          },
          "metadata": {}
        },
        {
          "output_type": "execute_result",
          "data": {
            "text/plain": []
          },
          "metadata": {},
          "execution_count": 3
        }
      ],
      "source": [
        "import gradio as gr\n",
        "\n",
        "def get_value(level, sex, age, p1, p2, price, port):\n",
        "    #檢查必要欄位是否有填值\n",
        "    if type(age) == str:\n",
        "        return \"請輸入[年齡]的值\"\n",
        "    if type(price) == str:\n",
        "        return \"請輸入[船票價格]的值\"\n",
        "\n",
        "    sex_value = 'female'\n",
        "    if sex == '男':\n",
        "        sex_value = 'male'\n",
        "\n",
        "    data_dcit = {\n",
        "        \"船票等級\" : int(level),\n",
        "        \"性別\" : sex_value,\n",
        "        \"年紀\" : age,\n",
        "        \"旁系親屬數目\" : int(p1),\n",
        "        \"直系親屬數目\" : int(p1),\n",
        "        \"船票價格\" : price,\n",
        "        \"出發港口\" : port,\n",
        "    }\n",
        "\n",
        "    X = ap.transform(data_dcit)\n",
        "    y_pred = model.predict_proba(X)[:,1]\n",
        "    v = y_pred*100\n",
        "    return f\"乘客的生存率為 {v}%\"\n",
        "\n",
        "with gr.Blocks() as demo:\n",
        "    gr.Markdown(\"## 乘客生存預測\\n輸入乘客的資料，預測它的生存機率\")\n",
        "\n",
        "    inputs=[\n",
        "        gr.Radio([\"1\", \"2\", \"3\"], label=\"船票等級\", value=\"1\"),\n",
        "        gr.Radio([\"男\", \"女\"], label=\"性別\", value=\"男\"),\n",
        "        gr.Number(label=\"年紀\", value=\"\"),\n",
        "        gr.Dropdown(choices=[\"0\", \"1\", \"2\", \"3\", \"4\", \"5\", \"6\", \"7\", \"8\"], label=\"旁系親屬數目\", value=\"0\"),\n",
        "        gr.Dropdown(choices=[\"0\", \"1\", \"2\", \"3\", \"4\", \"5\", \"6\"], label=\"直系親屬數目\", value=\"0\"),\n",
        "        gr.Number(label=\"船票價格\", value=\"\"),\n",
        "        gr.Radio([\"S\", \"C\", \"Q\"], label=\"出發港口\", value=\"S\"),\n",
        "    ]\n",
        "\n",
        "\n",
        "    eval_button = gr.Button(\"預估\")\n",
        "    output = gr.Textbox(label=\"乘客生存率\")\n",
        "\n",
        "    eval_button.click(fn=get_value, inputs=inputs, outputs=output)\n",
        "\n",
        "\n",
        "# 啟動 Web 應用\n",
        "demo.launch()"
      ]
    },
    {
      "cell_type": "code",
      "execution_count": null,
      "id": "e7c35642-5cbf-43f3-86f6-5961321e9280",
      "metadata": {
        "id": "e7c35642-5cbf-43f3-86f6-5961321e9280"
      },
      "outputs": [],
      "source": []
    },
    {
      "cell_type": "code",
      "execution_count": null,
      "id": "65ced00e-807e-4ac6-8156-5fc83160bb42",
      "metadata": {
        "id": "65ced00e-807e-4ac6-8156-5fc83160bb42"
      },
      "outputs": [],
      "source": []
    },
    {
      "cell_type": "code",
      "execution_count": null,
      "id": "b0f20c60-c600-42bb-bf35-11fbd95af753",
      "metadata": {
        "id": "b0f20c60-c600-42bb-bf35-11fbd95af753"
      },
      "outputs": [],
      "source": []
    },
    {
      "cell_type": "code",
      "execution_count": null,
      "id": "11d09ab4-29ff-4cfb-b0b3-565855bd4a1d",
      "metadata": {
        "id": "11d09ab4-29ff-4cfb-b0b3-565855bd4a1d"
      },
      "outputs": [],
      "source": []
    },
    {
      "cell_type": "code",
      "execution_count": null,
      "id": "05792c2b-0363-43fc-994a-3cdbad7825f2",
      "metadata": {
        "id": "05792c2b-0363-43fc-994a-3cdbad7825f2"
      },
      "outputs": [],
      "source": []
    },
    {
      "cell_type": "code",
      "execution_count": null,
      "id": "ce3960a8-b407-4b81-95a5-4ee95cb8ecfa",
      "metadata": {
        "id": "ce3960a8-b407-4b81-95a5-4ee95cb8ecfa"
      },
      "outputs": [],
      "source": []
    },
    {
      "cell_type": "code",
      "execution_count": null,
      "id": "ea3a054f-67b6-4620-a335-7077c33a8480",
      "metadata": {
        "id": "ea3a054f-67b6-4620-a335-7077c33a8480"
      },
      "outputs": [],
      "source": []
    },
    {
      "cell_type": "code",
      "execution_count": null,
      "id": "ef0ff695-cf18-4891-9fb3-f96135bc605d",
      "metadata": {
        "id": "ef0ff695-cf18-4891-9fb3-f96135bc605d"
      },
      "outputs": [],
      "source": []
    },
    {
      "cell_type": "code",
      "execution_count": null,
      "id": "a255c037-7b31-4a1e-ab4d-be27da68648c",
      "metadata": {
        "id": "a255c037-7b31-4a1e-ab4d-be27da68648c"
      },
      "outputs": [],
      "source": []
    },
    {
      "cell_type": "code",
      "execution_count": null,
      "id": "d80e49b5-ce97-4197-b004-e94117ea7173",
      "metadata": {
        "id": "d80e49b5-ce97-4197-b004-e94117ea7173"
      },
      "outputs": [],
      "source": []
    },
    {
      "cell_type": "code",
      "execution_count": null,
      "id": "c1c09d8d-d584-49cc-8b60-4339fac04e89",
      "metadata": {
        "id": "c1c09d8d-d584-49cc-8b60-4339fac04e89"
      },
      "outputs": [],
      "source": []
    }
  ],
  "metadata": {
    "kernelspec": {
      "display_name": "Python 3 (ipykernel)",
      "language": "python",
      "name": "python3"
    },
    "language_info": {
      "codemirror_mode": {
        "name": "ipython",
        "version": 3
      },
      "file_extension": ".py",
      "mimetype": "text/x-python",
      "name": "python",
      "nbconvert_exporter": "python",
      "pygments_lexer": "ipython3",
      "version": "3.12.3"
    },
    "colab": {
      "provenance": [],
      "include_colab_link": true
    }
  },
  "nbformat": 4,
  "nbformat_minor": 5
}