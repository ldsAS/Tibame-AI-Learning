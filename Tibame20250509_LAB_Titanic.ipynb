{
  "cells": [
    {
      "cell_type": "markdown",
      "metadata": {
        "id": "view-in-github",
        "colab_type": "text"
      },
      "source": [
        "<a href=\"https://colab.research.google.com/github/ldsAS/Tibame-AI-Learning/blob/main/Tibame20250509_LAB_Titanic.ipynb\" target=\"_parent\"><img src=\"https://colab.research.google.com/assets/colab-badge.svg\" alt=\"Open In Colab\"/></a>"
      ]
    },
    {
      "cell_type": "markdown",
      "id": "9bc26fdd-61ea-402c-882e-8489d3ff6ef0",
      "metadata": {
        "id": "9bc26fdd-61ea-402c-882e-8489d3ff6ef0"
      },
      "source": [
        "* 完成後請寄到EMAIL : clement.class.02@gmail.com\n",
        "* 信件主旨請設定為： 05-04.LAB_Titanic_學號_姓名  (例: \"05-04.LAB_Titanic_00_陳仁政\")\n",
        "* 附件檔名請設定為： 05-04.LAB_Titanic_學號_姓名.ipynb (例: \"05-04.LAB_Titanic_00_陳仁政.ipynb\")"
      ]
    },
    {
      "cell_type": "code",
      "execution_count": null,
      "id": "844950b9-15ab-4352-8193-505ea1b8bb07",
      "metadata": {
        "id": "844950b9-15ab-4352-8193-505ea1b8bb07"
      },
      "outputs": [],
      "source": [
        "import numpy as np\n",
        "import pandas as pd\n",
        "import matplotlib.pyplot as plt\n",
        "import matplotlib\n",
        "import seaborn as sns\n",
        "\n",
        "sns.set_style('whitegrid') #注意！set_style會蓋過matplotlib的中文字型設定，所以要先執行\n",
        "matplotlib.rcParams['font.sans-serif'] = ['Microsoft YaHei']  # 或者 'SimHei' 'JhengHei'等\n",
        "matplotlib.rcParams['axes.unicode_minus'] = False  # 顯示負號\n",
        "\n",
        "data = pd.read_csv(\"../data/Titanic.csv\")\n",
        "data.head(10)"
      ]
    },
    {
      "cell_type": "code",
      "execution_count": null,
      "id": "fc2c87b3-1b46-4444-9787-9322cbb114bc",
      "metadata": {
        "scrolled": true,
        "id": "fc2c87b3-1b46-4444-9787-9322cbb114bc"
      },
      "outputs": [],
      "source": [
        "# 用圖來找出 船票等級 跟 船票價格 的關係\n"
      ]
    },
    {
      "cell_type": "markdown",
      "id": "ec0ec0ae-6f55-4987-af66-7d9a63dcdd64",
      "metadata": {
        "id": "ec0ec0ae-6f55-4987-af66-7d9a63dcdd64"
      },
      "source": [
        "↑ 問題：上面幾種不同的圖，哪個圖比較容易看出來？"
      ]
    },
    {
      "cell_type": "code",
      "execution_count": null,
      "id": "6b9aff0f-6ce1-4587-9473-5673bc48b31b",
      "metadata": {
        "id": "6b9aff0f-6ce1-4587-9473-5673bc48b31b"
      },
      "outputs": [],
      "source": [
        "# 找出 出發港口 跟 船票等級 是否會影響 船票價格\n"
      ]
    },
    {
      "cell_type": "markdown",
      "id": "af4693c4-6f56-4168-bf6f-d0d1af65562a",
      "metadata": {
        "id": "af4693c4-6f56-4168-bf6f-d0d1af65562a"
      },
      "source": [
        "↑ 根據上面幾個圖：\n",
        "* 問題一：上面幾種不同的圖，哪個圖比較容易看出來？\n",
        "* 問題二：出發港口會影響船票價格嗎？"
      ]
    },
    {
      "cell_type": "code",
      "execution_count": null,
      "id": "6917dea8-f7a1-499a-8c34-8ca01adfdffc",
      "metadata": {
        "id": "6917dea8-f7a1-499a-8c34-8ca01adfdffc"
      },
      "outputs": [],
      "source": [
        "# 用量化的數據來顯示 船票等級 跟 船票價格 的關係\n",
        "# 請計算 \"不同船票等級的平均價格\" 以及 \"兩者之間的相關性係數\"\n"
      ]
    },
    {
      "cell_type": "code",
      "execution_count": null,
      "id": "c0d7d895-64a5-4e1b-86dc-ac2760eba9b8",
      "metadata": {
        "id": "c0d7d895-64a5-4e1b-86dc-ac2760eba9b8"
      },
      "outputs": [],
      "source": [
        "# 用量化的數據來顯示 船票等級與出發港口的組合 對 船票價格 的關係\n"
      ]
    },
    {
      "cell_type": "code",
      "execution_count": null,
      "id": "002b1adf-1660-4415-97e9-53f400f8a337",
      "metadata": {
        "id": "002b1adf-1660-4415-97e9-53f400f8a337"
      },
      "outputs": [],
      "source": [
        "# 畫出上面數據的熱圖\n"
      ]
    },
    {
      "cell_type": "code",
      "execution_count": null,
      "id": "c2f29807-f7e5-4417-bfd4-be96c2c2d0c5",
      "metadata": {
        "id": "c2f29807-f7e5-4417-bfd4-be96c2c2d0c5"
      },
      "outputs": [],
      "source": [
        "# 練習題\n",
        "# 同時用數據跟圖來顯示 性別 與 年齡 之間的關係"
      ]
    },
    {
      "cell_type": "code",
      "execution_count": null,
      "id": "0806374c-19ba-4b40-9f84-61e83b86eeb8",
      "metadata": {
        "id": "0806374c-19ba-4b40-9f84-61e83b86eeb8"
      },
      "outputs": [],
      "source": [
        "# 練習題\n",
        "# 年齡 跟 船票價格 之間有關係嗎？"
      ]
    },
    {
      "cell_type": "markdown",
      "id": "67bd4b8a-c1ec-40e4-a4d5-a1cfbde1bf6a",
      "metadata": {
        "id": "67bd4b8a-c1ec-40e4-a4d5-a1cfbde1bf6a"
      },
      "source": [
        "# 找出影響生存率的關鍵欄位"
      ]
    },
    {
      "cell_type": "markdown",
      "id": "90a400e3-0a30-4ccf-bd17-cad679a7d670",
      "metadata": {
        "id": "90a400e3-0a30-4ccf-bd17-cad679a7d670"
      },
      "source": [
        "### 船票等級"
      ]
    },
    {
      "cell_type": "code",
      "execution_count": null,
      "id": "ce32c9db-66b6-4386-acb1-0abbd016d70d",
      "metadata": {
        "id": "ce32c9db-66b6-4386-acb1-0abbd016d70d"
      },
      "outputs": [],
      "source": [
        "# 找尋船票等級跟生存之間的關係\n"
      ]
    },
    {
      "cell_type": "markdown",
      "id": "52736c16-9268-44a5-a183-436982175299",
      "metadata": {
        "id": "52736c16-9268-44a5-a183-436982175299"
      },
      "source": [
        "### 性別"
      ]
    },
    {
      "cell_type": "code",
      "execution_count": null,
      "id": "00ca4c94-9b44-4ca9-ac14-a1760ca88603",
      "metadata": {
        "id": "00ca4c94-9b44-4ca9-ac14-a1760ca88603"
      },
      "outputs": [],
      "source": [
        "# 找尋性別跟生存之間的關係\n"
      ]
    },
    {
      "cell_type": "code",
      "execution_count": null,
      "id": "601fa14e-0299-48d7-9928-febfdb1cc771",
      "metadata": {
        "id": "601fa14e-0299-48d7-9928-febfdb1cc771"
      },
      "outputs": [],
      "source": [
        "# 同時找尋船票等級、性別與生存之間的關係\n"
      ]
    },
    {
      "cell_type": "markdown",
      "id": "72afe440-6a09-4874-9585-9548c1c8fe77",
      "metadata": {
        "id": "72afe440-6a09-4874-9585-9548c1c8fe77"
      },
      "source": [
        "### 年齡"
      ]
    },
    {
      "cell_type": "code",
      "execution_count": null,
      "id": "f17ac17f-a86b-4db8-951f-7c99dc70f7dd",
      "metadata": {
        "id": "f17ac17f-a86b-4db8-951f-7c99dc70f7dd"
      },
      "outputs": [],
      "source": [
        "# 同時找尋年紀跟生存之間的關係\n"
      ]
    },
    {
      "cell_type": "code",
      "execution_count": null,
      "id": "b69231b1-4d05-442e-8f94-018614e2b04c",
      "metadata": {
        "id": "b69231b1-4d05-442e-8f94-018614e2b04c"
      },
      "outputs": [],
      "source": [
        "# 將年紀分區成 未滿18歲(未成年) , 18~45歲(青年), 45~65歲(中年), 65歲以上(老年)\n",
        "# 並記錄在一個 \"年齡層\" 的新欄位中\n"
      ]
    },
    {
      "cell_type": "code",
      "execution_count": null,
      "id": "a054549e-86b4-432c-9ff3-05bf1f30dd97",
      "metadata": {
        "id": "a054549e-86b4-432c-9ff3-05bf1f30dd97"
      },
      "outputs": [],
      "source": [
        "# 分別計算 四個年齡層的 生存率\n"
      ]
    },
    {
      "cell_type": "code",
      "execution_count": null,
      "id": "7e7200e9-06c6-4aea-9a46-447fc0d63f59",
      "metadata": {
        "id": "7e7200e9-06c6-4aea-9a46-447fc0d63f59"
      },
      "outputs": [],
      "source": [
        "# 分別計算 四個年齡層的 生存率，同時加入 性別的區分\n"
      ]
    },
    {
      "cell_type": "code",
      "execution_count": null,
      "id": "92c5a75a-062a-4045-baa3-105d0c03d37c",
      "metadata": {
        "id": "92c5a75a-062a-4045-baa3-105d0c03d37c"
      },
      "outputs": [],
      "source": []
    },
    {
      "cell_type": "markdown",
      "id": "8f1f8a58-228c-402f-a70e-1a1aab74adac",
      "metadata": {
        "id": "8f1f8a58-228c-402f-a70e-1a1aab74adac"
      },
      "source": [
        "### 親屬數目\n",
        "作業"
      ]
    },
    {
      "cell_type": "code",
      "execution_count": null,
      "id": "f8030b0c-baed-4601-a1cc-5133bdf59b08",
      "metadata": {
        "id": "f8030b0c-baed-4601-a1cc-5133bdf59b08"
      },
      "outputs": [],
      "source": []
    },
    {
      "cell_type": "markdown",
      "id": "d5e9e514-8b11-45ac-bc9a-5946dad63083",
      "metadata": {
        "id": "d5e9e514-8b11-45ac-bc9a-5946dad63083"
      },
      "source": [
        "### 船票價格\n",
        "作業"
      ]
    },
    {
      "cell_type": "code",
      "execution_count": null,
      "id": "8e2279f5-bc9b-4fcf-bc29-b87ef02d0383",
      "metadata": {
        "id": "8e2279f5-bc9b-4fcf-bc29-b87ef02d0383"
      },
      "outputs": [],
      "source": []
    },
    {
      "cell_type": "markdown",
      "id": "eb644d7c-aabc-4c2a-b302-0f3e834b75cd",
      "metadata": {
        "id": "eb644d7c-aabc-4c2a-b302-0f3e834b75cd"
      },
      "source": [
        "### 出發港口\n",
        "作業"
      ]
    },
    {
      "cell_type": "code",
      "execution_count": null,
      "id": "7d0699c6-d873-442e-b050-7fee7f711e7c",
      "metadata": {
        "id": "7d0699c6-d873-442e-b050-7fee7f711e7c"
      },
      "outputs": [],
      "source": []
    },
    {
      "cell_type": "markdown",
      "id": "9053f9bb-058e-4649-b6e8-1ea9116c73d8",
      "metadata": {
        "id": "9053f9bb-058e-4649-b6e8-1ea9116c73d8"
      },
      "source": [
        "### 姓名\n",
        "作業(加分題)"
      ]
    },
    {
      "cell_type": "code",
      "execution_count": null,
      "id": "8df6648a-497c-4ebe-a8d1-8d611739193a",
      "metadata": {
        "id": "8df6648a-497c-4ebe-a8d1-8d611739193a"
      },
      "outputs": [],
      "source": []
    }
  ],
  "metadata": {
    "kernelspec": {
      "display_name": "Python 3 (ipykernel)",
      "language": "python",
      "name": "python3"
    },
    "language_info": {
      "codemirror_mode": {
        "name": "ipython",
        "version": 3
      },
      "file_extension": ".py",
      "mimetype": "text/x-python",
      "name": "python",
      "nbconvert_exporter": "python",
      "pygments_lexer": "ipython3",
      "version": "3.12.3"
    },
    "colab": {
      "provenance": [],
      "include_colab_link": true
    }
  },
  "nbformat": 4,
  "nbformat_minor": 5
}