{
  "nbformat": 4,
  "nbformat_minor": 0,
  "metadata": {
    "colab": {
      "provenance": [],
      "authorship_tag": "ABX9TyN7iCrgrcHUEoaMeyzswpFC",
      "include_colab_link": true
    },
    "kernelspec": {
      "name": "python3",
      "display_name": "Python 3"
    },
    "language_info": {
      "name": "python"
    }
  },
  "cells": [
    {
      "cell_type": "markdown",
      "metadata": {
        "id": "view-in-github",
        "colab_type": "text"
      },
      "source": [
        "<a href=\"https://colab.research.google.com/github/ldsAS/Tibame-AI-Learning/blob/main/Tibame01.ipynb\" target=\"_parent\"><img src=\"https://colab.research.google.com/assets/colab-badge.svg\" alt=\"Open In Colab\"/></a>"
      ]
    },
    {
      "cell_type": "code",
      "execution_count": null,
      "metadata": {
        "id": "LjjEx7KgVMqF"
      },
      "outputs": [],
      "source": []
    },
    {
      "cell_type": "code",
      "source": [
        "---\n",
        "colab:python工具(jupyter notebook)，ipynb作為結尾\n",
        "---"
      ],
      "metadata": {
        "id": "gkNMKZRwWZek"
      },
      "execution_count": null,
      "outputs": []
    },
    {
      "cell_type": "markdown",
      "source": [
        "latex(數學)語法\n",
        "\n",
        "$ sum = \\sum_{i=1}^{10} \\frac{i}{2} $"
      ],
      "metadata": {
        "id": "tSdRi7WPOKRK"
      }
    },
    {
      "cell_type": "code",
      "source": [
        "註解：# xxx\n",
        "功能(function): print(xxx)\n",
        "  * 沒有參數： xxx()\n",
        "不要重覆寫\n",
        "="
      ],
      "metadata": {
        "id": "Su430dZ_esf9"
      },
      "execution_count": null,
      "outputs": []
    },
    {
      "cell_type": "code",
      "source": [
        "# caloric = protein * 4 + fat * 9 + carbon * 4\n",
        "protein = float(input(\"你今天吃多少蛋白質：\"))\n",
        "fat = float(input(\"你今天吃多少脂肪：\"))\n",
        "carbon = float(input(\"你今天吃多少碳水化合物：\"))\n",
        "caloric = protein * 4 + fat * 9 + carbon * 4\n",
        "print(\"蛋白質：\" + str(protein))\n",
        "print(\"脂肪：\" + str(fat))\n",
        "print(\"碳水化合物\" + str(carbon))\n",
        "print(\"總卡路里：\" + str(caloric))\n",
        "total_caloric = 2200"
      ],
      "metadata": {
        "colab": {
          "base_uri": "https://localhost:8080/"
        },
        "id": "ZbtFu1XXiv9W",
        "outputId": "9a07c3c1-d63f-4a0c-ce22-b24564debe92"
      },
      "execution_count": null,
      "outputs": [
        {
          "output_type": "stream",
          "name": "stdout",
          "text": [
            "你今天吃多少蛋白質：10\n",
            "你今天吃多少脂肪：20\n",
            "你今天吃多少碳水化合物：30\n",
            "蛋白質：10.0\n",
            "脂肪：20.0\n",
            "碳水化合物30.0\n",
            "總卡路里：340.0\n"
          ]
        }
      ]
    },
    {
      "cell_type": "code",
      "source": [
        "# 型態(type)\n",
        "# 整數(int)，小數(float)\n",
        "# 字串(str)，記得使用\"\"把文字括起來\n",
        "# 型態轉換 srt() int() float()\n",
        "# input(參數字串)\n",
        "# 如果否則(if else)"
      ],
      "metadata": {
        "id": "teXXH3pAm0qu"
      },
      "execution_count": null,
      "outputs": []
    },
    {
      "cell_type": "code",
      "source": [
        "total_caloric = 2200\n",
        "if caloric >= total_caloric:\n",
        "  print(\"吃夠了\")\n",
        "else:\n",
        "  print(\"\")\n",
        "print(\"!!!\")"
      ],
      "metadata": {
        "colab": {
          "base_uri": "https://localhost:8080/"
        },
        "id": "f7CmNL9xsL7W",
        "outputId": "fffad540-4bc8-457d-8078-2d5b2cd62792"
      },
      "execution_count": null,
      "outputs": [
        {
          "output_type": "stream",
          "name": "stdout",
          "text": [
            "\n",
            "!!!\n"
          ]
        }
      ]
    },
    {
      "cell_type": "code",
      "source": [
        "import random\n",
        "trans = [\"剪刀(0)\", \"石頭(0)\", \"布(0)\",\n",
        "         \"剪刀(1)\", \"石頭(1)\", \"布(1)\"]\n",
        "my = int(input(\"0-5\"))\n",
        "com = random.randint(0, 5)\n",
        "print(\"我出的\", trans[my])\n",
        "print(\"電腦出的\", trans[com])\n",
        "\n",
        "my_group = my // 3\n",
        "com_group = com // 3\n",
        "\n",
        "if my_group == com_group:\n",
        "  print(\"same group\")\n",
        "  my_mod = my % 3\n",
        "  com_mod = com % 3\n",
        "  if com_mod == (my_mod - 1) % 3:\n",
        "    print(\"我贏了\")\n",
        "  elif com_mod == (my_mod + 1) % 3:\n",
        "    print(\"我輸了\")\n",
        "  else:\n",
        "    print(\"平手\")\n",
        "else:\n",
        "  print(\"even(dif group)\")"
      ],
      "metadata": {
        "colab": {
          "base_uri": "https://localhost:8080/"
        },
        "id": "CbAxYgGQ3ZK0",
        "outputId": "a86ce426-c1b8-492e-a23c-847e15876a5c"
      },
      "execution_count": null,
      "outputs": [
        {
          "output_type": "stream",
          "name": "stdout",
          "text": [
            "0-54\n",
            "我出的 石頭(1)\n",
            "電腦出的 剪刀(1)\n",
            "same group\n",
            "我贏了\n"
          ]
        }
      ]
    },
    {
      "cell_type": "code",
      "source": [
        "s = \"apple\"\n",
        "s[0]\n"
      ],
      "metadata": {
        "colab": {
          "base_uri": "https://localhost:8080/",
          "height": 35
        },
        "id": "HL-gA21taG4g",
        "outputId": "89e84593-7556-4a63-cc4b-8db6dcb972ef"
      },
      "execution_count": null,
      "outputs": [
        {
          "output_type": "execute_result",
          "data": {
            "text/plain": [
              "'a'"
            ],
            "application/vnd.google.colaboratory.intrinsic+json": {
              "type": "string"
            }
          },
          "metadata": {},
          "execution_count": 33
        }
      ]
    },
    {
      "cell_type": "code",
      "source": [
        "l = [\n",
        "    [\"a\", \"b\", \"c\"],\n",
        "    [\"d\", \"e\", \"f\"],\n",
        "    [\"g\", \"h\", \"i\"]\n",
        "     ]\n",
        "l[2][1]"
      ],
      "metadata": {
        "colab": {
          "base_uri": "https://localhost:8080/",
          "height": 35
        },
        "id": "I_avuI9Jx5Ij",
        "outputId": "d2254c29-f424-446b-8e90-7329782f1ee4"
      },
      "execution_count": null,
      "outputs": [
        {
          "output_type": "execute_result",
          "data": {
            "text/plain": [
              "'h'"
            ],
            "application/vnd.google.colaboratory.intrinsic+json": {
              "type": "string"
            }
          },
          "metadata": {},
          "execution_count": 114
        }
      ]
    },
    {
      "cell_type": "code",
      "source": [
        "damages = [\n",
        "    [1, 1.5, 0.5],\n",
        "    [0.5, 1, 1.5],\n",
        "    [1.5, 0.5, 1]\n",
        "\n",
        "]\n",
        "my = 0\n",
        "com = 1\n",
        "trans = [\"Sabeer\", \"Lancer\", \"Archer\"]\n",
        "print(trans[my], \"打\", trans[com], \"傷害是:\", damages[my][com])"
      ],
      "metadata": {
        "colab": {
          "base_uri": "https://localhost:8080/"
        },
        "id": "kOMaWtjk0lfi",
        "outputId": "9cada3fc-aadf-4787-c262-22e2c72f60ef"
      },
      "execution_count": null,
      "outputs": [
        {
          "output_type": "stream",
          "name": "stdout",
          "text": [
            "Sabeer 打 Lancer 傷害是: 1.5\n"
          ]
        }
      ]
    }
  ]
}