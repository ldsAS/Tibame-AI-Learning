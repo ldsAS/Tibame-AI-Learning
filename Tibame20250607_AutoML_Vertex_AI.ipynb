{
  "nbformat": 4,
  "nbformat_minor": 0,
  "metadata": {
    "colab": {
      "provenance": [],
      "authorship_tag": "ABX9TyOs+ESt1MvSfV3UF5h37wxQ",
      "include_colab_link": true
    },
    "kernelspec": {
      "name": "python3",
      "display_name": "Python 3"
    },
    "language_info": {
      "name": "python"
    }
  },
  "cells": [
    {
      "cell_type": "markdown",
      "metadata": {
        "id": "view-in-github",
        "colab_type": "text"
      },
      "source": [
        "<a href=\"https://colab.research.google.com/github/ldsAS/Tibame-AI-Learning/blob/main/Tibame20250607_AutoML_Vertex_AI.ipynb\" target=\"_parent\"><img src=\"https://colab.research.google.com/assets/colab-badge.svg\" alt=\"Open In Colab\"/></a>"
      ]
    },
    {
      "cell_type": "code",
      "execution_count": 2,
      "metadata": {
        "colab": {
          "base_uri": "https://localhost:8080/"
        },
        "id": "4lygwgsAVwY_",
        "outputId": "97d34965-bafa-4735-90f0-a91e1ac8927f"
      },
      "outputs": [
        {
          "output_type": "stream",
          "name": "stdout",
          "text": [
            "\u001b[?25l   \u001b[90m━━━━━━━━━━━━━━━━━━━━━━━━━━━━━━━━━━━━━━━━\u001b[0m \u001b[32m0.0/7.7 MB\u001b[0m \u001b[31m?\u001b[0m eta \u001b[36m-:--:--\u001b[0m\r\u001b[2K   \u001b[91m━\u001b[0m\u001b[90m╺\u001b[0m\u001b[90m━━━━━━━━━━━━━━━━━━━━━━━━━━━━━━━━━━━━━━\u001b[0m \u001b[32m0.2/7.7 MB\u001b[0m \u001b[31m6.0 MB/s\u001b[0m eta \u001b[36m0:00:02\u001b[0m\r\u001b[2K   \u001b[91m━━━━━━\u001b[0m\u001b[90m╺\u001b[0m\u001b[90m━━━━━━━━━━━━━━━━━━━━━━━━━━━━━━━━━\u001b[0m \u001b[32m1.2/7.7 MB\u001b[0m \u001b[31m17.7 MB/s\u001b[0m eta \u001b[36m0:00:01\u001b[0m\r\u001b[2K   \u001b[91m━━━━━━━━━━━━━━━━━━━━━━━━\u001b[0m\u001b[91m╸\u001b[0m\u001b[90m━━━━━━━━━━━━━━━\u001b[0m \u001b[32m4.7/7.7 MB\u001b[0m \u001b[31m45.0 MB/s\u001b[0m eta \u001b[36m0:00:01\u001b[0m\r\u001b[2K   \u001b[91m━━━━━━━━━━━━━━━━━━━━━━━━━━━━━━━━━━━━━━━\u001b[0m\u001b[91m╸\u001b[0m \u001b[32m7.7/7.7 MB\u001b[0m \u001b[31m59.8 MB/s\u001b[0m eta \u001b[36m0:00:01\u001b[0m\r\u001b[2K   \u001b[90m━━━━━━━━━━━━━━━━━━━━━━━━━━━━━━━━━━━━━━━━\u001b[0m \u001b[32m7.7/7.7 MB\u001b[0m \u001b[31m46.6 MB/s\u001b[0m eta \u001b[36m0:00:00\u001b[0m\n",
            "\u001b[?25h"
          ]
        }
      ],
      "source": [
        "  # 在Python程式檔案中，安裝對應的SDK套件\n",
        "  !pip3 install --upgrade --quiet google-cloud-aiplatform"
      ]
    },
    {
      "cell_type": "code",
      "source": [
        "# 在Python程式檔案中，導入SDK套件及服務帳戶金鑰及變數\n",
        "import urllib\n",
        "import os\n",
        "from google.cloud import aiplatform, bigquery\n",
        "from typing import Dict\n",
        "\n",
        "# 設置 Google Cloud 認證\n",
        "os.environ['GOOGLE_APPLICATION_CREDENTIALS']=r\"/content/tibame-gad251-31-0606-f47ab06f191d.json\" # 金鑰\n",
        "\n",
        "# 端點清單找到API欄位>>>要求範例\n",
        "project=\"495087694199\"\n",
        "endpoint_id=\"6626233213071130624\"\n",
        "location=\"us-east1\"\n",
        "\n",
        "instance_dict=[{ \"age\": \"80\", \"workclass\": \"private\",\"marital_status\":\"Married-civ-spouse\",\"education_num\":\"10\",\"occupation\":\"Prof-specialty\",\"hours_per_week\":\"40\"}]\n"
      ],
      "metadata": {
        "id": "kD-HU8wXapeo"
      },
      "execution_count": 15,
      "outputs": []
    },
    {
      "cell_type": "code",
      "source": [
        "# 在Python程式檔案中，建立預測查詢Function\n",
        "def predict_tabular_classification_sample(\n",
        "    project=project,\n",
        "    endpoint_id=endpoint_id,\n",
        "    location=location,\n",
        "    instance_dict=instance_dict,\n",
        "\n",
        "):\n",
        "  aiplatform.init(project=project, location=location)\n",
        "\n",
        "  endpoint = aiplatform.Endpoint(endpoint_id)\n",
        "\n",
        "  response = endpoint.predict(instances=instance_dict)\n",
        "\n",
        "  for prediction_ in response.predictions:\n",
        "    print(prediction_)\n"
      ],
      "metadata": {
        "id": "7HD2g2j-as1l"
      },
      "execution_count": 11,
      "outputs": []
    },
    {
      "cell_type": "code",
      "source": [
        "# 在Python程式檔案中，使用預測查詢Function\n",
        "predict_tabular_classification_sample()"
      ],
      "metadata": {
        "colab": {
          "base_uri": "https://localhost:8080/"
        },
        "id": "HEHSGrSnaw3Y",
        "outputId": "c44adb8a-b4f9-482b-f254-4cbaa568afe2"
      },
      "execution_count": 12,
      "outputs": [
        {
          "output_type": "stream",
          "name": "stdout",
          "text": [
            "{'classes': [' <=50K', ' >50K'], 'scores': [0.5354880690574646, 0.4645118713378906]}\n"
          ]
        }
      ]
    },
    {
      "cell_type": "code",
      "source": [
        "# 在Python程式檔案中，建立特徵解釋預測查詢Function\n",
        "def explain_sample(project=project, location=location, endpoint_id=endpoint_id, instance_dict=instance_dict):\n",
        "\n",
        "    aiplatform.init(project=project, location=location)\n",
        "\n",
        "    endpoint = aiplatform.Endpoint(endpoint_id)\n",
        "\n",
        "    # The instance_dict is already a list containing the instance data.\n",
        "    # Removing the extra brackets to pass the instance_dict directly.\n",
        "    response = endpoint.explain(instances=instance_dict, parameters={})\n",
        "\n",
        "    for explanation in response.explanations:\n",
        "        print(\" explanation\")\n",
        "        # Feature attributions.\n",
        "        attributions = explanation.attributions\n",
        "        for attribution in attributions:\n",
        "            print(\"  attribution\")\n",
        "            print(\"   baseline_output_value:\", attribution.baseline_output_value)\n",
        "            print(\"   instance_output_value:\", attribution.instance_output_value)\n",
        "            print(\"   output_display_name:\", attribution.output_display_name)\n",
        "            print(\"   approximation_error:\", attribution.approximation_error)\n",
        "            print(\"   output_name:\", attribution.output_name)\n",
        "            output_index = attribution.output_index\n",
        "            for output_index in output_index:\n",
        "                print(\"   output_index:\", output_index)\n",
        "\n",
        "    for prediction in response.predictions:\n",
        "        print(prediction)\n"
      ],
      "metadata": {
        "id": "C3O5jCUua0tO"
      },
      "execution_count": 13,
      "outputs": []
    },
    {
      "cell_type": "code",
      "source": [
        "# 在Python程式檔案中，使用特徵解釋預測查詢Function\n",
        "explain_sample()"
      ],
      "metadata": {
        "colab": {
          "base_uri": "https://localhost:8080/"
        },
        "id": "n2zqSfIca1j6",
        "outputId": "3f735b10-75f1-4419-ab84-3997e228655e"
      },
      "execution_count": 14,
      "outputs": [
        {
          "output_type": "stream",
          "name": "stdout",
          "text": [
            " explanation\n",
            "  attribution\n",
            "   baseline_output_value: 0.4138794541358948\n",
            "   instance_output_value: 0.5354880690574646\n",
            "   output_display_name:  <=50K\n",
            "   approximation_error: 0.0\n",
            "   output_name: scores\n",
            "   output_index: 0\n",
            "{'classes': [' <=50K', ' >50K'], 'scores': [0.5354880690574646, 0.4645118713378906]}\n"
          ]
        }
      ]
    },
    {
      "cell_type": "code",
      "source": [],
      "metadata": {
        "id": "Gw9tRNOKa31J"
      },
      "execution_count": null,
      "outputs": []
    }
  ]
}